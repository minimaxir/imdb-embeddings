{
 "cells": [
  {
   "cell_type": "markdown",
   "metadata": {
    "id": "IBoA95H1t0ak",
    "tags": []
   },
   "source": [
    "# Setup\n",
    "\n",
    "`flash_attn` is very slow to build, so use a precompiled wheel. Replace the PyTorch version and Python version as necessary."
   ]
  },
  {
   "cell_type": "code",
   "execution_count": 1,
   "metadata": {
    "tags": []
   },
   "outputs": [],
   "source": [
    "# !uv pip install polars transformers einops torch accelerate\n",
    "# !pip install https://github.com/Dao-AILab/flash-attention/releases/download/v2.7.4.post1/flash_attn-2.7.4.post1+cu12torch2.6cxx11abiTRUE-cp310-cp310-linux_x86_64.whl"
   ]
  },
  {
   "cell_type": "code",
   "execution_count": 2,
   "metadata": {
    "id": "HbIaFGdmrLQc",
    "tags": []
   },
   "outputs": [],
   "source": [
    "# For Colab\n",
    "\n",
    "# from google.colab import auth\n",
    "# auth.authenticate_user()"
   ]
  },
  {
   "cell_type": "markdown",
   "metadata": {
    "id": "nN_Occ0-rL8A"
   },
   "source": [
    "Private bucket that contains the preprocessed JSON parquet: Replace with your own."
   ]
  },
  {
   "cell_type": "code",
   "execution_count": 1,
   "metadata": {
    "id": "zuLydBkwo_67",
    "tags": []
   },
   "outputs": [],
   "source": [
    "import transformers\n",
    "import polars as pl\n",
    "import os\n",
    "import torch\n",
    "from tqdm import tqdm\n",
    "\n",
    "import torch.nn.functional as F\n",
    "from transformers import AutoModel, AutoTokenizer"
   ]
  },
  {
   "cell_type": "code",
   "execution_count": 2,
   "metadata": {
    "colab": {
     "base_uri": "https://localhost:8080/",
     "height": 438
    },
    "id": "Y0uXWKKtrkm4",
    "outputId": "d7d44124-f38a-42b4-a316-2eec26d3078d",
    "tags": []
   },
   "outputs": [
    {
     "data": {
      "text/html": [
       "<div><style>\n",
       ".dataframe > thead > tr,\n",
       ".dataframe > tbody > tr {\n",
       "  text-align: right;\n",
       "  white-space: pre-wrap;\n",
       "}\n",
       "</style>\n",
       "<small>shape: (242_552, 5)</small><table border=\"1\" class=\"dataframe\"><thead><tr><th>tconst</th><th>startYear</th><th>numVotes</th><th>averageRating</th><th>json</th></tr><tr><td>str</td><td>i64</td><td>i64</td><td>f64</td><td>str</td></tr></thead><tbody><tr><td>&quot;tt2147199&quot;</td><td>2011</td><td>193</td><td>6.4</td><td>&quot;{\n",
       "&nbsp;&nbsp;&quot;title&quot;: &quot;The Gathering! 2…</td></tr><tr><td>&quot;tt16287710&quot;</td><td>2024</td><td>93</td><td>5.8</td><td>&quot;{\n",
       "&nbsp;&nbsp;&quot;title&quot;: &quot;Crypto Shadows&quot;,…</td></tr><tr><td>&quot;tt0050919&quot;</td><td>1957</td><td>633</td><td>7.9</td><td>&quot;{\n",
       "&nbsp;&nbsp;&quot;title&quot;: &quot;Rio, Zona Norte&quot;…</td></tr><tr><td>&quot;tt10262346&quot;</td><td>2019</td><td>44</td><td>5.2</td><td>&quot;{\n",
       "&nbsp;&nbsp;&quot;title&quot;: &quot;Pitkä perjantai&quot;…</td></tr><tr><td>&quot;tt0057525&quot;</td><td>1963</td><td>545</td><td>7.9</td><td>&quot;{\n",
       "&nbsp;&nbsp;&quot;title&quot;: &quot;Mountain of Fear…</td></tr><tr><td>&hellip;</td><td>&hellip;</td><td>&hellip;</td><td>&hellip;</td><td>&hellip;</td></tr><tr><td>&quot;tt3982768&quot;</td><td>2016</td><td>83</td><td>4.9</td><td>&quot;{\n",
       "&nbsp;&nbsp;&quot;title&quot;: &quot;Revenge&quot;,\n",
       "&nbsp;&nbsp;&quot;gen…</td></tr><tr><td>&quot;tt0480765&quot;</td><td>2004</td><td>42</td><td>7.5</td><td>&quot;{\n",
       "&nbsp;&nbsp;&quot;title&quot;: &quot;The Making of &#x27;t…</td></tr><tr><td>&quot;tt2118609&quot;</td><td>2012</td><td>117</td><td>7.5</td><td>&quot;{\n",
       "&nbsp;&nbsp;&quot;title&quot;: &quot;Death Metal Ango…</td></tr><tr><td>&quot;tt2051941&quot;</td><td>2011</td><td>4802</td><td>7.0</td><td>&quot;{\n",
       "&nbsp;&nbsp;&quot;title&quot;: &quot;Men in Hope&quot;,\n",
       "&nbsp;&nbsp;…</td></tr><tr><td>&quot;tt3740090&quot;</td><td>2014</td><td>107</td><td>5.0</td><td>&quot;{\n",
       "&nbsp;&nbsp;&quot;title&quot;: &quot;Aindhaam Thalaim…</td></tr></tbody></table></div>"
      ],
      "text/plain": [
       "shape: (242_552, 5)\n",
       "┌────────────┬───────────┬──────────┬───────────────┬───────────────────────────────┐\n",
       "│ tconst     ┆ startYear ┆ numVotes ┆ averageRating ┆ json                          │\n",
       "│ ---        ┆ ---       ┆ ---      ┆ ---           ┆ ---                           │\n",
       "│ str        ┆ i64       ┆ i64      ┆ f64           ┆ str                           │\n",
       "╞════════════╪═══════════╪══════════╪═══════════════╪═══════════════════════════════╡\n",
       "│ tt2147199  ┆ 2011      ┆ 193      ┆ 6.4           ┆ {                             │\n",
       "│            ┆           ┆          ┆               ┆   \"title\": \"The Gathering! 2… │\n",
       "│ tt16287710 ┆ 2024      ┆ 93       ┆ 5.8           ┆ {                             │\n",
       "│            ┆           ┆          ┆               ┆   \"title\": \"Crypto Shadows\",… │\n",
       "│ tt0050919  ┆ 1957      ┆ 633      ┆ 7.9           ┆ {                             │\n",
       "│            ┆           ┆          ┆               ┆   \"title\": \"Rio, Zona Norte\"… │\n",
       "│ tt10262346 ┆ 2019      ┆ 44       ┆ 5.2           ┆ {                             │\n",
       "│            ┆           ┆          ┆               ┆   \"title\": \"Pitkä perjantai\"… │\n",
       "│ tt0057525  ┆ 1963      ┆ 545      ┆ 7.9           ┆ {                             │\n",
       "│            ┆           ┆          ┆               ┆   \"title\": \"Mountain of Fear… │\n",
       "│ …          ┆ …         ┆ …        ┆ …             ┆ …                             │\n",
       "│ tt3982768  ┆ 2016      ┆ 83       ┆ 4.9           ┆ {                             │\n",
       "│            ┆           ┆          ┆               ┆   \"title\": \"Revenge\",         │\n",
       "│            ┆           ┆          ┆               ┆   \"gen…                       │\n",
       "│ tt0480765  ┆ 2004      ┆ 42       ┆ 7.5           ┆ {                             │\n",
       "│            ┆           ┆          ┆               ┆   \"title\": \"The Making of 't… │\n",
       "│ tt2118609  ┆ 2012      ┆ 117      ┆ 7.5           ┆ {                             │\n",
       "│            ┆           ┆          ┆               ┆   \"title\": \"Death Metal Ango… │\n",
       "│ tt2051941  ┆ 2011      ┆ 4802     ┆ 7.0           ┆ {                             │\n",
       "│            ┆           ┆          ┆               ┆   \"title\": \"Men in Hope\",     │\n",
       "│            ┆           ┆          ┆               ┆   …                           │\n",
       "│ tt3740090  ┆ 2014      ┆ 107      ┆ 5.0           ┆ {                             │\n",
       "│            ┆           ┆          ┆               ┆   \"title\": \"Aindhaam Thalaim… │\n",
       "└────────────┴───────────┴──────────┴───────────────┴───────────────────────────────┘"
      ]
     },
     "execution_count": 2,
     "metadata": {},
     "output_type": "execute_result"
    }
   ],
   "source": [
    "df = pl.read_parquet(\"test_movie_json_input.parquet\")\n",
    "df = df.sample(fraction=1.0, shuffle=True, seed=42)\n",
    "df"
   ]
  },
  {
   "cell_type": "code",
   "execution_count": 3,
   "metadata": {
    "colab": {
     "base_uri": "https://localhost:8080/",
     "height": 974,
     "referenced_widgets": [
      "ac287c47bb77424d81627537a2721fe6",
      "d3f3986ad05443de93dedf35377f0afa",
      "c5cfcfdc7df84289bee90e934673f508",
      "5191611399344b55b80d2a98027f75aa",
      "3ec459deb03348238379edaedd216e7d",
      "76276f3c74fe42a78f32eb632965777e",
      "828ca337ac8c4fc9b53eda005946383c",
      "f75fc48429664a809bfe2fc0ddd86315",
      "c336ac21b053407ab124732d3efaf2bb",
      "3011dd80a98c440a94c282ed87e21706",
      "19337b8b91e34162a8ef70342383447d",
      "2412b27b7559460eac462dc9b8949f17",
      "7e0433069a8d4282a5a42c2accf8f105",
      "285b3485d7fe47548545f5c1bc6bd428",
      "5e1b60a6347d461f81700b9dcaa13c2a",
      "8bc65714bb2c4b83a4d5b56fe4f8ea59",
      "ffa99cc7eecd4456aa67ecd211fe8e31",
      "1f61d9eeaa604388852e72f223a7ca08",
      "f0892b3dc6ea496c90c38e15ef343a20",
      "7aead05f0d204ca8ba36e77a67c673cf",
      "3e05a940c6c646469e81c269df91e34b",
      "e5e7f618e017406fab7f88cd71c4bd18",
      "aacd430d387c474586b9dd0ca3862002",
      "12506be978784940aeb6071608c13d3b",
      "c44ddc68ac714de3a79cffd3791395b8",
      "6cd077e88fc440ae911f55b23ab92f92",
      "96cac8837dc64f19b707f6ba9fc2555f",
      "9281663bdded408ebc7cd0f856ee52d3",
      "e959845c6b684998bd1a79abca706d2e",
      "93f8045f486d47158c5608fcee74beae",
      "0deb7e976f7047d0b3c985697ed0c297",
      "90b4291aa8e44fa186ce7585ed924fa0",
      "c7ae825dd79446078ad2d9ee619cf5e3",
      "31c64daea60344388f3a210c05448c3f",
      "4b8c577432c946cf849c0ad4b9e4697d",
      "6d926b2461744d64bb7cbcdc9ad901a7",
      "6284a22feb8f49adb32f7723c1faba42",
      "fb21cf22cd584e1cadd3ac04c6219c48",
      "dc246704d0994f928442f6967fb97733",
      "e426ef99b48c44e1a7d873929d42d21a",
      "15c9d93bd7a64eafb52ff136247ba9d0",
      "734fc9a9d0aa4711b6266c77714c9d4f",
      "4275d8490cca4137b1d2406fb55afe10",
      "7a508463a7794ddd8f6ed74f2fc9cf49",
      "5de7e3a38b514d1185e8cd9c67aa656c",
      "3edb4ca44d8b4f8e95da5af38638d29e",
      "c0162da96af64f6997b3fac4d0ed995a",
      "892d075898814057b99972a7d61771bd",
      "0c56ad13b31d4d9784190b481f7d40f5",
      "1a5aba6302bc423d8a6ba9d69bb3fc46",
      "4546608aa0bb482495f61ba94cf4ac64",
      "f0313926d6f3454095fa2699e1b23275",
      "f2d1f469ec294fb4ba983fa05f6c696f",
      "7f261e57db1540bda6f41b373d0b18c2",
      "2968edeecc894181a9ded6dc5ea6b902",
      "313991ae93d7421ba007dbc8641565ff",
      "4f1d9f2bdde54819a5da87d9210987e1",
      "1248db3b660e4ae2b74f3bf01658731b",
      "b32fde064a1e4a1d94b02fc2b7c9fa98",
      "86f73600492741cfb60f7be462a371ab",
      "0820b453ca91411090bbfdddbb0e2d30",
      "c6d00b68bd0c4ba8b8d4a9edb42ead2a",
      "b7fb9ca235874018b13dcd29c37e2075",
      "4ab2ea1bd5f94a249315055ef715bbbb",
      "aec90357b6134e9388c0655dbe6c339d",
      "15ad9d9c3ebe4e11b2d7e5fad1a52158",
      "2044d8b5764f4285966e54f47d8762c6",
      "514e90331c95446d8e8e53d674e2157e",
      "596895f80ffb4609af3508eaeccbcdf1",
      "70872f2f70394772a8287f31f9f1d55d",
      "6b9b9da196b14752a55b005ec08d2f74",
      "2149ce64f81b448fb94339c22576ddf8",
      "08e66427455244a19b828f7d1989b5c2",
      "16710373b6744cc08a514b9ba0d79bd6",
      "a917ab188eec41deb253a3911283b9d6",
      "553114de6a4f4c6fbedc3216364d3fa9",
      "ad85ca92adc849288e6d229166824bae",
      "7c5682d32b314071afab530e1a33b781",
      "982cb7e609104be9aa36d4814754decd",
      "55a0de22719840889a019e7d69a32a0f",
      "ff598db22c11421cb33ba7aa2716e475",
      "5f25c8642a3f44cf9a6d6166588d37f9",
      "c5a0111ca6924c7b9c25a6fe5fb7147d",
      "780eeed4e285454ba873e13c26396347",
      "d6e596c0bd3c4a0dbfb6fcafa00242f8",
      "c02ec07ab83c409fab082ab5b537dfe5",
      "c95400a5c4c242afb56451f535f6218b",
      "b24dc2bf1858496a9959f32260fd9139",
      "b33cef9556f440f1a09a5a405f81d192",
      "38413b2db8bb4be3abc7aebb1741263e",
      "a6376b5b5ff04784b2031f1d17e6a420",
      "8071de94b5ba47d7ac708f633fe25aef",
      "0ccad9cb93b44af292bad2f8b4435d07",
      "3a3046831de84e768a3162e7580ed808",
      "7f55d6118d18465e827f41d581854ae6",
      "f2ff04a56ab94c3693eb9a2d2c4f9f96",
      "efc0e61fef2942ec8979ead534cde719",
      "9842842cdb3244a286b187778ae2d09d",
      "c736aa6ccc0b4db4865ab55757ccd70c",
      "7efa40cbe3c54c7dbdd28c51fb41c860",
      "4a284cc5f1e2423985be2c53b446ead5",
      "49224ccf09be4d29a8d7bf8ed19ec805",
      "4bb3530fd57a40adb22587d52b9a3940",
      "ba3943dfe7d040709e957711ee0c1ad2",
      "29a2ccd95b16464d986b8e90510887f0",
      "8bde13f4656545deb73ae3254eac7392",
      "c290a055063b4ab8bd09a988efc09764",
      "8bc94157cd6e4fb09b4775998a91e50a",
      "0c9ab8082e394b498e3eef0aea2171c5",
      "8cbf95581607485b8cae0eb3efc9e8f8",
      "2fc2fcc2c6aa438caf8933d53ce76fe4",
      "b890182a4423474ca6631007474ac32b",
      "0c041f3e9d324894838e27c8fe55d713",
      "71d1daf4aab94ee0a9f7973accf5ee5d",
      "fc2df20b44bb4b6f9c4bebb50ae79c86",
      "a676590180cb405a9a679305af8396a9",
      "ce3d2b4d38c74ed193e1549a6253ade1",
      "3777ae4f3daa4fd7ac931b0475bc018e",
      "ffe6fe890b77484d8934e5777ff586c1",
      "a1a42a6a407f4bb9b71a5e67400d720a",
      "0e93694be89a4c4988e830a6d617a97c",
      "e674220afd4243c5bb4fd5b689342fb0",
      "cbca80788c6b4bc6b0af734fe1e1fe91",
      "3b0638772dd541fab86eb84604fbe189",
      "978fbe58befb43b18a00d2e560bb5d6c",
      "89bb93f2d5444d9ea1ed0ac8d1d1fcfd",
      "c8ecd45c60ef4edfab44d7fee1445b4b",
      "8eb91ba0a8954d038984c3c449ab29b8",
      "35432cda32c4480d8e31abd3b123494a",
      "591a7c851c994b30adfe9e6bf37b3944",
      "827be06a96c843f2bdc0f5f3ae8e5e5b",
      "612a3909af454b3ebb28c9cd810580e3",
      "8dfb3ca74d7e4a0bbd268f041d040d41",
      "c36ef2fe72cd4a5ea523fd6bca53b53d",
      "d7e0837a38f94348b448398c252acaf5",
      "a9767b2a2e9a415396c529d2e8f7ebc8",
      "3ebc2eeac87f4795a646e436fdfcf7e3",
      "f6bef60925034414a2f3ce15405acfe7",
      "59e011d46ffb478fbb8b92fed3ae7580",
      "a77689a42a784af78adcfb974f8137a1",
      "1dc86c1bc297436ab8f9fab832d91ffc",
      "c7c7d63f4ab145dcae447b49012c7605",
      "c34fff3e7e9d4ea4b5ecbcc604e20e25",
      "dff72ce99b4142afb9f954daf4c46f48",
      "13ea4140cf42432da5b327992d526f94",
      "ead37ef1e1074f8c8e2ffeeddfe3423e",
      "3179bceb946145aca1b18290d466505a",
      "bd88bb4a2bef4806b2156599b65156b4",
      "1d30728264fd478ea5454d34124f4e3e",
      "f9488532d21a4b01bf952822b107e7da",
      "0f088c8538df4468bd5f2b972ac38fa3",
      "f3b54f8a43534831be329dbf376ecac3",
      "35fa4f2476024a1fbeb965aa7e5a9270",
      "7ad98b69e1654e99be9b285ef5227316",
      "cac0b524da1e4d57a9765e35b3691b61",
      "d3461b2d5dd841afa5e91b48f3132587",
      "3c28c7ae91b54f9e99cde941227eac32",
      "4008c2dd75e64b639b8f42974934cde8",
      "cdb90ef762f7498598fe61db515fe4e2",
      "81055cc24dc34bc6af201d5f242693d3",
      "9985d041b49f40a4b9a64f9f8c7df15e",
      "d39b395032c64a5ebdc4ec492812e9fa",
      "dd5b23f7680f44a1b43bbd3f4be1dc43",
      "435f3bfff7ce499899916417b7fd9bbc",
      "5723fce807ce420ba92a1ed2608742de",
      "d9aecbbe8ed34be29ae886f7848a7647",
      "41133c774b464fe59ff60a604806653f",
      "788525273394456381864b28ebc9ec99",
      "64ec9e323011404cbd20ae602a7f8602",
      "bef073813e9f49d09f95986f3cbfe4d8",
      "384fffe72f644376a3ff4a20bebcf7c6",
      "180bdb7a0a544bf9b349ce84fb4a8ea0",
      "dcd4f781ad1d4784adacfc588b650dd8",
      "6e7285f3f52e4f4697d295cb6322793f",
      "054eaa6208484e278dac014800911ed3",
      "1602767cf36f48368cbbdb55650aceb4"
     ]
    },
    "id": "Dp9l3318o_68",
    "outputId": "2ac89706-f77d-4e55-84cc-f09714e2a17a",
    "tags": []
   },
   "outputs": [
    {
     "data": {
      "application/vnd.jupyter.widget-view+json": {
       "model_id": "da1d31d9c3e94abf9247c6a510638528",
       "version_major": 2,
       "version_minor": 0
      },
      "text/plain": [
       "model.safetensors:   0%|          | 0.00/298M [00:00<?, ?B/s]"
      ]
     },
     "metadata": {},
     "output_type": "display_data"
    },
    {
     "name": "stderr",
     "output_type": "stream",
     "text": [
      "You are attempting to use Flash Attention 2.0 with a model not initialized on GPU. Make sure to move the model to GPU after initializing it on CPU with `model.to('cuda')`.\n"
     ]
    }
   ],
   "source": [
    "model_path = \"Alibaba-NLP/gte-modernbert-base\"\n",
    "device = \"cuda:0\"\n",
    "\n",
    "tokenizer = AutoTokenizer.from_pretrained(model_path)\n",
    "model = AutoModel.from_pretrained(model_path)\n",
    "_ = model.to(device)\n",
    "\n",
    "torch.set_float32_matmul_precision('high')"
   ]
  },
  {
   "cell_type": "code",
   "execution_count": 4,
   "metadata": {
    "colab": {
     "base_uri": "https://localhost:8080/"
    },
    "id": "ZBCsbpCBo_69",
    "outputId": "e1b7a9fd-6db0-441f-dd1c-daad7a110a5b",
    "tags": []
   },
   "outputs": [
    {
     "name": "stdout",
     "output_type": "stream",
     "text": [
      "{\n",
      "  \"title\": \"The Gathering! 2\",\n",
      "  \"genres\": [\n",
      "    \"Comedy\",\n",
      "    \"Drama\"\n",
      "  ],\n",
      "  \"is_adult\": false,\n",
      "  \"release_year\": 2011,\n",
      "  \"runtime_minutes\": 119,\n",
      "  \"directors\": [\n",
      "    \"Nia Di Nata\"\n",
      "  ],\n",
      "  \"writers\": [\n",
      "    \"Nia Di Nata\"\n",
      "  ],\n",
      "  \"producers\": [\n",
      "    \"Nia Di Nata\"\n",
      "  ],\n",
      "  \"actors\": [\n",
      "    \"Cut Mini Theo\",\n",
      "    \"Tora Sudiro\",\n",
      "    \"Surya Saputra\",\n",
      "    \"Aida Nurmala\",\n",
      "    \"Rachel Maryam Sayidina\",\n",
      "    \"Atiqah Hasiholan\",\n",
      "    \"Rio Dewanto\",\n",
      "    \"Edward Gunawan\",\n",
      "    \"Adinia Wirasti\",\n",
      "    \"Keiko Marwan\"\n",
      "  ],\n",
      "  \"principals\": [\n",
      "    {\n",
      "      \"Mondo Gascaro\": \"composer\"\n",
      "    },\n",
      "    {\n",
      "      \"Bembi Gusti\": \"composer\"\n",
      "    },\n",
      "    {\n",
      "      \"Aghi Narottama\": \"composer\"\n",
      "    },\n",
      "    {\n",
      "      \"Yudi Datau\": \"cinematographer\"\n",
      "    },\n",
      "    {\n",
      "      \"Lucky Kuswandi\": \"editor\"\n",
      "    }\n",
      "  ]\n",
      "}\n"
     ]
    }
   ],
   "source": [
    "docs = df[\"json\"].to_list()\n",
    "\n",
    "print(docs[0])"
   ]
  },
  {
   "cell_type": "code",
   "execution_count": 5,
   "metadata": {
    "tags": []
   },
   "outputs": [
    {
     "data": {
      "text/plain": [
       "{'input_ids': tensor([[50281,    92,   187, 50276,     3,  5564,  1381,   346,   510,   443,\n",
       "         44627,     2,   374,   995,   187, 50276,     3,  1541,   373,  1381,\n",
       "           544,   187, 50274,     3,  2115,  6368,   995,   187, 50274,     3,\n",
       "          9034,  2902,     3,   187, 50276,  1092,   187, 50276,     3,   261,\n",
       "            64, 50006,  1381,  3221,    13,   187, 50276,     3, 16690,    64,\n",
       "          2913,  1381,  4332,    13,   187, 50276,     3, 21005,    64, 32117,\n",
       "          1381, 12035,    13,   187, 50276,     3, 18711,   641,  1381,   544,\n",
       "           187, 50274,     3,    47,   571,  6129,   427,   682,     3,   187,\n",
       "         50276,  1092,   187, 50276,     3, 34782,  1381,   544,   187, 50274,\n",
       "             3,    47,   571,  6129,   427,   682,     3,   187, 50276,  1092,\n",
       "           187, 50276,     3,  5551,  8964,  1381,   544,   187, 50274,     3,\n",
       "            47,   571,  6129,   427,   682,     3,   187, 50276,  1092,   187,\n",
       "         50276,     3, 46435,  1381,   544,   187, 50274,     3, 28512, 24244,\n",
       "         48511,   995,   187, 50274,     3,    53,  6464, 14893,  9401,   995,\n",
       "           187, 50274,     3,    52,  1626,    66,   322,   522,   307,   376,\n",
       "           995,   187, 50274,     3,    34,  4355,   427,   321,    78,  7080,\n",
       "           995,   187, 50274,     3,    51, 17470,  6393,   312, 21882,   301,\n",
       "          1758,   995,   187, 50274,     3,  3404, 29370,  1240, 14026,  6356,\n",
       "         24361,   995,   187, 50274,     3,    51,   900, 45797, 11780,   995,\n",
       "           187, 50274,     3, 44240, 22222,  1403,   266,   995,   187, 50274,\n",
       "             3,  3837, 41214, 41436, 41376,   995,   187, 50274,     3,  9499,\n",
       "         20592,  2398, 10320,     3,   187, 50276,  1092,   187, 50276,     3,\n",
       "         26985,   532,   932,  1381,   544,   187, 50274,    92,   187, 50272,\n",
       "             3,    46, 23863,   443,  4843, 15354,  1381,   346,   681, 38253,\n",
       "             3,   187, 50274,  2023,   187, 50274,    92,   187, 50272,     3,\n",
       "            35,   358,  4193, 33746,    74,  1381,   346,   681, 38253,     3,\n",
       "           187, 50274,  2023,   187, 50274,    92,   187, 50272,     3,  8903,\n",
       "          5801, 26417,  1519,  2902,  1381,   346,   681, 38253,     3,   187,\n",
       "         50274,  2023,   187, 50274,    92,   187, 50272,     3,    58, 36460,\n",
       "          5128,    86,  1381,   346,  5620, 14359, 25895,     3,   187, 50274,\n",
       "          2023,   187, 50274,    92,   187, 50272,     3,    45, 12202,   611,\n",
       "           316,    88, 38911,  1381,   346, 20511,     3,   187, 50274,    94,\n",
       "           187, 50276,    62,   187,    94, 50282]], device='cuda:0'), 'attention_mask': tensor([[1, 1, 1, 1, 1, 1, 1, 1, 1, 1, 1, 1, 1, 1, 1, 1, 1, 1, 1, 1, 1, 1, 1, 1,\n",
       "         1, 1, 1, 1, 1, 1, 1, 1, 1, 1, 1, 1, 1, 1, 1, 1, 1, 1, 1, 1, 1, 1, 1, 1,\n",
       "         1, 1, 1, 1, 1, 1, 1, 1, 1, 1, 1, 1, 1, 1, 1, 1, 1, 1, 1, 1, 1, 1, 1, 1,\n",
       "         1, 1, 1, 1, 1, 1, 1, 1, 1, 1, 1, 1, 1, 1, 1, 1, 1, 1, 1, 1, 1, 1, 1, 1,\n",
       "         1, 1, 1, 1, 1, 1, 1, 1, 1, 1, 1, 1, 1, 1, 1, 1, 1, 1, 1, 1, 1, 1, 1, 1,\n",
       "         1, 1, 1, 1, 1, 1, 1, 1, 1, 1, 1, 1, 1, 1, 1, 1, 1, 1, 1, 1, 1, 1, 1, 1,\n",
       "         1, 1, 1, 1, 1, 1, 1, 1, 1, 1, 1, 1, 1, 1, 1, 1, 1, 1, 1, 1, 1, 1, 1, 1,\n",
       "         1, 1, 1, 1, 1, 1, 1, 1, 1, 1, 1, 1, 1, 1, 1, 1, 1, 1, 1, 1, 1, 1, 1, 1,\n",
       "         1, 1, 1, 1, 1, 1, 1, 1, 1, 1, 1, 1, 1, 1, 1, 1, 1, 1, 1, 1, 1, 1, 1, 1,\n",
       "         1, 1, 1, 1, 1, 1, 1, 1, 1, 1, 1, 1, 1, 1, 1, 1, 1, 1, 1, 1, 1, 1, 1, 1,\n",
       "         1, 1, 1, 1, 1, 1, 1, 1, 1, 1, 1, 1, 1, 1, 1, 1, 1, 1, 1, 1, 1, 1, 1, 1,\n",
       "         1, 1, 1, 1, 1, 1, 1, 1, 1, 1, 1, 1, 1, 1, 1, 1, 1, 1, 1, 1, 1, 1, 1, 1,\n",
       "         1, 1, 1, 1, 1, 1, 1, 1, 1, 1, 1, 1, 1, 1, 1, 1, 1, 1, 1, 1, 1, 1, 1, 1,\n",
       "         1, 1, 1, 1, 1, 1, 1, 1, 1, 1, 1, 1, 1, 1]], device='cuda:0')}"
      ]
     },
     "execution_count": 5,
     "metadata": {},
     "output_type": "execute_result"
    }
   ],
   "source": [
    "tokenized_docs = tokenizer(\n",
    "    docs[0], max_length=8192, padding=True, truncation=True, return_tensors=\"pt\"\n",
    ").to(device)\n",
    "\n",
    "tokenized_docs"
   ]
  },
  {
   "cell_type": "code",
   "execution_count": 6,
   "metadata": {
    "colab": {
     "base_uri": "https://localhost:8080/",
     "height": 66,
     "referenced_widgets": [
      "c598864a382f4f27afab08b3269d17ab",
      "aa6f3f5d84084aff96e58a6fe01d5243",
      "3d5445d8238b41ca8d74592650831f0c",
      "8071e2d964f3414da11fab60bc33ed62",
      "0acfec0798e54df4994e23c7da29b422",
      "246f9262f1b14d00965e244997fa0cd6",
      "f355a239c76e4e4e865df1e8de74b468",
      "75805186245f4684a6b35e2e23061d9e",
      "4c9587177ac7441aa5162ee5ad8ed637",
      "0fb9390208f64fa9a96f0a27e0da51bf",
      "06a015cadc50441b9906662f8953c7f3"
     ]
    },
    "id": "DfejAr5bo_6-",
    "outputId": "c0bdd45a-1177-44cb-e082-6922c77ef127",
    "tags": []
   },
   "outputs": [
    {
     "name": "stderr",
     "output_type": "stream",
     "text": [
      "  0%|          | 0/7580 [00:00<?, ?it/s]W0510 17:33:56.160000 23614 site-packages/torch/_inductor/utils.py:1250] [1/0] Not enough SMs to use max_autotune_gemm mode\n",
      "100%|██████████| 7580/7580 [21:07<00:00,  5.98it/s]\n"
     ]
    },
    {
     "data": {
      "text/plain": [
       "torch.Size([242552, 768])"
      ]
     },
     "execution_count": 6,
     "metadata": {},
     "output_type": "execute_result"
    }
   ],
   "source": [
    "dataloader = torch.utils.data.DataLoader(docs, batch_size=32,\n",
    "                                         shuffle=False,\n",
    "                                         pin_memory=True,\n",
    "                                         pin_memory_device=device)\n",
    "\n",
    "dataset_embeddings = []\n",
    "for batch in tqdm(dataloader, smoothing=0):\n",
    "    tokenized_batch = tokenizer(\n",
    "        batch, max_length=8192, padding=True, truncation=True, return_tensors=\"pt\"\n",
    "    ).to(device)\n",
    "\n",
    "    with torch.no_grad():\n",
    "        outputs = model(**tokenized_batch)\n",
    "        embeddings = outputs.last_hidden_state[:, 0].detach().cpu()\n",
    "    dataset_embeddings.append(embeddings)\n",
    "\n",
    "dataset_embeddings = torch.cat(dataset_embeddings)\n",
    "dataset_embeddings = F.normalize(dataset_embeddings, p=2, dim=1)\n",
    "dataset_embeddings.size()"
   ]
  },
  {
   "cell_type": "code",
   "execution_count": 7,
   "metadata": {
    "tags": []
   },
   "outputs": [
    {
     "data": {
      "text/html": [
       "<div><style>\n",
       ".dataframe > thead > tr,\n",
       ".dataframe > tbody > tr {\n",
       "  text-align: right;\n",
       "  white-space: pre-wrap;\n",
       "}\n",
       "</style>\n",
       "<small>shape: (242_552, 6)</small><table border=\"1\" class=\"dataframe\"><thead><tr><th>tconst</th><th>startYear</th><th>numVotes</th><th>averageRating</th><th>json</th><th>embedding</th></tr><tr><td>str</td><td>i64</td><td>i64</td><td>f64</td><td>str</td><td>array[f32, 768]</td></tr></thead><tbody><tr><td>&quot;tt0000009&quot;</td><td>1894</td><td>224</td><td>5.4</td><td>&quot;{\n",
       "&nbsp;&nbsp;&quot;title&quot;: &quot;Miss Jerry&quot;,\n",
       "&nbsp;&nbsp;&quot;…</td><td>[-0.007815, -0.022642, … 0.005391]</td></tr><tr><td>&quot;tt0000147&quot;</td><td>1897</td><td>558</td><td>5.3</td><td>&quot;{\n",
       "&nbsp;&nbsp;&quot;title&quot;: &quot;The Corbett-Fitz…</td><td>[0.012021, 0.014255, … -0.015754]</td></tr><tr><td>&quot;tt0000574&quot;</td><td>1906</td><td>985</td><td>6.0</td><td>&quot;{\n",
       "&nbsp;&nbsp;&quot;title&quot;: &quot;The Story of the…</td><td>[-0.010052, -0.015825, … 0.040161]</td></tr><tr><td>&quot;tt0000591&quot;</td><td>1907</td><td>31</td><td>5.6</td><td>&quot;{\n",
       "&nbsp;&nbsp;&quot;title&quot;: &quot;The Prodigal Son…</td><td>[0.00765, 0.019661, … -0.010763]</td></tr><tr><td>&quot;tt0000630&quot;</td><td>1908</td><td>33</td><td>3.2</td><td>&quot;{\n",
       "&nbsp;&nbsp;&quot;title&quot;: &quot;Hamlet&quot;,\n",
       "&nbsp;&nbsp;&quot;genr…</td><td>[0.03492, 0.00301, … 0.027586]</td></tr><tr><td>&hellip;</td><td>&hellip;</td><td>&hellip;</td><td>&hellip;</td><td>&hellip;</td><td>&hellip;</td></tr><tr><td>&quot;tt9915790&quot;</td><td>2019</td><td>45</td><td>7.0</td><td>&quot;{\n",
       "&nbsp;&nbsp;&quot;title&quot;: &quot;Bobbyr Bondhura&quot;…</td><td>[-0.008241, -0.024547, … -0.014563]</td></tr><tr><td>&quot;tt9916160&quot;</td><td>2019</td><td>52</td><td>6.2</td><td>&quot;{\n",
       "&nbsp;&nbsp;&quot;title&quot;: &quot;Drømmeland&quot;,\n",
       "&nbsp;&nbsp;&quot;…</td><td>[-0.014737, -0.035892, … 0.027569]</td></tr><tr><td>&quot;tt9916190&quot;</td><td>2020</td><td>263</td><td>3.6</td><td>&quot;{\n",
       "&nbsp;&nbsp;&quot;title&quot;: &quot;Safeguard&quot;,\n",
       "&nbsp;&nbsp;&quot;g…</td><td>[0.014303, -0.018036, … -0.008043]</td></tr><tr><td>&quot;tt9916270&quot;</td><td>2020</td><td>1507</td><td>5.8</td><td>&quot;{\n",
       "&nbsp;&nbsp;&quot;title&quot;: &quot;Il talento del c…</td><td>[0.02358, -0.024546, … 0.017486]</td></tr><tr><td>&quot;tt9916362&quot;</td><td>2020</td><td>6039</td><td>6.4</td><td>&quot;{\n",
       "&nbsp;&nbsp;&quot;title&quot;: &quot;Coven&quot;,\n",
       "&nbsp;&nbsp;&quot;genre…</td><td>[-0.014186, -0.014569, … 0.017407]</td></tr></tbody></table></div>"
      ],
      "text/plain": [
       "shape: (242_552, 6)\n",
       "┌───────────┬───────────┬──────────┬───────────────┬───────────────────────┬───────────────────────┐\n",
       "│ tconst    ┆ startYear ┆ numVotes ┆ averageRating ┆ json                  ┆ embedding             │\n",
       "│ ---       ┆ ---       ┆ ---      ┆ ---           ┆ ---                   ┆ ---                   │\n",
       "│ str       ┆ i64       ┆ i64      ┆ f64           ┆ str                   ┆ array[f32, 768]       │\n",
       "╞═══════════╪═══════════╪══════════╪═══════════════╪═══════════════════════╪═══════════════════════╡\n",
       "│ tt0000009 ┆ 1894      ┆ 224      ┆ 5.4           ┆ {                     ┆ [-0.007815,           │\n",
       "│           ┆           ┆          ┆               ┆ \"title\": \"Miss        ┆ -0.022642, … 0.005…   │\n",
       "│           ┆           ┆          ┆               ┆ Jerry\",               ┆                       │\n",
       "│           ┆           ┆          ┆               ┆   \"…                  ┆                       │\n",
       "│ tt0000147 ┆ 1897      ┆ 558      ┆ 5.3           ┆ {                     ┆ [0.012021, 0.014255,  │\n",
       "│           ┆           ┆          ┆               ┆ \"title\": \"The         ┆ … -0.0157…            │\n",
       "│           ┆           ┆          ┆               ┆ Corbett-Fitz…         ┆                       │\n",
       "│ tt0000574 ┆ 1906      ┆ 985      ┆ 6.0           ┆ {                     ┆ [-0.010052,           │\n",
       "│           ┆           ┆          ┆               ┆ \"title\": \"The Story   ┆ -0.015825, … 0.040…   │\n",
       "│           ┆           ┆          ┆               ┆ of the…               ┆                       │\n",
       "│ tt0000591 ┆ 1907      ┆ 31       ┆ 5.6           ┆ {                     ┆ [0.00765, 0.019661, … │\n",
       "│           ┆           ┆          ┆               ┆ \"title\": \"The         ┆ -0.01076…             │\n",
       "│           ┆           ┆          ┆               ┆ Prodigal Son…         ┆                       │\n",
       "│ tt0000630 ┆ 1908      ┆ 33       ┆ 3.2           ┆ {                     ┆ [0.03492, 0.00301, …  │\n",
       "│           ┆           ┆          ┆               ┆   \"title\": \"Hamlet\",  ┆ 0.027586]             │\n",
       "│           ┆           ┆          ┆               ┆   \"genr…              ┆                       │\n",
       "│ …         ┆ …         ┆ …        ┆ …             ┆ …                     ┆ …                     │\n",
       "│ tt9915790 ┆ 2019      ┆ 45       ┆ 7.0           ┆ {                     ┆ [-0.008241,           │\n",
       "│           ┆           ┆          ┆               ┆ \"title\": \"Bobbyr      ┆ -0.024547, … -0.01…   │\n",
       "│           ┆           ┆          ┆               ┆ Bondhura\"…            ┆                       │\n",
       "│ tt9916160 ┆ 2019      ┆ 52       ┆ 6.2           ┆ {                     ┆ [-0.014737,           │\n",
       "│           ┆           ┆          ┆               ┆ \"title\":              ┆ -0.035892, … 0.027…   │\n",
       "│           ┆           ┆          ┆               ┆ \"Drømmeland\",         ┆                       │\n",
       "│           ┆           ┆          ┆               ┆   \"…                  ┆                       │\n",
       "│ tt9916190 ┆ 2020      ┆ 263      ┆ 3.6           ┆ {                     ┆ [0.014303, -0.018036, │\n",
       "│           ┆           ┆          ┆               ┆ \"title\": \"Safeguard\", ┆ … -0.008…             │\n",
       "│           ┆           ┆          ┆               ┆   \"g…                 ┆                       │\n",
       "│ tt9916270 ┆ 2020      ┆ 1507     ┆ 5.8           ┆ {                     ┆ [0.02358, -0.024546,  │\n",
       "│           ┆           ┆          ┆               ┆ \"title\": \"Il talento  ┆ … 0.01748…            │\n",
       "│           ┆           ┆          ┆               ┆ del c…                ┆                       │\n",
       "│ tt9916362 ┆ 2020      ┆ 6039     ┆ 6.4           ┆ {                     ┆ [-0.014186,           │\n",
       "│           ┆           ┆          ┆               ┆   \"title\": \"Coven\",   ┆ -0.014569, … 0.017…   │\n",
       "│           ┆           ┆          ┆               ┆   \"genre…             ┆                       │\n",
       "└───────────┴───────────┴──────────┴───────────────┴───────────────────────┴───────────────────────┘"
      ]
     },
     "execution_count": 7,
     "metadata": {},
     "output_type": "execute_result"
    }
   ],
   "source": [
    "df_2 = df.with_columns(embedding=dataset_embeddings.cpu().numpy()).sort(\"tconst\")\n",
    "\n",
    "df_2"
   ]
  },
  {
   "cell_type": "code",
   "execution_count": 8,
   "metadata": {
    "colab": {
     "background_save": true
    },
    "id": "d2HXYPMno_6_",
    "tags": []
   },
   "outputs": [],
   "source": [
    "df_2.write_parquet(\"movie_data_plus_embeds_all.parquet\")"
   ]
  },
  {
   "cell_type": "code",
   "execution_count": 9,
   "metadata": {
    "colab": {
     "background_save": true
    },
    "id": "AuWzu636o_6_",
    "outputId": "bca1f486-d25d-4d4d-997a-f42353a750e7",
    "tags": []
   },
   "outputs": [
    {
     "name": "stderr",
     "output_type": "stream",
     "text": [
      "huggingface/tokenizers: The current process just got forked, after parallelism has already been used. Disabling parallelism to avoid deadlocks...\n",
      "To disable this warning, you can either:\n",
      "\t- Avoid using `tokenizers` before the fork if possible\n",
      "\t- Explicitly set the environment variable TOKENIZERS_PARALLELISM=(true | false)\n"
     ]
    },
    {
     "name": "stdout",
     "output_type": "stream",
     "text": [
      "Copying file://movie_data_plus_embeds_all.parquet [Content-Type=application/octet-stream]...\n",
      "==> NOTE: You are uploading one or more large file(s), which would run          \n",
      "significantly faster if you enable parallel composite uploads. This\n",
      "feature can be enabled by editing the\n",
      "\"parallel_composite_upload_threshold\" value in your .boto\n",
      "configuration file. However, note that if you do this large files will\n",
      "be uploaded as `composite objects\n",
      "<https://cloud.google.com/storage/docs/composite-objects>`_,which\n",
      "means that any user who downloads such objects will need to have a\n",
      "compiled crcmod installed (see \"gsutil help crcmod\"). This is because\n",
      "without a compiled crcmod, computing checksums on composite objects is\n",
      "so slow that gsutil disables downloads of composite objects.\n",
      "\n",
      "- [1 files][702.0 MiB/702.0 MiB]                                                \n",
      "Operation completed over 1 objects/702.0 MiB.                                    \n"
     ]
    }
   ],
   "source": [
    "!gsutil cp movie_data_plus_embeds_all.parquet gs://maxw-imdb-embeddings/"
   ]
  },
  {
   "cell_type": "code",
   "execution_count": null,
   "metadata": {
    "id": "SXlRKjx4HBTQ"
   },
   "outputs": [],
   "source": []
  }
 ],
 "metadata": {
  "accelerator": "GPU",
  "colab": {
   "gpuType": "T4",
   "provenance": []
  },
  "environment": {
   "kernel": "python3",
   "name": "common-cu123.m129",
   "type": "gcloud",
   "uri": "us-docker.pkg.dev/deeplearning-platform-release/gcr.io/base-cu123:m129"
  },
  "kernelspec": {
   "display_name": "Python 3",
   "language": "python",
   "name": "python3"
  },
  "language_info": {
   "codemirror_mode": {
    "name": "ipython",
    "version": 3
   },
   "file_extension": ".py",
   "mimetype": "text/x-python",
   "name": "python",
   "nbconvert_exporter": "python",
   "pygments_lexer": "ipython3",
   "version": "3.10.17"
  }
 },
 "nbformat": 4,
 "nbformat_minor": 4
}
