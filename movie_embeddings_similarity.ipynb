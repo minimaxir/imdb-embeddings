{
 "cells": [
  {
   "cell_type": "code",
   "execution_count": 1,
   "metadata": {},
   "outputs": [],
   "source": [
    "import polars as pl\n",
    "import numpy as np\n",
    "import os"
   ]
  },
  {
   "cell_type": "code",
   "execution_count": 2,
   "metadata": {},
   "outputs": [
    {
     "data": {
      "text/html": [
       "<div><style>\n",
       ".dataframe > thead > tr,\n",
       ".dataframe > tbody > tr {\n",
       "  text-align: right;\n",
       "  white-space: pre-wrap;\n",
       "}\n",
       "</style>\n",
       "<small>shape: (242_552, 7)</small><table border=\"1\" class=\"dataframe\"><thead><tr><th>tconst</th><th>startYear</th><th>numVotes</th><th>averageRating</th><th>json</th><th>embedding</th><th>title</th></tr><tr><td>str</td><td>i64</td><td>i64</td><td>f64</td><td>str</td><td>array[f32, 768]</td><td>str</td></tr></thead><tbody><tr><td>&quot;tt0000009&quot;</td><td>1894</td><td>224</td><td>5.4</td><td>&quot;{\n",
       "&nbsp;&nbsp;&quot;title&quot;: &quot;Miss Jerry&quot;,\n",
       "&nbsp;&nbsp;&quot;…</td><td>[-0.007815, -0.022642, … 0.005391]</td><td>&quot;Miss Jerry&quot;</td></tr><tr><td>&quot;tt0000147&quot;</td><td>1897</td><td>558</td><td>5.3</td><td>&quot;{\n",
       "&nbsp;&nbsp;&quot;title&quot;: &quot;The Corbett-Fitz…</td><td>[0.012021, 0.014255, … -0.015754]</td><td>&quot;The Corbett-Fitzsimmons Fight&quot;</td></tr><tr><td>&quot;tt0000574&quot;</td><td>1906</td><td>985</td><td>6.0</td><td>&quot;{\n",
       "&nbsp;&nbsp;&quot;title&quot;: &quot;The Story of the…</td><td>[-0.010052, -0.015825, … 0.040161]</td><td>&quot;The Story of the Kelly Gang&quot;</td></tr><tr><td>&quot;tt0000591&quot;</td><td>1907</td><td>31</td><td>5.6</td><td>&quot;{\n",
       "&nbsp;&nbsp;&quot;title&quot;: &quot;The Prodigal Son…</td><td>[0.00765, 0.019661, … -0.010763]</td><td>&quot;The Prodigal Son&quot;</td></tr><tr><td>&quot;tt0000630&quot;</td><td>1908</td><td>33</td><td>3.2</td><td>&quot;{\n",
       "&nbsp;&nbsp;&quot;title&quot;: &quot;Hamlet&quot;,\n",
       "&nbsp;&nbsp;&quot;genr…</td><td>[0.03492, 0.00301, … 0.027586]</td><td>&quot;Hamlet&quot;</td></tr><tr><td>&hellip;</td><td>&hellip;</td><td>&hellip;</td><td>&hellip;</td><td>&hellip;</td><td>&hellip;</td><td>&hellip;</td></tr><tr><td>&quot;tt9915790&quot;</td><td>2019</td><td>45</td><td>7.0</td><td>&quot;{\n",
       "&nbsp;&nbsp;&quot;title&quot;: &quot;Bobbyr Bondhura&quot;…</td><td>[-0.008241, -0.024547, … -0.014563]</td><td>&quot;Bobbyr Bondhura&quot;</td></tr><tr><td>&quot;tt9916160&quot;</td><td>2019</td><td>52</td><td>6.2</td><td>&quot;{\n",
       "&nbsp;&nbsp;&quot;title&quot;: &quot;Drømmeland&quot;,\n",
       "&nbsp;&nbsp;&quot;…</td><td>[-0.014737, -0.035892, … 0.027569]</td><td>&quot;Drømmeland&quot;</td></tr><tr><td>&quot;tt9916190&quot;</td><td>2020</td><td>263</td><td>3.6</td><td>&quot;{\n",
       "&nbsp;&nbsp;&quot;title&quot;: &quot;Safeguard&quot;,\n",
       "&nbsp;&nbsp;&quot;g…</td><td>[0.014303, -0.018036, … -0.008043]</td><td>&quot;Safeguard&quot;</td></tr><tr><td>&quot;tt9916270&quot;</td><td>2020</td><td>1507</td><td>5.8</td><td>&quot;{\n",
       "&nbsp;&nbsp;&quot;title&quot;: &quot;Il talento del c…</td><td>[0.02358, -0.024546, … 0.017486]</td><td>&quot;Il talento del calabrone&quot;</td></tr><tr><td>&quot;tt9916362&quot;</td><td>2020</td><td>6039</td><td>6.4</td><td>&quot;{\n",
       "&nbsp;&nbsp;&quot;title&quot;: &quot;Coven&quot;,\n",
       "&nbsp;&nbsp;&quot;genre…</td><td>[-0.014186, -0.014569, … 0.017407]</td><td>&quot;Coven&quot;</td></tr></tbody></table></div>"
      ],
      "text/plain": [
       "shape: (242_552, 7)\n",
       "┌───────────┬───────────┬──────────┬───────────────┬───────────────┬───────────────┬───────────────┐\n",
       "│ tconst    ┆ startYear ┆ numVotes ┆ averageRating ┆ json          ┆ embedding     ┆ title         │\n",
       "│ ---       ┆ ---       ┆ ---      ┆ ---           ┆ ---           ┆ ---           ┆ ---           │\n",
       "│ str       ┆ i64       ┆ i64      ┆ f64           ┆ str           ┆ array[f32,    ┆ str           │\n",
       "│           ┆           ┆          ┆               ┆               ┆ 768]          ┆               │\n",
       "╞═══════════╪═══════════╪══════════╪═══════════════╪═══════════════╪═══════════════╪═══════════════╡\n",
       "│ tt0000009 ┆ 1894      ┆ 224      ┆ 5.4           ┆ {             ┆ [-0.007815,   ┆ Miss Jerry    │\n",
       "│           ┆           ┆          ┆               ┆ \"title\":      ┆ -0.022642, …  ┆               │\n",
       "│           ┆           ┆          ┆               ┆ \"Miss Jerry\", ┆ 0.005…        ┆               │\n",
       "│           ┆           ┆          ┆               ┆   \"…          ┆               ┆               │\n",
       "│ tt0000147 ┆ 1897      ┆ 558      ┆ 5.3           ┆ {             ┆ [0.012021,    ┆ The Corbett-F │\n",
       "│           ┆           ┆          ┆               ┆ \"title\": \"The ┆ 0.014255, …   ┆ itzsimmons    │\n",
       "│           ┆           ┆          ┆               ┆ Corbett-Fitz… ┆ -0.0157…      ┆ Fight         │\n",
       "│ tt0000574 ┆ 1906      ┆ 985      ┆ 6.0           ┆ {             ┆ [-0.010052,   ┆ The Story of  │\n",
       "│           ┆           ┆          ┆               ┆ \"title\": \"The ┆ -0.015825, …  ┆ the Kelly     │\n",
       "│           ┆           ┆          ┆               ┆ Story of the… ┆ 0.040…        ┆ Gang          │\n",
       "│ tt0000591 ┆ 1907      ┆ 31       ┆ 5.6           ┆ {             ┆ [0.00765,     ┆ The Prodigal  │\n",
       "│           ┆           ┆          ┆               ┆ \"title\": \"The ┆ 0.019661, …   ┆ Son           │\n",
       "│           ┆           ┆          ┆               ┆ Prodigal Son… ┆ -0.01076…     ┆               │\n",
       "│ tt0000630 ┆ 1908      ┆ 33       ┆ 3.2           ┆ {             ┆ [0.03492,     ┆ Hamlet        │\n",
       "│           ┆           ┆          ┆               ┆ \"title\":      ┆ 0.00301, …    ┆               │\n",
       "│           ┆           ┆          ┆               ┆ \"Hamlet\",     ┆ 0.027586]     ┆               │\n",
       "│           ┆           ┆          ┆               ┆   \"genr…      ┆               ┆               │\n",
       "│ …         ┆ …         ┆ …        ┆ …             ┆ …             ┆ …             ┆ …             │\n",
       "│ tt9915790 ┆ 2019      ┆ 45       ┆ 7.0           ┆ {             ┆ [-0.008241,   ┆ Bobbyr        │\n",
       "│           ┆           ┆          ┆               ┆ \"title\":      ┆ -0.024547, …  ┆ Bondhura      │\n",
       "│           ┆           ┆          ┆               ┆ \"Bobbyr       ┆ -0.01…        ┆               │\n",
       "│           ┆           ┆          ┆               ┆ Bondhura\"…    ┆               ┆               │\n",
       "│ tt9916160 ┆ 2019      ┆ 52       ┆ 6.2           ┆ {             ┆ [-0.014737,   ┆ Drømmeland    │\n",
       "│           ┆           ┆          ┆               ┆ \"title\":      ┆ -0.035892, …  ┆               │\n",
       "│           ┆           ┆          ┆               ┆ \"Drømmeland\", ┆ 0.027…        ┆               │\n",
       "│           ┆           ┆          ┆               ┆   \"…          ┆               ┆               │\n",
       "│ tt9916190 ┆ 2020      ┆ 263      ┆ 3.6           ┆ {             ┆ [0.014303,    ┆ Safeguard     │\n",
       "│           ┆           ┆          ┆               ┆ \"title\":      ┆ -0.018036, …  ┆               │\n",
       "│           ┆           ┆          ┆               ┆ \"Safeguard\",  ┆ -0.008…       ┆               │\n",
       "│           ┆           ┆          ┆               ┆   \"g…         ┆               ┆               │\n",
       "│ tt9916270 ┆ 2020      ┆ 1507     ┆ 5.8           ┆ {             ┆ [0.02358,     ┆ Il talento    │\n",
       "│           ┆           ┆          ┆               ┆ \"title\": \"Il  ┆ -0.024546, …  ┆ del calabrone │\n",
       "│           ┆           ┆          ┆               ┆ talento del   ┆ 0.01748…      ┆               │\n",
       "│           ┆           ┆          ┆               ┆ c…            ┆               ┆               │\n",
       "│ tt9916362 ┆ 2020      ┆ 6039     ┆ 6.4           ┆ {             ┆ [-0.014186,   ┆ Coven         │\n",
       "│           ┆           ┆          ┆               ┆ \"title\":      ┆ -0.014569, …  ┆               │\n",
       "│           ┆           ┆          ┆               ┆ \"Coven\",      ┆ 0.017…        ┆               │\n",
       "│           ┆           ┆          ┆               ┆   \"genre…     ┆               ┆               │\n",
       "└───────────┴───────────┴──────────┴───────────────┴───────────────┴───────────────┴───────────────┘"
      ]
     },
     "execution_count": 2,
     "metadata": {},
     "output_type": "execute_result"
    }
   ],
   "source": [
    "data_dir = \"/Users/maxwoolf/Downloads\"\n",
    "\n",
    "df = pl.read_parquet(\n",
    "    os.path.join(data_dir, \"movie_data_plus_embeds_all.parquet\"),\n",
    ").with_columns(\n",
    "    title=pl.col(\"json\").str.json_path_match(r\"$.title\"),\n",
    ")\n",
    "\n",
    "df"
   ]
  },
  {
   "cell_type": "code",
   "execution_count": 3,
   "metadata": {},
   "outputs": [
    {
     "data": {
      "text/plain": [
       "(242552, 768)"
      ]
     },
     "execution_count": 3,
     "metadata": {},
     "output_type": "execute_result"
    }
   ],
   "source": [
    "embeddings = df[\"embedding\"].to_numpy()\n",
    "embeddings.shape"
   ]
  },
  {
   "cell_type": "markdown",
   "metadata": {},
   "source": [
    "Test Star Wars\n"
   ]
  },
  {
   "cell_type": "code",
   "execution_count": 4,
   "metadata": {},
   "outputs": [
    {
     "data": {
      "text/plain": [
       "(768,)"
      ]
     },
     "execution_count": 4,
     "metadata": {},
     "output_type": "execute_result"
    }
   ],
   "source": [
    "movie = df.filter(pl.col(\"tconst\") == \"tt0076759\").rows(named=\"true\")[0]\n",
    "query_embed = np.array(movie[\"embedding\"])\n",
    "query_embed.shape"
   ]
  },
  {
   "cell_type": "code",
   "execution_count": 5,
   "metadata": {},
   "outputs": [
    {
     "data": {
      "text/plain": [
       "array([0.70110115, 0.70786815, 0.74661582, 0.70941803, 0.74154506,\n",
       "       0.68520667, 0.75312955, 0.69515846, 0.73177594, 0.74492537])"
      ]
     },
     "execution_count": 5,
     "metadata": {},
     "output_type": "execute_result"
    }
   ],
   "source": [
    "cossims = query_embed @ embeddings.T\n",
    "cossims[:10]"
   ]
  },
  {
   "cell_type": "code",
   "execution_count": 6,
   "metadata": {},
   "outputs": [
    {
     "data": {
      "text/plain": [
       "array([ 35035,  37464,  40931,  60563, 181973, 181974,  60405, 181471,\n",
       "       109964,  91007,  90980, 132629,  42606, 111311,  60562, 203993,\n",
       "       176142, 216136, 127845, 103395,  83506,  41509, 204244,  96999,\n",
       "       201143, 122918, 133060,  74768, 120547, 223960,  41746, 117674,\n",
       "       217786, 216352, 132349, 173229, 232886,  41664, 102192,  32698,\n",
       "        90152, 109512, 180045,  28415, 213537, 130224, 169961,  94195,\n",
       "       122994, 167597,  38975,  55995,  34861, 234314, 123386,  32495,\n",
       "       146259, 100938, 201460,  79438,  66278,  71150, 224144,  50756,\n",
       "       134354,  33617,  94458, 136133,  89154, 153715,  38962, 122317,\n",
       "       140051, 107890, 130848,  89396,  42344,  42647,  77778, 169389,\n",
       "        42856,  59467, 126664,  58857,  59074, 130494,  30926, 137828,\n",
       "        88594, 198562,  34263,  31740, 100845,  28084,  56695,  50288,\n",
       "        37148, 163303,  76346, 126490])"
      ]
     },
     "execution_count": 6,
     "metadata": {},
     "output_type": "execute_result"
    }
   ],
   "source": [
    "# https://stackoverflow.com/a/6910672\n",
    "top_idx = np.argsort(cossims)[-100:][::-1]\n",
    "top_idx"
   ]
  },
  {
   "cell_type": "code",
   "execution_count": 7,
   "metadata": {},
   "outputs": [
    {
     "data": {
      "text/plain": [
       "array([0.99999988, 0.92043304, 0.91696225, 0.90745466, 0.90449376,\n",
       "       0.90331304, 0.89827816, 0.89408195, 0.89119305, 0.89097709,\n",
       "       0.89063769, 0.88878801, 0.8843457 , 0.88232312, 0.88046529,\n",
       "       0.87946889, 0.87796033, 0.87576742, 0.87423456, 0.87414255,\n",
       "       0.87391586, 0.87042162, 0.86945008, 0.86812902, 0.86658614,\n",
       "       0.86582452, 0.86331534, 0.86064976, 0.8588337 , 0.85881803,\n",
       "       0.85645084, 0.85576067, 0.85383235, 0.85376825, 0.85354023,\n",
       "       0.85345668, 0.85337922, 0.85278556, 0.85221014, 0.85175825,\n",
       "       0.85113342, 0.84912398, 0.84840477, 0.847578  , 0.84756099,\n",
       "       0.84717688, 0.84621708, 0.84608658, 0.84575343, 0.84563859,\n",
       "       0.84543791, 0.84488446, 0.84461896, 0.84330353, 0.84317802,\n",
       "       0.84310937, 0.8427787 , 0.84273456, 0.84273263, 0.84170224,\n",
       "       0.84149097, 0.84105725, 0.84096003, 0.84085799, 0.84082539,\n",
       "       0.84033219, 0.84010948, 0.83957534, 0.83865016, 0.83844608,\n",
       "       0.83727246, 0.83722156, 0.83681763, 0.83618749, 0.83600212,\n",
       "       0.83531614, 0.83530093, 0.83524301, 0.83514592, 0.83507115,\n",
       "       0.83499614, 0.8348987 , 0.83421623, 0.83380065, 0.83370388,\n",
       "       0.83355532, 0.83299   , 0.83294649, 0.83195837, 0.8317553 ,\n",
       "       0.83144139, 0.83111778, 0.83100782, 0.83091939, 0.83088538,\n",
       "       0.83074722, 0.83024671, 0.8299803 , 0.82990777, 0.82984197])"
      ]
     },
     "execution_count": 7,
     "metadata": {},
     "output_type": "execute_result"
    }
   ],
   "source": [
    "top_cossims = cossims[top_idx]\n",
    "top_cossims"
   ]
  },
  {
   "cell_type": "code",
   "execution_count": 8,
   "metadata": {},
   "outputs": [
    {
     "data": {
      "text/html": [
       "<div><style>\n",
       ".dataframe > thead > tr,\n",
       ".dataframe > tbody > tr {\n",
       "  text-align: right;\n",
       "  white-space: pre-wrap;\n",
       "}\n",
       "</style>\n",
       "<small>shape: (100, 4)</small><table border=\"1\" class=\"dataframe\"><thead><tr><th>tconst</th><th>startYear</th><th>title</th><th>cossim</th></tr><tr><td>str</td><td>i64</td><td>str</td><td>f64</td></tr></thead><tbody><tr><td>&quot;tt0076759&quot;</td><td>1977</td><td>&quot;Star Wars: Episode IV - A New …</td><td>1.0</td></tr><tr><td>&quot;tt0080684&quot;</td><td>1980</td><td>&quot;Star Wars: Episode V - The Emp…</td><td>0.920433</td></tr><tr><td>&quot;tt0086190&quot;</td><td>1983</td><td>&quot;Star Wars: Episode VI - Return…</td><td>0.916962</td></tr><tr><td>&quot;tt0121766&quot;</td><td>2005</td><td>&quot;Star Wars: Episode III - Reven…</td><td>0.907455</td></tr><tr><td>&quot;tt2527336&quot;</td><td>2017</td><td>&quot;Star Wars: Episode VIII - The …</td><td>0.904494</td></tr><tr><td>&hellip;</td><td>&hellip;</td><td>&hellip;</td><td>&hellip;</td></tr><tr><td>&quot;tt0102057&quot;</td><td>1991</td><td>&quot;Hook&quot;</td><td>0.830747</td></tr><tr><td>&quot;tt0080137&quot;</td><td>1975</td><td>&quot;Fighter Pilots&quot;</td><td>0.830247</td></tr><tr><td>&quot;tt1835948&quot;</td><td>2010</td><td>&quot;Edge of the Empire&quot;</td><td>0.82998</td></tr><tr><td>&quot;tt0201175&quot;</td><td>1977</td><td>&quot;Steel-Fisted Dragon&quot;</td><td>0.829908</td></tr><tr><td>&quot;tt1093361&quot;</td><td>2007</td><td>&quot;Empire II&quot;</td><td>0.829842</td></tr></tbody></table></div>"
      ],
      "text/plain": [
       "shape: (100, 4)\n",
       "┌───────────┬───────────┬─────────────────────────────────┬──────────┐\n",
       "│ tconst    ┆ startYear ┆ title                           ┆ cossim   │\n",
       "│ ---       ┆ ---       ┆ ---                             ┆ ---      │\n",
       "│ str       ┆ i64       ┆ str                             ┆ f64      │\n",
       "╞═══════════╪═══════════╪═════════════════════════════════╪══════════╡\n",
       "│ tt0076759 ┆ 1977      ┆ Star Wars: Episode IV - A New … ┆ 1.0      │\n",
       "│ tt0080684 ┆ 1980      ┆ Star Wars: Episode V - The Emp… ┆ 0.920433 │\n",
       "│ tt0086190 ┆ 1983      ┆ Star Wars: Episode VI - Return… ┆ 0.916962 │\n",
       "│ tt0121766 ┆ 2005      ┆ Star Wars: Episode III - Reven… ┆ 0.907455 │\n",
       "│ tt2527336 ┆ 2017      ┆ Star Wars: Episode VIII - The … ┆ 0.904494 │\n",
       "│ …         ┆ …         ┆ …                               ┆ …        │\n",
       "│ tt0102057 ┆ 1991      ┆ Hook                            ┆ 0.830747 │\n",
       "│ tt0080137 ┆ 1975      ┆ Fighter Pilots                  ┆ 0.830247 │\n",
       "│ tt1835948 ┆ 2010      ┆ Edge of the Empire              ┆ 0.82998  │\n",
       "│ tt0201175 ┆ 1977      ┆ Steel-Fisted Dragon             ┆ 0.829908 │\n",
       "│ tt1093361 ┆ 2007      ┆ Empire II                       ┆ 0.829842 │\n",
       "└───────────┴───────────┴─────────────────────────────────┴──────────┘"
      ]
     },
     "execution_count": 8,
     "metadata": {},
     "output_type": "execute_result"
    }
   ],
   "source": [
    "df_related = (\n",
    "    df[top_idx]\n",
    "    .select([\"tconst\", \"startYear\", \"title\"])\n",
    "    .with_columns(cossim=top_cossims)\n",
    ")\n",
    "df_related"
   ]
  },
  {
   "cell_type": "code",
   "execution_count": 9,
   "metadata": {},
   "outputs": [
    {
     "name": "stdout",
     "output_type": "stream",
     "text": [
      "| title                                                                                          | cossim |\n",
      "|------------------------------------------------------------------------------------------------|--------|\n",
      "| [Star Wars: Episode IV - A New Hope (1977)](https://www.imdb.com/title/tt0076759/)             | 1.0    |\n",
      "| [Star Wars: Episode V - The Empire Strikes Back (1980)](https://www.imdb.com/title/tt0080684/) | 0.92   |\n",
      "| [Star Wars: Episode VI - Return of the Jedi (1983)](https://www.imdb.com/title/tt0086190/)     | 0.917  |\n",
      "| [Star Wars: Episode III - Revenge of the Sith (2005)](https://www.imdb.com/title/tt0121766/)   | 0.907  |\n",
      "| [Star Wars: Episode VIII - The Last Jedi (2017)](https://www.imdb.com/title/tt2527336/)        | 0.904  |\n",
      "| [Star Wars: Episode IX - The Rise of Skywalker (2019)](https://www.imdb.com/title/tt2527338/)  | 0.903  |\n",
      "| [Star Wars: Episode I - The Phantom Menace (1999)](https://www.imdb.com/title/tt0120915/)      | 0.898  |\n",
      "| [Star Wars: Episode VII - The Force Awakens (2015)](https://www.imdb.com/title/tt2488496/)     | 0.894  |\n",
      "| [Star Wars: Feel the Force (2005)](https://www.imdb.com/title/tt0462554/)                      | 0.891  |\n",
      "| [The Making of 'Star Wars' (1977)](https://www.imdb.com/title/tt0295414/)                      | 0.891  |\n"
     ]
    }
   ],
   "source": [
    "df_md = df_related.head(10).select(\n",
    "    pl.format(\n",
    "        \"[{} ({})](https://www.imdb.com/title/{}/)\", \"title\", \"startYear\", \"tconst\"\n",
    "    ).alias(\"title\"),\n",
    "    pl.col(\"cossim\").round(3),\n",
    ")\n",
    "\n",
    "with pl.Config() as cfg:\n",
    "    cfg.set_tbl_formatting(\"ASCII_MARKDOWN\")\n",
    "    cfg.set_fmt_str_lengths(10**5)\n",
    "    cfg.set_tbl_width_chars(-1)\n",
    "    cfg.set_tbl_hide_column_data_types(True)\n",
    "    cfg.set_tbl_hide_dataframe_shape(True)\n",
    "    cfg.set_trim_decimal_zeros(False)\n",
    "    print(df_md)\n"
   ]
  },
  {
   "cell_type": "markdown",
   "metadata": {},
   "source": [
    "## Functionalize\n"
   ]
  },
  {
   "cell_type": "code",
   "execution_count": 10,
   "metadata": {},
   "outputs": [],
   "source": [
    "def related_movies(movie_id, k=10):\n",
    "    movie = df.filter(pl.col(\"tconst\") == movie_id).rows(named=\"true\")[0]\n",
    "    query_embed = np.array(movie[\"embedding\"])\n",
    "\n",
    "    dot_products = query_embed @ embeddings.T\n",
    "    idx = np.argpartition(dot_products, -k)[-k:]\n",
    "    idx = idx[np.argsort(dot_products[idx])[::-1]]\n",
    "\n",
    "    scores = dot_products[idx]\n",
    "\n",
    "    df_related = df[idx].with_columns(cossim=scores)\n",
    "\n",
    "    df_md = df_related.head(10).select(\n",
    "        pl.format(\n",
    "            \"[{} ({})](https://www.imdb.com/title/{}/)\", \"title\", \"startYear\", \"tconst\"\n",
    "        ).alias(\"title\"),\n",
    "        pl.col(\"cossim\").round(3),\n",
    "    )\n",
    "\n",
    "    with pl.Config() as cfg:\n",
    "        cfg.set_tbl_formatting(\"ASCII_MARKDOWN\")\n",
    "        cfg.set_fmt_str_lengths(10**5)\n",
    "        cfg.set_tbl_width_chars(-1)\n",
    "        cfg.set_tbl_hide_column_data_types(True)\n",
    "        cfg.set_tbl_hide_dataframe_shape(True)\n",
    "        print(df_md)\n"
   ]
  },
  {
   "cell_type": "code",
   "execution_count": 11,
   "metadata": {},
   "outputs": [
    {
     "name": "stdout",
     "output_type": "stream",
     "text": [
      "| title                                                                 | cossim |\n",
      "|-----------------------------------------------------------------------|--------|\n",
      "| [Sonic the Hedgehog 3 (2024)](https://www.imdb.com/title/tt18259086/) | 1.0    |\n",
      "| [Sonic the Hedgehog (2020)](https://www.imdb.com/title/tt3794354/)    | 0.927  |\n",
      "| [Sonic the Hedgehog 2 (2022)](https://www.imdb.com/title/tt12412888/) | 0.914  |\n",
      "| [The Hedgehog (2024)](https://www.imdb.com/title/tt17080850/)         | 0.894  |\n",
      "| [The Hedgehog (2009)](https://www.imdb.com/title/tt1442519/)          | 0.845  |\n",
      "| [The Evil Three (2024)](https://www.imdb.com/title/tt19757976/)       | 0.844  |\n",
      "| [Hitpig (2024)](https://www.imdb.com/title/tt13176330/)               | 0.843  |\n",
      "| [Storm Crashers (2024)](https://www.imdb.com/title/tt8816708/)        | 0.838  |\n",
      "| [Despicable Me 4 (2024)](https://www.imdb.com/title/tt7510222/)       | 0.838  |\n",
      "| [Shell (2024)](https://www.imdb.com/title/tt12706836/)                | 0.836  |\n"
     ]
    }
   ],
   "source": [
    "# Sonic the Hedgehog 3\n",
    "related_movies(\"tt18259086\")"
   ]
  },
  {
   "cell_type": "code",
   "execution_count": 12,
   "metadata": {},
   "outputs": [
    {
     "name": "stdout",
     "output_type": "stream",
     "text": [
      "| title                                                                                      | cossim |\n",
      "|--------------------------------------------------------------------------------------------|--------|\n",
      "| [Titanic (1997)](https://www.imdb.com/title/tt0120338/)                                    | 1.0    |\n",
      "| [Titanic (1953)](https://www.imdb.com/title/tt0046435/)                                    | 0.932  |\n",
      "| [Titanic (1984)](https://www.imdb.com/title/tt0143942/)                                    | 0.926  |\n",
      "| [Titanic: 100 Years On (2012)](https://www.imdb.com/title/tt2169432/)                      | 0.926  |\n",
      "| [Titanic (1943)](https://www.imdb.com/title/tt0036443/)                                    | 0.923  |\n",
      "| [Titanic (1915)](https://www.imdb.com/title/tt0155274/)                                    | 0.918  |\n",
      "| [Titanic: The Final Word with James Cameron (2012)](https://www.imdb.com/title/tt2132504/) | 0.914  |\n",
      "| [Titanic: 20 Years Later with James Cameron (2017)](https://www.imdb.com/title/tt7620568/) | 0.911  |\n",
      "| [Titanic (2023)](https://www.imdb.com/title/tt27713920/)                                   | 0.911  |\n",
      "| [S.O.S. Titanic (1979)](https://www.imdb.com/title/tt0079836/)                             | 0.907  |\n"
     ]
    }
   ],
   "source": [
    "# Titanic\n",
    "related_movies(\"tt0120338\")"
   ]
  },
  {
   "cell_type": "code",
   "execution_count": 13,
   "metadata": {},
   "outputs": [
    {
     "name": "stdout",
     "output_type": "stream",
     "text": [
      "| title                                                                         | cossim |\n",
      "|-------------------------------------------------------------------------------|--------|\n",
      "| [The Matrix (1999)](https://www.imdb.com/title/tt0133093/)                    | 1.0    |\n",
      "| [The Matrix Reloaded (2003)](https://www.imdb.com/title/tt0234215/)           | 0.937  |\n",
      "| [The Matrix Revolutions (2003)](https://www.imdb.com/title/tt0242653/)        | 0.929  |\n",
      "| [The Matrix Resurrections (2021)](https://www.imdb.com/title/tt10838180/)     | 0.926  |\n",
      "| [The Matrix: The Movie Special (1999)](https://www.imdb.com/title/tt0438231/) | 0.92   |\n",
      "| [The Matrix: Reborn (2020)](https://www.imdb.com/title/tt12355912/)           | 0.887  |\n",
      "| [Matrix (2020)](https://www.imdb.com/title/tt11749868/)                       | 0.872  |\n",
      "| [Jupiter Ascending (2015)](https://www.imdb.com/title/tt1617661/)             | 0.86   |\n",
      "| [The Living Matrix (2009)](https://www.imdb.com/title/tt1499960/)             | 0.857  |\n",
      "| [A Glitch in the Matrix (2021)](https://www.imdb.com/title/tt9847360/)        | 0.853  |\n"
     ]
    }
   ],
   "source": [
    "# The Matrix\n",
    "related_movies(\"tt0133093\")"
   ]
  },
  {
   "cell_type": "code",
   "execution_count": 14,
   "metadata": {},
   "outputs": [
    {
     "name": "stdout",
     "output_type": "stream",
     "text": [
      "| title                                                                                 | cossim |\n",
      "|---------------------------------------------------------------------------------------|--------|\n",
      "| [Spirited Away (2001)](https://www.imdb.com/title/tt0245429/)                         | 1.0    |\n",
      "| [Spirited Away: Live on Stage (2022)](https://www.imdb.com/title/tt26678995/)         | 0.893  |\n",
      "| [One Piece: Clockwork Island Adventure (2001)](https://www.imdb.com/title/tt0832449/) | 0.89   |\n",
      "| [Princess Mononoke (1997)](https://www.imdb.com/title/tt0119698/)                     | 0.89   |\n",
      "| [Inugami (2001)](https://www.imdb.com/title/tt0277044/)                               | 0.889  |\n",
      "| [Princess Arete (2001)](https://www.imdb.com/title/tt0306474/)                        | 0.886  |\n",
      "| [Satorare (2001)](https://www.imdb.com/title/tt0326107/)                              | 0.884  |\n",
      "| [Harmful Insect (2001)](https://www.imdb.com/title/tt0297905/)                        | 0.883  |\n",
      "| [Family (2001)](https://www.imdb.com/title/tt0303990/)                                | 0.881  |\n",
      "| [Murudeka 17805 (2001)](https://www.imdb.com/title/tt0471823/)                        | 0.88   |\n"
     ]
    }
   ],
   "source": [
    "# Spirited Away\n",
    "related_movies(\"tt0245429\")"
   ]
  },
  {
   "cell_type": "code",
   "execution_count": 15,
   "metadata": {},
   "outputs": [
    {
     "name": "stdout",
     "output_type": "stream",
     "text": [
      "| title                                                                             | cossim |\n",
      "|-----------------------------------------------------------------------------------|--------|\n",
      "| [Everything Everywhere All at Once (2022)](https://www.imdb.com/title/tt6710474/) | 1.0    |\n",
      "| [Chilli Laugh Story (2022)](https://www.imdb.com/title/tt17044664/)               | 0.885  |\n",
      "| [Everything and Everyone (2011)](https://www.imdb.com/title/tt1890403/)           | 0.884  |\n",
      "| [Baking All the Way (2022)](https://www.imdb.com/title/tt14667790/)               | 0.871  |\n",
      "| [Everywhere (2010)](https://www.imdb.com/title/tt1744595/)                        | 0.871  |\n",
      "| [Everything Under Control (2023)](https://www.imdb.com/title/tt25433990/)         | 0.869  |\n",
      "| [East Bay (2022)](https://www.imdb.com/title/tt3846472/)                          | 0.869  |\n",
      "| [It Snows All the Time (2022)](https://www.imdb.com/title/tt2767880/)             | 0.869  |\n",
      "| [Rip in Time (2022)](https://www.imdb.com/title/tt19800814/)                      | 0.868  |\n",
      "| [Ajoomma (2022)](https://www.imdb.com/title/tt5213138/)                           | 0.867  |\n"
     ]
    }
   ],
   "source": [
    "# Everything Everywhere All at Once\n",
    "related_movies(\"tt6710474\")"
   ]
  },
  {
   "cell_type": "code",
   "execution_count": 16,
   "metadata": {},
   "outputs": [
    {
     "name": "stdout",
     "output_type": "stream",
     "text": [
      "| title                                                                              | cossim |\n",
      "|------------------------------------------------------------------------------------|--------|\n",
      "| [The Avengers (2012)](https://www.imdb.com/title/tt0848228/)                       | 1.0    |\n",
      "| [The Avengers Assemble Premiere (2012)](https://www.imdb.com/title/tt10075836/)    | 0.931  |\n",
      "| [The Avengers (1998)](https://www.imdb.com/title/tt0118661/)                       | 0.931  |\n",
      "| [Avengers: Age of Ultron (2015)](https://www.imdb.com/title/tt2395427/)            | 0.908  |\n",
      "| [Iron Man 2 (2010)](https://www.imdb.com/title/tt1228705/)                         | 0.903  |\n",
      "| [Avengers: Endgame (2019)](https://www.imdb.com/title/tt4154796/)                  | 0.896  |\n",
      "| [Captain America: The First Avenger (2011)](https://www.imdb.com/title/tt0458339/) | 0.895  |\n",
      "| [The Avengers (1950)](https://www.imdb.com/title/tt0167779/)                       | 0.895  |\n",
      "| [Avengers: Infinity War (2018)](https://www.imdb.com/title/tt4154756/)             | 0.894  |\n",
      "| [The Marvels (2023)](https://www.imdb.com/title/tt10676048/)                       | 0.89   |\n"
     ]
    }
   ],
   "source": [
    "# The Avengers\n",
    "related_movies(\"tt0848228\")"
   ]
  },
  {
   "cell_type": "code",
   "execution_count": 17,
   "metadata": {},
   "outputs": [
    {
     "name": "stdout",
     "output_type": "stream",
     "text": [
      "| title                                                                      | cossim |\n",
      "|----------------------------------------------------------------------------|--------|\n",
      "| [Avengers: Endgame (2019)](https://www.imdb.com/title/tt4154796/)          | 1.0    |\n",
      "| [Avengers: Infinity War (2018)](https://www.imdb.com/title/tt4154756/)     | 0.909  |\n",
      "| [The Avengers (2012)](https://www.imdb.com/title/tt0848228/)               | 0.896  |\n",
      "| [Endgame (2009)](https://www.imdb.com/title/tt1217616/)                    | 0.894  |\n",
      "| [Captain Marvel (2019)](https://www.imdb.com/title/tt4154664/)             | 0.89   |\n",
      "| [Avengers: Age of Ultron (2015)](https://www.imdb.com/title/tt2395427/)    | 0.882  |\n",
      "| [Captain America: Civil War (2016)](https://www.imdb.com/title/tt3498820/) | 0.882  |\n",
      "| [Endgame (2001)](https://www.imdb.com/title/tt0292502/)                    | 0.881  |\n",
      "| [The Avengers (1998)](https://www.imdb.com/title/tt0118661/)               | 0.877  |\n",
      "| [Iron Man 2 (2010)](https://www.imdb.com/title/tt1228705/)                 | 0.876  |\n"
     ]
    }
   ],
   "source": [
    "# Avengers: Endgame\n",
    "related_movies(\"tt4154796\")"
   ]
  },
  {
   "cell_type": "code",
   "execution_count": 18,
   "metadata": {},
   "outputs": [
    {
     "name": "stdout",
     "output_type": "stream",
     "text": [
      "| title                                                                           | cossim |\n",
      "|---------------------------------------------------------------------------------|--------|\n",
      "| [Thunderbolts* (2025)](https://www.imdb.com/title/tt20969586/)                  | 1.0    |\n",
      "| [Thunderbird (2021)](https://www.imdb.com/title/tt7993812/)                     | 0.864  |\n",
      "| [Day of Reckoning (2025)](https://www.imdb.com/title/tt35317668/)               | 0.86   |\n",
      "| [Shadow Force (2025)](https://www.imdb.com/title/tt11092020/)                   | 0.86   |\n",
      "| [Thunder Force (2021)](https://www.imdb.com/title/tt10121392/)                  | 0.855  |\n",
      "| [The Unlock (2025)](https://www.imdb.com/title/tt22889888/)                     | 0.85   |\n",
      "| [The Wizard of the Emerald City (2025)](https://www.imdb.com/title/tt24218194/) | 0.848  |\n",
      "| [Mickey 17 (2025)](https://www.imdb.com/title/tt12299608/)                      | 0.847  |\n",
      "| [Thunderbolt (1995)](https://www.imdb.com/title/tt0114126/)                     | 0.846  |\n",
      "| [Locked (2025)](https://www.imdb.com/title/tt26671996/)                         | 0.846  |\n"
     ]
    }
   ],
   "source": [
    "# Thunderbolts*\n",
    "related_movies(\"tt20969586\")"
   ]
  },
  {
   "cell_type": "code",
   "execution_count": 19,
   "metadata": {},
   "outputs": [
    {
     "name": "stdout",
     "output_type": "stream",
     "text": [
      "| title                                                                                                 | cossim |\n",
      "|-------------------------------------------------------------------------------------------------------|--------|\n",
      "| [Frozen (2013)](https://www.imdb.com/title/tt2294629/)                                                | 1.0    |\n",
      "| [Frozen II (2019)](https://www.imdb.com/title/tt4520988/)                                             | 0.93   |\n",
      "| [Frozen (2010)](https://www.imdb.com/title/tt1323045/)                                                | 0.92   |\n",
      "| [Frozen (2010)](https://www.imdb.com/title/tt1611845/)                                                | 0.917  |\n",
      "| [Frozen (1996)](https://www.imdb.com/title/tt0125279/)                                                | 0.909  |\n",
      "| [Frozen (2005)](https://www.imdb.com/title/tt0376606/)                                                | 0.9    |\n",
      "| [The Frozen (2012)](https://www.imdb.com/title/tt2363439/)                                            | 0.898  |\n",
      "| [The Story of Frozen: Making a Disney Animated Classic (2014)](https://www.imdb.com/title/tt4007494/) | 0.894  |\n",
      "| [Frozen (2007)](https://www.imdb.com/title/tt1071798/)                                                | 0.889  |\n",
      "| [Frozen in Time (2014)](https://www.imdb.com/title/tt4150316/)                                        | 0.888  |\n"
     ]
    }
   ],
   "source": [
    "# Frozen\n",
    "related_movies(\"tt2294629\")"
   ]
  },
  {
   "cell_type": "code",
   "execution_count": 20,
   "metadata": {},
   "outputs": [
    {
     "name": "stdout",
     "output_type": "stream",
     "text": [
      "| title                                                                                                                                      | cossim |\n",
      "|--------------------------------------------------------------------------------------------------------------------------------------------|--------|\n",
      "| [The Lord of the Rings: The Fellowship of the Ring (2001)](https://www.imdb.com/title/tt0120737/)                                          | 1.0    |\n",
      "| [The Lord of the Rings: The Two Towers (2002)](https://www.imdb.com/title/tt0167261/)                                                      | 0.922  |\n",
      "| [The Lord of the Rings: The Return of the King (2003)](https://www.imdb.com/title/tt0167260/)                                              | 0.92   |\n",
      "| [National Geographic: Beyond the Movie - The Lord of the Rings: The Fellowship of the Ring (2001)](https://www.imdb.com/title/tt10127200/) | 0.915  |\n",
      "| [A Passage to Middle-earth: The Making of 'Lord of the Rings' (2001)](https://www.imdb.com/title/tt0301246/)                               | 0.915  |\n",
      "| [Quest for the Ring (2001)](https://www.imdb.com/title/tt0299105/)                                                                         | 0.906  |\n",
      "| [The Lord of the Rings (1978)](https://www.imdb.com/title/tt0077869/)                                                                      | 0.893  |\n",
      "| [The Hobbit: The Battle of the Five Armies (2014)](https://www.imdb.com/title/tt2310332/)                                                  | 0.891  |\n",
      "| [The Hobbit: The Desolation of Smaug (2013)](https://www.imdb.com/title/tt1170358/)                                                        | 0.883  |\n",
      "| [The Hobbit: An Unexpected Journey (2012)](https://www.imdb.com/title/tt0903624/)                                                          | 0.883  |\n"
     ]
    }
   ],
   "source": [
    "# Lord of the Rings\n",
    "related_movies(\"tt0120737\")"
   ]
  },
  {
   "cell_type": "code",
   "execution_count": null,
   "metadata": {},
   "outputs": [],
   "source": []
  }
 ],
 "metadata": {
  "kernelspec": {
   "display_name": ".venv",
   "language": "python",
   "name": "python3"
  },
  "language_info": {
   "codemirror_mode": {
    "name": "ipython",
    "version": 3
   },
   "file_extension": ".py",
   "mimetype": "text/x-python",
   "name": "python",
   "nbconvert_exporter": "python",
   "pygments_lexer": "ipython3",
   "version": "3.13.1"
  }
 },
 "nbformat": 4,
 "nbformat_minor": 2
}
