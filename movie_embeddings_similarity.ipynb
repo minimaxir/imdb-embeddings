{
 "cells": [
  {
   "cell_type": "code",
   "execution_count": 1,
   "metadata": {},
   "outputs": [],
   "source": [
    "import polars as pl\n",
    "import numpy as np\n",
    "import os"
   ]
  },
  {
   "cell_type": "code",
   "execution_count": 4,
   "metadata": {},
   "outputs": [
    {
     "data": {
      "text/html": [
       "<div><style>\n",
       ".dataframe > thead > tr,\n",
       ".dataframe > tbody > tr {\n",
       "  text-align: right;\n",
       "  white-space: pre-wrap;\n",
       "}\n",
       "</style>\n",
       "<small>shape: (236_771, 7)</small><table border=\"1\" class=\"dataframe\"><thead><tr><th>tconst</th><th>startYear</th><th>numVotes</th><th>averageRating</th><th>json</th><th>embeds</th><th>title</th></tr><tr><td>str</td><td>i64</td><td>i64</td><td>f64</td><td>str</td><td>array[f32, 768]</td><td>str</td></tr></thead><tbody><tr><td>&quot;tt1921149&quot;</td><td>2014</td><td>23196</td><td>7.1</td><td>&quot;{&quot;title&quot;:&quot;Trash&quot;,&quot;genres&quot;:[&quot;Ad…</td><td>[0.035435, 0.038249, … -0.043424]</td><td>&quot;Trash&quot;</td></tr><tr><td>&quot;tt10944276&quot;</td><td>2020</td><td>718</td><td>4.8</td><td>&quot;{&quot;title&quot;:&quot;Death of a Telemarke…</td><td>[0.011852, 0.023681, … -0.014766]</td><td>&quot;Death of a Telemarketer&quot;</td></tr><tr><td>&quot;tt0116163&quot;</td><td>1996</td><td>5113</td><td>6.5</td><td>&quot;{&quot;title&quot;:&quot;Ebola Syndrome&quot;,&quot;gen…</td><td>[0.014408, 0.011426, … -0.015651]</td><td>&quot;Ebola Syndrome&quot;</td></tr><tr><td>&quot;tt13176330&quot;</td><td>2024</td><td>615</td><td>5.0</td><td>&quot;{&quot;title&quot;:&quot;Hitpig&quot;,&quot;genres&quot;:[&quot;A…</td><td>[0.020329, 0.077377, … -0.047044]</td><td>&quot;Hitpig&quot;</td></tr><tr><td>&quot;tt6594070&quot;</td><td>2018</td><td>73</td><td>4.7</td><td>&quot;{&quot;title&quot;:&quot;The October Flowers&quot;…</td><td>[-0.001671, 0.046787, … -0.037302]</td><td>&quot;The October Flowers&quot;</td></tr><tr><td>&hellip;</td><td>&hellip;</td><td>&hellip;</td><td>&hellip;</td><td>&hellip;</td><td>&hellip;</td><td>&hellip;</td></tr><tr><td>&quot;tt0467110&quot;</td><td>2007</td><td>23137</td><td>4.8</td><td>&quot;{&quot;title&quot;:&quot;Underdog&quot;,&quot;genres&quot;:[…</td><td>[0.04189, 0.008715, … -0.013782]</td><td>&quot;Underdog&quot;</td></tr><tr><td>&quot;tt0139678&quot;</td><td>1941</td><td>66</td><td>5.8</td><td>&quot;{&quot;title&quot;:&quot;T\\u00e4ysosuma&quot;,&quot;gen…</td><td>[0.025161, 0.060281, … -0.069796]</td><td>&quot;Täysosuma&quot;</td></tr><tr><td>&quot;tt2071571&quot;</td><td>2013</td><td>2398</td><td>4.1</td><td>&quot;{&quot;title&quot;:&quot;Scarecrow&quot;,&quot;genres&quot;:…</td><td>[-0.005015, 0.00519, … -0.039385]</td><td>&quot;Scarecrow&quot;</td></tr><tr><td>&quot;tt1985033&quot;</td><td>2011</td><td>201</td><td>8.3</td><td>&quot;{&quot;title&quot;:&quot;Beyonce: Year of Fou…</td><td>[0.042739, -0.0024, … -0.000777]</td><td>&quot;Beyonce: Year of Four&quot;</td></tr><tr><td>&quot;tt3780500&quot;</td><td>2017</td><td>11672</td><td>6.7</td><td>&quot;{&quot;title&quot;:&quot;Journey&#x27;s End&quot;,&quot;genr…</td><td>[-0.025322, 0.002188, … -0.042612]</td><td>&quot;Journey&#x27;s End&quot;</td></tr></tbody></table></div>"
      ],
      "text/plain": [
       "shape: (236_771, 7)\n",
       "┌────────────┬───────────┬──────────┬───────────────┬───────────────┬───────────────┬──────────────┐\n",
       "│ tconst     ┆ startYear ┆ numVotes ┆ averageRating ┆ json          ┆ embeds        ┆ title        │\n",
       "│ ---        ┆ ---       ┆ ---      ┆ ---           ┆ ---           ┆ ---           ┆ ---          │\n",
       "│ str        ┆ i64       ┆ i64      ┆ f64           ┆ str           ┆ array[f32,    ┆ str          │\n",
       "│            ┆           ┆          ┆               ┆               ┆ 768]          ┆              │\n",
       "╞════════════╪═══════════╪══════════╪═══════════════╪═══════════════╪═══════════════╪══════════════╡\n",
       "│ tt1921149  ┆ 2014      ┆ 23196    ┆ 7.1           ┆ {\"title\":\"Tra ┆ [0.035435,    ┆ Trash        │\n",
       "│            ┆           ┆          ┆               ┆ sh\",\"genres\": ┆ 0.038249, …   ┆              │\n",
       "│            ┆           ┆          ┆               ┆ [\"Ad…         ┆ -0.0434…      ┆              │\n",
       "│ tt10944276 ┆ 2020      ┆ 718      ┆ 4.8           ┆ {\"title\":\"Dea ┆ [0.011852,    ┆ Death of a   │\n",
       "│            ┆           ┆          ┆               ┆ th of a       ┆ 0.023681, …   ┆ Telemarketer │\n",
       "│            ┆           ┆          ┆               ┆ Telemarke…    ┆ -0.0147…      ┆              │\n",
       "│ tt0116163  ┆ 1996      ┆ 5113     ┆ 6.5           ┆ {\"title\":\"Ebo ┆ [0.014408,    ┆ Ebola        │\n",
       "│            ┆           ┆          ┆               ┆ la Syndrome\", ┆ 0.011426, …   ┆ Syndrome     │\n",
       "│            ┆           ┆          ┆               ┆ \"gen…         ┆ -0.0156…      ┆              │\n",
       "│ tt13176330 ┆ 2024      ┆ 615      ┆ 5.0           ┆ {\"title\":\"Hit ┆ [0.020329,    ┆ Hitpig       │\n",
       "│            ┆           ┆          ┆               ┆ pig\",\"genres\" ┆ 0.077377, …   ┆              │\n",
       "│            ┆           ┆          ┆               ┆ :[\"A…         ┆ -0.0470…      ┆              │\n",
       "│ tt6594070  ┆ 2018      ┆ 73       ┆ 4.7           ┆ {\"title\":\"The ┆ [-0.001671,   ┆ The October  │\n",
       "│            ┆           ┆          ┆               ┆ October       ┆ 0.046787, …   ┆ Flowers      │\n",
       "│            ┆           ┆          ┆               ┆ Flowers\"…     ┆ -0.037…       ┆              │\n",
       "│ …          ┆ …         ┆ …        ┆ …             ┆ …             ┆ …             ┆ …            │\n",
       "│ tt0467110  ┆ 2007      ┆ 23137    ┆ 4.8           ┆ {\"title\":\"Und ┆ [0.04189,     ┆ Underdog     │\n",
       "│            ┆           ┆          ┆               ┆ erdog\",\"genre ┆ 0.008715, …   ┆              │\n",
       "│            ┆           ┆          ┆               ┆ s\":[…         ┆ -0.01378…     ┆              │\n",
       "│ tt0139678  ┆ 1941      ┆ 66       ┆ 5.8           ┆ {\"title\":\"T\\u ┆ [0.025161,    ┆ Täysosuma    │\n",
       "│            ┆           ┆          ┆               ┆ 00e4ysosuma\", ┆ 0.060281, …   ┆              │\n",
       "│            ┆           ┆          ┆               ┆ \"gen…         ┆ -0.0697…      ┆              │\n",
       "│ tt2071571  ┆ 2013      ┆ 2398     ┆ 4.1           ┆ {\"title\":\"Sca ┆ [-0.005015,   ┆ Scarecrow    │\n",
       "│            ┆           ┆          ┆               ┆ recrow\",\"genr ┆ 0.00519, …    ┆              │\n",
       "│            ┆           ┆          ┆               ┆ es\":…         ┆ -0.0393…      ┆              │\n",
       "│ tt1985033  ┆ 2011      ┆ 201      ┆ 8.3           ┆ {\"title\":\"Bey ┆ [0.042739,    ┆ Beyonce:     │\n",
       "│            ┆           ┆          ┆               ┆ once: Year of ┆ -0.0024, …    ┆ Year of Four │\n",
       "│            ┆           ┆          ┆               ┆ Fou…          ┆ -0.00077…     ┆              │\n",
       "│ tt3780500  ┆ 2017      ┆ 11672    ┆ 6.7           ┆ {\"title\":\"Jou ┆ [-0.025322,   ┆ Journey's    │\n",
       "│            ┆           ┆          ┆               ┆ rney's        ┆ 0.002188, …   ┆ End          │\n",
       "│            ┆           ┆          ┆               ┆ End\",\"genr…   ┆ -0.042…       ┆              │\n",
       "└────────────┴───────────┴──────────┴───────────────┴───────────────┴───────────────┴──────────────┘"
      ]
     },
     "execution_count": 4,
     "metadata": {},
     "output_type": "execute_result"
    }
   ],
   "source": [
    "data_dir = \"/Users/maxwoolf/Downloads\"\n",
    "\n",
    "df = pl.read_parquet(\n",
    "    os.path.join(data_dir, \"movie_data_plus_embeds_all.parquet\"),\n",
    ").with_columns(\n",
    "    title=pl.col(\"json\").str.json_path_match(r\"$.title\"),\n",
    ")\n",
    "\n",
    "df"
   ]
  },
  {
   "cell_type": "code",
   "execution_count": 6,
   "metadata": {},
   "outputs": [
    {
     "data": {
      "text/plain": [
       "(236771, 768)"
      ]
     },
     "execution_count": 6,
     "metadata": {},
     "output_type": "execute_result"
    }
   ],
   "source": [
    "embeds = df[\"embeds\"].to_numpy()\n",
    "embeds.shape"
   ]
  },
  {
   "cell_type": "markdown",
   "metadata": {},
   "source": [
    "Test Star Wars\n"
   ]
  },
  {
   "cell_type": "code",
   "execution_count": 8,
   "metadata": {},
   "outputs": [
    {
     "data": {
      "text/plain": [
       "(768,)"
      ]
     },
     "execution_count": 8,
     "metadata": {},
     "output_type": "execute_result"
    }
   ],
   "source": [
    "movie = df.filter(pl.col(\"tconst\") == \"tt0076759\").rows(named=\"true\")[0]\n",
    "query_embed = np.array(movie[\"embeds\"])\n",
    "query_embed.shape"
   ]
  },
  {
   "cell_type": "code",
   "execution_count": 9,
   "metadata": {},
   "outputs": [
    {
     "data": {
      "text/plain": [
       "array([0.56890133, 0.58723163, 0.55072288, 0.6853516 , 0.54252828,\n",
       "       0.60906127, 0.58292649, 0.61072288, 0.64010188, 0.53257757])"
      ]
     },
     "execution_count": 9,
     "metadata": {},
     "output_type": "execute_result"
    }
   ],
   "source": [
    "cossims = query_embed @ embeds.T\n",
    "cossims[:10]"
   ]
  },
  {
   "cell_type": "code",
   "execution_count": 21,
   "metadata": {},
   "outputs": [
    {
     "data": {
      "text/plain": [
       "array([206252, 206628, 104432, 177372,  88930,  37690,  39146, 219943,\n",
       "       152254,  51136, 158526, 117392, 147588, 163276, 191297, 188044,\n",
       "       231111, 181583, 190071, 234292, 113867, 233509, 113548,  46825,\n",
       "       140475, 229203, 103314, 140033, 207626,  54017, 222820,  37589,\n",
       "       195078, 108529,  57292, 132680,  73393, 171024,  92700, 183536,\n",
       "       100663, 118154,   8739, 157522,  22373,  85719, 141190,  14653,\n",
       "       122173,  33676,  38759,  70295,  27806,  70276, 197863,  63810,\n",
       "       108001, 104241,  49830, 135463, 147786, 150316, 127640, 110705,\n",
       "       110422, 199781,  80288,  84124,  10010,  16329,  37647,  11450,\n",
       "        84368, 183368, 113580, 161952, 118667,  61498,  96166,  45385,\n",
       "       146370,  16844, 147536, 214846, 182658, 232815,  81480, 167264,\n",
       "        35235, 159966, 110833,  85098, 164804, 118929, 194214,  21305,\n",
       "       158513, 231213,  59057, 201674])"
      ]
     },
     "execution_count": 21,
     "metadata": {},
     "output_type": "execute_result"
    }
   ],
   "source": [
    "# https://stackoverflow.com/a/6910672\n",
    "top_idx = np.argsort(cossims)[-100:][::-1]\n",
    "top_idx"
   ]
  },
  {
   "cell_type": "code",
   "execution_count": 24,
   "metadata": {},
   "outputs": [
    {
     "data": {
      "text/plain": [
       "array([0.99999997, 0.86571068, 0.82682951, 0.8263989 , 0.81977434,\n",
       "       0.81941506, 0.81118548, 0.81045145, 0.80614216, 0.79548957,\n",
       "       0.79470226, 0.775438  , 0.77109689, 0.77057338, 0.76956178,\n",
       "       0.76827411, 0.76806791, 0.76665124, 0.76574274, 0.76474259,\n",
       "       0.7615931 , 0.76038585, 0.75951698, 0.75853496, 0.75702035,\n",
       "       0.75577689, 0.75485201, 0.75183444, 0.75121371, 0.75026687,\n",
       "       0.74942665, 0.74814597, 0.74584653, 0.73951284, 0.7393803 ,\n",
       "       0.73909254, 0.73737114, 0.73729253, 0.7365705 , 0.73437542,\n",
       "       0.73314665, 0.73060532, 0.72742735, 0.72294677, 0.7225022 ,\n",
       "       0.72042262, 0.71983925, 0.71527596, 0.71473636, 0.71472928,\n",
       "       0.71275583, 0.71215041, 0.71201581, 0.70974159, 0.70831535,\n",
       "       0.70731782, 0.70731532, 0.70568963, 0.70553747, 0.704865  ,\n",
       "       0.70460576, 0.7045627 , 0.70438034, 0.70408787, 0.7039469 ,\n",
       "       0.70365459, 0.7031081 , 0.70285143, 0.7026842 , 0.70259596,\n",
       "       0.7022299 , 0.7017879 , 0.70137641, 0.70136008, 0.70128066,\n",
       "       0.70120229, 0.70073078, 0.7005563 , 0.70054593, 0.70000582,\n",
       "       0.69993314, 0.69945794, 0.69940381, 0.69920608, 0.698995  ,\n",
       "       0.69874571, 0.69869002, 0.69847939, 0.69807748, 0.69786913,\n",
       "       0.6975828 , 0.69683748, 0.69677584, 0.69676396, 0.69654525,\n",
       "       0.69650603, 0.69642504, 0.6963936 , 0.69556833, 0.69517543])"
      ]
     },
     "execution_count": 24,
     "metadata": {},
     "output_type": "execute_result"
    }
   ],
   "source": [
    "top_cossims = cossims[top_idx]\n",
    "top_cossims"
   ]
  },
  {
   "cell_type": "code",
   "execution_count": 26,
   "metadata": {},
   "outputs": [
    {
     "data": {
      "text/html": [
       "<div><style>\n",
       ".dataframe > thead > tr,\n",
       ".dataframe > tbody > tr {\n",
       "  text-align: right;\n",
       "  white-space: pre-wrap;\n",
       "}\n",
       "</style>\n",
       "<small>shape: (100, 2)</small><table border=\"1\" class=\"dataframe\"><thead><tr><th>title</th><th>cossim</th></tr><tr><td>str</td><td>f64</td></tr></thead><tbody><tr><td>&quot;Star Wars: Episode IV - A New …</td><td>1.0</td></tr><tr><td>&quot;Star Wars: Episode V - The Emp…</td><td>0.865711</td></tr><tr><td>&quot;Star Wars: Episode VI - Return…</td><td>0.82683</td></tr><tr><td>&quot;Star Wars: Episode VII - The F…</td><td>0.826399</td></tr><tr><td>&quot;Star Wars: Episode VIII - The …</td><td>0.819774</td></tr><tr><td>&hellip;</td><td>&hellip;</td></tr><tr><td>&quot;Magnus&quot;</td><td>0.696506</td></tr><tr><td>&quot;Parallels&quot;</td><td>0.696425</td></tr><tr><td>&quot;Knights&quot;</td><td>0.696394</td></tr><tr><td>&quot;Kawao tee Bangpleng&quot;</td><td>0.695568</td></tr><tr><td>&quot;To End All Wars&quot;</td><td>0.695175</td></tr></tbody></table></div>"
      ],
      "text/plain": [
       "shape: (100, 2)\n",
       "┌─────────────────────────────────┬──────────┐\n",
       "│ title                           ┆ cossim   │\n",
       "│ ---                             ┆ ---      │\n",
       "│ str                             ┆ f64      │\n",
       "╞═════════════════════════════════╪══════════╡\n",
       "│ Star Wars: Episode IV - A New … ┆ 1.0      │\n",
       "│ Star Wars: Episode V - The Emp… ┆ 0.865711 │\n",
       "│ Star Wars: Episode VI - Return… ┆ 0.82683  │\n",
       "│ Star Wars: Episode VII - The F… ┆ 0.826399 │\n",
       "│ Star Wars: Episode VIII - The … ┆ 0.819774 │\n",
       "│ …                               ┆ …        │\n",
       "│ Magnus                          ┆ 0.696506 │\n",
       "│ Parallels                       ┆ 0.696425 │\n",
       "│ Knights                         ┆ 0.696394 │\n",
       "│ Kawao tee Bangpleng             ┆ 0.695568 │\n",
       "│ To End All Wars                 ┆ 0.695175 │\n",
       "└─────────────────────────────────┴──────────┘"
      ]
     },
     "execution_count": 26,
     "metadata": {},
     "output_type": "execute_result"
    }
   ],
   "source": [
    "df_related = pl.DataFrame(\n",
    "    {\"title\": df[top_idx][\"title\"].to_list(), \"cossim\": top_cossims}\n",
    ")\n",
    "df_related"
   ]
  },
  {
   "cell_type": "markdown",
   "metadata": {},
   "source": [
    "## Functionalize\n"
   ]
  },
  {
   "cell_type": "code",
   "execution_count": 35,
   "metadata": {},
   "outputs": [],
   "source": [
    "def related_movies(movie_id):\n",
    "    movie = df.filter(pl.col(\"tconst\") == movie_id).rows(named=\"true\")[0]\n",
    "    query_embed = np.array(movie[\"embeds\"])\n",
    "\n",
    "    cossims = query_embed @ embeds.T\n",
    "    top_idx = np.argsort(cossims)[-100:][::-1]\n",
    "    top_cossims = cossims[top_idx]\n",
    "\n",
    "    with pl.Config(tbl_rows=20):\n",
    "        print(\n",
    "            pl.DataFrame(\n",
    "                {\"title\": df[top_idx][\"title\"].to_list(), \"cossim\": top_cossims}\n",
    "            )\n",
    "        )"
   ]
  },
  {
   "cell_type": "code",
   "execution_count": null,
   "metadata": {},
   "outputs": [
    {
     "name": "stdout",
     "output_type": "stream",
     "text": [
      "shape: (100, 2)\n",
      "┌────────────────────────────┬──────────┐\n",
      "│ title                      ┆ cossim   │\n",
      "│ ---                        ┆ ---      │\n",
      "│ str                        ┆ f64      │\n",
      "╞════════════════════════════╪══════════╡\n",
      "│ Sonic the Hedgehog 3       ┆ 1.0      │\n",
      "│ Sonic the Hedgehog         ┆ 0.949313 │\n",
      "│ Sonic the Hedgehog 2       ┆ 0.925007 │\n",
      "│ Sonic Impact               ┆ 0.798665 │\n",
      "│ The Hedgehog               ┆ 0.795263 │\n",
      "│ Hedgehogs                  ┆ 0.793229 │\n",
      "│ Sonic Sea                  ┆ 0.792646 │\n",
      "│ Sonic Rebuilt              ┆ 0.776375 │\n",
      "│ Hedgehog                   ┆ 0.766838 │\n",
      "│ The Hedgehogs              ┆ 0.766778 │\n",
      "│ …                          ┆ …        │\n",
      "│ Guido                      ┆ 0.710525 │\n",
      "│ Jimmy                      ┆ 0.710522 │\n",
      "│ Hop                        ┆ 0.710446 │\n",
      "│ Echo Dr.                   ┆ 0.710361 │\n",
      "│ Pearl                      ┆ 0.710284 │\n",
      "│ Heart's boomerang          ┆ 0.710211 │\n",
      "│ Sequoia                    ┆ 0.710122 │\n",
      "│ Google and the World Brain ┆ 0.7101   │\n",
      "│ Shark School               ┆ 0.710029 │\n",
      "│ Virtually Heroes           ┆ 0.709974 │\n",
      "└────────────────────────────┴──────────┘\n"
     ]
    }
   ],
   "source": [
    "# Sonic the Hedgehog 3\n",
    "related_movies(\"tt18259086\")"
   ]
  },
  {
   "cell_type": "code",
   "execution_count": 37,
   "metadata": {},
   "outputs": [
    {
     "name": "stdout",
     "output_type": "stream",
     "text": [
      "shape: (100, 2)\n",
      "┌────────────────────────┬──────────┐\n",
      "│ title                  ┆ cossim   │\n",
      "│ ---                    ┆ ---      │\n",
      "│ str                    ┆ f64      │\n",
      "╞════════════════════════╪══════════╡\n",
      "│ Titanic                ┆ 1.0      │\n",
      "│ Titanic                ┆ 0.86594  │\n",
      "│ Raise the Titanic      ┆ 0.850919 │\n",
      "│ Titanic Town           ┆ 0.848641 │\n",
      "│ Reflections on Titanic ┆ 0.838914 │\n",
      "│ S.O.S. Titanic         ┆ 0.832334 │\n",
      "│ Titanic                ┆ 0.825235 │\n",
      "│ Saving the Titanic     ┆ 0.823673 │\n",
      "│ Titanic: 100 Years On  ┆ 0.819573 │\n",
      "│ Titanic: 100 Years in  ┆ 0.816164 │\n",
      "│ …                      ┆ …        │\n",
      "│ Lucia                  ┆ 0.756986 │\n",
      "│ Platinum               ┆ 0.75679  │\n",
      "│ With or Without You    ┆ 0.756671 │\n",
      "│ Hearts in Atlantis     ┆ 0.756415 │\n",
      "│ Between Forever        ┆ 0.756322 │\n",
      "│ Troubled Waters        ┆ 0.756251 │\n",
      "│ Reg                    ┆ 0.756089 │\n",
      "│ Dad                    ┆ 0.756085 │\n",
      "│ Lilting                ┆ 0.756054 │\n",
      "│ Helena                 ┆ 0.756002 │\n",
      "└────────────────────────┴──────────┘\n"
     ]
    }
   ],
   "source": [
    "# Titanic\n",
    "related_movies(\"tt0120338\")"
   ]
  },
  {
   "cell_type": "code",
   "execution_count": 38,
   "metadata": {},
   "outputs": [
    {
     "name": "stdout",
     "output_type": "stream",
     "text": [
      "shape: (100, 2)\n",
      "┌───────────────────────────────┬──────────┐\n",
      "│ title                         ┆ cossim   │\n",
      "│ ---                           ┆ ---      │\n",
      "│ str                           ┆ f64      │\n",
      "╞═══════════════════════════════╪══════════╡\n",
      "│ The Matrix                    ┆ 1.0      │\n",
      "│ The Matrix Reloaded           ┆ 0.954368 │\n",
      "│ The Matrix Revolutions        ┆ 0.9392   │\n",
      "│ The Matrix Resurrections      ┆ 0.901059 │\n",
      "│ The Matrix: The Movie Special ┆ 0.878592 │\n",
      "│ The Matrix: Reborn            ┆ 0.794133 │\n",
      "│ Replicas                      ┆ 0.783146 │\n",
      "│ Generation Um...              ┆ 0.764482 │\n",
      "│ Hacked                        ┆ 0.763077 │\n",
      "│ Guardian                      ┆ 0.761921 │\n",
      "│ …                             ┆ …        │\n",
      "│ Stay                          ┆ 0.741514 │\n",
      "│ Lush                          ┆ 0.741408 │\n",
      "│ Only                          ┆ 0.741335 │\n",
      "│ The Contract                  ┆ 0.741328 │\n",
      "│ Betrayal                      ┆ 0.741282 │\n",
      "│ ...Almost                     ┆ 0.741259 │\n",
      "│ Are You Here                  ┆ 0.74112  │\n",
      "│ An Actor Prepares             ┆ 0.741108 │\n",
      "│ Atlas                         ┆ 0.740906 │\n",
      "│ Retrograde                    ┆ 0.740904 │\n",
      "└───────────────────────────────┴──────────┘\n"
     ]
    }
   ],
   "source": [
    "# The Matrix\n",
    "related_movies(\"tt0133093\")"
   ]
  },
  {
   "cell_type": "code",
   "execution_count": 39,
   "metadata": {},
   "outputs": [
    {
     "name": "stdout",
     "output_type": "stream",
     "text": [
      "shape: (100, 2)\n",
      "┌──────────────────────────────┬──────────┐\n",
      "│ title                        ┆ cossim   │\n",
      "│ ---                          ┆ ---      │\n",
      "│ str                          ┆ f64      │\n",
      "╞══════════════════════════════╪══════════╡\n",
      "│ Spirited Away                ┆ 1.0      │\n",
      "│ Spirited Away: Live on Stage ┆ 0.872152 │\n",
      "│ Yuki                         ┆ 0.806406 │\n",
      "│ Spirited                     ┆ 0.80101  │\n",
      "│ Your Name.                   ┆ 0.790444 │\n",
      "│ A Letter to Momo             ┆ 0.774361 │\n",
      "│ Hal                          ┆ 0.773274 │\n",
      "│ Family                       ┆ 0.77277  │\n",
      "│ My Neighbor Totoro           ┆ 0.770817 │\n",
      "│ Blame!                       ┆ 0.769622 │\n",
      "│ …                            ┆ …        │\n",
      "│ Hello World                  ┆ 0.741126 │\n",
      "│ Liz and the Blue Bird        ┆ 0.741084 │\n",
      "│ Ask This of Rikyu            ┆ 0.741036 │\n",
      "│ Penguin Highway              ┆ 0.741025 │\n",
      "│ Asylum Session               ┆ 0.740821 │\n",
      "│ Nobuko                       ┆ 0.740819 │\n",
      "│ Mukoku                       ┆ 0.740192 │\n",
      "│ Origin: Spirits of the Past  ┆ 0.739824 │\n",
      "│ Extinct                      ┆ 0.739775 │\n",
      "│ Napping Princess             ┆ 0.739731 │\n",
      "└──────────────────────────────┴──────────┘\n"
     ]
    }
   ],
   "source": [
    "# Spirited Away\n",
    "related_movies(\"tt0245429\")"
   ]
  },
  {
   "cell_type": "code",
   "execution_count": 40,
   "metadata": {},
   "outputs": [
    {
     "name": "stdout",
     "output_type": "stream",
     "text": [
      "shape: (100, 2)\n",
      "┌─────────────────────────────────┬──────────┐\n",
      "│ title                           ┆ cossim   │\n",
      "│ ---                             ┆ ---      │\n",
      "│ str                             ┆ f64      │\n",
      "╞═════════════════════════════════╪══════════╡\n",
      "│ Everything Everywhere All at O… ┆ 1.0      │\n",
      "│ Everything and Everyone         ┆ 0.823197 │\n",
      "│ All at Once                     ┆ 0.814642 │\n",
      "│ All at Once                     ┆ 0.809112 │\n",
      "│ Everything at Once              ┆ 0.808358 │\n",
      "│ Anywhere Somewhere Nowhere      ┆ 0.806519 │\n",
      "│ Everywhere                      ┆ 0.79885  │\n",
      "│ Love, Once and Always           ┆ 0.791778 │\n",
      "│ All the Way                     ┆ 0.786891 │\n",
      "│ Access All Areas                ┆ 0.786082 │\n",
      "│ …                               ┆ …        │\n",
      "│ Nothing to Lose                 ┆ 0.755258 │\n",
      "│ Instant Issues                  ┆ 0.755165 │\n",
      "│ Adventures in Success           ┆ 0.755096 │\n",
      "│ Gunless                         ┆ 0.754681 │\n",
      "│ Chronically Metropolitan        ┆ 0.754553 │\n",
      "│ At Risk                         ┆ 0.754453 │\n",
      "│ Everything Always All the Time  ┆ 0.754182 │\n",
      "│ All or Nothing                  ┆ 0.754025 │\n",
      "│ All Three of Us                 ┆ 0.754016 │\n",
      "│ Irresistible                    ┆ 0.75383  │\n",
      "└─────────────────────────────────┴──────────┘\n"
     ]
    }
   ],
   "source": [
    "# Everything Everywhere All at Once\n",
    "related_movies(\"tt6710474\")"
   ]
  },
  {
   "cell_type": "code",
   "execution_count": 41,
   "metadata": {},
   "outputs": [
    {
     "name": "stdout",
     "output_type": "stream",
     "text": [
      "shape: (100, 2)\n",
      "┌─────────────────────────────────┬──────────┐\n",
      "│ title                           ┆ cossim   │\n",
      "│ ---                             ┆ ---      │\n",
      "│ str                             ┆ f64      │\n",
      "╞═════════════════════════════════╪══════════╡\n",
      "│ The Avengers                    ┆ 1.0      │\n",
      "│ The Avengers Assemble Premiere  ┆ 0.874893 │\n",
      "│ The Avengers                    ┆ 0.856223 │\n",
      "│ Avengers: Age of Ultron         ┆ 0.851094 │\n",
      "│ Avengers: Infinity War          ┆ 0.851068 │\n",
      "│ Avengers: Endgame               ┆ 0.84401  │\n",
      "│ The Avengers                    ┆ 0.813166 │\n",
      "│ Captain America: The First Ave… ┆ 0.798043 │\n",
      "│ Alien Avengers                  ┆ 0.796697 │\n",
      "│ The Avengers                    ┆ 0.782974 │\n",
      "│ …                               ┆ …        │\n",
      "│ Edge of Tomorrow                ┆ 0.715891 │\n",
      "│ Iron Soldier                    ┆ 0.715866 │\n",
      "│ 2020                            ┆ 0.715723 │\n",
      "│ Avenged                         ┆ 0.715417 │\n",
      "│ Space Cadet                     ┆ 0.715079 │\n",
      "│ Plane                           ┆ 0.715055 │\n",
      "│ The Runway                      ┆ 0.714837 │\n",
      "│ The Iron Girl                   ┆ 0.714686 │\n",
      "│ 23                              ┆ 0.714682 │\n",
      "│ American Made                   ┆ 0.71442  │\n",
      "└─────────────────────────────────┴──────────┘\n"
     ]
    }
   ],
   "source": [
    "# The Avengers\n",
    "related_movies(\"tt0848228\")"
   ]
  }
 ],
 "metadata": {
  "kernelspec": {
   "display_name": ".venv",
   "language": "python",
   "name": "python3"
  },
  "language_info": {
   "codemirror_mode": {
    "name": "ipython",
    "version": 3
   },
   "file_extension": ".py",
   "mimetype": "text/x-python",
   "name": "python",
   "nbconvert_exporter": "python",
   "pygments_lexer": "ipython3",
   "version": "3.13.1"
  }
 },
 "nbformat": 4,
 "nbformat_minor": 2
}
