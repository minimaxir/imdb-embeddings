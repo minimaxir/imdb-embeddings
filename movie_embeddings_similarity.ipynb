{
 "cells": [
  {
   "cell_type": "code",
   "execution_count": 1,
   "metadata": {},
   "outputs": [],
   "source": [
    "import polars as pl\n",
    "import numpy as np\n",
    "import os"
   ]
  },
  {
   "cell_type": "code",
   "execution_count": 2,
   "metadata": {},
   "outputs": [
    {
     "data": {
      "text/html": [
       "<div><style>\n",
       ".dataframe > thead > tr,\n",
       ".dataframe > tbody > tr {\n",
       "  text-align: right;\n",
       "  white-space: pre-wrap;\n",
       "}\n",
       "</style>\n",
       "<small>shape: (238_628, 7)</small><table border=\"1\" class=\"dataframe\"><thead><tr><th>tconst</th><th>startYear</th><th>numVotes</th><th>averageRating</th><th>json</th><th>embedding</th><th>title</th></tr><tr><td>str</td><td>i64</td><td>i64</td><td>f64</td><td>str</td><td>array[f32, 768]</td><td>str</td></tr></thead><tbody><tr><td>&quot;tt0000009&quot;</td><td>1894</td><td>220</td><td>5.3</td><td>&quot;{\n",
       "&nbsp;&nbsp;&quot;title&quot;: &quot;Miss Jerry&quot;,\n",
       "&nbsp;&nbsp;&quot;…</td><td>[-0.007815, -0.022642, … 0.005391]</td><td>&quot;Miss Jerry&quot;</td></tr><tr><td>&quot;tt0000147&quot;</td><td>1897</td><td>549</td><td>5.3</td><td>&quot;{\n",
       "&nbsp;&nbsp;&quot;title&quot;: &quot;The Corbett-Fitz…</td><td>[0.012021, 0.014255, … -0.015754]</td><td>&quot;The Corbett-Fitzsimmons Fight&quot;</td></tr><tr><td>&quot;tt0000574&quot;</td><td>1906</td><td>971</td><td>6.0</td><td>&quot;{\n",
       "&nbsp;&nbsp;&quot;title&quot;: &quot;The Story of the…</td><td>[-0.010052, -0.015825, … 0.040161]</td><td>&quot;The Story of the Kelly Gang&quot;</td></tr><tr><td>&quot;tt0000591&quot;</td><td>1907</td><td>30</td><td>5.6</td><td>&quot;{\n",
       "&nbsp;&nbsp;&quot;title&quot;: &quot;The Prodigal Son…</td><td>[0.00765, 0.019661, … -0.010763]</td><td>&quot;The Prodigal Son&quot;</td></tr><tr><td>&quot;tt0000630&quot;</td><td>1908</td><td>30</td><td>3.1</td><td>&quot;{\n",
       "&nbsp;&nbsp;&quot;title&quot;: &quot;Hamlet&quot;,\n",
       "&nbsp;&nbsp;&quot;genr…</td><td>[0.03492, 0.00301, … 0.027586]</td><td>&quot;Hamlet&quot;</td></tr><tr><td>&hellip;</td><td>&hellip;</td><td>&hellip;</td><td>&hellip;</td><td>&hellip;</td><td>&hellip;</td><td>&hellip;</td></tr><tr><td>&quot;tt9915790&quot;</td><td>2019</td><td>44</td><td>7.0</td><td>&quot;{\n",
       "&nbsp;&nbsp;&quot;title&quot;: &quot;Bobbyr Bondhura&quot;…</td><td>[-0.008241, -0.024547, … -0.014563]</td><td>&quot;Bobbyr Bondhura&quot;</td></tr><tr><td>&quot;tt9916160&quot;</td><td>2019</td><td>52</td><td>6.2</td><td>&quot;{\n",
       "&nbsp;&nbsp;&quot;title&quot;: &quot;Drømmeland&quot;,\n",
       "&nbsp;&nbsp;&quot;…</td><td>[-0.014737, -0.035892, … 0.027569]</td><td>&quot;Drømmeland&quot;</td></tr><tr><td>&quot;tt9916190&quot;</td><td>2020</td><td>262</td><td>3.6</td><td>&quot;{\n",
       "&nbsp;&nbsp;&quot;title&quot;: &quot;Safeguard&quot;,\n",
       "&nbsp;&nbsp;&quot;g…</td><td>[0.017858, -0.018587, … -0.007212]</td><td>&quot;Safeguard&quot;</td></tr><tr><td>&quot;tt9916270&quot;</td><td>2020</td><td>1501</td><td>5.8</td><td>&quot;{\n",
       "&nbsp;&nbsp;&quot;title&quot;: &quot;Il talento del c…</td><td>[0.02358, -0.024546, … 0.017486]</td><td>&quot;Il talento del calabrone&quot;</td></tr><tr><td>&quot;tt9916362&quot;</td><td>2020</td><td>6002</td><td>6.4</td><td>&quot;{\n",
       "&nbsp;&nbsp;&quot;title&quot;: &quot;Coven&quot;,\n",
       "&nbsp;&nbsp;&quot;genre…</td><td>[-0.014186, -0.014569, … 0.017407]</td><td>&quot;Coven&quot;</td></tr></tbody></table></div>"
      ],
      "text/plain": [
       "shape: (238_628, 7)\n",
       "┌───────────┬───────────┬──────────┬───────────────┬───────────────┬───────────────┬───────────────┐\n",
       "│ tconst    ┆ startYear ┆ numVotes ┆ averageRating ┆ json          ┆ embedding     ┆ title         │\n",
       "│ ---       ┆ ---       ┆ ---      ┆ ---           ┆ ---           ┆ ---           ┆ ---           │\n",
       "│ str       ┆ i64       ┆ i64      ┆ f64           ┆ str           ┆ array[f32,    ┆ str           │\n",
       "│           ┆           ┆          ┆               ┆               ┆ 768]          ┆               │\n",
       "╞═══════════╪═══════════╪══════════╪═══════════════╪═══════════════╪═══════════════╪═══════════════╡\n",
       "│ tt0000009 ┆ 1894      ┆ 220      ┆ 5.3           ┆ {             ┆ [-0.007815,   ┆ Miss Jerry    │\n",
       "│           ┆           ┆          ┆               ┆ \"title\":      ┆ -0.022642, …  ┆               │\n",
       "│           ┆           ┆          ┆               ┆ \"Miss Jerry\", ┆ 0.005…        ┆               │\n",
       "│           ┆           ┆          ┆               ┆   \"…          ┆               ┆               │\n",
       "│ tt0000147 ┆ 1897      ┆ 549      ┆ 5.3           ┆ {             ┆ [0.012021,    ┆ The Corbett-F │\n",
       "│           ┆           ┆          ┆               ┆ \"title\": \"The ┆ 0.014255, …   ┆ itzsimmons    │\n",
       "│           ┆           ┆          ┆               ┆ Corbett-Fitz… ┆ -0.0157…      ┆ Fight         │\n",
       "│ tt0000574 ┆ 1906      ┆ 971      ┆ 6.0           ┆ {             ┆ [-0.010052,   ┆ The Story of  │\n",
       "│           ┆           ┆          ┆               ┆ \"title\": \"The ┆ -0.015825, …  ┆ the Kelly     │\n",
       "│           ┆           ┆          ┆               ┆ Story of the… ┆ 0.040…        ┆ Gang          │\n",
       "│ tt0000591 ┆ 1907      ┆ 30       ┆ 5.6           ┆ {             ┆ [0.00765,     ┆ The Prodigal  │\n",
       "│           ┆           ┆          ┆               ┆ \"title\": \"The ┆ 0.019661, …   ┆ Son           │\n",
       "│           ┆           ┆          ┆               ┆ Prodigal Son… ┆ -0.01076…     ┆               │\n",
       "│ tt0000630 ┆ 1908      ┆ 30       ┆ 3.1           ┆ {             ┆ [0.03492,     ┆ Hamlet        │\n",
       "│           ┆           ┆          ┆               ┆ \"title\":      ┆ 0.00301, …    ┆               │\n",
       "│           ┆           ┆          ┆               ┆ \"Hamlet\",     ┆ 0.027586]     ┆               │\n",
       "│           ┆           ┆          ┆               ┆   \"genr…      ┆               ┆               │\n",
       "│ …         ┆ …         ┆ …        ┆ …             ┆ …             ┆ …             ┆ …             │\n",
       "│ tt9915790 ┆ 2019      ┆ 44       ┆ 7.0           ┆ {             ┆ [-0.008241,   ┆ Bobbyr        │\n",
       "│           ┆           ┆          ┆               ┆ \"title\":      ┆ -0.024547, …  ┆ Bondhura      │\n",
       "│           ┆           ┆          ┆               ┆ \"Bobbyr       ┆ -0.01…        ┆               │\n",
       "│           ┆           ┆          ┆               ┆ Bondhura\"…    ┆               ┆               │\n",
       "│ tt9916160 ┆ 2019      ┆ 52       ┆ 6.2           ┆ {             ┆ [-0.014737,   ┆ Drømmeland    │\n",
       "│           ┆           ┆          ┆               ┆ \"title\":      ┆ -0.035892, …  ┆               │\n",
       "│           ┆           ┆          ┆               ┆ \"Drømmeland\", ┆ 0.027…        ┆               │\n",
       "│           ┆           ┆          ┆               ┆   \"…          ┆               ┆               │\n",
       "│ tt9916190 ┆ 2020      ┆ 262      ┆ 3.6           ┆ {             ┆ [0.017858,    ┆ Safeguard     │\n",
       "│           ┆           ┆          ┆               ┆ \"title\":      ┆ -0.018587, …  ┆               │\n",
       "│           ┆           ┆          ┆               ┆ \"Safeguard\",  ┆ -0.007…       ┆               │\n",
       "│           ┆           ┆          ┆               ┆   \"g…         ┆               ┆               │\n",
       "│ tt9916270 ┆ 2020      ┆ 1501     ┆ 5.8           ┆ {             ┆ [0.02358,     ┆ Il talento    │\n",
       "│           ┆           ┆          ┆               ┆ \"title\": \"Il  ┆ -0.024546, …  ┆ del calabrone │\n",
       "│           ┆           ┆          ┆               ┆ talento del   ┆ 0.01748…      ┆               │\n",
       "│           ┆           ┆          ┆               ┆ c…            ┆               ┆               │\n",
       "│ tt9916362 ┆ 2020      ┆ 6002     ┆ 6.4           ┆ {             ┆ [-0.014186,   ┆ Coven         │\n",
       "│           ┆           ┆          ┆               ┆ \"title\":      ┆ -0.014569, …  ┆               │\n",
       "│           ┆           ┆          ┆               ┆ \"Coven\",      ┆ 0.017…        ┆               │\n",
       "│           ┆           ┆          ┆               ┆   \"genre…     ┆               ┆               │\n",
       "└───────────┴───────────┴──────────┴───────────────┴───────────────┴───────────────┴───────────────┘"
      ]
     },
     "execution_count": 2,
     "metadata": {},
     "output_type": "execute_result"
    }
   ],
   "source": [
    "data_dir = \"/Users/maxwoolf/Downloads\"\n",
    "\n",
    "df = pl.read_parquet(\n",
    "    os.path.join(data_dir, \"movie_data_plus_embeds_all-2.parquet\"),\n",
    ").with_columns(\n",
    "    title=pl.col(\"json\").str.json_path_match(r\"$.title\"),\n",
    ")\n",
    "\n",
    "df"
   ]
  },
  {
   "cell_type": "code",
   "execution_count": 3,
   "metadata": {},
   "outputs": [
    {
     "data": {
      "text/plain": [
       "(238628, 768)"
      ]
     },
     "execution_count": 3,
     "metadata": {},
     "output_type": "execute_result"
    }
   ],
   "source": [
    "embeddings = df[\"embedding\"].to_numpy()\n",
    "embeddings.shape"
   ]
  },
  {
   "cell_type": "markdown",
   "metadata": {},
   "source": [
    "Test Star Wars\n"
   ]
  },
  {
   "cell_type": "code",
   "execution_count": 4,
   "metadata": {},
   "outputs": [
    {
     "data": {
      "text/plain": [
       "(768,)"
      ]
     },
     "execution_count": 4,
     "metadata": {},
     "output_type": "execute_result"
    }
   ],
   "source": [
    "movie = df.filter(pl.col(\"tconst\") == \"tt0076759\").rows(named=\"true\")[0]\n",
    "query_embed = np.array(movie[\"embedding\"])\n",
    "query_embed.shape"
   ]
  },
  {
   "cell_type": "code",
   "execution_count": 5,
   "metadata": {},
   "outputs": [
    {
     "data": {
      "text/plain": [
       "array([0.70110115, 0.70786815, 0.74661582, 0.70941803, 0.74154506,\n",
       "       0.68520667, 0.75312955, 0.73177594, 0.74492537, 0.69306157])"
      ]
     },
     "execution_count": 5,
     "metadata": {},
     "output_type": "execute_result"
    }
   ],
   "source": [
    "cossims = query_embed @ embeddings.T\n",
    "cossims[:10]"
   ]
  },
  {
   "cell_type": "code",
   "execution_count": 6,
   "metadata": {},
   "outputs": [
    {
     "data": {
      "text/plain": [
       "array([ 34813,  37227,  40669,  60225, 180088, 180089,  60072, 179595,\n",
       "       109079,  90344,  90317, 131549,  42336, 110418,  60224, 200476,\n",
       "       174356, 212505, 126819, 102565,  82936,  41245, 200722,  96260,\n",
       "       198050, 121942, 131979,  74291, 119596, 220242,  41479, 116744,\n",
       "       214137, 212719, 131269, 171486, 229077,  41400, 101374,  32494,\n",
       "        89496, 108630, 178189,  28231, 209930, 129169, 168278, 122017,\n",
       "       165961,  38724,  55670,  93497, 230488, 122406,  32292, 144959,\n",
       "       100128, 198336,  78926,  65894,  70709, 220426,  50452, 133255,\n",
       "        33406,  34639,  93753, 135010,  88506,  38711, 121345, 138869,\n",
       "       107015, 129789,  88747,  42075,  42377,  77280, 167714,  42585,\n",
       "       125653,  59134,  58524,  58741, 129436,  30733, 136683,  87950,\n",
       "       195733,  34044,  31544, 100037,  27902,  56366,  49986,  36915,\n",
       "       161738,  75854, 125481, 156674])"
      ]
     },
     "execution_count": 6,
     "metadata": {},
     "output_type": "execute_result"
    }
   ],
   "source": [
    "# https://stackoverflow.com/a/6910672\n",
    "top_idx = np.argsort(cossims)[-100:][::-1]\n",
    "top_idx"
   ]
  },
  {
   "cell_type": "code",
   "execution_count": 7,
   "metadata": {},
   "outputs": [
    {
     "data": {
      "text/plain": [
       "array([0.99999988, 0.92043304, 0.91696225, 0.90745466, 0.90449376,\n",
       "       0.90331304, 0.89827816, 0.89408195, 0.89119305, 0.89097709,\n",
       "       0.89063769, 0.88878801, 0.8843457 , 0.88232312, 0.88046529,\n",
       "       0.87946889, 0.87796033, 0.87576742, 0.87423456, 0.87414255,\n",
       "       0.87391586, 0.87042162, 0.86945008, 0.86812902, 0.86658614,\n",
       "       0.86582452, 0.86331534, 0.86064976, 0.8588337 , 0.85881803,\n",
       "       0.85645084, 0.85576067, 0.85383235, 0.85376825, 0.85354023,\n",
       "       0.85345668, 0.85337922, 0.85278556, 0.85221014, 0.85175825,\n",
       "       0.85113342, 0.84912398, 0.84840477, 0.847578  , 0.84756099,\n",
       "       0.84717688, 0.84621708, 0.84575343, 0.84563859, 0.84543791,\n",
       "       0.84488446, 0.84444148, 0.84330353, 0.84317802, 0.84310937,\n",
       "       0.8427787 , 0.84273456, 0.84273263, 0.84170224, 0.84149097,\n",
       "       0.84105725, 0.84096003, 0.84085799, 0.84082539, 0.84033219,\n",
       "       0.8402781 , 0.84010948, 0.83957534, 0.83865016, 0.83727246,\n",
       "       0.83722156, 0.83681763, 0.83618749, 0.83600212, 0.83531614,\n",
       "       0.83530093, 0.83524301, 0.83514592, 0.83507115, 0.83499614,\n",
       "       0.83421623, 0.83397653, 0.83380065, 0.83370388, 0.83355532,\n",
       "       0.83299   , 0.83294649, 0.83195837, 0.8317553 , 0.83144139,\n",
       "       0.83111778, 0.83100782, 0.83091939, 0.83088538, 0.83074722,\n",
       "       0.83024671, 0.8299803 , 0.82990777, 0.82984197, 0.82978906])"
      ]
     },
     "execution_count": 7,
     "metadata": {},
     "output_type": "execute_result"
    }
   ],
   "source": [
    "top_cossims = cossims[top_idx]\n",
    "top_cossims"
   ]
  },
  {
   "cell_type": "code",
   "execution_count": 8,
   "metadata": {},
   "outputs": [
    {
     "data": {
      "text/html": [
       "<div><style>\n",
       ".dataframe > thead > tr,\n",
       ".dataframe > tbody > tr {\n",
       "  text-align: right;\n",
       "  white-space: pre-wrap;\n",
       "}\n",
       "</style>\n",
       "<small>shape: (100, 2)</small><table border=\"1\" class=\"dataframe\"><thead><tr><th>title</th><th>cossim</th></tr><tr><td>str</td><td>f64</td></tr></thead><tbody><tr><td>&quot;Star Wars: Episode IV - A New …</td><td>1.0</td></tr><tr><td>&quot;Star Wars: Episode V - The Emp…</td><td>0.920433</td></tr><tr><td>&quot;Star Wars: Episode VI - Return…</td><td>0.916962</td></tr><tr><td>&quot;Star Wars: Episode III - Reven…</td><td>0.907455</td></tr><tr><td>&quot;Star Wars: Episode VIII - The …</td><td>0.904494</td></tr><tr><td>&hellip;</td><td>&hellip;</td></tr><tr><td>&quot;Fighter Pilots&quot;</td><td>0.830247</td></tr><tr><td>&quot;Edge of the Empire&quot;</td><td>0.82998</td></tr><tr><td>&quot;Steel-Fisted Dragon&quot;</td><td>0.829908</td></tr><tr><td>&quot;Empire II&quot;</td><td>0.829842</td></tr><tr><td>&quot;Sith Wars: Episode II - Legacy…</td><td>0.829789</td></tr></tbody></table></div>"
      ],
      "text/plain": [
       "shape: (100, 2)\n",
       "┌─────────────────────────────────┬──────────┐\n",
       "│ title                           ┆ cossim   │\n",
       "│ ---                             ┆ ---      │\n",
       "│ str                             ┆ f64      │\n",
       "╞═════════════════════════════════╪══════════╡\n",
       "│ Star Wars: Episode IV - A New … ┆ 1.0      │\n",
       "│ Star Wars: Episode V - The Emp… ┆ 0.920433 │\n",
       "│ Star Wars: Episode VI - Return… ┆ 0.916962 │\n",
       "│ Star Wars: Episode III - Reven… ┆ 0.907455 │\n",
       "│ Star Wars: Episode VIII - The … ┆ 0.904494 │\n",
       "│ …                               ┆ …        │\n",
       "│ Fighter Pilots                  ┆ 0.830247 │\n",
       "│ Edge of the Empire              ┆ 0.82998  │\n",
       "│ Steel-Fisted Dragon             ┆ 0.829908 │\n",
       "│ Empire II                       ┆ 0.829842 │\n",
       "│ Sith Wars: Episode II - Legacy… ┆ 0.829789 │\n",
       "└─────────────────────────────────┴──────────┘"
      ]
     },
     "execution_count": 8,
     "metadata": {},
     "output_type": "execute_result"
    }
   ],
   "source": [
    "df_related = pl.DataFrame(\n",
    "    {\"title\": df[top_idx][\"title\"].to_list(), \"cossim\": top_cossims}\n",
    ")\n",
    "df_related"
   ]
  },
  {
   "cell_type": "markdown",
   "metadata": {},
   "source": [
    "## Functionalize\n"
   ]
  },
  {
   "cell_type": "code",
   "execution_count": 9,
   "metadata": {},
   "outputs": [],
   "source": [
    "def related_movies(movie_id, k=100):\n",
    "    movie = df.filter(pl.col(\"tconst\") == movie_id).rows(named=\"true\")[0]\n",
    "    query_embed = np.array(movie[\"embedding\"])\n",
    "\n",
    "    dot_products = query_embed @ embeddings.T\n",
    "    idx = np.argpartition(dot_products, -k)[-k:]\n",
    "    idx = idx[np.argsort(dot_products[idx])[::-1]]\n",
    "\n",
    "    scores = dot_products[idx]\n",
    "\n",
    "    with pl.Config(tbl_rows=20):\n",
    "        print(pl.DataFrame({\"title\": df[idx][\"title\"].to_list(), \"cossim\": scores}))"
   ]
  },
  {
   "cell_type": "code",
   "execution_count": 10,
   "metadata": {},
   "outputs": [
    {
     "name": "stdout",
     "output_type": "stream",
     "text": [
      "shape: (100, 2)\n",
      "┌────────────────────────┬──────────┐\n",
      "│ title                  ┆ cossim   │\n",
      "│ ---                    ┆ ---      │\n",
      "│ str                    ┆ f64      │\n",
      "╞════════════════════════╪══════════╡\n",
      "│ Sonic the Hedgehog 3   ┆ 1.0      │\n",
      "│ Sonic the Hedgehog     ┆ 0.926869 │\n",
      "│ Sonic the Hedgehog 2   ┆ 0.91429  │\n",
      "│ The Hedgehog           ┆ 0.893648 │\n",
      "│ The Hedgehog           ┆ 0.844909 │\n",
      "│ The Evil Three         ┆ 0.844378 │\n",
      "│ Speak No Evil          ┆ 0.840612 │\n",
      "│ Cubic Zirconia         ┆ 0.838324 │\n",
      "│ Storm Crashers         ┆ 0.837804 │\n",
      "│ Despicable Me 4        ┆ 0.837757 │\n",
      "│ …                      ┆ …        │\n",
      "│ The Long Game          ┆ 0.817132 │\n",
      "│ CarousHELL 3           ┆ 0.817095 │\n",
      "│ Andromeda 3            ┆ 0.816532 │\n",
      "│ Pizza Boy Rick         ┆ 0.81653  │\n",
      "│ Youn'G                 ┆ 0.816529 │\n",
      "│ D3: The Mighty Ducks   ┆ 0.816173 │\n",
      "│ Stop-Motion            ┆ 0.815529 │\n",
      "│ Home Alone 3           ┆ 0.815483 │\n",
      "│ Porch Pirates          ┆ 0.815379 │\n",
      "│ Die Hart 2: Die Harter ┆ 0.815139 │\n",
      "└────────────────────────┴──────────┘\n"
     ]
    }
   ],
   "source": [
    "# Sonic the Hedgehog 3\n",
    "related_movies(\"tt18259086\")"
   ]
  },
  {
   "cell_type": "code",
   "execution_count": 11,
   "metadata": {},
   "outputs": [
    {
     "name": "stdout",
     "output_type": "stream",
     "text": [
      "shape: (100, 2)\n",
      "┌─────────────────────────────────┬──────────┐\n",
      "│ title                           ┆ cossim   │\n",
      "│ ---                             ┆ ---      │\n",
      "│ str                             ┆ f64      │\n",
      "╞═════════════════════════════════╪══════════╡\n",
      "│ Titanic                         ┆ 1.0      │\n",
      "│ Titanic                         ┆ 0.93175  │\n",
      "│ Titanic                         ┆ 0.926478 │\n",
      "│ Titanic: 100 Years On           ┆ 0.925523 │\n",
      "│ Titanic                         ┆ 0.923156 │\n",
      "│ Titanic                         ┆ 0.918025 │\n",
      "│ Titanic: The Final Word with J… ┆ 0.914185 │\n",
      "│ Titanic: 20 Years Later with J… ┆ 0.911055 │\n",
      "│ S.O.S. Titanic                  ┆ 0.906505 │\n",
      "│ Titanic Adventure               ┆ 0.904338 │\n",
      "│ …                               ┆ …        │\n",
      "│ True Lies                       ┆ 0.837304 │\n",
      "│ Driftwood                       ┆ 0.837176 │\n",
      "│ Voyage of Terror                ┆ 0.836794 │\n",
      "│ The Titan                       ┆ 0.836769 │\n",
      "│ Elizabeth                       ┆ 0.836692 │\n",
      "│ Submarine                       ┆ 0.836626 │\n",
      "│ Pirates of the Caribbean: At W… ┆ 0.836619 │\n",
      "│ Aliens                          ┆ 0.836589 │\n",
      "│ Nicholas' Gift                  ┆ 0.836519 │\n",
      "│ Mission: Impossible             ┆ 0.836481 │\n",
      "└─────────────────────────────────┴──────────┘\n"
     ]
    }
   ],
   "source": [
    "# Titanic\n",
    "related_movies(\"tt0120338\")"
   ]
  },
  {
   "cell_type": "code",
   "execution_count": 12,
   "metadata": {},
   "outputs": [
    {
     "name": "stdout",
     "output_type": "stream",
     "text": [
      "shape: (100, 2)\n",
      "┌───────────────────────────────┬──────────┐\n",
      "│ title                         ┆ cossim   │\n",
      "│ ---                           ┆ ---      │\n",
      "│ str                           ┆ f64      │\n",
      "╞═══════════════════════════════╪══════════╡\n",
      "│ The Matrix                    ┆ 1.0      │\n",
      "│ The Matrix Reloaded           ┆ 0.936755 │\n",
      "│ The Matrix Revolutions        ┆ 0.929487 │\n",
      "│ The Matrix Resurrections      ┆ 0.926167 │\n",
      "│ The Matrix: The Movie Special ┆ 0.92047  │\n",
      "│ The Matrix: Reborn            ┆ 0.886888 │\n",
      "│ Matrix                        ┆ 0.872155 │\n",
      "│ Jupiter Ascending             ┆ 0.859539 │\n",
      "│ The Living Matrix             ┆ 0.857076 │\n",
      "│ A Glitch in the Matrix        ┆ 0.852831 │\n",
      "│ …                             ┆ …        │\n",
      "│ Message in a Bottle           ┆ 0.82944  │\n",
      "│ The Rock                      ┆ 0.829305 │\n",
      "│ Planet of the Apes            ┆ 0.829265 │\n",
      "│ Mach 2                        ┆ 0.829194 │\n",
      "│ Mission                       ┆ 0.829175 │\n",
      "│ Bandidas                      ┆ 0.828886 │\n",
      "│ Blade Runner                  ┆ 0.828866 │\n",
      "│ Kartoos                       ┆ 0.828808 │\n",
      "│ Exklusiv                      ┆ 0.828786 │\n",
      "│ Gemini Man                    ┆ 0.828524 │\n",
      "└───────────────────────────────┴──────────┘\n"
     ]
    }
   ],
   "source": [
    "# The Matrix\n",
    "related_movies(\"tt0133093\")"
   ]
  },
  {
   "cell_type": "code",
   "execution_count": 13,
   "metadata": {},
   "outputs": [
    {
     "name": "stdout",
     "output_type": "stream",
     "text": [
      "shape: (100, 2)\n",
      "┌─────────────────────────────────┬──────────┐\n",
      "│ title                           ┆ cossim   │\n",
      "│ ---                             ┆ ---      │\n",
      "│ str                             ┆ f64      │\n",
      "╞═════════════════════════════════╪══════════╡\n",
      "│ Spirited Away                   ┆ 1.0      │\n",
      "│ Spirited Away: Live on Stage    ┆ 0.893222 │\n",
      "│ One Piece: Clockwork Island Ad… ┆ 0.889655 │\n",
      "│ Princess Mononoke               ┆ 0.889504 │\n",
      "│ Inugami                         ┆ 0.888886 │\n",
      "│ Princess Arete                  ┆ 0.885914 │\n",
      "│ Satorare                        ┆ 0.884214 │\n",
      "│ Harmful Insect                  ┆ 0.882521 │\n",
      "│ Family                          ┆ 0.880699 │\n",
      "│ Murudeka 17805                  ┆ 0.880419 │\n",
      "│ …                               ┆ …        │\n",
      "│ Juvenile                        ┆ 0.860535 │\n",
      "│ Suicide Club                    ┆ 0.860496 │\n",
      "│ Chie the Brat                   ┆ 0.860436 │\n",
      "│ Shiba Park                      ┆ 0.860394 │\n",
      "│ Tourism                         ┆ 0.860379 │\n",
      "│ A Whisker Away                  ┆ 0.860364 │\n",
      "│ Hashire Melos                   ┆ 0.860333 │\n",
      "│ Buddha: The Great Departure     ┆ 0.860313 │\n",
      "│ Chizuko's Younger Sister        ┆ 0.860181 │\n",
      "│ Whisper of the Heart            ┆ 0.859974 │\n",
      "└─────────────────────────────────┴──────────┘\n"
     ]
    }
   ],
   "source": [
    "# Spirited Away\n",
    "related_movies(\"tt0245429\")"
   ]
  },
  {
   "cell_type": "code",
   "execution_count": 14,
   "metadata": {},
   "outputs": [
    {
     "name": "stdout",
     "output_type": "stream",
     "text": [
      "shape: (100, 2)\n",
      "┌─────────────────────────────────┬──────────┐\n",
      "│ title                           ┆ cossim   │\n",
      "│ ---                             ┆ ---      │\n",
      "│ str                             ┆ f64      │\n",
      "╞═════════════════════════════════╪══════════╡\n",
      "│ Everything Everywhere All at O… ┆ 1.0      │\n",
      "│ Chilli Laugh Story              ┆ 0.884767 │\n",
      "│ Everything and Everyone         ┆ 0.883854 │\n",
      "│ Baking All the Way              ┆ 0.87135  │\n",
      "│ Everywhere                      ┆ 0.870799 │\n",
      "│ Everything Under Control        ┆ 0.869008 │\n",
      "│ East Bay                        ┆ 0.868731 │\n",
      "│ It Snows All the Time           ┆ 0.868004 │\n",
      "│ Rip in Time                     ┆ 0.867872 │\n",
      "│ Ajoomma                         ┆ 0.86717  │\n",
      "│ …                               ┆ …        │\n",
      "│ Final Cut                       ┆ 0.853422 │\n",
      "│ Run, Tiger Run!                 ┆ 0.853181 │\n",
      "│ Plurality                       ┆ 0.853142 │\n",
      "│ 1UP                             ┆ 0.852912 │\n",
      "│ Strange World                   ┆ 0.852902 │\n",
      "│ The Taste of Water              ┆ 0.852854 │\n",
      "│ Action Point                    ┆ 0.852734 │\n",
      "│ The Price We Pay                ┆ 0.852619 │\n",
      "│ Look Both Ways                  ┆ 0.85261  │\n",
      "│ Everything Always All the Time  ┆ 0.852426 │\n",
      "└─────────────────────────────────┴──────────┘\n"
     ]
    }
   ],
   "source": [
    "# Everything Everywhere All at Once\n",
    "related_movies(\"tt6710474\")"
   ]
  },
  {
   "cell_type": "code",
   "execution_count": 15,
   "metadata": {},
   "outputs": [
    {
     "name": "stdout",
     "output_type": "stream",
     "text": [
      "shape: (100, 2)\n",
      "┌─────────────────────────────────┬──────────┐\n",
      "│ title                           ┆ cossim   │\n",
      "│ ---                             ┆ ---      │\n",
      "│ str                             ┆ f64      │\n",
      "╞═════════════════════════════════╪══════════╡\n",
      "│ The Avengers                    ┆ 1.0      │\n",
      "│ The Avengers Assemble Premiere  ┆ 0.931309 │\n",
      "│ The Avengers                    ┆ 0.930501 │\n",
      "│ Avengers: Age of Ultron         ┆ 0.907573 │\n",
      "│ Iron Man 2                      ┆ 0.902583 │\n",
      "│ Avengers: Endgame               ┆ 0.896362 │\n",
      "│ Captain America: The First Ave… ┆ 0.895093 │\n",
      "│ The Avengers                    ┆ 0.89457  │\n",
      "│ Avengers: Infinity War          ┆ 0.894422 │\n",
      "│ The Marvels                     ┆ 0.887518 │\n",
      "│ …                               ┆ …        │\n",
      "│ Premium Rush                    ┆ 0.834266 │\n",
      "│ Shazam! Fury of the Gods        ┆ 0.834187 │\n",
      "│ The Velvet Elvis                ┆ 0.834051 │\n",
      "│ Gravity                         ┆ 0.83401  │\n",
      "│ Golden Cage                     ┆ 0.833927 │\n",
      "│ Total Recall                    ┆ 0.833775 │\n",
      "│ Ice Age: The Meltdown           ┆ 0.833719 │\n",
      "│ Prometheus                      ┆ 0.833694 │\n",
      "│ Dawn of the Planet of the Apes  ┆ 0.833659 │\n",
      "│ Contrition                      ┆ 0.833555 │\n",
      "└─────────────────────────────────┴──────────┘\n"
     ]
    }
   ],
   "source": [
    "# The Avengers\n",
    "related_movies(\"tt0848228\")"
   ]
  },
  {
   "cell_type": "markdown",
   "metadata": {},
   "source": [
    "## Test 32D Embeddings\n"
   ]
  },
  {
   "cell_type": "code",
   "execution_count": 16,
   "metadata": {},
   "outputs": [
    {
     "data": {
      "text/html": [
       "<div><style>\n",
       ".dataframe > thead > tr,\n",
       ".dataframe > tbody > tr {\n",
       "  text-align: right;\n",
       "  white-space: pre-wrap;\n",
       "}\n",
       "</style>\n",
       "<small>shape: (236_771, 4)</small><table border=\"1\" class=\"dataframe\"><thead><tr><th>tconst</th><th>json</th><th>embeds_32</th><th>title</th></tr><tr><td>str</td><td>str</td><td>array[f32, 32]</td><td>str</td></tr></thead><tbody><tr><td>&quot;tt1555024&quot;</td><td>&quot;{&quot;title&quot;:&quot;Iris: The Movie&quot;,&quot;ge…</td><td>[0.660225, -0.217248, … 0.23255]</td><td>&quot;Iris: The Movie&quot;</td></tr><tr><td>&quot;tt0416454&quot;</td><td>&quot;{&quot;title&quot;:&quot;AFI&#x27;s 100 Years... 1…</td><td>[-2.178241, 3.282719, … -0.291228]</td><td>&quot;AFI&#x27;s 100 Years... 100 Songs: …</td></tr><tr><td>&quot;tt21058194&quot;</td><td>&quot;{&quot;title&quot;:&quot;African Giants&quot;,&quot;gen…</td><td>[1.098129, 0.437186, … -0.17106]</td><td>&quot;African Giants&quot;</td></tr><tr><td>&quot;tt4332616&quot;</td><td>&quot;{&quot;title&quot;:&quot;Antyterapia&quot;,&quot;genres…</td><td>[-0.074639, 0.708243, … 0.127993]</td><td>&quot;Antyterapia&quot;</td></tr><tr><td>&quot;tt0029481&quot;</td><td>&quot;{&quot;title&quot;:&quot;A Revolu\\u00e7\\u00e3…</td><td>[-0.989042, 0.283572, … 0.008098]</td><td>&quot;A Revolução de Maio&quot;</td></tr><tr><td>&hellip;</td><td>&hellip;</td><td>&hellip;</td><td>&hellip;</td></tr><tr><td>&quot;tt0058606&quot;</td><td>&quot;{&quot;title&quot;:&quot;Spider Baby or, The …</td><td>[-0.037602, -0.431747, … 1.061698]</td><td>&quot;Spider Baby or, The Maddest St…</td></tr><tr><td>&quot;tt6446750&quot;</td><td>&quot;{&quot;title&quot;:&quot;Khallik fi Halak&quot;,&quot;g…</td><td>[0.905275, -0.659738, … 0.35177]</td><td>&quot;Khallik fi Halak&quot;</td></tr><tr><td>&quot;tt0056888&quot;</td><td>&quot;{&quot;title&quot;:&quot;Brennus, Enemy of Ro…</td><td>[-1.376849, 0.770274, … 0.409294]</td><td>&quot;Brennus, Enemy of Rome&quot;</td></tr><tr><td>&quot;tt0110693&quot;</td><td>&quot;{&quot;title&quot;:&quot;Nothing to Lose&quot;,&quot;ge…</td><td>[-0.115414, 0.581156, … -0.349134]</td><td>&quot;Nothing to Lose&quot;</td></tr><tr><td>&quot;tt32027093&quot;</td><td>&quot;{&quot;title&quot;:&quot;Dead Body&quot;,&quot;genres&quot;:…</td><td>[1.057249, -1.582651, … 1.171011]</td><td>&quot;Dead Body&quot;</td></tr></tbody></table></div>"
      ],
      "text/plain": [
       "shape: (236_771, 4)\n",
       "┌────────────┬─────────────────────────────────┬──────────────────────────┬────────────────────────┐\n",
       "│ tconst     ┆ json                            ┆ embeds_32                ┆ title                  │\n",
       "│ ---        ┆ ---                             ┆ ---                      ┆ ---                    │\n",
       "│ str        ┆ str                             ┆ array[f32, 32]           ┆ str                    │\n",
       "╞════════════╪═════════════════════════════════╪══════════════════════════╪════════════════════════╡\n",
       "│ tt1555024  ┆ {\"title\":\"Iris: The Movie\",\"ge… ┆ [0.660225, -0.217248, …  ┆ Iris: The Movie        │\n",
       "│            ┆                                 ┆ 0.2325…                  ┆                        │\n",
       "│ tt0416454  ┆ {\"title\":\"AFI's 100 Years... 1… ┆ [-2.178241, 3.282719, …  ┆ AFI's 100 Years... 100 │\n",
       "│            ┆                                 ┆ -0.291…                  ┆ Songs: …               │\n",
       "│ tt21058194 ┆ {\"title\":\"African Giants\",\"gen… ┆ [1.098129, 0.437186, …   ┆ African Giants         │\n",
       "│            ┆                                 ┆ -0.1710…                 ┆                        │\n",
       "│ tt4332616  ┆ {\"title\":\"Antyterapia\",\"genres… ┆ [-0.074639, 0.708243, …  ┆ Antyterapia            │\n",
       "│            ┆                                 ┆ 0.1279…                  ┆                        │\n",
       "│ tt0029481  ┆ {\"title\":\"A Revolu\\u00e7\\u00e3… ┆ [-0.989042, 0.283572, …  ┆ A Revolução de Maio    │\n",
       "│            ┆                                 ┆ 0.0080…                  ┆                        │\n",
       "│ …          ┆ …                               ┆ …                        ┆ …                      │\n",
       "│ tt0058606  ┆ {\"title\":\"Spider Baby or, The … ┆ [-0.037602, -0.431747, … ┆ Spider Baby or, The    │\n",
       "│            ┆                                 ┆ 1.061…                   ┆ Maddest St…            │\n",
       "│ tt6446750  ┆ {\"title\":\"Khallik fi Halak\",\"g… ┆ [0.905275, -0.659738, …  ┆ Khallik fi Halak       │\n",
       "│            ┆                                 ┆ 0.3517…                  ┆                        │\n",
       "│ tt0056888  ┆ {\"title\":\"Brennus, Enemy of Ro… ┆ [-1.376849, 0.770274, …  ┆ Brennus, Enemy of Rome │\n",
       "│            ┆                                 ┆ 0.4092…                  ┆                        │\n",
       "│ tt0110693  ┆ {\"title\":\"Nothing to Lose\",\"ge… ┆ [-0.115414, 0.581156, …  ┆ Nothing to Lose        │\n",
       "│            ┆                                 ┆ -0.349…                  ┆                        │\n",
       "│ tt32027093 ┆ {\"title\":\"Dead Body\",\"genres\":… ┆ [1.057249, -1.582651, …  ┆ Dead Body              │\n",
       "│            ┆                                 ┆ 1.1710…                  ┆                        │\n",
       "└────────────┴─────────────────────────────────┴──────────────────────────┴────────────────────────┘"
      ]
     },
     "execution_count": 16,
     "metadata": {},
     "output_type": "execute_result"
    }
   ],
   "source": [
    "df_32 = pl.read_parquet(\n",
    "    os.path.join(data_dir, \"movie_data_32D_embeds.parquet\"),\n",
    ").with_columns(\n",
    "    title=pl.col(\"json\").str.json_path_match(r\"$.title\"),\n",
    ")\n",
    "\n",
    "df_32"
   ]
  },
  {
   "cell_type": "code",
   "execution_count": 17,
   "metadata": {},
   "outputs": [
    {
     "data": {
      "text/plain": [
       "(236771, 32)"
      ]
     },
     "execution_count": 17,
     "metadata": {},
     "output_type": "execute_result"
    }
   ],
   "source": [
    "embeddings_32 = df_32[\"embeds_32\"].to_numpy()\n",
    "embeddings_32.shape"
   ]
  },
  {
   "cell_type": "code",
   "execution_count": 18,
   "metadata": {},
   "outputs": [],
   "source": [
    "def related_movies_32(movie_id, k=100):\n",
    "    movie = df_32.filter(pl.col(\"tconst\") == movie_id).rows(named=\"true\")[0]\n",
    "    query_embed = np.array(movie[\"embeds_32\"])\n",
    "\n",
    "    distances = np.sqrt(\n",
    "        np.einsum(\"ij,ij->i\", embeddings_32 - query_embed, embeddings_32 - query_embed)\n",
    "    )\n",
    "\n",
    "    idx = np.argpartition(distances, k)[:k]\n",
    "    idx = idx[np.argsort(distances[idx])]\n",
    "\n",
    "    scores = distances[idx]\n",
    "\n",
    "    with pl.Config(tbl_rows=20):\n",
    "        print(pl.DataFrame({\"title\": df_32[idx][\"title\"].to_list(), \"cossim\": scores}))"
   ]
  },
  {
   "cell_type": "code",
   "execution_count": 19,
   "metadata": {},
   "outputs": [
    {
     "name": "stdout",
     "output_type": "stream",
     "text": [
      "shape: (100, 2)\n",
      "┌───────────────────────────────┬──────────┐\n",
      "│ title                         ┆ cossim   │\n",
      "│ ---                           ┆ ---      │\n",
      "│ str                           ┆ f64      │\n",
      "╞═══════════════════════════════╪══════════╡\n",
      "│ Sonic the Hedgehog 3          ┆ 0.0      │\n",
      "│ Sonic the Hedgehog 2          ┆ 0.001024 │\n",
      "│ Sonic Rebuilt                 ┆ 0.001712 │\n",
      "│ Sonic the Hedgehog            ┆ 0.011979 │\n",
      "│ Sonic Impact                  ┆ 0.038119 │\n",
      "│ Sonic Outlaws                 ┆ 0.073778 │\n",
      "│ Sonic Fantasy                 ┆ 0.097214 │\n",
      "│ BOOM! A Film About the Sonics ┆ 0.097551 │\n",
      "│ Sonicsgate                    ┆ 0.097604 │\n",
      "│ Sonic Sea                     ┆ 0.098165 │\n",
      "│ …                             ┆ …        │\n",
      "│ The Enshrined Saint           ┆ 2.321398 │\n",
      "│ St George's Day               ┆ 2.322679 │\n",
      "│ Saint                         ┆ 2.327186 │\n",
      "│ Saint Michael of the City     ┆ 2.327371 │\n",
      "│ The Saint: The Big Bang       ┆ 2.327391 │\n",
      "│ The Saint Lies in Wait        ┆ 2.327473 │\n",
      "│ The Unknown Saint             ┆ 2.32753  │\n",
      "│ The Saint                     ┆ 2.327549 │\n",
      "│ The Last Saint                ┆ 2.327625 │\n",
      "│ The Reluctant Saint           ┆ 2.327666 │\n",
      "└───────────────────────────────┴──────────┘\n"
     ]
    }
   ],
   "source": [
    "# Sonic the Hedgehog 3\n",
    "related_movies_32(\"tt18259086\")"
   ]
  },
  {
   "cell_type": "code",
   "execution_count": 20,
   "metadata": {},
   "outputs": [
    {
     "name": "stdout",
     "output_type": "stream",
     "text": [
      "shape: (100, 2)\n",
      "┌─────────────────────────────────┬──────────┐\n",
      "│ title                           ┆ cossim   │\n",
      "│ ---                             ┆ ---      │\n",
      "│ str                             ┆ f64      │\n",
      "╞═════════════════════════════════╪══════════╡\n",
      "│ Titanic                         ┆ 0.0      │\n",
      "│ Titanic: The Musical            ┆ 0.000328 │\n",
      "│ Titanic Town                    ┆ 0.000422 │\n",
      "│ The Blind Man Who Did Not Want… ┆ 0.01484  │\n",
      "│ Titanic                         ┆ 0.014848 │\n",
      "│ Titanic                         ┆ 0.018283 │\n",
      "│ The Ten Lives of Titanic the C… ┆ 0.018481 │\n",
      "│ Titanic                         ┆ 0.018718 │\n",
      "│ Titanic                         ┆ 0.018987 │\n",
      "│ Titanic Waltz                   ┆ 0.040952 │\n",
      "│ …                               ┆ …        │\n",
      "│ A Clod of Clay                  ┆ 4.340219 │\n",
      "│ In the Forests of Siberia       ┆ 4.344796 │\n",
      "│ Siberia                         ┆ 4.345732 │\n",
      "│ Exile to Siberia                ┆ 4.34629  │\n",
      "│ Siberia                         ┆ 4.34657  │\n",
      "│ Siberian Exile                  ┆ 4.347363 │\n",
      "│ The Conquest of Siberia         ┆ 4.348358 │\n",
      "│ Siberia and Him                 ┆ 4.348416 │\n",
      "│ Siberian Odyssey                ┆ 4.348572 │\n",
      "│ Christ Lives in Siberia         ┆ 4.348768 │\n",
      "└─────────────────────────────────┴──────────┘\n"
     ]
    }
   ],
   "source": [
    "# Titanic\n",
    "related_movies_32(\"tt0120338\")"
   ]
  },
  {
   "cell_type": "code",
   "execution_count": 21,
   "metadata": {},
   "outputs": [
    {
     "name": "stdout",
     "output_type": "stream",
     "text": [
      "shape: (100, 2)\n",
      "┌─────────────────────────────────┬───────────┐\n",
      "│ title                           ┆ cossim    │\n",
      "│ ---                             ┆ ---       │\n",
      "│ str                             ┆ f64       │\n",
      "╞═════════════════════════════════╪═══════════╡\n",
      "│ The Matrix                      ┆ 0.0       │\n",
      "│ The Matrix: Reborn              ┆ 0.000007  │\n",
      "│ The Matrix Reloaded             ┆ 0.000482  │\n",
      "│ Speed Racer                     ┆ 0.000483  │\n",
      "│ The Matrix: The Movie Special   ┆ 0.000484  │\n",
      "│ The Matrix Revolutions          ┆ 0.000486  │\n",
      "│ The Matrix Resurrections        ┆ 0.000548  │\n",
      "│ Life, Liberty and Pursuit on t… ┆ 13.544699 │\n",
      "│ Treachery and Greed on the Pla… ┆ 13.544701 │\n",
      "│ Farewell to the Planet of the … ┆ 13.544707 │\n",
      "│ …                               ┆ …         │\n",
      "│ The Adventures of Young Indian… ┆ 14.800118 │\n",
      "│ The Adventures of Young Indian… ┆ 14.800143 │\n",
      "│ Indiana Jones and the Crown of… ┆ 14.800754 │\n",
      "│ The Making of 'Indiana Jones a… ┆ 14.801197 │\n",
      "│ Indiana Jones and the Last Cru… ┆ 14.801228 │\n",
      "│ Indiana Jones and the Kingdom … ┆ 14.801229 │\n",
      "│ Indiana Jones and the Temple o… ┆ 14.801287 │\n",
      "│ Cleaning Up!                    ┆ 14.804871 │\n",
      "│ The Clean Up Woman              ┆ 14.804943 │\n",
      "│ Suburbia Confidential           ┆ 14.815906 │\n",
      "└─────────────────────────────────┴───────────┘\n"
     ]
    }
   ],
   "source": [
    "# The Matrix\n",
    "related_movies_32(\"tt0133093\")"
   ]
  },
  {
   "cell_type": "code",
   "execution_count": 23,
   "metadata": {},
   "outputs": [
    {
     "name": "stdout",
     "output_type": "stream",
     "text": [
      "shape: (100, 2)\n",
      "┌─────────────────────────────────┬──────────┐\n",
      "│ title                           ┆ cossim   │\n",
      "│ ---                             ┆ ---      │\n",
      "│ str                             ┆ f64      │\n",
      "╞═════════════════════════════════╪══════════╡\n",
      "│ Spirited Away                   ┆ 0.0      │\n",
      "│ Spirited Away: Live on Stage    ┆ 0.046875 │\n",
      "│ Spirited                        ┆ 0.094417 │\n",
      "│ Spirited                        ┆ 0.131124 │\n",
      "│ Temporary Spirits               ┆ 0.181871 │\n",
      "│ School Spirit                   ┆ 0.195678 │\n",
      "│ School Spirits                  ┆ 0.212193 │\n",
      "│ High Spirits                    ┆ 0.238343 │\n",
      "│ Holy Spirit                     ┆ 0.241002 │\n",
      "│ High School Spirits             ┆ 0.242327 │\n",
      "│ …                               ┆ …        │\n",
      "│ The Glass Rabbit                ┆ 0.37264  │\n",
      "│ Princess Principal Crown Handl… ┆ 0.372996 │\n",
      "│ Saezuru Tori Wa Habatakanai: T… ┆ 0.373651 │\n",
      "│ A Journey Through Fairyland     ┆ 0.375065 │\n",
      "│ Fairy Tail: The Phoenix Priest… ┆ 0.375469 │\n",
      "│ Brave Father Online: Our Story… ┆ 0.376698 │\n",
      "│ Kingsglaive: Final Fantasy XV   ┆ 0.377683 │\n",
      "│ Tetsujin 28                     ┆ 0.379065 │\n",
      "│ Mary and the Witch's Flower     ┆ 0.380628 │\n",
      "│ Hashire Melos                   ┆ 0.380984 │\n",
      "└─────────────────────────────────┴──────────┘\n"
     ]
    }
   ],
   "source": [
    "# Spirited Away\n",
    "related_movies_32(\"tt0245429\")"
   ]
  },
  {
   "cell_type": "code",
   "execution_count": 24,
   "metadata": {},
   "outputs": [
    {
     "name": "stdout",
     "output_type": "stream",
     "text": [
      "shape: (100, 2)\n",
      "┌─────────────────────────────────┬──────────┐\n",
      "│ title                           ┆ cossim   │\n",
      "│ ---                             ┆ ---      │\n",
      "│ str                             ┆ f64      │\n",
      "╞═════════════════════════════════╪══════════╡\n",
      "│ Everything Everywhere All at O… ┆ 0.0      │\n",
      "│ Everybody's Everything          ┆ 0.054621 │\n",
      "│ Everything and Everyone         ┆ 0.142009 │\n",
      "│ You Are Everything              ┆ 0.147535 │\n",
      "│ Edge of Everything              ┆ 0.157058 │\n",
      "│ My Everything                   ┆ 0.207889 │\n",
      "│ Like You Mean It                ┆ 0.224524 │\n",
      "│ I Saw You                       ┆ 0.302034 │\n",
      "│ The Theory of Everything        ┆ 0.304396 │\n",
      "│ Now You See Me Live!            ┆ 0.306364 │\n",
      "│ …                               ┆ …        │\n",
      "│ Intermedium                     ┆ 0.410045 │\n",
      "│ The Hours and Times             ┆ 0.410455 │\n",
      "│ Eban and Charley                ┆ 0.41076  │\n",
      "│ Beans                           ┆ 0.410956 │\n",
      "│ The Last of His Tribe           ┆ 0.41111  │\n",
      "│ Get a Life                      ┆ 0.411192 │\n",
      "│ Mates                           ┆ 0.411236 │\n",
      "│ Elixir                          ┆ 0.411325 │\n",
      "│ Is That You?                    ┆ 0.411335 │\n",
      "│ Eavesdrop                       ┆ 0.411745 │\n",
      "└─────────────────────────────────┴──────────┘\n"
     ]
    }
   ],
   "source": [
    "# Everything Everywhere All at Once\n",
    "related_movies_32(\"tt6710474\")"
   ]
  },
  {
   "cell_type": "code",
   "execution_count": 25,
   "metadata": {},
   "outputs": [
    {
     "name": "stdout",
     "output_type": "stream",
     "text": [
      "shape: (100, 2)\n",
      "┌────────────────────────────────┬──────────┐\n",
      "│ title                          ┆ cossim   │\n",
      "│ ---                            ┆ ---      │\n",
      "│ str                            ┆ f64      │\n",
      "╞════════════════════════════════╪══════════╡\n",
      "│ The Avengers                   ┆ 0.0      │\n",
      "│ Avengers: Endgame              ┆ 0.000859 │\n",
      "│ Avengers: Infinity War         ┆ 0.001157 │\n",
      "│ Avengers: Age of Ultron        ┆ 0.011398 │\n",
      "│ The Avengers                   ┆ 0.011415 │\n",
      "│ The Avengers Assemble Premiere ┆ 0.01146  │\n",
      "│ The Avengers                   ┆ 0.031419 │\n",
      "│ The Avengers                   ┆ 0.059461 │\n",
      "│ Vanishing Point                ┆ 8.915621 │\n",
      "│ Vanishing Point                ┆ 8.915648 │\n",
      "│ …                              ┆ …        │\n",
      "│ Inherit the Wind               ┆ 9.209105 │\n",
      "│ Wild Is the Wind               ┆ 9.212774 │\n",
      "│ Canadian Love                  ┆ 9.213537 │\n",
      "│ Last Cowboy Standing           ┆ 9.213933 │\n",
      "│ Blowing Wild                   ┆ 9.214055 │\n",
      "│ Where the Wind Dies            ┆ 9.214196 │\n",
      "│ Nothing But the Wind           ┆ 9.214347 │\n",
      "│ Reap the Wild Wind             ┆ 9.21446  │\n",
      "│ The Searching Wind             ┆ 9.214554 │\n",
      "│ My Winnipeg                    ┆ 9.215492 │\n",
      "└────────────────────────────────┴──────────┘\n"
     ]
    }
   ],
   "source": [
    "# The Avengers\n",
    "related_movies_32(\"tt0848228\")"
   ]
  },
  {
   "cell_type": "code",
   "execution_count": null,
   "metadata": {},
   "outputs": [],
   "source": []
  }
 ],
 "metadata": {
  "kernelspec": {
   "display_name": ".venv",
   "language": "python",
   "name": "python3"
  },
  "language_info": {
   "codemirror_mode": {
    "name": "ipython",
    "version": 3
   },
   "file_extension": ".py",
   "mimetype": "text/x-python",
   "name": "python",
   "nbconvert_exporter": "python",
   "pygments_lexer": "ipython3",
   "version": "3.13.1"
  }
 },
 "nbformat": 4,
 "nbformat_minor": 2
}
