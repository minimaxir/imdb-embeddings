{
 "cells": [
  {
   "cell_type": "markdown",
   "metadata": {},
   "source": [
    "Test implementation of grid search using scikit-learn algorithms before spending time testing it with cuML.\n",
    "\n",
    "Although scikit-learn has [GridSearchCV](https://scikit-learn.org/stable/modules/generated/sklearn.model_selection.GridSearchCV.html) for performing a grid search across various algorithms, it doesn't offer the control I need in terms of trial data output (e.g. what I want is outputting the results of each trial in a denormalized row)\n",
    "\n",
    "XGBoost note: https://stackoverflow.com/questions/63776921/you-are-running-32-bit-python-on-a-64-bit-osmac-and-xgboost-library-could-not\n"
   ]
  },
  {
   "cell_type": "code",
   "execution_count": 1,
   "metadata": {},
   "outputs": [],
   "source": [
    "import sklearn\n",
    "import xgboost\n",
    "import polars as pl\n",
    "import os"
   ]
  },
  {
   "cell_type": "code",
   "execution_count": 2,
   "metadata": {},
   "outputs": [
    {
     "data": {
      "text/html": [
       "<div><style>\n",
       ".dataframe > thead > tr,\n",
       ".dataframe > tbody > tr {\n",
       "  text-align: right;\n",
       "  white-space: pre-wrap;\n",
       "}\n",
       "</style>\n",
       "<small>shape: (1_600, 5)</small><table border=\"1\" class=\"dataframe\"><thead><tr><th>tconst</th><th>startYear</th><th>averageRating</th><th>json</th><th>embeds</th></tr><tr><td>str</td><td>i64</td><td>f64</td><td>str</td><td>array[f32, 768]</td></tr></thead><tbody><tr><td>&quot;tt0171517&quot;</td><td>1975</td><td>6.2</td><td>&quot;{&#x27;title&#x27;: &#x27;Mechtat i zhit&#x27;, &#x27;g…</td><td>[-0.00642, -0.008363, … -0.095905]</td></tr><tr><td>&quot;tt0034421&quot;</td><td>1942</td><td>7.1</td><td>&quot;{&#x27;title&#x27;: &#x27;A 2000 pengös férfi…</td><td>[-0.027937, 0.038252, … -0.067883]</td></tr><tr><td>&quot;tt0989642&quot;</td><td>2006</td><td>5.6</td><td>&quot;{&#x27;title&#x27;: &#x27;Midnight Running&#x27;, …</td><td>[-0.001267, 0.034308, … -0.027295]</td></tr><tr><td>&quot;tt0273692&quot;</td><td>1980</td><td>7.4</td><td>&quot;{&#x27;title&#x27;: &#x27;J.S. Brown, o Últim…</td><td>[-0.015184, 0.027515, … -0.077242]</td></tr><tr><td>&quot;tt4470172&quot;</td><td>2014</td><td>5.6</td><td>&quot;{&#x27;title&#x27;: &#x27;Guruldayan Kalpler&#x27;…</td><td>[-0.000246, 0.017736, … -0.053503]</td></tr><tr><td>&hellip;</td><td>&hellip;</td><td>&hellip;</td><td>&hellip;</td><td>&hellip;</td></tr><tr><td>&quot;tt1326956&quot;</td><td>2009</td><td>8.1</td><td>&quot;{&#x27;title&#x27;: &#x27;Our Summer in Tehra…</td><td>[-0.023254, 0.013627, … -0.036384]</td></tr><tr><td>&quot;tt0175092&quot;</td><td>1982</td><td>6.7</td><td>&quot;{&#x27;title&#x27;: &quot;Puss &#x27;n Boots&quot;, &#x27;ge…</td><td>[0.017054, 0.044542, … -0.076013]</td></tr><tr><td>&quot;tt2739566&quot;</td><td>1998</td><td>7.1</td><td>&quot;{&#x27;title&#x27;: &#x27;Jungle Love Story&#x27;,…</td><td>[-0.049089, 0.011179, … -0.030443]</td></tr><tr><td>&quot;tt15485264&quot;</td><td>2021</td><td>7.0</td><td>&quot;{&#x27;title&#x27;: &#x27;Ring Wandering&#x27;, &#x27;g…</td><td>[-0.012844, -0.001891, … -0.021231]</td></tr><tr><td>&quot;tt0123377&quot;</td><td>1943</td><td>4.8</td><td>&quot;{&#x27;title&#x27;: &#x27;Alt for karrieren&#x27;,…</td><td>[-0.055145, 0.007631, … -0.094466]</td></tr></tbody></table></div>"
      ],
      "text/plain": [
       "shape: (1_600, 5)\n",
       "┌────────────┬───────────┬───────────────┬────────────────────────────┬────────────────────────────┐\n",
       "│ tconst     ┆ startYear ┆ averageRating ┆ json                       ┆ embeds                     │\n",
       "│ ---        ┆ ---       ┆ ---           ┆ ---                        ┆ ---                        │\n",
       "│ str        ┆ i64       ┆ f64           ┆ str                        ┆ array[f32, 768]            │\n",
       "╞════════════╪═══════════╪═══════════════╪════════════════════════════╪════════════════════════════╡\n",
       "│ tt0171517  ┆ 1975      ┆ 6.2           ┆ {'title': 'Mechtat i       ┆ [-0.00642, -0.008363, …    │\n",
       "│            ┆           ┆               ┆ zhit', 'g…                 ┆ -0.095…                    │\n",
       "│ tt0034421  ┆ 1942      ┆ 7.1           ┆ {'title': 'A 2000 pengös   ┆ [-0.027937, 0.038252, …    │\n",
       "│            ┆           ┆               ┆ férfi…                     ┆ -0.067…                    │\n",
       "│ tt0989642  ┆ 2006      ┆ 5.6           ┆ {'title': 'Midnight        ┆ [-0.001267, 0.034308, …    │\n",
       "│            ┆           ┆               ┆ Running', …                ┆ -0.027…                    │\n",
       "│ tt0273692  ┆ 1980      ┆ 7.4           ┆ {'title': 'J.S. Brown, o   ┆ [-0.015184, 0.027515, …    │\n",
       "│            ┆           ┆               ┆ Últim…                     ┆ -0.077…                    │\n",
       "│ tt4470172  ┆ 2014      ┆ 5.6           ┆ {'title': 'Guruldayan      ┆ [-0.000246, 0.017736, …    │\n",
       "│            ┆           ┆               ┆ Kalpler'…                  ┆ -0.053…                    │\n",
       "│ …          ┆ …         ┆ …             ┆ …                          ┆ …                          │\n",
       "│ tt1326956  ┆ 2009      ┆ 8.1           ┆ {'title': 'Our Summer in   ┆ [-0.023254, 0.013627, …    │\n",
       "│            ┆           ┆               ┆ Tehra…                     ┆ -0.036…                    │\n",
       "│ tt0175092  ┆ 1982      ┆ 6.7           ┆ {'title': \"Puss 'n Boots\", ┆ [0.017054, 0.044542, …     │\n",
       "│            ┆           ┆               ┆ 'ge…                       ┆ -0.0760…                   │\n",
       "│ tt2739566  ┆ 1998      ┆ 7.1           ┆ {'title': 'Jungle Love     ┆ [-0.049089, 0.011179, …    │\n",
       "│            ┆           ┆               ┆ Story',…                   ┆ -0.030…                    │\n",
       "│ tt15485264 ┆ 2021      ┆ 7.0           ┆ {'title': 'Ring            ┆ [-0.012844, -0.001891, …   │\n",
       "│            ┆           ┆               ┆ Wandering', 'g…            ┆ -0.02…                     │\n",
       "│ tt0123377  ┆ 1943      ┆ 4.8           ┆ {'title': 'Alt for         ┆ [-0.055145, 0.007631, …    │\n",
       "│            ┆           ┆               ┆ karrieren',…               ┆ -0.094…                    │\n",
       "└────────────┴───────────┴───────────────┴────────────────────────────┴────────────────────────────┘"
      ]
     },
     "execution_count": 2,
     "metadata": {},
     "output_type": "execute_result"
    }
   ],
   "source": [
    "data_dir = \"/Users/maxwoolf/Downloads\"\n",
    "\n",
    "df = pl.read_parquet(os.path.join(data_dir, \"movie_embeds.parquet\"))\n",
    "df"
   ]
  },
  {
   "cell_type": "markdown",
   "metadata": {},
   "source": [
    "Extract out the components as numpy arrays for compatability.\n"
   ]
  },
  {
   "cell_type": "code",
   "execution_count": 3,
   "metadata": {},
   "outputs": [
    {
     "name": "stdout",
     "output_type": "stream",
     "text": [
      "(1600, 768)\n"
     ]
    }
   ],
   "source": [
    "embeds = df[\"embeds\"].to_numpy()\n",
    "print(embeds.shape)\n",
    "\n",
    "release_years = df[\"startYear\"].to_numpy()\n",
    "ratings = df[\"averageRating\"].to_numpy()"
   ]
  },
  {
   "cell_type": "markdown",
   "metadata": {},
   "source": [
    "Do a train-test split. Normally we stratify but sklearn will throw an error if a group is too small.\n"
   ]
  },
  {
   "cell_type": "code",
   "execution_count": 4,
   "metadata": {},
   "outputs": [
    {
     "data": {
      "text/plain": [
       "(1440, 768)"
      ]
     },
     "execution_count": 4,
     "metadata": {},
     "output_type": "execute_result"
    }
   ],
   "source": [
    "X_train, X_test, y_train, y_test = sklearn.model_selection.train_test_split(\n",
    "    embeds,\n",
    "    ratings,\n",
    "    test_size=0.1,\n",
    "    random_state=42,\n",
    "    # stratify=release_years\n",
    ")\n",
    "\n",
    "X_train.shape"
   ]
  },
  {
   "cell_type": "markdown",
   "metadata": {},
   "source": [
    "Test a simple OLS.\n"
   ]
  },
  {
   "cell_type": "code",
   "execution_count": 5,
   "metadata": {},
   "outputs": [
    {
     "data": {
      "text/plain": [
       "np.float64(1.664403998851776)"
      ]
     },
     "execution_count": 5,
     "metadata": {},
     "output_type": "execute_result"
    }
   ],
   "source": [
    "from sklearn.linear_model import LinearRegression\n",
    "\n",
    "model = LinearRegression()\n",
    "model.fit(X_train, y_train)\n",
    "\n",
    "y_pred = model.predict(X_test)\n",
    "mae = sklearn.metrics.mean_absolute_error(y_test, y_pred)\n",
    "mae"
   ]
  },
  {
   "cell_type": "markdown",
   "metadata": {},
   "source": [
    "## Start Grid Search\n",
    "\n",
    "- Create a parameter grid\n",
    "- Run sequentually since this will evenatually be on a single GPU.\n",
    "- Write the results ([time elapsed](https://stackoverflow.com/a/63232040), train MAE, test MAE) to a dict along with the metadata.\n",
    "- Load all the data into polars and save as parquet.\n",
    "\n",
    "Test with a Support Vector Machine since that has tweakable parameters.\n"
   ]
  },
  {
   "cell_type": "code",
   "execution_count": 6,
   "metadata": {},
   "outputs": [],
   "source": [
    "from tqdm.auto import tqdm\n",
    "from sklearn.svm import SVR\n",
    "import time\n",
    "import itertools\n",
    "import numpy as np"
   ]
  },
  {
   "cell_type": "markdown",
   "metadata": {},
   "source": [
    "Build the grid to get all combinations of parameters. Normally numpy shenanigans would be used here for fast speed but that causes data type issues, e.g. several parameters must be `int`s but numpy shenanigans will force `float`s.\n"
   ]
  },
  {
   "cell_type": "code",
   "execution_count": 7,
   "metadata": {},
   "outputs": [],
   "source": [
    "param_grid = {\n",
    "    \"C\": np.linspace(start=0.8, stop=1.2, num=5),\n",
    "    \"epsilon\": np.linspace(start=0.8, stop=1.2, num=5),\n",
    "}"
   ]
  },
  {
   "cell_type": "code",
   "execution_count": 8,
   "metadata": {},
   "outputs": [
    {
     "data": {
      "text/plain": [
       "[[0.8, 0.9, 1.0, 1.1, 1.2], [0.8, 0.9, 1.0, 1.1, 1.2]]"
      ]
     },
     "execution_count": 8,
     "metadata": {},
     "output_type": "execute_result"
    }
   ],
   "source": [
    "[x.tolist() for x in param_grid.values()]"
   ]
  },
  {
   "cell_type": "code",
   "execution_count": 9,
   "metadata": {},
   "outputs": [
    {
     "data": {
      "text/plain": [
       "[(0.8, 0.8),\n",
       " (0.8, 0.9),\n",
       " (0.8, 1.0),\n",
       " (0.8, 1.1),\n",
       " (0.8, 1.2),\n",
       " (0.9, 0.8),\n",
       " (0.9, 0.9),\n",
       " (0.9, 1.0),\n",
       " (0.9, 1.1),\n",
       " (0.9, 1.2),\n",
       " (1.0, 0.8),\n",
       " (1.0, 0.9),\n",
       " (1.0, 1.0),\n",
       " (1.0, 1.1),\n",
       " (1.0, 1.2),\n",
       " (1.1, 0.8),\n",
       " (1.1, 0.9),\n",
       " (1.1, 1.0),\n",
       " (1.1, 1.1),\n",
       " (1.1, 1.2),\n",
       " (1.2, 0.8),\n",
       " (1.2, 0.9),\n",
       " (1.2, 1.0),\n",
       " (1.2, 1.1),\n",
       " (1.2, 1.2)]"
      ]
     },
     "execution_count": 9,
     "metadata": {},
     "output_type": "execute_result"
    }
   ],
   "source": [
    "param_values = [x.tolist() for x in param_grid.values()]\n",
    "\n",
    "combos = list(itertools.product(*param_values))\n",
    "combos"
   ]
  },
  {
   "cell_type": "markdown",
   "metadata": {},
   "source": [
    "[zip shenanigans](https://stackoverflow.com/a/33737067) to map back to a list of dicts.\n"
   ]
  },
  {
   "cell_type": "code",
   "execution_count": 10,
   "metadata": {},
   "outputs": [
    {
     "data": {
      "text/plain": [
       "[{'C': 0.8, 'epsilon': 0.8},\n",
       " {'C': 0.8, 'epsilon': 0.9},\n",
       " {'C': 0.8, 'epsilon': 1.0},\n",
       " {'C': 0.8, 'epsilon': 1.1},\n",
       " {'C': 0.8, 'epsilon': 1.2},\n",
       " {'C': 0.9, 'epsilon': 0.8},\n",
       " {'C': 0.9, 'epsilon': 0.9},\n",
       " {'C': 0.9, 'epsilon': 1.0},\n",
       " {'C': 0.9, 'epsilon': 1.1},\n",
       " {'C': 0.9, 'epsilon': 1.2},\n",
       " {'C': 1.0, 'epsilon': 0.8},\n",
       " {'C': 1.0, 'epsilon': 0.9},\n",
       " {'C': 1.0, 'epsilon': 1.0},\n",
       " {'C': 1.0, 'epsilon': 1.1},\n",
       " {'C': 1.0, 'epsilon': 1.2},\n",
       " {'C': 1.1, 'epsilon': 0.8},\n",
       " {'C': 1.1, 'epsilon': 0.9},\n",
       " {'C': 1.1, 'epsilon': 1.0},\n",
       " {'C': 1.1, 'epsilon': 1.1},\n",
       " {'C': 1.1, 'epsilon': 1.2},\n",
       " {'C': 1.2, 'epsilon': 0.8},\n",
       " {'C': 1.2, 'epsilon': 0.9},\n",
       " {'C': 1.2, 'epsilon': 1.0},\n",
       " {'C': 1.2, 'epsilon': 1.1},\n",
       " {'C': 1.2, 'epsilon': 1.2}]"
      ]
     },
     "execution_count": 10,
     "metadata": {},
     "output_type": "execute_result"
    }
   ],
   "source": [
    "param_dicts = [\n",
    "    dict(zip(list(param_grid.keys()), combos[i])) for i in range(len(combos))\n",
    "]\n",
    "param_dicts"
   ]
  },
  {
   "cell_type": "markdown",
   "metadata": {},
   "source": [
    "Functionalize.\n"
   ]
  },
  {
   "cell_type": "code",
   "execution_count": 11,
   "metadata": {},
   "outputs": [
    {
     "data": {
      "text/plain": [
       "[{'C': 0.8, 'epsilon': 0.8},\n",
       " {'C': 0.8, 'epsilon': 0.9},\n",
       " {'C': 0.8, 'epsilon': 1.0},\n",
       " {'C': 0.8, 'epsilon': 1.1},\n",
       " {'C': 0.8, 'epsilon': 1.2}]"
      ]
     },
     "execution_count": 11,
     "metadata": {},
     "output_type": "execute_result"
    }
   ],
   "source": [
    "def build_grid_dict(param_grid):\n",
    "    param_values = [x.tolist() for x in param_grid.values()]\n",
    "\n",
    "    combos = list(itertools.product(*param_values))\n",
    "    param_dicts = [\n",
    "        dict(zip(list(param_grid.keys()), combos[i])) for i in range(len(combos))\n",
    "    ]\n",
    "    return param_dicts\n",
    "\n",
    "\n",
    "param_grid = {\n",
    "    \"C\": np.linspace(start=0.8, stop=1.2, num=5),\n",
    "    \"epsilon\": np.linspace(start=0.8, stop=1.2, num=5),\n",
    "}\n",
    "\n",
    "build_grid_dict(param_grid)[:5]"
   ]
  },
  {
   "cell_type": "markdown",
   "metadata": {},
   "source": [
    "Do the grid search!\n"
   ]
  },
  {
   "cell_type": "code",
   "execution_count": 12,
   "metadata": {},
   "outputs": [],
   "source": [
    "# to guard against floating point precision issues when printing params\n",
    "def round_param_floats(params):\n",
    "    return {k: round(v, 4) if isinstance(v, float) else v for k, v in params.items()}\n",
    "\n",
    "\n",
    "def grid_search(model_class, param_grid, model_name=None):\n",
    "    param_dicts = build_grid_dict(param_grid)\n",
    "    result_dicts = []\n",
    "\n",
    "    for params in tqdm(param_dicts):\n",
    "        model = model_class(**params)  # fresh model instantiation each run\n",
    "\n",
    "        fit_start = time.time()\n",
    "        model.fit(X_train, y_train)\n",
    "        fit_end = time.time()\n",
    "\n",
    "        y_pred = model.predict(X_train)\n",
    "        train_mae = sklearn.metrics.mean_absolute_error(y_train, y_pred)\n",
    "\n",
    "        y_pred = model.predict(X_test)\n",
    "        test_mae = sklearn.metrics.mean_absolute_error(y_test, y_pred)\n",
    "\n",
    "        result_dicts.append(\n",
    "            {\n",
    "                \"model\": model_name if model_name else model_class.__name__,\n",
    "                \"params\": str(round_param_floats(params)),\n",
    "                \"fit_time_ms\": (fit_end - fit_start) * 1000,\n",
    "                \"train_mae\": train_mae,\n",
    "                \"test_mae\": test_mae,\n",
    "            }\n",
    "        )\n",
    "\n",
    "    return pl.from_dicts(result_dicts).sort(\"test_mae\")"
   ]
  },
  {
   "cell_type": "code",
   "execution_count": 13,
   "metadata": {},
   "outputs": [
    {
     "data": {
      "application/vnd.jupyter.widget-view+json": {
       "model_id": "9dfa6235379f48369bcdf7360b4ed06e",
       "version_major": 2,
       "version_minor": 0
      },
      "text/plain": [
       "  0%|          | 0/25 [00:00<?, ?it/s]"
      ]
     },
     "metadata": {},
     "output_type": "display_data"
    },
    {
     "data": {
      "text/html": [
       "<div><style>\n",
       ".dataframe > thead > tr,\n",
       ".dataframe > tbody > tr {\n",
       "  text-align: right;\n",
       "  white-space: pre-wrap;\n",
       "}\n",
       "</style>\n",
       "<small>shape: (25, 5)</small><table border=\"1\" class=\"dataframe\"><thead><tr><th>model</th><th>params</th><th>fit_time_ms</th><th>train_mae</th><th>test_mae</th></tr><tr><td>str</td><td>str</td><td>f64</td><td>f64</td><td>f64</td></tr></thead><tbody><tr><td>&quot;SVR&quot;</td><td>&quot;{&#x27;C&#x27;: 0.8, &#x27;epsilon&#x27;: 1.0}&quot;</td><td>95.1581</td><td>0.893894</td><td>1.020952</td></tr><tr><td>&quot;SVR&quot;</td><td>&quot;{&#x27;C&#x27;: 0.9, &#x27;epsilon&#x27;: 1.0}&quot;</td><td>97.18895</td><td>0.884697</td><td>1.021613</td></tr><tr><td>&quot;SVR&quot;</td><td>&quot;{&#x27;C&#x27;: 1.0, &#x27;epsilon&#x27;: 1.0}&quot;</td><td>98.151922</td><td>0.875689</td><td>1.021996</td></tr><tr><td>&quot;SVR&quot;</td><td>&quot;{&#x27;C&#x27;: 1.1, &#x27;epsilon&#x27;: 1.0}&quot;</td><td>97.400904</td><td>0.867216</td><td>1.022721</td></tr><tr><td>&quot;SVR&quot;</td><td>&quot;{&#x27;C&#x27;: 0.8, &#x27;epsilon&#x27;: 0.9}&quot;</td><td>104.934931</td><td>0.882155</td><td>1.023533</td></tr><tr><td>&hellip;</td><td>&hellip;</td><td>&hellip;</td><td>&hellip;</td><td>&hellip;</td></tr><tr><td>&quot;SVR&quot;</td><td>&quot;{&#x27;C&#x27;: 1.0, &#x27;epsilon&#x27;: 1.2}&quot;</td><td>82.366943</td><td>0.902671</td><td>1.02717</td></tr><tr><td>&quot;SVR&quot;</td><td>&quot;{&#x27;C&#x27;: 0.9, &#x27;epsilon&#x27;: 1.2}&quot;</td><td>81.73418</td><td>0.910174</td><td>1.027264</td></tr><tr><td>&quot;SVR&quot;</td><td>&quot;{&#x27;C&#x27;: 1.2, &#x27;epsilon&#x27;: 0.8}&quot;</td><td>118.883133</td><td>0.831849</td><td>1.027318</td></tr><tr><td>&quot;SVR&quot;</td><td>&quot;{&#x27;C&#x27;: 1.1, &#x27;epsilon&#x27;: 1.2}&quot;</td><td>81.638813</td><td>0.895719</td><td>1.027482</td></tr><tr><td>&quot;SVR&quot;</td><td>&quot;{&#x27;C&#x27;: 1.2, &#x27;epsilon&#x27;: 1.2}&quot;</td><td>82.61013</td><td>0.88924</td><td>1.028336</td></tr></tbody></table></div>"
      ],
      "text/plain": [
       "shape: (25, 5)\n",
       "┌───────┬────────────────────────────┬─────────────┬───────────┬──────────┐\n",
       "│ model ┆ params                     ┆ fit_time_ms ┆ train_mae ┆ test_mae │\n",
       "│ ---   ┆ ---                        ┆ ---         ┆ ---       ┆ ---      │\n",
       "│ str   ┆ str                        ┆ f64         ┆ f64       ┆ f64      │\n",
       "╞═══════╪════════════════════════════╪═════════════╪═══════════╪══════════╡\n",
       "│ SVR   ┆ {'C': 0.8, 'epsilon': 1.0} ┆ 95.1581     ┆ 0.893894  ┆ 1.020952 │\n",
       "│ SVR   ┆ {'C': 0.9, 'epsilon': 1.0} ┆ 97.18895    ┆ 0.884697  ┆ 1.021613 │\n",
       "│ SVR   ┆ {'C': 1.0, 'epsilon': 1.0} ┆ 98.151922   ┆ 0.875689  ┆ 1.021996 │\n",
       "│ SVR   ┆ {'C': 1.1, 'epsilon': 1.0} ┆ 97.400904   ┆ 0.867216  ┆ 1.022721 │\n",
       "│ SVR   ┆ {'C': 0.8, 'epsilon': 0.9} ┆ 104.934931  ┆ 0.882155  ┆ 1.023533 │\n",
       "│ …     ┆ …                          ┆ …           ┆ …         ┆ …        │\n",
       "│ SVR   ┆ {'C': 1.0, 'epsilon': 1.2} ┆ 82.366943   ┆ 0.902671  ┆ 1.02717  │\n",
       "│ SVR   ┆ {'C': 0.9, 'epsilon': 1.2} ┆ 81.73418    ┆ 0.910174  ┆ 1.027264 │\n",
       "│ SVR   ┆ {'C': 1.2, 'epsilon': 0.8} ┆ 118.883133  ┆ 0.831849  ┆ 1.027318 │\n",
       "│ SVR   ┆ {'C': 1.1, 'epsilon': 1.2} ┆ 81.638813   ┆ 0.895719  ┆ 1.027482 │\n",
       "│ SVR   ┆ {'C': 1.2, 'epsilon': 1.2} ┆ 82.61013    ┆ 0.88924   ┆ 1.028336 │\n",
       "└───────┴────────────────────────────┴─────────────┴───────────┴──────────┘"
      ]
     },
     "execution_count": 13,
     "metadata": {},
     "output_type": "execute_result"
    }
   ],
   "source": [
    "param_grid = {\n",
    "    \"C\": np.linspace(start=0.8, stop=1.2, num=5),\n",
    "    \"epsilon\": np.linspace(start=0.8, stop=1.2, num=5),\n",
    "}\n",
    "\n",
    "grid_search(SVR, param_grid)"
   ]
  },
  {
   "cell_type": "markdown",
   "metadata": {},
   "source": [
    "Try a few more linear models.\n"
   ]
  },
  {
   "cell_type": "code",
   "execution_count": 14,
   "metadata": {},
   "outputs": [
    {
     "data": {
      "application/vnd.jupyter.widget-view+json": {
       "model_id": "d8efe322663240dca87e87ef06ee4909",
       "version_major": 2,
       "version_minor": 0
      },
      "text/plain": [
       "  0%|          | 0/20 [00:00<?, ?it/s]"
      ]
     },
     "metadata": {},
     "output_type": "display_data"
    },
    {
     "data": {
      "text/html": [
       "<div><style>\n",
       ".dataframe > thead > tr,\n",
       ".dataframe > tbody > tr {\n",
       "  text-align: right;\n",
       "  white-space: pre-wrap;\n",
       "}\n",
       "</style>\n",
       "<small>shape: (20, 5)</small><table border=\"1\" class=\"dataframe\"><thead><tr><th>model</th><th>params</th><th>fit_time_ms</th><th>train_mae</th><th>test_mae</th></tr><tr><td>str</td><td>str</td><td>f64</td><td>f64</td><td>f64</td></tr></thead><tbody><tr><td>&quot;Ridge&quot;</td><td>&quot;{&#x27;alpha&#x27;: 1.4474}&quot;</td><td>4.287004</td><td>0.908754</td><td>1.007351</td></tr><tr><td>&quot;Ridge&quot;</td><td>&quot;{&#x27;alpha&#x27;: 1.5263}&quot;</td><td>4.657984</td><td>0.91085</td><td>1.00736</td></tr><tr><td>&quot;Ridge&quot;</td><td>&quot;{&#x27;alpha&#x27;: 1.3684}&quot;</td><td>4.197121</td><td>0.90658</td><td>1.007363</td></tr><tr><td>&quot;Ridge&quot;</td><td>&quot;{&#x27;alpha&#x27;: 1.6053}&quot;</td><td>4.576921</td><td>0.912866</td><td>1.007402</td></tr><tr><td>&quot;Ridge&quot;</td><td>&quot;{&#x27;alpha&#x27;: 1.2895}&quot;</td><td>4.451752</td><td>0.904323</td><td>1.007459</td></tr><tr><td>&hellip;</td><td>&hellip;</td><td>&hellip;</td><td>&hellip;</td><td>&hellip;</td></tr><tr><td>&quot;Ridge&quot;</td><td>&quot;{&#x27;alpha&#x27;: 0.8158}&quot;</td><td>5.245924</td><td>0.888077</td><td>1.011126</td></tr><tr><td>&quot;Ridge&quot;</td><td>&quot;{&#x27;alpha&#x27;: 0.7368}&quot;</td><td>5.831003</td><td>0.88484</td><td>1.013093</td></tr><tr><td>&quot;Ridge&quot;</td><td>&quot;{&#x27;alpha&#x27;: 0.6579}&quot;</td><td>6.709099</td><td>0.881487</td><td>1.015332</td></tr><tr><td>&quot;Ridge&quot;</td><td>&quot;{&#x27;alpha&#x27;: 0.5789}&quot;</td><td>7.67684</td><td>0.877938</td><td>1.017907</td></tr><tr><td>&quot;Ridge&quot;</td><td>&quot;{&#x27;alpha&#x27;: 0.5}&quot;</td><td>8.599997</td><td>0.874034</td><td>1.020901</td></tr></tbody></table></div>"
      ],
      "text/plain": [
       "shape: (20, 5)\n",
       "┌───────┬───────────────────┬─────────────┬───────────┬──────────┐\n",
       "│ model ┆ params            ┆ fit_time_ms ┆ train_mae ┆ test_mae │\n",
       "│ ---   ┆ ---               ┆ ---         ┆ ---       ┆ ---      │\n",
       "│ str   ┆ str               ┆ f64         ┆ f64       ┆ f64      │\n",
       "╞═══════╪═══════════════════╪═════════════╪═══════════╪══════════╡\n",
       "│ Ridge ┆ {'alpha': 1.4474} ┆ 4.287004    ┆ 0.908754  ┆ 1.007351 │\n",
       "│ Ridge ┆ {'alpha': 1.5263} ┆ 4.657984    ┆ 0.91085   ┆ 1.00736  │\n",
       "│ Ridge ┆ {'alpha': 1.3684} ┆ 4.197121    ┆ 0.90658   ┆ 1.007363 │\n",
       "│ Ridge ┆ {'alpha': 1.6053} ┆ 4.576921    ┆ 0.912866  ┆ 1.007402 │\n",
       "│ Ridge ┆ {'alpha': 1.2895} ┆ 4.451752    ┆ 0.904323  ┆ 1.007459 │\n",
       "│ …     ┆ …                 ┆ …           ┆ …         ┆ …        │\n",
       "│ Ridge ┆ {'alpha': 0.8158} ┆ 5.245924    ┆ 0.888077  ┆ 1.011126 │\n",
       "│ Ridge ┆ {'alpha': 0.7368} ┆ 5.831003    ┆ 0.88484   ┆ 1.013093 │\n",
       "│ Ridge ┆ {'alpha': 0.6579} ┆ 6.709099    ┆ 0.881487  ┆ 1.015332 │\n",
       "│ Ridge ┆ {'alpha': 0.5789} ┆ 7.67684     ┆ 0.877938  ┆ 1.017907 │\n",
       "│ Ridge ┆ {'alpha': 0.5}    ┆ 8.599997    ┆ 0.874034  ┆ 1.020901 │\n",
       "└───────┴───────────────────┴─────────────┴───────────┴──────────┘"
      ]
     },
     "execution_count": 14,
     "metadata": {},
     "output_type": "execute_result"
    }
   ],
   "source": [
    "from sklearn.linear_model import Ridge\n",
    "\n",
    "param_grid = {\n",
    "    \"alpha\": np.linspace(start=0.5, stop=2.0, num=20),\n",
    "}\n",
    "\n",
    "grid_search(Ridge, param_grid)"
   ]
  },
  {
   "cell_type": "code",
   "execution_count": 59,
   "metadata": {},
   "outputs": [
    {
     "data": {
      "application/vnd.jupyter.widget-view+json": {
       "model_id": "5e49e0511dbb416296f8322256fd203e",
       "version_major": 2,
       "version_minor": 0
      },
      "text/plain": [
       "  0%|          | 0/81 [00:00<?, ?it/s]"
      ]
     },
     "metadata": {},
     "output_type": "display_data"
    },
    {
     "data": {
      "text/html": [
       "<div><style>\n",
       ".dataframe > thead > tr,\n",
       ".dataframe > tbody > tr {\n",
       "  text-align: right;\n",
       "  white-space: pre-wrap;\n",
       "}\n",
       "</style>\n",
       "<small>shape: (81, 5)</small><table border=\"1\" class=\"dataframe\"><thead><tr><th>model</th><th>params</th><th>fit_time_ms</th><th>train_mae</th><th>test_mae</th></tr><tr><td>str</td><td>str</td><td>f64</td><td>f64</td><td>f64</td></tr></thead><tbody><tr><td>&quot;Bayesian Ridge Regression&quot;</td><td>&quot;{&#x27;alpha_1&#x27;: 0.0001, &#x27;alpha_2&#x27;:…</td><td>54.588318</td><td>0.915301</td><td>1.007601</td></tr><tr><td>&quot;Bayesian Ridge Regression&quot;</td><td>&quot;{&#x27;alpha_1&#x27;: 0.0001, &#x27;alpha_2&#x27;:…</td><td>55.998087</td><td>0.915301</td><td>1.007601</td></tr><tr><td>&quot;Bayesian Ridge Regression&quot;</td><td>&quot;{&#x27;alpha_1&#x27;: 0.0, &#x27;alpha_2&#x27;: 0.…</td><td>55.694818</td><td>0.915302</td><td>1.007601</td></tr><tr><td>&quot;Bayesian Ridge Regression&quot;</td><td>&quot;{&#x27;alpha_1&#x27;: 0.0, &#x27;alpha_2&#x27;: 0.…</td><td>58.756828</td><td>0.915302</td><td>1.007601</td></tr><tr><td>&quot;Bayesian Ridge Regression&quot;</td><td>&quot;{&#x27;alpha_1&#x27;: 0.0, &#x27;alpha_2&#x27;: 0.…</td><td>57.154179</td><td>0.915302</td><td>1.007601</td></tr><tr><td>&hellip;</td><td>&hellip;</td><td>&hellip;</td><td>&hellip;</td><td>&hellip;</td></tr><tr><td>&quot;Bayesian Ridge Regression&quot;</td><td>&quot;{&#x27;alpha_1&#x27;: 0.0, &#x27;alpha_2&#x27;: 0.…</td><td>89.975119</td><td>0.915301</td><td>1.007601</td></tr><tr><td>&quot;Bayesian Ridge Regression&quot;</td><td>&quot;{&#x27;alpha_1&#x27;: 0.0, &#x27;alpha_2&#x27;: 0.…</td><td>55.245161</td><td>0.915301</td><td>1.007601</td></tr><tr><td>&quot;Bayesian Ridge Regression&quot;</td><td>&quot;{&#x27;alpha_1&#x27;: 0.0, &#x27;alpha_2&#x27;: 0.…</td><td>56.51927</td><td>0.915301</td><td>1.007601</td></tr><tr><td>&quot;Bayesian Ridge Regression&quot;</td><td>&quot;{&#x27;alpha_1&#x27;: 0.0, &#x27;alpha_2&#x27;: 0.…</td><td>56.350946</td><td>0.915301</td><td>1.007601</td></tr><tr><td>&quot;Bayesian Ridge Regression&quot;</td><td>&quot;{&#x27;alpha_1&#x27;: 0.0001, &#x27;alpha_2&#x27;:…</td><td>54.846048</td><td>0.915301</td><td>1.007601</td></tr></tbody></table></div>"
      ],
      "text/plain": [
       "shape: (81, 5)\n",
       "┌───────────────────────────┬─────────────────────────────────┬─────────────┬───────────┬──────────┐\n",
       "│ model                     ┆ params                          ┆ fit_time_ms ┆ train_mae ┆ test_mae │\n",
       "│ ---                       ┆ ---                             ┆ ---         ┆ ---       ┆ ---      │\n",
       "│ str                       ┆ str                             ┆ f64         ┆ f64       ┆ f64      │\n",
       "╞═══════════════════════════╪═════════════════════════════════╪═════════════╪═══════════╪══════════╡\n",
       "│ Bayesian Ridge Regression ┆ {'alpha_1': 0.0001, 'alpha_2':… ┆ 54.588318   ┆ 0.915301  ┆ 1.007601 │\n",
       "│ Bayesian Ridge Regression ┆ {'alpha_1': 0.0001, 'alpha_2':… ┆ 55.998087   ┆ 0.915301  ┆ 1.007601 │\n",
       "│ Bayesian Ridge Regression ┆ {'alpha_1': 0.0, 'alpha_2': 0.… ┆ 55.694818   ┆ 0.915302  ┆ 1.007601 │\n",
       "│ Bayesian Ridge Regression ┆ {'alpha_1': 0.0, 'alpha_2': 0.… ┆ 58.756828   ┆ 0.915302  ┆ 1.007601 │\n",
       "│ Bayesian Ridge Regression ┆ {'alpha_1': 0.0, 'alpha_2': 0.… ┆ 57.154179   ┆ 0.915302  ┆ 1.007601 │\n",
       "│ …                         ┆ …                               ┆ …           ┆ …         ┆ …        │\n",
       "│ Bayesian Ridge Regression ┆ {'alpha_1': 0.0, 'alpha_2': 0.… ┆ 89.975119   ┆ 0.915301  ┆ 1.007601 │\n",
       "│ Bayesian Ridge Regression ┆ {'alpha_1': 0.0, 'alpha_2': 0.… ┆ 55.245161   ┆ 0.915301  ┆ 1.007601 │\n",
       "│ Bayesian Ridge Regression ┆ {'alpha_1': 0.0, 'alpha_2': 0.… ┆ 56.51927    ┆ 0.915301  ┆ 1.007601 │\n",
       "│ Bayesian Ridge Regression ┆ {'alpha_1': 0.0, 'alpha_2': 0.… ┆ 56.350946   ┆ 0.915301  ┆ 1.007601 │\n",
       "│ Bayesian Ridge Regression ┆ {'alpha_1': 0.0001, 'alpha_2':… ┆ 54.846048   ┆ 0.915301  ┆ 1.007601 │\n",
       "└───────────────────────────┴─────────────────────────────────┴─────────────┴───────────┴──────────┘"
      ]
     },
     "execution_count": 59,
     "metadata": {},
     "output_type": "execute_result"
    }
   ],
   "source": [
    "from sklearn.linear_model import BayesianRidge\n",
    "\n",
    "param_grid = {\n",
    "    \"alpha_1\": np.array([1e-6, 1e-5, 1e-4]),\n",
    "    \"alpha_2\": np.array([1e-6, 1e-5, 1e-4]),\n",
    "    \"lambda_1\": np.array([1e-6, 1e-5, 1e-4]),\n",
    "    \"lambda_2\": np.array([1e-6, 1e-5, 1e-4]),\n",
    "}\n",
    "\n",
    "grid_search(BayesianRidge, param_grid)"
   ]
  },
  {
   "cell_type": "code",
   "execution_count": 60,
   "metadata": {},
   "outputs": [
    {
     "data": {
      "application/vnd.jupyter.widget-view+json": {
       "model_id": "a459dea7a4834f659f166a4b20a0c977",
       "version_major": 2,
       "version_minor": 0
      },
      "text/plain": [
       "  0%|          | 0/100 [00:00<?, ?it/s]"
      ]
     },
     "metadata": {},
     "output_type": "display_data"
    },
    {
     "data": {
      "text/html": [
       "<div><style>\n",
       ".dataframe > thead > tr,\n",
       ".dataframe > tbody > tr {\n",
       "  text-align: right;\n",
       "  white-space: pre-wrap;\n",
       "}\n",
       "</style>\n",
       "<small>shape: (100, 5)</small><table border=\"1\" class=\"dataframe\"><thead><tr><th>model</th><th>params</th><th>fit_time_ms</th><th>train_mae</th><th>test_mae</th></tr><tr><td>str</td><td>str</td><td>f64</td><td>f64</td><td>f64</td></tr></thead><tbody><tr><td>&quot;KernelRidge&quot;</td><td>&quot;{&#x27;alpha&#x27;: 2.0, &#x27;degree&#x27;: 2}&quot;</td><td>18.443108</td><td>0.939202</td><td>1.024392</td></tr><tr><td>&quot;KernelRidge&quot;</td><td>&quot;{&#x27;alpha&#x27;: 2.0, &#x27;degree&#x27;: 3}&quot;</td><td>18.319845</td><td>0.939202</td><td>1.024392</td></tr><tr><td>&quot;KernelRidge&quot;</td><td>&quot;{&#x27;alpha&#x27;: 2.0, &#x27;degree&#x27;: 4}&quot;</td><td>18.078089</td><td>0.939202</td><td>1.024392</td></tr><tr><td>&quot;KernelRidge&quot;</td><td>&quot;{&#x27;alpha&#x27;: 2.0, &#x27;degree&#x27;: 5}&quot;</td><td>19.418955</td><td>0.939202</td><td>1.024392</td></tr><tr><td>&quot;KernelRidge&quot;</td><td>&quot;{&#x27;alpha&#x27;: 2.0, &#x27;degree&#x27;: 6}&quot;</td><td>18.694878</td><td>0.939202</td><td>1.024392</td></tr><tr><td>&hellip;</td><td>&hellip;</td><td>&hellip;</td><td>&hellip;</td><td>&hellip;</td></tr><tr><td>&quot;KernelRidge&quot;</td><td>&quot;{&#x27;alpha&#x27;: 0.5, &#x27;degree&#x27;: 2}&quot;</td><td>48.840046</td><td>0.890756</td><td>1.042783</td></tr><tr><td>&quot;KernelRidge&quot;</td><td>&quot;{&#x27;alpha&#x27;: 0.5, &#x27;degree&#x27;: 3}&quot;</td><td>18.843174</td><td>0.890756</td><td>1.042783</td></tr><tr><td>&quot;KernelRidge&quot;</td><td>&quot;{&#x27;alpha&#x27;: 0.5, &#x27;degree&#x27;: 4}&quot;</td><td>18.883944</td><td>0.890756</td><td>1.042783</td></tr><tr><td>&quot;KernelRidge&quot;</td><td>&quot;{&#x27;alpha&#x27;: 0.5, &#x27;degree&#x27;: 5}&quot;</td><td>19.228697</td><td>0.890756</td><td>1.042783</td></tr><tr><td>&quot;KernelRidge&quot;</td><td>&quot;{&#x27;alpha&#x27;: 0.5, &#x27;degree&#x27;: 6}&quot;</td><td>18.228054</td><td>0.890756</td><td>1.042783</td></tr></tbody></table></div>"
      ],
      "text/plain": [
       "shape: (100, 5)\n",
       "┌─────────────┬─────────────────────────────┬─────────────┬───────────┬──────────┐\n",
       "│ model       ┆ params                      ┆ fit_time_ms ┆ train_mae ┆ test_mae │\n",
       "│ ---         ┆ ---                         ┆ ---         ┆ ---       ┆ ---      │\n",
       "│ str         ┆ str                         ┆ f64         ┆ f64       ┆ f64      │\n",
       "╞═════════════╪═════════════════════════════╪═════════════╪═══════════╪══════════╡\n",
       "│ KernelRidge ┆ {'alpha': 2.0, 'degree': 2} ┆ 18.443108   ┆ 0.939202  ┆ 1.024392 │\n",
       "│ KernelRidge ┆ {'alpha': 2.0, 'degree': 3} ┆ 18.319845   ┆ 0.939202  ┆ 1.024392 │\n",
       "│ KernelRidge ┆ {'alpha': 2.0, 'degree': 4} ┆ 18.078089   ┆ 0.939202  ┆ 1.024392 │\n",
       "│ KernelRidge ┆ {'alpha': 2.0, 'degree': 5} ┆ 19.418955   ┆ 0.939202  ┆ 1.024392 │\n",
       "│ KernelRidge ┆ {'alpha': 2.0, 'degree': 6} ┆ 18.694878   ┆ 0.939202  ┆ 1.024392 │\n",
       "│ …           ┆ …                           ┆ …           ┆ …         ┆ …        │\n",
       "│ KernelRidge ┆ {'alpha': 0.5, 'degree': 2} ┆ 48.840046   ┆ 0.890756  ┆ 1.042783 │\n",
       "│ KernelRidge ┆ {'alpha': 0.5, 'degree': 3} ┆ 18.843174   ┆ 0.890756  ┆ 1.042783 │\n",
       "│ KernelRidge ┆ {'alpha': 0.5, 'degree': 4} ┆ 18.883944   ┆ 0.890756  ┆ 1.042783 │\n",
       "│ KernelRidge ┆ {'alpha': 0.5, 'degree': 5} ┆ 19.228697   ┆ 0.890756  ┆ 1.042783 │\n",
       "│ KernelRidge ┆ {'alpha': 0.5, 'degree': 6} ┆ 18.228054   ┆ 0.890756  ┆ 1.042783 │\n",
       "└─────────────┴─────────────────────────────┴─────────────┴───────────┴──────────┘"
      ]
     },
     "execution_count": 60,
     "metadata": {},
     "output_type": "execute_result"
    }
   ],
   "source": [
    "from sklearn.kernel_ridge import KernelRidge\n",
    "\n",
    "param_grid = {\n",
    "    \"alpha\": np.linspace(start=0.5, stop=2.0, num=20),\n",
    "    \"degree\": np.arange(start=2, stop=7),\n",
    "}\n",
    "\n",
    "grid_search(KernelRidge, param_grid)"
   ]
  },
  {
   "cell_type": "code",
   "execution_count": 63,
   "metadata": {},
   "outputs": [
    {
     "data": {
      "application/vnd.jupyter.widget-view+json": {
       "model_id": "2db4b8f0570b4f2db43d74c406e0d9c0",
       "version_major": 2,
       "version_minor": 0
      },
      "text/plain": [
       "  0%|          | 0/100 [00:00<?, ?it/s]"
      ]
     },
     "metadata": {},
     "output_type": "display_data"
    },
    {
     "data": {
      "text/html": [
       "<div><style>\n",
       ".dataframe > thead > tr,\n",
       ".dataframe > tbody > tr {\n",
       "  text-align: right;\n",
       "  white-space: pre-wrap;\n",
       "}\n",
       "</style>\n",
       "<small>shape: (100, 5)</small><table border=\"1\" class=\"dataframe\"><thead><tr><th>model</th><th>params</th><th>fit_time_ms</th><th>train_mae</th><th>test_mae</th></tr><tr><td>str</td><td>str</td><td>f64</td><td>f64</td><td>f64</td></tr></thead><tbody><tr><td>&quot;ElasticNet&quot;</td><td>&quot;{&#x27;alpha&#x27;: 0.5, &#x27;l1_ratio&#x27;: 0.1…</td><td>4.637957</td><td>1.11784</td><td>1.15688</td></tr><tr><td>&quot;ElasticNet&quot;</td><td>&quot;{&#x27;alpha&#x27;: 0.5, &#x27;l1_ratio&#x27;: 0.1…</td><td>3.396034</td><td>1.11784</td><td>1.15688</td></tr><tr><td>&quot;ElasticNet&quot;</td><td>&quot;{&#x27;alpha&#x27;: 0.5, &#x27;l1_ratio&#x27;: 0.2…</td><td>4.389048</td><td>1.11784</td><td>1.15688</td></tr><tr><td>&quot;ElasticNet&quot;</td><td>&quot;{&#x27;alpha&#x27;: 0.5, &#x27;l1_ratio&#x27;: 0.3…</td><td>3.980875</td><td>1.11784</td><td>1.15688</td></tr><tr><td>&quot;ElasticNet&quot;</td><td>&quot;{&#x27;alpha&#x27;: 0.5, &#x27;l1_ratio&#x27;: 0.4…</td><td>5.500793</td><td>1.11784</td><td>1.15688</td></tr><tr><td>&hellip;</td><td>&hellip;</td><td>&hellip;</td><td>&hellip;</td><td>&hellip;</td></tr><tr><td>&quot;ElasticNet&quot;</td><td>&quot;{&#x27;alpha&#x27;: 1.5, &#x27;l1_ratio&#x27;: 0.5…</td><td>2.591372</td><td>1.11784</td><td>1.15688</td></tr><tr><td>&quot;ElasticNet&quot;</td><td>&quot;{&#x27;alpha&#x27;: 1.5, &#x27;l1_ratio&#x27;: 0.6…</td><td>2.604008</td><td>1.11784</td><td>1.15688</td></tr><tr><td>&quot;ElasticNet&quot;</td><td>&quot;{&#x27;alpha&#x27;: 1.5, &#x27;l1_ratio&#x27;: 0.7…</td><td>2.370119</td><td>1.11784</td><td>1.15688</td></tr><tr><td>&quot;ElasticNet&quot;</td><td>&quot;{&#x27;alpha&#x27;: 1.5, &#x27;l1_ratio&#x27;: 0.8…</td><td>2.567053</td><td>1.11784</td><td>1.15688</td></tr><tr><td>&quot;ElasticNet&quot;</td><td>&quot;{&#x27;alpha&#x27;: 1.5, &#x27;l1_ratio&#x27;: 0.9…</td><td>2.543211</td><td>1.11784</td><td>1.15688</td></tr></tbody></table></div>"
      ],
      "text/plain": [
       "shape: (100, 5)\n",
       "┌────────────┬─────────────────────────────────┬─────────────┬───────────┬──────────┐\n",
       "│ model      ┆ params                          ┆ fit_time_ms ┆ train_mae ┆ test_mae │\n",
       "│ ---        ┆ ---                             ┆ ---         ┆ ---       ┆ ---      │\n",
       "│ str        ┆ str                             ┆ f64         ┆ f64       ┆ f64      │\n",
       "╞════════════╪═════════════════════════════════╪═════════════╪═══════════╪══════════╡\n",
       "│ ElasticNet ┆ {'alpha': 0.5, 'l1_ratio': 0.1… ┆ 4.637957    ┆ 1.11784   ┆ 1.15688  │\n",
       "│ ElasticNet ┆ {'alpha': 0.5, 'l1_ratio': 0.1… ┆ 3.396034    ┆ 1.11784   ┆ 1.15688  │\n",
       "│ ElasticNet ┆ {'alpha': 0.5, 'l1_ratio': 0.2… ┆ 4.389048    ┆ 1.11784   ┆ 1.15688  │\n",
       "│ ElasticNet ┆ {'alpha': 0.5, 'l1_ratio': 0.3… ┆ 3.980875    ┆ 1.11784   ┆ 1.15688  │\n",
       "│ ElasticNet ┆ {'alpha': 0.5, 'l1_ratio': 0.4… ┆ 5.500793    ┆ 1.11784   ┆ 1.15688  │\n",
       "│ …          ┆ …                               ┆ …           ┆ …         ┆ …        │\n",
       "│ ElasticNet ┆ {'alpha': 1.5, 'l1_ratio': 0.5… ┆ 2.591372    ┆ 1.11784   ┆ 1.15688  │\n",
       "│ ElasticNet ┆ {'alpha': 1.5, 'l1_ratio': 0.6… ┆ 2.604008    ┆ 1.11784   ┆ 1.15688  │\n",
       "│ ElasticNet ┆ {'alpha': 1.5, 'l1_ratio': 0.7… ┆ 2.370119    ┆ 1.11784   ┆ 1.15688  │\n",
       "│ ElasticNet ┆ {'alpha': 1.5, 'l1_ratio': 0.8… ┆ 2.567053    ┆ 1.11784   ┆ 1.15688  │\n",
       "│ ElasticNet ┆ {'alpha': 1.5, 'l1_ratio': 0.9… ┆ 2.543211    ┆ 1.11784   ┆ 1.15688  │\n",
       "└────────────┴─────────────────────────────────┴─────────────┴───────────┴──────────┘"
      ]
     },
     "execution_count": 63,
     "metadata": {},
     "output_type": "execute_result"
    }
   ],
   "source": [
    "from sklearn.linear_model import ElasticNet\n",
    "\n",
    "param_grid = {\n",
    "    \"alpha\": np.linspace(start=0.5, stop=1.5, num=10),\n",
    "    \"l1_ratio\": np.linspace(start=0.1, stop=0.9, num=10),\n",
    "}\n",
    "grid_search(ElasticNet, param_grid)"
   ]
  },
  {
   "cell_type": "code",
   "execution_count": 64,
   "metadata": {},
   "outputs": [
    {
     "data": {
      "application/vnd.jupyter.widget-view+json": {
       "model_id": "f0b08e7e9b2b4181a746e4d37e8a64b4",
       "version_major": 2,
       "version_minor": 0
      },
      "text/plain": [
       "  0%|          | 0/90 [00:00<?, ?it/s]"
      ]
     },
     "metadata": {},
     "output_type": "display_data"
    },
    {
     "data": {
      "text/html": [
       "<div><style>\n",
       ".dataframe > thead > tr,\n",
       ".dataframe > tbody > tr {\n",
       "  text-align: right;\n",
       "  white-space: pre-wrap;\n",
       "}\n",
       "</style>\n",
       "<small>shape: (90, 5)</small><table border=\"1\" class=\"dataframe\"><thead><tr><th>model</th><th>params</th><th>fit_time_ms</th><th>train_mae</th><th>test_mae</th></tr><tr><td>str</td><td>str</td><td>f64</td><td>f64</td><td>f64</td></tr></thead><tbody><tr><td>&quot;SGDRegressor&quot;</td><td>&quot;{&#x27;alpha&#x27;: 0.0001, &#x27;l1_ratio&#x27;: …</td><td>164.452076</td><td>1.009713</td><td>1.060977</td></tr><tr><td>&quot;SGDRegressor&quot;</td><td>&quot;{&#x27;alpha&#x27;: 0.0001, &#x27;l1_ratio&#x27;: …</td><td>262.612343</td><td>1.0121</td><td>1.06296</td></tr><tr><td>&quot;SGDRegressor&quot;</td><td>&quot;{&#x27;alpha&#x27;: 0.0001, &#x27;l1_ratio&#x27;: …</td><td>160.377026</td><td>1.012377</td><td>1.062963</td></tr><tr><td>&quot;SGDRegressor&quot;</td><td>&quot;{&#x27;alpha&#x27;: 0.001, &#x27;l1_ratio&#x27;: 0…</td><td>158.321857</td><td>1.013135</td><td>1.064459</td></tr><tr><td>&quot;SGDRegressor&quot;</td><td>&quot;{&#x27;alpha&#x27;: 0.001, &#x27;l1_ratio&#x27;: 0…</td><td>164.090872</td><td>1.012916</td><td>1.064549</td></tr><tr><td>&hellip;</td><td>&hellip;</td><td>&hellip;</td><td>&hellip;</td><td>&hellip;</td></tr><tr><td>&quot;SGDRegressor&quot;</td><td>&quot;{&#x27;alpha&#x27;: 0.01, &#x27;l1_ratio&#x27;: 0.…</td><td>67.302942</td><td>1.115121</td><td>1.158357</td></tr><tr><td>&quot;SGDRegressor&quot;</td><td>&quot;{&#x27;alpha&#x27;: 0.01, &#x27;l1_ratio&#x27;: 0.…</td><td>77.97575</td><td>1.115376</td><td>1.159054</td></tr><tr><td>&quot;SGDRegressor&quot;</td><td>&quot;{&#x27;alpha&#x27;: 0.01, &#x27;l1_ratio&#x27;: 0.…</td><td>69.360971</td><td>1.115226</td><td>1.159077</td></tr><tr><td>&quot;SGDRegressor&quot;</td><td>&quot;{&#x27;alpha&#x27;: 0.01, &#x27;l1_ratio&#x27;: 0.…</td><td>67.888975</td><td>1.115567</td><td>1.15919</td></tr><tr><td>&quot;SGDRegressor&quot;</td><td>&quot;{&#x27;alpha&#x27;: 0.01, &#x27;l1_ratio&#x27;: 0.…</td><td>73.519707</td><td>1.115267</td><td>1.159204</td></tr></tbody></table></div>"
      ],
      "text/plain": [
       "shape: (90, 5)\n",
       "┌──────────────┬─────────────────────────────────┬─────────────┬───────────┬──────────┐\n",
       "│ model        ┆ params                          ┆ fit_time_ms ┆ train_mae ┆ test_mae │\n",
       "│ ---          ┆ ---                             ┆ ---         ┆ ---       ┆ ---      │\n",
       "│ str          ┆ str                             ┆ f64         ┆ f64       ┆ f64      │\n",
       "╞══════════════╪═════════════════════════════════╪═════════════╪═══════════╪══════════╡\n",
       "│ SGDRegressor ┆ {'alpha': 0.0001, 'l1_ratio': … ┆ 164.452076  ┆ 1.009713  ┆ 1.060977 │\n",
       "│ SGDRegressor ┆ {'alpha': 0.0001, 'l1_ratio': … ┆ 262.612343  ┆ 1.0121    ┆ 1.06296  │\n",
       "│ SGDRegressor ┆ {'alpha': 0.0001, 'l1_ratio': … ┆ 160.377026  ┆ 1.012377  ┆ 1.062963 │\n",
       "│ SGDRegressor ┆ {'alpha': 0.001, 'l1_ratio': 0… ┆ 158.321857  ┆ 1.013135  ┆ 1.064459 │\n",
       "│ SGDRegressor ┆ {'alpha': 0.001, 'l1_ratio': 0… ┆ 164.090872  ┆ 1.012916  ┆ 1.064549 │\n",
       "│ …            ┆ …                               ┆ …           ┆ …         ┆ …        │\n",
       "│ SGDRegressor ┆ {'alpha': 0.01, 'l1_ratio': 0.… ┆ 67.302942   ┆ 1.115121  ┆ 1.158357 │\n",
       "│ SGDRegressor ┆ {'alpha': 0.01, 'l1_ratio': 0.… ┆ 77.97575    ┆ 1.115376  ┆ 1.159054 │\n",
       "│ SGDRegressor ┆ {'alpha': 0.01, 'l1_ratio': 0.… ┆ 69.360971   ┆ 1.115226  ┆ 1.159077 │\n",
       "│ SGDRegressor ┆ {'alpha': 0.01, 'l1_ratio': 0.… ┆ 67.888975   ┆ 1.115567  ┆ 1.15919  │\n",
       "│ SGDRegressor ┆ {'alpha': 0.01, 'l1_ratio': 0.… ┆ 73.519707   ┆ 1.115267  ┆ 1.159204 │\n",
       "└──────────────┴─────────────────────────────────┴─────────────┴───────────┴──────────┘"
      ]
     },
     "execution_count": 64,
     "metadata": {},
     "output_type": "execute_result"
    }
   ],
   "source": [
    "from sklearn.linear_model import SGDRegressor\n",
    "\n",
    "param_grid = {\n",
    "    \"alpha\": np.array([1e-4, 1e-3, 1e-2]),\n",
    "    \"l1_ratio\": np.linspace(start=0.1, stop=0.9, num=10),\n",
    "    \"penalty\": np.array([\"l1\", \"l2\", \"elasticnet\"]),\n",
    "}\n",
    "grid_search(SGDRegressor, param_grid)"
   ]
  },
  {
   "cell_type": "code",
   "execution_count": 67,
   "metadata": {},
   "outputs": [
    {
     "data": {
      "application/vnd.jupyter.widget-view+json": {
       "model_id": "d2864fe6a0884c45b1cb3f7e1a19b832",
       "version_major": 2,
       "version_minor": 0
      },
      "text/plain": [
       "  0%|          | 0/126 [00:00<?, ?it/s]"
      ]
     },
     "metadata": {},
     "output_type": "display_data"
    },
    {
     "data": {
      "text/html": [
       "<div><style>\n",
       ".dataframe > thead > tr,\n",
       ".dataframe > tbody > tr {\n",
       "  text-align: right;\n",
       "  white-space: pre-wrap;\n",
       "}\n",
       "</style>\n",
       "<small>shape: (126, 5)</small><table border=\"1\" class=\"dataframe\"><thead><tr><th>model</th><th>params</th><th>fit_time_ms</th><th>train_mae</th><th>test_mae</th></tr><tr><td>str</td><td>str</td><td>f64</td><td>f64</td><td>f64</td></tr></thead><tbody><tr><td>&quot;KNeighborsRegressor&quot;</td><td>&quot;{&#x27;n_neighbors&#x27;: 6, &#x27;leaf_size&#x27;…</td><td>0.232935</td><td>0.87419</td><td>0.98375</td></tr><tr><td>&quot;KNeighborsRegressor&quot;</td><td>&quot;{&#x27;n_neighbors&#x27;: 6, &#x27;leaf_size&#x27;…</td><td>0.244141</td><td>0.87419</td><td>0.98375</td></tr><tr><td>&quot;KNeighborsRegressor&quot;</td><td>&quot;{&#x27;n_neighbors&#x27;: 6, &#x27;leaf_size&#x27;…</td><td>0.247002</td><td>0.87419</td><td>0.98375</td></tr><tr><td>&quot;KNeighborsRegressor&quot;</td><td>&quot;{&#x27;n_neighbors&#x27;: 6, &#x27;leaf_size&#x27;…</td><td>0.250101</td><td>0.87419</td><td>0.98375</td></tr><tr><td>&quot;KNeighborsRegressor&quot;</td><td>&quot;{&#x27;n_neighbors&#x27;: 6, &#x27;leaf_size&#x27;…</td><td>0.625849</td><td>0.87419</td><td>0.98375</td></tr><tr><td>&hellip;</td><td>&hellip;</td><td>&hellip;</td><td>&hellip;</td><td>&hellip;</td></tr><tr><td>&quot;KNeighborsRegressor&quot;</td><td>&quot;{&#x27;n_neighbors&#x27;: 2, &#x27;leaf_size&#x27;…</td><td>0.582218</td><td>9.5465e-8</td><td>1.22805</td></tr><tr><td>&quot;KNeighborsRegressor&quot;</td><td>&quot;{&#x27;n_neighbors&#x27;: 2, &#x27;leaf_size&#x27;…</td><td>0.265837</td><td>9.5465e-8</td><td>1.22805</td></tr><tr><td>&quot;KNeighborsRegressor&quot;</td><td>&quot;{&#x27;n_neighbors&#x27;: 2, &#x27;leaf_size&#x27;…</td><td>0.597</td><td>9.5465e-8</td><td>1.22805</td></tr><tr><td>&quot;KNeighborsRegressor&quot;</td><td>&quot;{&#x27;n_neighbors&#x27;: 2, &#x27;leaf_size&#x27;…</td><td>0.324965</td><td>9.5465e-8</td><td>1.22805</td></tr><tr><td>&quot;KNeighborsRegressor&quot;</td><td>&quot;{&#x27;n_neighbors&#x27;: 2, &#x27;leaf_size&#x27;…</td><td>0.254869</td><td>9.5465e-8</td><td>1.22805</td></tr></tbody></table></div>"
      ],
      "text/plain": [
       "shape: (126, 5)\n",
       "┌─────────────────────┬─────────────────────────────────┬─────────────┬───────────┬──────────┐\n",
       "│ model               ┆ params                          ┆ fit_time_ms ┆ train_mae ┆ test_mae │\n",
       "│ ---                 ┆ ---                             ┆ ---         ┆ ---       ┆ ---      │\n",
       "│ str                 ┆ str                             ┆ f64         ┆ f64       ┆ f64      │\n",
       "╞═════════════════════╪═════════════════════════════════╪═════════════╪═══════════╪══════════╡\n",
       "│ KNeighborsRegressor ┆ {'n_neighbors': 6, 'leaf_size'… ┆ 0.232935    ┆ 0.87419   ┆ 0.98375  │\n",
       "│ KNeighborsRegressor ┆ {'n_neighbors': 6, 'leaf_size'… ┆ 0.244141    ┆ 0.87419   ┆ 0.98375  │\n",
       "│ KNeighborsRegressor ┆ {'n_neighbors': 6, 'leaf_size'… ┆ 0.247002    ┆ 0.87419   ┆ 0.98375  │\n",
       "│ KNeighborsRegressor ┆ {'n_neighbors': 6, 'leaf_size'… ┆ 0.250101    ┆ 0.87419   ┆ 0.98375  │\n",
       "│ KNeighborsRegressor ┆ {'n_neighbors': 6, 'leaf_size'… ┆ 0.625849    ┆ 0.87419   ┆ 0.98375  │\n",
       "│ …                   ┆ …                               ┆ …           ┆ …         ┆ …        │\n",
       "│ KNeighborsRegressor ┆ {'n_neighbors': 2, 'leaf_size'… ┆ 0.582218    ┆ 9.5465e-8 ┆ 1.22805  │\n",
       "│ KNeighborsRegressor ┆ {'n_neighbors': 2, 'leaf_size'… ┆ 0.265837    ┆ 9.5465e-8 ┆ 1.22805  │\n",
       "│ KNeighborsRegressor ┆ {'n_neighbors': 2, 'leaf_size'… ┆ 0.597       ┆ 9.5465e-8 ┆ 1.22805  │\n",
       "│ KNeighborsRegressor ┆ {'n_neighbors': 2, 'leaf_size'… ┆ 0.324965    ┆ 9.5465e-8 ┆ 1.22805  │\n",
       "│ KNeighborsRegressor ┆ {'n_neighbors': 2, 'leaf_size'… ┆ 0.254869    ┆ 9.5465e-8 ┆ 1.22805  │\n",
       "└─────────────────────┴─────────────────────────────────┴─────────────┴───────────┴──────────┘"
      ]
     },
     "execution_count": 67,
     "metadata": {},
     "output_type": "execute_result"
    }
   ],
   "source": [
    "from sklearn.neighbors import KNeighborsRegressor\n",
    "\n",
    "param_grid = {\n",
    "    \"n_neighbors\": np.arange(start=2, stop=9),\n",
    "    \"leaf_size\": np.arange(start=5, stop=50, step=5),\n",
    "    \"weights\": np.array([\"uniform\", \"distance\"]),\n",
    "}\n",
    "grid_search(KNeighborsRegressor, param_grid)"
   ]
  },
  {
   "cell_type": "code",
   "execution_count": 77,
   "metadata": {},
   "outputs": [
    {
     "data": {
      "application/vnd.jupyter.widget-view+json": {
       "model_id": "a714cd1dfdae40769a32e01030a3e00e",
       "version_major": 2,
       "version_minor": 0
      },
      "text/plain": [
       "  0%|          | 0/4 [00:00<?, ?it/s]"
      ]
     },
     "metadata": {},
     "output_type": "display_data"
    },
    {
     "data": {
      "text/html": [
       "<div><style>\n",
       ".dataframe > thead > tr,\n",
       ".dataframe > tbody > tr {\n",
       "  text-align: right;\n",
       "  white-space: pre-wrap;\n",
       "}\n",
       "</style>\n",
       "<small>shape: (4, 5)</small><table border=\"1\" class=\"dataframe\"><thead><tr><th>model</th><th>params</th><th>fit_time_ms</th><th>train_mae</th><th>test_mae</th></tr><tr><td>str</td><td>str</td><td>f64</td><td>f64</td><td>f64</td></tr></thead><tbody><tr><td>&quot;RandomForestRegressor&quot;</td><td>&quot;{&#x27;min_samples_leaf&#x27;: 5}&quot;</td><td>27979.981899</td><td>0.458471</td><td>1.055396</td></tr><tr><td>&quot;RandomForestRegressor&quot;</td><td>&quot;{&#x27;min_samples_leaf&#x27;: 2}&quot;</td><td>32291.435003</td><td>0.3927</td><td>1.05599</td></tr><tr><td>&quot;RandomForestRegressor&quot;</td><td>&quot;{&#x27;min_samples_leaf&#x27;: 3}&quot;</td><td>30894.958019</td><td>0.409741</td><td>1.058537</td></tr><tr><td>&quot;RandomForestRegressor&quot;</td><td>&quot;{&#x27;min_samples_leaf&#x27;: 4}&quot;</td><td>29754.374027</td><td>0.435607</td><td>1.066952</td></tr></tbody></table></div>"
      ],
      "text/plain": [
       "shape: (4, 5)\n",
       "┌───────────────────────┬─────────────────────────┬──────────────┬───────────┬──────────┐\n",
       "│ model                 ┆ params                  ┆ fit_time_ms  ┆ train_mae ┆ test_mae │\n",
       "│ ---                   ┆ ---                     ┆ ---          ┆ ---       ┆ ---      │\n",
       "│ str                   ┆ str                     ┆ f64          ┆ f64       ┆ f64      │\n",
       "╞═══════════════════════╪═════════════════════════╪══════════════╪═══════════╪══════════╡\n",
       "│ RandomForestRegressor ┆ {'min_samples_leaf': 5} ┆ 27979.981899 ┆ 0.458471  ┆ 1.055396 │\n",
       "│ RandomForestRegressor ┆ {'min_samples_leaf': 2} ┆ 32291.435003 ┆ 0.3927    ┆ 1.05599  │\n",
       "│ RandomForestRegressor ┆ {'min_samples_leaf': 3} ┆ 30894.958019 ┆ 0.409741  ┆ 1.058537 │\n",
       "│ RandomForestRegressor ┆ {'min_samples_leaf': 4} ┆ 29754.374027 ┆ 0.435607  ┆ 1.066952 │\n",
       "└───────────────────────┴─────────────────────────┴──────────────┴───────────┴──────────┘"
      ]
     },
     "execution_count": 77,
     "metadata": {},
     "output_type": "execute_result"
    }
   ],
   "source": [
    "from sklearn.ensemble import RandomForestRegressor\n",
    "\n",
    "param_grid = {\n",
    "    \"min_samples_leaf\": np.arange(start=2, stop=6),\n",
    "}\n",
    "grid_search(RandomForestRegressor, param_grid)"
   ]
  },
  {
   "cell_type": "code",
   "execution_count": 72,
   "metadata": {},
   "outputs": [
    {
     "data": {
      "application/vnd.jupyter.widget-view+json": {
       "model_id": "ba0dd651a59c4ad2bfe0d3f1665edf46",
       "version_major": 2,
       "version_minor": 0
      },
      "text/plain": [
       "  0%|          | 0/81 [00:00<?, ?it/s]"
      ]
     },
     "metadata": {},
     "output_type": "display_data"
    },
    {
     "data": {
      "text/html": [
       "<div><style>\n",
       ".dataframe > thead > tr,\n",
       ".dataframe > tbody > tr {\n",
       "  text-align: right;\n",
       "  white-space: pre-wrap;\n",
       "}\n",
       "</style>\n",
       "<small>shape: (81, 5)</small><table border=\"1\" class=\"dataframe\"><thead><tr><th>model</th><th>params</th><th>fit_time_ms</th><th>train_mae</th><th>test_mae</th></tr><tr><td>str</td><td>str</td><td>f64</td><td>f64</td><td>f64</td></tr></thead><tbody><tr><td>&quot;HistGradientBoostingRegressor&quot;</td><td>&quot;{&#x27;learning_rate&#x27;: 0.05, &#x27;max_l…</td><td>2074.5399</td><td>0.263926</td><td>1.026484</td></tr><tr><td>&quot;HistGradientBoostingRegressor&quot;</td><td>&quot;{&#x27;learning_rate&#x27;: 0.05, &#x27;max_l…</td><td>1612.729788</td><td>0.33925</td><td>1.034051</td></tr><tr><td>&quot;HistGradientBoostingRegressor&quot;</td><td>&quot;{&#x27;learning_rate&#x27;: 0.05, &#x27;max_l…</td><td>1921.996832</td><td>0.285968</td><td>1.034399</td></tr><tr><td>&quot;HistGradientBoostingRegressor&quot;</td><td>&quot;{&#x27;learning_rate&#x27;: 0.1, &#x27;max_le…</td><td>1709.148884</td><td>0.192629</td><td>1.036705</td></tr><tr><td>&quot;HistGradientBoostingRegressor&quot;</td><td>&quot;{&#x27;learning_rate&#x27;: 0.1, &#x27;max_le…</td><td>2383.854866</td><td>0.042516</td><td>1.038475</td></tr><tr><td>&hellip;</td><td>&hellip;</td><td>&hellip;</td><td>&hellip;</td><td>&hellip;</td></tr><tr><td>&quot;HistGradientBoostingRegressor&quot;</td><td>&quot;{&#x27;learning_rate&#x27;: 0.1, &#x27;max_le…</td><td>1579.900742</td><td>0.248323</td><td>1.09971</td></tr><tr><td>&quot;HistGradientBoostingRegressor&quot;</td><td>&quot;{&#x27;learning_rate&#x27;: 0.1, &#x27;max_le…</td><td>1688.149214</td><td>0.172808</td><td>1.104118</td></tr><tr><td>&quot;HistGradientBoostingRegressor&quot;</td><td>&quot;{&#x27;learning_rate&#x27;: 0.1, &#x27;max_le…</td><td>1602.896214</td><td>0.131334</td><td>1.105918</td></tr><tr><td>&quot;HistGradientBoostingRegressor&quot;</td><td>&quot;{&#x27;learning_rate&#x27;: 0.1, &#x27;max_le…</td><td>2495.135069</td><td>0.040932</td><td>1.105953</td></tr><tr><td>&quot;HistGradientBoostingRegressor&quot;</td><td>&quot;{&#x27;learning_rate&#x27;: 0.1, &#x27;max_le…</td><td>1451.473951</td><td>0.188959</td><td>1.106753</td></tr></tbody></table></div>"
      ],
      "text/plain": [
       "shape: (81, 5)\n",
       "┌───────────────────────────────┬─────────────────────────┬─────────────┬───────────┬──────────┐\n",
       "│ model                         ┆ params                  ┆ fit_time_ms ┆ train_mae ┆ test_mae │\n",
       "│ ---                           ┆ ---                     ┆ ---         ┆ ---       ┆ ---      │\n",
       "│ str                           ┆ str                     ┆ f64         ┆ f64       ┆ f64      │\n",
       "╞═══════════════════════════════╪═════════════════════════╪═════════════╪═══════════╪══════════╡\n",
       "│ HistGradientBoostingRegressor ┆ {'learning_rate': 0.05, ┆ 2074.5399   ┆ 0.263926  ┆ 1.026484 │\n",
       "│                               ┆ 'max_l…                 ┆             ┆           ┆          │\n",
       "│ HistGradientBoostingRegressor ┆ {'learning_rate': 0.05, ┆ 1612.729788 ┆ 0.33925   ┆ 1.034051 │\n",
       "│                               ┆ 'max_l…                 ┆             ┆           ┆          │\n",
       "│ HistGradientBoostingRegressor ┆ {'learning_rate': 0.05, ┆ 1921.996832 ┆ 0.285968  ┆ 1.034399 │\n",
       "│                               ┆ 'max_l…                 ┆             ┆           ┆          │\n",
       "│ HistGradientBoostingRegressor ┆ {'learning_rate': 0.1,  ┆ 1709.148884 ┆ 0.192629  ┆ 1.036705 │\n",
       "│                               ┆ 'max_le…                ┆             ┆           ┆          │\n",
       "│ HistGradientBoostingRegressor ┆ {'learning_rate': 0.1,  ┆ 2383.854866 ┆ 0.042516  ┆ 1.038475 │\n",
       "│                               ┆ 'max_le…                ┆             ┆           ┆          │\n",
       "│ …                             ┆ …                       ┆ …           ┆ …         ┆ …        │\n",
       "│ HistGradientBoostingRegressor ┆ {'learning_rate': 0.1,  ┆ 1579.900742 ┆ 0.248323  ┆ 1.09971  │\n",
       "│                               ┆ 'max_le…                ┆             ┆           ┆          │\n",
       "│ HistGradientBoostingRegressor ┆ {'learning_rate': 0.1,  ┆ 1688.149214 ┆ 0.172808  ┆ 1.104118 │\n",
       "│                               ┆ 'max_le…                ┆             ┆           ┆          │\n",
       "│ HistGradientBoostingRegressor ┆ {'learning_rate': 0.1,  ┆ 1602.896214 ┆ 0.131334  ┆ 1.105918 │\n",
       "│                               ┆ 'max_le…                ┆             ┆           ┆          │\n",
       "│ HistGradientBoostingRegressor ┆ {'learning_rate': 0.1,  ┆ 2495.135069 ┆ 0.040932  ┆ 1.105953 │\n",
       "│                               ┆ 'max_le…                ┆             ┆           ┆          │\n",
       "│ HistGradientBoostingRegressor ┆ {'learning_rate': 0.1,  ┆ 1451.473951 ┆ 0.188959  ┆ 1.106753 │\n",
       "│                               ┆ 'max_le…                ┆             ┆           ┆          │\n",
       "└───────────────────────────────┴─────────────────────────┴─────────────┴───────────┴──────────┘"
      ]
     },
     "execution_count": 72,
     "metadata": {},
     "output_type": "execute_result"
    }
   ],
   "source": [
    "from sklearn.ensemble import HistGradientBoostingRegressor\n",
    "\n",
    "param_grid = {\n",
    "    \"learning_rate\": np.array([1e-1, 5e-2, 1e-2]),\n",
    "    \"max_leaf_nodes\": np.arange(start=20, stop=50, step=10),\n",
    "    # \"l2_regularization\": np.linspace(start=0.0, stop=1.0, num=3),\n",
    "    # \"max_features\": np.linspace(start=0.1, stop=1.0, num=3),\n",
    "}\n",
    "grid_search(HistGradientBoostingRegressor, param_grid)"
   ]
  },
  {
   "cell_type": "markdown",
   "metadata": {},
   "source": [
    "## PCA\n",
    "\n",
    "See if some approaches behave better on PCA-reduced data (down to 128D). Note that PCA should only be performed on the test set.\n"
   ]
  },
  {
   "cell_type": "code",
   "execution_count": 19,
   "metadata": {},
   "outputs": [],
   "source": [
    "from sklearn.decomposition import PCA\n",
    "\n",
    "pca = PCA(n_components=128)\n",
    "pca.fit(X_train)\n",
    "\n",
    "X_train = pca.transform(X_train)\n",
    "X_test = pca.transform(X_test)"
   ]
  },
  {
   "cell_type": "code",
   "execution_count": 20,
   "metadata": {},
   "outputs": [
    {
     "data": {
      "application/vnd.jupyter.widget-view+json": {
       "model_id": "3bb8c2495fb247eaa9cda3b29de34da4",
       "version_major": 2,
       "version_minor": 0
      },
      "text/plain": [
       "  0%|          | 0/126 [00:00<?, ?it/s]"
      ]
     },
     "metadata": {},
     "output_type": "display_data"
    },
    {
     "data": {
      "text/html": [
       "<div><style>\n",
       ".dataframe > thead > tr,\n",
       ".dataframe > tbody > tr {\n",
       "  text-align: right;\n",
       "  white-space: pre-wrap;\n",
       "}\n",
       "</style>\n",
       "<small>shape: (126, 5)</small><table border=\"1\" class=\"dataframe\"><thead><tr><th>model</th><th>params</th><th>fit_time_ms</th><th>train_mae</th><th>test_mae</th></tr><tr><td>str</td><td>str</td><td>f64</td><td>f64</td><td>f64</td></tr></thead><tbody><tr><td>&quot;KNeighborsRegressor&quot;</td><td>&quot;{&#x27;n_neighbors&#x27;: 6, &#x27;leaf_size&#x27;…</td><td>0.105858</td><td>0.868924</td><td>0.9975</td></tr><tr><td>&quot;KNeighborsRegressor&quot;</td><td>&quot;{&#x27;n_neighbors&#x27;: 6, &#x27;leaf_size&#x27;…</td><td>0.219107</td><td>0.868924</td><td>0.9975</td></tr><tr><td>&quot;KNeighborsRegressor&quot;</td><td>&quot;{&#x27;n_neighbors&#x27;: 6, &#x27;leaf_size&#x27;…</td><td>0.10705</td><td>0.868924</td><td>0.9975</td></tr><tr><td>&quot;KNeighborsRegressor&quot;</td><td>&quot;{&#x27;n_neighbors&#x27;: 6, &#x27;leaf_size&#x27;…</td><td>0.10705</td><td>0.868924</td><td>0.9975</td></tr><tr><td>&quot;KNeighborsRegressor&quot;</td><td>&quot;{&#x27;n_neighbors&#x27;: 6, &#x27;leaf_size&#x27;…</td><td>0.211954</td><td>0.868924</td><td>0.9975</td></tr><tr><td>&hellip;</td><td>&hellip;</td><td>&hellip;</td><td>&hellip;</td><td>&hellip;</td></tr><tr><td>&quot;KNeighborsRegressor&quot;</td><td>&quot;{&#x27;n_neighbors&#x27;: 2, &#x27;leaf_size&#x27;…</td><td>0.24581</td><td>5.0441e-8</td><td>1.142689</td></tr><tr><td>&quot;KNeighborsRegressor&quot;</td><td>&quot;{&#x27;n_neighbors&#x27;: 2, &#x27;leaf_size&#x27;…</td><td>0.128031</td><td>5.0441e-8</td><td>1.142689</td></tr><tr><td>&quot;KNeighborsRegressor&quot;</td><td>&quot;{&#x27;n_neighbors&#x27;: 2, &#x27;leaf_size&#x27;…</td><td>0.261068</td><td>5.0441e-8</td><td>1.142689</td></tr><tr><td>&quot;KNeighborsRegressor&quot;</td><td>&quot;{&#x27;n_neighbors&#x27;: 2, &#x27;leaf_size&#x27;…</td><td>0.114918</td><td>5.0441e-8</td><td>1.142689</td></tr><tr><td>&quot;KNeighborsRegressor&quot;</td><td>&quot;{&#x27;n_neighbors&#x27;: 2, &#x27;leaf_size&#x27;…</td><td>0.109196</td><td>5.0441e-8</td><td>1.142689</td></tr></tbody></table></div>"
      ],
      "text/plain": [
       "shape: (126, 5)\n",
       "┌─────────────────────┬─────────────────────────────────┬─────────────┬───────────┬──────────┐\n",
       "│ model               ┆ params                          ┆ fit_time_ms ┆ train_mae ┆ test_mae │\n",
       "│ ---                 ┆ ---                             ┆ ---         ┆ ---       ┆ ---      │\n",
       "│ str                 ┆ str                             ┆ f64         ┆ f64       ┆ f64      │\n",
       "╞═════════════════════╪═════════════════════════════════╪═════════════╪═══════════╪══════════╡\n",
       "│ KNeighborsRegressor ┆ {'n_neighbors': 6, 'leaf_size'… ┆ 0.105858    ┆ 0.868924  ┆ 0.9975   │\n",
       "│ KNeighborsRegressor ┆ {'n_neighbors': 6, 'leaf_size'… ┆ 0.219107    ┆ 0.868924  ┆ 0.9975   │\n",
       "│ KNeighborsRegressor ┆ {'n_neighbors': 6, 'leaf_size'… ┆ 0.10705     ┆ 0.868924  ┆ 0.9975   │\n",
       "│ KNeighborsRegressor ┆ {'n_neighbors': 6, 'leaf_size'… ┆ 0.10705     ┆ 0.868924  ┆ 0.9975   │\n",
       "│ KNeighborsRegressor ┆ {'n_neighbors': 6, 'leaf_size'… ┆ 0.211954    ┆ 0.868924  ┆ 0.9975   │\n",
       "│ …                   ┆ …                               ┆ …           ┆ …         ┆ …        │\n",
       "│ KNeighborsRegressor ┆ {'n_neighbors': 2, 'leaf_size'… ┆ 0.24581     ┆ 5.0441e-8 ┆ 1.142689 │\n",
       "│ KNeighborsRegressor ┆ {'n_neighbors': 2, 'leaf_size'… ┆ 0.128031    ┆ 5.0441e-8 ┆ 1.142689 │\n",
       "│ KNeighborsRegressor ┆ {'n_neighbors': 2, 'leaf_size'… ┆ 0.261068    ┆ 5.0441e-8 ┆ 1.142689 │\n",
       "│ KNeighborsRegressor ┆ {'n_neighbors': 2, 'leaf_size'… ┆ 0.114918    ┆ 5.0441e-8 ┆ 1.142689 │\n",
       "│ KNeighborsRegressor ┆ {'n_neighbors': 2, 'leaf_size'… ┆ 0.109196    ┆ 5.0441e-8 ┆ 1.142689 │\n",
       "└─────────────────────┴─────────────────────────────────┴─────────────┴───────────┴──────────┘"
      ]
     },
     "execution_count": 20,
     "metadata": {},
     "output_type": "execute_result"
    }
   ],
   "source": [
    "from sklearn.neighbors import KNeighborsRegressor\n",
    "\n",
    "param_grid = {\n",
    "    \"n_neighbors\": np.arange(start=2, stop=9),\n",
    "    \"leaf_size\": np.arange(start=5, stop=50, step=5),\n",
    "    \"weights\": np.array([\"uniform\", \"distance\"]),\n",
    "}\n",
    "grid_search(KNeighborsRegressor, param_grid)"
   ]
  },
  {
   "cell_type": "code",
   "execution_count": null,
   "metadata": {},
   "outputs": [],
   "source": []
  }
 ],
 "metadata": {
  "kernelspec": {
   "display_name": ".venv",
   "language": "python",
   "name": "python3"
  },
  "language_info": {
   "codemirror_mode": {
    "name": "ipython",
    "version": 3
   },
   "file_extension": ".py",
   "mimetype": "text/x-python",
   "name": "python",
   "nbconvert_exporter": "python",
   "pygments_lexer": "ipython3",
   "version": "3.12.6"
  }
 },
 "nbformat": 4,
 "nbformat_minor": 2
}
