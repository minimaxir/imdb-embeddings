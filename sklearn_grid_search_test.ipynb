{
 "cells": [
  {
   "cell_type": "markdown",
   "metadata": {},
   "source": [
    "Test implementation of grid search using scikit-learn algorithms before spending time testing it with cuML.\n",
    "\n",
    "Although scikit-learn has [GridSearchCV](https://scikit-learn.org/stable/modules/generated/sklearn.model_selection.GridSearchCV.html) for performing a grid search across various algorithms, it doesn't offer the control I need in terms of trial data output (e.g. what I want is outputting the results of each trial in a denormalized row)\n",
    "\n",
    "XGBoost note: https://stackoverflow.com/questions/63776921/you-are-running-32-bit-python-on-a-64-bit-osmac-and-xgboost-library-could-not\n"
   ]
  },
  {
   "cell_type": "code",
   "execution_count": 1,
   "metadata": {},
   "outputs": [],
   "source": [
    "import os\n",
    "\n",
    "# import xgboost\n",
    "import polars as pl\n",
    "import sklearn\n",
    "from sklearn.model_selection import train_test_split"
   ]
  },
  {
   "cell_type": "code",
   "execution_count": 2,
   "metadata": {},
   "outputs": [
    {
     "data": {
      "text/html": [
       "<div><style>\n",
       ".dataframe > thead > tr,\n",
       ".dataframe > tbody > tr {\n",
       "  text-align: right;\n",
       "  white-space: pre-wrap;\n",
       "}\n",
       "</style>\n",
       "<small>shape: (1_600, 6)</small><table border=\"1\" class=\"dataframe\"><thead><tr><th>tconst</th><th>startYear</th><th>averageRating</th><th>json</th><th>embeds</th><th>decade</th></tr><tr><td>str</td><td>i64</td><td>f64</td><td>str</td><td>array[f32, 768]</td><td>cat</td></tr></thead><tbody><tr><td>&quot;tt21937348&quot;</td><td>2022</td><td>6.8</td><td>&quot;{&quot;title&quot;:&quot;Le business du bonhe…</td><td>[-0.012958, 0.03246, … -0.037463]</td><td>&quot;(2020, inf]&quot;</td></tr><tr><td>&quot;tt0425976&quot;</td><td>2003</td><td>5.0</td><td>&quot;{&quot;title&quot;:&quot;Excuses!&quot;,&quot;genres&quot;:[…</td><td>[-0.009819, -0.025217, … -0.069853]</td><td>&quot;(2000, 2010]&quot;</td></tr><tr><td>&quot;tt1581629&quot;</td><td>2009</td><td>6.8</td><td>&quot;{&quot;title&quot;:&quot;The Secret&quot;,&quot;genres&quot;…</td><td>[-0.013838, 0.008304, … -0.051282]</td><td>&quot;(2000, 2010]&quot;</td></tr><tr><td>&quot;tt1707240&quot;</td><td>2010</td><td>6.2</td><td>&quot;{&quot;title&quot;:&quot;Lys&quot;,&quot;genres&quot;:[&quot;Dram…</td><td>[0.022719, 0.042718, … -0.061914]</td><td>&quot;(2000, 2010]&quot;</td></tr><tr><td>&quot;tt32378615&quot;</td><td>2024</td><td>7.7</td><td>&quot;{&quot;title&quot;:&quot;We Should Make Movie…</td><td>[0.041895, 0.016391, … -0.022129]</td><td>&quot;(2020, inf]&quot;</td></tr><tr><td>&hellip;</td><td>&hellip;</td><td>&hellip;</td><td>&hellip;</td><td>&hellip;</td><td>&hellip;</td></tr><tr><td>&quot;tt0463960&quot;</td><td>2013</td><td>3.3</td><td>&quot;{&quot;title&quot;:&quot;The Devil You Know&quot;,…</td><td>[0.01918, 0.006489, … -0.03445]</td><td>&quot;(2010, 2020]&quot;</td></tr><tr><td>&quot;tt5865148&quot;</td><td>2016</td><td>6.1</td><td>&quot;{&quot;title&quot;:&quot;Brett Gelman&#x27;s Dinne…</td><td>[0.015193, 0.030122, … -0.061412]</td><td>&quot;(2010, 2020]&quot;</td></tr><tr><td>&quot;tt0185883&quot;</td><td>1949</td><td>6.7</td><td>&quot;{&quot;title&quot;:&quot;Aoi sanmyaku&quot;,&quot;genre…</td><td>[-0.020236, 0.034688, … -0.058068]</td><td>&quot;(1940, 1950]&quot;</td></tr><tr><td>&quot;tt27436518&quot;</td><td>2022</td><td>4.8</td><td>&quot;{&quot;title&quot;:&quot;The Legacy&quot;,&quot;genres&quot;…</td><td>[-0.019275, 0.007522, … -0.029518]</td><td>&quot;(2020, inf]&quot;</td></tr><tr><td>&quot;tt8347632&quot;</td><td>1985</td><td>6.0</td><td>&quot;{&quot;title&quot;:&quot;Kto-to dolzhen...&quot;,&quot;…</td><td>[0.03655, -0.003448, … -0.086031]</td><td>&quot;(1980, 1990]&quot;</td></tr></tbody></table></div>"
      ],
      "text/plain": [
       "shape: (1_600, 6)\n",
       "┌────────────┬───────────┬───────────────┬────────────────────────┬─────────────────┬──────────────┐\n",
       "│ tconst     ┆ startYear ┆ averageRating ┆ json                   ┆ embeds          ┆ decade       │\n",
       "│ ---        ┆ ---       ┆ ---           ┆ ---                    ┆ ---             ┆ ---          │\n",
       "│ str        ┆ i64       ┆ f64           ┆ str                    ┆ array[f32, 768] ┆ cat          │\n",
       "╞════════════╪═══════════╪═══════════════╪════════════════════════╪═════════════════╪══════════════╡\n",
       "│ tt21937348 ┆ 2022      ┆ 6.8           ┆ {\"title\":\"Le business  ┆ [-0.012958,     ┆ (2020, inf]  │\n",
       "│            ┆           ┆               ┆ du bonhe…              ┆ 0.03246, …      ┆              │\n",
       "│            ┆           ┆               ┆                        ┆ -0.0374…        ┆              │\n",
       "│ tt0425976  ┆ 2003      ┆ 5.0           ┆ {\"title\":\"Excuses!\",\"g ┆ [-0.009819,     ┆ (2000, 2010] │\n",
       "│            ┆           ┆               ┆ enres\":[…              ┆ -0.025217, …    ┆              │\n",
       "│            ┆           ┆               ┆                        ┆ -0.06…          ┆              │\n",
       "│ tt1581629  ┆ 2009      ┆ 6.8           ┆ {\"title\":\"The          ┆ [-0.013838,     ┆ (2000, 2010] │\n",
       "│            ┆           ┆               ┆ Secret\",\"genres\"…      ┆ 0.008304, …     ┆              │\n",
       "│            ┆           ┆               ┆                        ┆ -0.051…         ┆              │\n",
       "│ tt1707240  ┆ 2010      ┆ 6.2           ┆ {\"title\":\"Lys\",\"genres ┆ [0.022719,      ┆ (2000, 2010] │\n",
       "│            ┆           ┆               ┆ \":[\"Dram…              ┆ 0.042718, …     ┆              │\n",
       "│            ┆           ┆               ┆                        ┆ -0.0619…        ┆              │\n",
       "│ tt32378615 ┆ 2024      ┆ 7.7           ┆ {\"title\":\"We Should    ┆ [0.041895,      ┆ (2020, inf]  │\n",
       "│            ┆           ┆               ┆ Make Movie…            ┆ 0.016391, …     ┆              │\n",
       "│            ┆           ┆               ┆                        ┆ -0.0221…        ┆              │\n",
       "│ …          ┆ …         ┆ …             ┆ …                      ┆ …               ┆ …            │\n",
       "│ tt0463960  ┆ 2013      ┆ 3.3           ┆ {\"title\":\"The Devil    ┆ [0.01918,       ┆ (2010, 2020] │\n",
       "│            ┆           ┆               ┆ You Know\",…            ┆ 0.006489, …     ┆              │\n",
       "│            ┆           ┆               ┆                        ┆ -0.03445…       ┆              │\n",
       "│ tt5865148  ┆ 2016      ┆ 6.1           ┆ {\"title\":\"Brett        ┆ [0.015193,      ┆ (2010, 2020] │\n",
       "│            ┆           ┆               ┆ Gelman's Dinne…        ┆ 0.030122, …     ┆              │\n",
       "│            ┆           ┆               ┆                        ┆ -0.0614…        ┆              │\n",
       "│ tt0185883  ┆ 1949      ┆ 6.7           ┆ {\"title\":\"Aoi          ┆ [-0.020236,     ┆ (1940, 1950] │\n",
       "│            ┆           ┆               ┆ sanmyaku\",\"genre…      ┆ 0.034688, …     ┆              │\n",
       "│            ┆           ┆               ┆                        ┆ -0.058…         ┆              │\n",
       "│ tt27436518 ┆ 2022      ┆ 4.8           ┆ {\"title\":\"The          ┆ [-0.019275,     ┆ (2020, inf]  │\n",
       "│            ┆           ┆               ┆ Legacy\",\"genres\"…      ┆ 0.007522, …     ┆              │\n",
       "│            ┆           ┆               ┆                        ┆ -0.029…         ┆              │\n",
       "│ tt8347632  ┆ 1985      ┆ 6.0           ┆ {\"title\":\"Kto-to       ┆ [0.03655,       ┆ (1980, 1990] │\n",
       "│            ┆           ┆               ┆ dolzhen...\",\"…         ┆ -0.003448, …    ┆              │\n",
       "│            ┆           ┆               ┆                        ┆ -0.0860…        ┆              │\n",
       "└────────────┴───────────┴───────────────┴────────────────────────┴─────────────────┴──────────────┘"
      ]
     },
     "execution_count": 2,
     "metadata": {},
     "output_type": "execute_result"
    }
   ],
   "source": [
    "data_dir = \"/Users/maxwoolf/Downloads\"\n",
    "\n",
    "df = pl.read_parquet(os.path.join(data_dir, \"movie_embeds.parquet\"))\n",
    "df = df.with_columns(decade=pl.col(\"startYear\").cut(list(range(1900, 2030, 10))))\n",
    "df"
   ]
  },
  {
   "cell_type": "markdown",
   "metadata": {},
   "source": [
    "Extract out the components as numpy arrays for compatability.\n"
   ]
  },
  {
   "cell_type": "code",
   "execution_count": 3,
   "metadata": {},
   "outputs": [
    {
     "name": "stdout",
     "output_type": "stream",
     "text": [
      "(1600, 768)\n"
     ]
    }
   ],
   "source": [
    "embeds = df[\"embeds\"].to_numpy()\n",
    "print(embeds.shape)\n",
    "\n",
    "release_years = df[\"startYear\"].to_numpy()\n",
    "ratings = df[\"averageRating\"].to_numpy()\n",
    "decade = df[\"decade\"].to_numpy()"
   ]
  },
  {
   "cell_type": "markdown",
   "metadata": {},
   "source": [
    "Do a train-test split. Normally we stratify but sklearn will throw an error if a group is too small.\n"
   ]
  },
  {
   "cell_type": "code",
   "execution_count": 4,
   "metadata": {},
   "outputs": [
    {
     "data": {
      "text/plain": [
       "(1440, 768)"
      ]
     },
     "execution_count": 4,
     "metadata": {},
     "output_type": "execute_result"
    }
   ],
   "source": [
    "X_train, X_test, y_train, y_test = train_test_split(\n",
    "    embeds, ratings, test_size=0.1, random_state=42, stratify=decade\n",
    ")\n",
    "\n",
    "X_train.shape"
   ]
  },
  {
   "cell_type": "markdown",
   "metadata": {},
   "source": [
    "Test a simple OLS.\n"
   ]
  },
  {
   "cell_type": "code",
   "execution_count": 5,
   "metadata": {},
   "outputs": [
    {
     "data": {
      "text/plain": [
       "np.float64(1.3033771419525144)"
      ]
     },
     "execution_count": 5,
     "metadata": {},
     "output_type": "execute_result"
    }
   ],
   "source": [
    "from sklearn.linear_model import LinearRegression\n",
    "\n",
    "model = LinearRegression()\n",
    "model.fit(X_train, y_train)\n",
    "\n",
    "y_pred = model.predict(X_test)\n",
    "mae = sklearn.metrics.mean_absolute_error(y_test, y_pred)\n",
    "mae"
   ]
  },
  {
   "cell_type": "markdown",
   "metadata": {},
   "source": [
    "## Start Grid Search\n",
    "\n",
    "- Create a parameter grid\n",
    "- Run sequentually since this will evenatually be on a single GPU.\n",
    "- Write the results ([time elapsed](https://stackoverflow.com/a/63232040), train MAE, test MAE) to a dict along with the metadata.\n",
    "- Load all the data into polars and save as parquet.\n",
    "\n",
    "Test with a Support Vector Machine since that has tweakable parameters.\n"
   ]
  },
  {
   "cell_type": "code",
   "execution_count": 6,
   "metadata": {},
   "outputs": [
    {
     "name": "stderr",
     "output_type": "stream",
     "text": [
      "/Users/maxwoolf/Library/Mobile Documents/com~apple~CloudDocs/PythonProjects/imdb-embeddings/.venv/lib/python3.13/site-packages/tqdm/auto.py:21: TqdmWarning: IProgress not found. Please update jupyter and ipywidgets. See https://ipywidgets.readthedocs.io/en/stable/user_install.html\n",
      "  from .autonotebook import tqdm as notebook_tqdm\n"
     ]
    }
   ],
   "source": [
    "import itertools\n",
    "import time\n",
    "\n",
    "import numpy as np\n",
    "from sklearn.svm import SVR\n",
    "from tqdm.auto import tqdm"
   ]
  },
  {
   "cell_type": "markdown",
   "metadata": {},
   "source": [
    "Build the grid to get all combinations of parameters. Normally numpy shenanigans would be used here for fast speed but that causes data type issues, e.g. several parameters must be `int`s but numpy shenanigans will force `float`s.\n"
   ]
  },
  {
   "cell_type": "code",
   "execution_count": 7,
   "metadata": {},
   "outputs": [],
   "source": [
    "param_grid = {\n",
    "    \"C\": np.linspace(start=0.8, stop=1.2, num=5),\n",
    "    \"epsilon\": np.linspace(start=0.8, stop=1.2, num=5),\n",
    "}"
   ]
  },
  {
   "cell_type": "code",
   "execution_count": 8,
   "metadata": {},
   "outputs": [
    {
     "data": {
      "text/plain": [
       "[[0.8, 0.9, 1.0, 1.1, 1.2], [0.8, 0.9, 1.0, 1.1, 1.2]]"
      ]
     },
     "execution_count": 8,
     "metadata": {},
     "output_type": "execute_result"
    }
   ],
   "source": [
    "[x.tolist() for x in param_grid.values()]"
   ]
  },
  {
   "cell_type": "code",
   "execution_count": 9,
   "metadata": {},
   "outputs": [
    {
     "data": {
      "text/plain": [
       "[(0.8, 0.8),\n",
       " (0.8, 0.9),\n",
       " (0.8, 1.0),\n",
       " (0.8, 1.1),\n",
       " (0.8, 1.2),\n",
       " (0.9, 0.8),\n",
       " (0.9, 0.9),\n",
       " (0.9, 1.0),\n",
       " (0.9, 1.1),\n",
       " (0.9, 1.2),\n",
       " (1.0, 0.8),\n",
       " (1.0, 0.9),\n",
       " (1.0, 1.0),\n",
       " (1.0, 1.1),\n",
       " (1.0, 1.2),\n",
       " (1.1, 0.8),\n",
       " (1.1, 0.9),\n",
       " (1.1, 1.0),\n",
       " (1.1, 1.1),\n",
       " (1.1, 1.2),\n",
       " (1.2, 0.8),\n",
       " (1.2, 0.9),\n",
       " (1.2, 1.0),\n",
       " (1.2, 1.1),\n",
       " (1.2, 1.2)]"
      ]
     },
     "execution_count": 9,
     "metadata": {},
     "output_type": "execute_result"
    }
   ],
   "source": [
    "param_values = [x.tolist() for x in param_grid.values()]\n",
    "\n",
    "combos = list(itertools.product(*param_values))\n",
    "combos"
   ]
  },
  {
   "cell_type": "markdown",
   "metadata": {},
   "source": [
    "[zip shenanigans](https://stackoverflow.com/a/33737067) to map back to a list of dicts.\n"
   ]
  },
  {
   "cell_type": "code",
   "execution_count": 10,
   "metadata": {},
   "outputs": [
    {
     "data": {
      "text/plain": [
       "[{'C': 0.8, 'epsilon': 0.8},\n",
       " {'C': 0.8, 'epsilon': 0.9},\n",
       " {'C': 0.8, 'epsilon': 1.0},\n",
       " {'C': 0.8, 'epsilon': 1.1},\n",
       " {'C': 0.8, 'epsilon': 1.2},\n",
       " {'C': 0.9, 'epsilon': 0.8},\n",
       " {'C': 0.9, 'epsilon': 0.9},\n",
       " {'C': 0.9, 'epsilon': 1.0},\n",
       " {'C': 0.9, 'epsilon': 1.1},\n",
       " {'C': 0.9, 'epsilon': 1.2},\n",
       " {'C': 1.0, 'epsilon': 0.8},\n",
       " {'C': 1.0, 'epsilon': 0.9},\n",
       " {'C': 1.0, 'epsilon': 1.0},\n",
       " {'C': 1.0, 'epsilon': 1.1},\n",
       " {'C': 1.0, 'epsilon': 1.2},\n",
       " {'C': 1.1, 'epsilon': 0.8},\n",
       " {'C': 1.1, 'epsilon': 0.9},\n",
       " {'C': 1.1, 'epsilon': 1.0},\n",
       " {'C': 1.1, 'epsilon': 1.1},\n",
       " {'C': 1.1, 'epsilon': 1.2},\n",
       " {'C': 1.2, 'epsilon': 0.8},\n",
       " {'C': 1.2, 'epsilon': 0.9},\n",
       " {'C': 1.2, 'epsilon': 1.0},\n",
       " {'C': 1.2, 'epsilon': 1.1},\n",
       " {'C': 1.2, 'epsilon': 1.2}]"
      ]
     },
     "execution_count": 10,
     "metadata": {},
     "output_type": "execute_result"
    }
   ],
   "source": [
    "param_dicts = [\n",
    "    dict(zip(list(param_grid.keys()), combos[i])) for i in range(len(combos))\n",
    "]\n",
    "param_dicts"
   ]
  },
  {
   "cell_type": "markdown",
   "metadata": {},
   "source": [
    "Functionalize.\n"
   ]
  },
  {
   "cell_type": "code",
   "execution_count": 11,
   "metadata": {},
   "outputs": [
    {
     "data": {
      "text/plain": [
       "[{'C': 0.8, 'epsilon': 0.8},\n",
       " {'C': 0.8, 'epsilon': 0.9},\n",
       " {'C': 0.8, 'epsilon': 1.0},\n",
       " {'C': 0.8, 'epsilon': 1.1},\n",
       " {'C': 0.8, 'epsilon': 1.2}]"
      ]
     },
     "execution_count": 11,
     "metadata": {},
     "output_type": "execute_result"
    }
   ],
   "source": [
    "def build_grid_dict(param_grid):\n",
    "    param_values = [x.tolist() for x in param_grid.values()]\n",
    "\n",
    "    combos = list(itertools.product(*param_values))\n",
    "    param_dicts = [\n",
    "        dict(zip(list(param_grid.keys()), combos[i])) for i in range(len(combos))\n",
    "    ]\n",
    "    return param_dicts\n",
    "\n",
    "\n",
    "param_grid = {\n",
    "    \"C\": np.linspace(start=0.8, stop=1.2, num=5),\n",
    "    \"epsilon\": np.linspace(start=0.8, stop=1.2, num=5),\n",
    "}\n",
    "\n",
    "build_grid_dict(param_grid)[:5]"
   ]
  },
  {
   "cell_type": "markdown",
   "metadata": {},
   "source": [
    "Do the grid search!\n"
   ]
  },
  {
   "cell_type": "code",
   "execution_count": 12,
   "metadata": {},
   "outputs": [],
   "source": [
    "# to guard against floating point precision issues when printing params\n",
    "def round_param_floats(params):\n",
    "    return {k: round(v, 4) if isinstance(v, float) else v for k, v in params.items()}\n",
    "\n",
    "\n",
    "def grid_search(model_class, param_grid, model_name=None):\n",
    "    param_dicts = build_grid_dict(param_grid)\n",
    "    result_dicts = []\n",
    "\n",
    "    for params in tqdm(param_dicts):\n",
    "        model = model_class(**params)  # fresh model instantiation each run\n",
    "\n",
    "        fit_start = time.time()\n",
    "        model.fit(X_train, y_train)\n",
    "        fit_end = time.time()\n",
    "\n",
    "        y_pred = model.predict(X_train)\n",
    "        train_mae = sklearn.metrics.mean_absolute_error(y_train, y_pred)\n",
    "\n",
    "        y_pred = model.predict(X_test)\n",
    "        test_mae = sklearn.metrics.mean_absolute_error(y_test, y_pred)\n",
    "\n",
    "        result_dicts.append(\n",
    "            {\n",
    "                \"model\": model_name if model_name else model_class.__name__,\n",
    "                \"params\": str(round_param_floats(params)),\n",
    "                \"fit_time_ms\": (fit_end - fit_start) * 1000,\n",
    "                \"train_mae\": train_mae,\n",
    "                \"test_mae\": test_mae,\n",
    "            }\n",
    "        )\n",
    "\n",
    "    return pl.from_dicts(result_dicts).sort(\"test_mae\")"
   ]
  },
  {
   "cell_type": "code",
   "execution_count": 13,
   "metadata": {},
   "outputs": [
    {
     "name": "stderr",
     "output_type": "stream",
     "text": [
      "100%|██████████| 25/25 [00:07<00:00,  3.44it/s]\n"
     ]
    },
    {
     "data": {
      "text/html": [
       "<div><style>\n",
       ".dataframe > thead > tr,\n",
       ".dataframe > tbody > tr {\n",
       "  text-align: right;\n",
       "  white-space: pre-wrap;\n",
       "}\n",
       "</style>\n",
       "<small>shape: (25, 5)</small><table border=\"1\" class=\"dataframe\"><thead><tr><th>model</th><th>params</th><th>fit_time_ms</th><th>train_mae</th><th>test_mae</th></tr><tr><td>str</td><td>str</td><td>f64</td><td>f64</td><td>f64</td></tr></thead><tbody><tr><td>&quot;SVR&quot;</td><td>&quot;{&#x27;C&#x27;: 0.8, &#x27;epsilon&#x27;: 0.9}&quot;</td><td>102.361202</td><td>0.83669</td><td>1.009752</td></tr><tr><td>&quot;SVR&quot;</td><td>&quot;{&#x27;C&#x27;: 0.9, &#x27;epsilon&#x27;: 0.9}&quot;</td><td>102.497101</td><td>0.829269</td><td>1.012797</td></tr><tr><td>&quot;SVR&quot;</td><td>&quot;{&#x27;C&#x27;: 0.8, &#x27;epsilon&#x27;: 1.0}&quot;</td><td>88.521004</td><td>0.848227</td><td>1.013904</td></tr><tr><td>&quot;SVR&quot;</td><td>&quot;{&#x27;C&#x27;: 0.8, &#x27;epsilon&#x27;: 0.8}&quot;</td><td>146.610022</td><td>0.824501</td><td>1.014047</td></tr><tr><td>&quot;SVR&quot;</td><td>&quot;{&#x27;C&#x27;: 0.9, &#x27;epsilon&#x27;: 0.8}&quot;</td><td>114.247084</td><td>0.816272</td><td>1.015031</td></tr><tr><td>&hellip;</td><td>&hellip;</td><td>&hellip;</td><td>&hellip;</td><td>&hellip;</td></tr><tr><td>&quot;SVR&quot;</td><td>&quot;{&#x27;C&#x27;: 1.0, &#x27;epsilon&#x27;: 1.2}&quot;</td><td>74.265957</td><td>0.85727</td><td>1.026985</td></tr><tr><td>&quot;SVR&quot;</td><td>&quot;{&#x27;C&#x27;: 1.2, &#x27;epsilon&#x27;: 1.0}&quot;</td><td>90.191841</td><td>0.824332</td><td>1.027501</td></tr><tr><td>&quot;SVR&quot;</td><td>&quot;{&#x27;C&#x27;: 1.2, &#x27;epsilon&#x27;: 1.1}&quot;</td><td>79.972982</td><td>0.837239</td><td>1.029315</td></tr><tr><td>&quot;SVR&quot;</td><td>&quot;{&#x27;C&#x27;: 1.1, &#x27;epsilon&#x27;: 1.2}&quot;</td><td>69.023848</td><td>0.852295</td><td>1.02977</td></tr><tr><td>&quot;SVR&quot;</td><td>&quot;{&#x27;C&#x27;: 1.2, &#x27;epsilon&#x27;: 1.2}&quot;</td><td>69.653988</td><td>0.848069</td><td>1.032261</td></tr></tbody></table></div>"
      ],
      "text/plain": [
       "shape: (25, 5)\n",
       "┌───────┬────────────────────────────┬─────────────┬───────────┬──────────┐\n",
       "│ model ┆ params                     ┆ fit_time_ms ┆ train_mae ┆ test_mae │\n",
       "│ ---   ┆ ---                        ┆ ---         ┆ ---       ┆ ---      │\n",
       "│ str   ┆ str                        ┆ f64         ┆ f64       ┆ f64      │\n",
       "╞═══════╪════════════════════════════╪═════════════╪═══════════╪══════════╡\n",
       "│ SVR   ┆ {'C': 0.8, 'epsilon': 0.9} ┆ 102.361202  ┆ 0.83669   ┆ 1.009752 │\n",
       "│ SVR   ┆ {'C': 0.9, 'epsilon': 0.9} ┆ 102.497101  ┆ 0.829269  ┆ 1.012797 │\n",
       "│ SVR   ┆ {'C': 0.8, 'epsilon': 1.0} ┆ 88.521004   ┆ 0.848227  ┆ 1.013904 │\n",
       "│ SVR   ┆ {'C': 0.8, 'epsilon': 0.8} ┆ 146.610022  ┆ 0.824501  ┆ 1.014047 │\n",
       "│ SVR   ┆ {'C': 0.9, 'epsilon': 0.8} ┆ 114.247084  ┆ 0.816272  ┆ 1.015031 │\n",
       "│ …     ┆ …                          ┆ …           ┆ …         ┆ …        │\n",
       "│ SVR   ┆ {'C': 1.0, 'epsilon': 1.2} ┆ 74.265957   ┆ 0.85727   ┆ 1.026985 │\n",
       "│ SVR   ┆ {'C': 1.2, 'epsilon': 1.0} ┆ 90.191841   ┆ 0.824332  ┆ 1.027501 │\n",
       "│ SVR   ┆ {'C': 1.2, 'epsilon': 1.1} ┆ 79.972982   ┆ 0.837239  ┆ 1.029315 │\n",
       "│ SVR   ┆ {'C': 1.1, 'epsilon': 1.2} ┆ 69.023848   ┆ 0.852295  ┆ 1.02977  │\n",
       "│ SVR   ┆ {'C': 1.2, 'epsilon': 1.2} ┆ 69.653988   ┆ 0.848069  ┆ 1.032261 │\n",
       "└───────┴────────────────────────────┴─────────────┴───────────┴──────────┘"
      ]
     },
     "execution_count": 13,
     "metadata": {},
     "output_type": "execute_result"
    }
   ],
   "source": [
    "param_grid = {\n",
    "    \"C\": np.linspace(start=0.8, stop=1.2, num=5),\n",
    "    \"epsilon\": np.linspace(start=0.8, stop=1.2, num=5),\n",
    "}\n",
    "\n",
    "grid_search(SVR, param_grid)"
   ]
  },
  {
   "cell_type": "markdown",
   "metadata": {},
   "source": [
    "Try a few more linear models.\n"
   ]
  },
  {
   "cell_type": "code",
   "execution_count": 14,
   "metadata": {},
   "outputs": [
    {
     "name": "stderr",
     "output_type": "stream",
     "text": [
      "100%|██████████| 20/20 [00:00<00:00, 135.19it/s]\n"
     ]
    },
    {
     "data": {
      "text/html": [
       "<div><style>\n",
       ".dataframe > thead > tr,\n",
       ".dataframe > tbody > tr {\n",
       "  text-align: right;\n",
       "  white-space: pre-wrap;\n",
       "}\n",
       "</style>\n",
       "<small>shape: (20, 5)</small><table border=\"1\" class=\"dataframe\"><thead><tr><th>model</th><th>params</th><th>fit_time_ms</th><th>train_mae</th><th>test_mae</th></tr><tr><td>str</td><td>str</td><td>f64</td><td>f64</td><td>f64</td></tr></thead><tbody><tr><td>&quot;Ridge&quot;</td><td>&quot;{&#x27;alpha&#x27;: 2.0}&quot;</td><td>4.74906</td><td>0.865861</td><td>1.00979</td></tr><tr><td>&quot;Ridge&quot;</td><td>&quot;{&#x27;alpha&#x27;: 1.9211}&quot;</td><td>5.037069</td><td>0.864532</td><td>1.010208</td></tr><tr><td>&quot;Ridge&quot;</td><td>&quot;{&#x27;alpha&#x27;: 1.8421}&quot;</td><td>5.296946</td><td>0.86314</td><td>1.010651</td></tr><tr><td>&quot;Ridge&quot;</td><td>&quot;{&#x27;alpha&#x27;: 1.7632}&quot;</td><td>4.601717</td><td>0.861682</td><td>1.011122</td></tr><tr><td>&quot;Ridge&quot;</td><td>&quot;{&#x27;alpha&#x27;: 1.6842}&quot;</td><td>4.96006</td><td>0.860174</td><td>1.011621</td></tr><tr><td>&hellip;</td><td>&hellip;</td><td>&hellip;</td><td>&hellip;</td><td>&hellip;</td></tr><tr><td>&quot;Ridge&quot;</td><td>&quot;{&#x27;alpha&#x27;: 0.8158}&quot;</td><td>6.44803</td><td>0.838698</td><td>1.020519</td></tr><tr><td>&quot;Ridge&quot;</td><td>&quot;{&#x27;alpha&#x27;: 0.7368}&quot;</td><td>8.121014</td><td>0.835872</td><td>1.021753</td></tr><tr><td>&quot;Ridge&quot;</td><td>&quot;{&#x27;alpha&#x27;: 0.6579}&quot;</td><td>8.197069</td><td>0.832759</td><td>1.023096</td></tr><tr><td>&quot;Ridge&quot;</td><td>&quot;{&#x27;alpha&#x27;: 0.5789}&quot;</td><td>8.401155</td><td>0.829309</td><td>1.024607</td></tr><tr><td>&quot;Ridge&quot;</td><td>&quot;{&#x27;alpha&#x27;: 0.5}&quot;</td><td>15.317202</td><td>0.825664</td><td>1.026486</td></tr></tbody></table></div>"
      ],
      "text/plain": [
       "shape: (20, 5)\n",
       "┌───────┬───────────────────┬─────────────┬───────────┬──────────┐\n",
       "│ model ┆ params            ┆ fit_time_ms ┆ train_mae ┆ test_mae │\n",
       "│ ---   ┆ ---               ┆ ---         ┆ ---       ┆ ---      │\n",
       "│ str   ┆ str               ┆ f64         ┆ f64       ┆ f64      │\n",
       "╞═══════╪═══════════════════╪═════════════╪═══════════╪══════════╡\n",
       "│ Ridge ┆ {'alpha': 2.0}    ┆ 4.74906     ┆ 0.865861  ┆ 1.00979  │\n",
       "│ Ridge ┆ {'alpha': 1.9211} ┆ 5.037069    ┆ 0.864532  ┆ 1.010208 │\n",
       "│ Ridge ┆ {'alpha': 1.8421} ┆ 5.296946    ┆ 0.86314   ┆ 1.010651 │\n",
       "│ Ridge ┆ {'alpha': 1.7632} ┆ 4.601717    ┆ 0.861682  ┆ 1.011122 │\n",
       "│ Ridge ┆ {'alpha': 1.6842} ┆ 4.96006     ┆ 0.860174  ┆ 1.011621 │\n",
       "│ …     ┆ …                 ┆ …           ┆ …         ┆ …        │\n",
       "│ Ridge ┆ {'alpha': 0.8158} ┆ 6.44803     ┆ 0.838698  ┆ 1.020519 │\n",
       "│ Ridge ┆ {'alpha': 0.7368} ┆ 8.121014    ┆ 0.835872  ┆ 1.021753 │\n",
       "│ Ridge ┆ {'alpha': 0.6579} ┆ 8.197069    ┆ 0.832759  ┆ 1.023096 │\n",
       "│ Ridge ┆ {'alpha': 0.5789} ┆ 8.401155    ┆ 0.829309  ┆ 1.024607 │\n",
       "│ Ridge ┆ {'alpha': 0.5}    ┆ 15.317202   ┆ 0.825664  ┆ 1.026486 │\n",
       "└───────┴───────────────────┴─────────────┴───────────┴──────────┘"
      ]
     },
     "execution_count": 14,
     "metadata": {},
     "output_type": "execute_result"
    }
   ],
   "source": [
    "from sklearn.linear_model import Ridge\n",
    "\n",
    "param_grid = {\n",
    "    \"alpha\": np.linspace(start=0.5, stop=2.0, num=20),\n",
    "}\n",
    "\n",
    "grid_search(Ridge, param_grid)"
   ]
  },
  {
   "cell_type": "code",
   "execution_count": 15,
   "metadata": {},
   "outputs": [
    {
     "name": "stderr",
     "output_type": "stream",
     "text": [
      "100%|██████████| 81/81 [00:04<00:00, 17.15it/s]\n"
     ]
    },
    {
     "data": {
      "text/html": [
       "<div><style>\n",
       ".dataframe > thead > tr,\n",
       ".dataframe > tbody > tr {\n",
       "  text-align: right;\n",
       "  white-space: pre-wrap;\n",
       "}\n",
       "</style>\n",
       "<small>shape: (81, 5)</small><table border=\"1\" class=\"dataframe\"><thead><tr><th>model</th><th>params</th><th>fit_time_ms</th><th>train_mae</th><th>test_mae</th></tr><tr><td>str</td><td>str</td><td>f64</td><td>f64</td><td>f64</td></tr></thead><tbody><tr><td>&quot;BayesianRidge&quot;</td><td>&quot;{&#x27;alpha_1&#x27;: 0.0001, &#x27;alpha_2&#x27;:…</td><td>56.353092</td><td>0.864185</td><td>1.010318</td></tr><tr><td>&quot;BayesianRidge&quot;</td><td>&quot;{&#x27;alpha_1&#x27;: 0.0001, &#x27;alpha_2&#x27;:…</td><td>55.272341</td><td>0.864185</td><td>1.010318</td></tr><tr><td>&quot;BayesianRidge&quot;</td><td>&quot;{&#x27;alpha_1&#x27;: 0.0, &#x27;alpha_2&#x27;: 0.…</td><td>57.148218</td><td>0.864185</td><td>1.010318</td></tr><tr><td>&quot;BayesianRidge&quot;</td><td>&quot;{&#x27;alpha_1&#x27;: 0.0, &#x27;alpha_2&#x27;: 0.…</td><td>55.795908</td><td>0.864185</td><td>1.010318</td></tr><tr><td>&quot;BayesianRidge&quot;</td><td>&quot;{&#x27;alpha_1&#x27;: 0.0001, &#x27;alpha_2&#x27;:…</td><td>57.08909</td><td>0.864185</td><td>1.010318</td></tr><tr><td>&hellip;</td><td>&hellip;</td><td>&hellip;</td><td>&hellip;</td><td>&hellip;</td></tr><tr><td>&quot;BayesianRidge&quot;</td><td>&quot;{&#x27;alpha_1&#x27;: 0.0, &#x27;alpha_2&#x27;: 0.…</td><td>55.951118</td><td>0.864185</td><td>1.010318</td></tr><tr><td>&quot;BayesianRidge&quot;</td><td>&quot;{&#x27;alpha_1&#x27;: 0.0, &#x27;alpha_2&#x27;: 0.…</td><td>58.246851</td><td>0.864185</td><td>1.010318</td></tr><tr><td>&quot;BayesianRidge&quot;</td><td>&quot;{&#x27;alpha_1&#x27;: 0.0, &#x27;alpha_2&#x27;: 0.…</td><td>56.670189</td><td>0.864185</td><td>1.010318</td></tr><tr><td>&quot;BayesianRidge&quot;</td><td>&quot;{&#x27;alpha_1&#x27;: 0.0001, &#x27;alpha_2&#x27;:…</td><td>55.45783</td><td>0.864185</td><td>1.010318</td></tr><tr><td>&quot;BayesianRidge&quot;</td><td>&quot;{&#x27;alpha_1&#x27;: 0.0001, &#x27;alpha_2&#x27;:…</td><td>56.913137</td><td>0.864185</td><td>1.010318</td></tr></tbody></table></div>"
      ],
      "text/plain": [
       "shape: (81, 5)\n",
       "┌───────────────┬─────────────────────────────────┬─────────────┬───────────┬──────────┐\n",
       "│ model         ┆ params                          ┆ fit_time_ms ┆ train_mae ┆ test_mae │\n",
       "│ ---           ┆ ---                             ┆ ---         ┆ ---       ┆ ---      │\n",
       "│ str           ┆ str                             ┆ f64         ┆ f64       ┆ f64      │\n",
       "╞═══════════════╪═════════════════════════════════╪═════════════╪═══════════╪══════════╡\n",
       "│ BayesianRidge ┆ {'alpha_1': 0.0001, 'alpha_2':… ┆ 56.353092   ┆ 0.864185  ┆ 1.010318 │\n",
       "│ BayesianRidge ┆ {'alpha_1': 0.0001, 'alpha_2':… ┆ 55.272341   ┆ 0.864185  ┆ 1.010318 │\n",
       "│ BayesianRidge ┆ {'alpha_1': 0.0, 'alpha_2': 0.… ┆ 57.148218   ┆ 0.864185  ┆ 1.010318 │\n",
       "│ BayesianRidge ┆ {'alpha_1': 0.0, 'alpha_2': 0.… ┆ 55.795908   ┆ 0.864185  ┆ 1.010318 │\n",
       "│ BayesianRidge ┆ {'alpha_1': 0.0001, 'alpha_2':… ┆ 57.08909    ┆ 0.864185  ┆ 1.010318 │\n",
       "│ …             ┆ …                               ┆ …           ┆ …         ┆ …        │\n",
       "│ BayesianRidge ┆ {'alpha_1': 0.0, 'alpha_2': 0.… ┆ 55.951118   ┆ 0.864185  ┆ 1.010318 │\n",
       "│ BayesianRidge ┆ {'alpha_1': 0.0, 'alpha_2': 0.… ┆ 58.246851   ┆ 0.864185  ┆ 1.010318 │\n",
       "│ BayesianRidge ┆ {'alpha_1': 0.0, 'alpha_2': 0.… ┆ 56.670189   ┆ 0.864185  ┆ 1.010318 │\n",
       "│ BayesianRidge ┆ {'alpha_1': 0.0001, 'alpha_2':… ┆ 55.45783    ┆ 0.864185  ┆ 1.010318 │\n",
       "│ BayesianRidge ┆ {'alpha_1': 0.0001, 'alpha_2':… ┆ 56.913137   ┆ 0.864185  ┆ 1.010318 │\n",
       "└───────────────┴─────────────────────────────────┴─────────────┴───────────┴──────────┘"
      ]
     },
     "execution_count": 15,
     "metadata": {},
     "output_type": "execute_result"
    }
   ],
   "source": [
    "from sklearn.linear_model import BayesianRidge\n",
    "\n",
    "param_grid = {\n",
    "    \"alpha_1\": np.array([1e-6, 1e-5, 1e-4]),\n",
    "    \"alpha_2\": np.array([1e-6, 1e-5, 1e-4]),\n",
    "    \"lambda_1\": np.array([1e-6, 1e-5, 1e-4]),\n",
    "    \"lambda_2\": np.array([1e-6, 1e-5, 1e-4]),\n",
    "}\n",
    "\n",
    "grid_search(BayesianRidge, param_grid)"
   ]
  },
  {
   "cell_type": "code",
   "execution_count": 16,
   "metadata": {},
   "outputs": [
    {
     "name": "stderr",
     "output_type": "stream",
     "text": [
      "100%|██████████| 100/100 [00:02<00:00, 38.67it/s]\n"
     ]
    },
    {
     "data": {
      "text/html": [
       "<div><style>\n",
       ".dataframe > thead > tr,\n",
       ".dataframe > tbody > tr {\n",
       "  text-align: right;\n",
       "  white-space: pre-wrap;\n",
       "}\n",
       "</style>\n",
       "<small>shape: (100, 5)</small><table border=\"1\" class=\"dataframe\"><thead><tr><th>model</th><th>params</th><th>fit_time_ms</th><th>train_mae</th><th>test_mae</th></tr><tr><td>str</td><td>str</td><td>f64</td><td>f64</td><td>f64</td></tr></thead><tbody><tr><td>&quot;KernelRidge&quot;</td><td>&quot;{&#x27;alpha&#x27;: 1.8421, &#x27;degree&#x27;: 2}&quot;</td><td>17.78698</td><td>0.885085</td><td>0.995937</td></tr><tr><td>&quot;KernelRidge&quot;</td><td>&quot;{&#x27;alpha&#x27;: 1.8421, &#x27;degree&#x27;: 3}&quot;</td><td>18.435955</td><td>0.885085</td><td>0.995937</td></tr><tr><td>&quot;KernelRidge&quot;</td><td>&quot;{&#x27;alpha&#x27;: 1.8421, &#x27;degree&#x27;: 4}&quot;</td><td>18.251657</td><td>0.885085</td><td>0.995937</td></tr><tr><td>&quot;KernelRidge&quot;</td><td>&quot;{&#x27;alpha&#x27;: 1.8421, &#x27;degree&#x27;: 5}&quot;</td><td>18.011332</td><td>0.885085</td><td>0.995937</td></tr><tr><td>&quot;KernelRidge&quot;</td><td>&quot;{&#x27;alpha&#x27;: 1.8421, &#x27;degree&#x27;: 6}&quot;</td><td>18.29195</td><td>0.885085</td><td>0.995937</td></tr><tr><td>&hellip;</td><td>&hellip;</td><td>&hellip;</td><td>&hellip;</td><td>&hellip;</td></tr><tr><td>&quot;KernelRidge&quot;</td><td>&quot;{&#x27;alpha&#x27;: 0.5, &#x27;degree&#x27;: 2}&quot;</td><td>95.431805</td><td>0.843073</td><td>1.012571</td></tr><tr><td>&quot;KernelRidge&quot;</td><td>&quot;{&#x27;alpha&#x27;: 0.5, &#x27;degree&#x27;: 3}&quot;</td><td>23.62895</td><td>0.843073</td><td>1.012571</td></tr><tr><td>&quot;KernelRidge&quot;</td><td>&quot;{&#x27;alpha&#x27;: 0.5, &#x27;degree&#x27;: 4}&quot;</td><td>21.869898</td><td>0.843073</td><td>1.012571</td></tr><tr><td>&quot;KernelRidge&quot;</td><td>&quot;{&#x27;alpha&#x27;: 0.5, &#x27;degree&#x27;: 5}&quot;</td><td>19.290209</td><td>0.843073</td><td>1.012571</td></tr><tr><td>&quot;KernelRidge&quot;</td><td>&quot;{&#x27;alpha&#x27;: 0.5, &#x27;degree&#x27;: 6}&quot;</td><td>20.167828</td><td>0.843073</td><td>1.012571</td></tr></tbody></table></div>"
      ],
      "text/plain": [
       "shape: (100, 5)\n",
       "┌─────────────┬────────────────────────────────┬─────────────┬───────────┬──────────┐\n",
       "│ model       ┆ params                         ┆ fit_time_ms ┆ train_mae ┆ test_mae │\n",
       "│ ---         ┆ ---                            ┆ ---         ┆ ---       ┆ ---      │\n",
       "│ str         ┆ str                            ┆ f64         ┆ f64       ┆ f64      │\n",
       "╞═════════════╪════════════════════════════════╪═════════════╪═══════════╪══════════╡\n",
       "│ KernelRidge ┆ {'alpha': 1.8421, 'degree': 2} ┆ 17.78698    ┆ 0.885085  ┆ 0.995937 │\n",
       "│ KernelRidge ┆ {'alpha': 1.8421, 'degree': 3} ┆ 18.435955   ┆ 0.885085  ┆ 0.995937 │\n",
       "│ KernelRidge ┆ {'alpha': 1.8421, 'degree': 4} ┆ 18.251657   ┆ 0.885085  ┆ 0.995937 │\n",
       "│ KernelRidge ┆ {'alpha': 1.8421, 'degree': 5} ┆ 18.011332   ┆ 0.885085  ┆ 0.995937 │\n",
       "│ KernelRidge ┆ {'alpha': 1.8421, 'degree': 6} ┆ 18.29195    ┆ 0.885085  ┆ 0.995937 │\n",
       "│ …           ┆ …                              ┆ …           ┆ …         ┆ …        │\n",
       "│ KernelRidge ┆ {'alpha': 0.5, 'degree': 2}    ┆ 95.431805   ┆ 0.843073  ┆ 1.012571 │\n",
       "│ KernelRidge ┆ {'alpha': 0.5, 'degree': 3}    ┆ 23.62895    ┆ 0.843073  ┆ 1.012571 │\n",
       "│ KernelRidge ┆ {'alpha': 0.5, 'degree': 4}    ┆ 21.869898   ┆ 0.843073  ┆ 1.012571 │\n",
       "│ KernelRidge ┆ {'alpha': 0.5, 'degree': 5}    ┆ 19.290209   ┆ 0.843073  ┆ 1.012571 │\n",
       "│ KernelRidge ┆ {'alpha': 0.5, 'degree': 6}    ┆ 20.167828   ┆ 0.843073  ┆ 1.012571 │\n",
       "└─────────────┴────────────────────────────────┴─────────────┴───────────┴──────────┘"
      ]
     },
     "execution_count": 16,
     "metadata": {},
     "output_type": "execute_result"
    }
   ],
   "source": [
    "from sklearn.kernel_ridge import KernelRidge\n",
    "\n",
    "param_grid = {\n",
    "    \"alpha\": np.linspace(start=0.5, stop=2.0, num=20),\n",
    "    \"degree\": np.arange(start=2, stop=7),\n",
    "}\n",
    "\n",
    "grid_search(KernelRidge, param_grid)"
   ]
  },
  {
   "cell_type": "code",
   "execution_count": 17,
   "metadata": {},
   "outputs": [
    {
     "name": "stderr",
     "output_type": "stream",
     "text": [
      "100%|██████████| 100/100 [00:00<00:00, 319.58it/s]\n"
     ]
    },
    {
     "data": {
      "text/html": [
       "<div><style>\n",
       ".dataframe > thead > tr,\n",
       ".dataframe > tbody > tr {\n",
       "  text-align: right;\n",
       "  white-space: pre-wrap;\n",
       "}\n",
       "</style>\n",
       "<small>shape: (100, 5)</small><table border=\"1\" class=\"dataframe\"><thead><tr><th>model</th><th>params</th><th>fit_time_ms</th><th>train_mae</th><th>test_mae</th></tr><tr><td>str</td><td>str</td><td>f64</td><td>f64</td><td>f64</td></tr></thead><tbody><tr><td>&quot;ElasticNet&quot;</td><td>&quot;{&#x27;alpha&#x27;: 0.5, &#x27;l1_ratio&#x27;: 0.1…</td><td>7.076263</td><td>1.028561</td><td>1.106313</td></tr><tr><td>&quot;ElasticNet&quot;</td><td>&quot;{&#x27;alpha&#x27;: 0.5, &#x27;l1_ratio&#x27;: 0.1…</td><td>5.210876</td><td>1.028561</td><td>1.106313</td></tr><tr><td>&quot;ElasticNet&quot;</td><td>&quot;{&#x27;alpha&#x27;: 0.5, &#x27;l1_ratio&#x27;: 0.2…</td><td>5.013943</td><td>1.028561</td><td>1.106313</td></tr><tr><td>&quot;ElasticNet&quot;</td><td>&quot;{&#x27;alpha&#x27;: 0.5, &#x27;l1_ratio&#x27;: 0.3…</td><td>4.571915</td><td>1.028561</td><td>1.106313</td></tr><tr><td>&quot;ElasticNet&quot;</td><td>&quot;{&#x27;alpha&#x27;: 0.5, &#x27;l1_ratio&#x27;: 0.4…</td><td>6.360054</td><td>1.028561</td><td>1.106313</td></tr><tr><td>&hellip;</td><td>&hellip;</td><td>&hellip;</td><td>&hellip;</td><td>&hellip;</td></tr><tr><td>&quot;ElasticNet&quot;</td><td>&quot;{&#x27;alpha&#x27;: 1.5, &#x27;l1_ratio&#x27;: 0.5…</td><td>2.110243</td><td>1.028561</td><td>1.106313</td></tr><tr><td>&quot;ElasticNet&quot;</td><td>&quot;{&#x27;alpha&#x27;: 1.5, &#x27;l1_ratio&#x27;: 0.6…</td><td>2.196074</td><td>1.028561</td><td>1.106313</td></tr><tr><td>&quot;ElasticNet&quot;</td><td>&quot;{&#x27;alpha&#x27;: 1.5, &#x27;l1_ratio&#x27;: 0.7…</td><td>2.12121</td><td>1.028561</td><td>1.106313</td></tr><tr><td>&quot;ElasticNet&quot;</td><td>&quot;{&#x27;alpha&#x27;: 1.5, &#x27;l1_ratio&#x27;: 0.8…</td><td>2.851248</td><td>1.028561</td><td>1.106313</td></tr><tr><td>&quot;ElasticNet&quot;</td><td>&quot;{&#x27;alpha&#x27;: 1.5, &#x27;l1_ratio&#x27;: 0.9…</td><td>2.667189</td><td>1.028561</td><td>1.106313</td></tr></tbody></table></div>"
      ],
      "text/plain": [
       "shape: (100, 5)\n",
       "┌────────────┬─────────────────────────────────┬─────────────┬───────────┬──────────┐\n",
       "│ model      ┆ params                          ┆ fit_time_ms ┆ train_mae ┆ test_mae │\n",
       "│ ---        ┆ ---                             ┆ ---         ┆ ---       ┆ ---      │\n",
       "│ str        ┆ str                             ┆ f64         ┆ f64       ┆ f64      │\n",
       "╞════════════╪═════════════════════════════════╪═════════════╪═══════════╪══════════╡\n",
       "│ ElasticNet ┆ {'alpha': 0.5, 'l1_ratio': 0.1… ┆ 7.076263    ┆ 1.028561  ┆ 1.106313 │\n",
       "│ ElasticNet ┆ {'alpha': 0.5, 'l1_ratio': 0.1… ┆ 5.210876    ┆ 1.028561  ┆ 1.106313 │\n",
       "│ ElasticNet ┆ {'alpha': 0.5, 'l1_ratio': 0.2… ┆ 5.013943    ┆ 1.028561  ┆ 1.106313 │\n",
       "│ ElasticNet ┆ {'alpha': 0.5, 'l1_ratio': 0.3… ┆ 4.571915    ┆ 1.028561  ┆ 1.106313 │\n",
       "│ ElasticNet ┆ {'alpha': 0.5, 'l1_ratio': 0.4… ┆ 6.360054    ┆ 1.028561  ┆ 1.106313 │\n",
       "│ …          ┆ …                               ┆ …           ┆ …         ┆ …        │\n",
       "│ ElasticNet ┆ {'alpha': 1.5, 'l1_ratio': 0.5… ┆ 2.110243    ┆ 1.028561  ┆ 1.106313 │\n",
       "│ ElasticNet ┆ {'alpha': 1.5, 'l1_ratio': 0.6… ┆ 2.196074    ┆ 1.028561  ┆ 1.106313 │\n",
       "│ ElasticNet ┆ {'alpha': 1.5, 'l1_ratio': 0.7… ┆ 2.12121     ┆ 1.028561  ┆ 1.106313 │\n",
       "│ ElasticNet ┆ {'alpha': 1.5, 'l1_ratio': 0.8… ┆ 2.851248    ┆ 1.028561  ┆ 1.106313 │\n",
       "│ ElasticNet ┆ {'alpha': 1.5, 'l1_ratio': 0.9… ┆ 2.667189    ┆ 1.028561  ┆ 1.106313 │\n",
       "└────────────┴─────────────────────────────────┴─────────────┴───────────┴──────────┘"
      ]
     },
     "execution_count": 17,
     "metadata": {},
     "output_type": "execute_result"
    }
   ],
   "source": [
    "from sklearn.linear_model import ElasticNet\n",
    "\n",
    "param_grid = {\n",
    "    \"alpha\": np.linspace(start=0.5, stop=1.5, num=10),\n",
    "    \"l1_ratio\": np.linspace(start=0.1, stop=0.9, num=10),\n",
    "}\n",
    "grid_search(ElasticNet, param_grid)"
   ]
  },
  {
   "cell_type": "code",
   "execution_count": 18,
   "metadata": {},
   "outputs": [
    {
     "name": "stderr",
     "output_type": "stream",
     "text": [
      "100%|██████████| 90/90 [00:13<00:00,  6.90it/s]\n"
     ]
    },
    {
     "data": {
      "text/html": [
       "<div><style>\n",
       ".dataframe > thead > tr,\n",
       ".dataframe > tbody > tr {\n",
       "  text-align: right;\n",
       "  white-space: pre-wrap;\n",
       "}\n",
       "</style>\n",
       "<small>shape: (90, 5)</small><table border=\"1\" class=\"dataframe\"><thead><tr><th>model</th><th>params</th><th>fit_time_ms</th><th>train_mae</th><th>test_mae</th></tr><tr><td>str</td><td>str</td><td>f64</td><td>f64</td><td>f64</td></tr></thead><tbody><tr><td>&quot;SGDRegressor&quot;</td><td>&quot;{&#x27;alpha&#x27;: 0.001, &#x27;l1_ratio&#x27;: 0…</td><td>140.700102</td><td>0.952048</td><td>1.031051</td></tr><tr><td>&quot;SGDRegressor&quot;</td><td>&quot;{&#x27;alpha&#x27;: 0.0001, &#x27;l1_ratio&#x27;: …</td><td>206.234217</td><td>0.95442</td><td>1.031736</td></tr><tr><td>&quot;SGDRegressor&quot;</td><td>&quot;{&#x27;alpha&#x27;: 0.0001, &#x27;l1_ratio&#x27;: …</td><td>127.006054</td><td>0.953221</td><td>1.031831</td></tr><tr><td>&quot;SGDRegressor&quot;</td><td>&quot;{&#x27;alpha&#x27;: 0.0001, &#x27;l1_ratio&#x27;: …</td><td>130.512238</td><td>0.951951</td><td>1.031842</td></tr><tr><td>&quot;SGDRegressor&quot;</td><td>&quot;{&#x27;alpha&#x27;: 0.001, &#x27;l1_ratio&#x27;: 0…</td><td>156.486988</td><td>0.954418</td><td>1.032225</td></tr><tr><td>&hellip;</td><td>&hellip;</td><td>&hellip;</td><td>&hellip;</td><td>&hellip;</td></tr><tr><td>&quot;SGDRegressor&quot;</td><td>&quot;{&#x27;alpha&#x27;: 0.01, &#x27;l1_ratio&#x27;: 0.…</td><td>104.090929</td><td>1.023733</td><td>1.092064</td></tr><tr><td>&quot;SGDRegressor&quot;</td><td>&quot;{&#x27;alpha&#x27;: 0.01, &#x27;l1_ratio&#x27;: 0.…</td><td>68.866014</td><td>1.02502</td><td>1.09287</td></tr><tr><td>&quot;SGDRegressor&quot;</td><td>&quot;{&#x27;alpha&#x27;: 0.01, &#x27;l1_ratio&#x27;: 0.…</td><td>113.832951</td><td>1.025992</td><td>1.09311</td></tr><tr><td>&quot;SGDRegressor&quot;</td><td>&quot;{&#x27;alpha&#x27;: 0.01, &#x27;l1_ratio&#x27;: 0.…</td><td>115.669966</td><td>1.027868</td><td>1.09359</td></tr><tr><td>&quot;SGDRegressor&quot;</td><td>&quot;{&#x27;alpha&#x27;: 0.01, &#x27;l1_ratio&#x27;: 0.…</td><td>114.936113</td><td>1.026747</td><td>1.094611</td></tr></tbody></table></div>"
      ],
      "text/plain": [
       "shape: (90, 5)\n",
       "┌──────────────┬─────────────────────────────────┬─────────────┬───────────┬──────────┐\n",
       "│ model        ┆ params                          ┆ fit_time_ms ┆ train_mae ┆ test_mae │\n",
       "│ ---          ┆ ---                             ┆ ---         ┆ ---       ┆ ---      │\n",
       "│ str          ┆ str                             ┆ f64         ┆ f64       ┆ f64      │\n",
       "╞══════════════╪═════════════════════════════════╪═════════════╪═══════════╪══════════╡\n",
       "│ SGDRegressor ┆ {'alpha': 0.001, 'l1_ratio': 0… ┆ 140.700102  ┆ 0.952048  ┆ 1.031051 │\n",
       "│ SGDRegressor ┆ {'alpha': 0.0001, 'l1_ratio': … ┆ 206.234217  ┆ 0.95442   ┆ 1.031736 │\n",
       "│ SGDRegressor ┆ {'alpha': 0.0001, 'l1_ratio': … ┆ 127.006054  ┆ 0.953221  ┆ 1.031831 │\n",
       "│ SGDRegressor ┆ {'alpha': 0.0001, 'l1_ratio': … ┆ 130.512238  ┆ 0.951951  ┆ 1.031842 │\n",
       "│ SGDRegressor ┆ {'alpha': 0.001, 'l1_ratio': 0… ┆ 156.486988  ┆ 0.954418  ┆ 1.032225 │\n",
       "│ …            ┆ …                               ┆ …           ┆ …         ┆ …        │\n",
       "│ SGDRegressor ┆ {'alpha': 0.01, 'l1_ratio': 0.… ┆ 104.090929  ┆ 1.023733  ┆ 1.092064 │\n",
       "│ SGDRegressor ┆ {'alpha': 0.01, 'l1_ratio': 0.… ┆ 68.866014   ┆ 1.02502   ┆ 1.09287  │\n",
       "│ SGDRegressor ┆ {'alpha': 0.01, 'l1_ratio': 0.… ┆ 113.832951  ┆ 1.025992  ┆ 1.09311  │\n",
       "│ SGDRegressor ┆ {'alpha': 0.01, 'l1_ratio': 0.… ┆ 115.669966  ┆ 1.027868  ┆ 1.09359  │\n",
       "│ SGDRegressor ┆ {'alpha': 0.01, 'l1_ratio': 0.… ┆ 114.936113  ┆ 1.026747  ┆ 1.094611 │\n",
       "└──────────────┴─────────────────────────────────┴─────────────┴───────────┴──────────┘"
      ]
     },
     "execution_count": 18,
     "metadata": {},
     "output_type": "execute_result"
    }
   ],
   "source": [
    "from sklearn.linear_model import SGDRegressor\n",
    "\n",
    "param_grid = {\n",
    "    \"alpha\": np.array([1e-4, 1e-3, 1e-2]),\n",
    "    \"l1_ratio\": np.linspace(start=0.1, stop=0.9, num=10),\n",
    "    \"penalty\": np.array([\"l1\", \"l2\", \"elasticnet\"]),\n",
    "}\n",
    "grid_search(SGDRegressor, param_grid)"
   ]
  },
  {
   "cell_type": "code",
   "execution_count": null,
   "metadata": {},
   "outputs": [],
   "source": []
  },
  {
   "cell_type": "code",
   "execution_count": 67,
   "metadata": {},
   "outputs": [
    {
     "data": {
      "application/vnd.jupyter.widget-view+json": {
       "model_id": "d2864fe6a0884c45b1cb3f7e1a19b832",
       "version_major": 2,
       "version_minor": 0
      },
      "text/plain": [
       "  0%|          | 0/126 [00:00<?, ?it/s]"
      ]
     },
     "metadata": {},
     "output_type": "display_data"
    },
    {
     "data": {
      "text/html": [
       "<div><style>\n",
       ".dataframe > thead > tr,\n",
       ".dataframe > tbody > tr {\n",
       "  text-align: right;\n",
       "  white-space: pre-wrap;\n",
       "}\n",
       "</style>\n",
       "<small>shape: (126, 5)</small><table border=\"1\" class=\"dataframe\"><thead><tr><th>model</th><th>params</th><th>fit_time_ms</th><th>train_mae</th><th>test_mae</th></tr><tr><td>str</td><td>str</td><td>f64</td><td>f64</td><td>f64</td></tr></thead><tbody><tr><td>&quot;KNeighborsRegressor&quot;</td><td>&quot;{&#x27;n_neighbors&#x27;: 6, &#x27;leaf_size&#x27;…</td><td>0.232935</td><td>0.87419</td><td>0.98375</td></tr><tr><td>&quot;KNeighborsRegressor&quot;</td><td>&quot;{&#x27;n_neighbors&#x27;: 6, &#x27;leaf_size&#x27;…</td><td>0.244141</td><td>0.87419</td><td>0.98375</td></tr><tr><td>&quot;KNeighborsRegressor&quot;</td><td>&quot;{&#x27;n_neighbors&#x27;: 6, &#x27;leaf_size&#x27;…</td><td>0.247002</td><td>0.87419</td><td>0.98375</td></tr><tr><td>&quot;KNeighborsRegressor&quot;</td><td>&quot;{&#x27;n_neighbors&#x27;: 6, &#x27;leaf_size&#x27;…</td><td>0.250101</td><td>0.87419</td><td>0.98375</td></tr><tr><td>&quot;KNeighborsRegressor&quot;</td><td>&quot;{&#x27;n_neighbors&#x27;: 6, &#x27;leaf_size&#x27;…</td><td>0.625849</td><td>0.87419</td><td>0.98375</td></tr><tr><td>&hellip;</td><td>&hellip;</td><td>&hellip;</td><td>&hellip;</td><td>&hellip;</td></tr><tr><td>&quot;KNeighborsRegressor&quot;</td><td>&quot;{&#x27;n_neighbors&#x27;: 2, &#x27;leaf_size&#x27;…</td><td>0.582218</td><td>9.5465e-8</td><td>1.22805</td></tr><tr><td>&quot;KNeighborsRegressor&quot;</td><td>&quot;{&#x27;n_neighbors&#x27;: 2, &#x27;leaf_size&#x27;…</td><td>0.265837</td><td>9.5465e-8</td><td>1.22805</td></tr><tr><td>&quot;KNeighborsRegressor&quot;</td><td>&quot;{&#x27;n_neighbors&#x27;: 2, &#x27;leaf_size&#x27;…</td><td>0.597</td><td>9.5465e-8</td><td>1.22805</td></tr><tr><td>&quot;KNeighborsRegressor&quot;</td><td>&quot;{&#x27;n_neighbors&#x27;: 2, &#x27;leaf_size&#x27;…</td><td>0.324965</td><td>9.5465e-8</td><td>1.22805</td></tr><tr><td>&quot;KNeighborsRegressor&quot;</td><td>&quot;{&#x27;n_neighbors&#x27;: 2, &#x27;leaf_size&#x27;…</td><td>0.254869</td><td>9.5465e-8</td><td>1.22805</td></tr></tbody></table></div>"
      ],
      "text/plain": [
       "shape: (126, 5)\n",
       "┌─────────────────────┬─────────────────────────────────┬─────────────┬───────────┬──────────┐\n",
       "│ model               ┆ params                          ┆ fit_time_ms ┆ train_mae ┆ test_mae │\n",
       "│ ---                 ┆ ---                             ┆ ---         ┆ ---       ┆ ---      │\n",
       "│ str                 ┆ str                             ┆ f64         ┆ f64       ┆ f64      │\n",
       "╞═════════════════════╪═════════════════════════════════╪═════════════╪═══════════╪══════════╡\n",
       "│ KNeighborsRegressor ┆ {'n_neighbors': 6, 'leaf_size'… ┆ 0.232935    ┆ 0.87419   ┆ 0.98375  │\n",
       "│ KNeighborsRegressor ┆ {'n_neighbors': 6, 'leaf_size'… ┆ 0.244141    ┆ 0.87419   ┆ 0.98375  │\n",
       "│ KNeighborsRegressor ┆ {'n_neighbors': 6, 'leaf_size'… ┆ 0.247002    ┆ 0.87419   ┆ 0.98375  │\n",
       "│ KNeighborsRegressor ┆ {'n_neighbors': 6, 'leaf_size'… ┆ 0.250101    ┆ 0.87419   ┆ 0.98375  │\n",
       "│ KNeighborsRegressor ┆ {'n_neighbors': 6, 'leaf_size'… ┆ 0.625849    ┆ 0.87419   ┆ 0.98375  │\n",
       "│ …                   ┆ …                               ┆ …           ┆ …         ┆ …        │\n",
       "│ KNeighborsRegressor ┆ {'n_neighbors': 2, 'leaf_size'… ┆ 0.582218    ┆ 9.5465e-8 ┆ 1.22805  │\n",
       "│ KNeighborsRegressor ┆ {'n_neighbors': 2, 'leaf_size'… ┆ 0.265837    ┆ 9.5465e-8 ┆ 1.22805  │\n",
       "│ KNeighborsRegressor ┆ {'n_neighbors': 2, 'leaf_size'… ┆ 0.597       ┆ 9.5465e-8 ┆ 1.22805  │\n",
       "│ KNeighborsRegressor ┆ {'n_neighbors': 2, 'leaf_size'… ┆ 0.324965    ┆ 9.5465e-8 ┆ 1.22805  │\n",
       "│ KNeighborsRegressor ┆ {'n_neighbors': 2, 'leaf_size'… ┆ 0.254869    ┆ 9.5465e-8 ┆ 1.22805  │\n",
       "└─────────────────────┴─────────────────────────────────┴─────────────┴───────────┴──────────┘"
      ]
     },
     "execution_count": 67,
     "metadata": {},
     "output_type": "execute_result"
    }
   ],
   "source": [
    "from sklearn.neighbors import KNeighborsRegressor\n",
    "\n",
    "param_grid = {\n",
    "    \"n_neighbors\": np.arange(start=2, stop=9),\n",
    "    \"leaf_size\": np.arange(start=5, stop=50, step=5),\n",
    "    \"weights\": np.array([\"uniform\", \"distance\"]),\n",
    "}\n",
    "grid_search(KNeighborsRegressor, param_grid)"
   ]
  },
  {
   "cell_type": "code",
   "execution_count": 77,
   "metadata": {},
   "outputs": [
    {
     "data": {
      "application/vnd.jupyter.widget-view+json": {
       "model_id": "a714cd1dfdae40769a32e01030a3e00e",
       "version_major": 2,
       "version_minor": 0
      },
      "text/plain": [
       "  0%|          | 0/4 [00:00<?, ?it/s]"
      ]
     },
     "metadata": {},
     "output_type": "display_data"
    },
    {
     "data": {
      "text/html": [
       "<div><style>\n",
       ".dataframe > thead > tr,\n",
       ".dataframe > tbody > tr {\n",
       "  text-align: right;\n",
       "  white-space: pre-wrap;\n",
       "}\n",
       "</style>\n",
       "<small>shape: (4, 5)</small><table border=\"1\" class=\"dataframe\"><thead><tr><th>model</th><th>params</th><th>fit_time_ms</th><th>train_mae</th><th>test_mae</th></tr><tr><td>str</td><td>str</td><td>f64</td><td>f64</td><td>f64</td></tr></thead><tbody><tr><td>&quot;RandomForestRegressor&quot;</td><td>&quot;{&#x27;min_samples_leaf&#x27;: 5}&quot;</td><td>27979.981899</td><td>0.458471</td><td>1.055396</td></tr><tr><td>&quot;RandomForestRegressor&quot;</td><td>&quot;{&#x27;min_samples_leaf&#x27;: 2}&quot;</td><td>32291.435003</td><td>0.3927</td><td>1.05599</td></tr><tr><td>&quot;RandomForestRegressor&quot;</td><td>&quot;{&#x27;min_samples_leaf&#x27;: 3}&quot;</td><td>30894.958019</td><td>0.409741</td><td>1.058537</td></tr><tr><td>&quot;RandomForestRegressor&quot;</td><td>&quot;{&#x27;min_samples_leaf&#x27;: 4}&quot;</td><td>29754.374027</td><td>0.435607</td><td>1.066952</td></tr></tbody></table></div>"
      ],
      "text/plain": [
       "shape: (4, 5)\n",
       "┌───────────────────────┬─────────────────────────┬──────────────┬───────────┬──────────┐\n",
       "│ model                 ┆ params                  ┆ fit_time_ms  ┆ train_mae ┆ test_mae │\n",
       "│ ---                   ┆ ---                     ┆ ---          ┆ ---       ┆ ---      │\n",
       "│ str                   ┆ str                     ┆ f64          ┆ f64       ┆ f64      │\n",
       "╞═══════════════════════╪═════════════════════════╪══════════════╪═══════════╪══════════╡\n",
       "│ RandomForestRegressor ┆ {'min_samples_leaf': 5} ┆ 27979.981899 ┆ 0.458471  ┆ 1.055396 │\n",
       "│ RandomForestRegressor ┆ {'min_samples_leaf': 2} ┆ 32291.435003 ┆ 0.3927    ┆ 1.05599  │\n",
       "│ RandomForestRegressor ┆ {'min_samples_leaf': 3} ┆ 30894.958019 ┆ 0.409741  ┆ 1.058537 │\n",
       "│ RandomForestRegressor ┆ {'min_samples_leaf': 4} ┆ 29754.374027 ┆ 0.435607  ┆ 1.066952 │\n",
       "└───────────────────────┴─────────────────────────┴──────────────┴───────────┴──────────┘"
      ]
     },
     "execution_count": 77,
     "metadata": {},
     "output_type": "execute_result"
    }
   ],
   "source": [
    "from sklearn.ensemble import RandomForestRegressor\n",
    "\n",
    "param_grid = {\n",
    "    \"min_samples_leaf\": np.arange(start=2, stop=6),\n",
    "}\n",
    "grid_search(RandomForestRegressor, param_grid)"
   ]
  },
  {
   "cell_type": "code",
   "execution_count": 72,
   "metadata": {},
   "outputs": [
    {
     "data": {
      "application/vnd.jupyter.widget-view+json": {
       "model_id": "ba0dd651a59c4ad2bfe0d3f1665edf46",
       "version_major": 2,
       "version_minor": 0
      },
      "text/plain": [
       "  0%|          | 0/81 [00:00<?, ?it/s]"
      ]
     },
     "metadata": {},
     "output_type": "display_data"
    },
    {
     "data": {
      "text/html": [
       "<div><style>\n",
       ".dataframe > thead > tr,\n",
       ".dataframe > tbody > tr {\n",
       "  text-align: right;\n",
       "  white-space: pre-wrap;\n",
       "}\n",
       "</style>\n",
       "<small>shape: (81, 5)</small><table border=\"1\" class=\"dataframe\"><thead><tr><th>model</th><th>params</th><th>fit_time_ms</th><th>train_mae</th><th>test_mae</th></tr><tr><td>str</td><td>str</td><td>f64</td><td>f64</td><td>f64</td></tr></thead><tbody><tr><td>&quot;HistGradientBoostingRegressor&quot;</td><td>&quot;{&#x27;learning_rate&#x27;: 0.05, &#x27;max_l…</td><td>2074.5399</td><td>0.263926</td><td>1.026484</td></tr><tr><td>&quot;HistGradientBoostingRegressor&quot;</td><td>&quot;{&#x27;learning_rate&#x27;: 0.05, &#x27;max_l…</td><td>1612.729788</td><td>0.33925</td><td>1.034051</td></tr><tr><td>&quot;HistGradientBoostingRegressor&quot;</td><td>&quot;{&#x27;learning_rate&#x27;: 0.05, &#x27;max_l…</td><td>1921.996832</td><td>0.285968</td><td>1.034399</td></tr><tr><td>&quot;HistGradientBoostingRegressor&quot;</td><td>&quot;{&#x27;learning_rate&#x27;: 0.1, &#x27;max_le…</td><td>1709.148884</td><td>0.192629</td><td>1.036705</td></tr><tr><td>&quot;HistGradientBoostingRegressor&quot;</td><td>&quot;{&#x27;learning_rate&#x27;: 0.1, &#x27;max_le…</td><td>2383.854866</td><td>0.042516</td><td>1.038475</td></tr><tr><td>&hellip;</td><td>&hellip;</td><td>&hellip;</td><td>&hellip;</td><td>&hellip;</td></tr><tr><td>&quot;HistGradientBoostingRegressor&quot;</td><td>&quot;{&#x27;learning_rate&#x27;: 0.1, &#x27;max_le…</td><td>1579.900742</td><td>0.248323</td><td>1.09971</td></tr><tr><td>&quot;HistGradientBoostingRegressor&quot;</td><td>&quot;{&#x27;learning_rate&#x27;: 0.1, &#x27;max_le…</td><td>1688.149214</td><td>0.172808</td><td>1.104118</td></tr><tr><td>&quot;HistGradientBoostingRegressor&quot;</td><td>&quot;{&#x27;learning_rate&#x27;: 0.1, &#x27;max_le…</td><td>1602.896214</td><td>0.131334</td><td>1.105918</td></tr><tr><td>&quot;HistGradientBoostingRegressor&quot;</td><td>&quot;{&#x27;learning_rate&#x27;: 0.1, &#x27;max_le…</td><td>2495.135069</td><td>0.040932</td><td>1.105953</td></tr><tr><td>&quot;HistGradientBoostingRegressor&quot;</td><td>&quot;{&#x27;learning_rate&#x27;: 0.1, &#x27;max_le…</td><td>1451.473951</td><td>0.188959</td><td>1.106753</td></tr></tbody></table></div>"
      ],
      "text/plain": [
       "shape: (81, 5)\n",
       "┌───────────────────────────────┬─────────────────────────┬─────────────┬───────────┬──────────┐\n",
       "│ model                         ┆ params                  ┆ fit_time_ms ┆ train_mae ┆ test_mae │\n",
       "│ ---                           ┆ ---                     ┆ ---         ┆ ---       ┆ ---      │\n",
       "│ str                           ┆ str                     ┆ f64         ┆ f64       ┆ f64      │\n",
       "╞═══════════════════════════════╪═════════════════════════╪═════════════╪═══════════╪══════════╡\n",
       "│ HistGradientBoostingRegressor ┆ {'learning_rate': 0.05, ┆ 2074.5399   ┆ 0.263926  ┆ 1.026484 │\n",
       "│                               ┆ 'max_l…                 ┆             ┆           ┆          │\n",
       "│ HistGradientBoostingRegressor ┆ {'learning_rate': 0.05, ┆ 1612.729788 ┆ 0.33925   ┆ 1.034051 │\n",
       "│                               ┆ 'max_l…                 ┆             ┆           ┆          │\n",
       "│ HistGradientBoostingRegressor ┆ {'learning_rate': 0.05, ┆ 1921.996832 ┆ 0.285968  ┆ 1.034399 │\n",
       "│                               ┆ 'max_l…                 ┆             ┆           ┆          │\n",
       "│ HistGradientBoostingRegressor ┆ {'learning_rate': 0.1,  ┆ 1709.148884 ┆ 0.192629  ┆ 1.036705 │\n",
       "│                               ┆ 'max_le…                ┆             ┆           ┆          │\n",
       "│ HistGradientBoostingRegressor ┆ {'learning_rate': 0.1,  ┆ 2383.854866 ┆ 0.042516  ┆ 1.038475 │\n",
       "│                               ┆ 'max_le…                ┆             ┆           ┆          │\n",
       "│ …                             ┆ …                       ┆ …           ┆ …         ┆ …        │\n",
       "│ HistGradientBoostingRegressor ┆ {'learning_rate': 0.1,  ┆ 1579.900742 ┆ 0.248323  ┆ 1.09971  │\n",
       "│                               ┆ 'max_le…                ┆             ┆           ┆          │\n",
       "│ HistGradientBoostingRegressor ┆ {'learning_rate': 0.1,  ┆ 1688.149214 ┆ 0.172808  ┆ 1.104118 │\n",
       "│                               ┆ 'max_le…                ┆             ┆           ┆          │\n",
       "│ HistGradientBoostingRegressor ┆ {'learning_rate': 0.1,  ┆ 1602.896214 ┆ 0.131334  ┆ 1.105918 │\n",
       "│                               ┆ 'max_le…                ┆             ┆           ┆          │\n",
       "│ HistGradientBoostingRegressor ┆ {'learning_rate': 0.1,  ┆ 2495.135069 ┆ 0.040932  ┆ 1.105953 │\n",
       "│                               ┆ 'max_le…                ┆             ┆           ┆          │\n",
       "│ HistGradientBoostingRegressor ┆ {'learning_rate': 0.1,  ┆ 1451.473951 ┆ 0.188959  ┆ 1.106753 │\n",
       "│                               ┆ 'max_le…                ┆             ┆           ┆          │\n",
       "└───────────────────────────────┴─────────────────────────┴─────────────┴───────────┴──────────┘"
      ]
     },
     "execution_count": 72,
     "metadata": {},
     "output_type": "execute_result"
    }
   ],
   "source": [
    "from sklearn.ensemble import HistGradientBoostingRegressor\n",
    "\n",
    "param_grid = {\n",
    "    \"learning_rate\": np.array([1e-1, 5e-2, 1e-2]),\n",
    "    \"max_leaf_nodes\": np.arange(start=20, stop=50, step=10),\n",
    "    # \"l2_regularization\": np.linspace(start=0.0, stop=1.0, num=3),\n",
    "    # \"max_features\": np.linspace(start=0.1, stop=1.0, num=3),\n",
    "}\n",
    "grid_search(HistGradientBoostingRegressor, param_grid)"
   ]
  },
  {
   "cell_type": "markdown",
   "metadata": {},
   "source": [
    "## PCA\n",
    "\n",
    "See if some approaches behave better on PCA-reduced data (down to 128D). Note that PCA should only be trained on the training set to avoid data leakage.\n"
   ]
  },
  {
   "cell_type": "code",
   "execution_count": 19,
   "metadata": {},
   "outputs": [],
   "source": [
    "from sklearn.decomposition import PCA\n",
    "\n",
    "pca = PCA(n_components=128)\n",
    "pca.fit(X_train)\n",
    "\n",
    "X_train = pca.transform(X_train)\n",
    "X_test = pca.transform(X_test)"
   ]
  },
  {
   "cell_type": "code",
   "execution_count": 20,
   "metadata": {},
   "outputs": [
    {
     "name": "stdout",
     "output_type": "stream",
     "text": [
      "[0.04350267 0.02861863 0.02662594 0.02461618 0.02177215]\n"
     ]
    }
   ],
   "source": [
    "print(pca.explained_variance_ratio_[0:5])"
   ]
  },
  {
   "cell_type": "markdown",
   "metadata": {},
   "source": [
    "Explained variance is poor, so that's a no.\n"
   ]
  },
  {
   "cell_type": "code",
   "execution_count": 21,
   "metadata": {},
   "outputs": [
    {
     "name": "stderr",
     "output_type": "stream",
     "text": [
      "100%|██████████| 126/126 [00:01<00:00, 80.79it/s]\n"
     ]
    },
    {
     "data": {
      "text/html": [
       "<div><style>\n",
       ".dataframe > thead > tr,\n",
       ".dataframe > tbody > tr {\n",
       "  text-align: right;\n",
       "  white-space: pre-wrap;\n",
       "}\n",
       "</style>\n",
       "<small>shape: (126, 5)</small><table border=\"1\" class=\"dataframe\"><thead><tr><th>model</th><th>params</th><th>fit_time_ms</th><th>train_mae</th><th>test_mae</th></tr><tr><td>str</td><td>str</td><td>f64</td><td>f64</td><td>f64</td></tr></thead><tbody><tr><td>&quot;KNeighborsRegressor&quot;</td><td>&quot;{&#x27;n_neighbors&#x27;: 3, &#x27;leaf_size&#x27;…</td><td>0.108957</td><td>0.733565</td><td>1.054583</td></tr><tr><td>&quot;KNeighborsRegressor&quot;</td><td>&quot;{&#x27;n_neighbors&#x27;: 3, &#x27;leaf_size&#x27;…</td><td>0.121832</td><td>0.733565</td><td>1.054583</td></tr><tr><td>&quot;KNeighborsRegressor&quot;</td><td>&quot;{&#x27;n_neighbors&#x27;: 3, &#x27;leaf_size&#x27;…</td><td>0.118971</td><td>0.733565</td><td>1.054583</td></tr><tr><td>&quot;KNeighborsRegressor&quot;</td><td>&quot;{&#x27;n_neighbors&#x27;: 3, &#x27;leaf_size&#x27;…</td><td>0.109196</td><td>0.733565</td><td>1.054583</td></tr><tr><td>&quot;KNeighborsRegressor&quot;</td><td>&quot;{&#x27;n_neighbors&#x27;: 3, &#x27;leaf_size&#x27;…</td><td>0.106812</td><td>0.733565</td><td>1.054583</td></tr><tr><td>&hellip;</td><td>&hellip;</td><td>&hellip;</td><td>&hellip;</td><td>&hellip;</td></tr><tr><td>&quot;KNeighborsRegressor&quot;</td><td>&quot;{&#x27;n_neighbors&#x27;: 2, &#x27;leaf_size&#x27;…</td><td>0.117064</td><td>0.634757</td><td>1.156875</td></tr><tr><td>&quot;KNeighborsRegressor&quot;</td><td>&quot;{&#x27;n_neighbors&#x27;: 2, &#x27;leaf_size&#x27;…</td><td>0.136852</td><td>0.634757</td><td>1.156875</td></tr><tr><td>&quot;KNeighborsRegressor&quot;</td><td>&quot;{&#x27;n_neighbors&#x27;: 2, &#x27;leaf_size&#x27;…</td><td>0.401258</td><td>0.634757</td><td>1.156875</td></tr><tr><td>&quot;KNeighborsRegressor&quot;</td><td>&quot;{&#x27;n_neighbors&#x27;: 2, &#x27;leaf_size&#x27;…</td><td>0.363111</td><td>0.634757</td><td>1.156875</td></tr><tr><td>&quot;KNeighborsRegressor&quot;</td><td>&quot;{&#x27;n_neighbors&#x27;: 2, &#x27;leaf_size&#x27;…</td><td>0.169992</td><td>0.634757</td><td>1.156875</td></tr></tbody></table></div>"
      ],
      "text/plain": [
       "shape: (126, 5)\n",
       "┌─────────────────────┬─────────────────────────────────┬─────────────┬───────────┬──────────┐\n",
       "│ model               ┆ params                          ┆ fit_time_ms ┆ train_mae ┆ test_mae │\n",
       "│ ---                 ┆ ---                             ┆ ---         ┆ ---       ┆ ---      │\n",
       "│ str                 ┆ str                             ┆ f64         ┆ f64       ┆ f64      │\n",
       "╞═════════════════════╪═════════════════════════════════╪═════════════╪═══════════╪══════════╡\n",
       "│ KNeighborsRegressor ┆ {'n_neighbors': 3, 'leaf_size'… ┆ 0.108957    ┆ 0.733565  ┆ 1.054583 │\n",
       "│ KNeighborsRegressor ┆ {'n_neighbors': 3, 'leaf_size'… ┆ 0.121832    ┆ 0.733565  ┆ 1.054583 │\n",
       "│ KNeighborsRegressor ┆ {'n_neighbors': 3, 'leaf_size'… ┆ 0.118971    ┆ 0.733565  ┆ 1.054583 │\n",
       "│ KNeighborsRegressor ┆ {'n_neighbors': 3, 'leaf_size'… ┆ 0.109196    ┆ 0.733565  ┆ 1.054583 │\n",
       "│ KNeighborsRegressor ┆ {'n_neighbors': 3, 'leaf_size'… ┆ 0.106812    ┆ 0.733565  ┆ 1.054583 │\n",
       "│ …                   ┆ …                               ┆ …           ┆ …         ┆ …        │\n",
       "│ KNeighborsRegressor ┆ {'n_neighbors': 2, 'leaf_size'… ┆ 0.117064    ┆ 0.634757  ┆ 1.156875 │\n",
       "│ KNeighborsRegressor ┆ {'n_neighbors': 2, 'leaf_size'… ┆ 0.136852    ┆ 0.634757  ┆ 1.156875 │\n",
       "│ KNeighborsRegressor ┆ {'n_neighbors': 2, 'leaf_size'… ┆ 0.401258    ┆ 0.634757  ┆ 1.156875 │\n",
       "│ KNeighborsRegressor ┆ {'n_neighbors': 2, 'leaf_size'… ┆ 0.363111    ┆ 0.634757  ┆ 1.156875 │\n",
       "│ KNeighborsRegressor ┆ {'n_neighbors': 2, 'leaf_size'… ┆ 0.169992    ┆ 0.634757  ┆ 1.156875 │\n",
       "└─────────────────────┴─────────────────────────────────┴─────────────┴───────────┴──────────┘"
      ]
     },
     "execution_count": 21,
     "metadata": {},
     "output_type": "execute_result"
    }
   ],
   "source": [
    "from sklearn.neighbors import KNeighborsRegressor\n",
    "\n",
    "param_grid = {\n",
    "    \"n_neighbors\": np.arange(start=2, stop=9),\n",
    "    \"leaf_size\": np.arange(start=5, stop=50, step=5),\n",
    "    \"weights\": np.array([\"uniform\", \"distance\"]),\n",
    "}\n",
    "grid_search(KNeighborsRegressor, param_grid)"
   ]
  },
  {
   "cell_type": "code",
   "execution_count": null,
   "metadata": {},
   "outputs": [],
   "source": []
  }
 ],
 "metadata": {
  "kernelspec": {
   "display_name": ".venv",
   "language": "python",
   "name": "python3"
  },
  "language_info": {
   "codemirror_mode": {
    "name": "ipython",
    "version": 3
   },
   "file_extension": ".py",
   "mimetype": "text/x-python",
   "name": "python",
   "nbconvert_exporter": "python",
   "pygments_lexer": "ipython3",
   "version": "3.13.0"
  }
 },
 "nbformat": 4,
 "nbformat_minor": 2
}
