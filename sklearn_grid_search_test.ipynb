{
 "cells": [
  {
   "cell_type": "markdown",
   "metadata": {},
   "source": [
    "Test implementation of grid search using scikit-learn algorithms before spending time testing it with cuML.\n",
    "\n",
    "Although scikit-learn has [GridSearchCV](https://scikit-learn.org/stable/modules/generated/sklearn.model_selection.GridSearchCV.html) for performing a grid search across various algorithms, it doesn't offer the control I need in terms of trial data output (e.g. what I want is outputting the results of each trial in a denormalized row)\n",
    "\n",
    "XGBoost note: https://stackoverflow.com/questions/63776921/you-are-running-32-bit-python-on-a-64-bit-osmac-and-xgboost-library-could-not\n"
   ]
  },
  {
   "cell_type": "code",
   "execution_count": 4,
   "metadata": {},
   "outputs": [],
   "source": [
    "import sklearn\n",
    "import xgboost\n",
    "import polars as pl\n",
    "import os"
   ]
  },
  {
   "cell_type": "code",
   "execution_count": 6,
   "metadata": {},
   "outputs": [
    {
     "data": {
      "text/html": [
       "<div><style>\n",
       ".dataframe > thead > tr,\n",
       ".dataframe > tbody > tr {\n",
       "  text-align: right;\n",
       "  white-space: pre-wrap;\n",
       "}\n",
       "</style>\n",
       "<small>shape: (1_600, 5)</small><table border=\"1\" class=\"dataframe\"><thead><tr><th>tconst</th><th>startYear</th><th>averageRating</th><th>json</th><th>embeds</th></tr><tr><td>str</td><td>i64</td><td>f64</td><td>str</td><td>array[f32, 768]</td></tr></thead><tbody><tr><td>&quot;tt0171517&quot;</td><td>1975</td><td>6.2</td><td>&quot;{&#x27;title&#x27;: &#x27;Mechtat i zhit&#x27;, &#x27;g…</td><td>[-0.00642, -0.008363, … -0.095905]</td></tr><tr><td>&quot;tt0034421&quot;</td><td>1942</td><td>7.1</td><td>&quot;{&#x27;title&#x27;: &#x27;A 2000 pengös férfi…</td><td>[-0.027937, 0.038252, … -0.067883]</td></tr><tr><td>&quot;tt0989642&quot;</td><td>2006</td><td>5.6</td><td>&quot;{&#x27;title&#x27;: &#x27;Midnight Running&#x27;, …</td><td>[-0.001267, 0.034308, … -0.027295]</td></tr><tr><td>&quot;tt0273692&quot;</td><td>1980</td><td>7.4</td><td>&quot;{&#x27;title&#x27;: &#x27;J.S. Brown, o Últim…</td><td>[-0.015184, 0.027515, … -0.077242]</td></tr><tr><td>&quot;tt4470172&quot;</td><td>2014</td><td>5.6</td><td>&quot;{&#x27;title&#x27;: &#x27;Guruldayan Kalpler&#x27;…</td><td>[-0.000246, 0.017736, … -0.053503]</td></tr><tr><td>&hellip;</td><td>&hellip;</td><td>&hellip;</td><td>&hellip;</td><td>&hellip;</td></tr><tr><td>&quot;tt1326956&quot;</td><td>2009</td><td>8.1</td><td>&quot;{&#x27;title&#x27;: &#x27;Our Summer in Tehra…</td><td>[-0.023254, 0.013627, … -0.036384]</td></tr><tr><td>&quot;tt0175092&quot;</td><td>1982</td><td>6.7</td><td>&quot;{&#x27;title&#x27;: &quot;Puss &#x27;n Boots&quot;, &#x27;ge…</td><td>[0.017054, 0.044542, … -0.076013]</td></tr><tr><td>&quot;tt2739566&quot;</td><td>1998</td><td>7.1</td><td>&quot;{&#x27;title&#x27;: &#x27;Jungle Love Story&#x27;,…</td><td>[-0.049089, 0.011179, … -0.030443]</td></tr><tr><td>&quot;tt15485264&quot;</td><td>2021</td><td>7.0</td><td>&quot;{&#x27;title&#x27;: &#x27;Ring Wandering&#x27;, &#x27;g…</td><td>[-0.012844, -0.001891, … -0.021231]</td></tr><tr><td>&quot;tt0123377&quot;</td><td>1943</td><td>4.8</td><td>&quot;{&#x27;title&#x27;: &#x27;Alt for karrieren&#x27;,…</td><td>[-0.055145, 0.007631, … -0.094466]</td></tr></tbody></table></div>"
      ],
      "text/plain": [
       "shape: (1_600, 5)\n",
       "┌────────────┬───────────┬───────────────┬────────────────────────────┬────────────────────────────┐\n",
       "│ tconst     ┆ startYear ┆ averageRating ┆ json                       ┆ embeds                     │\n",
       "│ ---        ┆ ---       ┆ ---           ┆ ---                        ┆ ---                        │\n",
       "│ str        ┆ i64       ┆ f64           ┆ str                        ┆ array[f32, 768]            │\n",
       "╞════════════╪═══════════╪═══════════════╪════════════════════════════╪════════════════════════════╡\n",
       "│ tt0171517  ┆ 1975      ┆ 6.2           ┆ {'title': 'Mechtat i       ┆ [-0.00642, -0.008363, …    │\n",
       "│            ┆           ┆               ┆ zhit', 'g…                 ┆ -0.095…                    │\n",
       "│ tt0034421  ┆ 1942      ┆ 7.1           ┆ {'title': 'A 2000 pengös   ┆ [-0.027937, 0.038252, …    │\n",
       "│            ┆           ┆               ┆ férfi…                     ┆ -0.067…                    │\n",
       "│ tt0989642  ┆ 2006      ┆ 5.6           ┆ {'title': 'Midnight        ┆ [-0.001267, 0.034308, …    │\n",
       "│            ┆           ┆               ┆ Running', …                ┆ -0.027…                    │\n",
       "│ tt0273692  ┆ 1980      ┆ 7.4           ┆ {'title': 'J.S. Brown, o   ┆ [-0.015184, 0.027515, …    │\n",
       "│            ┆           ┆               ┆ Últim…                     ┆ -0.077…                    │\n",
       "│ tt4470172  ┆ 2014      ┆ 5.6           ┆ {'title': 'Guruldayan      ┆ [-0.000246, 0.017736, …    │\n",
       "│            ┆           ┆               ┆ Kalpler'…                  ┆ -0.053…                    │\n",
       "│ …          ┆ …         ┆ …             ┆ …                          ┆ …                          │\n",
       "│ tt1326956  ┆ 2009      ┆ 8.1           ┆ {'title': 'Our Summer in   ┆ [-0.023254, 0.013627, …    │\n",
       "│            ┆           ┆               ┆ Tehra…                     ┆ -0.036…                    │\n",
       "│ tt0175092  ┆ 1982      ┆ 6.7           ┆ {'title': \"Puss 'n Boots\", ┆ [0.017054, 0.044542, …     │\n",
       "│            ┆           ┆               ┆ 'ge…                       ┆ -0.0760…                   │\n",
       "│ tt2739566  ┆ 1998      ┆ 7.1           ┆ {'title': 'Jungle Love     ┆ [-0.049089, 0.011179, …    │\n",
       "│            ┆           ┆               ┆ Story',…                   ┆ -0.030…                    │\n",
       "│ tt15485264 ┆ 2021      ┆ 7.0           ┆ {'title': 'Ring            ┆ [-0.012844, -0.001891, …   │\n",
       "│            ┆           ┆               ┆ Wandering', 'g…            ┆ -0.02…                     │\n",
       "│ tt0123377  ┆ 1943      ┆ 4.8           ┆ {'title': 'Alt for         ┆ [-0.055145, 0.007631, …    │\n",
       "│            ┆           ┆               ┆ karrieren',…               ┆ -0.094…                    │\n",
       "└────────────┴───────────┴───────────────┴────────────────────────────┴────────────────────────────┘"
      ]
     },
     "execution_count": 6,
     "metadata": {},
     "output_type": "execute_result"
    }
   ],
   "source": [
    "data_dir = \"/Users/maxwoolf/Downloads\"\n",
    "\n",
    "df = pl.read_parquet(os.path.join(data_dir, \"movie_embeds.parquet\"))\n",
    "df"
   ]
  },
  {
   "cell_type": "markdown",
   "metadata": {},
   "source": [
    "Extract out the components as numpy arrays for compatability.\n"
   ]
  },
  {
   "cell_type": "code",
   "execution_count": 7,
   "metadata": {},
   "outputs": [
    {
     "name": "stdout",
     "output_type": "stream",
     "text": [
      "(1600, 768)\n"
     ]
    }
   ],
   "source": [
    "embeds = df[\"embeds\"].to_numpy()\n",
    "print(embeds.shape)\n",
    "\n",
    "release_years = df[\"startYear\"].to_numpy()\n",
    "ratings = df[\"averageRating\"].to_numpy()"
   ]
  },
  {
   "cell_type": "markdown",
   "metadata": {},
   "source": [
    "Do a train-test split. Normally we stratify but sklearn will throw an error if a group is too small.\n"
   ]
  },
  {
   "cell_type": "code",
   "execution_count": 10,
   "metadata": {},
   "outputs": [
    {
     "data": {
      "text/plain": [
       "(1440, 768)"
      ]
     },
     "execution_count": 10,
     "metadata": {},
     "output_type": "execute_result"
    }
   ],
   "source": [
    "X_train, X_test, y_train, y_test = sklearn.model_selection.train_test_split(\n",
    "    embeds,\n",
    "    ratings,\n",
    "    test_size=0.1,\n",
    "    random_state=42,\n",
    "    # stratify=release_years\n",
    ")\n",
    "\n",
    "X_train.shape"
   ]
  },
  {
   "cell_type": "markdown",
   "metadata": {},
   "source": [
    "Test a simple OLS.\n"
   ]
  },
  {
   "cell_type": "code",
   "execution_count": 14,
   "metadata": {},
   "outputs": [
    {
     "data": {
      "text/plain": [
       "np.float64(1.664403998851776)"
      ]
     },
     "execution_count": 14,
     "metadata": {},
     "output_type": "execute_result"
    }
   ],
   "source": [
    "from sklearn.linear_model import LinearRegression\n",
    "\n",
    "model = LinearRegression()\n",
    "model.fit(X_train, y_train)\n",
    "\n",
    "y_pred = model.predict(X_test)\n",
    "mae = sklearn.metrics.mean_absolute_error(y_test, y_pred)\n",
    "mae"
   ]
  },
  {
   "cell_type": "markdown",
   "metadata": {},
   "source": [
    "## Start Grid Search\n",
    "\n",
    "- Create a parameter grid\n",
    "- Run sequentually since this will evenatually be on a single GPU.\n",
    "- Write the results ([time elapsed](https://stackoverflow.com/a/63232040), train MAE, test MAE) to a dict along with the metadata.\n",
    "- Load all the data into polars and save as parquet.\n",
    "\n",
    "Test with a Support Vector Machine since that has tweakable parameters.\n"
   ]
  },
  {
   "cell_type": "code",
   "execution_count": 81,
   "metadata": {},
   "outputs": [],
   "source": [
    "from tqdm.auto import tqdm\n",
    "from sklearn.svm import SVR\n",
    "import time\n",
    "import itertools\n",
    "import numpy as np"
   ]
  },
  {
   "cell_type": "code",
   "execution_count": 20,
   "metadata": {},
   "outputs": [
    {
     "data": {
      "text/plain": [
       "array([0.8, 0.9, 1. , 1.1])"
      ]
     },
     "execution_count": 20,
     "metadata": {},
     "output_type": "execute_result"
    }
   ],
   "source": [
    "np.arange(start=0.8, stop=1.2, step=0.1)"
   ]
  },
  {
   "cell_type": "markdown",
   "metadata": {},
   "source": [
    "Build the grid and [use numpy shenanigans](https://stackoverflow.com/a/35608701) to get all combinations of parameters.\n"
   ]
  },
  {
   "cell_type": "code",
   "execution_count": 71,
   "metadata": {},
   "outputs": [],
   "source": [
    "param_grid = {\n",
    "    \"C\": np.arange(start=0.8, stop=1.2, step=0.1),\n",
    "    \"epsilon\": np.arange(start=0.8, stop=1.2, step=0.1),\n",
    "}"
   ]
  },
  {
   "cell_type": "code",
   "execution_count": 72,
   "metadata": {},
   "outputs": [
    {
     "data": {
      "text/plain": [
       "[array([0.8, 0.9, 1. , 1.1]), array([0.8, 0.9, 1. , 1.1])]"
      ]
     },
     "execution_count": 72,
     "metadata": {},
     "output_type": "execute_result"
    }
   ],
   "source": [
    "list(param_grid.values())"
   ]
  },
  {
   "cell_type": "code",
   "execution_count": 73,
   "metadata": {},
   "outputs": [
    {
     "data": {
      "text/plain": [
       "array([[0.8, 0.8],\n",
       "       [0.8, 0.9],\n",
       "       [0.8, 1. ],\n",
       "       [0.8, 1.1],\n",
       "       [0.9, 0.8],\n",
       "       [0.9, 0.9],\n",
       "       [0.9, 1. ],\n",
       "       [0.9, 1.1],\n",
       "       [1. , 0.8],\n",
       "       [1. , 0.9],\n",
       "       [1. , 1. ],\n",
       "       [1. , 1.1],\n",
       "       [1.1, 0.8],\n",
       "       [1.1, 0.9],\n",
       "       [1.1, 1. ],\n",
       "       [1.1, 1.1]])"
      ]
     },
     "execution_count": 73,
     "metadata": {},
     "output_type": "execute_result"
    }
   ],
   "source": [
    "param_values = list(param_grid.values())\n",
    "\n",
    "combos = np.array(np.meshgrid(*param_values)).T.reshape(-1, len(param_values))\n",
    "combos"
   ]
  },
  {
   "cell_type": "markdown",
   "metadata": {},
   "source": [
    "[zip shenanigans](https://stackoverflow.com/a/33737067) to map back to a list of dicts.\n"
   ]
  },
  {
   "cell_type": "code",
   "execution_count": 74,
   "metadata": {},
   "outputs": [
    {
     "data": {
      "text/plain": [
       "[{'C': 0.8, 'epsilon': 0.8},\n",
       " {'C': 0.8, 'epsilon': 0.9},\n",
       " {'C': 0.8, 'epsilon': 1.0},\n",
       " {'C': 0.8, 'epsilon': 1.1},\n",
       " {'C': 0.9, 'epsilon': 0.8},\n",
       " {'C': 0.9, 'epsilon': 0.9},\n",
       " {'C': 0.9, 'epsilon': 1.0},\n",
       " {'C': 0.9, 'epsilon': 1.1},\n",
       " {'C': 1.0, 'epsilon': 0.8},\n",
       " {'C': 1.0, 'epsilon': 0.9},\n",
       " {'C': 1.0, 'epsilon': 1.0},\n",
       " {'C': 1.0, 'epsilon': 1.1},\n",
       " {'C': 1.1, 'epsilon': 0.8},\n",
       " {'C': 1.1, 'epsilon': 0.9},\n",
       " {'C': 1.1, 'epsilon': 1.0},\n",
       " {'C': 1.1, 'epsilon': 1.1}]"
      ]
     },
     "execution_count": 74,
     "metadata": {},
     "output_type": "execute_result"
    }
   ],
   "source": [
    "param_dicts = [\n",
    "    dict(zip(list(param_grid.keys()), combos[i].tolist()))\n",
    "    for i in range(combos.shape[0])\n",
    "]\n",
    "param_dicts"
   ]
  },
  {
   "cell_type": "markdown",
   "metadata": {},
   "source": [
    "Functionalize.\n"
   ]
  },
  {
   "cell_type": "code",
   "execution_count": 78,
   "metadata": {},
   "outputs": [
    {
     "data": {
      "text/plain": [
       "[{'C': 0.8, 'epsilon': 0.8},\n",
       " {'C': 0.8, 'epsilon': 0.9},\n",
       " {'C': 0.8, 'epsilon': 1.0},\n",
       " {'C': 0.8, 'epsilon': 1.1},\n",
       " {'C': 0.9, 'epsilon': 0.8}]"
      ]
     },
     "execution_count": 78,
     "metadata": {},
     "output_type": "execute_result"
    }
   ],
   "source": [
    "def build_grid_dict(param_grid):\n",
    "    param_values = list(param_grid.values())\n",
    "\n",
    "    combos = np.array(np.meshgrid(*param_values)).T.reshape(-1, len(param_values))\n",
    "    param_dicts = [\n",
    "        dict(zip(list(param_grid.keys()), combos[i].tolist()))\n",
    "        for i in range(combos.shape[0])\n",
    "    ]\n",
    "    return param_dicts\n",
    "\n",
    "\n",
    "param_grid = {\n",
    "    \"C\": np.arange(start=0.8, stop=1.2, step=0.1),\n",
    "    \"epsilon\": np.arange(start=0.8, stop=1.2, step=0.1),\n",
    "}\n",
    "\n",
    "build_grid_dict(param_grid)[:5]"
   ]
  },
  {
   "cell_type": "markdown",
   "metadata": {},
   "source": [
    "Do the grid search!\n"
   ]
  },
  {
   "cell_type": "code",
   "execution_count": 86,
   "metadata": {},
   "outputs": [],
   "source": [
    "def grid_search(model_class, param_grid, model_name=None):\n",
    "    param_dicts = build_grid_dict(param_grid)\n",
    "    result_dicts = []\n",
    "\n",
    "    for params in tqdm(param_dicts):\n",
    "        model = model_class(**params)  # fresh model instantiation each run\n",
    "\n",
    "        fit_start = time.time()\n",
    "        model.fit(X_train, y_train)\n",
    "        fit_end = time.time()\n",
    "\n",
    "        y_pred = model.predict(X_train)\n",
    "        train_mae = sklearn.metrics.mean_absolute_error(y_train, y_pred)\n",
    "\n",
    "        y_pred = model.predict(X_test)\n",
    "        test_mae = sklearn.metrics.mean_absolute_error(y_test, y_pred)\n",
    "\n",
    "        result_dicts.append(\n",
    "            {\n",
    "                \"model\": model_name if model_name else model_class.__name__,\n",
    "                \"params\": str(params),\n",
    "                \"fit_time_ms\": (fit_end - fit_start) * 1000,\n",
    "                \"train_mae\": train_mae,\n",
    "                \"test_mae\": test_mae,\n",
    "            }\n",
    "        )\n",
    "\n",
    "    return pl.from_dicts(result_dicts).sort(\"test_mae\")"
   ]
  },
  {
   "cell_type": "code",
   "execution_count": 87,
   "metadata": {},
   "outputs": [
    {
     "data": {
      "application/vnd.jupyter.widget-view+json": {
       "model_id": "d7744bfe09dd454da2bc890ada6a9dc4",
       "version_major": 2,
       "version_minor": 0
      },
      "text/plain": [
       "  0%|          | 0/16 [00:00<?, ?it/s]"
      ]
     },
     "metadata": {},
     "output_type": "display_data"
    },
    {
     "data": {
      "text/html": [
       "<div><style>\n",
       ".dataframe > thead > tr,\n",
       ".dataframe > tbody > tr {\n",
       "  text-align: right;\n",
       "  white-space: pre-wrap;\n",
       "}\n",
       "</style>\n",
       "<small>shape: (16, 5)</small><table border=\"1\" class=\"dataframe\"><thead><tr><th>model</th><th>params</th><th>fit_time_ms</th><th>train_mae</th><th>test_mae</th></tr><tr><td>str</td><td>str</td><td>f64</td><td>f64</td><td>f64</td></tr></thead><tbody><tr><td>&quot;Support Vector Regression&quot;</td><td>&quot;{&#x27;C&#x27;: 0.8, &#x27;epsilon&#x27;: 1.0}&quot;</td><td>96.53616</td><td>0.893894</td><td>1.020952</td></tr><tr><td>&quot;Support Vector Regression&quot;</td><td>&quot;{&#x27;C&#x27;: 0.9, &#x27;epsilon&#x27;: 1.0}&quot;</td><td>96.125364</td><td>0.884697</td><td>1.021613</td></tr><tr><td>&quot;Support Vector Regression&quot;</td><td>&quot;{&#x27;C&#x27;: 1.0, &#x27;epsilon&#x27;: 1.0}&quot;</td><td>96.932173</td><td>0.875689</td><td>1.021996</td></tr><tr><td>&quot;Support Vector Regression&quot;</td><td>&quot;{&#x27;C&#x27;: 1.1, &#x27;epsilon&#x27;: 1.0}&quot;</td><td>96.145153</td><td>0.867216</td><td>1.022721</td></tr><tr><td>&quot;Support Vector Regression&quot;</td><td>&quot;{&#x27;C&#x27;: 0.8, &#x27;epsilon&#x27;: 0.9}&quot;</td><td>106.952906</td><td>0.882155</td><td>1.023533</td></tr><tr><td>&hellip;</td><td>&hellip;</td><td>&hellip;</td><td>&hellip;</td><td>&hellip;</td></tr><tr><td>&quot;Support Vector Regression&quot;</td><td>&quot;{&#x27;C&#x27;: 0.8, &#x27;epsilon&#x27;: 1.1}&quot;</td><td>89.452982</td><td>0.905437</td><td>1.024911</td></tr><tr><td>&quot;Support Vector Regression&quot;</td><td>&quot;{&#x27;C&#x27;: 0.8, &#x27;epsilon&#x27;: 0.8}&quot;</td><td>144.553185</td><td>0.869848</td><td>1.025</td></tr><tr><td>&quot;Support Vector Regression&quot;</td><td>&quot;{&#x27;C&#x27;: 0.9, &#x27;epsilon&#x27;: 0.8}&quot;</td><td>117.764235</td><td>0.859347</td><td>1.025492</td></tr><tr><td>&quot;Support Vector Regression&quot;</td><td>&quot;{&#x27;C&#x27;: 1.0, &#x27;epsilon&#x27;: 0.8}&quot;</td><td>118.632317</td><td>0.849815</td><td>1.025896</td></tr><tr><td>&quot;Support Vector Regression&quot;</td><td>&quot;{&#x27;C&#x27;: 1.1, &#x27;epsilon&#x27;: 0.8}&quot;</td><td>117.902279</td><td>0.84064</td><td>1.026379</td></tr></tbody></table></div>"
      ],
      "text/plain": [
       "shape: (16, 5)\n",
       "┌───────────────────────────┬────────────────────────────┬─────────────┬───────────┬──────────┐\n",
       "│ model                     ┆ params                     ┆ fit_time_ms ┆ train_mae ┆ test_mae │\n",
       "│ ---                       ┆ ---                        ┆ ---         ┆ ---       ┆ ---      │\n",
       "│ str                       ┆ str                        ┆ f64         ┆ f64       ┆ f64      │\n",
       "╞═══════════════════════════╪════════════════════════════╪═════════════╪═══════════╪══════════╡\n",
       "│ Support Vector Regression ┆ {'C': 0.8, 'epsilon': 1.0} ┆ 96.53616    ┆ 0.893894  ┆ 1.020952 │\n",
       "│ Support Vector Regression ┆ {'C': 0.9, 'epsilon': 1.0} ┆ 96.125364   ┆ 0.884697  ┆ 1.021613 │\n",
       "│ Support Vector Regression ┆ {'C': 1.0, 'epsilon': 1.0} ┆ 96.932173   ┆ 0.875689  ┆ 1.021996 │\n",
       "│ Support Vector Regression ┆ {'C': 1.1, 'epsilon': 1.0} ┆ 96.145153   ┆ 0.867216  ┆ 1.022721 │\n",
       "│ Support Vector Regression ┆ {'C': 0.8, 'epsilon': 0.9} ┆ 106.952906  ┆ 0.882155  ┆ 1.023533 │\n",
       "│ …                         ┆ …                          ┆ …           ┆ …         ┆ …        │\n",
       "│ Support Vector Regression ┆ {'C': 0.8, 'epsilon': 1.1} ┆ 89.452982   ┆ 0.905437  ┆ 1.024911 │\n",
       "│ Support Vector Regression ┆ {'C': 0.8, 'epsilon': 0.8} ┆ 144.553185  ┆ 0.869848  ┆ 1.025    │\n",
       "│ Support Vector Regression ┆ {'C': 0.9, 'epsilon': 0.8} ┆ 117.764235  ┆ 0.859347  ┆ 1.025492 │\n",
       "│ Support Vector Regression ┆ {'C': 1.0, 'epsilon': 0.8} ┆ 118.632317  ┆ 0.849815  ┆ 1.025896 │\n",
       "│ Support Vector Regression ┆ {'C': 1.1, 'epsilon': 0.8} ┆ 117.902279  ┆ 0.84064   ┆ 1.026379 │\n",
       "└───────────────────────────┴────────────────────────────┴─────────────┴───────────┴──────────┘"
      ]
     },
     "execution_count": 87,
     "metadata": {},
     "output_type": "execute_result"
    }
   ],
   "source": [
    "grid_search(SVR, param_grid, \"Support Vector Regression\")"
   ]
  },
  {
   "cell_type": "markdown",
   "metadata": {},
   "source": [
    "Try a few more linear models.\n"
   ]
  },
  {
   "cell_type": "code",
   "execution_count": 89,
   "metadata": {},
   "outputs": [
    {
     "data": {
      "application/vnd.jupyter.widget-view+json": {
       "model_id": "b4daa7991f8e431793befd7ce2981ab9",
       "version_major": 2,
       "version_minor": 0
      },
      "text/plain": [
       "  0%|          | 0/15 [00:00<?, ?it/s]"
      ]
     },
     "metadata": {},
     "output_type": "display_data"
    },
    {
     "data": {
      "text/html": [
       "<div><style>\n",
       ".dataframe > thead > tr,\n",
       ".dataframe > tbody > tr {\n",
       "  text-align: right;\n",
       "  white-space: pre-wrap;\n",
       "}\n",
       "</style>\n",
       "<small>shape: (15, 5)</small><table border=\"1\" class=\"dataframe\"><thead><tr><th>model</th><th>params</th><th>fit_time_ms</th><th>train_mae</th><th>test_mae</th></tr><tr><td>str</td><td>str</td><td>f64</td><td>f64</td><td>f64</td></tr></thead><tbody><tr><td>&quot;Ridge Regression&quot;</td><td>&quot;{&#x27;alpha&#x27;: 1.4}&quot;</td><td>4.689932</td><td>0.907464</td><td>1.007352</td></tr><tr><td>&quot;Ridge Regression&quot;</td><td>&quot;{&#x27;alpha&#x27;: 1.4999999999999998}&quot;</td><td>4.497051</td><td>0.910158</td><td>1.007356</td></tr><tr><td>&quot;Ridge Regression&quot;</td><td>&quot;{&#x27;alpha&#x27;: 1.5999999999999996}&quot;</td><td>4.810095</td><td>0.912735</td><td>1.007394</td></tr><tr><td>&quot;Ridge Regression&quot;</td><td>&quot;{&#x27;alpha&#x27;: 1.2999999999999998}&quot;</td><td>4.54402</td><td>0.904625</td><td>1.007445</td></tr><tr><td>&quot;Ridge Regression&quot;</td><td>&quot;{&#x27;alpha&#x27;: 1.6999999999999997}&quot;</td><td>4.598856</td><td>0.915173</td><td>1.00759</td></tr><tr><td>&hellip;</td><td>&hellip;</td><td>&hellip;</td><td>&hellip;</td><td>&hellip;</td></tr><tr><td>&quot;Ridge Regression&quot;</td><td>&quot;{&#x27;alpha&#x27;: 0.8999999999999999}&quot;</td><td>4.359961</td><td>0.89137</td><td>1.009741</td></tr><tr><td>&quot;Ridge Regression&quot;</td><td>&quot;{&#x27;alpha&#x27;: 0.7999999999999999}&quot;</td><td>4.914999</td><td>0.887434</td><td>1.0115</td></tr><tr><td>&quot;Ridge Regression&quot;</td><td>&quot;{&#x27;alpha&#x27;: 0.7}&quot;</td><td>6.845951</td><td>0.883294</td><td>1.014101</td></tr><tr><td>&quot;Ridge Regression&quot;</td><td>&quot;{&#x27;alpha&#x27;: 0.6}&quot;</td><td>11.749744</td><td>0.87891</td><td>1.017183</td></tr><tr><td>&quot;Ridge Regression&quot;</td><td>&quot;{&#x27;alpha&#x27;: 0.5}&quot;</td><td>17.505646</td><td>0.874034</td><td>1.020901</td></tr></tbody></table></div>"
      ],
      "text/plain": [
       "shape: (15, 5)\n",
       "┌──────────────────┬───────────────────────────────┬─────────────┬───────────┬──────────┐\n",
       "│ model            ┆ params                        ┆ fit_time_ms ┆ train_mae ┆ test_mae │\n",
       "│ ---              ┆ ---                           ┆ ---         ┆ ---       ┆ ---      │\n",
       "│ str              ┆ str                           ┆ f64         ┆ f64       ┆ f64      │\n",
       "╞══════════════════╪═══════════════════════════════╪═════════════╪═══════════╪══════════╡\n",
       "│ Ridge Regression ┆ {'alpha': 1.4}                ┆ 4.689932    ┆ 0.907464  ┆ 1.007352 │\n",
       "│ Ridge Regression ┆ {'alpha': 1.4999999999999998} ┆ 4.497051    ┆ 0.910158  ┆ 1.007356 │\n",
       "│ Ridge Regression ┆ {'alpha': 1.5999999999999996} ┆ 4.810095    ┆ 0.912735  ┆ 1.007394 │\n",
       "│ Ridge Regression ┆ {'alpha': 1.2999999999999998} ┆ 4.54402     ┆ 0.904625  ┆ 1.007445 │\n",
       "│ Ridge Regression ┆ {'alpha': 1.6999999999999997} ┆ 4.598856    ┆ 0.915173  ┆ 1.00759  │\n",
       "│ …                ┆ …                             ┆ …           ┆ …         ┆ …        │\n",
       "│ Ridge Regression ┆ {'alpha': 0.8999999999999999} ┆ 4.359961    ┆ 0.89137   ┆ 1.009741 │\n",
       "│ Ridge Regression ┆ {'alpha': 0.7999999999999999} ┆ 4.914999    ┆ 0.887434  ┆ 1.0115   │\n",
       "│ Ridge Regression ┆ {'alpha': 0.7}                ┆ 6.845951    ┆ 0.883294  ┆ 1.014101 │\n",
       "│ Ridge Regression ┆ {'alpha': 0.6}                ┆ 11.749744   ┆ 0.87891   ┆ 1.017183 │\n",
       "│ Ridge Regression ┆ {'alpha': 0.5}                ┆ 17.505646   ┆ 0.874034  ┆ 1.020901 │\n",
       "└──────────────────┴───────────────────────────────┴─────────────┴───────────┴──────────┘"
      ]
     },
     "execution_count": 89,
     "metadata": {},
     "output_type": "execute_result"
    }
   ],
   "source": [
    "from sklearn.linear_model import Ridge\n",
    "\n",
    "param_grid = {\n",
    "    \"alpha\": np.arange(start=0.5, stop=2.0, step=0.1),\n",
    "}\n",
    "\n",
    "grid_search(Ridge, param_grid, \"Ridge Regression\")"
   ]
  },
  {
   "cell_type": "code",
   "execution_count": 90,
   "metadata": {},
   "outputs": [
    {
     "data": {
      "application/vnd.jupyter.widget-view+json": {
       "model_id": "d227e1482bf14f93ba33645db2842126",
       "version_major": 2,
       "version_minor": 0
      },
      "text/plain": [
       "  0%|          | 0/15 [00:00<?, ?it/s]"
      ]
     },
     "metadata": {},
     "output_type": "display_data"
    },
    {
     "data": {
      "text/html": [
       "<div><style>\n",
       ".dataframe > thead > tr,\n",
       ".dataframe > tbody > tr {\n",
       "  text-align: right;\n",
       "  white-space: pre-wrap;\n",
       "}\n",
       "</style>\n",
       "<small>shape: (15, 5)</small><table border=\"1\" class=\"dataframe\"><thead><tr><th>model</th><th>params</th><th>fit_time_ms</th><th>train_mae</th><th>test_mae</th></tr><tr><td>str</td><td>str</td><td>f64</td><td>f64</td><td>f64</td></tr></thead><tbody><tr><td>&quot;Lasso Regression&quot;</td><td>&quot;{&#x27;alpha&#x27;: 0.5}&quot;</td><td>4.85301</td><td>1.11784</td><td>1.15688</td></tr><tr><td>&quot;Lasso Regression&quot;</td><td>&quot;{&#x27;alpha&#x27;: 0.6}&quot;</td><td>4.200935</td><td>1.11784</td><td>1.15688</td></tr><tr><td>&quot;Lasso Regression&quot;</td><td>&quot;{&#x27;alpha&#x27;: 0.7}&quot;</td><td>4.968882</td><td>1.11784</td><td>1.15688</td></tr><tr><td>&quot;Lasso Regression&quot;</td><td>&quot;{&#x27;alpha&#x27;: 0.7999999999999999}&quot;</td><td>3.42989</td><td>1.11784</td><td>1.15688</td></tr><tr><td>&quot;Lasso Regression&quot;</td><td>&quot;{&#x27;alpha&#x27;: 0.8999999999999999}&quot;</td><td>5.286217</td><td>1.11784</td><td>1.15688</td></tr><tr><td>&hellip;</td><td>&hellip;</td><td>&hellip;</td><td>&hellip;</td><td>&hellip;</td></tr><tr><td>&quot;Lasso Regression&quot;</td><td>&quot;{&#x27;alpha&#x27;: 1.4999999999999998}&quot;</td><td>2.651215</td><td>1.11784</td><td>1.15688</td></tr><tr><td>&quot;Lasso Regression&quot;</td><td>&quot;{&#x27;alpha&#x27;: 1.5999999999999996}&quot;</td><td>2.414942</td><td>1.11784</td><td>1.15688</td></tr><tr><td>&quot;Lasso Regression&quot;</td><td>&quot;{&#x27;alpha&#x27;: 1.6999999999999997}&quot;</td><td>2.472162</td><td>1.11784</td><td>1.15688</td></tr><tr><td>&quot;Lasso Regression&quot;</td><td>&quot;{&#x27;alpha&#x27;: 1.7999999999999998}&quot;</td><td>2.363682</td><td>1.11784</td><td>1.15688</td></tr><tr><td>&quot;Lasso Regression&quot;</td><td>&quot;{&#x27;alpha&#x27;: 1.8999999999999997}&quot;</td><td>2.035856</td><td>1.11784</td><td>1.15688</td></tr></tbody></table></div>"
      ],
      "text/plain": [
       "shape: (15, 5)\n",
       "┌──────────────────┬───────────────────────────────┬─────────────┬───────────┬──────────┐\n",
       "│ model            ┆ params                        ┆ fit_time_ms ┆ train_mae ┆ test_mae │\n",
       "│ ---              ┆ ---                           ┆ ---         ┆ ---       ┆ ---      │\n",
       "│ str              ┆ str                           ┆ f64         ┆ f64       ┆ f64      │\n",
       "╞══════════════════╪═══════════════════════════════╪═════════════╪═══════════╪══════════╡\n",
       "│ Lasso Regression ┆ {'alpha': 0.5}                ┆ 4.85301     ┆ 1.11784   ┆ 1.15688  │\n",
       "│ Lasso Regression ┆ {'alpha': 0.6}                ┆ 4.200935    ┆ 1.11784   ┆ 1.15688  │\n",
       "│ Lasso Regression ┆ {'alpha': 0.7}                ┆ 4.968882    ┆ 1.11784   ┆ 1.15688  │\n",
       "│ Lasso Regression ┆ {'alpha': 0.7999999999999999} ┆ 3.42989     ┆ 1.11784   ┆ 1.15688  │\n",
       "│ Lasso Regression ┆ {'alpha': 0.8999999999999999} ┆ 5.286217    ┆ 1.11784   ┆ 1.15688  │\n",
       "│ …                ┆ …                             ┆ …           ┆ …         ┆ …        │\n",
       "│ Lasso Regression ┆ {'alpha': 1.4999999999999998} ┆ 2.651215    ┆ 1.11784   ┆ 1.15688  │\n",
       "│ Lasso Regression ┆ {'alpha': 1.5999999999999996} ┆ 2.414942    ┆ 1.11784   ┆ 1.15688  │\n",
       "│ Lasso Regression ┆ {'alpha': 1.6999999999999997} ┆ 2.472162    ┆ 1.11784   ┆ 1.15688  │\n",
       "│ Lasso Regression ┆ {'alpha': 1.7999999999999998} ┆ 2.363682    ┆ 1.11784   ┆ 1.15688  │\n",
       "│ Lasso Regression ┆ {'alpha': 1.8999999999999997} ┆ 2.035856    ┆ 1.11784   ┆ 1.15688  │\n",
       "└──────────────────┴───────────────────────────────┴─────────────┴───────────┴──────────┘"
      ]
     },
     "execution_count": 90,
     "metadata": {},
     "output_type": "execute_result"
    }
   ],
   "source": [
    "from sklearn.linear_model import Lasso\n",
    "\n",
    "param_grid = {\n",
    "    \"alpha\": np.arange(start=0.5, stop=2.0, step=0.1),\n",
    "}\n",
    "\n",
    "grid_search(Lasso, param_grid, \"Lasso Regression\")"
   ]
  },
  {
   "cell_type": "code",
   "execution_count": null,
   "metadata": {},
   "outputs": [],
   "source": [
    "from sklearn.linear_model import HuberRegressor\n",
    "\n",
    "param_grid = {\n",
    "    \"epsilon\": np.arange(start=1.0, stop=2.0, step=0.1),\n",
    "    \"alpha\": np.array([1e-4, 1e-3, 1e-2, 1e-1]),\n",
    "    \"max_iter\": np.array(1000),\n",
    "}\n",
    "\n",
    "grid_search(HuberRegressor, param_grid)"
   ]
  },
  {
   "cell_type": "code",
   "execution_count": null,
   "metadata": {},
   "outputs": [],
   "source": []
  }
 ],
 "metadata": {
  "kernelspec": {
   "display_name": ".venv",
   "language": "python",
   "name": "python3"
  },
  "language_info": {
   "codemirror_mode": {
    "name": "ipython",
    "version": 3
   },
   "file_extension": ".py",
   "mimetype": "text/x-python",
   "name": "python",
   "nbconvert_exporter": "python",
   "pygments_lexer": "ipython3",
   "version": "3.12.6"
  }
 },
 "nbformat": 4,
 "nbformat_minor": 2
}
