{
 "cells": [
  {
   "cell_type": "code",
   "execution_count": 1,
   "id": "a77258a8-5096-4bef-8637-2435482545a8",
   "metadata": {},
   "outputs": [],
   "source": [
    "#! uv pip install --extra-index-url=https://pypi.nvidia.com \"cudf-cu12==24.12.*\" \"cuml-cu12==24.12.*\""
   ]
  },
  {
   "cell_type": "code",
   "execution_count": 2,
   "id": "c56f29ad-5078-47a4-a098-2c963a3354cd",
   "metadata": {
    "tags": []
   },
   "outputs": [],
   "source": [
    "import polars as pl\n",
    "import numpy as np\n",
    "import cuml"
   ]
  },
  {
   "cell_type": "code",
   "execution_count": 3,
   "id": "d7642edc-2a7f-46c4-86ad-49c38b1eef06",
   "metadata": {
    "tags": []
   },
   "outputs": [
    {
     "data": {
      "text/html": [
       "<div><style>\n",
       ".dataframe > thead > tr,\n",
       ".dataframe > tbody > tr {\n",
       "  text-align: right;\n",
       "  white-space: pre-wrap;\n",
       "}\n",
       "</style>\n",
       "<small>shape: (238_628, 6)</small><table border=\"1\" class=\"dataframe\"><thead><tr><th>tconst</th><th>startYear</th><th>numVotes</th><th>averageRating</th><th>json</th><th>embedding</th></tr><tr><td>str</td><td>i64</td><td>i64</td><td>f64</td><td>str</td><td>array[f32, 768]</td></tr></thead><tbody><tr><td>&quot;tt0000009&quot;</td><td>1894</td><td>220</td><td>5.3</td><td>&quot;{\n",
       "&nbsp;&nbsp;&quot;title&quot;: &quot;Miss Jerry&quot;,\n",
       "&nbsp;&nbsp;&quot;…</td><td>[-0.007815, -0.022642, … 0.005391]</td></tr><tr><td>&quot;tt0000147&quot;</td><td>1897</td><td>549</td><td>5.3</td><td>&quot;{\n",
       "&nbsp;&nbsp;&quot;title&quot;: &quot;The Corbett-Fitz…</td><td>[0.012021, 0.014255, … -0.015754]</td></tr><tr><td>&quot;tt0000574&quot;</td><td>1906</td><td>971</td><td>6.0</td><td>&quot;{\n",
       "&nbsp;&nbsp;&quot;title&quot;: &quot;The Story of the…</td><td>[-0.010052, -0.015825, … 0.040161]</td></tr><tr><td>&quot;tt0000591&quot;</td><td>1907</td><td>30</td><td>5.6</td><td>&quot;{\n",
       "&nbsp;&nbsp;&quot;title&quot;: &quot;The Prodigal Son…</td><td>[0.00765, 0.019661, … -0.010763]</td></tr><tr><td>&quot;tt0000630&quot;</td><td>1908</td><td>30</td><td>3.1</td><td>&quot;{\n",
       "&nbsp;&nbsp;&quot;title&quot;: &quot;Hamlet&quot;,\n",
       "&nbsp;&nbsp;&quot;genr…</td><td>[0.03492, 0.00301, … 0.027586]</td></tr><tr><td>&hellip;</td><td>&hellip;</td><td>&hellip;</td><td>&hellip;</td><td>&hellip;</td><td>&hellip;</td></tr><tr><td>&quot;tt9915790&quot;</td><td>2019</td><td>44</td><td>7.0</td><td>&quot;{\n",
       "&nbsp;&nbsp;&quot;title&quot;: &quot;Bobbyr Bondhura&quot;…</td><td>[-0.008241, -0.024547, … -0.014563]</td></tr><tr><td>&quot;tt9916160&quot;</td><td>2019</td><td>52</td><td>6.2</td><td>&quot;{\n",
       "&nbsp;&nbsp;&quot;title&quot;: &quot;Drømmeland&quot;,\n",
       "&nbsp;&nbsp;&quot;…</td><td>[-0.014737, -0.035892, … 0.027569]</td></tr><tr><td>&quot;tt9916190&quot;</td><td>2020</td><td>262</td><td>3.6</td><td>&quot;{\n",
       "&nbsp;&nbsp;&quot;title&quot;: &quot;Safeguard&quot;,\n",
       "&nbsp;&nbsp;&quot;g…</td><td>[0.017858, -0.018587, … -0.007212]</td></tr><tr><td>&quot;tt9916270&quot;</td><td>2020</td><td>1501</td><td>5.8</td><td>&quot;{\n",
       "&nbsp;&nbsp;&quot;title&quot;: &quot;Il talento del c…</td><td>[0.02358, -0.024546, … 0.017486]</td></tr><tr><td>&quot;tt9916362&quot;</td><td>2020</td><td>6002</td><td>6.4</td><td>&quot;{\n",
       "&nbsp;&nbsp;&quot;title&quot;: &quot;Coven&quot;,\n",
       "&nbsp;&nbsp;&quot;genre…</td><td>[-0.014186, -0.014569, … 0.017407]</td></tr></tbody></table></div>"
      ],
      "text/plain": [
       "shape: (238_628, 6)\n",
       "┌───────────┬───────────┬──────────┬───────────────┬───────────────────────┬───────────────────────┐\n",
       "│ tconst    ┆ startYear ┆ numVotes ┆ averageRating ┆ json                  ┆ embedding             │\n",
       "│ ---       ┆ ---       ┆ ---      ┆ ---           ┆ ---                   ┆ ---                   │\n",
       "│ str       ┆ i64       ┆ i64      ┆ f64           ┆ str                   ┆ array[f32, 768]       │\n",
       "╞═══════════╪═══════════╪══════════╪═══════════════╪═══════════════════════╪═══════════════════════╡\n",
       "│ tt0000009 ┆ 1894      ┆ 220      ┆ 5.3           ┆ {                     ┆ [-0.007815,           │\n",
       "│           ┆           ┆          ┆               ┆ \"title\": \"Miss        ┆ -0.022642, … 0.005…   │\n",
       "│           ┆           ┆          ┆               ┆ Jerry\",               ┆                       │\n",
       "│           ┆           ┆          ┆               ┆   \"…                  ┆                       │\n",
       "│ tt0000147 ┆ 1897      ┆ 549      ┆ 5.3           ┆ {                     ┆ [0.012021, 0.014255,  │\n",
       "│           ┆           ┆          ┆               ┆ \"title\": \"The         ┆ … -0.0157…            │\n",
       "│           ┆           ┆          ┆               ┆ Corbett-Fitz…         ┆                       │\n",
       "│ tt0000574 ┆ 1906      ┆ 971      ┆ 6.0           ┆ {                     ┆ [-0.010052,           │\n",
       "│           ┆           ┆          ┆               ┆ \"title\": \"The Story   ┆ -0.015825, … 0.040…   │\n",
       "│           ┆           ┆          ┆               ┆ of the…               ┆                       │\n",
       "│ tt0000591 ┆ 1907      ┆ 30       ┆ 5.6           ┆ {                     ┆ [0.00765, 0.019661, … │\n",
       "│           ┆           ┆          ┆               ┆ \"title\": \"The         ┆ -0.01076…             │\n",
       "│           ┆           ┆          ┆               ┆ Prodigal Son…         ┆                       │\n",
       "│ tt0000630 ┆ 1908      ┆ 30       ┆ 3.1           ┆ {                     ┆ [0.03492, 0.00301, …  │\n",
       "│           ┆           ┆          ┆               ┆   \"title\": \"Hamlet\",  ┆ 0.027586]             │\n",
       "│           ┆           ┆          ┆               ┆   \"genr…              ┆                       │\n",
       "│ …         ┆ …         ┆ …        ┆ …             ┆ …                     ┆ …                     │\n",
       "│ tt9915790 ┆ 2019      ┆ 44       ┆ 7.0           ┆ {                     ┆ [-0.008241,           │\n",
       "│           ┆           ┆          ┆               ┆ \"title\": \"Bobbyr      ┆ -0.024547, … -0.01…   │\n",
       "│           ┆           ┆          ┆               ┆ Bondhura\"…            ┆                       │\n",
       "│ tt9916160 ┆ 2019      ┆ 52       ┆ 6.2           ┆ {                     ┆ [-0.014737,           │\n",
       "│           ┆           ┆          ┆               ┆ \"title\":              ┆ -0.035892, … 0.027…   │\n",
       "│           ┆           ┆          ┆               ┆ \"Drømmeland\",         ┆                       │\n",
       "│           ┆           ┆          ┆               ┆   \"…                  ┆                       │\n",
       "│ tt9916190 ┆ 2020      ┆ 262      ┆ 3.6           ┆ {                     ┆ [0.017858, -0.018587, │\n",
       "│           ┆           ┆          ┆               ┆ \"title\": \"Safeguard\", ┆ … -0.007…             │\n",
       "│           ┆           ┆          ┆               ┆   \"g…                 ┆                       │\n",
       "│ tt9916270 ┆ 2020      ┆ 1501     ┆ 5.8           ┆ {                     ┆ [0.02358, -0.024546,  │\n",
       "│           ┆           ┆          ┆               ┆ \"title\": \"Il talento  ┆ … 0.01748…            │\n",
       "│           ┆           ┆          ┆               ┆ del c…                ┆                       │\n",
       "│ tt9916362 ┆ 2020      ┆ 6002     ┆ 6.4           ┆ {                     ┆ [-0.014186,           │\n",
       "│           ┆           ┆          ┆               ┆   \"title\": \"Coven\",   ┆ -0.014569, … 0.017…   │\n",
       "│           ┆           ┆          ┆               ┆   \"genre…             ┆                       │\n",
       "└───────────┴───────────┴──────────┴───────────────┴───────────────────────┴───────────────────────┘"
      ]
     },
     "execution_count": 3,
     "metadata": {},
     "output_type": "execute_result"
    }
   ],
   "source": [
    "df = pl.read_parquet(\n",
    "    \"movie_data_plus_embeds_all.parquet\",\n",
    ")\n",
    "\n",
    "\n",
    "df"
   ]
  },
  {
   "cell_type": "code",
   "execution_count": 4,
   "id": "527eda8f-cc48-4f2f-9126-d7e4477a3262",
   "metadata": {
    "tags": []
   },
   "outputs": [
    {
     "data": {
      "text/plain": [
       "(238628, 768)"
      ]
     },
     "execution_count": 4,
     "metadata": {},
     "output_type": "execute_result"
    }
   ],
   "source": [
    "embeds = df[\"embedding\"].to_numpy()\n",
    "embeds.shape"
   ]
  },
  {
   "cell_type": "markdown",
   "id": "1417e742-dddd-479e-a815-31d6eb0be7e7",
   "metadata": {},
   "source": [
    "Workaround CUML UMAP bug: https://github.com/rapidsai/cuml/issues/5707#issuecomment-2618102235"
   ]
  },
  {
   "cell_type": "code",
   "execution_count": 5,
   "id": "67320cc0-4d34-48f5-94ba-dd05a2538a32",
   "metadata": {
    "tags": []
   },
   "outputs": [],
   "source": [
    "from cuml.manifold.umap import fuzzy_simplicial_set, simplicial_set_embedding\n",
    "from umap.spectral import spectral_layout\n",
    "from cuml.manifold.umap_utils import find_ab_params\n",
    "\n",
    "class UMAP:\n",
    "    def __init__(self, n_epochs, n_neighbors, n_components, min_dist=0.1, random_state=np.random.randint(1, 1000), verbose=False):\n",
    "        self.n_epochs = n_epochs\n",
    "        self.n_neighbors = n_neighbors\n",
    "        self.n_components = n_components\n",
    "        self.min_dist = min_dist\n",
    "        self.random_state = random_state\n",
    "        self.verbose = verbose\n",
    "\n",
    "\n",
    "        \n",
    "    def fit_transform(self, X):\n",
    "        graph = fuzzy_simplicial_set(X, \n",
    "                                     n_neighbors=self.n_neighbors, \n",
    "                                     random_state=self.random_state, \n",
    "                                     metric='euclidean', \n",
    "                                     verbose=self.verbose)\n",
    "        \n",
    "        layout = spectral_layout(X, graph.tocsr().get(), \n",
    "                                 dim=self.n_components, \n",
    "                                 random_state=self.random_state)\n",
    "        spread = 1.0\n",
    "        a, b = find_ab_params(spread, self.min_dist)\n",
    "        embedding = simplicial_set_embedding(X, graph, \n",
    "                                             init=layout,\n",
    "                                             a=a, b=b,\n",
    "                                             n_epochs=self.n_epochs,\n",
    "                                             n_components=self.n_components,\n",
    "                                             random_state=self.random_state, \n",
    "                                             verbose=self.verbose)\n",
    "        \n",
    "        return embedding\n"
   ]
  },
  {
   "cell_type": "code",
   "execution_count": 6,
   "id": "8a26790d-2743-4155-b2ca-764250e2bcbf",
   "metadata": {
    "tags": []
   },
   "outputs": [
    {
     "name": "stdout",
     "output_type": "stream",
     "text": [
      "CPU times: user 4min 54s, sys: 1min 10s, total: 6min 4s\n",
      "Wall time: 2min 12s\n"
     ]
    }
   ],
   "source": [
    "%%time\n",
    "output_dims = 2\n",
    "\n",
    "# umap_fitted = cuml.UMAP(random_state=None,\n",
    "#                         init=\"random\",\n",
    "#                         n_components=output_dims,\n",
    "#                         n_neighbors=2,\n",
    "#                         min_dist=0.1,\n",
    "#                         build_algo=\"nn_descent\",\n",
    "#                         n_epochs=500_000)\n",
    "\n",
    "umap_fitted = UMAP(n_components=output_dims,\n",
    "                        n_neighbors=30,\n",
    "                        min_dist=0.0,\n",
    "                        n_epochs=10_000)\n",
    "\n",
    "embeds_t = umap_fitted.fit_transform(embeds)\n",
    "# _ = umap_fitted.fit(embeds)"
   ]
  },
  {
   "cell_type": "code",
   "execution_count": 7,
   "id": "8c9b753c-9bf5-4fcf-bfb0-079d5fa5dc6e",
   "metadata": {
    "tags": []
   },
   "outputs": [
    {
     "data": {
      "text/plain": [
       "(238628, 2)"
      ]
     },
     "execution_count": 7,
     "metadata": {},
     "output_type": "execute_result"
    }
   ],
   "source": [
    "embeds_np = embeds_t.to_output().get()\n",
    "embeds_np.shape"
   ]
  },
  {
   "cell_type": "code",
   "execution_count": 8,
   "id": "1fec945c-d750-4f59-bcf5-31fd13a1d914",
   "metadata": {
    "tags": []
   },
   "outputs": [
    {
     "name": "stdout",
     "output_type": "stream",
     "text": [
      "-13.643234 1.1678486\n",
      "4.845169 19.638477\n"
     ]
    }
   ],
   "source": [
    "print(embeds_np[:, 0].min(), embeds_np[:, 0].max())\n",
    "print(embeds_np[:, 1].min(), embeds_np[:, 1].max())"
   ]
  },
  {
   "cell_type": "code",
   "execution_count": 9,
   "id": "60ac8f88-7127-4273-bd46-6441da8564f5",
   "metadata": {},
   "outputs": [
    {
     "name": "stdout",
     "output_type": "stream",
     "text": [
      "-8.503075 6.3080077\n",
      "-9.060875 5.7324333\n"
     ]
    }
   ],
   "source": [
    "x_centered = embeds_np[:, 0] - embeds_np[:, 0].mean()\n",
    "y_centered = embeds_np[:, 1] - embeds_np[:, 1].mean()\n",
    "\n",
    "print(x_centered.min(), x_centered.max())\n",
    "print(y_centered.min(), y_centered.max())"
   ]
  },
  {
   "cell_type": "code",
   "execution_count": 10,
   "id": "11573ce5-2c5e-4e53-a857-abdd4c466fde",
   "metadata": {
    "tags": []
   },
   "outputs": [
    {
     "data": {
      "text/html": [
       "<div><style>\n",
       ".dataframe > thead > tr,\n",
       ".dataframe > tbody > tr {\n",
       "  text-align: right;\n",
       "  white-space: pre-wrap;\n",
       "}\n",
       "</style>\n",
       "<small>shape: (238_628, 4)</small><table border=\"1\" class=\"dataframe\"><thead><tr><th>tconst</th><th>averageRating</th><th>x_2d</th><th>y_2d</th></tr><tr><td>str</td><td>f64</td><td>f32</td><td>f32</td></tr></thead><tbody><tr><td>&quot;tt0000009&quot;</td><td>5.3</td><td>5.200502</td><td>1.923615</td></tr><tr><td>&quot;tt0000147&quot;</td><td>5.3</td><td>5.155415</td><td>1.243568</td></tr><tr><td>&quot;tt0000574&quot;</td><td>6.0</td><td>5.139497</td><td>1.886518</td></tr><tr><td>&quot;tt0000591&quot;</td><td>5.6</td><td>2.645668</td><td>1.936699</td></tr><tr><td>&quot;tt0000630&quot;</td><td>3.1</td><td>3.535955</td><td>-0.061966</td></tr><tr><td>&hellip;</td><td>&hellip;</td><td>&hellip;</td><td>&hellip;</td></tr><tr><td>&quot;tt9915790&quot;</td><td>7.0</td><td>-5.629279</td><td>-4.07938</td></tr><tr><td>&quot;tt9916160&quot;</td><td>6.2</td><td>-1.883669</td><td>0.135609</td></tr><tr><td>&quot;tt9916190&quot;</td><td>3.6</td><td>0.422619</td><td>0.121901</td></tr><tr><td>&quot;tt9916270&quot;</td><td>5.8</td><td>-2.568947</td><td>-0.260567</td></tr><tr><td>&quot;tt9916362&quot;</td><td>6.4</td><td>-2.410132</td><td>-0.649974</td></tr></tbody></table></div>"
      ],
      "text/plain": [
       "shape: (238_628, 4)\n",
       "┌───────────┬───────────────┬───────────┬───────────┐\n",
       "│ tconst    ┆ averageRating ┆ x_2d      ┆ y_2d      │\n",
       "│ ---       ┆ ---           ┆ ---       ┆ ---       │\n",
       "│ str       ┆ f64           ┆ f32       ┆ f32       │\n",
       "╞═══════════╪═══════════════╪═══════════╪═══════════╡\n",
       "│ tt0000009 ┆ 5.3           ┆ 5.200502  ┆ 1.923615  │\n",
       "│ tt0000147 ┆ 5.3           ┆ 5.155415  ┆ 1.243568  │\n",
       "│ tt0000574 ┆ 6.0           ┆ 5.139497  ┆ 1.886518  │\n",
       "│ tt0000591 ┆ 5.6           ┆ 2.645668  ┆ 1.936699  │\n",
       "│ tt0000630 ┆ 3.1           ┆ 3.535955  ┆ -0.061966 │\n",
       "│ …         ┆ …             ┆ …         ┆ …         │\n",
       "│ tt9915790 ┆ 7.0           ┆ -5.629279 ┆ -4.07938  │\n",
       "│ tt9916160 ┆ 6.2           ┆ -1.883669 ┆ 0.135609  │\n",
       "│ tt9916190 ┆ 3.6           ┆ 0.422619  ┆ 0.121901  │\n",
       "│ tt9916270 ┆ 5.8           ┆ -2.568947 ┆ -0.260567 │\n",
       "│ tt9916362 ┆ 6.4           ┆ -2.410132 ┆ -0.649974 │\n",
       "└───────────┴───────────────┴───────────┴───────────┘"
      ]
     },
     "execution_count": 10,
     "metadata": {},
     "output_type": "execute_result"
    }
   ],
   "source": [
    "df_embeds = (df\n",
    "    .select([\"tconst\", \"averageRating\"])\n",
    "    .with_columns(\n",
    "        x_2d=x_centered,\n",
    "        y_2d=y_centered,\n",
    "    )\n",
    ")\n",
    "\n",
    "df_embeds"
   ]
  },
  {
   "cell_type": "code",
   "execution_count": 11,
   "id": "f317e0cb-1218-416c-a4c3-6d377285e915",
   "metadata": {
    "tags": []
   },
   "outputs": [],
   "source": [
    "df_embeds.write_parquet(\"imdb_embeddings_2d.parquet\")"
   ]
  },
  {
   "cell_type": "code",
   "execution_count": null,
   "id": "678f3887-bb65-4575-8918-c4e3ea1a218d",
   "metadata": {},
   "outputs": [],
   "source": []
  }
 ],
 "metadata": {
  "environment": {
   "kernel": "python3",
   "name": "common-cu124.m126",
   "type": "gcloud",
   "uri": "us-docker.pkg.dev/deeplearning-platform-release/gcr.io/base-cu124:m126"
  },
  "kernelspec": {
   "display_name": "Python 3",
   "language": "python",
   "name": "python3"
  },
  "language_info": {
   "codemirror_mode": {
    "name": "ipython",
    "version": 3
   },
   "file_extension": ".py",
   "mimetype": "text/x-python",
   "name": "python",
   "nbconvert_exporter": "python",
   "pygments_lexer": "ipython3",
   "version": "3.10.15"
  }
 },
 "nbformat": 4,
 "nbformat_minor": 5
}
