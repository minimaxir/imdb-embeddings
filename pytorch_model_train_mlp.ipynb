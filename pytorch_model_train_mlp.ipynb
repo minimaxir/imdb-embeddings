{
 "cells": [
  {
   "cell_type": "markdown",
   "metadata": {},
   "source": [
    "## PyTorch Training\n",
    "\n",
    "Uses the Trainer included in Hugging Face `transformers` (backed by `accelerate`) since it mitigates a lot of annoying boilerplate.\n"
   ]
  },
  {
   "cell_type": "code",
   "execution_count": 1,
   "metadata": {
    "tags": []
   },
   "outputs": [],
   "source": [
    "import polars as pl\n",
    "import torch\n",
    "import torch.nn as nn\n",
    "import torch.nn.functional as F\n",
    "from torch.utils.data import TensorDataset\n",
    "from transformers import Trainer, TrainingArguments\n",
    "from transformers.trainer_callback import TrainerCallback"
   ]
  },
  {
   "cell_type": "code",
   "execution_count": 2,
   "metadata": {
    "tags": []
   },
   "outputs": [
    {
     "data": {
      "text/html": [
       "<div><style>\n",
       ".dataframe > thead > tr,\n",
       ".dataframe > tbody > tr {\n",
       "  text-align: right;\n",
       "  white-space: pre-wrap;\n",
       "}\n",
       "</style>\n",
       "<small>shape: (242_552, 3)</small><table border=\"1\" class=\"dataframe\"><thead><tr><th>tconst</th><th>averageRating</th><th>embedding</th></tr><tr><td>str</td><td>f32</td><td>array[f32, 768]</td></tr></thead><tbody><tr><td>&quot;tt0173052&quot;</td><td>4.1</td><td>[0.046187, 0.006053, … 0.011911]</td></tr><tr><td>&quot;tt0266288&quot;</td><td>7.4</td><td>[-0.004875, -0.046969, … 0.017516]</td></tr><tr><td>&quot;tt6263490&quot;</td><td>4.3</td><td>[0.005363, -0.018672, … 0.015112]</td></tr><tr><td>&quot;tt10049110&quot;</td><td>7.8</td><td>[-0.009997, -0.029303, … 0.037793]</td></tr><tr><td>&quot;tt5761612&quot;</td><td>3.8</td><td>[0.020259, -0.031869, … -0.01841]</td></tr><tr><td>&hellip;</td><td>&hellip;</td><td>&hellip;</td></tr><tr><td>&quot;tt0079376&quot;</td><td>6.2</td><td>[0.062672, -0.009446, … 0.019441]</td></tr><tr><td>&quot;tt1161064&quot;</td><td>3.2</td><td>[0.022779, 0.053063, … -0.009691]</td></tr><tr><td>&quot;tt0179526&quot;</td><td>5.7</td><td>[0.001937, 0.003111, … -0.002453]</td></tr><tr><td>&quot;tt0188233&quot;</td><td>5.7</td><td>[0.03125, 0.013802, … 0.009849]</td></tr><tr><td>&quot;tt0082518&quot;</td><td>5.8</td><td>[-0.00382, -0.022576, … 0.00969]</td></tr></tbody></table></div>"
      ],
      "text/plain": [
       "shape: (242_552, 3)\n",
       "┌────────────┬───────────────┬─────────────────────────────────┐\n",
       "│ tconst     ┆ averageRating ┆ embedding                       │\n",
       "│ ---        ┆ ---           ┆ ---                             │\n",
       "│ str        ┆ f32           ┆ array[f32, 768]                 │\n",
       "╞════════════╪═══════════════╪═════════════════════════════════╡\n",
       "│ tt0173052  ┆ 4.1           ┆ [0.046187, 0.006053, … 0.01191… │\n",
       "│ tt0266288  ┆ 7.4           ┆ [-0.004875, -0.046969, … 0.017… │\n",
       "│ tt6263490  ┆ 4.3           ┆ [0.005363, -0.018672, … 0.0151… │\n",
       "│ tt10049110 ┆ 7.8           ┆ [-0.009997, -0.029303, … 0.037… │\n",
       "│ tt5761612  ┆ 3.8           ┆ [0.020259, -0.031869, … -0.018… │\n",
       "│ …          ┆ …             ┆ …                               │\n",
       "│ tt0079376  ┆ 6.2           ┆ [0.062672, -0.009446, … 0.0194… │\n",
       "│ tt1161064  ┆ 3.2           ┆ [0.022779, 0.053063, … -0.0096… │\n",
       "│ tt0179526  ┆ 5.7           ┆ [0.001937, 0.003111, … -0.0024… │\n",
       "│ tt0188233  ┆ 5.7           ┆ [0.03125, 0.013802, … 0.009849… │\n",
       "│ tt0082518  ┆ 5.8           ┆ [-0.00382, -0.022576, … 0.0096… │\n",
       "└────────────┴───────────────┴─────────────────────────────────┘"
      ]
     },
     "execution_count": 2,
     "metadata": {},
     "output_type": "execute_result"
    }
   ],
   "source": [
    "df = (\n",
    "    pl.scan_parquet(\n",
    "        \"movie_data_plus_embeds_all.parquet\"\n",
    "    )\n",
    "    .select([\"tconst\", \"averageRating\", \"embedding\"])\n",
    "    .with_columns(averageRating=pl.col(\"averageRating\").cast(pl.Float32))\n",
    "    .collect()\n",
    "    .sample(fraction=1.0, shuffle=True, seed=42)\n",
    ")\n",
    "\n",
    "df"
   ]
  },
  {
   "cell_type": "code",
   "execution_count": 3,
   "metadata": {
    "tags": []
   },
   "outputs": [
    {
     "data": {
      "text/plain": [
       "tensor([4.1000, 7.4000, 4.3000,  ..., 6.4000, 6.0000, 6.5000], device='cuda:0')"
      ]
     },
     "execution_count": 3,
     "metadata": {},
     "output_type": "execute_result"
    }
   ],
   "source": [
    "device = \"cuda:0\"\n",
    "n_test = 20000\n",
    "\n",
    "X_train = torch.from_numpy(df[:-n_test][\"embedding\"].to_numpy().copy()).to(device)\n",
    "X_test = torch.from_numpy(df[-n_test:][\"embedding\"].to_numpy().copy()).to(device)\n",
    "\n",
    "y_train = torch.from_numpy(df[:-n_test][\"averageRating\"].to_numpy().copy()).to(device)\n",
    "y_test = torch.from_numpy(df[-n_test:][\"averageRating\"].to_numpy().copy()).to(device)\n",
    "\n",
    "y_train"
   ]
  },
  {
   "cell_type": "code",
   "execution_count": 4,
   "metadata": {
    "tags": []
   },
   "outputs": [],
   "source": [
    "train_dataset = TensorDataset(X_train, y_train)\n",
    "test_dataset = TensorDataset(X_test, y_test)"
   ]
  },
  {
   "cell_type": "code",
   "execution_count": 5,
   "metadata": {
    "tags": []
   },
   "outputs": [],
   "source": [
    "class RatingsModel(nn.Module):\n",
    "    def __init__(self):\n",
    "        super().__init__()\n",
    "        self.linear_1 = nn.Linear(768, 1536)\n",
    "        self.linear_2 = nn.Linear(1536, 768)\n",
    "        self.output = nn.Linear(768, 1)\n",
    "\n",
    "    def forward(self, x, targets=None):\n",
    "        x = F.gelu(self.linear_1(x))\n",
    "        x = F.gelu(self.linear_2(x))\n",
    "        x = self.output(x)\n",
    "\n",
    "        return x.squeeze()  # return 1D output"
   ]
  },
  {
   "cell_type": "code",
   "execution_count": 6,
   "metadata": {
    "tags": []
   },
   "outputs": [
    {
     "data": {
      "text/plain": [
       "RatingsModel(\n",
       "  (linear_1): Linear(in_features=768, out_features=1536, bias=True)\n",
       "  (linear_2): Linear(in_features=1536, out_features=768, bias=True)\n",
       "  (output): Linear(in_features=768, out_features=1, bias=True)\n",
       ")"
      ]
     },
     "execution_count": 6,
     "metadata": {},
     "output_type": "execute_result"
    }
   ],
   "source": [
    "model = RatingsModel()\n",
    "_ = model.to(device)\n",
    "model"
   ]
  },
  {
   "cell_type": "markdown",
   "metadata": {},
   "source": [
    "Validation loss doesn't play nice with the `Trainer` out of the boss, so need [some tweaks](https://discuss.huggingface.co/t/no-log-for-validation-loss-during-training-with-trainer/40094/3).\n"
   ]
  },
  {
   "cell_type": "code",
   "execution_count": 7,
   "metadata": {
    "tags": []
   },
   "outputs": [],
   "source": [
    "def collate_fn(examples):\n",
    "    inputs = torch.stack([f[0] for f in examples])\n",
    "    targets = torch.stack([f[1] for f in examples])\n",
    "\n",
    "    return {\"x\": inputs, \"targets\": targets}\n",
    "\n",
    "\n",
    "class MAETrainer(Trainer):\n",
    "    def compute_loss(self, model, inputs, return_outputs=False, num_items_in_batch=0):\n",
    "        outputs = model(**inputs)\n",
    "        loss = nn.L1Loss()(outputs, inputs[\"targets\"])  # L1 loss is MAE\n",
    "\n",
    "        return (loss, outputs) if return_outputs else loss\n"
   ]
  },
  {
   "cell_type": "code",
   "execution_count": 12,
   "metadata": {
    "tags": []
   },
   "outputs": [],
   "source": [
    "training_args = TrainingArguments(\n",
    "    learning_rate=1e-2,\n",
    "    lr_scheduler_type=\"cosine\",\n",
    "    per_device_train_batch_size=4096,\n",
    "    per_device_eval_batch_size=4096,\n",
    "    num_train_epochs=40,\n",
    "    weight_decay=0.001,\n",
    "    save_strategy=\"no\",\n",
    "    eval_strategy=\"steps\",\n",
    "    eval_steps=0.05,\n",
    "    logging_strategy=\"steps\",\n",
    "    logging_steps=0.05,\n",
    "    fp16=True,\n",
    "    dataloader_num_workers=0,  # since data is in memory\n",
    "    dataloader_pin_memory=False,\n",
    "    dataloader_persistent_workers=False,\n",
    ")\n",
    "\n",
    "# reinstantiate a clean model\n",
    "model = RatingsModel()\n",
    "_ = model.to(device)\n",
    "\n",
    "trainer = MAETrainer(\n",
    "    model,\n",
    "    training_args,\n",
    "    train_dataset=train_dataset,\n",
    "    eval_dataset=test_dataset,\n",
    "    data_collator=collate_fn,\n",
    ")\n",
    "\n",
    "trainer.can_return_loss = True"
   ]
  },
  {
   "cell_type": "code",
   "execution_count": 13,
   "metadata": {
    "tags": []
   },
   "outputs": [
    {
     "data": {
      "text/html": [
       "\n",
       "    <div>\n",
       "      \n",
       "      <progress value='2200' max='2200' style='width:300px; height:20px; vertical-align: middle;'></progress>\n",
       "      [2200/2200 01:51, Epoch 40/40]\n",
       "    </div>\n",
       "    <table border=\"1\" class=\"dataframe\">\n",
       "  <thead>\n",
       " <tr style=\"text-align: left;\">\n",
       "      <th>Step</th>\n",
       "      <th>Training Loss</th>\n",
       "      <th>Validation Loss</th>\n",
       "    </tr>\n",
       "  </thead>\n",
       "  <tbody>\n",
       "    <tr>\n",
       "      <td>110</td>\n",
       "      <td>3.305700</td>\n",
       "      <td>0.910890</td>\n",
       "    </tr>\n",
       "    <tr>\n",
       "      <td>220</td>\n",
       "      <td>0.964800</td>\n",
       "      <td>0.939981</td>\n",
       "    </tr>\n",
       "    <tr>\n",
       "      <td>330</td>\n",
       "      <td>0.934500</td>\n",
       "      <td>0.837674</td>\n",
       "    </tr>\n",
       "    <tr>\n",
       "      <td>440</td>\n",
       "      <td>0.900500</td>\n",
       "      <td>0.826436</td>\n",
       "    </tr>\n",
       "    <tr>\n",
       "      <td>550</td>\n",
       "      <td>0.906300</td>\n",
       "      <td>0.872799</td>\n",
       "    </tr>\n",
       "    <tr>\n",
       "      <td>660</td>\n",
       "      <td>0.850900</td>\n",
       "      <td>0.816579</td>\n",
       "    </tr>\n",
       "    <tr>\n",
       "      <td>770</td>\n",
       "      <td>0.848100</td>\n",
       "      <td>0.822054</td>\n",
       "    </tr>\n",
       "    <tr>\n",
       "      <td>880</td>\n",
       "      <td>0.851000</td>\n",
       "      <td>0.863146</td>\n",
       "    </tr>\n",
       "    <tr>\n",
       "      <td>990</td>\n",
       "      <td>0.852900</td>\n",
       "      <td>0.807504</td>\n",
       "    </tr>\n",
       "    <tr>\n",
       "      <td>1100</td>\n",
       "      <td>0.824800</td>\n",
       "      <td>0.798917</td>\n",
       "    </tr>\n",
       "    <tr>\n",
       "      <td>1210</td>\n",
       "      <td>0.815000</td>\n",
       "      <td>0.794920</td>\n",
       "    </tr>\n",
       "    <tr>\n",
       "      <td>1320</td>\n",
       "      <td>0.803500</td>\n",
       "      <td>0.795721</td>\n",
       "    </tr>\n",
       "    <tr>\n",
       "      <td>1430</td>\n",
       "      <td>0.798200</td>\n",
       "      <td>0.803090</td>\n",
       "    </tr>\n",
       "    <tr>\n",
       "      <td>1540</td>\n",
       "      <td>0.793200</td>\n",
       "      <td>0.786739</td>\n",
       "    </tr>\n",
       "    <tr>\n",
       "      <td>1650</td>\n",
       "      <td>0.784500</td>\n",
       "      <td>0.784778</td>\n",
       "    </tr>\n",
       "    <tr>\n",
       "      <td>1760</td>\n",
       "      <td>0.779600</td>\n",
       "      <td>0.785947</td>\n",
       "    </tr>\n",
       "    <tr>\n",
       "      <td>1870</td>\n",
       "      <td>0.776600</td>\n",
       "      <td>0.782735</td>\n",
       "    </tr>\n",
       "    <tr>\n",
       "      <td>1980</td>\n",
       "      <td>0.773500</td>\n",
       "      <td>0.782233</td>\n",
       "    </tr>\n",
       "    <tr>\n",
       "      <td>2090</td>\n",
       "      <td>0.772000</td>\n",
       "      <td>0.782112</td>\n",
       "    </tr>\n",
       "    <tr>\n",
       "      <td>2200</td>\n",
       "      <td>0.771500</td>\n",
       "      <td>0.782162</td>\n",
       "    </tr>\n",
       "  </tbody>\n",
       "</table><p>"
      ],
      "text/plain": [
       "<IPython.core.display.HTML object>"
      ]
     },
     "metadata": {},
     "output_type": "display_data"
    },
    {
     "data": {
      "text/plain": [
       "TrainOutput(global_step=2200, training_loss=0.9553426118330522, metrics={'train_runtime': 111.2626, 'train_samples_per_second': 80009.602, 'train_steps_per_second': 19.773, 'total_flos': 0.0, 'train_loss': 0.9553426118330522, 'epoch': 40.0})"
      ]
     },
     "execution_count": 13,
     "metadata": {},
     "output_type": "execute_result"
    }
   ],
   "source": [
    "trainer.train()"
   ]
  },
  {
   "cell_type": "code",
   "execution_count": 14,
   "metadata": {
    "tags": []
   },
   "outputs": [
    {
     "data": {
      "text/html": [
       "\n",
       "    <div>\n",
       "      \n",
       "      <progress value='5' max='5' style='width:300px; height:20px; vertical-align: middle;'></progress>\n",
       "      [5/5 00:00]\n",
       "    </div>\n",
       "    "
      ],
      "text/plain": [
       "<IPython.core.display.HTML object>"
      ]
     },
     "metadata": {},
     "output_type": "display_data"
    },
    {
     "data": {
      "text/plain": [
       "{'eval_loss': 0.7821616530418396,\n",
       " 'eval_runtime': 0.1714,\n",
       " 'eval_samples_per_second': 116713.991,\n",
       " 'eval_steps_per_second': 29.178,\n",
       " 'epoch': 40.0}"
      ]
     },
     "execution_count": 14,
     "metadata": {},
     "output_type": "execute_result"
    }
   ],
   "source": [
    "trainer.evaluate(test_dataset)"
   ]
  },
  {
   "cell_type": "markdown",
   "metadata": {},
   "source": [
    "## Test Model\n"
   ]
  },
  {
   "cell_type": "code",
   "execution_count": 15,
   "metadata": {
    "tags": []
   },
   "outputs": [
    {
     "data": {
      "text/html": [
       "<div><style>\n",
       ".dataframe > thead > tr,\n",
       ".dataframe > tbody > tr {\n",
       "  text-align: right;\n",
       "  white-space: pre-wrap;\n",
       "}\n",
       "</style>\n",
       "<small>shape: (10, 3)</small><table border=\"1\" class=\"dataframe\"><thead><tr><th>Predicted</th><th>Actual</th><th>abs_diff</th></tr><tr><td>f32</td><td>f32</td><td>f32</td></tr></thead><tbody><tr><td>6.96875</td><td>7.1</td><td>0.13</td></tr><tr><td>6.359375</td><td>6.5</td><td>0.14</td></tr><tr><td>5.4296875</td><td>4.1</td><td>1.33</td></tr><tr><td>4.953125</td><td>5.5</td><td>0.55</td></tr><tr><td>7.082031</td><td>7.2</td><td>0.12</td></tr><tr><td>5.3671875</td><td>6.4</td><td>1.03</td></tr><tr><td>6.734375</td><td>8.3</td><td>1.57</td></tr><tr><td>6.199219</td><td>6.3</td><td>0.1</td></tr><tr><td>6.2578125</td><td>5.4</td><td>0.86</td></tr><tr><td>5.574219</td><td>4.0</td><td>1.57</td></tr></tbody></table></div>"
      ],
      "text/plain": [
       "shape: (10, 3)\n",
       "┌───────────┬────────┬──────────┐\n",
       "│ Predicted ┆ Actual ┆ abs_diff │\n",
       "│ ---       ┆ ---    ┆ ---      │\n",
       "│ f32       ┆ f32    ┆ f32      │\n",
       "╞═══════════╪════════╪══════════╡\n",
       "│ 6.96875   ┆ 7.1    ┆ 0.13     │\n",
       "│ 6.359375  ┆ 6.5    ┆ 0.14     │\n",
       "│ 5.4296875 ┆ 4.1    ┆ 1.33     │\n",
       "│ 4.953125  ┆ 5.5    ┆ 0.55     │\n",
       "│ 7.082031  ┆ 7.2    ┆ 0.12     │\n",
       "│ 5.3671875 ┆ 6.4    ┆ 1.03     │\n",
       "│ 6.734375  ┆ 8.3    ┆ 1.57     │\n",
       "│ 6.199219  ┆ 6.3    ┆ 0.1      │\n",
       "│ 6.2578125 ┆ 5.4    ┆ 0.86     │\n",
       "│ 5.574219  ┆ 4.0    ┆ 1.57     │\n",
       "└───────────┴────────┴──────────┘"
      ]
     },
     "execution_count": 15,
     "metadata": {},
     "output_type": "execute_result"
    }
   ],
   "source": [
    "_ = model.to(device)\n",
    "eval_dataset = test_dataset[0:10]\n",
    "\n",
    "with torch.no_grad():\n",
    "    output = model(x=eval_dataset[0])\n",
    "    preds = output.detach().cpu().numpy()\n",
    "\n",
    "pl.DataFrame({\"Predicted\": preds, \"Actual\": eval_dataset[1].cpu().numpy()}).with_columns(\n",
    "    abs_diff=(pl.col(\"Predicted\") - pl.col(\"Actual\")).abs().round(2)\n",
    ")"
   ]
  },
  {
   "cell_type": "code",
   "execution_count": null,
   "metadata": {},
   "outputs": [],
   "source": []
  }
 ],
 "metadata": {
  "environment": {
   "kernel": "python3",
   "name": "common-cu123.m129",
   "type": "gcloud",
   "uri": "us-docker.pkg.dev/deeplearning-platform-release/gcr.io/base-cu123:m129"
  },
  "kernelspec": {
   "display_name": "Python 3",
   "language": "python",
   "name": "python3"
  },
  "language_info": {
   "codemirror_mode": {
    "name": "ipython",
    "version": 3
   },
   "file_extension": ".py",
   "mimetype": "text/x-python",
   "name": "python",
   "nbconvert_exporter": "python",
   "pygments_lexer": "ipython3",
   "version": "3.10.17"
  }
 },
 "nbformat": 4,
 "nbformat_minor": 4
}
