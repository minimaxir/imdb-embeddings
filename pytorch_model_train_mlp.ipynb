{
 "cells": [
  {
   "cell_type": "markdown",
   "metadata": {},
   "source": [
    "## PyTorch Training\n",
    "\n",
    "Uses the Trainer included in Hugging Face `transformers` (backed by `accelerate`) since it mitigates a lot of annoying boilerplate.\n"
   ]
  },
  {
   "cell_type": "code",
   "execution_count": 1,
   "metadata": {
    "tags": []
   },
   "outputs": [],
   "source": [
    "import os\n",
    "import polars as pl\n",
    "import torch\n",
    "import torch.nn as nn\n",
    "import torch.nn.functional as F\n",
    "from torch.utils.data import TensorDataset\n",
    "from transformers import Trainer, TrainingArguments\n",
    "from transformers.trainer_callback import TrainerCallback"
   ]
  },
  {
   "cell_type": "code",
   "execution_count": 2,
   "metadata": {
    "tags": []
   },
   "outputs": [
    {
     "data": {
      "text/html": [
       "<div><style>\n",
       ".dataframe > thead > tr,\n",
       ".dataframe > tbody > tr {\n",
       "  text-align: right;\n",
       "  white-space: pre-wrap;\n",
       "}\n",
       "</style>\n",
       "<small>shape: (242_552, 3)</small><table border=\"1\" class=\"dataframe\"><thead><tr><th>tconst</th><th>averageRating</th><th>embedding</th></tr><tr><td>str</td><td>f32</td><td>array[f32, 768]</td></tr></thead><tbody><tr><td>&quot;tt0173052&quot;</td><td>4.1</td><td>[0.046187, 0.006053, … 0.011911]</td></tr><tr><td>&quot;tt0266288&quot;</td><td>7.4</td><td>[-0.004875, -0.046969, … 0.017516]</td></tr><tr><td>&quot;tt6263490&quot;</td><td>4.3</td><td>[0.005363, -0.018672, … 0.015112]</td></tr><tr><td>&quot;tt10049110&quot;</td><td>7.8</td><td>[-0.009997, -0.029303, … 0.037793]</td></tr><tr><td>&quot;tt5761612&quot;</td><td>3.8</td><td>[0.020259, -0.031869, … -0.01841]</td></tr><tr><td>&hellip;</td><td>&hellip;</td><td>&hellip;</td></tr><tr><td>&quot;tt0079376&quot;</td><td>6.2</td><td>[0.062672, -0.009446, … 0.019441]</td></tr><tr><td>&quot;tt1161064&quot;</td><td>3.2</td><td>[0.022779, 0.053063, … -0.009691]</td></tr><tr><td>&quot;tt0179526&quot;</td><td>5.7</td><td>[0.001937, 0.003111, … -0.002453]</td></tr><tr><td>&quot;tt0188233&quot;</td><td>5.7</td><td>[0.03125, 0.013802, … 0.009849]</td></tr><tr><td>&quot;tt0082518&quot;</td><td>5.8</td><td>[-0.00382, -0.022576, … 0.00969]</td></tr></tbody></table></div>"
      ],
      "text/plain": [
       "shape: (242_552, 3)\n",
       "┌────────────┬───────────────┬─────────────────────────────────┐\n",
       "│ tconst     ┆ averageRating ┆ embedding                       │\n",
       "│ ---        ┆ ---           ┆ ---                             │\n",
       "│ str        ┆ f32           ┆ array[f32, 768]                 │\n",
       "╞════════════╪═══════════════╪═════════════════════════════════╡\n",
       "│ tt0173052  ┆ 4.1           ┆ [0.046187, 0.006053, … 0.01191… │\n",
       "│ tt0266288  ┆ 7.4           ┆ [-0.004875, -0.046969, … 0.017… │\n",
       "│ tt6263490  ┆ 4.3           ┆ [0.005363, -0.018672, … 0.0151… │\n",
       "│ tt10049110 ┆ 7.8           ┆ [-0.009997, -0.029303, … 0.037… │\n",
       "│ tt5761612  ┆ 3.8           ┆ [0.020259, -0.031869, … -0.018… │\n",
       "│ …          ┆ …             ┆ …                               │\n",
       "│ tt0079376  ┆ 6.2           ┆ [0.062672, -0.009446, … 0.0194… │\n",
       "│ tt1161064  ┆ 3.2           ┆ [0.022779, 0.053063, … -0.0096… │\n",
       "│ tt0179526  ┆ 5.7           ┆ [0.001937, 0.003111, … -0.0024… │\n",
       "│ tt0188233  ┆ 5.7           ┆ [0.03125, 0.013802, … 0.009849… │\n",
       "│ tt0082518  ┆ 5.8           ┆ [-0.00382, -0.022576, … 0.0096… │\n",
       "└────────────┴───────────────┴─────────────────────────────────┘"
      ]
     },
     "execution_count": 2,
     "metadata": {},
     "output_type": "execute_result"
    }
   ],
   "source": [
    "df = (\n",
    "    pl.scan_parquet(\n",
    "        \"movie_data_plus_embeds_all.parquet\"\n",
    "    )\n",
    "    .select([\"tconst\", \"averageRating\", \"embedding\"])\n",
    "    .with_columns(averageRating=pl.col(\"averageRating\").cast(pl.Float32))\n",
    "    .collect()\n",
    "    .sample(fraction=1.0, shuffle=True, seed=42)\n",
    ")\n",
    "\n",
    "df"
   ]
  },
  {
   "cell_type": "code",
   "execution_count": 3,
   "metadata": {
    "tags": []
   },
   "outputs": [
    {
     "data": {
      "text/plain": [
       "tensor([4.1000, 7.4000, 4.3000,  ..., 6.4000, 6.0000, 6.5000])"
      ]
     },
     "execution_count": 3,
     "metadata": {},
     "output_type": "execute_result"
    }
   ],
   "source": [
    "device = \"cpu\"\n",
    "n_test = 20000\n",
    "\n",
    "X_train = torch.from_numpy(df[:-n_test][\"embedding\"].to_numpy().copy()).to(device)\n",
    "X_test = torch.from_numpy(df[-n_test:][\"embedding\"].to_numpy().copy()).to(device)\n",
    "\n",
    "y_train = torch.from_numpy(df[:-n_test][\"averageRating\"].to_numpy().copy()).to(device)\n",
    "y_test = torch.from_numpy(df[-n_test:][\"averageRating\"].to_numpy().copy()).to(device)\n",
    "\n",
    "y_train"
   ]
  },
  {
   "cell_type": "code",
   "execution_count": 4,
   "metadata": {
    "tags": []
   },
   "outputs": [],
   "source": [
    "train_dataset = TensorDataset(X_train, y_train)\n",
    "test_dataset = TensorDataset(X_test, y_test)"
   ]
  },
  {
   "cell_type": "code",
   "execution_count": 5,
   "metadata": {
    "tags": []
   },
   "outputs": [],
   "source": [
    "class RatingsModel(nn.Module):\n",
    "    def __init__(self, linear_dims=256, num_layers=6):\n",
    "        super().__init__()\n",
    "        \n",
    "        dims = [768] + [linear_dims] * num_layers\n",
    "        self.mlp = nn.ModuleList([\n",
    "            nn.Sequential(\n",
    "                nn.Linear(dims[i], dims[i+1]),\n",
    "                nn.GELU(),\n",
    "                nn.BatchNorm1d(dims[i+1]),\n",
    "                nn.Dropout(0.6)\n",
    "            ) for i in range(len(dims)-1)\n",
    "        ])\n",
    "        \n",
    "        self.output = nn.Linear(dims[-1], 1)\n",
    "\n",
    "    def forward(self, x, targets=None):\n",
    "        for layer in self.mlp:\n",
    "            x = layer(x)\n",
    "\n",
    "        return self.output(x).squeeze()  # return 1D output"
   ]
  },
  {
   "cell_type": "code",
   "execution_count": 6,
   "metadata": {
    "tags": []
   },
   "outputs": [
    {
     "data": {
      "text/plain": [
       "RatingsModel(\n",
       "  (mlp): ModuleList(\n",
       "    (0): Sequential(\n",
       "      (0): Linear(in_features=768, out_features=256, bias=True)\n",
       "      (1): GELU(approximate='none')\n",
       "      (2): BatchNorm1d(256, eps=1e-05, momentum=0.1, affine=True, track_running_stats=True)\n",
       "      (3): Dropout(p=0.6, inplace=False)\n",
       "    )\n",
       "    (1-5): 5 x Sequential(\n",
       "      (0): Linear(in_features=256, out_features=256, bias=True)\n",
       "      (1): GELU(approximate='none')\n",
       "      (2): BatchNorm1d(256, eps=1e-05, momentum=0.1, affine=True, track_running_stats=True)\n",
       "      (3): Dropout(p=0.6, inplace=False)\n",
       "    )\n",
       "  )\n",
       "  (output): Linear(in_features=256, out_features=1, bias=True)\n",
       ")"
      ]
     },
     "execution_count": 6,
     "metadata": {},
     "output_type": "execute_result"
    }
   ],
   "source": [
    "model = RatingsModel()\n",
    "_ = model.to(device)\n",
    "model"
   ]
  },
  {
   "cell_type": "code",
   "execution_count": 7,
   "metadata": {
    "tags": []
   },
   "outputs": [
    {
     "data": {
      "text/plain": [
       "529153"
      ]
     },
     "execution_count": 7,
     "metadata": {},
     "output_type": "execute_result"
    }
   ],
   "source": [
    "total_params = sum(p.numel() for p in model.parameters())\n",
    "total_params"
   ]
  },
  {
   "cell_type": "markdown",
   "metadata": {},
   "source": [
    "Validation loss doesn't play nice with the `Trainer` out of the boss, so need [some tweaks](https://discuss.huggingface.co/t/no-log-for-validation-loss-during-training-with-trainer/40094/3).\n"
   ]
  },
  {
   "cell_type": "code",
   "execution_count": 8,
   "metadata": {
    "tags": []
   },
   "outputs": [],
   "source": [
    "def collate_fn(examples):\n",
    "    inputs = torch.stack([f[0] for f in examples])\n",
    "    targets = torch.stack([f[1] for f in examples])\n",
    "\n",
    "    return {\"x\": inputs, \"targets\": targets}\n",
    "\n",
    "\n",
    "class RegressionTrainer(Trainer):\n",
    "    def compute_loss(self, model, inputs, return_outputs=False, num_items_in_batch=0):\n",
    "        outputs = model(**inputs)\n",
    "        # loss = nn.L1Loss()(outputs, inputs[\"targets\"])  # L1 loss is MAE\n",
    "        loss = nn.MSELoss()(outputs, inputs[\"targets\"])\n",
    "\n",
    "        return (loss, outputs) if return_outputs else loss\n"
   ]
  },
  {
   "cell_type": "code",
   "execution_count": 9,
   "metadata": {
    "tags": []
   },
   "outputs": [],
   "source": [
    "training_args = TrainingArguments(\n",
    "    learning_rate=2e-3,\n",
    "    lr_scheduler_type=\"cosine_with_restarts\",\n",
    "    per_device_train_batch_size=4096,\n",
    "    per_device_eval_batch_size=4096,\n",
    "    num_train_epochs=600,\n",
    "    weight_decay=0.001,\n",
    "    save_strategy=\"no\",\n",
    "    eval_strategy=\"steps\",\n",
    "    eval_steps=0.05,\n",
    "    logging_strategy=\"steps\",\n",
    "    logging_steps=0.05,\n",
    "    fp16=False,  # do not need memory savings\n",
    "    dataloader_num_workers=os.cpu_count(),  # since big batches\n",
    "    dataloader_pin_memory=True,\n",
    "    dataloader_persistent_workers=True,\n",
    ")\n",
    "\n",
    "# reinstantiate a clean model\n",
    "model = RatingsModel()\n",
    "_ = model.to('cuda:0')\n",
    "\n",
    "trainer = RegressionTrainer(\n",
    "    model,\n",
    "    training_args,\n",
    "    train_dataset=train_dataset,\n",
    "    eval_dataset=test_dataset,\n",
    "    data_collator=collate_fn,\n",
    ")\n",
    "\n",
    "trainer.can_return_loss = True"
   ]
  },
  {
   "cell_type": "code",
   "execution_count": 10,
   "metadata": {
    "tags": []
   },
   "outputs": [
    {
     "data": {
      "text/html": [
       "\n",
       "    <div>\n",
       "      \n",
       "      <progress value='33000' max='33000' style='width:300px; height:20px; vertical-align: middle;'></progress>\n",
       "      [33000/33000 17:32, Epoch 600/600]\n",
       "    </div>\n",
       "    <table border=\"1\" class=\"dataframe\">\n",
       "  <thead>\n",
       " <tr style=\"text-align: left;\">\n",
       "      <th>Step</th>\n",
       "      <th>Training Loss</th>\n",
       "      <th>Validation Loss</th>\n",
       "    </tr>\n",
       "  </thead>\n",
       "  <tbody>\n",
       "    <tr>\n",
       "      <td>1650</td>\n",
       "      <td>2.647900</td>\n",
       "      <td>1.107229</td>\n",
       "    </tr>\n",
       "    <tr>\n",
       "      <td>3300</td>\n",
       "      <td>1.206500</td>\n",
       "      <td>1.074908</td>\n",
       "    </tr>\n",
       "    <tr>\n",
       "      <td>4950</td>\n",
       "      <td>1.097500</td>\n",
       "      <td>1.080159</td>\n",
       "    </tr>\n",
       "    <tr>\n",
       "      <td>6600</td>\n",
       "      <td>1.030300</td>\n",
       "      <td>1.080287</td>\n",
       "    </tr>\n",
       "    <tr>\n",
       "      <td>8250</td>\n",
       "      <td>0.988900</td>\n",
       "      <td>1.075464</td>\n",
       "    </tr>\n",
       "    <tr>\n",
       "      <td>9900</td>\n",
       "      <td>0.962400</td>\n",
       "      <td>1.081126</td>\n",
       "    </tr>\n",
       "    <tr>\n",
       "      <td>11550</td>\n",
       "      <td>0.941200</td>\n",
       "      <td>1.079353</td>\n",
       "    </tr>\n",
       "    <tr>\n",
       "      <td>13200</td>\n",
       "      <td>0.925600</td>\n",
       "      <td>1.078243</td>\n",
       "    </tr>\n",
       "    <tr>\n",
       "      <td>14850</td>\n",
       "      <td>0.911500</td>\n",
       "      <td>1.080965</td>\n",
       "    </tr>\n",
       "    <tr>\n",
       "      <td>16500</td>\n",
       "      <td>0.900200</td>\n",
       "      <td>1.078170</td>\n",
       "    </tr>\n",
       "    <tr>\n",
       "      <td>18150</td>\n",
       "      <td>0.890000</td>\n",
       "      <td>1.074815</td>\n",
       "    </tr>\n",
       "    <tr>\n",
       "      <td>19800</td>\n",
       "      <td>0.881500</td>\n",
       "      <td>1.079803</td>\n",
       "    </tr>\n",
       "    <tr>\n",
       "      <td>21450</td>\n",
       "      <td>0.873600</td>\n",
       "      <td>1.080525</td>\n",
       "    </tr>\n",
       "    <tr>\n",
       "      <td>23100</td>\n",
       "      <td>0.865400</td>\n",
       "      <td>1.074966</td>\n",
       "    </tr>\n",
       "    <tr>\n",
       "      <td>24750</td>\n",
       "      <td>0.860200</td>\n",
       "      <td>1.073517</td>\n",
       "    </tr>\n",
       "    <tr>\n",
       "      <td>26400</td>\n",
       "      <td>0.854700</td>\n",
       "      <td>1.076313</td>\n",
       "    </tr>\n",
       "    <tr>\n",
       "      <td>28050</td>\n",
       "      <td>0.851300</td>\n",
       "      <td>1.076577</td>\n",
       "    </tr>\n",
       "    <tr>\n",
       "      <td>29700</td>\n",
       "      <td>0.848500</td>\n",
       "      <td>1.076120</td>\n",
       "    </tr>\n",
       "    <tr>\n",
       "      <td>31350</td>\n",
       "      <td>0.846900</td>\n",
       "      <td>1.077029</td>\n",
       "    </tr>\n",
       "    <tr>\n",
       "      <td>33000</td>\n",
       "      <td>0.846300</td>\n",
       "      <td>1.077160</td>\n",
       "    </tr>\n",
       "  </tbody>\n",
       "</table><p>"
      ],
      "text/plain": [
       "<IPython.core.display.HTML object>"
      ]
     },
     "metadata": {},
     "output_type": "display_data"
    },
    {
     "data": {
      "text/plain": [
       "TrainOutput(global_step=33000, training_loss=1.011518858013731, metrics={'train_runtime': 1053.8327, 'train_samples_per_second': 126710.061, 'train_steps_per_second': 31.314, 'total_flos': 0.0, 'train_loss': 1.011518858013731, 'epoch': 600.0})"
      ]
     },
     "execution_count": 10,
     "metadata": {},
     "output_type": "execute_result"
    }
   ],
   "source": [
    "trainer.train()"
   ]
  },
  {
   "cell_type": "markdown",
   "metadata": {},
   "source": [
    "Write logs as a parquet for later visualization. The steps logged match what's above, although the evals are a separate item and need to be consolidated (annoyingly)."
   ]
  },
  {
   "cell_type": "code",
   "execution_count": 11,
   "metadata": {
    "tags": []
   },
   "outputs": [
    {
     "data": {
      "text/plain": [
       "[{'loss': 2.6479,\n",
       "  'grad_norm': 0.6344577074050903,\n",
       "  'learning_rate': 0.001987703228645653,\n",
       "  'epoch': 30.0,\n",
       "  'step': 1650},\n",
       " {'eval_loss': 1.1072291135787964,\n",
       "  'eval_runtime': 0.2394,\n",
       "  'eval_samples_per_second': 83536.563,\n",
       "  'eval_steps_per_second': 20.884,\n",
       "  'epoch': 30.0,\n",
       "  'step': 1650},\n",
       " {'loss': 1.2065,\n",
       "  'grad_norm': 0.6202744841575623,\n",
       "  'learning_rate': 0.0019510859303344694,\n",
       "  'epoch': 60.0,\n",
       "  'step': 3300},\n",
       " {'eval_loss': 1.0749081373214722,\n",
       "  'eval_runtime': 0.2262,\n",
       "  'eval_samples_per_second': 88416.823,\n",
       "  'eval_steps_per_second': 22.104,\n",
       "  'epoch': 60.0,\n",
       "  'step': 3300}]"
      ]
     },
     "execution_count": 11,
     "metadata": {},
     "output_type": "execute_result"
    }
   ],
   "source": [
    "logs = trainer.state.log_history\n",
    "\n",
    "logs[0:4]"
   ]
  },
  {
   "cell_type": "code",
   "execution_count": 12,
   "metadata": {
    "tags": []
   },
   "outputs": [
    {
     "data": {
      "text/html": [
       "<div><style>\n",
       ".dataframe > thead > tr,\n",
       ".dataframe > tbody > tr {\n",
       "  text-align: right;\n",
       "  white-space: pre-wrap;\n",
       "}\n",
       "</style>\n",
       "<small>shape: (20, 9)</small><table border=\"1\" class=\"dataframe\"><thead><tr><th>loss</th><th>grad_norm</th><th>learning_rate</th><th>epoch</th><th>step</th><th>eval_loss</th><th>eval_runtime</th><th>eval_samples_per_second</th><th>eval_steps_per_second</th></tr><tr><td>f64</td><td>f64</td><td>f64</td><td>f64</td><td>i64</td><td>f64</td><td>f64</td><td>f64</td><td>f64</td></tr></thead><tbody><tr><td>2.6479</td><td>0.634458</td><td>0.001988</td><td>30.0</td><td>1650</td><td>1.107229</td><td>0.2394</td><td>83536.563</td><td>20.884</td></tr><tr><td>1.2065</td><td>0.620274</td><td>0.001951</td><td>60.0</td><td>3300</td><td>1.074908</td><td>0.2262</td><td>88416.823</td><td>22.104</td></tr><tr><td>1.0975</td><td>0.613231</td><td>0.001891</td><td>90.0</td><td>4950</td><td>1.080159</td><td>0.2245</td><td>89090.478</td><td>22.273</td></tr><tr><td>1.0303</td><td>0.621995</td><td>0.001809</td><td>120.0</td><td>6600</td><td>1.080287</td><td>0.2353</td><td>85005.518</td><td>21.251</td></tr><tr><td>0.9889</td><td>0.567169</td><td>0.001707</td><td>150.0</td><td>8250</td><td>1.075464</td><td>0.2322</td><td>86147.804</td><td>21.537</td></tr><tr><td>&hellip;</td><td>&hellip;</td><td>&hellip;</td><td>&hellip;</td><td>&hellip;</td><td>&hellip;</td><td>&hellip;</td><td>&hellip;</td><td>&hellip;</td></tr><tr><td>0.8547</td><td>0.725208</td><td>0.000191</td><td>480.0</td><td>26400</td><td>1.076313</td><td>0.259</td><td>77206.413</td><td>19.302</td></tr><tr><td>0.8513</td><td>0.688252</td><td>0.000109</td><td>510.0</td><td>28050</td><td>1.076577</td><td>0.2517</td><td>79453.301</td><td>19.863</td></tr><tr><td>0.8485</td><td>0.604255</td><td>0.000049</td><td>540.0</td><td>29700</td><td>1.07612</td><td>0.2603</td><td>76838.879</td><td>19.21</td></tr><tr><td>0.8469</td><td>0.752364</td><td>0.000012</td><td>570.0</td><td>31350</td><td>1.077029</td><td>0.5154</td><td>38802.286</td><td>9.701</td></tr><tr><td>0.8463</td><td>0.582389</td><td>4.5315e-12</td><td>600.0</td><td>33000</td><td>1.07716</td><td>0.6992</td><td>28603.83</td><td>7.151</td></tr></tbody></table></div>"
      ],
      "text/plain": [
       "shape: (20, 9)\n",
       "┌────────┬───────────┬─────────────┬───────┬───┬───────────┬─────────────┬────────────┬────────────┐\n",
       "│ loss   ┆ grad_norm ┆ learning_ra ┆ epoch ┆ … ┆ eval_loss ┆ eval_runtim ┆ eval_sampl ┆ eval_steps │\n",
       "│ ---    ┆ ---       ┆ te          ┆ ---   ┆   ┆ ---       ┆ e           ┆ es_per_sec ┆ _per_secon │\n",
       "│ f64    ┆ f64       ┆ ---         ┆ f64   ┆   ┆ f64       ┆ ---         ┆ ond        ┆ d          │\n",
       "│        ┆           ┆ f64         ┆       ┆   ┆           ┆ f64         ┆ ---        ┆ ---        │\n",
       "│        ┆           ┆             ┆       ┆   ┆           ┆             ┆ f64        ┆ f64        │\n",
       "╞════════╪═══════════╪═════════════╪═══════╪═══╪═══════════╪═════════════╪════════════╪════════════╡\n",
       "│ 2.6479 ┆ 0.634458  ┆ 0.001988    ┆ 30.0  ┆ … ┆ 1.107229  ┆ 0.2394      ┆ 83536.563  ┆ 20.884     │\n",
       "│ 1.2065 ┆ 0.620274  ┆ 0.001951    ┆ 60.0  ┆ … ┆ 1.074908  ┆ 0.2262      ┆ 88416.823  ┆ 22.104     │\n",
       "│ 1.0975 ┆ 0.613231  ┆ 0.001891    ┆ 90.0  ┆ … ┆ 1.080159  ┆ 0.2245      ┆ 89090.478  ┆ 22.273     │\n",
       "│ 1.0303 ┆ 0.621995  ┆ 0.001809    ┆ 120.0 ┆ … ┆ 1.080287  ┆ 0.2353      ┆ 85005.518  ┆ 21.251     │\n",
       "│ 0.9889 ┆ 0.567169  ┆ 0.001707    ┆ 150.0 ┆ … ┆ 1.075464  ┆ 0.2322      ┆ 86147.804  ┆ 21.537     │\n",
       "│ …      ┆ …         ┆ …           ┆ …     ┆ … ┆ …         ┆ …           ┆ …          ┆ …          │\n",
       "│ 0.8547 ┆ 0.725208  ┆ 0.000191    ┆ 480.0 ┆ … ┆ 1.076313  ┆ 0.259       ┆ 77206.413  ┆ 19.302     │\n",
       "│ 0.8513 ┆ 0.688252  ┆ 0.000109    ┆ 510.0 ┆ … ┆ 1.076577  ┆ 0.2517      ┆ 79453.301  ┆ 19.863     │\n",
       "│ 0.8485 ┆ 0.604255  ┆ 0.000049    ┆ 540.0 ┆ … ┆ 1.07612   ┆ 0.2603      ┆ 76838.879  ┆ 19.21      │\n",
       "│ 0.8469 ┆ 0.752364  ┆ 0.000012    ┆ 570.0 ┆ … ┆ 1.077029  ┆ 0.5154      ┆ 38802.286  ┆ 9.701      │\n",
       "│ 0.8463 ┆ 0.582389  ┆ 4.5315e-12  ┆ 600.0 ┆ … ┆ 1.07716   ┆ 0.6992      ┆ 28603.83   ┆ 7.151      │\n",
       "└────────┴───────────┴─────────────┴───────┴───┴───────────┴─────────────┴────────────┴────────────┘"
      ]
     },
     "execution_count": 12,
     "metadata": {},
     "output_type": "execute_result"
    }
   ],
   "source": [
    "logs_consolidated = []\n",
    "i = 0\n",
    "while i < len(logs)-1:\n",
    "    base_log = logs[i]\n",
    "    base_log.update(logs[i+1])\n",
    "    logs_consolidated.append(base_log)\n",
    "    i += 2\n",
    "    \n",
    "df_logs = pl.DataFrame(logs_consolidated).sort(\"epoch\")\n",
    "df_logs.write_parquet(\"mlp_train_logs.parquet\")\n",
    "df_logs"
   ]
  },
  {
   "cell_type": "markdown",
   "metadata": {},
   "source": [
    "Save the model weights, which is the artifact we would use to hypothetically deploy the model to production."
   ]
  },
  {
   "cell_type": "code",
   "execution_count": 13,
   "metadata": {
    "tags": []
   },
   "outputs": [],
   "source": [
    "from safetensors.torch import save_model\n",
    "\n",
    "save_model(model, \"imdb_embeddings_mlp.safetensors\")"
   ]
  },
  {
   "cell_type": "markdown",
   "metadata": {},
   "source": [
    "## Test Model\n"
   ]
  },
  {
   "cell_type": "code",
   "execution_count": 14,
   "metadata": {
    "tags": []
   },
   "outputs": [
    {
     "data": {
      "text/html": [
       "<div><style>\n",
       ".dataframe > thead > tr,\n",
       ".dataframe > tbody > tr {\n",
       "  text-align: right;\n",
       "  white-space: pre-wrap;\n",
       "}\n",
       "</style>\n",
       "<small>shape: (20_000, 4)</small><table border=\"1\" class=\"dataframe\"><thead><tr><th>Predicted</th><th>Actual</th><th>abs_diff</th><th>square_error</th></tr><tr><td>f32</td><td>f32</td><td>f32</td><td>f32</td></tr></thead><tbody><tr><td>7.114032</td><td>7.1</td><td>0.014032</td><td>0.000197</td></tr><tr><td>6.102827</td><td>6.5</td><td>0.397173</td><td>0.157746</td></tr><tr><td>3.916766</td><td>4.1</td><td>0.183233</td><td>0.033575</td></tr><tr><td>5.002928</td><td>5.5</td><td>0.497072</td><td>0.24708</td></tr><tr><td>6.98966</td><td>7.2</td><td>0.21034</td><td>0.044243</td></tr><tr><td>&hellip;</td><td>&hellip;</td><td>&hellip;</td><td>&hellip;</td></tr><tr><td>6.425658</td><td>6.2</td><td>0.225658</td><td>0.050922</td></tr><tr><td>6.200366</td><td>3.2</td><td>3.000366</td><td>9.002196</td></tr><tr><td>6.106409</td><td>5.7</td><td>0.406409</td><td>0.165168</td></tr><tr><td>5.889222</td><td>5.7</td><td>0.189222</td><td>0.035805</td></tr><tr><td>5.183763</td><td>5.8</td><td>0.616238</td><td>0.379749</td></tr></tbody></table></div>"
      ],
      "text/plain": [
       "shape: (20_000, 4)\n",
       "┌───────────┬────────┬──────────┬──────────────┐\n",
       "│ Predicted ┆ Actual ┆ abs_diff ┆ square_error │\n",
       "│ ---       ┆ ---    ┆ ---      ┆ ---          │\n",
       "│ f32       ┆ f32    ┆ f32      ┆ f32          │\n",
       "╞═══════════╪════════╪══════════╪══════════════╡\n",
       "│ 7.114032  ┆ 7.1    ┆ 0.014032 ┆ 0.000197     │\n",
       "│ 6.102827  ┆ 6.5    ┆ 0.397173 ┆ 0.157746     │\n",
       "│ 3.916766  ┆ 4.1    ┆ 0.183233 ┆ 0.033575     │\n",
       "│ 5.002928  ┆ 5.5    ┆ 0.497072 ┆ 0.24708      │\n",
       "│ 6.98966   ┆ 7.2    ┆ 0.21034  ┆ 0.044243     │\n",
       "│ …         ┆ …      ┆ …        ┆ …            │\n",
       "│ 6.425658  ┆ 6.2    ┆ 0.225658 ┆ 0.050922     │\n",
       "│ 6.200366  ┆ 3.2    ┆ 3.000366 ┆ 9.002196     │\n",
       "│ 6.106409  ┆ 5.7    ┆ 0.406409 ┆ 0.165168     │\n",
       "│ 5.889222  ┆ 5.7    ┆ 0.189222 ┆ 0.035805     │\n",
       "│ 5.183763  ┆ 5.8    ┆ 0.616238 ┆ 0.379749     │\n",
       "└───────────┴────────┴──────────┴──────────────┘"
      ]
     },
     "execution_count": 14,
     "metadata": {},
     "output_type": "execute_result"
    }
   ],
   "source": [
    "_ = model.to(\"cuda:0\").eval()  # to disable BatchNorm1D\n",
    "\n",
    "eval_dataset = torch.stack([f[0] for f in test_dataset])\n",
    "actual_values = torch.stack([f[1] for f in test_dataset])\n",
    "\n",
    "with torch.no_grad():\n",
    "    output = model(x=eval_dataset.to(\"cuda:0\"))\n",
    "    preds = output.detach().cpu().numpy()\n",
    "\n",
    "test_results = (pl.DataFrame({\"Predicted\": preds, \"Actual\": actual_values.cpu().numpy()})\n",
    "                .with_columns(\n",
    "                    abs_diff=(pl.col(\"Predicted\") - pl.col(\"Actual\")).abs(),\n",
    "                    square_error = ((pl.col(\"Actual\") - pl.col(\"Predicted\")) ** 2)\n",
    "                )\n",
    "               )\n",
    "                \n",
    "test_results"
   ]
  },
  {
   "cell_type": "code",
   "execution_count": 15,
   "metadata": {},
   "outputs": [
    {
     "data": {
      "text/plain": [
       "0.7786143642246723"
      ]
     },
     "execution_count": 15,
     "metadata": {},
     "output_type": "execute_result"
    }
   ],
   "source": [
    "# Mean Absolute Error (MAE)\n",
    "test_results[\"abs_diff\"].mean()"
   ]
  },
  {
   "cell_type": "code",
   "execution_count": 16,
   "metadata": {
    "tags": []
   },
   "outputs": [
    {
     "data": {
      "text/plain": [
       "1.077159608136191"
      ]
     },
     "execution_count": 16,
     "metadata": {},
     "output_type": "execute_result"
    }
   ],
   "source": [
    "# Mean Square Error (MSE)\n",
    "test_results[\"square_error\"].mean()"
   ]
  },
  {
   "cell_type": "code",
   "execution_count": null,
   "metadata": {},
   "outputs": [],
   "source": []
  }
 ],
 "metadata": {
  "environment": {
   "kernel": "python3",
   "name": "common-cu123.m129",
   "type": "gcloud",
   "uri": "us-docker.pkg.dev/deeplearning-platform-release/gcr.io/base-cu123:m129"
  },
  "kernelspec": {
   "display_name": "Python 3",
   "language": "python",
   "name": "python3"
  },
  "language_info": {
   "codemirror_mode": {
    "name": "ipython",
    "version": 3
   },
   "file_extension": ".py",
   "mimetype": "text/x-python",
   "name": "python",
   "nbconvert_exporter": "python",
   "pygments_lexer": "ipython3",
   "version": "3.10.17"
  }
 },
 "nbformat": 4,
 "nbformat_minor": 4
}
