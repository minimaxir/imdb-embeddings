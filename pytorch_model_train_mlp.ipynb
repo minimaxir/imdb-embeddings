{
 "cells": [
  {
   "cell_type": "markdown",
   "metadata": {},
   "source": [
    "## PyTorch Training\n",
    "\n",
    "Uses the Trainer included in Hugging Face `transformers` (backed by `accelerate`) since it mitigates a lot of annoying boilerplate.\n"
   ]
  },
  {
   "cell_type": "code",
   "execution_count": 1,
   "metadata": {
    "tags": []
   },
   "outputs": [],
   "source": [
    "import os\n",
    "import polars as pl\n",
    "import torch\n",
    "import torch.nn as nn\n",
    "import torch.nn.functional as F\n",
    "from torch.utils.data import TensorDataset\n",
    "from transformers import Trainer, TrainingArguments\n",
    "from transformers.trainer_callback import TrainerCallback"
   ]
  },
  {
   "cell_type": "code",
   "execution_count": 2,
   "metadata": {
    "tags": []
   },
   "outputs": [
    {
     "data": {
      "text/html": [
       "<div><style>\n",
       ".dataframe > thead > tr,\n",
       ".dataframe > tbody > tr {\n",
       "  text-align: right;\n",
       "  white-space: pre-wrap;\n",
       "}\n",
       "</style>\n",
       "<small>shape: (242_552, 3)</small><table border=\"1\" class=\"dataframe\"><thead><tr><th>tconst</th><th>averageRating</th><th>embedding</th></tr><tr><td>str</td><td>f32</td><td>array[f32, 768]</td></tr></thead><tbody><tr><td>&quot;tt0173052&quot;</td><td>4.1</td><td>[0.046187, 0.006053, … 0.011911]</td></tr><tr><td>&quot;tt0266288&quot;</td><td>7.4</td><td>[-0.004875, -0.046969, … 0.017516]</td></tr><tr><td>&quot;tt6263490&quot;</td><td>4.3</td><td>[0.005363, -0.018672, … 0.015112]</td></tr><tr><td>&quot;tt10049110&quot;</td><td>7.8</td><td>[-0.009997, -0.029303, … 0.037793]</td></tr><tr><td>&quot;tt5761612&quot;</td><td>3.8</td><td>[0.020259, -0.031869, … -0.01841]</td></tr><tr><td>&hellip;</td><td>&hellip;</td><td>&hellip;</td></tr><tr><td>&quot;tt0079376&quot;</td><td>6.2</td><td>[0.062672, -0.009446, … 0.019441]</td></tr><tr><td>&quot;tt1161064&quot;</td><td>3.2</td><td>[0.022779, 0.053063, … -0.009691]</td></tr><tr><td>&quot;tt0179526&quot;</td><td>5.7</td><td>[0.001937, 0.003111, … -0.002453]</td></tr><tr><td>&quot;tt0188233&quot;</td><td>5.7</td><td>[0.03125, 0.013802, … 0.009849]</td></tr><tr><td>&quot;tt0082518&quot;</td><td>5.8</td><td>[-0.00382, -0.022576, … 0.00969]</td></tr></tbody></table></div>"
      ],
      "text/plain": [
       "shape: (242_552, 3)\n",
       "┌────────────┬───────────────┬─────────────────────────────────┐\n",
       "│ tconst     ┆ averageRating ┆ embedding                       │\n",
       "│ ---        ┆ ---           ┆ ---                             │\n",
       "│ str        ┆ f32           ┆ array[f32, 768]                 │\n",
       "╞════════════╪═══════════════╪═════════════════════════════════╡\n",
       "│ tt0173052  ┆ 4.1           ┆ [0.046187, 0.006053, … 0.01191… │\n",
       "│ tt0266288  ┆ 7.4           ┆ [-0.004875, -0.046969, … 0.017… │\n",
       "│ tt6263490  ┆ 4.3           ┆ [0.005363, -0.018672, … 0.0151… │\n",
       "│ tt10049110 ┆ 7.8           ┆ [-0.009997, -0.029303, … 0.037… │\n",
       "│ tt5761612  ┆ 3.8           ┆ [0.020259, -0.031869, … -0.018… │\n",
       "│ …          ┆ …             ┆ …                               │\n",
       "│ tt0079376  ┆ 6.2           ┆ [0.062672, -0.009446, … 0.0194… │\n",
       "│ tt1161064  ┆ 3.2           ┆ [0.022779, 0.053063, … -0.0096… │\n",
       "│ tt0179526  ┆ 5.7           ┆ [0.001937, 0.003111, … -0.0024… │\n",
       "│ tt0188233  ┆ 5.7           ┆ [0.03125, 0.013802, … 0.009849… │\n",
       "│ tt0082518  ┆ 5.8           ┆ [-0.00382, -0.022576, … 0.0096… │\n",
       "└────────────┴───────────────┴─────────────────────────────────┘"
      ]
     },
     "execution_count": 2,
     "metadata": {},
     "output_type": "execute_result"
    }
   ],
   "source": [
    "df = (\n",
    "    pl.scan_parquet(\n",
    "        \"movie_data_plus_embeds_all.parquet\"\n",
    "    )\n",
    "    .select([\"tconst\", \"averageRating\", \"embedding\"])\n",
    "    .with_columns(averageRating=pl.col(\"averageRating\").cast(pl.Float32))\n",
    "    .collect()\n",
    "    .sample(fraction=1.0, shuffle=True, seed=42)\n",
    ")\n",
    "\n",
    "df"
   ]
  },
  {
   "cell_type": "code",
   "execution_count": 3,
   "metadata": {
    "tags": []
   },
   "outputs": [
    {
     "data": {
      "text/plain": [
       "tensor([4.1000, 7.4000, 4.3000,  ..., 6.4000, 6.0000, 6.5000])"
      ]
     },
     "execution_count": 3,
     "metadata": {},
     "output_type": "execute_result"
    }
   ],
   "source": [
    "device = \"cpu\"\n",
    "n_test = 20000\n",
    "\n",
    "X_train = torch.from_numpy(df[:-n_test][\"embedding\"].to_numpy().copy()).to(device)\n",
    "X_test = torch.from_numpy(df[-n_test:][\"embedding\"].to_numpy().copy()).to(device)\n",
    "\n",
    "y_train = torch.from_numpy(df[:-n_test][\"averageRating\"].to_numpy().copy()).to(device)\n",
    "y_test = torch.from_numpy(df[-n_test:][\"averageRating\"].to_numpy().copy()).to(device)\n",
    "\n",
    "y_train"
   ]
  },
  {
   "cell_type": "code",
   "execution_count": 4,
   "metadata": {
    "tags": []
   },
   "outputs": [],
   "source": [
    "train_dataset = TensorDataset(X_train, y_train)\n",
    "test_dataset = TensorDataset(X_test, y_test)"
   ]
  },
  {
   "cell_type": "code",
   "execution_count": 5,
   "metadata": {
    "tags": []
   },
   "outputs": [],
   "source": [
    "class RatingsModel(nn.Module):\n",
    "    def __init__(self, linear_dims=256, num_layers=8):\n",
    "        super().__init__()\n",
    "        \n",
    "        dims = [768] + [linear_dims] * num_layers\n",
    "        self.mlp = nn.ModuleList([\n",
    "            nn.Sequential(\n",
    "                nn.Linear(dims[i], dims[i+1]),\n",
    "                nn.GELU(),\n",
    "                nn.BatchNorm1d(dims[i+1]),\n",
    "                nn.Dropout(0.5)\n",
    "            ) for i in range(len(dims)-1)\n",
    "        ])\n",
    "        \n",
    "        self.output = nn.Linear(dims[-1], 1)\n",
    "\n",
    "    def forward(self, x, targets=None):\n",
    "        for layer in self.mlp:\n",
    "            x = layer(x)\n",
    "\n",
    "        return self.output(x).squeeze()  # return 1D output"
   ]
  },
  {
   "cell_type": "code",
   "execution_count": 6,
   "metadata": {
    "tags": []
   },
   "outputs": [
    {
     "data": {
      "text/plain": [
       "RatingsModel(\n",
       "  (mlp): ModuleList(\n",
       "    (0): Sequential(\n",
       "      (0): Linear(in_features=768, out_features=256, bias=True)\n",
       "      (1): GELU(approximate='none')\n",
       "      (2): BatchNorm1d(256, eps=1e-05, momentum=0.1, affine=True, track_running_stats=True)\n",
       "      (3): Dropout(p=0.5, inplace=False)\n",
       "    )\n",
       "    (1-7): 7 x Sequential(\n",
       "      (0): Linear(in_features=256, out_features=256, bias=True)\n",
       "      (1): GELU(approximate='none')\n",
       "      (2): BatchNorm1d(256, eps=1e-05, momentum=0.1, affine=True, track_running_stats=True)\n",
       "      (3): Dropout(p=0.5, inplace=False)\n",
       "    )\n",
       "  )\n",
       "  (output): Linear(in_features=256, out_features=1, bias=True)\n",
       ")"
      ]
     },
     "execution_count": 6,
     "metadata": {},
     "output_type": "execute_result"
    }
   ],
   "source": [
    "model = RatingsModel()\n",
    "_ = model.to(device)\n",
    "model"
   ]
  },
  {
   "cell_type": "code",
   "execution_count": 7,
   "metadata": {
    "tags": []
   },
   "outputs": [
    {
     "data": {
      "text/plain": [
       "661761"
      ]
     },
     "execution_count": 7,
     "metadata": {},
     "output_type": "execute_result"
    }
   ],
   "source": [
    "total_params = sum(p.numel() for p in model.parameters())\n",
    "total_params"
   ]
  },
  {
   "cell_type": "markdown",
   "metadata": {},
   "source": [
    "Validation loss doesn't play nice with the `Trainer` out of the boss, so need [some tweaks](https://discuss.huggingface.co/t/no-log-for-validation-loss-during-training-with-trainer/40094/3).\n"
   ]
  },
  {
   "cell_type": "code",
   "execution_count": 8,
   "metadata": {
    "tags": []
   },
   "outputs": [],
   "source": [
    "def collate_fn(examples):\n",
    "    inputs = torch.stack([f[0] for f in examples])\n",
    "    targets = torch.stack([f[1] for f in examples])\n",
    "\n",
    "    return {\"x\": inputs, \"targets\": targets}\n",
    "\n",
    "\n",
    "class MAETrainer(Trainer):\n",
    "    def compute_loss(self, model, inputs, return_outputs=False, num_items_in_batch=0):\n",
    "        outputs = model(**inputs)\n",
    "        # loss = nn.L1Loss()(outputs, inputs[\"targets\"])  # L1 loss is MAE\n",
    "        loss = nn.MSELoss()(outputs, inputs[\"targets\"])\n",
    "\n",
    "        return (loss, outputs) if return_outputs else loss\n"
   ]
  },
  {
   "cell_type": "code",
   "execution_count": 9,
   "metadata": {
    "tags": []
   },
   "outputs": [],
   "source": [
    "training_args = TrainingArguments(\n",
    "    learning_rate=2e-3,\n",
    "    lr_scheduler_type=\"cosine_with_restarts\",\n",
    "    per_device_train_batch_size=4096,\n",
    "    per_device_eval_batch_size=4096,\n",
    "    num_train_epochs=600,\n",
    "    weight_decay=0.001,\n",
    "    save_strategy=\"no\",\n",
    "    eval_strategy=\"steps\",\n",
    "    eval_steps=0.05,\n",
    "    logging_strategy=\"steps\",\n",
    "    logging_steps=0.05,\n",
    "    fp16=False,  # do not need memory savings\n",
    "    dataloader_num_workers=os.cpu_count(),  # since big batches\n",
    "    dataloader_pin_memory=True,\n",
    "    dataloader_persistent_workers=True,\n",
    ")\n",
    "\n",
    "# reinstantiate a clean model\n",
    "model = RatingsModel()\n",
    "_ = model.to('cuda:0')\n",
    "\n",
    "trainer = MAETrainer(\n",
    "    model,\n",
    "    training_args,\n",
    "    train_dataset=train_dataset,\n",
    "    eval_dataset=test_dataset,\n",
    "    data_collator=collate_fn,\n",
    ")\n",
    "\n",
    "trainer.can_return_loss = True"
   ]
  },
  {
   "cell_type": "code",
   "execution_count": 10,
   "metadata": {
    "tags": []
   },
   "outputs": [
    {
     "data": {
      "text/html": [
       "\n",
       "    <div>\n",
       "      \n",
       "      <progress value='33000' max='33000' style='width:300px; height:20px; vertical-align: middle;'></progress>\n",
       "      [33000/33000 17:29, Epoch 600/600]\n",
       "    </div>\n",
       "    <table border=\"1\" class=\"dataframe\">\n",
       "  <thead>\n",
       " <tr style=\"text-align: left;\">\n",
       "      <th>Step</th>\n",
       "      <th>Training Loss</th>\n",
       "      <th>Validation Loss</th>\n",
       "    </tr>\n",
       "  </thead>\n",
       "  <tbody>\n",
       "    <tr>\n",
       "      <td>1650</td>\n",
       "      <td>2.528500</td>\n",
       "      <td>1.106190</td>\n",
       "    </tr>\n",
       "    <tr>\n",
       "      <td>3300</td>\n",
       "      <td>1.151000</td>\n",
       "      <td>1.079443</td>\n",
       "    </tr>\n",
       "    <tr>\n",
       "      <td>4950</td>\n",
       "      <td>1.044900</td>\n",
       "      <td>1.079204</td>\n",
       "    </tr>\n",
       "    <tr>\n",
       "      <td>6600</td>\n",
       "      <td>0.973900</td>\n",
       "      <td>1.118531</td>\n",
       "    </tr>\n",
       "    <tr>\n",
       "      <td>8250</td>\n",
       "      <td>0.926700</td>\n",
       "      <td>1.108703</td>\n",
       "    </tr>\n",
       "    <tr>\n",
       "      <td>9900</td>\n",
       "      <td>0.894400</td>\n",
       "      <td>1.131433</td>\n",
       "    </tr>\n",
       "    <tr>\n",
       "      <td>11550</td>\n",
       "      <td>0.869600</td>\n",
       "      <td>1.123753</td>\n",
       "    </tr>\n",
       "    <tr>\n",
       "      <td>13200</td>\n",
       "      <td>0.850100</td>\n",
       "      <td>1.167039</td>\n",
       "    </tr>\n",
       "    <tr>\n",
       "      <td>14850</td>\n",
       "      <td>0.834300</td>\n",
       "      <td>1.188981</td>\n",
       "    </tr>\n",
       "    <tr>\n",
       "      <td>16500</td>\n",
       "      <td>0.820200</td>\n",
       "      <td>1.158032</td>\n",
       "    </tr>\n",
       "    <tr>\n",
       "      <td>18150</td>\n",
       "      <td>0.808000</td>\n",
       "      <td>1.173342</td>\n",
       "    </tr>\n",
       "    <tr>\n",
       "      <td>19800</td>\n",
       "      <td>0.797800</td>\n",
       "      <td>1.193629</td>\n",
       "    </tr>\n",
       "    <tr>\n",
       "      <td>21450</td>\n",
       "      <td>0.788200</td>\n",
       "      <td>1.202013</td>\n",
       "    </tr>\n",
       "    <tr>\n",
       "      <td>23100</td>\n",
       "      <td>0.779900</td>\n",
       "      <td>1.200657</td>\n",
       "    </tr>\n",
       "    <tr>\n",
       "      <td>24750</td>\n",
       "      <td>0.773100</td>\n",
       "      <td>1.202354</td>\n",
       "    </tr>\n",
       "    <tr>\n",
       "      <td>26400</td>\n",
       "      <td>0.768200</td>\n",
       "      <td>1.207095</td>\n",
       "    </tr>\n",
       "    <tr>\n",
       "      <td>28050</td>\n",
       "      <td>0.763600</td>\n",
       "      <td>1.209251</td>\n",
       "    </tr>\n",
       "    <tr>\n",
       "      <td>29700</td>\n",
       "      <td>0.760600</td>\n",
       "      <td>1.213870</td>\n",
       "    </tr>\n",
       "    <tr>\n",
       "      <td>31350</td>\n",
       "      <td>0.759300</td>\n",
       "      <td>1.212028</td>\n",
       "    </tr>\n",
       "    <tr>\n",
       "      <td>33000</td>\n",
       "      <td>0.758900</td>\n",
       "      <td>1.207621</td>\n",
       "    </tr>\n",
       "  </tbody>\n",
       "</table><p>"
      ],
      "text/plain": [
       "<IPython.core.display.HTML object>"
      ]
     },
     "metadata": {},
     "output_type": "display_data"
    },
    {
     "data": {
      "text/plain": [
       "TrainOutput(global_step=33000, training_loss=0.9325652743252841, metrics={'train_runtime': 1049.8348, 'train_samples_per_second': 127192.584, 'train_steps_per_second': 31.434, 'total_flos': 0.0, 'train_loss': 0.9325652743252841, 'epoch': 600.0})"
      ]
     },
     "execution_count": 10,
     "metadata": {},
     "output_type": "execute_result"
    }
   ],
   "source": [
    "trainer.train()"
   ]
  },
  {
   "cell_type": "markdown",
   "metadata": {},
   "source": [
    "Write logs as a parquet for later visualization. The steps logged match what's above, although the evals are a separate item and need to be consolidated (annoyingly)."
   ]
  },
  {
   "cell_type": "code",
   "execution_count": 11,
   "metadata": {
    "tags": []
   },
   "outputs": [
    {
     "data": {
      "text/plain": [
       "[{'loss': 2.5285,\n",
       "  'grad_norm': 0.6826887726783752,\n",
       "  'learning_rate': 0.001987703228645653,\n",
       "  'epoch': 30.0,\n",
       "  'step': 1650},\n",
       " {'eval_loss': 1.1061903238296509,\n",
       "  'eval_runtime': 0.3411,\n",
       "  'eval_samples_per_second': 58629.983,\n",
       "  'eval_steps_per_second': 14.657,\n",
       "  'epoch': 30.0,\n",
       "  'step': 1650},\n",
       " {'loss': 1.151,\n",
       "  'grad_norm': 0.6862286925315857,\n",
       "  'learning_rate': 0.0019510859303344694,\n",
       "  'epoch': 60.0,\n",
       "  'step': 3300},\n",
       " {'eval_loss': 1.0794429779052734,\n",
       "  'eval_runtime': 0.249,\n",
       "  'eval_samples_per_second': 80318.032,\n",
       "  'eval_steps_per_second': 20.08,\n",
       "  'epoch': 60.0,\n",
       "  'step': 3300}]"
      ]
     },
     "execution_count": 11,
     "metadata": {},
     "output_type": "execute_result"
    }
   ],
   "source": [
    "logs = trainer.state.log_history\n",
    "\n",
    "logs[0:4]"
   ]
  },
  {
   "cell_type": "code",
   "execution_count": 14,
   "metadata": {
    "tags": []
   },
   "outputs": [
    {
     "data": {
      "text/html": [
       "<div><style>\n",
       ".dataframe > thead > tr,\n",
       ".dataframe > tbody > tr {\n",
       "  text-align: right;\n",
       "  white-space: pre-wrap;\n",
       "}\n",
       "</style>\n",
       "<small>shape: (20, 9)</small><table border=\"1\" class=\"dataframe\"><thead><tr><th>loss</th><th>grad_norm</th><th>learning_rate</th><th>epoch</th><th>step</th><th>eval_loss</th><th>eval_runtime</th><th>eval_samples_per_second</th><th>eval_steps_per_second</th></tr><tr><td>f64</td><td>f64</td><td>f64</td><td>f64</td><td>i64</td><td>f64</td><td>f64</td><td>f64</td><td>f64</td></tr></thead><tbody><tr><td>2.5285</td><td>0.682689</td><td>0.001988</td><td>30.0</td><td>1650</td><td>1.10619</td><td>0.3411</td><td>58629.983</td><td>14.657</td></tr><tr><td>1.151</td><td>0.686229</td><td>0.001951</td><td>60.0</td><td>3300</td><td>1.079443</td><td>0.249</td><td>80318.032</td><td>20.08</td></tr><tr><td>1.0449</td><td>0.602015</td><td>0.001891</td><td>90.0</td><td>4950</td><td>1.079204</td><td>0.2411</td><td>82941.87</td><td>20.735</td></tr><tr><td>0.9739</td><td>0.92719</td><td>0.001809</td><td>120.0</td><td>6600</td><td>1.118531</td><td>0.2498</td><td>80075.526</td><td>20.019</td></tr><tr><td>0.9267</td><td>0.607478</td><td>0.001707</td><td>150.0</td><td>8250</td><td>1.108703</td><td>0.2444</td><td>81844.869</td><td>20.461</td></tr><tr><td>&hellip;</td><td>&hellip;</td><td>&hellip;</td><td>&hellip;</td><td>&hellip;</td><td>&hellip;</td><td>&hellip;</td><td>&hellip;</td><td>&hellip;</td></tr><tr><td>0.7682</td><td>0.671049</td><td>0.000191</td><td>480.0</td><td>26400</td><td>1.207095</td><td>0.2515</td><td>79516.716</td><td>19.879</td></tr><tr><td>0.7636</td><td>0.707246</td><td>0.000109</td><td>510.0</td><td>28050</td><td>1.209251</td><td>0.3085</td><td>64821.345</td><td>16.205</td></tr><tr><td>0.7606</td><td>0.710131</td><td>0.000049</td><td>540.0</td><td>29700</td><td>1.21387</td><td>0.249</td><td>80315.802</td><td>20.079</td></tr><tr><td>0.7593</td><td>0.769773</td><td>0.000012</td><td>570.0</td><td>31350</td><td>1.212028</td><td>0.2591</td><td>77175.657</td><td>19.294</td></tr><tr><td>0.7589</td><td>0.690822</td><td>4.5315e-12</td><td>600.0</td><td>33000</td><td>1.207621</td><td>0.2535</td><td>78896.433</td><td>19.724</td></tr></tbody></table></div>"
      ],
      "text/plain": [
       "shape: (20, 9)\n",
       "┌────────┬───────────┬─────────────┬───────┬───┬───────────┬─────────────┬────────────┬────────────┐\n",
       "│ loss   ┆ grad_norm ┆ learning_ra ┆ epoch ┆ … ┆ eval_loss ┆ eval_runtim ┆ eval_sampl ┆ eval_steps │\n",
       "│ ---    ┆ ---       ┆ te          ┆ ---   ┆   ┆ ---       ┆ e           ┆ es_per_sec ┆ _per_secon │\n",
       "│ f64    ┆ f64       ┆ ---         ┆ f64   ┆   ┆ f64       ┆ ---         ┆ ond        ┆ d          │\n",
       "│        ┆           ┆ f64         ┆       ┆   ┆           ┆ f64         ┆ ---        ┆ ---        │\n",
       "│        ┆           ┆             ┆       ┆   ┆           ┆             ┆ f64        ┆ f64        │\n",
       "╞════════╪═══════════╪═════════════╪═══════╪═══╪═══════════╪═════════════╪════════════╪════════════╡\n",
       "│ 2.5285 ┆ 0.682689  ┆ 0.001988    ┆ 30.0  ┆ … ┆ 1.10619   ┆ 0.3411      ┆ 58629.983  ┆ 14.657     │\n",
       "│ 1.151  ┆ 0.686229  ┆ 0.001951    ┆ 60.0  ┆ … ┆ 1.079443  ┆ 0.249       ┆ 80318.032  ┆ 20.08      │\n",
       "│ 1.0449 ┆ 0.602015  ┆ 0.001891    ┆ 90.0  ┆ … ┆ 1.079204  ┆ 0.2411      ┆ 82941.87   ┆ 20.735     │\n",
       "│ 0.9739 ┆ 0.92719   ┆ 0.001809    ┆ 120.0 ┆ … ┆ 1.118531  ┆ 0.2498      ┆ 80075.526  ┆ 20.019     │\n",
       "│ 0.9267 ┆ 0.607478  ┆ 0.001707    ┆ 150.0 ┆ … ┆ 1.108703  ┆ 0.2444      ┆ 81844.869  ┆ 20.461     │\n",
       "│ …      ┆ …         ┆ …           ┆ …     ┆ … ┆ …         ┆ …           ┆ …          ┆ …          │\n",
       "│ 0.7682 ┆ 0.671049  ┆ 0.000191    ┆ 480.0 ┆ … ┆ 1.207095  ┆ 0.2515      ┆ 79516.716  ┆ 19.879     │\n",
       "│ 0.7636 ┆ 0.707246  ┆ 0.000109    ┆ 510.0 ┆ … ┆ 1.209251  ┆ 0.3085      ┆ 64821.345  ┆ 16.205     │\n",
       "│ 0.7606 ┆ 0.710131  ┆ 0.000049    ┆ 540.0 ┆ … ┆ 1.21387   ┆ 0.249       ┆ 80315.802  ┆ 20.079     │\n",
       "│ 0.7593 ┆ 0.769773  ┆ 0.000012    ┆ 570.0 ┆ … ┆ 1.212028  ┆ 0.2591      ┆ 77175.657  ┆ 19.294     │\n",
       "│ 0.7589 ┆ 0.690822  ┆ 4.5315e-12  ┆ 600.0 ┆ … ┆ 1.207621  ┆ 0.2535      ┆ 78896.433  ┆ 19.724     │\n",
       "└────────┴───────────┴─────────────┴───────┴───┴───────────┴─────────────┴────────────┴────────────┘"
      ]
     },
     "execution_count": 14,
     "metadata": {},
     "output_type": "execute_result"
    }
   ],
   "source": [
    "logs_consolidated = []\n",
    "i = 0\n",
    "while i < len(logs)-1:\n",
    "    base_log = logs[i]\n",
    "    base_log.update(logs[i+1])\n",
    "    logs_consolidated.append(base_log)\n",
    "    i += 2\n",
    "    \n",
    "df_logs = pl.DataFrame(logs_consolidated).sort(\"epoch\")\n",
    "df_logs.write_parquet(\"mlp_train_logs.parquet\")\n",
    "df_logs"
   ]
  },
  {
   "cell_type": "markdown",
   "metadata": {},
   "source": [
    "Save the model weights, which is the artifact we would use to deploy the model."
   ]
  },
  {
   "cell_type": "code",
   "execution_count": 15,
   "metadata": {
    "tags": []
   },
   "outputs": [],
   "source": [
    "from safetensors.torch import save_model\n",
    "\n",
    "save_model(model, \"imdb_embeddings_mlp.safetensors\")"
   ]
  },
  {
   "cell_type": "markdown",
   "metadata": {},
   "source": [
    "## Test Model\n"
   ]
  },
  {
   "cell_type": "code",
   "execution_count": 16,
   "metadata": {
    "tags": []
   },
   "outputs": [
    {
     "data": {
      "text/html": [
       "<div><style>\n",
       ".dataframe > thead > tr,\n",
       ".dataframe > tbody > tr {\n",
       "  text-align: right;\n",
       "  white-space: pre-wrap;\n",
       "}\n",
       "</style>\n",
       "<small>shape: (20_000, 4)</small><table border=\"1\" class=\"dataframe\"><thead><tr><th>Predicted</th><th>Actual</th><th>abs_diff</th><th>square_error</th></tr><tr><td>f32</td><td>f32</td><td>f32</td><td>f32</td></tr></thead><tbody><tr><td>6.923413</td><td>7.1</td><td>0.176587</td><td>0.031183</td></tr><tr><td>6.080589</td><td>6.5</td><td>0.419411</td><td>0.175906</td></tr><tr><td>5.10783</td><td>4.1</td><td>1.00783</td><td>1.015722</td></tr><tr><td>5.408305</td><td>5.5</td><td>0.091695</td><td>0.008408</td></tr><tr><td>7.046608</td><td>7.2</td><td>0.153392</td><td>0.023529</td></tr><tr><td>&hellip;</td><td>&hellip;</td><td>&hellip;</td><td>&hellip;</td></tr><tr><td>5.903197</td><td>6.2</td><td>0.296803</td><td>0.088092</td></tr><tr><td>4.862528</td><td>3.2</td><td>1.662528</td><td>2.763999</td></tr><tr><td>5.760687</td><td>5.7</td><td>0.060687</td><td>0.003683</td></tr><tr><td>5.753356</td><td>5.7</td><td>0.053356</td><td>0.002847</td></tr><tr><td>5.072913</td><td>5.8</td><td>0.727087</td><td>0.528656</td></tr></tbody></table></div>"
      ],
      "text/plain": [
       "shape: (20_000, 4)\n",
       "┌───────────┬────────┬──────────┬──────────────┐\n",
       "│ Predicted ┆ Actual ┆ abs_diff ┆ square_error │\n",
       "│ ---       ┆ ---    ┆ ---      ┆ ---          │\n",
       "│ f32       ┆ f32    ┆ f32      ┆ f32          │\n",
       "╞═══════════╪════════╪══════════╪══════════════╡\n",
       "│ 6.923413  ┆ 7.1    ┆ 0.176587 ┆ 0.031183     │\n",
       "│ 6.080589  ┆ 6.5    ┆ 0.419411 ┆ 0.175906     │\n",
       "│ 5.10783   ┆ 4.1    ┆ 1.00783  ┆ 1.015722     │\n",
       "│ 5.408305  ┆ 5.5    ┆ 0.091695 ┆ 0.008408     │\n",
       "│ 7.046608  ┆ 7.2    ┆ 0.153392 ┆ 0.023529     │\n",
       "│ …         ┆ …      ┆ …        ┆ …            │\n",
       "│ 5.903197  ┆ 6.2    ┆ 0.296803 ┆ 0.088092     │\n",
       "│ 4.862528  ┆ 3.2    ┆ 1.662528 ┆ 2.763999     │\n",
       "│ 5.760687  ┆ 5.7    ┆ 0.060687 ┆ 0.003683     │\n",
       "│ 5.753356  ┆ 5.7    ┆ 0.053356 ┆ 0.002847     │\n",
       "│ 5.072913  ┆ 5.8    ┆ 0.727087 ┆ 0.528656     │\n",
       "└───────────┴────────┴──────────┴──────────────┘"
      ]
     },
     "execution_count": 16,
     "metadata": {},
     "output_type": "execute_result"
    }
   ],
   "source": [
    "_ = model.to(\"cuda:0\").eval()  # to disable BatchNorm1D\n",
    "\n",
    "eval_dataset = torch.stack([f[0] for f in test_dataset])\n",
    "actual_values = torch.stack([f[1] for f in test_dataset])\n",
    "\n",
    "with torch.no_grad():\n",
    "    output = model(x=eval_dataset.to(\"cuda:0\"))\n",
    "    preds = output.detach().cpu().numpy()\n",
    "\n",
    "test_results = (pl.DataFrame({\"Predicted\": preds, \"Actual\": actual_values.cpu().numpy()})\n",
    "                .with_columns(\n",
    "                    abs_diff=(pl.col(\"Predicted\") - pl.col(\"Actual\")).abs(),\n",
    "                    square_error = ((pl.col(\"Actual\") - pl.col(\"Predicted\")) ** 2)\n",
    "                )\n",
    "               )\n",
    "                \n",
    "test_results"
   ]
  },
  {
   "cell_type": "code",
   "execution_count": 17,
   "metadata": {},
   "outputs": [
    {
     "data": {
      "text/plain": [
       "0.8274261032521725"
      ]
     },
     "execution_count": 17,
     "metadata": {},
     "output_type": "execute_result"
    }
   ],
   "source": [
    "# Mean Absolute Error (MAE)\n",
    "test_results[\"abs_diff\"].mean()"
   ]
  },
  {
   "cell_type": "code",
   "execution_count": 18,
   "metadata": {
    "tags": []
   },
   "outputs": [
    {
     "data": {
      "text/plain": [
       "1.2076212142897127"
      ]
     },
     "execution_count": 18,
     "metadata": {},
     "output_type": "execute_result"
    }
   ],
   "source": [
    "# Mean Square Error (MSE)\n",
    "test_results[\"square_error\"].mean()"
   ]
  },
  {
   "cell_type": "code",
   "execution_count": null,
   "metadata": {},
   "outputs": [],
   "source": []
  }
 ],
 "metadata": {
  "environment": {
   "kernel": "python3",
   "name": "common-cu123.m129",
   "type": "gcloud",
   "uri": "us-docker.pkg.dev/deeplearning-platform-release/gcr.io/base-cu123:m129"
  },
  "kernelspec": {
   "display_name": "Python 3",
   "language": "python",
   "name": "python3"
  },
  "language_info": {
   "codemirror_mode": {
    "name": "ipython",
    "version": 3
   },
   "file_extension": ".py",
   "mimetype": "text/x-python",
   "name": "python",
   "nbconvert_exporter": "python",
   "pygments_lexer": "ipython3",
   "version": "3.10.17"
  }
 },
 "nbformat": 4,
 "nbformat_minor": 4
}
