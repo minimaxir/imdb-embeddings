{
 "cells": [
  {
   "cell_type": "markdown",
   "metadata": {},
   "source": [
    "https://huggingface.co/jxm/cde-small-v1\n"
   ]
  },
  {
   "cell_type": "code",
   "execution_count": 1,
   "metadata": {},
   "outputs": [
    {
     "name": "stderr",
     "output_type": "stream",
     "text": [
      "/Users/maxwoolf/Library/Mobile Documents/com~apple~CloudDocs/PythonProjects/imdb-embeddings/.venv/lib/python3.12/site-packages/transformers/tokenization_utils_base.py:1617: FutureWarning: `clean_up_tokenization_spaces` was not set. It will be set to `True` by default. This behavior will be deprecated in transformers v4.45, and will be then set to `False` by default. For more details check this issue: https://github.com/huggingface/transformers/issues/31884\n",
      "  warnings.warn(\n"
     ]
    }
   ],
   "source": [
    "import transformers\n",
    "\n",
    "tokenizer = transformers.AutoTokenizer.from_pretrained(\"bert-base-uncased\")"
   ]
  },
  {
   "cell_type": "code",
   "execution_count": 29,
   "metadata": {},
   "outputs": [
    {
     "name": "stderr",
     "output_type": "stream",
     "text": [
      "/Users/maxwoolf/.cache/huggingface/modules/transformers_modules/nomic-ai/nomic-bert-2048/c1b1fd7a715b8eb2e232d34593154ac782c98ac9/modeling_hf_nomic_bert.py:98: FutureWarning: You are using `torch.load` with `weights_only=False` (the current default value), which uses the default pickle module implicitly. It is possible to construct malicious pickle data which will execute arbitrary code during unpickling (See https://github.com/pytorch/pytorch/blob/main/SECURITY.md#untrusted-models for more details). In a future release, the default value for `weights_only` will be flipped to `True`. This limits the functions that could be executed during unpickling. Arbitrary objects will no longer be allowed to be loaded via this mode unless they are explicitly allowlisted by the user via `torch.serialization.add_safe_globals`. We recommend you start setting `weights_only=True` for any use case where you don't have full control of the loaded file. Please open an issue on GitHub for any issues related to this experimental feature.\n",
      "  state_dict = loader(resolved_archive_file)\n",
      "<All keys matched successfully>\n",
      "<All keys matched successfully>\n"
     ]
    },
    {
     "name": "stdout",
     "output_type": "stream",
     "text": [
      "Disabled 37 dropout modules from model type <class 'transformers_modules.jxm.cde-small-v1.10f081914816933d06b18c414c3484c96de49cdb.model.BiEncoder'>\n",
      "modified 12 rotary modules – set rotary_start_pos to 512\n",
      "Disabled 74 dropout modules from model type <class 'transformers_modules.jxm.cde-small-v1.10f081914816933d06b18c414c3484c96de49cdb.model.DatasetTransformer'>\n"
     ]
    }
   ],
   "source": [
    "device = \"mps\"\n",
    "\n",
    "model = transformers.AutoModel.from_pretrained(\n",
    "    \"jxm/cde-small-v1\", trust_remote_code=True\n",
    ")\n",
    "\n",
    "_ = model.to(device)"
   ]
  },
  {
   "cell_type": "code",
   "execution_count": 3,
   "metadata": {},
   "outputs": [
    {
     "data": {
      "text/plain": [
       "device(type='cpu')"
      ]
     },
     "execution_count": 3,
     "metadata": {},
     "output_type": "execute_result"
    }
   ],
   "source": [
    "model.device"
   ]
  },
  {
   "cell_type": "code",
   "execution_count": 7,
   "metadata": {},
   "outputs": [],
   "source": [
    "import polars as pl\n",
    "import os"
   ]
  },
  {
   "cell_type": "code",
   "execution_count": 49,
   "metadata": {},
   "outputs": [
    {
     "data": {
      "text/html": [
       "<div><style>\n",
       ".dataframe > thead > tr,\n",
       ".dataframe > tbody > tr {\n",
       "  text-align: right;\n",
       "  white-space: pre-wrap;\n",
       "}\n",
       "</style>\n",
       "<small>shape: (311_727, 4)</small><table border=\"1\" class=\"dataframe\"><thead><tr><th>tconst</th><th>startYear</th><th>averageRating</th><th>json</th></tr><tr><td>str</td><td>i64</td><td>f64</td><td>str</td></tr></thead><tbody><tr><td>&quot;tt0136535&quot;</td><td>1998</td><td>4.8</td><td>&quot;{&#x27;title&#x27;: &#x27;Webmaster&#x27;, &#x27;genres…</td></tr><tr><td>&quot;tt1933566&quot;</td><td>1968</td><td>4.6</td><td>&quot;{&#x27;title&#x27;: &#x27;The daughter of the…</td></tr><tr><td>&quot;tt2294804&quot;</td><td>2008</td><td>7.3</td><td>&quot;{&#x27;title&#x27;: &#x27;Found Footage Festi…</td></tr><tr><td>&quot;tt5297478&quot;</td><td>2015</td><td>7.5</td><td>&quot;{&#x27;title&#x27;: &#x27;Boudewijn de Groot …</td></tr><tr><td>&quot;tt0072358&quot;</td><td>1974</td><td>6.5</td><td>&quot;{&#x27;title&#x27;: &#x27;Last Moments&#x27;, &#x27;gen…</td></tr><tr><td>&hellip;</td><td>&hellip;</td><td>&hellip;</td><td>&hellip;</td></tr><tr><td>&quot;tt1241016&quot;</td><td>2008</td><td>8.0</td><td>&quot;{&#x27;title&#x27;: &#x27;Family&#x27;, &#x27;genres&#x27;: …</td></tr><tr><td>&quot;tt19864536&quot;</td><td>2022</td><td>6.9</td><td>&quot;{&#x27;title&#x27;: &#x27;Afrika&#x27;, &#x27;genres&#x27;: …</td></tr><tr><td>&quot;tt0810444&quot;</td><td>2006</td><td>3.3</td><td>&quot;{&#x27;title&#x27;: &#x27;The Pumpkin Karver&#x27;…</td></tr><tr><td>&quot;tt2103266&quot;</td><td>1970</td><td>6.3</td><td>&quot;{&#x27;title&#x27;: &#x27;Cauliflower Cupids&#x27;…</td></tr><tr><td>&quot;tt4114762&quot;</td><td>2015</td><td>3.7</td><td>&quot;{&#x27;title&#x27;: &#x27;Ask Sana Benzer&#x27;, &#x27;…</td></tr></tbody></table></div>"
      ],
      "text/plain": [
       "shape: (311_727, 4)\n",
       "┌────────────┬───────────┬───────────────┬─────────────────────────────────┐\n",
       "│ tconst     ┆ startYear ┆ averageRating ┆ json                            │\n",
       "│ ---        ┆ ---       ┆ ---           ┆ ---                             │\n",
       "│ str        ┆ i64       ┆ f64           ┆ str                             │\n",
       "╞════════════╪═══════════╪═══════════════╪═════════════════════════════════╡\n",
       "│ tt0136535  ┆ 1998      ┆ 4.8           ┆ {'title': 'Webmaster', 'genres… │\n",
       "│ tt1933566  ┆ 1968      ┆ 4.6           ┆ {'title': 'The daughter of the… │\n",
       "│ tt2294804  ┆ 2008      ┆ 7.3           ┆ {'title': 'Found Footage Festi… │\n",
       "│ tt5297478  ┆ 2015      ┆ 7.5           ┆ {'title': 'Boudewijn de Groot … │\n",
       "│ tt0072358  ┆ 1974      ┆ 6.5           ┆ {'title': 'Last Moments', 'gen… │\n",
       "│ …          ┆ …         ┆ …             ┆ …                               │\n",
       "│ tt1241016  ┆ 2008      ┆ 8.0           ┆ {'title': 'Family', 'genres': … │\n",
       "│ tt19864536 ┆ 2022      ┆ 6.9           ┆ {'title': 'Afrika', 'genres': … │\n",
       "│ tt0810444  ┆ 2006      ┆ 3.3           ┆ {'title': 'The Pumpkin Karver'… │\n",
       "│ tt2103266  ┆ 1970      ┆ 6.3           ┆ {'title': 'Cauliflower Cupids'… │\n",
       "│ tt4114762  ┆ 2015      ┆ 3.7           ┆ {'title': 'Ask Sana Benzer', '… │\n",
       "└────────────┴───────────┴───────────────┴─────────────────────────────────┘"
      ]
     },
     "execution_count": 49,
     "metadata": {},
     "output_type": "execute_result"
    }
   ],
   "source": [
    "data_dir = \"/Users/maxwoolf/Downloads\"\n",
    "\n",
    "df = pl.read_parquet(os.path.join(data_dir, \"test_movie_json_input.parquet\"))\n",
    "df = df.sample(fraction=1.0, shuffle=True, seed=42)\n",
    "df"
   ]
  },
  {
   "cell_type": "markdown",
   "metadata": {},
   "source": [
    "## First Stage\n"
   ]
  },
  {
   "cell_type": "code",
   "execution_count": 41,
   "metadata": {},
   "outputs": [],
   "source": [
    "import torch\n",
    "from tqdm.autonotebook import tqdm\n",
    "import random"
   ]
  },
  {
   "cell_type": "code",
   "execution_count": 50,
   "metadata": {},
   "outputs": [
    {
     "data": {
      "text/plain": [
       "[\"{'title': 'Webmaster', 'genres': ['Sci-Fi', 'Thriller'], 'is_adult': False, 'release_year': 1998, 'runtime_minutes': 102, 'directors': ['Thomas Borch Nielsen'], 'writers': ['Thomas Borch Nielsen'], 'producers': ['Vincent J. Francillon', 'Søren Juul Petersen'], 'actors': ['Lars Bom', 'Puk Scharbau', 'Jørgen Kiil', 'Karin Rørbeck', 'Mads Parsum', 'Dorte Westh Lehrmann', 'Flemming Jetmar', 'Sonnich Morgenstern', 'Kim Jansson', 'Dennis Dupont'], 'principals': [{'Lars Beyer': 'cinematographer'}, {'Kasper Leick': 'editor'}, {'Emilie Brandt Luke': 'casting_director'}, {'Thomas Ravn': 'production_designer'}]}\",\n",
       " \"{'title': 'The daughter of the king of fairies', 'genres': ['Drama', 'Romance'], 'is_adult': False, 'release_year': 1968, 'runtime_minutes': 104, 'directors': ['Shapur Gharib'], 'writers': ['Shapur Gharib'], 'producers': ['Abbas Homayoun', 'Iraj Sadeghpour', 'Manoochehr Vossoogh'], 'actors': ['Fourouzan', 'Manoochehr Vossoogh', 'Iran Ghaderi', 'Ahmad Ghadakchian', 'Ebrahim Fakhar', 'Hamideh Kheirabadi', 'Dariush Asadzade', 'Jahangir Forouhar', 'Mohammad Taghi Kahnemoui'], 'principals': [{'Iraj Sadeghpour': 'cinematographer'}, {'Iraj Sadeghpour': 'editor'}]}\",\n",
       " \"{'title': 'Found Footage Festival Volume 3: Live in San Francisco', 'genres': ['Comedy'], 'is_adult': False, 'release_year': 2008, 'runtime_minutes': 90, 'directors': ['Joe Pickett', 'Nick Prueher'], 'writers': ['Joe Pickett', 'Nick Prueher'], 'producers': ['Joe Pickett', 'Nick Prueher'], 'actors': [], 'principals': [{'Joe Pickett': 'self'}, {'Nick Prueher': 'self'}, {'Peter S. Thompson': 'cinematographer'}, {'Joe Pickett': 'editor'}, {'Nick Prueher': 'editor'}]}\",\n",
       " \"{'title': 'Boudewijn de Groot - Kom nader', 'genres': ['Documentary', 'Music'], 'is_adult': False, 'release_year': 2015, 'runtime_minutes': 90, 'directors': ['Suzanne Raes'], 'writers': ['Suzanne Raes'], 'producers': ['Fabie Hulsebos'], 'actors': [], 'principals': [{'Boudewijn de Groot': 'self'}, {'Anja Bak': 'self'}, {'Marcel De Groot': 'self'}, {'Caya de Groot': 'self'}, {'Jim de Groot': 'self'}, {'Roland de Groot': 'self'}, {'Marijke de Groot': 'self'}, {'George Kooymans': 'self'}, {'Jeroen Krabbé': 'self'}, {'Jaap Stork': 'self'}, {'Elja de Lange': 'editor'}]}\",\n",
       " \"{'title': 'Last Moments', 'genres': ['Drama'], 'is_adult': False, 'release_year': 1974, 'runtime_minutes': 89, 'directors': ['Mario Gariazzo'], 'writers': ['Mario Gariazzo', 'Armando Novelli', 'Massimo Franciosa', 'Luisa Montagnana'], 'producers': [], 'actors': ['Lee J. Cobb', 'James Whitmore', 'Renato Cestiè', 'Marina Malfatti', 'Maurizio Arena', 'Lina Volonghi', 'Adolfo Celi', 'Gianni Agus', 'Pupo De Luca', 'Gabriella Andreini'], 'principals': [{'Stelvio Cipriani': 'composer'}, {'Claudio Racca': 'cinematographer'}, {'Amedeo Giomini': 'editor'}]}\"]"
      ]
     },
     "execution_count": 50,
     "metadata": {},
     "output_type": "execute_result"
    }
   ],
   "source": [
    "random.seed(42)\n",
    "\n",
    "json_docs = df[\"json\"].to_list()[:1600]\n",
    "\n",
    "json_docs[:5]"
   ]
  },
  {
   "cell_type": "code",
   "execution_count": 51,
   "metadata": {},
   "outputs": [
    {
     "data": {
      "text/plain": [
       "512"
      ]
     },
     "execution_count": 51,
     "metadata": {},
     "output_type": "execute_result"
    }
   ],
   "source": [
    "document_prefix = \"search_document: \"\n",
    "\n",
    "minicorpus_size = model.config.transductive_corpus_size\n",
    "minicorpus_docs = random.sample(json_docs, minicorpus_size)\n",
    "len(minicorpus_docs)"
   ]
  },
  {
   "cell_type": "code",
   "execution_count": 52,
   "metadata": {},
   "outputs": [
    {
     "data": {
      "text/plain": [
       "torch.Size([512, 386])"
      ]
     },
     "execution_count": 52,
     "metadata": {},
     "output_type": "execute_result"
    }
   ],
   "source": [
    "minicorpus_tokens = tokenizer(\n",
    "    [document_prefix + doc for doc in minicorpus_docs],\n",
    "    truncation=True,\n",
    "    padding=True,\n",
    "    max_length=512,\n",
    "    return_tensors=\"pt\",\n",
    ").to(device)\n",
    "\n",
    "minicorpus_tokens[\"input_ids\"].size()"
   ]
  },
  {
   "cell_type": "code",
   "execution_count": 53,
   "metadata": {},
   "outputs": [
    {
     "data": {
      "application/vnd.jupyter.widget-view+json": {
       "model_id": "8e94fdd162b04b14bbcddec4ac72d535",
       "version_major": 2,
       "version_minor": 0
      },
      "text/plain": [
       "  0%|          | 0/32 [00:00<?, ?it/s]"
      ]
     },
     "metadata": {},
     "output_type": "display_data"
    },
    {
     "data": {
      "text/plain": [
       "torch.Size([512, 768])"
      ]
     },
     "execution_count": 53,
     "metadata": {},
     "output_type": "execute_result"
    }
   ],
   "source": [
    "batch_size = 16\n",
    "\n",
    "dataset_embeddings = []\n",
    "for i in tqdm(range(0, len(minicorpus_tokens[\"input_ids\"]), batch_size)):\n",
    "    minicorpus_docs_batch = {\n",
    "        k: v[i : i + batch_size] for k, v in minicorpus_tokens.items()\n",
    "    }\n",
    "    with torch.no_grad():\n",
    "        dataset_embeddings.append(model.first_stage_model(**minicorpus_docs_batch))\n",
    "\n",
    "dataset_embeddings = torch.cat(dataset_embeddings)\n",
    "dataset_embeddings.size()"
   ]
  },
  {
   "cell_type": "code",
   "execution_count": 54,
   "metadata": {},
   "outputs": [
    {
     "data": {
      "application/vnd.jupyter.widget-view+json": {
       "model_id": "1c3b36cc6179411faf71de72317c2ef2",
       "version_major": 2,
       "version_minor": 0
      },
      "text/plain": [
       "  0%|          | 0/100 [00:00<?, ?it/s]"
      ]
     },
     "metadata": {},
     "output_type": "display_data"
    },
    {
     "ename": "TypeError",
     "evalue": "cat(): argument 'tensors' (position 1) must be tuple of Tensors, not Tensor",
     "output_type": "error",
     "traceback": [
      "\u001b[0;31m---------------------------------------------------------------------------\u001b[0m",
      "\u001b[0;31mTypeError\u001b[0m                                 Traceback (most recent call last)",
      "Cell \u001b[0;32mIn[54], line 24\u001b[0m\n\u001b[1;32m     16\u001b[0m         doc_embeddings_batch \u001b[38;5;241m=\u001b[39m model\u001b[38;5;241m.\u001b[39msecond_stage_model(\n\u001b[1;32m     17\u001b[0m             input_ids\u001b[38;5;241m=\u001b[39mdocs_batch[\u001b[38;5;124m\"\u001b[39m\u001b[38;5;124minput_ids\u001b[39m\u001b[38;5;124m\"\u001b[39m],\n\u001b[1;32m     18\u001b[0m             attention_mask\u001b[38;5;241m=\u001b[39mdocs_batch[\u001b[38;5;124m\"\u001b[39m\u001b[38;5;124mattention_mask\u001b[39m\u001b[38;5;124m\"\u001b[39m],\n\u001b[1;32m     19\u001b[0m             dataset_embeddings\u001b[38;5;241m=\u001b[39mdataset_embeddings,\n\u001b[1;32m     20\u001b[0m         )\n\u001b[1;32m     21\u001b[0m         doc_embeddings\u001b[38;5;241m.\u001b[39mappend(doc_embeddings_batch)\n\u001b[0;32m---> 24\u001b[0m doc_embeddings \u001b[38;5;241m=\u001b[39m \u001b[43mtorch\u001b[49m\u001b[38;5;241;43m.\u001b[39;49m\u001b[43mcat\u001b[49m\u001b[43m(\u001b[49m\u001b[43mdataset_embeddings\u001b[49m\u001b[43m)\u001b[49m\n\u001b[1;32m     25\u001b[0m doc_embeddings \u001b[38;5;241m/\u001b[39m\u001b[38;5;241m=\u001b[39m doc_embeddings\u001b[38;5;241m.\u001b[39mnorm(p\u001b[38;5;241m=\u001b[39m\u001b[38;5;241m2\u001b[39m, dim\u001b[38;5;241m=\u001b[39m\u001b[38;5;241m1\u001b[39m, keepdim\u001b[38;5;241m=\u001b[39m\u001b[38;5;28;01mTrue\u001b[39;00m)\n\u001b[1;32m     26\u001b[0m doc_embeddings\u001b[38;5;241m.\u001b[39msize()\n",
      "\u001b[0;31mTypeError\u001b[0m: cat(): argument 'tensors' (position 1) must be tuple of Tensors, not Tensor"
     ]
    }
   ],
   "source": [
    "import torch\n",
    "from tqdm.autonotebook import tqdm\n",
    "\n",
    "docs = tokenizer(\n",
    "    [document_prefix + doc for doc in json_docs],\n",
    "    truncation=True,\n",
    "    padding=True,\n",
    "    max_length=512,\n",
    "    return_tensors=\"pt\",\n",
    ").to(device)\n",
    "\n",
    "doc_embeddings = []\n",
    "for i in tqdm(range(0, len(docs[\"input_ids\"]), batch_size)):\n",
    "    docs_batch = {k: v[i : i + batch_size] for k, v in docs.items()}\n",
    "    with torch.no_grad():\n",
    "        doc_embeddings_batch = model.second_stage_modesl(\n",
    "            input_ids=docs_batch[\"input_ids\"],\n",
    "            attention_mask=docs_batch[\"attention_mask\"],\n",
    "            dataset_embeddings=dataset_embeddings,\n",
    "        )\n",
    "        doc_embeddings.append(doc_embeddings_batch)"
   ]
  },
  {
   "cell_type": "code",
   "execution_count": 55,
   "metadata": {},
   "outputs": [
    {
     "data": {
      "text/plain": [
       "torch.Size([1600, 768])"
      ]
     },
     "execution_count": 55,
     "metadata": {},
     "output_type": "execute_result"
    }
   ],
   "source": [
    "doc_embeddings = torch.cat(doc_embeddings)\n",
    "doc_embeddings /= doc_embeddings.norm(p=2, dim=1, keepdim=True)\n",
    "doc_embeddings.size()"
   ]
  },
  {
   "cell_type": "code",
   "execution_count": null,
   "metadata": {},
   "outputs": [],
   "source": []
  }
 ],
 "metadata": {
  "kernelspec": {
   "display_name": ".venv",
   "language": "python",
   "name": "python3"
  },
  "language_info": {
   "codemirror_mode": {
    "name": "ipython",
    "version": 3
   },
   "file_extension": ".py",
   "mimetype": "text/x-python",
   "name": "python",
   "nbconvert_exporter": "python",
   "pygments_lexer": "ipython3",
   "version": "3.12.6"
  }
 },
 "nbformat": 4,
 "nbformat_minor": 2
}
