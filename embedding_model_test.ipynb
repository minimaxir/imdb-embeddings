{
 "cells": [
  {
   "cell_type": "markdown",
   "metadata": {},
   "source": [
    "https://huggingface.co/jxm/cde-small-v1\n"
   ]
  },
  {
   "cell_type": "code",
   "execution_count": 1,
   "metadata": {},
   "outputs": [
    {
     "name": "stderr",
     "output_type": "stream",
     "text": [
      "/Users/maxwoolf/Library/Mobile Documents/com~apple~CloudDocs/PythonProjects/imdb-embeddings/.venv/lib/python3.12/site-packages/transformers/tokenization_utils_base.py:1617: FutureWarning: `clean_up_tokenization_spaces` was not set. It will be set to `True` by default. This behavior will be deprecated in transformers v4.45, and will be then set to `False` by default. For more details check this issue: https://github.com/huggingface/transformers/issues/31884\n",
      "  warnings.warn(\n"
     ]
    }
   ],
   "source": [
    "import transformers\n",
    "import polars as pl\n",
    "import os\n",
    "\n",
    "tokenizer = transformers.AutoTokenizer.from_pretrained(\"bert-base-uncased\")"
   ]
  },
  {
   "cell_type": "code",
   "execution_count": 2,
   "metadata": {},
   "outputs": [
    {
     "name": "stderr",
     "output_type": "stream",
     "text": [
      "/Users/maxwoolf/.cache/huggingface/modules/transformers_modules/nomic-ai/nomic-bert-2048/c1b1fd7a715b8eb2e232d34593154ac782c98ac9/modeling_hf_nomic_bert.py:98: FutureWarning: You are using `torch.load` with `weights_only=False` (the current default value), which uses the default pickle module implicitly. It is possible to construct malicious pickle data which will execute arbitrary code during unpickling (See https://github.com/pytorch/pytorch/blob/main/SECURITY.md#untrusted-models for more details). In a future release, the default value for `weights_only` will be flipped to `True`. This limits the functions that could be executed during unpickling. Arbitrary objects will no longer be allowed to be loaded via this mode unless they are explicitly allowlisted by the user via `torch.serialization.add_safe_globals`. We recommend you start setting `weights_only=True` for any use case where you don't have full control of the loaded file. Please open an issue on GitHub for any issues related to this experimental feature.\n",
      "  state_dict = loader(resolved_archive_file)\n",
      "<All keys matched successfully>\n",
      "<All keys matched successfully>\n"
     ]
    },
    {
     "name": "stdout",
     "output_type": "stream",
     "text": [
      "Disabled 37 dropout modules from model type <class 'transformers_modules.jxm.cde-small-v1.10f081914816933d06b18c414c3484c96de49cdb.model.BiEncoder'>\n",
      "modified 12 rotary modules – set rotary_start_pos to 512\n",
      "Disabled 74 dropout modules from model type <class 'transformers_modules.jxm.cde-small-v1.10f081914816933d06b18c414c3484c96de49cdb.model.DatasetTransformer'>\n"
     ]
    }
   ],
   "source": [
    "device = \"mps\"\n",
    "\n",
    "model = transformers.AutoModel.from_pretrained(\n",
    "    \"jxm/cde-small-v1\", trust_remote_code=True\n",
    ")\n",
    "\n",
    "_ = model.to(device)"
   ]
  },
  {
   "cell_type": "code",
   "execution_count": 3,
   "metadata": {},
   "outputs": [
    {
     "data": {
      "text/plain": [
       "device(type='mps', index=0)"
      ]
     },
     "execution_count": 3,
     "metadata": {},
     "output_type": "execute_result"
    }
   ],
   "source": [
    "model.device"
   ]
  },
  {
   "cell_type": "code",
   "execution_count": 4,
   "metadata": {},
   "outputs": [
    {
     "data": {
      "text/html": [
       "<div><style>\n",
       ".dataframe > thead > tr,\n",
       ".dataframe > tbody > tr {\n",
       "  text-align: right;\n",
       "  white-space: pre-wrap;\n",
       "}\n",
       "</style>\n",
       "<small>shape: (311_727, 4)</small><table border=\"1\" class=\"dataframe\"><thead><tr><th>tconst</th><th>startYear</th><th>averageRating</th><th>json</th></tr><tr><td>str</td><td>i64</td><td>f64</td><td>str</td></tr></thead><tbody><tr><td>&quot;tt0136535&quot;</td><td>1998</td><td>4.8</td><td>&quot;{&#x27;title&#x27;: &#x27;Webmaster&#x27;, &#x27;genres…</td></tr><tr><td>&quot;tt1933566&quot;</td><td>1968</td><td>4.6</td><td>&quot;{&#x27;title&#x27;: &#x27;The daughter of the…</td></tr><tr><td>&quot;tt2294804&quot;</td><td>2008</td><td>7.3</td><td>&quot;{&#x27;title&#x27;: &#x27;Found Footage Festi…</td></tr><tr><td>&quot;tt5297478&quot;</td><td>2015</td><td>7.5</td><td>&quot;{&#x27;title&#x27;: &#x27;Boudewijn de Groot …</td></tr><tr><td>&quot;tt0072358&quot;</td><td>1974</td><td>6.5</td><td>&quot;{&#x27;title&#x27;: &#x27;Last Moments&#x27;, &#x27;gen…</td></tr><tr><td>&hellip;</td><td>&hellip;</td><td>&hellip;</td><td>&hellip;</td></tr><tr><td>&quot;tt1241016&quot;</td><td>2008</td><td>8.0</td><td>&quot;{&#x27;title&#x27;: &#x27;Family&#x27;, &#x27;genres&#x27;: …</td></tr><tr><td>&quot;tt19864536&quot;</td><td>2022</td><td>6.9</td><td>&quot;{&#x27;title&#x27;: &#x27;Afrika&#x27;, &#x27;genres&#x27;: …</td></tr><tr><td>&quot;tt0810444&quot;</td><td>2006</td><td>3.3</td><td>&quot;{&#x27;title&#x27;: &#x27;The Pumpkin Karver&#x27;…</td></tr><tr><td>&quot;tt2103266&quot;</td><td>1970</td><td>6.3</td><td>&quot;{&#x27;title&#x27;: &#x27;Cauliflower Cupids&#x27;…</td></tr><tr><td>&quot;tt4114762&quot;</td><td>2015</td><td>3.7</td><td>&quot;{&#x27;title&#x27;: &#x27;Ask Sana Benzer&#x27;, &#x27;…</td></tr></tbody></table></div>"
      ],
      "text/plain": [
       "shape: (311_727, 4)\n",
       "┌────────────┬───────────┬───────────────┬─────────────────────────────────┐\n",
       "│ tconst     ┆ startYear ┆ averageRating ┆ json                            │\n",
       "│ ---        ┆ ---       ┆ ---           ┆ ---                             │\n",
       "│ str        ┆ i64       ┆ f64           ┆ str                             │\n",
       "╞════════════╪═══════════╪═══════════════╪═════════════════════════════════╡\n",
       "│ tt0136535  ┆ 1998      ┆ 4.8           ┆ {'title': 'Webmaster', 'genres… │\n",
       "│ tt1933566  ┆ 1968      ┆ 4.6           ┆ {'title': 'The daughter of the… │\n",
       "│ tt2294804  ┆ 2008      ┆ 7.3           ┆ {'title': 'Found Footage Festi… │\n",
       "│ tt5297478  ┆ 2015      ┆ 7.5           ┆ {'title': 'Boudewijn de Groot … │\n",
       "│ tt0072358  ┆ 1974      ┆ 6.5           ┆ {'title': 'Last Moments', 'gen… │\n",
       "│ …          ┆ …         ┆ …             ┆ …                               │\n",
       "│ tt1241016  ┆ 2008      ┆ 8.0           ┆ {'title': 'Family', 'genres': … │\n",
       "│ tt19864536 ┆ 2022      ┆ 6.9           ┆ {'title': 'Afrika', 'genres': … │\n",
       "│ tt0810444  ┆ 2006      ┆ 3.3           ┆ {'title': 'The Pumpkin Karver'… │\n",
       "│ tt2103266  ┆ 1970      ┆ 6.3           ┆ {'title': 'Cauliflower Cupids'… │\n",
       "│ tt4114762  ┆ 2015      ┆ 3.7           ┆ {'title': 'Ask Sana Benzer', '… │\n",
       "└────────────┴───────────┴───────────────┴─────────────────────────────────┘"
      ]
     },
     "execution_count": 4,
     "metadata": {},
     "output_type": "execute_result"
    }
   ],
   "source": [
    "data_dir = \"/Users/maxwoolf/Downloads\"\n",
    "\n",
    "df = pl.read_parquet(os.path.join(data_dir, \"test_movie_json_input.parquet\"))\n",
    "df = df.sample(fraction=1.0, shuffle=True, seed=42)\n",
    "df"
   ]
  },
  {
   "cell_type": "markdown",
   "metadata": {},
   "source": [
    "## First Stage\n"
   ]
  },
  {
   "cell_type": "code",
   "execution_count": 5,
   "metadata": {},
   "outputs": [],
   "source": [
    "import torch\n",
    "from tqdm.autonotebook import tqdm\n",
    "import random"
   ]
  },
  {
   "cell_type": "code",
   "execution_count": 7,
   "metadata": {},
   "outputs": [
    {
     "data": {
      "text/plain": [
       "[\"{'title': 'Mechtat i zhit', 'genres': ['Drama'], 'is_adult': False, 'release_year': 1975, 'runtime_minutes': 89, 'directors': ['Yuri Ilyenko'], 'writers': ['Yuri Ilyenko', 'Ivan Mikolaychuk'], 'producers': [], 'actors': ['Larisa Kadochnikova', 'Rodion Nakhapetov', 'Yuri Ilyenko', 'Nina Urgant', 'Valentina Vladimirova', 'Oleg Polstvin', 'Leonid Kuravlyov', 'Yuriy Mazhuga', 'Vladimir Alekseyenko', 'Ye. Andriyenko'], 'principals': [{'Leonid Grabovskiy': 'composer'}, {'Vilen Kalyuta': 'cinematographer'}, {'E. Sumovska': 'editor'}, {'Sergei Brzhestovsky': 'production_designer'}]}\",\n",
       " \"{'title': 'A 2000 pengös férfi', 'genres': ['Comedy', 'Romance'], 'is_adult': False, 'release_year': 1942, 'runtime_minutes': 88, 'directors': ['László Cserépy'], 'writers': ['Pál Barabás'], 'producers': [], 'actors': ['Elma Bulla', 'Erzsi Simor', 'Miklós Hajmássy', 'Piroska Vaszary', 'Ilona Kökény', 'Lajos Alszeghy', 'Róbert Bánky', 'Lajos Boray', 'Lajos Sugár', 'Márta Fónay'], 'principals': [{'Szabolcs Fényes': 'composer'}, {'Barnabás Hegyi': 'cinematographer'}, {'Sándor Boronkay': 'editor'}, {'István Básthy': 'production_designer'}, {'Sándor Iliszi': 'production_designer'}]}\",\n",
       " \"{'title': 'Midnight Running', 'genres': ['Comedy', 'Crime'], 'is_adult': False, 'release_year': 2006, 'runtime_minutes': 93, 'directors': ['Chung-Ning Wong'], 'writers': ['Tak-Sam Leong', 'Ram Ling', 'Chung-Ning Wong'], 'producers': ['Tak-Sam Leong', 'Shin Yoneyama'], 'actors': ['Timmy Hung', 'Derek Tsang', 'Rumiko Maya', 'Calvin Choi', 'Carl Ng', 'Samuel Pang', 'Wing Yin Cheung', 'Roderick Lam'], 'principals': [{'Man-Sing Ng': 'cinematographer'}, {'Ka-Fai Cheung': 'editor'}]}\",\n",
       " \"{'title': 'J.S. Brown, o Último Herói', 'genres': ['Crime'], 'is_adult': False, 'release_year': 1980, 'runtime_minutes': 90, 'directors': ['José Frazão'], 'writers': ['Tairone Feitosa', 'José Frazão'], 'producers': ['Jefferson Albuquerque', 'Eduardo Leão', 'Lael Rodrigues'], 'actors': ['Raimundo Blumette', 'Harildo Deda', 'José Dumont', 'Maria Fernanda', 'Alvaro Freire', 'Milton Gaucho', 'Alexandre Gazineo', 'Gildasio Leite', 'Marise', 'Wilson Mello'], 'principals': [{'Jaceguay Lins': 'composer'}, {'Zetas Malzoni': 'cinematographer'}, {'Lael Rodrigues': 'editor'}]}\",\n",
       " \"{'title': 'Guruldayan Kalpler', 'genres': ['Comedy', 'Drama'], 'is_adult': False, 'release_year': 2014, 'runtime_minutes': 97, 'directors': [], 'writers': ['Caner Güler'], 'producers': ['Ahmet Kayimtu', 'Mahmut Kayimtu'], 'actors': ['Algi Eke', 'Tanju Tuncel', 'Firat Tanis', 'Uygar Özçelik', 'Hakan Meriçliler', 'Ünal Yeter', 'Ali Tutal', 'Sevilay Simsek', 'Ayhan Baris Basar', 'Necip Memili'], 'principals': [{'Selim Siyami Sumer': 'composer'}, {'Sertaç Özgümüs': 'composer'}, {'Selahattin Sancakli': 'cinematographer'}, {'Deniz Kayik': 'editor'}, {'Kubilay Ulukavak': 'editor'}]}\"]"
      ]
     },
     "execution_count": 7,
     "metadata": {},
     "output_type": "execute_result"
    }
   ],
   "source": [
    "df_subset = df.sample(n=1600, shuffle=True, seed=42)\n",
    "json_docs = df_subset[\"json\"].to_list()\n",
    "\n",
    "json_docs[:5]"
   ]
  },
  {
   "cell_type": "code",
   "execution_count": 8,
   "metadata": {},
   "outputs": [
    {
     "data": {
      "text/plain": [
       "512"
      ]
     },
     "execution_count": 8,
     "metadata": {},
     "output_type": "execute_result"
    }
   ],
   "source": [
    "document_prefix = \"search_document: \"\n",
    "\n",
    "minicorpus_size = model.config.transductive_corpus_size\n",
    "minicorpus_docs = random.sample(json_docs, minicorpus_size)\n",
    "len(minicorpus_docs)"
   ]
  },
  {
   "cell_type": "code",
   "execution_count": 9,
   "metadata": {},
   "outputs": [
    {
     "data": {
      "text/plain": [
       "torch.Size([512, 400])"
      ]
     },
     "execution_count": 9,
     "metadata": {},
     "output_type": "execute_result"
    }
   ],
   "source": [
    "minicorpus_tokens = tokenizer(\n",
    "    [document_prefix + doc for doc in minicorpus_docs],\n",
    "    truncation=True,\n",
    "    padding=True,\n",
    "    max_length=512,\n",
    "    return_tensors=\"pt\",\n",
    ").to(device)\n",
    "\n",
    "minicorpus_tokens[\"input_ids\"].size()"
   ]
  },
  {
   "cell_type": "code",
   "execution_count": 17,
   "metadata": {},
   "outputs": [
    {
     "data": {
      "application/vnd.jupyter.widget-view+json": {
       "model_id": "3839b946fd1a414aa46beb546bd7015e",
       "version_major": 2,
       "version_minor": 0
      },
      "text/plain": [
       "  0%|          | 0/16 [00:00<?, ?it/s]"
      ]
     },
     "metadata": {},
     "output_type": "display_data"
    },
    {
     "data": {
      "text/plain": [
       "torch.Size([512, 768])"
      ]
     },
     "execution_count": 17,
     "metadata": {},
     "output_type": "execute_result"
    }
   ],
   "source": [
    "dataloader = torch.utils.data.DataLoader(minicorpus_docs, batch_size=32, shuffle=False)\n",
    "\n",
    "dataset_embeddings = []\n",
    "for batch in tqdm(dataloader, smoothing=0):\n",
    "    minicorpus_tokens = tokenizer(\n",
    "        [document_prefix + doc for doc in batch],\n",
    "        truncation=True,\n",
    "        padding=\"max_length\",\n",
    "        max_length=512,\n",
    "        return_tensors=\"pt\",\n",
    "    ).to(device)\n",
    "    with torch.no_grad():\n",
    "        dataset_embeddings.append(model.first_stage_model(**minicorpus_tokens))\n",
    "\n",
    "dataset_embeddings = torch.cat(dataset_embeddings)\n",
    "dataset_embeddings.size()"
   ]
  },
  {
   "cell_type": "code",
   "execution_count": 19,
   "metadata": {},
   "outputs": [
    {
     "data": {
      "application/vnd.jupyter.widget-view+json": {
       "model_id": "a815bad3ec43439aa362a1018b6499f7",
       "version_major": 2,
       "version_minor": 0
      },
      "text/plain": [
       "  0%|          | 0/50 [00:00<?, ?it/s]"
      ]
     },
     "metadata": {},
     "output_type": "display_data"
    },
    {
     "data": {
      "text/plain": [
       "torch.Size([1600, 768])"
      ]
     },
     "execution_count": 19,
     "metadata": {},
     "output_type": "execute_result"
    }
   ],
   "source": [
    "dataloader = torch.utils.data.DataLoader(json_docs, batch_size=32, shuffle=False)\n",
    "\n",
    "doc_embeddings = []\n",
    "for batch in tqdm(dataloader, smoothing=0):\n",
    "    docs_batch = tokenizer(\n",
    "        [document_prefix + doc for doc in batch],\n",
    "        truncation=True,\n",
    "        padding=\"max_length\",\n",
    "        max_length=512,\n",
    "        return_tensors=\"pt\",\n",
    "    ).to(device)\n",
    "    with torch.no_grad():\n",
    "        doc_embeddings_batch = model.second_stage_model(\n",
    "            input_ids=docs_batch[\"input_ids\"],\n",
    "            attention_mask=docs_batch[\"attention_mask\"],\n",
    "            dataset_embeddings=dataset_embeddings,\n",
    "        )\n",
    "        doc_embeddings.append(doc_embeddings_batch)\n",
    "\n",
    "doc_embeddings = torch.cat(doc_embeddings)\n",
    "doc_embeddings /= doc_embeddings.norm(p=2, dim=1, keepdim=True)\n",
    "doc_embeddings.size()"
   ]
  },
  {
   "cell_type": "code",
   "execution_count": 20,
   "metadata": {},
   "outputs": [
    {
     "data": {
      "text/html": [
       "<div><style>\n",
       ".dataframe > thead > tr,\n",
       ".dataframe > tbody > tr {\n",
       "  text-align: right;\n",
       "  white-space: pre-wrap;\n",
       "}\n",
       "</style>\n",
       "<small>shape: (1_600, 5)</small><table border=\"1\" class=\"dataframe\"><thead><tr><th>tconst</th><th>startYear</th><th>averageRating</th><th>json</th><th>embeds</th></tr><tr><td>str</td><td>i64</td><td>f64</td><td>str</td><td>array[f32, 768]</td></tr></thead><tbody><tr><td>&quot;tt0171517&quot;</td><td>1975</td><td>6.2</td><td>&quot;{&#x27;title&#x27;: &#x27;Mechtat i zhit&#x27;, &#x27;g…</td><td>[-0.00642, -0.008363, … -0.095905]</td></tr><tr><td>&quot;tt0034421&quot;</td><td>1942</td><td>7.1</td><td>&quot;{&#x27;title&#x27;: &#x27;A 2000 pengös férfi…</td><td>[-0.027937, 0.038252, … -0.067883]</td></tr><tr><td>&quot;tt0989642&quot;</td><td>2006</td><td>5.6</td><td>&quot;{&#x27;title&#x27;: &#x27;Midnight Running&#x27;, …</td><td>[-0.001267, 0.034308, … -0.027295]</td></tr><tr><td>&quot;tt0273692&quot;</td><td>1980</td><td>7.4</td><td>&quot;{&#x27;title&#x27;: &#x27;J.S. Brown, o Últim…</td><td>[-0.015184, 0.027515, … -0.077242]</td></tr><tr><td>&quot;tt4470172&quot;</td><td>2014</td><td>5.6</td><td>&quot;{&#x27;title&#x27;: &#x27;Guruldayan Kalpler&#x27;…</td><td>[-0.000246, 0.017736, … -0.053503]</td></tr><tr><td>&hellip;</td><td>&hellip;</td><td>&hellip;</td><td>&hellip;</td><td>&hellip;</td></tr><tr><td>&quot;tt1326956&quot;</td><td>2009</td><td>8.1</td><td>&quot;{&#x27;title&#x27;: &#x27;Our Summer in Tehra…</td><td>[-0.023254, 0.013627, … -0.036384]</td></tr><tr><td>&quot;tt0175092&quot;</td><td>1982</td><td>6.7</td><td>&quot;{&#x27;title&#x27;: &quot;Puss &#x27;n Boots&quot;, &#x27;ge…</td><td>[0.017054, 0.044542, … -0.076013]</td></tr><tr><td>&quot;tt2739566&quot;</td><td>1998</td><td>7.1</td><td>&quot;{&#x27;title&#x27;: &#x27;Jungle Love Story&#x27;,…</td><td>[-0.049089, 0.011179, … -0.030443]</td></tr><tr><td>&quot;tt15485264&quot;</td><td>2021</td><td>7.0</td><td>&quot;{&#x27;title&#x27;: &#x27;Ring Wandering&#x27;, &#x27;g…</td><td>[-0.012844, -0.001891, … -0.021231]</td></tr><tr><td>&quot;tt0123377&quot;</td><td>1943</td><td>4.8</td><td>&quot;{&#x27;title&#x27;: &#x27;Alt for karrieren&#x27;,…</td><td>[-0.055145, 0.007631, … -0.094466]</td></tr></tbody></table></div>"
      ],
      "text/plain": [
       "shape: (1_600, 5)\n",
       "┌────────────┬───────────┬───────────────┬────────────────────────────┬────────────────────────────┐\n",
       "│ tconst     ┆ startYear ┆ averageRating ┆ json                       ┆ embeds                     │\n",
       "│ ---        ┆ ---       ┆ ---           ┆ ---                        ┆ ---                        │\n",
       "│ str        ┆ i64       ┆ f64           ┆ str                        ┆ array[f32, 768]            │\n",
       "╞════════════╪═══════════╪═══════════════╪════════════════════════════╪════════════════════════════╡\n",
       "│ tt0171517  ┆ 1975      ┆ 6.2           ┆ {'title': 'Mechtat i       ┆ [-0.00642, -0.008363, …    │\n",
       "│            ┆           ┆               ┆ zhit', 'g…                 ┆ -0.095…                    │\n",
       "│ tt0034421  ┆ 1942      ┆ 7.1           ┆ {'title': 'A 2000 pengös   ┆ [-0.027937, 0.038252, …    │\n",
       "│            ┆           ┆               ┆ férfi…                     ┆ -0.067…                    │\n",
       "│ tt0989642  ┆ 2006      ┆ 5.6           ┆ {'title': 'Midnight        ┆ [-0.001267, 0.034308, …    │\n",
       "│            ┆           ┆               ┆ Running', …                ┆ -0.027…                    │\n",
       "│ tt0273692  ┆ 1980      ┆ 7.4           ┆ {'title': 'J.S. Brown, o   ┆ [-0.015184, 0.027515, …    │\n",
       "│            ┆           ┆               ┆ Últim…                     ┆ -0.077…                    │\n",
       "│ tt4470172  ┆ 2014      ┆ 5.6           ┆ {'title': 'Guruldayan      ┆ [-0.000246, 0.017736, …    │\n",
       "│            ┆           ┆               ┆ Kalpler'…                  ┆ -0.053…                    │\n",
       "│ …          ┆ …         ┆ …             ┆ …                          ┆ …                          │\n",
       "│ tt1326956  ┆ 2009      ┆ 8.1           ┆ {'title': 'Our Summer in   ┆ [-0.023254, 0.013627, …    │\n",
       "│            ┆           ┆               ┆ Tehra…                     ┆ -0.036…                    │\n",
       "│ tt0175092  ┆ 1982      ┆ 6.7           ┆ {'title': \"Puss 'n Boots\", ┆ [0.017054, 0.044542, …     │\n",
       "│            ┆           ┆               ┆ 'ge…                       ┆ -0.0760…                   │\n",
       "│ tt2739566  ┆ 1998      ┆ 7.1           ┆ {'title': 'Jungle Love     ┆ [-0.049089, 0.011179, …    │\n",
       "│            ┆           ┆               ┆ Story',…                   ┆ -0.030…                    │\n",
       "│ tt15485264 ┆ 2021      ┆ 7.0           ┆ {'title': 'Ring            ┆ [-0.012844, -0.001891, …   │\n",
       "│            ┆           ┆               ┆ Wandering', 'g…            ┆ -0.02…                     │\n",
       "│ tt0123377  ┆ 1943      ┆ 4.8           ┆ {'title': 'Alt for         ┆ [-0.055145, 0.007631, …    │\n",
       "│            ┆           ┆               ┆ karrieren',…               ┆ -0.094…                    │\n",
       "└────────────┴───────────┴───────────────┴────────────────────────────┴────────────────────────────┘"
      ]
     },
     "execution_count": 20,
     "metadata": {},
     "output_type": "execute_result"
    }
   ],
   "source": [
    "df_subset_2 = df_subset.with_columns(embeds=doc_embeddings.cpu().numpy())\n",
    "df_subset_2"
   ]
  },
  {
   "cell_type": "code",
   "execution_count": 21,
   "metadata": {},
   "outputs": [],
   "source": [
    "df_subset_2.write_parquet(os.path.join(data_dir, \"movie_embeds.parquet\"))"
   ]
  },
  {
   "cell_type": "code",
   "execution_count": null,
   "metadata": {},
   "outputs": [],
   "source": []
  }
 ],
 "metadata": {
  "kernelspec": {
   "display_name": ".venv",
   "language": "python",
   "name": "python3"
  },
  "language_info": {
   "codemirror_mode": {
    "name": "ipython",
    "version": 3
   },
   "file_extension": ".py",
   "mimetype": "text/x-python",
   "name": "python",
   "nbconvert_exporter": "python",
   "pygments_lexer": "ipython3",
   "version": "3.12.6"
  }
 },
 "nbformat": 4,
 "nbformat_minor": 2
}
