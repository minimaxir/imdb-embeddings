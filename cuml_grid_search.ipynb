{
 "cells": [
  {
   "cell_type": "markdown",
   "metadata": {},
   "source": [
    "Test implementation of grid search using scikit-learn algorithms before spending time testing it with cuML.\n",
    "\n",
    "Although scikit-learn has [GridSearchCV](https://scikit-learn.org/stable/modules/generated/sklearn.model_selection.GridSearchCV.html) for performing a grid search across various algorithms, it doesn't offer the control I need in terms of trial data output (e.g. what I want is outputting the results of each trial in a denormalized row)\n",
    "\n",
    "XGBoost note: https://stackoverflow.com/questions/63776921/you-are-running-32-bit-python-on-a-64-bit-osmac-and-xgboost-library-could-not\n"
   ]
  },
  {
   "cell_type": "code",
   "execution_count": 1,
   "metadata": {
    "tags": []
   },
   "outputs": [],
   "source": [
    "import os\n",
    "\n",
    "# import xgboost\n",
    "import polars as pl\n",
    "import cuml\n",
    "import cudf"
   ]
  },
  {
   "cell_type": "code",
   "execution_count": 2,
   "metadata": {
    "tags": []
   },
   "outputs": [
    {
     "data": {
      "text/html": [
       "<div><style>\n",
       ".dataframe > thead > tr,\n",
       ".dataframe > tbody > tr {\n",
       "  text-align: right;\n",
       "  white-space: pre-wrap;\n",
       "}\n",
       "</style>\n",
       "<small>shape: (242_552, 6)</small><table border=\"1\" class=\"dataframe\"><thead><tr><th>tconst</th><th>startYear</th><th>numVotes</th><th>averageRating</th><th>json</th><th>embedding</th></tr><tr><td>str</td><td>i64</td><td>i64</td><td>f32</td><td>str</td><td>array[f32, 768]</td></tr></thead><tbody><tr><td>&quot;tt0173052&quot;</td><td>1999</td><td>354</td><td>4.1</td><td>&quot;{\n",
       "&nbsp;&nbsp;&quot;title&quot;: &quot;The Prince and t…</td><td>[0.046187, 0.006053, … 0.011911]</td></tr><tr><td>&quot;tt0266288&quot;</td><td>1996</td><td>1054</td><td>7.4</td><td>&quot;{\n",
       "&nbsp;&nbsp;&quot;title&quot;: &quot;Azhakiya Ravanan…</td><td>[-0.004875, -0.046969, … 0.017516]</td></tr><tr><td>&quot;tt6263490&quot;</td><td>2020</td><td>2713</td><td>4.3</td><td>&quot;{\n",
       "&nbsp;&nbsp;&quot;title&quot;: &quot;Getaway&quot;,\n",
       "&nbsp;&nbsp;&quot;gen…</td><td>[0.005363, -0.018672, … 0.015112]</td></tr><tr><td>&quot;tt10049110&quot;</td><td>2019</td><td>106</td><td>7.8</td><td>&quot;{\n",
       "&nbsp;&nbsp;&quot;title&quot;: &quot;Die Wiese&quot;,\n",
       "&nbsp;&nbsp;&quot;g…</td><td>[-0.009997, -0.029303, … 0.037793]</td></tr><tr><td>&quot;tt5761612&quot;</td><td>2018</td><td>133</td><td>3.8</td><td>&quot;{\n",
       "&nbsp;&nbsp;&quot;title&quot;: &quot;Woman on the Edg…</td><td>[0.020259, -0.031869, … -0.01841]</td></tr><tr><td>&hellip;</td><td>&hellip;</td><td>&hellip;</td><td>&hellip;</td><td>&hellip;</td><td>&hellip;</td></tr><tr><td>&quot;tt0079376&quot;</td><td>1979</td><td>168</td><td>6.2</td><td>&quot;{\n",
       "&nbsp;&nbsp;&quot;title&quot;: &quot;The Proud Twins&quot;…</td><td>[0.062672, -0.009446, … 0.019441]</td></tr><tr><td>&quot;tt1161064&quot;</td><td>2008</td><td>1194</td><td>3.2</td><td>&quot;{\n",
       "&nbsp;&nbsp;&quot;title&quot;: &quot;Super Capers: Th…</td><td>[0.022779, 0.053063, … -0.009691]</td></tr><tr><td>&quot;tt0179526&quot;</td><td>1997</td><td>340</td><td>5.7</td><td>&quot;{\n",
       "&nbsp;&nbsp;&quot;title&quot;: &quot;Who&#x27;s the Caboos…</td><td>[0.001937, 0.003111, … -0.002453]</td></tr><tr><td>&quot;tt0188233&quot;</td><td>1979</td><td>32</td><td>5.7</td><td>&quot;{\n",
       "&nbsp;&nbsp;&quot;title&quot;: &quot;That&#x27;s Erotic&quot;,\n",
       "…</td><td>[0.03125, 0.013802, … 0.009849]</td></tr><tr><td>&quot;tt0082518&quot;</td><td>1981</td><td>483</td><td>5.8</td><td>&quot;{\n",
       "&nbsp;&nbsp;&quot;title&quot;: &quot;Hoge hakken, ech…</td><td>[-0.00382, -0.022576, … 0.00969]</td></tr></tbody></table></div>"
      ],
      "text/plain": [
       "shape: (242_552, 6)\n",
       "┌────────────┬───────────┬──────────┬───────────────┬───────────────────────┬──────────────────────┐\n",
       "│ tconst     ┆ startYear ┆ numVotes ┆ averageRating ┆ json                  ┆ embedding            │\n",
       "│ ---        ┆ ---       ┆ ---      ┆ ---           ┆ ---                   ┆ ---                  │\n",
       "│ str        ┆ i64       ┆ i64      ┆ f32           ┆ str                   ┆ array[f32, 768]      │\n",
       "╞════════════╪═══════════╪══════════╪═══════════════╪═══════════════════════╪══════════════════════╡\n",
       "│ tt0173052  ┆ 1999      ┆ 354      ┆ 4.1           ┆ {                     ┆ [0.046187, 0.006053, │\n",
       "│            ┆           ┆          ┆               ┆ \"title\": \"The Prince  ┆ … 0.01191…           │\n",
       "│            ┆           ┆          ┆               ┆ and t…                ┆                      │\n",
       "│ tt0266288  ┆ 1996      ┆ 1054     ┆ 7.4           ┆ {                     ┆ [-0.004875,          │\n",
       "│            ┆           ┆          ┆               ┆ \"title\": \"Azhakiya    ┆ -0.046969, … 0.017…  │\n",
       "│            ┆           ┆          ┆               ┆ Ravanan…              ┆                      │\n",
       "│ tt6263490  ┆ 2020      ┆ 2713     ┆ 4.3           ┆ {                     ┆ [0.005363,           │\n",
       "│            ┆           ┆          ┆               ┆   \"title\": \"Getaway\", ┆ -0.018672, … 0.0151… │\n",
       "│            ┆           ┆          ┆               ┆   \"gen…               ┆                      │\n",
       "│ tt10049110 ┆ 2019      ┆ 106      ┆ 7.8           ┆ {                     ┆ [-0.009997,          │\n",
       "│            ┆           ┆          ┆               ┆ \"title\": \"Die Wiese\", ┆ -0.029303, … 0.037…  │\n",
       "│            ┆           ┆          ┆               ┆   \"g…                 ┆                      │\n",
       "│ tt5761612  ┆ 2018      ┆ 133      ┆ 3.8           ┆ {                     ┆ [0.020259,           │\n",
       "│            ┆           ┆          ┆               ┆ \"title\": \"Woman on    ┆ -0.031869, … -0.018… │\n",
       "│            ┆           ┆          ┆               ┆ the Edg…              ┆                      │\n",
       "│ …          ┆ …         ┆ …        ┆ …             ┆ …                     ┆ …                    │\n",
       "│ tt0079376  ┆ 1979      ┆ 168      ┆ 6.2           ┆ {                     ┆ [0.062672,           │\n",
       "│            ┆           ┆          ┆               ┆ \"title\": \"The Proud   ┆ -0.009446, … 0.0194… │\n",
       "│            ┆           ┆          ┆               ┆ Twins\"…               ┆                      │\n",
       "│ tt1161064  ┆ 2008      ┆ 1194     ┆ 3.2           ┆ {                     ┆ [0.022779, 0.053063, │\n",
       "│            ┆           ┆          ┆               ┆ \"title\": \"Super       ┆ … -0.0096…           │\n",
       "│            ┆           ┆          ┆               ┆ Capers: Th…           ┆                      │\n",
       "│ tt0179526  ┆ 1997      ┆ 340      ┆ 5.7           ┆ {                     ┆ [0.001937, 0.003111, │\n",
       "│            ┆           ┆          ┆               ┆ \"title\": \"Who's the   ┆ … -0.0024…           │\n",
       "│            ┆           ┆          ┆               ┆ Caboos…               ┆                      │\n",
       "│ tt0188233  ┆ 1979      ┆ 32       ┆ 5.7           ┆ {                     ┆ [0.03125, 0.013802,  │\n",
       "│            ┆           ┆          ┆               ┆ \"title\": \"That's      ┆ … 0.009849…          │\n",
       "│            ┆           ┆          ┆               ┆ Erotic\",              ┆                      │\n",
       "│            ┆           ┆          ┆               ┆ …                     ┆                      │\n",
       "│ tt0082518  ┆ 1981      ┆ 483      ┆ 5.8           ┆ {                     ┆ [-0.00382,           │\n",
       "│            ┆           ┆          ┆               ┆ \"title\": \"Hoge        ┆ -0.022576, … 0.0096… │\n",
       "│            ┆           ┆          ┆               ┆ hakken, ech…          ┆                      │\n",
       "└────────────┴───────────┴──────────┴───────────────┴───────────────────────┴──────────────────────┘"
      ]
     },
     "execution_count": 2,
     "metadata": {},
     "output_type": "execute_result"
    }
   ],
   "source": [
    "df = (\n",
    "    pl.scan_parquet(\n",
    "        \"movie_data_plus_embeds_all.parquet\"\n",
    "    )\n",
    "    # .select([\"tconst\", \"averageRating\", \"embedding\"])\n",
    "    .with_columns(averageRating=pl.col(\"averageRating\").cast(pl.Float32))\n",
    "    .collect()\n",
    "    .sample(fraction=1.0, shuffle=True, seed=42)\n",
    ")\n",
    "\n",
    "df"
   ]
  },
  {
   "cell_type": "markdown",
   "metadata": {},
   "source": [
    "To avoid conversion overhead, store all data as `cuDF` [DataFrames](https://docs.rapids.ai/api/cudf/stable/user_guide/api_docs/api/cudf.dataframe/#cudf.DataFrame)."
   ]
  },
  {
   "cell_type": "code",
   "execution_count": 3,
   "metadata": {
    "tags": []
   },
   "outputs": [
    {
     "data": {
      "text/plain": [
       "0         4.1\n",
       "1         7.4\n",
       "2         4.3\n",
       "3         7.8\n",
       "4         3.8\n",
       "         ... \n",
       "222547    5.0\n",
       "222548    6.7\n",
       "222549    6.4\n",
       "222550    6.0\n",
       "222551    6.5\n",
       "Length: 222552, dtype: float32"
      ]
     },
     "execution_count": 3,
     "metadata": {},
     "output_type": "execute_result"
    }
   ],
   "source": [
    "n_test = 20000\n",
    "\n",
    "X_train = cudf.DataFrame(df[:-n_test][\"embedding\"].to_numpy().copy())\n",
    "X_test = cudf.DataFrame(df[-n_test:][\"embedding\"].to_numpy().copy())\n",
    "\n",
    "y_train = cudf.Series(df[:-n_test][\"averageRating\"].to_numpy().copy())\n",
    "y_test = cudf.Series(df[-n_test:][\"averageRating\"].to_numpy().copy())\n",
    "\n",
    "y_train"
   ]
  },
  {
   "cell_type": "markdown",
   "metadata": {},
   "source": [
    "Test using the train set mean only."
   ]
  },
  {
   "cell_type": "code",
   "execution_count": 4,
   "metadata": {
    "tags": []
   },
   "outputs": [
    {
     "data": {
      "text/plain": [
       "6.055189800023445"
      ]
     },
     "execution_count": 4,
     "metadata": {},
     "output_type": "execute_result"
    }
   ],
   "source": [
    "y_train_mean = y_train.mean()\n",
    "y_train_mean"
   ]
  },
  {
   "cell_type": "code",
   "execution_count": 5,
   "metadata": {
    "tags": []
   },
   "outputs": [
    {
     "data": {
      "text/plain": [
       "1.6378202126246257"
      ]
     },
     "execution_count": 5,
     "metadata": {},
     "output_type": "execute_result"
    }
   ],
   "source": [
    "y_train_mean_series = cudf.Series([y_train_mean] * n_test)\n",
    "\n",
    "nir = cuml.metrics.mean_squared_error(y_train_mean_series, y_test)\n",
    "nir"
   ]
  },
  {
   "cell_type": "markdown",
   "metadata": {},
   "source": [
    "Test a simple OLS.\n"
   ]
  },
  {
   "cell_type": "code",
   "execution_count": 6,
   "metadata": {
    "tags": []
   },
   "outputs": [
    {
     "data": {
      "text/plain": [
       "1.1870156526565552"
      ]
     },
     "execution_count": 6,
     "metadata": {},
     "output_type": "execute_result"
    }
   ],
   "source": [
    "model = cuml.LinearRegression()\n",
    "model.fit(X_train, y_train)\n",
    "\n",
    "y_pred = model.predict(X_test)\n",
    "mse = cuml.metrics.mean_squared_error(y_test, y_pred)\n",
    "mse"
   ]
  },
  {
   "cell_type": "markdown",
   "metadata": {},
   "source": [
    "## Start Grid Search\n",
    "\n",
    "- Create a parameter grid\n",
    "- Run sequentually since this will evenatually be on a single GPU.\n",
    "- Write the results ([time elapsed](https://stackoverflow.com/a/63232040), train MSE, test MSE) to a dict along with the metadata.\n",
    "- Load all the data into polars and save as parquet.\n",
    "\n",
    "Test with a Support Vector Machine since that has tweakable parameters.\n"
   ]
  },
  {
   "cell_type": "code",
   "execution_count": 7,
   "metadata": {
    "tags": []
   },
   "outputs": [],
   "source": [
    "import itertools\n",
    "import time\n",
    "\n",
    "import numpy as np\n",
    "from sklearn.svm import SVR\n",
    "from tqdm.auto import tqdm"
   ]
  },
  {
   "cell_type": "markdown",
   "metadata": {},
   "source": [
    "Build the grid to get all combinations of parameters. Normally numpy shenanigans would be used here for fast speed but that causes data type issues, e.g. several parameters must be `int`s but numpy shenanigans will force `float`s.\n"
   ]
  },
  {
   "cell_type": "code",
   "execution_count": 8,
   "metadata": {
    "tags": []
   },
   "outputs": [],
   "source": [
    "param_grid = {\n",
    "    \"C\": np.linspace(start=0.8, stop=1.2, num=5),\n",
    "    \"epsilon\": np.linspace(start=0.8, stop=1.2, num=5),\n",
    "}"
   ]
  },
  {
   "cell_type": "code",
   "execution_count": 9,
   "metadata": {
    "tags": []
   },
   "outputs": [
    {
     "data": {
      "text/plain": [
       "[[0.8, 0.9, 1.0, 1.1, 1.2], [0.8, 0.9, 1.0, 1.1, 1.2]]"
      ]
     },
     "execution_count": 9,
     "metadata": {},
     "output_type": "execute_result"
    }
   ],
   "source": [
    "[x.tolist() for x in param_grid.values()]"
   ]
  },
  {
   "cell_type": "code",
   "execution_count": 10,
   "metadata": {
    "tags": []
   },
   "outputs": [
    {
     "data": {
      "text/plain": [
       "[(0.8, 0.8),\n",
       " (0.8, 0.9),\n",
       " (0.8, 1.0),\n",
       " (0.8, 1.1),\n",
       " (0.8, 1.2),\n",
       " (0.9, 0.8),\n",
       " (0.9, 0.9),\n",
       " (0.9, 1.0),\n",
       " (0.9, 1.1),\n",
       " (0.9, 1.2),\n",
       " (1.0, 0.8),\n",
       " (1.0, 0.9),\n",
       " (1.0, 1.0),\n",
       " (1.0, 1.1),\n",
       " (1.0, 1.2),\n",
       " (1.1, 0.8),\n",
       " (1.1, 0.9),\n",
       " (1.1, 1.0),\n",
       " (1.1, 1.1),\n",
       " (1.1, 1.2),\n",
       " (1.2, 0.8),\n",
       " (1.2, 0.9),\n",
       " (1.2, 1.0),\n",
       " (1.2, 1.1),\n",
       " (1.2, 1.2)]"
      ]
     },
     "execution_count": 10,
     "metadata": {},
     "output_type": "execute_result"
    }
   ],
   "source": [
    "param_values = [x.tolist() for x in param_grid.values()]\n",
    "\n",
    "combos = list(itertools.product(*param_values))\n",
    "combos"
   ]
  },
  {
   "cell_type": "markdown",
   "metadata": {},
   "source": [
    "[zip shenanigans](https://stackoverflow.com/a/33737067) to map back to a list of dicts.\n"
   ]
  },
  {
   "cell_type": "code",
   "execution_count": 11,
   "metadata": {
    "tags": []
   },
   "outputs": [
    {
     "data": {
      "text/plain": [
       "[{'C': 0.8, 'epsilon': 0.8},\n",
       " {'C': 0.8, 'epsilon': 0.9},\n",
       " {'C': 0.8, 'epsilon': 1.0},\n",
       " {'C': 0.8, 'epsilon': 1.1},\n",
       " {'C': 0.8, 'epsilon': 1.2},\n",
       " {'C': 0.9, 'epsilon': 0.8},\n",
       " {'C': 0.9, 'epsilon': 0.9},\n",
       " {'C': 0.9, 'epsilon': 1.0},\n",
       " {'C': 0.9, 'epsilon': 1.1},\n",
       " {'C': 0.9, 'epsilon': 1.2},\n",
       " {'C': 1.0, 'epsilon': 0.8},\n",
       " {'C': 1.0, 'epsilon': 0.9},\n",
       " {'C': 1.0, 'epsilon': 1.0},\n",
       " {'C': 1.0, 'epsilon': 1.1},\n",
       " {'C': 1.0, 'epsilon': 1.2},\n",
       " {'C': 1.1, 'epsilon': 0.8},\n",
       " {'C': 1.1, 'epsilon': 0.9},\n",
       " {'C': 1.1, 'epsilon': 1.0},\n",
       " {'C': 1.1, 'epsilon': 1.1},\n",
       " {'C': 1.1, 'epsilon': 1.2},\n",
       " {'C': 1.2, 'epsilon': 0.8},\n",
       " {'C': 1.2, 'epsilon': 0.9},\n",
       " {'C': 1.2, 'epsilon': 1.0},\n",
       " {'C': 1.2, 'epsilon': 1.1},\n",
       " {'C': 1.2, 'epsilon': 1.2}]"
      ]
     },
     "execution_count": 11,
     "metadata": {},
     "output_type": "execute_result"
    }
   ],
   "source": [
    "param_dicts = [\n",
    "    dict(zip(list(param_grid.keys()), combos[i])) for i in range(len(combos))\n",
    "]\n",
    "param_dicts"
   ]
  },
  {
   "cell_type": "markdown",
   "metadata": {},
   "source": [
    "Functionalize.\n"
   ]
  },
  {
   "cell_type": "code",
   "execution_count": 12,
   "metadata": {
    "tags": []
   },
   "outputs": [
    {
     "data": {
      "text/plain": [
       "[{'C': 0.8, 'epsilon': 0.8},\n",
       " {'C': 0.8, 'epsilon': 0.9},\n",
       " {'C': 0.8, 'epsilon': 1.0},\n",
       " {'C': 0.8, 'epsilon': 1.1},\n",
       " {'C': 0.8, 'epsilon': 1.2}]"
      ]
     },
     "execution_count": 12,
     "metadata": {},
     "output_type": "execute_result"
    }
   ],
   "source": [
    "def build_grid_dict(param_grid):\n",
    "    param_values = [x.tolist() for x in param_grid.values()]\n",
    "\n",
    "    combos = list(itertools.product(*param_values))\n",
    "    param_dicts = [\n",
    "        dict(zip(list(param_grid.keys()), combos[i])) for i in range(len(combos))\n",
    "    ]\n",
    "    return param_dicts\n",
    "\n",
    "\n",
    "param_grid = {\n",
    "    \"C\": np.linspace(start=0.8, stop=1.2, num=5),\n",
    "    \"epsilon\": np.linspace(start=0.8, stop=1.2, num=5),\n",
    "}\n",
    "\n",
    "build_grid_dict(param_grid)[:5]"
   ]
  },
  {
   "cell_type": "markdown",
   "metadata": {},
   "source": [
    "Do the grid search!\n"
   ]
  },
  {
   "cell_type": "code",
   "execution_count": 13,
   "metadata": {
    "tags": []
   },
   "outputs": [],
   "source": [
    "save_folder = \"grid_search_results\"\n",
    "\n",
    "os.makedirs(save_folder, exist_ok=True)\n",
    "\n",
    "\n",
    "# to guard against floating point precision issues when printing params\n",
    "def round_param_floats(params):\n",
    "    return {k: round(v, 4) if isinstance(v, float) else v for k, v in params.items()}\n",
    "\n",
    "\n",
    "def grid_search(model_class, param_grid, model_str):\n",
    "    param_dicts = build_grid_dict(param_grid)\n",
    "    result_dicts = []\n",
    "\n",
    "    for params in tqdm(param_dicts):\n",
    "        model = model_class(**params)  # fresh model instantiation each run\n",
    "\n",
    "        fit_start = time.time()\n",
    "        model.fit(X_train, y_train)\n",
    "        fit_end = time.time()\n",
    "\n",
    "        y_pred = model.predict(X_train)\n",
    "        train_mse = cuml.metrics.mean_squared_error(y_train, y_pred)\n",
    "\n",
    "        y_pred = model.predict(X_test)\n",
    "        test_mse = cuml.metrics.mean_squared_error(y_test, y_pred)\n",
    "\n",
    "        result_dicts.append(\n",
    "            {\n",
    "                \"model\": model_str,\n",
    "                \"params\": str(round_param_floats(params)),\n",
    "                \"fit_time_ms\": (fit_end - fit_start) * 1000,\n",
    "                \"train_mse\": train_mse,\n",
    "                \"test_mse\": test_mse,\n",
    "            }\n",
    "        )\n",
    "        \n",
    "    result_df = pl.from_dicts(result_dicts).sort(\"test_mse\")\n",
    "    result_df.write_parquet(os.path.join(save_folder, model_str) + \".parquet\")\n",
    "\n",
    "    return result_df"
   ]
  },
  {
   "cell_type": "code",
   "execution_count": 14,
   "metadata": {
    "tags": []
   },
   "outputs": [
    {
     "data": {
      "application/vnd.jupyter.widget-view+json": {
       "model_id": "0e78f20e28d345ac854e3f80c85b6e0b",
       "version_major": 2,
       "version_minor": 0
      },
      "text/plain": [
       "  0%|          | 0/25 [00:00<?, ?it/s]"
      ]
     },
     "metadata": {},
     "output_type": "display_data"
    },
    {
     "data": {
      "text/html": [
       "<div><style>\n",
       ".dataframe > thead > tr,\n",
       ".dataframe > tbody > tr {\n",
       "  text-align: right;\n",
       "  white-space: pre-wrap;\n",
       "}\n",
       "</style>\n",
       "<small>shape: (25, 5)</small><table border=\"1\" class=\"dataframe\"><thead><tr><th>model</th><th>params</th><th>fit_time_ms</th><th>train_mse</th><th>test_mse</th></tr><tr><td>str</td><td>str</td><td>f64</td><td>f64</td><td>f64</td></tr></thead><tbody><tr><td>&quot;SupportVectorRegression&quot;</td><td>&quot;{&#x27;C&#x27;: 1.2, &#x27;epsilon&#x27;: 0.8}&quot;</td><td>15052.175283</td><td>1.048633</td><td>1.0874</td></tr><tr><td>&quot;SupportVectorRegression&quot;</td><td>&quot;{&#x27;C&#x27;: 1.1, &#x27;epsilon&#x27;: 0.8}&quot;</td><td>14231.781721</td><td>1.055605</td><td>1.089279</td></tr><tr><td>&quot;SupportVectorRegression&quot;</td><td>&quot;{&#x27;C&#x27;: 1.2, &#x27;epsilon&#x27;: 0.9}&quot;</td><td>13225.937366</td><td>1.055518</td><td>1.091265</td></tr><tr><td>&quot;SupportVectorRegression&quot;</td><td>&quot;{&#x27;C&#x27;: 1.0, &#x27;epsilon&#x27;: 0.8}&quot;</td><td>13459.87463</td><td>1.06304</td><td>1.091467</td></tr><tr><td>&quot;SupportVectorRegression&quot;</td><td>&quot;{&#x27;C&#x27;: 1.1, &#x27;epsilon&#x27;: 0.9}&quot;</td><td>12538.203239</td><td>1.062224</td><td>1.093113</td></tr><tr><td>&hellip;</td><td>&hellip;</td><td>&hellip;</td><td>&hellip;</td><td>&hellip;</td></tr><tr><td>&quot;SupportVectorRegression&quot;</td><td>&quot;{&#x27;C&#x27;: 1.1, &#x27;epsilon&#x27;: 1.2}&quot;</td><td>8125.117064</td><td>1.088614</td><td>1.106921</td></tr><tr><td>&quot;SupportVectorRegression&quot;</td><td>&quot;{&#x27;C&#x27;: 0.8, &#x27;epsilon&#x27;: 1.1}&quot;</td><td>7920.904636</td><td>1.100272</td><td>1.108328</td></tr><tr><td>&quot;SupportVectorRegression&quot;</td><td>&quot;{&#x27;C&#x27;: 1.0, &#x27;epsilon&#x27;: 1.2}&quot;</td><td>7566.693306</td><td>1.094958</td><td>1.10893</td></tr><tr><td>&quot;SupportVectorRegression&quot;</td><td>&quot;{&#x27;C&#x27;: 0.9, &#x27;epsilon&#x27;: 1.2}&quot;</td><td>7308.598518</td><td>1.101801</td><td>1.111324</td></tr><tr><td>&quot;SupportVectorRegression&quot;</td><td>&quot;{&#x27;C&#x27;: 0.8, &#x27;epsilon&#x27;: 1.2}&quot;</td><td>6852.7174</td><td>1.109226</td><td>1.114179</td></tr></tbody></table></div>"
      ],
      "text/plain": [
       "shape: (25, 5)\n",
       "┌─────────────────────────┬────────────────────────────┬──────────────┬───────────┬──────────┐\n",
       "│ model                   ┆ params                     ┆ fit_time_ms  ┆ train_mse ┆ test_mse │\n",
       "│ ---                     ┆ ---                        ┆ ---          ┆ ---       ┆ ---      │\n",
       "│ str                     ┆ str                        ┆ f64          ┆ f64       ┆ f64      │\n",
       "╞═════════════════════════╪════════════════════════════╪══════════════╪═══════════╪══════════╡\n",
       "│ SupportVectorRegression ┆ {'C': 1.2, 'epsilon': 0.8} ┆ 15052.175283 ┆ 1.048633  ┆ 1.0874   │\n",
       "│ SupportVectorRegression ┆ {'C': 1.1, 'epsilon': 0.8} ┆ 14231.781721 ┆ 1.055605  ┆ 1.089279 │\n",
       "│ SupportVectorRegression ┆ {'C': 1.2, 'epsilon': 0.9} ┆ 13225.937366 ┆ 1.055518  ┆ 1.091265 │\n",
       "│ SupportVectorRegression ┆ {'C': 1.0, 'epsilon': 0.8} ┆ 13459.87463  ┆ 1.06304   ┆ 1.091467 │\n",
       "│ SupportVectorRegression ┆ {'C': 1.1, 'epsilon': 0.9} ┆ 12538.203239 ┆ 1.062224  ┆ 1.093113 │\n",
       "│ …                       ┆ …                          ┆ …            ┆ …         ┆ …        │\n",
       "│ SupportVectorRegression ┆ {'C': 1.1, 'epsilon': 1.2} ┆ 8125.117064  ┆ 1.088614  ┆ 1.106921 │\n",
       "│ SupportVectorRegression ┆ {'C': 0.8, 'epsilon': 1.1} ┆ 7920.904636  ┆ 1.100272  ┆ 1.108328 │\n",
       "│ SupportVectorRegression ┆ {'C': 1.0, 'epsilon': 1.2} ┆ 7566.693306  ┆ 1.094958  ┆ 1.10893  │\n",
       "│ SupportVectorRegression ┆ {'C': 0.9, 'epsilon': 1.2} ┆ 7308.598518  ┆ 1.101801  ┆ 1.111324 │\n",
       "│ SupportVectorRegression ┆ {'C': 0.8, 'epsilon': 1.2} ┆ 6852.7174    ┆ 1.109226  ┆ 1.114179 │\n",
       "└─────────────────────────┴────────────────────────────┴──────────────┴───────────┴──────────┘"
      ]
     },
     "execution_count": 14,
     "metadata": {},
     "output_type": "execute_result"
    }
   ],
   "source": [
    "param_grid = {\n",
    "    \"C\": np.linspace(start=0.8, stop=1.2, num=5),\n",
    "    \"epsilon\": np.linspace(start=0.8, stop=1.2, num=5),\n",
    "}\n",
    "\n",
    "grid_search(cuml.svm.SVR, param_grid, \"SupportVectorRegression\")"
   ]
  },
  {
   "cell_type": "markdown",
   "metadata": {},
   "source": [
    "Try a few more linear models.\n"
   ]
  },
  {
   "cell_type": "code",
   "execution_count": 15,
   "metadata": {
    "tags": []
   },
   "outputs": [
    {
     "data": {
      "application/vnd.jupyter.widget-view+json": {
       "model_id": "8cc7653d026948118efba01612ab78a1",
       "version_major": 2,
       "version_minor": 0
      },
      "text/plain": [
       "  0%|          | 0/20 [00:00<?, ?it/s]"
      ]
     },
     "metadata": {},
     "output_type": "display_data"
    },
    {
     "data": {
      "text/html": [
       "<div><style>\n",
       ".dataframe > thead > tr,\n",
       ".dataframe > tbody > tr {\n",
       "  text-align: right;\n",
       "  white-space: pre-wrap;\n",
       "}\n",
       "</style>\n",
       "<small>shape: (20, 5)</small><table border=\"1\" class=\"dataframe\"><thead><tr><th>model</th><th>params</th><th>fit_time_ms</th><th>train_mse</th><th>test_mse</th></tr><tr><td>str</td><td>str</td><td>f64</td><td>f64</td><td>f64</td></tr></thead><tbody><tr><td>&quot;RidgeRegression&quot;</td><td>&quot;{&#x27;alpha&#x27;: 0.5}&quot;</td><td>1431.311607</td><td>1.22904</td><td>1.18907</td></tr><tr><td>&quot;RidgeRegression&quot;</td><td>&quot;{&#x27;alpha&#x27;: 0.5789}&quot;</td><td>974.885464</td><td>1.229467</td><td>1.189458</td></tr><tr><td>&quot;RidgeRegression&quot;</td><td>&quot;{&#x27;alpha&#x27;: 0.6579}&quot;</td><td>969.211817</td><td>1.229883</td><td>1.189837</td></tr><tr><td>&quot;RidgeRegression&quot;</td><td>&quot;{&#x27;alpha&#x27;: 0.7368}&quot;</td><td>983.141661</td><td>1.230287</td><td>1.190205</td></tr><tr><td>&quot;RidgeRegression&quot;</td><td>&quot;{&#x27;alpha&#x27;: 0.8158}&quot;</td><td>984.215975</td><td>1.23068</td><td>1.190562</td></tr><tr><td>&hellip;</td><td>&hellip;</td><td>&hellip;</td><td>&hellip;</td><td>&hellip;</td></tr><tr><td>&quot;RidgeRegression&quot;</td><td>&quot;{&#x27;alpha&#x27;: 1.6842}&quot;</td><td>968.740702</td><td>1.234272</td><td>1.193826</td></tr><tr><td>&quot;RidgeRegression&quot;</td><td>&quot;{&#x27;alpha&#x27;: 1.7632}&quot;</td><td>975.694656</td><td>1.234545</td><td>1.194074</td></tr><tr><td>&quot;RidgeRegression&quot;</td><td>&quot;{&#x27;alpha&#x27;: 1.8421}&quot;</td><td>966.972351</td><td>1.234812</td><td>1.194315</td></tr><tr><td>&quot;RidgeRegression&quot;</td><td>&quot;{&#x27;alpha&#x27;: 1.9211}&quot;</td><td>975.708485</td><td>1.235072</td><td>1.194551</td></tr><tr><td>&quot;RidgeRegression&quot;</td><td>&quot;{&#x27;alpha&#x27;: 2.0}&quot;</td><td>978.115082</td><td>1.235326</td><td>1.19478</td></tr></tbody></table></div>"
      ],
      "text/plain": [
       "shape: (20, 5)\n",
       "┌─────────────────┬───────────────────┬─────────────┬───────────┬──────────┐\n",
       "│ model           ┆ params            ┆ fit_time_ms ┆ train_mse ┆ test_mse │\n",
       "│ ---             ┆ ---               ┆ ---         ┆ ---       ┆ ---      │\n",
       "│ str             ┆ str               ┆ f64         ┆ f64       ┆ f64      │\n",
       "╞═════════════════╪═══════════════════╪═════════════╪═══════════╪══════════╡\n",
       "│ RidgeRegression ┆ {'alpha': 0.5}    ┆ 1431.311607 ┆ 1.22904   ┆ 1.18907  │\n",
       "│ RidgeRegression ┆ {'alpha': 0.5789} ┆ 974.885464  ┆ 1.229467  ┆ 1.189458 │\n",
       "│ RidgeRegression ┆ {'alpha': 0.6579} ┆ 969.211817  ┆ 1.229883  ┆ 1.189837 │\n",
       "│ RidgeRegression ┆ {'alpha': 0.7368} ┆ 983.141661  ┆ 1.230287  ┆ 1.190205 │\n",
       "│ RidgeRegression ┆ {'alpha': 0.8158} ┆ 984.215975  ┆ 1.23068   ┆ 1.190562 │\n",
       "│ …               ┆ …                 ┆ …           ┆ …         ┆ …        │\n",
       "│ RidgeRegression ┆ {'alpha': 1.6842} ┆ 968.740702  ┆ 1.234272  ┆ 1.193826 │\n",
       "│ RidgeRegression ┆ {'alpha': 1.7632} ┆ 975.694656  ┆ 1.234545  ┆ 1.194074 │\n",
       "│ RidgeRegression ┆ {'alpha': 1.8421} ┆ 966.972351  ┆ 1.234812  ┆ 1.194315 │\n",
       "│ RidgeRegression ┆ {'alpha': 1.9211} ┆ 975.708485  ┆ 1.235072  ┆ 1.194551 │\n",
       "│ RidgeRegression ┆ {'alpha': 2.0}    ┆ 978.115082  ┆ 1.235326  ┆ 1.19478  │\n",
       "└─────────────────┴───────────────────┴─────────────┴───────────┴──────────┘"
      ]
     },
     "execution_count": 15,
     "metadata": {},
     "output_type": "execute_result"
    }
   ],
   "source": [
    "param_grid = {\n",
    "    \"alpha\": np.linspace(start=0.5, stop=2.0, num=20),\n",
    "}\n",
    "\n",
    "grid_search(cuml.Ridge, param_grid, \"RidgeRegression\")"
   ]
  },
  {
   "cell_type": "code",
   "execution_count": 16,
   "metadata": {
    "tags": []
   },
   "outputs": [
    {
     "data": {
      "application/vnd.jupyter.widget-view+json": {
       "model_id": "640b621709924709bdcf62b5a29aec5d",
       "version_major": 2,
       "version_minor": 0
      },
      "text/plain": [
       "  0%|          | 0/27 [00:00<?, ?it/s]"
      ]
     },
     "metadata": {},
     "output_type": "display_data"
    },
    {
     "data": {
      "text/html": [
       "<div><style>\n",
       ".dataframe > thead > tr,\n",
       ".dataframe > tbody > tr {\n",
       "  text-align: right;\n",
       "  white-space: pre-wrap;\n",
       "}\n",
       "</style>\n",
       "<small>shape: (27, 5)</small><table border=\"1\" class=\"dataframe\"><thead><tr><th>model</th><th>params</th><th>fit_time_ms</th><th>train_mse</th><th>test_mse</th></tr><tr><td>str</td><td>str</td><td>f64</td><td>f64</td><td>f64</td></tr></thead><tbody><tr><td>&quot;SGDRegressor&quot;</td><td>&quot;{&#x27;alpha&#x27;: 0.0001, &#x27;l1_ratio&#x27;: …</td><td>19494.043827</td><td>1.304869</td><td>1.260315</td></tr><tr><td>&quot;SGDRegressor&quot;</td><td>&quot;{&#x27;alpha&#x27;: 0.0001, &#x27;l1_ratio&#x27;: …</td><td>19413.653135</td><td>1.304869</td><td>1.260315</td></tr><tr><td>&quot;SGDRegressor&quot;</td><td>&quot;{&#x27;alpha&#x27;: 0.0001, &#x27;l1_ratio&#x27;: …</td><td>19401.616096</td><td>1.304869</td><td>1.260315</td></tr><tr><td>&quot;SGDRegressor&quot;</td><td>&quot;{&#x27;alpha&#x27;: 0.001, &#x27;l1_ratio&#x27;: 0…</td><td>19094.285488</td><td>1.304869</td><td>1.260315</td></tr><tr><td>&quot;SGDRegressor&quot;</td><td>&quot;{&#x27;alpha&#x27;: 0.001, &#x27;l1_ratio&#x27;: 0…</td><td>18917.403221</td><td>1.304869</td><td>1.260315</td></tr><tr><td>&hellip;</td><td>&hellip;</td><td>&hellip;</td><td>&hellip;</td><td>&hellip;</td></tr><tr><td>&quot;SGDRegressor&quot;</td><td>&quot;{&#x27;alpha&#x27;: 0.01, &#x27;l1_ratio&#x27;: 0.…</td><td>8115.404844</td><td>1.485299</td><td>1.445979</td></tr><tr><td>&quot;SGDRegressor&quot;</td><td>&quot;{&#x27;alpha&#x27;: 0.01, &#x27;l1_ratio&#x27;: 0.…</td><td>8071.959972</td><td>1.485299</td><td>1.445979</td></tr><tr><td>&quot;SGDRegressor&quot;</td><td>&quot;{&#x27;alpha&#x27;: 0.01, &#x27;l1_ratio&#x27;: 0.…</td><td>3664.698362</td><td>1.673841</td><td>1.637807</td></tr><tr><td>&quot;SGDRegressor&quot;</td><td>&quot;{&#x27;alpha&#x27;: 0.01, &#x27;l1_ratio&#x27;: 0.…</td><td>3766.567469</td><td>1.673841</td><td>1.637807</td></tr><tr><td>&quot;SGDRegressor&quot;</td><td>&quot;{&#x27;alpha&#x27;: 0.01, &#x27;l1_ratio&#x27;: 0.…</td><td>3787.297249</td><td>1.673841</td><td>1.637807</td></tr></tbody></table></div>"
      ],
      "text/plain": [
       "shape: (27, 5)\n",
       "┌──────────────┬─────────────────────────────────┬──────────────┬───────────┬──────────┐\n",
       "│ model        ┆ params                          ┆ fit_time_ms  ┆ train_mse ┆ test_mse │\n",
       "│ ---          ┆ ---                             ┆ ---          ┆ ---       ┆ ---      │\n",
       "│ str          ┆ str                             ┆ f64          ┆ f64       ┆ f64      │\n",
       "╞══════════════╪═════════════════════════════════╪══════════════╪═══════════╪══════════╡\n",
       "│ SGDRegressor ┆ {'alpha': 0.0001, 'l1_ratio': … ┆ 19494.043827 ┆ 1.304869  ┆ 1.260315 │\n",
       "│ SGDRegressor ┆ {'alpha': 0.0001, 'l1_ratio': … ┆ 19413.653135 ┆ 1.304869  ┆ 1.260315 │\n",
       "│ SGDRegressor ┆ {'alpha': 0.0001, 'l1_ratio': … ┆ 19401.616096 ┆ 1.304869  ┆ 1.260315 │\n",
       "│ SGDRegressor ┆ {'alpha': 0.001, 'l1_ratio': 0… ┆ 19094.285488 ┆ 1.304869  ┆ 1.260315 │\n",
       "│ SGDRegressor ┆ {'alpha': 0.001, 'l1_ratio': 0… ┆ 18917.403221 ┆ 1.304869  ┆ 1.260315 │\n",
       "│ …            ┆ …                               ┆ …            ┆ …         ┆ …        │\n",
       "│ SGDRegressor ┆ {'alpha': 0.01, 'l1_ratio': 0.… ┆ 8115.404844  ┆ 1.485299  ┆ 1.445979 │\n",
       "│ SGDRegressor ┆ {'alpha': 0.01, 'l1_ratio': 0.… ┆ 8071.959972  ┆ 1.485299  ┆ 1.445979 │\n",
       "│ SGDRegressor ┆ {'alpha': 0.01, 'l1_ratio': 0.… ┆ 3664.698362  ┆ 1.673841  ┆ 1.637807 │\n",
       "│ SGDRegressor ┆ {'alpha': 0.01, 'l1_ratio': 0.… ┆ 3766.567469  ┆ 1.673841  ┆ 1.637807 │\n",
       "│ SGDRegressor ┆ {'alpha': 0.01, 'l1_ratio': 0.… ┆ 3787.297249  ┆ 1.673841  ┆ 1.637807 │\n",
       "└──────────────┴─────────────────────────────────┴──────────────┴───────────┴──────────┘"
      ]
     },
     "execution_count": 16,
     "metadata": {},
     "output_type": "execute_result"
    }
   ],
   "source": [
    "param_grid = {\n",
    "    \"alpha\": np.array([1e-4, 1e-3, 1e-2]),\n",
    "    \"l1_ratio\": np.linspace(start=0.1, stop=0.9, num=3),\n",
    "    \"penalty\": np.array([\"none\", \"l1\", \"l2\"]),\n",
    "}\n",
    "grid_search(cuml.SGD, param_grid, \"SGDRegressor\")"
   ]
  },
  {
   "cell_type": "code",
   "execution_count": 17,
   "metadata": {
    "tags": []
   },
   "outputs": [
    {
     "data": {
      "application/vnd.jupyter.widget-view+json": {
       "model_id": "52ed2de1bc6f4c669e4e4507ee79be2a",
       "version_major": 2,
       "version_minor": 0
      },
      "text/plain": [
       "  0%|          | 0/18 [00:00<?, ?it/s]"
      ]
     },
     "metadata": {},
     "output_type": "display_data"
    },
    {
     "data": {
      "text/html": [
       "<div><style>\n",
       ".dataframe > thead > tr,\n",
       ".dataframe > tbody > tr {\n",
       "  text-align: right;\n",
       "  white-space: pre-wrap;\n",
       "}\n",
       "</style>\n",
       "<small>shape: (18, 5)</small><table border=\"1\" class=\"dataframe\"><thead><tr><th>model</th><th>params</th><th>fit_time_ms</th><th>train_mse</th><th>test_mse</th></tr><tr><td>str</td><td>str</td><td>f64</td><td>f64</td><td>f64</td></tr></thead><tbody><tr><td>&quot;KNNRegressor&quot;</td><td>&quot;{&#x27;n_neighbors&#x27;: 19}&quot;</td><td>95.722914</td><td>1.082461</td><td>1.173136</td></tr><tr><td>&quot;KNNRegressor&quot;</td><td>&quot;{&#x27;n_neighbors&#x27;: 17}&quot;</td><td>96.079111</td><td>1.070649</td><td>1.175417</td></tr><tr><td>&quot;KNNRegressor&quot;</td><td>&quot;{&#x27;n_neighbors&#x27;: 18}&quot;</td><td>94.62738</td><td>1.07699</td><td>1.175951</td></tr><tr><td>&quot;KNNRegressor&quot;</td><td>&quot;{&#x27;n_neighbors&#x27;: 16}&quot;</td><td>93.647003</td><td>1.064122</td><td>1.176751</td></tr><tr><td>&quot;KNNRegressor&quot;</td><td>&quot;{&#x27;n_neighbors&#x27;: 15}&quot;</td><td>97.162247</td><td>1.056909</td><td>1.179318</td></tr><tr><td>&hellip;</td><td>&hellip;</td><td>&hellip;</td><td>&hellip;</td><td>&hellip;</td></tr><tr><td>&quot;KNNRegressor&quot;</td><td>&quot;{&#x27;n_neighbors&#x27;: 6}&quot;</td><td>96.260786</td><td>0.913629</td><td>1.270564</td></tr><tr><td>&quot;KNNRegressor&quot;</td><td>&quot;{&#x27;n_neighbors&#x27;: 5}&quot;</td><td>97.173214</td><td>0.87238</td><td>1.30111</td></tr><tr><td>&quot;KNNRegressor&quot;</td><td>&quot;{&#x27;n_neighbors&#x27;: 4}&quot;</td><td>94.455957</td><td>0.812516</td><td>1.34876</td></tr><tr><td>&quot;KNNRegressor&quot;</td><td>&quot;{&#x27;n_neighbors&#x27;: 3}&quot;</td><td>93.913555</td><td>0.717228</td><td>1.433389</td></tr><tr><td>&quot;KNNRegressor&quot;</td><td>&quot;{&#x27;n_neighbors&#x27;: 2}&quot;</td><td>104.799986</td><td>0.531296</td><td>1.607363</td></tr></tbody></table></div>"
      ],
      "text/plain": [
       "shape: (18, 5)\n",
       "┌──────────────┬─────────────────────┬─────────────┬───────────┬──────────┐\n",
       "│ model        ┆ params              ┆ fit_time_ms ┆ train_mse ┆ test_mse │\n",
       "│ ---          ┆ ---                 ┆ ---         ┆ ---       ┆ ---      │\n",
       "│ str          ┆ str                 ┆ f64         ┆ f64       ┆ f64      │\n",
       "╞══════════════╪═════════════════════╪═════════════╪═══════════╪══════════╡\n",
       "│ KNNRegressor ┆ {'n_neighbors': 19} ┆ 95.722914   ┆ 1.082461  ┆ 1.173136 │\n",
       "│ KNNRegressor ┆ {'n_neighbors': 17} ┆ 96.079111   ┆ 1.070649  ┆ 1.175417 │\n",
       "│ KNNRegressor ┆ {'n_neighbors': 18} ┆ 94.62738    ┆ 1.07699   ┆ 1.175951 │\n",
       "│ KNNRegressor ┆ {'n_neighbors': 16} ┆ 93.647003   ┆ 1.064122  ┆ 1.176751 │\n",
       "│ KNNRegressor ┆ {'n_neighbors': 15} ┆ 97.162247   ┆ 1.056909  ┆ 1.179318 │\n",
       "│ …            ┆ …                   ┆ …           ┆ …         ┆ …        │\n",
       "│ KNNRegressor ┆ {'n_neighbors': 6}  ┆ 96.260786   ┆ 0.913629  ┆ 1.270564 │\n",
       "│ KNNRegressor ┆ {'n_neighbors': 5}  ┆ 97.173214   ┆ 0.87238   ┆ 1.30111  │\n",
       "│ KNNRegressor ┆ {'n_neighbors': 4}  ┆ 94.455957   ┆ 0.812516  ┆ 1.34876  │\n",
       "│ KNNRegressor ┆ {'n_neighbors': 3}  ┆ 93.913555   ┆ 0.717228  ┆ 1.433389 │\n",
       "│ KNNRegressor ┆ {'n_neighbors': 2}  ┆ 104.799986  ┆ 0.531296  ┆ 1.607363 │\n",
       "└──────────────┴─────────────────────┴─────────────┴───────────┴──────────┘"
      ]
     },
     "execution_count": 17,
     "metadata": {},
     "output_type": "execute_result"
    }
   ],
   "source": [
    "param_grid = {\n",
    "    \"n_neighbors\": np.arange(start=2, stop=20),\n",
    "\n",
    "}\n",
    "\n",
    "grid_search(cuml.neighbors.KNeighborsRegressor, param_grid, \"KNNRegressor\")"
   ]
  },
  {
   "cell_type": "markdown",
   "metadata": {},
   "source": [
    "Reload all the saved parquets and combine them."
   ]
  },
  {
   "cell_type": "code",
   "execution_count": 19,
   "metadata": {
    "tags": []
   },
   "outputs": [
    {
     "data": {
      "text/html": [
       "<div><style>\n",
       ".dataframe > thead > tr,\n",
       ".dataframe > tbody > tr {\n",
       "  text-align: right;\n",
       "  white-space: pre-wrap;\n",
       "}\n",
       "</style>\n",
       "<small>shape: (90, 5)</small><table border=\"1\" class=\"dataframe\"><thead><tr><th>model</th><th>params</th><th>fit_time_ms</th><th>train_mse</th><th>test_mse</th></tr><tr><td>str</td><td>str</td><td>f64</td><td>f64</td><td>f64</td></tr></thead><tbody><tr><td>&quot;SupportVectorRegression&quot;</td><td>&quot;{&#x27;C&#x27;: 1.2, &#x27;epsilon&#x27;: 0.8}&quot;</td><td>15052.175283</td><td>1.048633</td><td>1.0874</td></tr><tr><td>&quot;SupportVectorRegression&quot;</td><td>&quot;{&#x27;C&#x27;: 1.1, &#x27;epsilon&#x27;: 0.8}&quot;</td><td>14231.781721</td><td>1.055605</td><td>1.089279</td></tr><tr><td>&quot;SupportVectorRegression&quot;</td><td>&quot;{&#x27;C&#x27;: 1.2, &#x27;epsilon&#x27;: 0.9}&quot;</td><td>13225.937366</td><td>1.055518</td><td>1.091265</td></tr><tr><td>&quot;SupportVectorRegression&quot;</td><td>&quot;{&#x27;C&#x27;: 1.0, &#x27;epsilon&#x27;: 0.8}&quot;</td><td>13459.87463</td><td>1.06304</td><td>1.091467</td></tr><tr><td>&quot;SupportVectorRegression&quot;</td><td>&quot;{&#x27;C&#x27;: 1.1, &#x27;epsilon&#x27;: 0.9}&quot;</td><td>12538.203239</td><td>1.062224</td><td>1.093113</td></tr><tr><td>&hellip;</td><td>&hellip;</td><td>&hellip;</td><td>&hellip;</td><td>&hellip;</td></tr><tr><td>&quot;SGDRegressor&quot;</td><td>&quot;{&#x27;alpha&#x27;: 0.01, &#x27;l1_ratio&#x27;: 0.…</td><td>8071.959972</td><td>1.485299</td><td>1.445979</td></tr><tr><td>&quot;KNNRegressor&quot;</td><td>&quot;{&#x27;n_neighbors&#x27;: 2}&quot;</td><td>104.799986</td><td>0.531296</td><td>1.607363</td></tr><tr><td>&quot;SGDRegressor&quot;</td><td>&quot;{&#x27;alpha&#x27;: 0.01, &#x27;l1_ratio&#x27;: 0.…</td><td>3664.698362</td><td>1.673841</td><td>1.637807</td></tr><tr><td>&quot;SGDRegressor&quot;</td><td>&quot;{&#x27;alpha&#x27;: 0.01, &#x27;l1_ratio&#x27;: 0.…</td><td>3766.567469</td><td>1.673841</td><td>1.637807</td></tr><tr><td>&quot;SGDRegressor&quot;</td><td>&quot;{&#x27;alpha&#x27;: 0.01, &#x27;l1_ratio&#x27;: 0.…</td><td>3787.297249</td><td>1.673841</td><td>1.637807</td></tr></tbody></table></div>"
      ],
      "text/plain": [
       "shape: (90, 5)\n",
       "┌─────────────────────────┬─────────────────────────────────┬──────────────┬───────────┬──────────┐\n",
       "│ model                   ┆ params                          ┆ fit_time_ms  ┆ train_mse ┆ test_mse │\n",
       "│ ---                     ┆ ---                             ┆ ---          ┆ ---       ┆ ---      │\n",
       "│ str                     ┆ str                             ┆ f64          ┆ f64       ┆ f64      │\n",
       "╞═════════════════════════╪═════════════════════════════════╪══════════════╪═══════════╪══════════╡\n",
       "│ SupportVectorRegression ┆ {'C': 1.2, 'epsilon': 0.8}      ┆ 15052.175283 ┆ 1.048633  ┆ 1.0874   │\n",
       "│ SupportVectorRegression ┆ {'C': 1.1, 'epsilon': 0.8}      ┆ 14231.781721 ┆ 1.055605  ┆ 1.089279 │\n",
       "│ SupportVectorRegression ┆ {'C': 1.2, 'epsilon': 0.9}      ┆ 13225.937366 ┆ 1.055518  ┆ 1.091265 │\n",
       "│ SupportVectorRegression ┆ {'C': 1.0, 'epsilon': 0.8}      ┆ 13459.87463  ┆ 1.06304   ┆ 1.091467 │\n",
       "│ SupportVectorRegression ┆ {'C': 1.1, 'epsilon': 0.9}      ┆ 12538.203239 ┆ 1.062224  ┆ 1.093113 │\n",
       "│ …                       ┆ …                               ┆ …            ┆ …         ┆ …        │\n",
       "│ SGDRegressor            ┆ {'alpha': 0.01, 'l1_ratio': 0.… ┆ 8071.959972  ┆ 1.485299  ┆ 1.445979 │\n",
       "│ KNNRegressor            ┆ {'n_neighbors': 2}              ┆ 104.799986   ┆ 0.531296  ┆ 1.607363 │\n",
       "│ SGDRegressor            ┆ {'alpha': 0.01, 'l1_ratio': 0.… ┆ 3664.698362  ┆ 1.673841  ┆ 1.637807 │\n",
       "│ SGDRegressor            ┆ {'alpha': 0.01, 'l1_ratio': 0.… ┆ 3766.567469  ┆ 1.673841  ┆ 1.637807 │\n",
       "│ SGDRegressor            ┆ {'alpha': 0.01, 'l1_ratio': 0.… ┆ 3787.297249  ┆ 1.673841  ┆ 1.637807 │\n",
       "└─────────────────────────┴─────────────────────────────────┴──────────────┴───────────┴──────────┘"
      ]
     },
     "execution_count": 19,
     "metadata": {},
     "output_type": "execute_result"
    }
   ],
   "source": [
    "df_comb = pl.read_parquet(os.path.join(save_folder, \"*\")).sort(\"test_mse\")\n",
    "df_comb"
   ]
  },
  {
   "cell_type": "code",
   "execution_count": 20,
   "metadata": {
    "tags": []
   },
   "outputs": [],
   "source": [
    "df_comb.write_csv(\"imdb_grid_search.csv\")"
   ]
  },
  {
   "cell_type": "code",
   "execution_count": null,
   "metadata": {},
   "outputs": [],
   "source": []
  }
 ],
 "metadata": {
  "environment": {
   "kernel": "python3",
   "name": "common-cu123.m129",
   "type": "gcloud",
   "uri": "us-docker.pkg.dev/deeplearning-platform-release/gcr.io/base-cu123:m129"
  },
  "kernelspec": {
   "display_name": "Python 3",
   "language": "python",
   "name": "python3"
  },
  "language_info": {
   "codemirror_mode": {
    "name": "ipython",
    "version": 3
   },
   "file_extension": ".py",
   "mimetype": "text/x-python",
   "name": "python",
   "nbconvert_exporter": "python",
   "pygments_lexer": "ipython3",
   "version": "3.10.17"
  }
 },
 "nbformat": 4,
 "nbformat_minor": 4
}
