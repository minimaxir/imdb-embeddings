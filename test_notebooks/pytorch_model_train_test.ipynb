{
 "cells": [
  {
   "cell_type": "markdown",
   "metadata": {},
   "source": [
    "## PyTorch Training\n",
    "\n",
    "Uses the Trainer included in Hugging Face `transformers` (backed by `accelerate`) since it mitigates a lot of annoying boilerplate.\n"
   ]
  },
  {
   "cell_type": "code",
   "execution_count": 1,
   "metadata": {},
   "outputs": [
    {
     "name": "stderr",
     "output_type": "stream",
     "text": [
      "/Users/maxwoolf/Library/Mobile Documents/com~apple~CloudDocs/PythonProjects/imdb-embeddings/.venv/lib/python3.13/site-packages/tqdm/auto.py:21: TqdmWarning: IProgress not found. Please update jupyter and ipywidgets. See https://ipywidgets.readthedocs.io/en/stable/user_install.html\n",
      "  from .autonotebook import tqdm as notebook_tqdm\n"
     ]
    }
   ],
   "source": [
    "import polars as pl\n",
    "import torch\n",
    "import torch.nn as nn\n",
    "import torch.nn.functional as F\n",
    "from torch.utils.data import TensorDataset\n",
    "from transformers import Trainer, TrainingArguments"
   ]
  },
  {
   "cell_type": "code",
   "execution_count": 2,
   "metadata": {},
   "outputs": [
    {
     "data": {
      "text/html": [
       "<div><style>\n",
       ".dataframe > thead > tr,\n",
       ".dataframe > tbody > tr {\n",
       "  text-align: right;\n",
       "  white-space: pre-wrap;\n",
       "}\n",
       "</style>\n",
       "<small>shape: (40_000, 3)</small><table border=\"1\" class=\"dataframe\"><thead><tr><th>tconst</th><th>averageRating</th><th>embedding</th></tr><tr><td>str</td><td>f32</td><td>array[f32, 768]</td></tr></thead><tbody><tr><td>&quot;tt0000009&quot;</td><td>5.4</td><td>[-0.007815, -0.022642, … 0.005391]</td></tr><tr><td>&quot;tt0000147&quot;</td><td>5.3</td><td>[0.012021, 0.014255, … -0.015754]</td></tr><tr><td>&quot;tt0000574&quot;</td><td>6.0</td><td>[-0.010052, -0.015825, … 0.040161]</td></tr><tr><td>&quot;tt0000591&quot;</td><td>5.6</td><td>[0.00765, 0.019661, … -0.010763]</td></tr><tr><td>&quot;tt0000630&quot;</td><td>3.2</td><td>[0.03492, 0.00301, … 0.027586]</td></tr><tr><td>&hellip;</td><td>&hellip;</td><td>&hellip;</td></tr><tr><td>&quot;tt0084637&quot;</td><td>7.6</td><td>[0.002538, 0.011368, … -0.010203]</td></tr><tr><td>&quot;tt0084643&quot;</td><td>7.4</td><td>[-0.016075, -0.010667, … 0.009743]</td></tr><tr><td>&quot;tt0084645&quot;</td><td>5.4</td><td>[0.04202, -0.009168, … 0.049604]</td></tr><tr><td>&quot;tt0084646&quot;</td><td>7.3</td><td>[0.025038, 0.008065, … 0.05365]</td></tr><tr><td>&quot;tt0084648&quot;</td><td>6.6</td><td>[0.009465, -0.017014, … -0.005662]</td></tr></tbody></table></div>"
      ],
      "text/plain": [
       "shape: (40_000, 3)\n",
       "┌───────────┬───────────────┬─────────────────────────────────┐\n",
       "│ tconst    ┆ averageRating ┆ embedding                       │\n",
       "│ ---       ┆ ---           ┆ ---                             │\n",
       "│ str       ┆ f32           ┆ array[f32, 768]                 │\n",
       "╞═══════════╪═══════════════╪═════════════════════════════════╡\n",
       "│ tt0000009 ┆ 5.4           ┆ [-0.007815, -0.022642, … 0.005… │\n",
       "│ tt0000147 ┆ 5.3           ┆ [0.012021, 0.014255, … -0.0157… │\n",
       "│ tt0000574 ┆ 6.0           ┆ [-0.010052, -0.015825, … 0.040… │\n",
       "│ tt0000591 ┆ 5.6           ┆ [0.00765, 0.019661, … -0.01076… │\n",
       "│ tt0000630 ┆ 3.2           ┆ [0.03492, 0.00301, … 0.027586]  │\n",
       "│ …         ┆ …             ┆ …                               │\n",
       "│ tt0084637 ┆ 7.6           ┆ [0.002538, 0.011368, … -0.0102… │\n",
       "│ tt0084643 ┆ 7.4           ┆ [-0.016075, -0.010667, … 0.009… │\n",
       "│ tt0084645 ┆ 5.4           ┆ [0.04202, -0.009168, … 0.04960… │\n",
       "│ tt0084646 ┆ 7.3           ┆ [0.025038, 0.008065, … 0.05365… │\n",
       "│ tt0084648 ┆ 6.6           ┆ [0.009465, -0.017014, … -0.005… │\n",
       "└───────────┴───────────────┴─────────────────────────────────┘"
      ]
     },
     "execution_count": 2,
     "metadata": {},
     "output_type": "execute_result"
    }
   ],
   "source": [
    "df = (\n",
    "    pl.scan_parquet(\n",
    "        \"/Users/maxwoolf/Downloads/movie_data_plus_embeds_all.parquet\", n_rows=40000\n",
    "    )\n",
    "    .select([\"tconst\", \"averageRating\", \"embedding\"])\n",
    "    .with_columns(averageRating=pl.col(\"averageRating\").cast(pl.Float32))\n",
    "    .collect()\n",
    ")\n",
    "\n",
    "df"
   ]
  },
  {
   "cell_type": "code",
   "execution_count": 10,
   "metadata": {},
   "outputs": [],
   "source": [
    "device = \"cpu\"\n",
    "\n",
    "tensor_embeddings = torch.from_numpy(df[\"embedding\"].to_numpy().copy()).to(device)\n",
    "tensor_ratings = torch.from_numpy(df[\"averageRating\"].to_numpy().copy()).to(device)\n",
    "tensor_dataset = TensorDataset(tensor_embeddings, tensor_ratings)"
   ]
  },
  {
   "cell_type": "code",
   "execution_count": 11,
   "metadata": {},
   "outputs": [],
   "source": [
    "test_proportion = 0.1\n",
    "\n",
    "train_dataset, test_dataset = torch.utils.data.random_split(\n",
    "    tensor_dataset, [1 - test_proportion, test_proportion]\n",
    ")"
   ]
  },
  {
   "cell_type": "code",
   "execution_count": 40,
   "metadata": {},
   "outputs": [],
   "source": [
    "class RatingsModel(nn.Module):\n",
    "    def __init__(self):\n",
    "        super().__init__()\n",
    "        self.linear_1 = nn.Linear(768, 256)\n",
    "        # self.batchnorm_1 = nn.BatchNorm1d(256)\n",
    "        self.linear_2 = nn.Linear(256, 128)\n",
    "        # self.batchnorm_2 = nn.BatchNorm1d(128)\n",
    "        self.output = nn.Linear(128, 1)\n",
    "\n",
    "    def forward(self, x, targets=None):\n",
    "        x = F.gelu(self.linear_1(x))\n",
    "        # x = self.batchnorm_1(x)\n",
    "        x = F.gelu(self.linear_2(x))\n",
    "        # x = self.batchnorm_2(x)\n",
    "        x = self.output(x)\n",
    "\n",
    "        return x.squeeze()  # return 1D output"
   ]
  },
  {
   "cell_type": "code",
   "execution_count": 41,
   "metadata": {},
   "outputs": [
    {
     "data": {
      "text/plain": [
       "RatingsModel(\n",
       "  (linear_1): Linear(in_features=768, out_features=256, bias=True)\n",
       "  (linear_2): Linear(in_features=256, out_features=128, bias=True)\n",
       "  (output): Linear(in_features=128, out_features=1, bias=True)\n",
       ")"
      ]
     },
     "execution_count": 41,
     "metadata": {},
     "output_type": "execute_result"
    }
   ],
   "source": [
    "model = RatingsModel()\n",
    "_ = model.to(device)\n",
    "model"
   ]
  },
  {
   "cell_type": "markdown",
   "metadata": {},
   "source": [
    "Validation loss doesn't play nice with the `Trainer` out of the boss, so need [some tweaks](https://discuss.huggingface.co/t/no-log-for-validation-loss-during-training-with-trainer/40094/3).\n"
   ]
  },
  {
   "cell_type": "code",
   "execution_count": 42,
   "metadata": {},
   "outputs": [],
   "source": [
    "def collate_fn(examples):\n",
    "    inputs = torch.stack([f[0] for f in examples])\n",
    "    targets = torch.stack([f[1] for f in examples])\n",
    "\n",
    "    return {\"x\": inputs, \"targets\": targets}\n",
    "\n",
    "\n",
    "class MAETrainer(Trainer):\n",
    "    def compute_loss(self, model, inputs, return_outputs=False, num_items_in_batch=0):\n",
    "        outputs = model(**inputs)\n",
    "        loss = nn.L1Loss()(outputs, inputs[\"targets\"])  # L1 loss is MAE\n",
    "\n",
    "        return (loss, outputs) if return_outputs else loss\n"
   ]
  },
  {
   "cell_type": "code",
   "execution_count": 43,
   "metadata": {},
   "outputs": [],
   "source": [
    "training_args = TrainingArguments(\n",
    "    learning_rate=1e-3,\n",
    "    lr_scheduler_type=\"cosine_with_restarts\",\n",
    "    per_device_train_batch_size=1024,\n",
    "    per_device_eval_batch_size=1024,\n",
    "    num_train_epochs=100,\n",
    "    weight_decay=0.1,\n",
    "    save_strategy=\"no\",\n",
    "    eval_strategy=\"steps\",\n",
    "    eval_steps=0.1,\n",
    "    logging_strategy=\"steps\",\n",
    "    logging_steps=0.1,\n",
    "    fp16=False,\n",
    "    dataloader_num_workers=0,  # since data is in memory\n",
    "    dataloader_pin_memory=False,\n",
    "    dataloader_persistent_workers=False,\n",
    ")\n",
    "\n",
    "# reinstantiate a clean model\n",
    "model = RatingsModel()\n",
    "_ = model.to(device)\n",
    "\n",
    "trainer = MAETrainer(\n",
    "    model,\n",
    "    training_args,\n",
    "    train_dataset=train_dataset,\n",
    "    eval_dataset=test_dataset,\n",
    "    data_collator=collate_fn,\n",
    ")\n",
    "\n",
    "trainer.can_return_loss = True"
   ]
  },
  {
   "cell_type": "code",
   "execution_count": 44,
   "metadata": {},
   "outputs": [
    {
     "data": {
      "text/html": [
       "\n",
       "    <div>\n",
       "      \n",
       "      <progress value='3600' max='3600' style='width:300px; height:20px; vertical-align: middle;'></progress>\n",
       "      [3600/3600 00:26, Epoch 100/100]\n",
       "    </div>\n",
       "    <table border=\"1\" class=\"dataframe\">\n",
       "  <thead>\n",
       " <tr style=\"text-align: left;\">\n",
       "      <th>Step</th>\n",
       "      <th>Training Loss</th>\n",
       "      <th>Validation Loss</th>\n",
       "    </tr>\n",
       "  </thead>\n",
       "  <tbody>\n",
       "    <tr>\n",
       "      <td>360</td>\n",
       "      <td>0.968600</td>\n",
       "      <td>0.676024</td>\n",
       "    </tr>\n",
       "    <tr>\n",
       "      <td>720</td>\n",
       "      <td>0.654800</td>\n",
       "      <td>0.671002</td>\n",
       "    </tr>\n",
       "    <tr>\n",
       "      <td>1080</td>\n",
       "      <td>0.645400</td>\n",
       "      <td>0.658555</td>\n",
       "    </tr>\n",
       "    <tr>\n",
       "      <td>1440</td>\n",
       "      <td>0.636200</td>\n",
       "      <td>0.654707</td>\n",
       "    </tr>\n",
       "    <tr>\n",
       "      <td>1800</td>\n",
       "      <td>0.630900</td>\n",
       "      <td>0.647676</td>\n",
       "    </tr>\n",
       "    <tr>\n",
       "      <td>2160</td>\n",
       "      <td>0.625400</td>\n",
       "      <td>0.644955</td>\n",
       "    </tr>\n",
       "    <tr>\n",
       "      <td>2520</td>\n",
       "      <td>0.622700</td>\n",
       "      <td>0.644122</td>\n",
       "    </tr>\n",
       "    <tr>\n",
       "      <td>2880</td>\n",
       "      <td>0.620100</td>\n",
       "      <td>0.643597</td>\n",
       "    </tr>\n",
       "    <tr>\n",
       "      <td>3240</td>\n",
       "      <td>0.618300</td>\n",
       "      <td>0.643140</td>\n",
       "    </tr>\n",
       "    <tr>\n",
       "      <td>3600</td>\n",
       "      <td>0.617800</td>\n",
       "      <td>0.643094</td>\n",
       "    </tr>\n",
       "  </tbody>\n",
       "</table><p>"
      ],
      "text/plain": [
       "<IPython.core.display.HTML object>"
      ]
     },
     "metadata": {},
     "output_type": "display_data"
    },
    {
     "data": {
      "text/plain": [
       "TrainOutput(global_step=3600, training_loss=0.6640065256754557, metrics={'train_runtime': 26.4682, 'train_samples_per_second': 136012.219, 'train_steps_per_second': 136.012, 'total_flos': 0.0, 'train_loss': 0.6640065256754557, 'epoch': 100.0})"
      ]
     },
     "execution_count": 44,
     "metadata": {},
     "output_type": "execute_result"
    }
   ],
   "source": [
    "trainer.train()"
   ]
  },
  {
   "cell_type": "code",
   "execution_count": 45,
   "metadata": {},
   "outputs": [
    {
     "data": {
      "text/html": [
       "\n",
       "    <div>\n",
       "      \n",
       "      <progress value='4' max='4' style='width:300px; height:20px; vertical-align: middle;'></progress>\n",
       "      [4/4 00:00]\n",
       "    </div>\n",
       "    "
      ],
      "text/plain": [
       "<IPython.core.display.HTML object>"
      ]
     },
     "metadata": {},
     "output_type": "display_data"
    },
    {
     "data": {
      "text/plain": [
       "{'eval_loss': 0.6430938243865967,\n",
       " 'eval_runtime': 0.0619,\n",
       " 'eval_samples_per_second': 64579.417,\n",
       " 'eval_steps_per_second': 64.579,\n",
       " 'epoch': 100.0}"
      ]
     },
     "execution_count": 45,
     "metadata": {},
     "output_type": "execute_result"
    }
   ],
   "source": [
    "trainer.evaluate(test_dataset)"
   ]
  },
  {
   "cell_type": "markdown",
   "metadata": {},
   "source": [
    "## Test Model\n"
   ]
  },
  {
   "cell_type": "code",
   "execution_count": 47,
   "metadata": {},
   "outputs": [
    {
     "data": {
      "text/html": [
       "<div><style>\n",
       ".dataframe > thead > tr,\n",
       ".dataframe > tbody > tr {\n",
       "  text-align: right;\n",
       "  white-space: pre-wrap;\n",
       "}\n",
       "</style>\n",
       "<small>shape: (10, 3)</small><table border=\"1\" class=\"dataframe\"><thead><tr><th>Predicted</th><th>Actual</th><th>abs_diff</th></tr><tr><td>f32</td><td>f32</td><td>f32</td></tr></thead><tbody><tr><td>6.289316</td><td>4.3</td><td>1.99</td></tr><tr><td>6.712427</td><td>6.7</td><td>0.01</td></tr><tr><td>6.127418</td><td>6.3</td><td>0.17</td></tr><tr><td>5.253753</td><td>5.4</td><td>0.15</td></tr><tr><td>6.577616</td><td>8.3</td><td>1.72</td></tr><tr><td>5.759141</td><td>6.1</td><td>0.34</td></tr><tr><td>6.300344</td><td>6.9</td><td>0.6</td></tr><tr><td>6.355377</td><td>6.4</td><td>0.04</td></tr><tr><td>5.796121</td><td>6.3</td><td>0.5</td></tr><tr><td>6.410416</td><td>4.5</td><td>1.91</td></tr></tbody></table></div>"
      ],
      "text/plain": [
       "shape: (10, 3)\n",
       "┌───────────┬────────┬──────────┐\n",
       "│ Predicted ┆ Actual ┆ abs_diff │\n",
       "│ ---       ┆ ---    ┆ ---      │\n",
       "│ f32       ┆ f32    ┆ f32      │\n",
       "╞═══════════╪════════╪══════════╡\n",
       "│ 6.289316  ┆ 4.3    ┆ 1.99     │\n",
       "│ 6.712427  ┆ 6.7    ┆ 0.01     │\n",
       "│ 6.127418  ┆ 6.3    ┆ 0.17     │\n",
       "│ 5.253753  ┆ 5.4    ┆ 0.15     │\n",
       "│ 6.577616  ┆ 8.3    ┆ 1.72     │\n",
       "│ 5.759141  ┆ 6.1    ┆ 0.34     │\n",
       "│ 6.300344  ┆ 6.9    ┆ 0.6      │\n",
       "│ 6.355377  ┆ 6.4    ┆ 0.04     │\n",
       "│ 5.796121  ┆ 6.3    ┆ 0.5      │\n",
       "│ 6.410416  ┆ 4.5    ┆ 1.91     │\n",
       "└───────────┴────────┴──────────┘"
      ]
     },
     "execution_count": 47,
     "metadata": {},
     "output_type": "execute_result"
    }
   ],
   "source": [
    "_ = model.to(device)\n",
    "eval_dataset = test_dataset[0:10]\n",
    "\n",
    "with torch.no_grad():\n",
    "    output = model(x=eval_dataset[0])\n",
    "    preds = output.detach().cpu()\n",
    "\n",
    "pl.DataFrame({\"Predicted\": preds, \"Actual\": eval_dataset[1]}).with_columns(\n",
    "    abs_diff=(pl.col(\"Predicted\") - pl.col(\"Actual\")).abs().round(2)\n",
    ")"
   ]
  },
  {
   "cell_type": "code",
   "execution_count": null,
   "metadata": {},
   "outputs": [],
   "source": []
  }
 ],
 "metadata": {
  "kernelspec": {
   "display_name": ".venv",
   "language": "python",
   "name": "python3"
  },
  "language_info": {
   "codemirror_mode": {
    "name": "ipython",
    "version": 3
   },
   "file_extension": ".py",
   "mimetype": "text/x-python",
   "name": "python",
   "nbconvert_exporter": "python",
   "pygments_lexer": "ipython3",
   "version": "3.13.1"
  }
 },
 "nbformat": 4,
 "nbformat_minor": 2
}
