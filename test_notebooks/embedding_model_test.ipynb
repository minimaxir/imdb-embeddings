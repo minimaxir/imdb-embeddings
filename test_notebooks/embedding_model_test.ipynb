{
 "cells": [
  {
   "cell_type": "markdown",
   "metadata": {},
   "source": [
    "https://huggingface.co/jxm/cde-small-v1\n"
   ]
  },
  {
   "cell_type": "code",
   "execution_count": 1,
   "metadata": {},
   "outputs": [
    {
     "name": "stderr",
     "output_type": "stream",
     "text": [
      "/Users/maxwoolf/Library/Mobile Documents/com~apple~CloudDocs/PythonProjects/imdb-embeddings/.venv/lib/python3.13/site-packages/tqdm/auto.py:21: TqdmWarning: IProgress not found. Please update jupyter and ipywidgets. See https://ipywidgets.readthedocs.io/en/stable/user_install.html\n",
      "  from .autonotebook import tqdm as notebook_tqdm\n"
     ]
    }
   ],
   "source": [
    "import transformers\n",
    "import polars as pl\n",
    "import os\n",
    "\n",
    "tokenizer = transformers.AutoTokenizer.from_pretrained(\"bert-base-uncased\")"
   ]
  },
  {
   "cell_type": "code",
   "execution_count": 2,
   "metadata": {},
   "outputs": [
    {
     "name": "stderr",
     "output_type": "stream",
     "text": [
      "<All keys matched successfully>\n",
      "<All keys matched successfully>\n"
     ]
    },
    {
     "name": "stdout",
     "output_type": "stream",
     "text": [
      "Disabled 37 dropout modules from model type <class 'transformers_modules.jxm.cde-small-v1.9e2ed1d8d569d34458913d2d246935c1b2324d11.model.BiEncoder'>\n",
      "modified 12 rotary modules – set rotary_start_pos to 512\n",
      "Disabled 74 dropout modules from model type <class 'transformers_modules.jxm.cde-small-v1.9e2ed1d8d569d34458913d2d246935c1b2324d11.model.DatasetTransformer'>\n"
     ]
    }
   ],
   "source": [
    "device = \"mps\"\n",
    "\n",
    "model = transformers.AutoModel.from_pretrained(\n",
    "    \"jxm/cde-small-v1\", trust_remote_code=True\n",
    ")\n",
    "\n",
    "_ = model.to(device)"
   ]
  },
  {
   "cell_type": "code",
   "execution_count": 3,
   "metadata": {},
   "outputs": [
    {
     "data": {
      "text/plain": [
       "device(type='mps', index=0)"
      ]
     },
     "execution_count": 3,
     "metadata": {},
     "output_type": "execute_result"
    }
   ],
   "source": [
    "model.device"
   ]
  },
  {
   "cell_type": "code",
   "execution_count": null,
   "metadata": {},
   "outputs": [
    {
     "data": {
      "text/html": [
       "<div><style>\n",
       ".dataframe > thead > tr,\n",
       ".dataframe > tbody > tr {\n",
       "  text-align: right;\n",
       "  white-space: pre-wrap;\n",
       "}\n",
       "</style>\n",
       "<small>shape: (373_138, 4)</small><table border=\"1\" class=\"dataframe\"><thead><tr><th>tconst</th><th>startYear</th><th>averageRating</th><th>json</th></tr><tr><td>str</td><td>i64</td><td>f64</td><td>str</td></tr></thead><tbody><tr><td>&quot;tt27447581&quot;</td><td>2023</td><td>6.0</td><td>&quot;{&quot;title&quot;:&quot;All About the Little…</td></tr><tr><td>&quot;tt0126449&quot;</td><td>1972</td><td>8.0</td><td>&quot;{&quot;title&quot;:&quot;Then I Sentenced The…</td></tr><tr><td>&quot;tt2460440&quot;</td><td>2012</td><td>8.9</td><td>&quot;{&quot;title&quot;:&quot;A Film About Kids an…</td></tr><tr><td>&quot;tt13358878&quot;</td><td>2024</td><td>3.5</td><td>&quot;{&quot;title&quot;:&quot;Succubus&quot;,&quot;genres&quot;:[…</td></tr><tr><td>&quot;tt28128599&quot;</td><td>2024</td><td>4.5</td><td>&quot;{&quot;title&quot;:&quot;Midas&quot;,&quot;genres&quot;:[&quot;Ac…</td></tr><tr><td>&hellip;</td><td>&hellip;</td><td>&hellip;</td><td>&hellip;</td></tr><tr><td>&quot;tt2007409&quot;</td><td>2010</td><td>6.0</td><td>&quot;{&quot;title&quot;:&quot;Retribution&quot;,&quot;genres…</td></tr><tr><td>&quot;tt4211840&quot;</td><td>2015</td><td>5.8</td><td>&quot;{&quot;title&quot;:&quot;Seven Dorms of Death…</td></tr><tr><td>&quot;tt0205844&quot;</td><td>1950</td><td>7.6</td><td>&quot;{&quot;title&quot;:&quot;Coriolan&quot;,&quot;genres&quot;:n…</td></tr><tr><td>&quot;tt2177629&quot;</td><td>2013</td><td>4.5</td><td>&quot;{&quot;title&quot;:&quot;Pursuit of Love&quot;,&quot;ge…</td></tr><tr><td>&quot;tt2117955&quot;</td><td>2011</td><td>3.6</td><td>&quot;{&quot;title&quot;:&quot;Sapila xeftila tekil…</td></tr></tbody></table></div>"
      ],
      "text/plain": [
       "shape: (373_138, 4)\n",
       "┌────────────┬───────────┬───────────────┬─────────────────────────────────┐\n",
       "│ tconst     ┆ startYear ┆ averageRating ┆ json                            │\n",
       "│ ---        ┆ ---       ┆ ---           ┆ ---                             │\n",
       "│ str        ┆ i64       ┆ f64           ┆ str                             │\n",
       "╞════════════╪═══════════╪═══════════════╪═════════════════════════════════╡\n",
       "│ tt27447581 ┆ 2023      ┆ 6.0           ┆ {\"title\":\"All About the Little… │\n",
       "│ tt0126449  ┆ 1972      ┆ 8.0           ┆ {\"title\":\"Then I Sentenced The… │\n",
       "│ tt2460440  ┆ 2012      ┆ 8.9           ┆ {\"title\":\"A Film About Kids an… │\n",
       "│ tt13358878 ┆ 2024      ┆ 3.5           ┆ {\"title\":\"Succubus\",\"genres\":[… │\n",
       "│ tt28128599 ┆ 2024      ┆ 4.5           ┆ {\"title\":\"Midas\",\"genres\":[\"Ac… │\n",
       "│ …          ┆ …         ┆ …             ┆ …                               │\n",
       "│ tt2007409  ┆ 2010      ┆ 6.0           ┆ {\"title\":\"Retribution\",\"genres… │\n",
       "│ tt4211840  ┆ 2015      ┆ 5.8           ┆ {\"title\":\"Seven Dorms of Death… │\n",
       "│ tt0205844  ┆ 1950      ┆ 7.6           ┆ {\"title\":\"Coriolan\",\"genres\":n… │\n",
       "│ tt2177629  ┆ 2013      ┆ 4.5           ┆ {\"title\":\"Pursuit of Love\",\"ge… │\n",
       "│ tt2117955  ┆ 2011      ┆ 3.6           ┆ {\"title\":\"Sapila xeftila tekil… │\n",
       "└────────────┴───────────┴───────────────┴─────────────────────────────────┘"
      ]
     },
     "execution_count": 6,
     "metadata": {},
     "output_type": "execute_result"
    }
   ],
   "source": [
    "data_dir = \"/Users/maxwoolf/Downloads\"\n",
    "\n",
    "df = pl.read_parquet(os.path.join(data_dir, \"test_movie_json_input.parquet\"))\n",
    "df = df.sample(fraction=1.0, shuffle=True, seed=42)\n",
    "df"
   ]
  },
  {
   "cell_type": "markdown",
   "metadata": {},
   "source": [
    "## First Stage\n"
   ]
  },
  {
   "cell_type": "code",
   "execution_count": 7,
   "metadata": {},
   "outputs": [],
   "source": [
    "import torch\n",
    "from tqdm.autonotebook import tqdm\n",
    "import random"
   ]
  },
  {
   "cell_type": "code",
   "execution_count": 8,
   "metadata": {},
   "outputs": [
    {
     "data": {
      "text/plain": [
       "['{\"title\":\"Le business du bonheur\",\"genres\":[\"Documentary\"],\"is_adult\":false,\"release_year\":2022,\"runtime_minutes\":52,\"directors\":[\"Jean-Christophe Ribot\"],\"writers\":[\"Claire Alet\",\"Jean-Christophe Ribot\"],\"producers\":[\"Ga\\\\u00eblle Guyader\"],\"actors\":[\"Lison Riess\"],\"principals\":[{\"Jean-Christophe Cheneval\":\"composer\"},{\"Nathana\\\\u00ebl Louvet\":\"cinematographer\"},{\"C\\\\u00e9dric Defert\":\"editor\"}]}',\n",
       " '{\"title\":\"Excuses!\",\"genres\":[\"Comedy\",\"Drama\"],\"is_adult\":false,\"release_year\":2003,\"runtime_minutes\":null,\"directors\":[\"Pep Anton G\\\\u00f3mez\"],\"writers\":[\"Pep Anton G\\\\u00f3mez\",\"Joel Joan\",\"Jordi S\\\\u00e1nchez\"],\"producers\":[],\"actors\":[\"M\\\\u00f2nica Glaenzel\",\"Teresa S\\\\u00e1nchez\",\"Joel Joan\",\"Jordi S\\\\u00e1nchez\"],\"principals\":[]}',\n",
       " '{\"title\":\"The Secret\",\"genres\":[\"Biography\",\"Documentary\"],\"is_adult\":false,\"release_year\":2009,\"runtime_minutes\":63,\"directors\":[\"Pontus Hjorth\\\\u00e9n\",\"Martin J\\\\u00f6nsson\"],\"writers\":[],\"producers\":[\"Kalle Gustafsson Jerneholm\"],\"actors\":[],\"principals\":[{\"Carl-Ivar Nilsson\":\"archive_footage\"},{\"Pontus Hjorth\\\\u00e9n\":\"self\"},{\"Lennart Hjulstr\\\\u00f6m\":\"self\"},{\"Weiron Holmberg\":\"self\"},{\"Roland Jansson\":\"self\"},{\"Ingvar Hirdwall\":\"self\"},{\"Lis Nilheim\":\"self\"},{\"Christina Stenius\":\"self\"},{\"Rikard Wolff\":\"self\"},{\"Tomas von Br\\\\u00f6mssen\":\"self\"},{\"Andreas Jonsson Hay\":\"editor\"}]}',\n",
       " '{\"title\":\"Lys\",\"genres\":[\"Drama\",\"Fantasy\",\"Sci-Fi\"],\"is_adult\":false,\"release_year\":2010,\"runtime_minutes\":52,\"directors\":[\"Krystof Zlatnik\"],\"writers\":[\"Benjamin Karalic\",\"Krystof Zlatnik\"],\"producers\":[\"Felix Vollmar\",\"Fabian Wolfart\"],\"actors\":[\"Hanna Schwamborn\",\"Horst G\\\\u00fcnter Marx\",\"Marc Hosemann\",\"Catherine Bode\",\"Eckehard Hoffmann\",\"Arne Gottschling\",\"Elena Jesse\",\"Maximilian Vollmar\",\"Pierre Kiwitt\",\"Susanne Weckerle\"],\"principals\":[{\"Steven Schwalbe\":\"composer\"},{\"Ralf Noack\":\"cinematographer\"},{\"Jacob Ipsen\":\"editor\"},{\"Philipp Thomas\":\"editor\"},{\"Eva Vollmar\":\"casting_director\"}]}',\n",
       " '{\"title\":\"We Should Make Movies About Love\",\"genres\":[\"Comedy\",\"Drama\",\"Romance\"],\"is_adult\":false,\"release_year\":2024,\"runtime_minutes\":73,\"directors\":[\"Roman Mikhaylov\"],\"writers\":[\"Roman Mikhaylov\"],\"producers\":[\"Katerina Mikhaylova\",\"Alla Pavlova\"],\"actors\":[\"Mark Eidelshtein\",\"Darya Bryukhanova\",\"Roman Mikhaylov\",\"Masha Matsel\",\"Aleksandra Kiseleva\",\"Illarion Marov\",\"Chingiz Garaev\",\"Alina Nasibullina\",\"Husky\",\"Rohit Vishwakarma\"],\"principals\":[{\"Pavel Dodonov\":\"composer\"},{\"Elena Metla\":\"cinematographer\"},{\"Aleksey Rodionov\":\"cinematographer\"},{\"Roman Mikhaylov\":\"editor\"},{\"Aleksey Rodionov\":\"editor\"}]}']"
      ]
     },
     "execution_count": 8,
     "metadata": {},
     "output_type": "execute_result"
    }
   ],
   "source": [
    "df_subset = df.sample(n=1600, shuffle=True, seed=42)\n",
    "json_docs = df_subset[\"json\"].to_list()\n",
    "\n",
    "json_docs[:5]"
   ]
  },
  {
   "cell_type": "code",
   "execution_count": 9,
   "metadata": {},
   "outputs": [
    {
     "data": {
      "text/plain": [
       "512"
      ]
     },
     "execution_count": 9,
     "metadata": {},
     "output_type": "execute_result"
    }
   ],
   "source": [
    "document_prefix = \"search_document: \"\n",
    "\n",
    "minicorpus_size = model.config.transductive_corpus_size\n",
    "minicorpus_docs = random.sample(json_docs, minicorpus_size)\n",
    "len(minicorpus_docs)"
   ]
  },
  {
   "cell_type": "code",
   "execution_count": 10,
   "metadata": {},
   "outputs": [
    {
     "data": {
      "text/plain": [
       "torch.Size([512, 378])"
      ]
     },
     "execution_count": 10,
     "metadata": {},
     "output_type": "execute_result"
    }
   ],
   "source": [
    "minicorpus_tokens = tokenizer(\n",
    "    [document_prefix + doc for doc in minicorpus_docs],\n",
    "    truncation=True,\n",
    "    padding=True,\n",
    "    max_length=512,\n",
    "    return_tensors=\"pt\",\n",
    ").to(device)\n",
    "\n",
    "minicorpus_tokens[\"input_ids\"].size()"
   ]
  },
  {
   "cell_type": "code",
   "execution_count": 11,
   "metadata": {},
   "outputs": [
    {
     "name": "stderr",
     "output_type": "stream",
     "text": [
      "huggingface/tokenizers: The current process just got forked, after parallelism has already been used. Disabling parallelism to avoid deadlocks...\n",
      "To disable this warning, you can either:\n",
      "\t- Avoid using `tokenizers` before the fork if possible\n",
      "\t- Explicitly set the environment variable TOKENIZERS_PARALLELISM=(true | false)\n",
      "100%|██████████| 16/16 [00:24<00:00,  1.51s/it]\n"
     ]
    },
    {
     "data": {
      "text/plain": [
       "torch.Size([512, 768])"
      ]
     },
     "execution_count": 11,
     "metadata": {},
     "output_type": "execute_result"
    }
   ],
   "source": [
    "dataloader = torch.utils.data.DataLoader(minicorpus_docs, batch_size=32, shuffle=False)\n",
    "\n",
    "dataset_embeddings = []\n",
    "for batch in tqdm(dataloader, smoothing=0):\n",
    "    minicorpus_tokens = tokenizer(\n",
    "        [document_prefix + doc for doc in batch],\n",
    "        truncation=True,\n",
    "        padding=\"max_length\",\n",
    "        max_length=512,\n",
    "        return_tensors=\"pt\",\n",
    "    ).to(device)\n",
    "    with torch.no_grad():\n",
    "        dataset_embeddings.append(model.first_stage_model(**minicorpus_tokens))\n",
    "\n",
    "dataset_embeddings = torch.cat(dataset_embeddings)\n",
    "dataset_embeddings.size()"
   ]
  },
  {
   "cell_type": "code",
   "execution_count": 12,
   "metadata": {},
   "outputs": [
    {
     "name": "stderr",
     "output_type": "stream",
     "text": [
      "100%|██████████| 50/50 [03:11<00:00,  3.83s/it]\n"
     ]
    },
    {
     "data": {
      "text/plain": [
       "torch.Size([1600, 768])"
      ]
     },
     "execution_count": 12,
     "metadata": {},
     "output_type": "execute_result"
    }
   ],
   "source": [
    "dataloader = torch.utils.data.DataLoader(json_docs, batch_size=32, shuffle=False)\n",
    "\n",
    "doc_embeddings = []\n",
    "for batch in tqdm(dataloader, smoothing=0):\n",
    "    docs_batch = tokenizer(\n",
    "        [document_prefix + doc for doc in batch],\n",
    "        truncation=True,\n",
    "        padding=\"max_length\",\n",
    "        max_length=512,\n",
    "        return_tensors=\"pt\",\n",
    "    ).to(device)\n",
    "    with torch.no_grad():\n",
    "        doc_embeddings_batch = model.second_stage_model(\n",
    "            input_ids=docs_batch[\"input_ids\"],\n",
    "            attention_mask=docs_batch[\"attention_mask\"],\n",
    "            dataset_embeddings=dataset_embeddings,\n",
    "        )\n",
    "        doc_embeddings.append(doc_embeddings_batch)\n",
    "\n",
    "doc_embeddings = torch.cat(doc_embeddings)\n",
    "doc_embeddings /= doc_embeddings.norm(p=2, dim=1, keepdim=True)\n",
    "doc_embeddings.size()"
   ]
  },
  {
   "cell_type": "code",
   "execution_count": 13,
   "metadata": {},
   "outputs": [
    {
     "data": {
      "text/html": [
       "<div><style>\n",
       ".dataframe > thead > tr,\n",
       ".dataframe > tbody > tr {\n",
       "  text-align: right;\n",
       "  white-space: pre-wrap;\n",
       "}\n",
       "</style>\n",
       "<small>shape: (1_600, 5)</small><table border=\"1\" class=\"dataframe\"><thead><tr><th>tconst</th><th>startYear</th><th>averageRating</th><th>json</th><th>embeds</th></tr><tr><td>str</td><td>i64</td><td>f64</td><td>str</td><td>array[f32, 768]</td></tr></thead><tbody><tr><td>&quot;tt21937348&quot;</td><td>2022</td><td>6.8</td><td>&quot;{&quot;title&quot;:&quot;Le business du bonhe…</td><td>[-0.012958, 0.03246, … -0.037463]</td></tr><tr><td>&quot;tt0425976&quot;</td><td>2003</td><td>5.0</td><td>&quot;{&quot;title&quot;:&quot;Excuses!&quot;,&quot;genres&quot;:[…</td><td>[-0.009819, -0.025217, … -0.069853]</td></tr><tr><td>&quot;tt1581629&quot;</td><td>2009</td><td>6.8</td><td>&quot;{&quot;title&quot;:&quot;The Secret&quot;,&quot;genres&quot;…</td><td>[-0.013838, 0.008304, … -0.051282]</td></tr><tr><td>&quot;tt1707240&quot;</td><td>2010</td><td>6.2</td><td>&quot;{&quot;title&quot;:&quot;Lys&quot;,&quot;genres&quot;:[&quot;Dram…</td><td>[0.022719, 0.042718, … -0.061914]</td></tr><tr><td>&quot;tt32378615&quot;</td><td>2024</td><td>7.7</td><td>&quot;{&quot;title&quot;:&quot;We Should Make Movie…</td><td>[0.041895, 0.016391, … -0.022129]</td></tr><tr><td>&hellip;</td><td>&hellip;</td><td>&hellip;</td><td>&hellip;</td><td>&hellip;</td></tr><tr><td>&quot;tt0463960&quot;</td><td>2013</td><td>3.3</td><td>&quot;{&quot;title&quot;:&quot;The Devil You Know&quot;,…</td><td>[0.01918, 0.006489, … -0.03445]</td></tr><tr><td>&quot;tt5865148&quot;</td><td>2016</td><td>6.1</td><td>&quot;{&quot;title&quot;:&quot;Brett Gelman&#x27;s Dinne…</td><td>[0.015193, 0.030122, … -0.061412]</td></tr><tr><td>&quot;tt0185883&quot;</td><td>1949</td><td>6.7</td><td>&quot;{&quot;title&quot;:&quot;Aoi sanmyaku&quot;,&quot;genre…</td><td>[-0.020236, 0.034688, … -0.058068]</td></tr><tr><td>&quot;tt27436518&quot;</td><td>2022</td><td>4.8</td><td>&quot;{&quot;title&quot;:&quot;The Legacy&quot;,&quot;genres&quot;…</td><td>[-0.019275, 0.007522, … -0.029518]</td></tr><tr><td>&quot;tt8347632&quot;</td><td>1985</td><td>6.0</td><td>&quot;{&quot;title&quot;:&quot;Kto-to dolzhen...&quot;,&quot;…</td><td>[0.03655, -0.003448, … -0.086031]</td></tr></tbody></table></div>"
      ],
      "text/plain": [
       "shape: (1_600, 5)\n",
       "┌────────────┬───────────┬───────────────┬────────────────────────────┬────────────────────────────┐\n",
       "│ tconst     ┆ startYear ┆ averageRating ┆ json                       ┆ embeds                     │\n",
       "│ ---        ┆ ---       ┆ ---           ┆ ---                        ┆ ---                        │\n",
       "│ str        ┆ i64       ┆ f64           ┆ str                        ┆ array[f32, 768]            │\n",
       "╞════════════╪═══════════╪═══════════════╪════════════════════════════╪════════════════════════════╡\n",
       "│ tt21937348 ┆ 2022      ┆ 6.8           ┆ {\"title\":\"Le business du   ┆ [-0.012958, 0.03246, …     │\n",
       "│            ┆           ┆               ┆ bonhe…                     ┆ -0.0374…                   │\n",
       "│ tt0425976  ┆ 2003      ┆ 5.0           ┆ {\"title\":\"Excuses!\",\"genre ┆ [-0.009819, -0.025217, …   │\n",
       "│            ┆           ┆               ┆ s\":[…                      ┆ -0.06…                     │\n",
       "│ tt1581629  ┆ 2009      ┆ 6.8           ┆ {\"title\":\"The              ┆ [-0.013838, 0.008304, …    │\n",
       "│            ┆           ┆               ┆ Secret\",\"genres\"…          ┆ -0.051…                    │\n",
       "│ tt1707240  ┆ 2010      ┆ 6.2           ┆ {\"title\":\"Lys\",\"genres\":[\" ┆ [0.022719, 0.042718, …     │\n",
       "│            ┆           ┆               ┆ Dram…                      ┆ -0.0619…                   │\n",
       "│ tt32378615 ┆ 2024      ┆ 7.7           ┆ {\"title\":\"We Should Make   ┆ [0.041895, 0.016391, …     │\n",
       "│            ┆           ┆               ┆ Movie…                     ┆ -0.0221…                   │\n",
       "│ …          ┆ …         ┆ …             ┆ …                          ┆ …                          │\n",
       "│ tt0463960  ┆ 2013      ┆ 3.3           ┆ {\"title\":\"The Devil You    ┆ [0.01918, 0.006489, …      │\n",
       "│            ┆           ┆               ┆ Know\",…                    ┆ -0.03445…                  │\n",
       "│ tt5865148  ┆ 2016      ┆ 6.1           ┆ {\"title\":\"Brett Gelman's   ┆ [0.015193, 0.030122, …     │\n",
       "│            ┆           ┆               ┆ Dinne…                     ┆ -0.0614…                   │\n",
       "│ tt0185883  ┆ 1949      ┆ 6.7           ┆ {\"title\":\"Aoi              ┆ [-0.020236, 0.034688, …    │\n",
       "│            ┆           ┆               ┆ sanmyaku\",\"genre…          ┆ -0.058…                    │\n",
       "│ tt27436518 ┆ 2022      ┆ 4.8           ┆ {\"title\":\"The              ┆ [-0.019275, 0.007522, …    │\n",
       "│            ┆           ┆               ┆ Legacy\",\"genres\"…          ┆ -0.029…                    │\n",
       "│ tt8347632  ┆ 1985      ┆ 6.0           ┆ {\"title\":\"Kto-to           ┆ [0.03655, -0.003448, …     │\n",
       "│            ┆           ┆               ┆ dolzhen...\",\"…             ┆ -0.0860…                   │\n",
       "└────────────┴───────────┴───────────────┴────────────────────────────┴────────────────────────────┘"
      ]
     },
     "execution_count": 13,
     "metadata": {},
     "output_type": "execute_result"
    }
   ],
   "source": [
    "df_subset_2 = df_subset.with_columns(embeds=doc_embeddings.cpu().numpy())\n",
    "df_subset_2"
   ]
  },
  {
   "cell_type": "code",
   "execution_count": 14,
   "metadata": {},
   "outputs": [],
   "source": [
    "df_subset_2.write_parquet(os.path.join(data_dir, \"movie_embeds.parquet\"))"
   ]
  },
  {
   "cell_type": "code",
   "execution_count": null,
   "metadata": {},
   "outputs": [],
   "source": []
  }
 ],
 "metadata": {
  "kernelspec": {
   "display_name": ".venv",
   "language": "python",
   "name": "python3"
  },
  "language_info": {
   "codemirror_mode": {
    "name": "ipython",
    "version": 3
   },
   "file_extension": ".py",
   "mimetype": "text/x-python",
   "name": "python",
   "nbconvert_exporter": "python",
   "pygments_lexer": "ipython3",
   "version": "3.13.1"
  }
 },
 "nbformat": 4,
 "nbformat_minor": 2
}
