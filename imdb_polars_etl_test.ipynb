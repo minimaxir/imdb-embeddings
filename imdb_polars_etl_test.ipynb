{
 "cells": [
  {
   "cell_type": "markdown",
   "metadata": {},
   "source": [
    "https://developer.imdb.com/non-commercial-datasets/\n"
   ]
  },
  {
   "cell_type": "code",
   "execution_count": 14,
   "metadata": {},
   "outputs": [],
   "source": [
    "import polars as pl\n",
    "import os"
   ]
  },
  {
   "cell_type": "code",
   "execution_count": 15,
   "metadata": {},
   "outputs": [],
   "source": [
    "data_dir = \"/Users/maxwoolf/Downloads\"\n",
    "\n",
    "df_titles = pl.read_csv(\n",
    "    os.path.join(data_dir, \"title.basics.tsv.gz\"), separator=\"\\t\", ignore_errors=True\n",
    ")"
   ]
  },
  {
   "cell_type": "code",
   "execution_count": 16,
   "metadata": {},
   "outputs": [
    {
     "data": {
      "text/plain": [
       "(11073287, 9)"
      ]
     },
     "execution_count": 16,
     "metadata": {},
     "output_type": "execute_result"
    }
   ],
   "source": [
    "df_titles.shape"
   ]
  },
  {
   "cell_type": "code",
   "execution_count": 17,
   "metadata": {},
   "outputs": [
    {
     "data": {
      "text/html": [
       "<div><style>\n",
       ".dataframe > thead > tr,\n",
       ".dataframe > tbody > tr {\n",
       "  text-align: right;\n",
       "  white-space: pre-wrap;\n",
       "}\n",
       "</style>\n",
       "<small>shape: (5, 9)</small><table border=\"1\" class=\"dataframe\"><thead><tr><th>tconst</th><th>titleType</th><th>primaryTitle</th><th>originalTitle</th><th>isAdult</th><th>startYear</th><th>endYear</th><th>runtimeMinutes</th><th>genres</th></tr><tr><td>str</td><td>str</td><td>str</td><td>str</td><td>i64</td><td>i64</td><td>str</td><td>str</td><td>str</td></tr></thead><tbody><tr><td>&quot;tt0000001&quot;</td><td>&quot;short&quot;</td><td>&quot;Carmencita&quot;</td><td>&quot;Carmencita&quot;</td><td>0</td><td>1894</td><td>&quot;\\N&quot;</td><td>&quot;1&quot;</td><td>&quot;Documentary,Short&quot;</td></tr><tr><td>&quot;tt0000002&quot;</td><td>&quot;short&quot;</td><td>&quot;Le clown et ses chiens&quot;</td><td>&quot;Le clown et ses chiens&quot;</td><td>0</td><td>1892</td><td>&quot;\\N&quot;</td><td>&quot;5&quot;</td><td>&quot;Animation,Short&quot;</td></tr><tr><td>&quot;tt0000003&quot;</td><td>&quot;short&quot;</td><td>&quot;Pauvre Pierrot&quot;</td><td>&quot;Pauvre Pierrot&quot;</td><td>0</td><td>1892</td><td>&quot;\\N&quot;</td><td>&quot;5&quot;</td><td>&quot;Animation,Comedy,Romance&quot;</td></tr><tr><td>&quot;tt0000004&quot;</td><td>&quot;short&quot;</td><td>&quot;Un bon bock&quot;</td><td>&quot;Un bon bock&quot;</td><td>0</td><td>1892</td><td>&quot;\\N&quot;</td><td>&quot;12&quot;</td><td>&quot;Animation,Short&quot;</td></tr><tr><td>&quot;tt0000005&quot;</td><td>&quot;short&quot;</td><td>&quot;Blacksmith Scene&quot;</td><td>&quot;Blacksmith Scene&quot;</td><td>0</td><td>1893</td><td>&quot;\\N&quot;</td><td>&quot;1&quot;</td><td>&quot;Comedy,Short&quot;</td></tr></tbody></table></div>"
      ],
      "text/plain": [
       "shape: (5, 9)\n",
       "┌───────────┬───────────┬────────────┬───────────┬───┬───────────┬─────────┬───────────┬───────────┐\n",
       "│ tconst    ┆ titleType ┆ primaryTit ┆ originalT ┆ … ┆ startYear ┆ endYear ┆ runtimeMi ┆ genres    │\n",
       "│ ---       ┆ ---       ┆ le         ┆ itle      ┆   ┆ ---       ┆ ---     ┆ nutes     ┆ ---       │\n",
       "│ str       ┆ str       ┆ ---        ┆ ---       ┆   ┆ i64       ┆ str     ┆ ---       ┆ str       │\n",
       "│           ┆           ┆ str        ┆ str       ┆   ┆           ┆         ┆ str       ┆           │\n",
       "╞═══════════╪═══════════╪════════════╪═══════════╪═══╪═══════════╪═════════╪═══════════╪═══════════╡\n",
       "│ tt0000001 ┆ short     ┆ Carmencita ┆ Carmencit ┆ … ┆ 1894      ┆ \\N      ┆ 1         ┆ Documenta │\n",
       "│           ┆           ┆            ┆ a         ┆   ┆           ┆         ┆           ┆ ry,Short  │\n",
       "│ tt0000002 ┆ short     ┆ Le clown   ┆ Le clown  ┆ … ┆ 1892      ┆ \\N      ┆ 5         ┆ Animation │\n",
       "│           ┆           ┆ et ses     ┆ et ses    ┆   ┆           ┆         ┆           ┆ ,Short    │\n",
       "│           ┆           ┆ chiens     ┆ chiens    ┆   ┆           ┆         ┆           ┆           │\n",
       "│ tt0000003 ┆ short     ┆ Pauvre     ┆ Pauvre    ┆ … ┆ 1892      ┆ \\N      ┆ 5         ┆ Animation │\n",
       "│           ┆           ┆ Pierrot    ┆ Pierrot   ┆   ┆           ┆         ┆           ┆ ,Comedy,R │\n",
       "│           ┆           ┆            ┆           ┆   ┆           ┆         ┆           ┆ omance    │\n",
       "│ tt0000004 ┆ short     ┆ Un bon     ┆ Un bon    ┆ … ┆ 1892      ┆ \\N      ┆ 12        ┆ Animation │\n",
       "│           ┆           ┆ bock       ┆ bock      ┆   ┆           ┆         ┆           ┆ ,Short    │\n",
       "│ tt0000005 ┆ short     ┆ Blacksmith ┆ Blacksmit ┆ … ┆ 1893      ┆ \\N      ┆ 1         ┆ Comedy,Sh │\n",
       "│           ┆           ┆ Scene      ┆ h Scene   ┆   ┆           ┆         ┆           ┆ ort       │\n",
       "└───────────┴───────────┴────────────┴───────────┴───┴───────────┴─────────┴───────────┴───────────┘"
      ]
     },
     "execution_count": 17,
     "metadata": {},
     "output_type": "execute_result"
    }
   ],
   "source": [
    "df_titles.head()"
   ]
  },
  {
   "cell_type": "code",
   "execution_count": 18,
   "metadata": {},
   "outputs": [
    {
     "data": {
      "text/plain": [
       "['tvSpecial',\n",
       " 'movie',\n",
       " 'tvSeries',\n",
       " 'tvMiniSeries',\n",
       " 'videoGame',\n",
       " 'tvPilot',\n",
       " 'video',\n",
       " 'tvMovie',\n",
       " 'tvShort',\n",
       " 'tvEpisode',\n",
       " 'short']"
      ]
     },
     "execution_count": 18,
     "metadata": {},
     "output_type": "execute_result"
    }
   ],
   "source": [
    "df_titles.unique(subset=[\"titleType\"])[\"titleType\"].to_list()"
   ]
  },
  {
   "cell_type": "code",
   "execution_count": 20,
   "metadata": {},
   "outputs": [
    {
     "data": {
      "text/plain": [
       "(691896, 9)"
      ]
     },
     "execution_count": 20,
     "metadata": {},
     "output_type": "execute_result"
    }
   ],
   "source": [
    "df_titles = df_titles.filter(pl.col(\"titleType\") == \"movie\").sort(\n",
    "    \"tconst\", descending=True\n",
    ")\n",
    "df_titles.shape"
   ]
  },
  {
   "cell_type": "code",
   "execution_count": 21,
   "metadata": {},
   "outputs": [
    {
     "data": {
      "text/html": [
       "<div><style>\n",
       ".dataframe > thead > tr,\n",
       ".dataframe > tbody > tr {\n",
       "  text-align: right;\n",
       "  white-space: pre-wrap;\n",
       "}\n",
       "</style>\n",
       "<small>shape: (5, 9)</small><table border=\"1\" class=\"dataframe\"><thead><tr><th>tconst</th><th>titleType</th><th>primaryTitle</th><th>originalTitle</th><th>isAdult</th><th>startYear</th><th>endYear</th><th>runtimeMinutes</th><th>genres</th></tr><tr><td>str</td><td>str</td><td>str</td><td>str</td><td>i64</td><td>i64</td><td>str</td><td>str</td><td>str</td></tr></thead><tbody><tr><td>&quot;tt9916754&quot;</td><td>&quot;movie&quot;</td><td>&quot;Chico Albuquerque - Revelações&quot;</td><td>&quot;Chico Albuquerque - Revelações&quot;</td><td>0</td><td>2013</td><td>&quot;\\N&quot;</td><td>&quot;49&quot;</td><td>&quot;Documentary&quot;</td></tr><tr><td>&quot;tt9916730&quot;</td><td>&quot;movie&quot;</td><td>&quot;6 Gunn&quot;</td><td>&quot;6 Gunn&quot;</td><td>0</td><td>2017</td><td>&quot;\\N&quot;</td><td>&quot;116&quot;</td><td>&quot;Drama&quot;</td></tr><tr><td>&quot;tt9916706&quot;</td><td>&quot;movie&quot;</td><td>&quot;Dankyavar Danka&quot;</td><td>&quot;Dankyavar Danka&quot;</td><td>0</td><td>2013</td><td>&quot;\\N&quot;</td><td>&quot;\\N&quot;</td><td>&quot;Comedy&quot;</td></tr><tr><td>&quot;tt9916680&quot;</td><td>&quot;movie&quot;</td><td>&quot;De la ilusión al desconcierto:…</td><td>&quot;De la ilusión al desconcierto:…</td><td>0</td><td>2007</td><td>&quot;\\N&quot;</td><td>&quot;100&quot;</td><td>&quot;Documentary&quot;</td></tr><tr><td>&quot;tt9916622&quot;</td><td>&quot;movie&quot;</td><td>&quot;Rodolpho Teóphilo - O Legado d…</td><td>&quot;Rodolpho Teóphilo - O Legado d…</td><td>0</td><td>2015</td><td>&quot;\\N&quot;</td><td>&quot;57&quot;</td><td>&quot;Documentary&quot;</td></tr></tbody></table></div>"
      ],
      "text/plain": [
       "shape: (5, 9)\n",
       "┌───────────┬───────────┬────────────┬───────────┬───┬───────────┬─────────┬───────────┬───────────┐\n",
       "│ tconst    ┆ titleType ┆ primaryTit ┆ originalT ┆ … ┆ startYear ┆ endYear ┆ runtimeMi ┆ genres    │\n",
       "│ ---       ┆ ---       ┆ le         ┆ itle      ┆   ┆ ---       ┆ ---     ┆ nutes     ┆ ---       │\n",
       "│ str       ┆ str       ┆ ---        ┆ ---       ┆   ┆ i64       ┆ str     ┆ ---       ┆ str       │\n",
       "│           ┆           ┆ str        ┆ str       ┆   ┆           ┆         ┆ str       ┆           │\n",
       "╞═══════════╪═══════════╪════════════╪═══════════╪═══╪═══════════╪═════════╪═══════════╪═══════════╡\n",
       "│ tt9916754 ┆ movie     ┆ Chico Albu ┆ Chico Alb ┆ … ┆ 2013      ┆ \\N      ┆ 49        ┆ Documenta │\n",
       "│           ┆           ┆ querque -  ┆ uquerque  ┆   ┆           ┆         ┆           ┆ ry        │\n",
       "│           ┆           ┆ Revelações ┆ - Revelaç ┆   ┆           ┆         ┆           ┆           │\n",
       "│           ┆           ┆            ┆ ões       ┆   ┆           ┆         ┆           ┆           │\n",
       "│ tt9916730 ┆ movie     ┆ 6 Gunn     ┆ 6 Gunn    ┆ … ┆ 2017      ┆ \\N      ┆ 116       ┆ Drama     │\n",
       "│ tt9916706 ┆ movie     ┆ Dankyavar  ┆ Dankyavar ┆ … ┆ 2013      ┆ \\N      ┆ \\N        ┆ Comedy    │\n",
       "│           ┆           ┆ Danka      ┆ Danka     ┆   ┆           ┆         ┆           ┆           │\n",
       "│ tt9916680 ┆ movie     ┆ De la      ┆ De la     ┆ … ┆ 2007      ┆ \\N      ┆ 100       ┆ Documenta │\n",
       "│           ┆           ┆ ilusión al ┆ ilusión   ┆   ┆           ┆         ┆           ┆ ry        │\n",
       "│           ┆           ┆ desconcier ┆ al descon ┆   ┆           ┆         ┆           ┆           │\n",
       "│           ┆           ┆ to:…       ┆ cierto:…  ┆   ┆           ┆         ┆           ┆           │\n",
       "│ tt9916622 ┆ movie     ┆ Rodolpho   ┆ Rodolpho  ┆ … ┆ 2015      ┆ \\N      ┆ 57        ┆ Documenta │\n",
       "│           ┆           ┆ Teóphilo - ┆ Teóphilo  ┆   ┆           ┆         ┆           ┆ ry        │\n",
       "│           ┆           ┆ O Legado   ┆ - O       ┆   ┆           ┆         ┆           ┆           │\n",
       "│           ┆           ┆ d…         ┆ Legado d… ┆   ┆           ┆         ┆           ┆           │\n",
       "└───────────┴───────────┴────────────┴───────────┴───┴───────────┴─────────┴───────────┴───────────┘"
      ]
     },
     "execution_count": 21,
     "metadata": {},
     "output_type": "execute_result"
    }
   ],
   "source": [
    "df_titles.head()"
   ]
  },
  {
   "cell_type": "code",
   "execution_count": null,
   "metadata": {},
   "outputs": [],
   "source": []
  }
 ],
 "metadata": {
  "kernelspec": {
   "display_name": ".venv",
   "language": "python",
   "name": "python3"
  },
  "language_info": {
   "codemirror_mode": {
    "name": "ipython",
    "version": 3
   },
   "file_extension": ".py",
   "mimetype": "text/x-python",
   "name": "python",
   "nbconvert_exporter": "python",
   "pygments_lexer": "ipython3",
   "version": "3.12.6"
  }
 },
 "nbformat": 4,
 "nbformat_minor": 2
}
