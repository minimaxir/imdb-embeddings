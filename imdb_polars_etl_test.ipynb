{
 "cells": [
  {
   "cell_type": "markdown",
   "metadata": {},
   "source": [
    "https://developer.imdb.com/non-commercial-datasets/\n"
   ]
  },
  {
   "cell_type": "code",
   "execution_count": 1,
   "metadata": {},
   "outputs": [],
   "source": [
    "import polars as pl\n",
    "import os\n",
    "import orjson"
   ]
  },
  {
   "cell_type": "code",
   "execution_count": 2,
   "metadata": {},
   "outputs": [
    {
     "data": {
      "text/html": [
       "<div><style>\n",
       ".dataframe > thead > tr,\n",
       ".dataframe > tbody > tr {\n",
       "  text-align: right;\n",
       "  white-space: pre-wrap;\n",
       "}\n",
       "</style>\n",
       "<small>shape: (11_644_335, 9)</small><table border=\"1\" class=\"dataframe\"><thead><tr><th>tconst</th><th>titleType</th><th>primaryTitle</th><th>originalTitle</th><th>isAdult</th><th>startYear</th><th>endYear</th><th>runtimeMinutes</th><th>genres</th></tr><tr><td>str</td><td>str</td><td>str</td><td>str</td><td>i64</td><td>i64</td><td>str</td><td>str</td><td>str</td></tr></thead><tbody><tr><td>&quot;tt0000001&quot;</td><td>&quot;short&quot;</td><td>&quot;Carmencita&quot;</td><td>&quot;Carmencita&quot;</td><td>0</td><td>1894</td><td>&quot;\\N&quot;</td><td>&quot;1&quot;</td><td>&quot;Documentary,Short&quot;</td></tr><tr><td>&quot;tt0000002&quot;</td><td>&quot;short&quot;</td><td>&quot;Le clown et ses chiens&quot;</td><td>&quot;Le clown et ses chiens&quot;</td><td>0</td><td>1892</td><td>&quot;\\N&quot;</td><td>&quot;5&quot;</td><td>&quot;Animation,Short&quot;</td></tr><tr><td>&quot;tt0000003&quot;</td><td>&quot;short&quot;</td><td>&quot;Poor Pierrot&quot;</td><td>&quot;Pauvre Pierrot&quot;</td><td>0</td><td>1892</td><td>&quot;\\N&quot;</td><td>&quot;5&quot;</td><td>&quot;Animation,Comedy,Romance&quot;</td></tr><tr><td>&quot;tt0000004&quot;</td><td>&quot;short&quot;</td><td>&quot;Un bon bock&quot;</td><td>&quot;Un bon bock&quot;</td><td>0</td><td>1892</td><td>&quot;\\N&quot;</td><td>&quot;12&quot;</td><td>&quot;Animation,Short&quot;</td></tr><tr><td>&quot;tt0000005&quot;</td><td>&quot;short&quot;</td><td>&quot;Blacksmith Scene&quot;</td><td>&quot;Blacksmith Scene&quot;</td><td>0</td><td>1893</td><td>&quot;\\N&quot;</td><td>&quot;1&quot;</td><td>&quot;Short&quot;</td></tr><tr><td>&hellip;</td><td>&hellip;</td><td>&hellip;</td><td>&hellip;</td><td>&hellip;</td><td>&hellip;</td><td>&hellip;</td><td>&hellip;</td><td>&hellip;</td></tr><tr><td>&quot;tt9916848&quot;</td><td>&quot;tvEpisode&quot;</td><td>&quot;Episode #3.17&quot;</td><td>&quot;Episode #3.17&quot;</td><td>0</td><td>2009</td><td>&quot;\\N&quot;</td><td>&quot;\\N&quot;</td><td>&quot;Drama&quot;</td></tr><tr><td>&quot;tt9916850&quot;</td><td>&quot;tvEpisode&quot;</td><td>&quot;Episode #3.19&quot;</td><td>&quot;Episode #3.19&quot;</td><td>0</td><td>2010</td><td>&quot;\\N&quot;</td><td>&quot;\\N&quot;</td><td>&quot;Drama&quot;</td></tr><tr><td>&quot;tt9916852&quot;</td><td>&quot;tvEpisode&quot;</td><td>&quot;Episode #3.20&quot;</td><td>&quot;Episode #3.20&quot;</td><td>0</td><td>2010</td><td>&quot;\\N&quot;</td><td>&quot;\\N&quot;</td><td>&quot;Drama&quot;</td></tr><tr><td>&quot;tt9916856&quot;</td><td>&quot;short&quot;</td><td>&quot;The Wind&quot;</td><td>&quot;The Wind&quot;</td><td>0</td><td>2015</td><td>&quot;\\N&quot;</td><td>&quot;27&quot;</td><td>&quot;Short&quot;</td></tr><tr><td>&quot;tt9916880&quot;</td><td>&quot;tvEpisode&quot;</td><td>&quot;Horrid Henry Knows It All&quot;</td><td>&quot;Horrid Henry Knows It All&quot;</td><td>0</td><td>2014</td><td>&quot;\\N&quot;</td><td>&quot;10&quot;</td><td>&quot;Adventure,Animation,Comedy&quot;</td></tr></tbody></table></div>"
      ],
      "text/plain": [
       "shape: (11_644_335, 9)\n",
       "┌───────────┬───────────┬────────────┬───────────┬───┬───────────┬─────────┬───────────┬───────────┐\n",
       "│ tconst    ┆ titleType ┆ primaryTit ┆ originalT ┆ … ┆ startYear ┆ endYear ┆ runtimeMi ┆ genres    │\n",
       "│ ---       ┆ ---       ┆ le         ┆ itle      ┆   ┆ ---       ┆ ---     ┆ nutes     ┆ ---       │\n",
       "│ str       ┆ str       ┆ ---        ┆ ---       ┆   ┆ i64       ┆ str     ┆ ---       ┆ str       │\n",
       "│           ┆           ┆ str        ┆ str       ┆   ┆           ┆         ┆ str       ┆           │\n",
       "╞═══════════╪═══════════╪════════════╪═══════════╪═══╪═══════════╪═════════╪═══════════╪═══════════╡\n",
       "│ tt0000001 ┆ short     ┆ Carmencita ┆ Carmencit ┆ … ┆ 1894      ┆ \\N      ┆ 1         ┆ Documenta │\n",
       "│           ┆           ┆            ┆ a         ┆   ┆           ┆         ┆           ┆ ry,Short  │\n",
       "│ tt0000002 ┆ short     ┆ Le clown   ┆ Le clown  ┆ … ┆ 1892      ┆ \\N      ┆ 5         ┆ Animation │\n",
       "│           ┆           ┆ et ses     ┆ et ses    ┆   ┆           ┆         ┆           ┆ ,Short    │\n",
       "│           ┆           ┆ chiens     ┆ chiens    ┆   ┆           ┆         ┆           ┆           │\n",
       "│ tt0000003 ┆ short     ┆ Poor       ┆ Pauvre    ┆ … ┆ 1892      ┆ \\N      ┆ 5         ┆ Animation │\n",
       "│           ┆           ┆ Pierrot    ┆ Pierrot   ┆   ┆           ┆         ┆           ┆ ,Comedy,R │\n",
       "│           ┆           ┆            ┆           ┆   ┆           ┆         ┆           ┆ omance    │\n",
       "│ tt0000004 ┆ short     ┆ Un bon     ┆ Un bon    ┆ … ┆ 1892      ┆ \\N      ┆ 12        ┆ Animation │\n",
       "│           ┆           ┆ bock       ┆ bock      ┆   ┆           ┆         ┆           ┆ ,Short    │\n",
       "│ tt0000005 ┆ short     ┆ Blacksmith ┆ Blacksmit ┆ … ┆ 1893      ┆ \\N      ┆ 1         ┆ Short     │\n",
       "│           ┆           ┆ Scene      ┆ h Scene   ┆   ┆           ┆         ┆           ┆           │\n",
       "│ …         ┆ …         ┆ …          ┆ …         ┆ … ┆ …         ┆ …       ┆ …         ┆ …         │\n",
       "│ tt9916848 ┆ tvEpisode ┆ Episode    ┆ Episode   ┆ … ┆ 2009      ┆ \\N      ┆ \\N        ┆ Drama     │\n",
       "│           ┆           ┆ #3.17      ┆ #3.17     ┆   ┆           ┆         ┆           ┆           │\n",
       "│ tt9916850 ┆ tvEpisode ┆ Episode    ┆ Episode   ┆ … ┆ 2010      ┆ \\N      ┆ \\N        ┆ Drama     │\n",
       "│           ┆           ┆ #3.19      ┆ #3.19     ┆   ┆           ┆         ┆           ┆           │\n",
       "│ tt9916852 ┆ tvEpisode ┆ Episode    ┆ Episode   ┆ … ┆ 2010      ┆ \\N      ┆ \\N        ┆ Drama     │\n",
       "│           ┆           ┆ #3.20      ┆ #3.20     ┆   ┆           ┆         ┆           ┆           │\n",
       "│ tt9916856 ┆ short     ┆ The Wind   ┆ The Wind  ┆ … ┆ 2015      ┆ \\N      ┆ 27        ┆ Short     │\n",
       "│ tt9916880 ┆ tvEpisode ┆ Horrid     ┆ Horrid    ┆ … ┆ 2014      ┆ \\N      ┆ 10        ┆ Adventure │\n",
       "│           ┆           ┆ Henry      ┆ Henry     ┆   ┆           ┆         ┆           ┆ ,Animatio │\n",
       "│           ┆           ┆ Knows It   ┆ Knows It  ┆   ┆           ┆         ┆           ┆ n,Comedy  │\n",
       "│           ┆           ┆ All        ┆ All       ┆   ┆           ┆         ┆           ┆           │\n",
       "└───────────┴───────────┴────────────┴───────────┴───┴───────────┴─────────┴───────────┴───────────┘"
      ]
     },
     "execution_count": 2,
     "metadata": {},
     "output_type": "execute_result"
    }
   ],
   "source": [
    "data_dir = \"/Users/maxwoolf/Downloads\"\n",
    "\n",
    "df_titles = pl.read_csv(\n",
    "    os.path.join(data_dir, \"title.basics.tsv.gz\"),\n",
    "    separator=\"\\t\",\n",
    "    ignore_errors=True,\n",
    "    quote_char=None,\n",
    ")\n",
    "\n",
    "df_titles"
   ]
  },
  {
   "cell_type": "code",
   "execution_count": 3,
   "metadata": {},
   "outputs": [
    {
     "data": {
      "text/plain": [
       "['short',\n",
       " 'tvMovie',\n",
       " 'tvShort',\n",
       " 'tvPilot',\n",
       " 'tvMiniSeries',\n",
       " 'movie',\n",
       " 'tvSpecial',\n",
       " 'tvEpisode',\n",
       " 'video',\n",
       " 'tvSeries',\n",
       " 'videoGame']"
      ]
     },
     "execution_count": 3,
     "metadata": {},
     "output_type": "execute_result"
    }
   ],
   "source": [
    "df_titles[\"titleType\"].unique().to_list()"
   ]
  },
  {
   "cell_type": "code",
   "execution_count": 4,
   "metadata": {},
   "outputs": [
    {
     "data": {
      "text/html": [
       "<div><style>\n",
       ".dataframe > thead > tr,\n",
       ".dataframe > tbody > tr {\n",
       "  text-align: right;\n",
       "  white-space: pre-wrap;\n",
       "}\n",
       "</style>\n",
       "<small>shape: (865_104, 9)</small><table border=\"1\" class=\"dataframe\"><thead><tr><th>tconst</th><th>titleType</th><th>primaryTitle</th><th>originalTitle</th><th>isAdult</th><th>startYear</th><th>endYear</th><th>runtimeMinutes</th><th>genres</th></tr><tr><td>str</td><td>str</td><td>str</td><td>str</td><td>i64</td><td>i64</td><td>str</td><td>str</td><td>str</td></tr></thead><tbody><tr><td>&quot;tt0000009&quot;</td><td>&quot;movie&quot;</td><td>&quot;Miss Jerry&quot;</td><td>&quot;Miss Jerry&quot;</td><td>0</td><td>1894</td><td>&quot;\\N&quot;</td><td>&quot;45&quot;</td><td>&quot;Romance&quot;</td></tr><tr><td>&quot;tt0000147&quot;</td><td>&quot;movie&quot;</td><td>&quot;The Corbett-Fitzsimmons Fight&quot;</td><td>&quot;The Corbett-Fitzsimmons Fight&quot;</td><td>0</td><td>1897</td><td>&quot;\\N&quot;</td><td>&quot;100&quot;</td><td>&quot;Documentary,News,Sport&quot;</td></tr><tr><td>&quot;tt0000502&quot;</td><td>&quot;movie&quot;</td><td>&quot;Bohemios&quot;</td><td>&quot;Bohemios&quot;</td><td>0</td><td>1905</td><td>&quot;\\N&quot;</td><td>&quot;100&quot;</td><td>&quot;\\N&quot;</td></tr><tr><td>&quot;tt0000574&quot;</td><td>&quot;movie&quot;</td><td>&quot;The Story of the Kelly Gang&quot;</td><td>&quot;The Story of the Kelly Gang&quot;</td><td>0</td><td>1906</td><td>&quot;\\N&quot;</td><td>&quot;70&quot;</td><td>&quot;Action,Adventure,Biography&quot;</td></tr><tr><td>&quot;tt0000591&quot;</td><td>&quot;movie&quot;</td><td>&quot;The Prodigal Son&quot;</td><td>&quot;L&#x27;enfant prodigue&quot;</td><td>0</td><td>1907</td><td>&quot;\\N&quot;</td><td>&quot;90&quot;</td><td>&quot;Drama&quot;</td></tr><tr><td>&hellip;</td><td>&hellip;</td><td>&hellip;</td><td>&hellip;</td><td>&hellip;</td><td>&hellip;</td><td>&hellip;</td><td>&hellip;</td><td>&hellip;</td></tr><tr><td>&quot;tt9916680&quot;</td><td>&quot;movie&quot;</td><td>&quot;De la ilusión al desconcierto:…</td><td>&quot;De la ilusión al desconcierto:…</td><td>0</td><td>2007</td><td>&quot;\\N&quot;</td><td>&quot;100&quot;</td><td>&quot;Documentary&quot;</td></tr><tr><td>&quot;tt9916692&quot;</td><td>&quot;tvMovie&quot;</td><td>&quot;Czlowiek bez twarzy&quot;</td><td>&quot;Czlowiek bez twarzy&quot;</td><td>0</td><td>2015</td><td>&quot;\\N&quot;</td><td>&quot;66&quot;</td><td>&quot;Drama&quot;</td></tr><tr><td>&quot;tt9916706&quot;</td><td>&quot;movie&quot;</td><td>&quot;Dankyavar Danka&quot;</td><td>&quot;Dankyavar Danka&quot;</td><td>0</td><td>2013</td><td>&quot;\\N&quot;</td><td>&quot;\\N&quot;</td><td>&quot;Comedy&quot;</td></tr><tr><td>&quot;tt9916730&quot;</td><td>&quot;movie&quot;</td><td>&quot;6 Gunn&quot;</td><td>&quot;6 Gunn&quot;</td><td>0</td><td>2017</td><td>&quot;\\N&quot;</td><td>&quot;116&quot;</td><td>&quot;Drama&quot;</td></tr><tr><td>&quot;tt9916754&quot;</td><td>&quot;movie&quot;</td><td>&quot;Chico Albuquerque - Revelações&quot;</td><td>&quot;Chico Albuquerque - Revelações&quot;</td><td>0</td><td>2013</td><td>&quot;\\N&quot;</td><td>&quot;49&quot;</td><td>&quot;Documentary&quot;</td></tr></tbody></table></div>"
      ],
      "text/plain": [
       "shape: (865_104, 9)\n",
       "┌───────────┬───────────┬────────────┬───────────┬───┬───────────┬─────────┬───────────┬───────────┐\n",
       "│ tconst    ┆ titleType ┆ primaryTit ┆ originalT ┆ … ┆ startYear ┆ endYear ┆ runtimeMi ┆ genres    │\n",
       "│ ---       ┆ ---       ┆ le         ┆ itle      ┆   ┆ ---       ┆ ---     ┆ nutes     ┆ ---       │\n",
       "│ str       ┆ str       ┆ ---        ┆ ---       ┆   ┆ i64       ┆ str     ┆ ---       ┆ str       │\n",
       "│           ┆           ┆ str        ┆ str       ┆   ┆           ┆         ┆ str       ┆           │\n",
       "╞═══════════╪═══════════╪════════════╪═══════════╪═══╪═══════════╪═════════╪═══════════╪═══════════╡\n",
       "│ tt0000009 ┆ movie     ┆ Miss Jerry ┆ Miss      ┆ … ┆ 1894      ┆ \\N      ┆ 45        ┆ Romance   │\n",
       "│           ┆           ┆            ┆ Jerry     ┆   ┆           ┆         ┆           ┆           │\n",
       "│ tt0000147 ┆ movie     ┆ The Corbet ┆ The Corbe ┆ … ┆ 1897      ┆ \\N      ┆ 100       ┆ Documenta │\n",
       "│           ┆           ┆ t-Fitzsimm ┆ tt-Fitzsi ┆   ┆           ┆         ┆           ┆ ry,News,S │\n",
       "│           ┆           ┆ ons Fight  ┆ mmons     ┆   ┆           ┆         ┆           ┆ port      │\n",
       "│           ┆           ┆            ┆ Fight     ┆   ┆           ┆         ┆           ┆           │\n",
       "│ tt0000502 ┆ movie     ┆ Bohemios   ┆ Bohemios  ┆ … ┆ 1905      ┆ \\N      ┆ 100       ┆ \\N        │\n",
       "│ tt0000574 ┆ movie     ┆ The Story  ┆ The Story ┆ … ┆ 1906      ┆ \\N      ┆ 70        ┆ Action,Ad │\n",
       "│           ┆           ┆ of the     ┆ of the    ┆   ┆           ┆         ┆           ┆ venture,B │\n",
       "│           ┆           ┆ Kelly Gang ┆ Kelly     ┆   ┆           ┆         ┆           ┆ iography  │\n",
       "│           ┆           ┆            ┆ Gang      ┆   ┆           ┆         ┆           ┆           │\n",
       "│ tt0000591 ┆ movie     ┆ The        ┆ L'enfant  ┆ … ┆ 1907      ┆ \\N      ┆ 90        ┆ Drama     │\n",
       "│           ┆           ┆ Prodigal   ┆ prodigue  ┆   ┆           ┆         ┆           ┆           │\n",
       "│           ┆           ┆ Son        ┆           ┆   ┆           ┆         ┆           ┆           │\n",
       "│ …         ┆ …         ┆ …          ┆ …         ┆ … ┆ …         ┆ …       ┆ …         ┆ …         │\n",
       "│ tt9916680 ┆ movie     ┆ De la      ┆ De la     ┆ … ┆ 2007      ┆ \\N      ┆ 100       ┆ Documenta │\n",
       "│           ┆           ┆ ilusión al ┆ ilusión   ┆   ┆           ┆         ┆           ┆ ry        │\n",
       "│           ┆           ┆ desconcier ┆ al descon ┆   ┆           ┆         ┆           ┆           │\n",
       "│           ┆           ┆ to:…       ┆ cierto:…  ┆   ┆           ┆         ┆           ┆           │\n",
       "│ tt9916692 ┆ tvMovie   ┆ Czlowiek   ┆ Czlowiek  ┆ … ┆ 2015      ┆ \\N      ┆ 66        ┆ Drama     │\n",
       "│           ┆           ┆ bez twarzy ┆ bez       ┆   ┆           ┆         ┆           ┆           │\n",
       "│           ┆           ┆            ┆ twarzy    ┆   ┆           ┆         ┆           ┆           │\n",
       "│ tt9916706 ┆ movie     ┆ Dankyavar  ┆ Dankyavar ┆ … ┆ 2013      ┆ \\N      ┆ \\N        ┆ Comedy    │\n",
       "│           ┆           ┆ Danka      ┆ Danka     ┆   ┆           ┆         ┆           ┆           │\n",
       "│ tt9916730 ┆ movie     ┆ 6 Gunn     ┆ 6 Gunn    ┆ … ┆ 2017      ┆ \\N      ┆ 116       ┆ Drama     │\n",
       "│ tt9916754 ┆ movie     ┆ Chico Albu ┆ Chico Alb ┆ … ┆ 2013      ┆ \\N      ┆ 49        ┆ Documenta │\n",
       "│           ┆           ┆ querque -  ┆ uquerque  ┆   ┆           ┆         ┆           ┆ ry        │\n",
       "│           ┆           ┆ Revelações ┆ - Revelaç ┆   ┆           ┆         ┆           ┆           │\n",
       "│           ┆           ┆            ┆ ões       ┆   ┆           ┆         ┆           ┆           │\n",
       "└───────────┴───────────┴────────────┴───────────┴───┴───────────┴─────────┴───────────┴───────────┘"
      ]
     },
     "execution_count": 4,
     "metadata": {},
     "output_type": "execute_result"
    }
   ],
   "source": [
    "df_titles = df_titles.filter(pl.col(\"titleType\").is_in([\"movie\", \"tvMovie\"]))\n",
    "df_titles"
   ]
  },
  {
   "cell_type": "code",
   "execution_count": 5,
   "metadata": {},
   "outputs": [
    {
     "data": {
      "text/html": [
       "<div><style>\n",
       ".dataframe > thead > tr,\n",
       ".dataframe > tbody > tr {\n",
       "  text-align: right;\n",
       "  white-space: pre-wrap;\n",
       "}\n",
       "</style>\n",
       "<small>shape: (729_747, 3)</small><table border=\"1\" class=\"dataframe\"><thead><tr><th>tconst</th><th>averageRating</th><th>numVotes</th></tr><tr><td>str</td><td>f64</td><td>i64</td></tr></thead><tbody><tr><td>&quot;tt0000001&quot;</td><td>5.7</td><td>2156</td></tr><tr><td>&quot;tt0000002&quot;</td><td>5.5</td><td>292</td></tr><tr><td>&quot;tt0000003&quot;</td><td>6.5</td><td>2193</td></tr><tr><td>&quot;tt0000004&quot;</td><td>5.3</td><td>187</td></tr><tr><td>&quot;tt0000005&quot;</td><td>6.2</td><td>2939</td></tr><tr><td>&hellip;</td><td>&hellip;</td><td>&hellip;</td></tr><tr><td>&quot;tt9916362&quot;</td><td>6.4</td><td>6039</td></tr><tr><td>&quot;tt9916380&quot;</td><td>8.2</td><td>120</td></tr><tr><td>&quot;tt9916544&quot;</td><td>6.7</td><td>82</td></tr><tr><td>&quot;tt9916578&quot;</td><td>7.4</td><td>48</td></tr><tr><td>&quot;tt9916778&quot;</td><td>7.2</td><td>37</td></tr></tbody></table></div>"
      ],
      "text/plain": [
       "shape: (729_747, 3)\n",
       "┌───────────┬───────────────┬──────────┐\n",
       "│ tconst    ┆ averageRating ┆ numVotes │\n",
       "│ ---       ┆ ---           ┆ ---      │\n",
       "│ str       ┆ f64           ┆ i64      │\n",
       "╞═══════════╪═══════════════╪══════════╡\n",
       "│ tt0000001 ┆ 5.7           ┆ 2156     │\n",
       "│ tt0000002 ┆ 5.5           ┆ 292      │\n",
       "│ tt0000003 ┆ 6.5           ┆ 2193     │\n",
       "│ tt0000004 ┆ 5.3           ┆ 187      │\n",
       "│ tt0000005 ┆ 6.2           ┆ 2939     │\n",
       "│ …         ┆ …             ┆ …        │\n",
       "│ tt9916362 ┆ 6.4           ┆ 6039     │\n",
       "│ tt9916380 ┆ 8.2           ┆ 120      │\n",
       "│ tt9916544 ┆ 6.7           ┆ 82       │\n",
       "│ tt9916578 ┆ 7.4           ┆ 48       │\n",
       "│ tt9916778 ┆ 7.2           ┆ 37       │\n",
       "└───────────┴───────────────┴──────────┘"
      ]
     },
     "execution_count": 5,
     "metadata": {},
     "output_type": "execute_result"
    }
   ],
   "source": [
    "df_ratings = pl.read_csv(\n",
    "    os.path.join(data_dir, \"title.ratings.tsv.gz\"), separator=\"\\t\", ignore_errors=True\n",
    ").filter(pl.col(\"numVotes\") >= 30)\n",
    "\n",
    "df_ratings"
   ]
  },
  {
   "cell_type": "markdown",
   "metadata": {},
   "source": [
    "Make the base table as small as possible before unnesting/joining.\n"
   ]
  },
  {
   "cell_type": "code",
   "execution_count": 6,
   "metadata": {},
   "outputs": [
    {
     "data": {
      "text/html": [
       "<div><style>\n",
       ".dataframe > thead > tr,\n",
       ".dataframe > tbody > tr {\n",
       "  text-align: right;\n",
       "  white-space: pre-wrap;\n",
       "}\n",
       "</style>\n",
       "<small>shape: (242_722, 11)</small><table border=\"1\" class=\"dataframe\"><thead><tr><th>tconst</th><th>titleType</th><th>primaryTitle</th><th>originalTitle</th><th>isAdult</th><th>startYear</th><th>endYear</th><th>runtimeMinutes</th><th>genres</th><th>averageRating</th><th>numVotes</th></tr><tr><td>str</td><td>str</td><td>str</td><td>str</td><td>i64</td><td>i64</td><td>str</td><td>str</td><td>str</td><td>f64</td><td>i64</td></tr></thead><tbody><tr><td>&quot;tt9916362&quot;</td><td>&quot;movie&quot;</td><td>&quot;Coven&quot;</td><td>&quot;Akelarre&quot;</td><td>0</td><td>2020</td><td>&quot;\\N&quot;</td><td>&quot;92&quot;</td><td>&quot;Drama,History&quot;</td><td>6.4</td><td>6039</td></tr><tr><td>&quot;tt9916270&quot;</td><td>&quot;movie&quot;</td><td>&quot;Il talento del calabrone&quot;</td><td>&quot;Il talento del calabrone&quot;</td><td>0</td><td>2020</td><td>&quot;\\N&quot;</td><td>&quot;84&quot;</td><td>&quot;Thriller&quot;</td><td>5.8</td><td>1507</td></tr><tr><td>&quot;tt9916190&quot;</td><td>&quot;movie&quot;</td><td>&quot;Safeguard&quot;</td><td>&quot;Safeguard&quot;</td><td>0</td><td>2020</td><td>&quot;\\N&quot;</td><td>&quot;95&quot;</td><td>&quot;Action,Adventure,Thriller&quot;</td><td>3.6</td><td>263</td></tr><tr><td>&quot;tt9916160&quot;</td><td>&quot;movie&quot;</td><td>&quot;Drømmeland&quot;</td><td>&quot;Drømmeland&quot;</td><td>0</td><td>2019</td><td>&quot;\\N&quot;</td><td>&quot;72&quot;</td><td>&quot;Documentary&quot;</td><td>6.2</td><td>52</td></tr><tr><td>&quot;tt9915790&quot;</td><td>&quot;movie&quot;</td><td>&quot;Bobbyr Bondhura&quot;</td><td>&quot;Bobbyr Bondhura&quot;</td><td>0</td><td>2019</td><td>&quot;\\N&quot;</td><td>&quot;106&quot;</td><td>&quot;Family&quot;</td><td>7.0</td><td>45</td></tr><tr><td>&hellip;</td><td>&hellip;</td><td>&hellip;</td><td>&hellip;</td><td>&hellip;</td><td>&hellip;</td><td>&hellip;</td><td>&hellip;</td><td>&hellip;</td><td>&hellip;</td><td>&hellip;</td></tr><tr><td>&quot;tt0000630&quot;</td><td>&quot;movie&quot;</td><td>&quot;Hamlet&quot;</td><td>&quot;Amleto&quot;</td><td>0</td><td>1908</td><td>&quot;\\N&quot;</td><td>&quot;\\N&quot;</td><td>&quot;Drama&quot;</td><td>3.2</td><td>33</td></tr><tr><td>&quot;tt0000591&quot;</td><td>&quot;movie&quot;</td><td>&quot;The Prodigal Son&quot;</td><td>&quot;L&#x27;enfant prodigue&quot;</td><td>0</td><td>1907</td><td>&quot;\\N&quot;</td><td>&quot;90&quot;</td><td>&quot;Drama&quot;</td><td>5.6</td><td>31</td></tr><tr><td>&quot;tt0000574&quot;</td><td>&quot;movie&quot;</td><td>&quot;The Story of the Kelly Gang&quot;</td><td>&quot;The Story of the Kelly Gang&quot;</td><td>0</td><td>1906</td><td>&quot;\\N&quot;</td><td>&quot;70&quot;</td><td>&quot;Action,Adventure,Biography&quot;</td><td>6.0</td><td>985</td></tr><tr><td>&quot;tt0000147&quot;</td><td>&quot;movie&quot;</td><td>&quot;The Corbett-Fitzsimmons Fight&quot;</td><td>&quot;The Corbett-Fitzsimmons Fight&quot;</td><td>0</td><td>1897</td><td>&quot;\\N&quot;</td><td>&quot;100&quot;</td><td>&quot;Documentary,News,Sport&quot;</td><td>5.3</td><td>558</td></tr><tr><td>&quot;tt0000009&quot;</td><td>&quot;movie&quot;</td><td>&quot;Miss Jerry&quot;</td><td>&quot;Miss Jerry&quot;</td><td>0</td><td>1894</td><td>&quot;\\N&quot;</td><td>&quot;45&quot;</td><td>&quot;Romance&quot;</td><td>5.4</td><td>224</td></tr></tbody></table></div>"
      ],
      "text/plain": [
       "shape: (242_722, 11)\n",
       "┌───────────┬───────────┬───────────┬───────────┬───┬───────────┬───────────┬───────────┬──────────┐\n",
       "│ tconst    ┆ titleType ┆ primaryTi ┆ originalT ┆ … ┆ runtimeMi ┆ genres    ┆ averageRa ┆ numVotes │\n",
       "│ ---       ┆ ---       ┆ tle       ┆ itle      ┆   ┆ nutes     ┆ ---       ┆ ting      ┆ ---      │\n",
       "│ str       ┆ str       ┆ ---       ┆ ---       ┆   ┆ ---       ┆ str       ┆ ---       ┆ i64      │\n",
       "│           ┆           ┆ str       ┆ str       ┆   ┆ str       ┆           ┆ f64       ┆          │\n",
       "╞═══════════╪═══════════╪═══════════╪═══════════╪═══╪═══════════╪═══════════╪═══════════╪══════════╡\n",
       "│ tt9916362 ┆ movie     ┆ Coven     ┆ Akelarre  ┆ … ┆ 92        ┆ Drama,His ┆ 6.4       ┆ 6039     │\n",
       "│           ┆           ┆           ┆           ┆   ┆           ┆ tory      ┆           ┆          │\n",
       "│ tt9916270 ┆ movie     ┆ Il        ┆ Il        ┆ … ┆ 84        ┆ Thriller  ┆ 5.8       ┆ 1507     │\n",
       "│           ┆           ┆ talento   ┆ talento   ┆   ┆           ┆           ┆           ┆          │\n",
       "│           ┆           ┆ del       ┆ del       ┆   ┆           ┆           ┆           ┆          │\n",
       "│           ┆           ┆ calabrone ┆ calabrone ┆   ┆           ┆           ┆           ┆          │\n",
       "│ tt9916190 ┆ movie     ┆ Safeguard ┆ Safeguard ┆ … ┆ 95        ┆ Action,Ad ┆ 3.6       ┆ 263      │\n",
       "│           ┆           ┆           ┆           ┆   ┆           ┆ venture,T ┆           ┆          │\n",
       "│           ┆           ┆           ┆           ┆   ┆           ┆ hriller   ┆           ┆          │\n",
       "│ tt9916160 ┆ movie     ┆ Drømmelan ┆ Drømmelan ┆ … ┆ 72        ┆ Documenta ┆ 6.2       ┆ 52       │\n",
       "│           ┆           ┆ d         ┆ d         ┆   ┆           ┆ ry        ┆           ┆          │\n",
       "│ tt9915790 ┆ movie     ┆ Bobbyr    ┆ Bobbyr    ┆ … ┆ 106       ┆ Family    ┆ 7.0       ┆ 45       │\n",
       "│           ┆           ┆ Bondhura  ┆ Bondhura  ┆   ┆           ┆           ┆           ┆          │\n",
       "│ …         ┆ …         ┆ …         ┆ …         ┆ … ┆ …         ┆ …         ┆ …         ┆ …        │\n",
       "│ tt0000630 ┆ movie     ┆ Hamlet    ┆ Amleto    ┆ … ┆ \\N        ┆ Drama     ┆ 3.2       ┆ 33       │\n",
       "│ tt0000591 ┆ movie     ┆ The       ┆ L'enfant  ┆ … ┆ 90        ┆ Drama     ┆ 5.6       ┆ 31       │\n",
       "│           ┆           ┆ Prodigal  ┆ prodigue  ┆   ┆           ┆           ┆           ┆          │\n",
       "│           ┆           ┆ Son       ┆           ┆   ┆           ┆           ┆           ┆          │\n",
       "│ tt0000574 ┆ movie     ┆ The Story ┆ The Story ┆ … ┆ 70        ┆ Action,Ad ┆ 6.0       ┆ 985      │\n",
       "│           ┆           ┆ of the    ┆ of the    ┆   ┆           ┆ venture,B ┆           ┆          │\n",
       "│           ┆           ┆ Kelly     ┆ Kelly     ┆   ┆           ┆ iography  ┆           ┆          │\n",
       "│           ┆           ┆ Gang      ┆ Gang      ┆   ┆           ┆           ┆           ┆          │\n",
       "│ tt0000147 ┆ movie     ┆ The Corbe ┆ The Corbe ┆ … ┆ 100       ┆ Documenta ┆ 5.3       ┆ 558      │\n",
       "│           ┆           ┆ tt-Fitzsi ┆ tt-Fitzsi ┆   ┆           ┆ ry,News,S ┆           ┆          │\n",
       "│           ┆           ┆ mmons     ┆ mmons     ┆   ┆           ┆ port      ┆           ┆          │\n",
       "│           ┆           ┆ Fight     ┆ Fight     ┆   ┆           ┆           ┆           ┆          │\n",
       "│ tt0000009 ┆ movie     ┆ Miss      ┆ Miss      ┆ … ┆ 45        ┆ Romance   ┆ 5.4       ┆ 224      │\n",
       "│           ┆           ┆ Jerry     ┆ Jerry     ┆   ┆           ┆           ┆           ┆          │\n",
       "└───────────┴───────────┴───────────┴───────────┴───┴───────────┴───────────┴───────────┴──────────┘"
      ]
     },
     "execution_count": 6,
     "metadata": {},
     "output_type": "execute_result"
    }
   ],
   "source": [
    "df_denorm = (\n",
    "    df_titles.join(df_ratings, on=\"tconst\")\n",
    "    .filter(pl.col(\"averageRating\").is_not_null())\n",
    "    .sort(\"tconst\", descending=True)\n",
    ")\n",
    "\n",
    "df_denorm"
   ]
  },
  {
   "cell_type": "code",
   "execution_count": 9,
   "metadata": {},
   "outputs": [
    {
     "data": {
      "text/html": [
       "<div><style>\n",
       ".dataframe > thead > tr,\n",
       ".dataframe > tbody > tr {\n",
       "  text-align: right;\n",
       "  white-space: pre-wrap;\n",
       "}\n",
       "</style>\n",
       "<small>shape: (4_170_483, 11)</small><table border=\"1\" class=\"dataframe\"><thead><tr><th>tconst</th><th>ordering</th><th>nconst</th><th>category</th><th>job</th><th>characters</th><th>primaryName</th><th>birthYear</th><th>deathYear</th><th>primaryProfession</th><th>knownForTitles</th></tr><tr><td>str</td><td>i64</td><td>str</td><td>str</td><td>str</td><td>str</td><td>str</td><td>str</td><td>str</td><td>str</td><td>str</td></tr></thead><tbody><tr><td>&quot;tt0023926&quot;</td><td>6</td><td>&quot;nm0000001&quot;</td><td>&quot;actor&quot;</td><td>&quot;\\N&quot;</td><td>&quot;[&quot;Fred Astaire&quot;]&quot;</td><td>&quot;Fred Astaire&quot;</td><td>&quot;1899&quot;</td><td>&quot;1987&quot;</td><td>&quot;actor,miscellaneous,producer&quot;</td><td>&quot;tt0072308,tt0050419,tt0053137,…</td></tr><tr><td>&quot;tt0024025&quot;</td><td>5</td><td>&quot;nm0000001&quot;</td><td>&quot;actor&quot;</td><td>&quot;\\N&quot;</td><td>&quot;[&quot;Fred Ayres&quot;]&quot;</td><td>&quot;Fred Astaire&quot;</td><td>&quot;1899&quot;</td><td>&quot;1987&quot;</td><td>&quot;actor,miscellaneous,producer&quot;</td><td>&quot;tt0072308,tt0050419,tt0053137,…</td></tr><tr><td>&quot;tt0025164&quot;</td><td>1</td><td>&quot;nm0000001&quot;</td><td>&quot;actor&quot;</td><td>&quot;\\N&quot;</td><td>&quot;[&quot;Guy Holden&quot;]&quot;</td><td>&quot;Fred Astaire&quot;</td><td>&quot;1899&quot;</td><td>&quot;1987&quot;</td><td>&quot;actor,miscellaneous,producer&quot;</td><td>&quot;tt0072308,tt0050419,tt0053137,…</td></tr><tr><td>&quot;tt0026942&quot;</td><td>2</td><td>&quot;nm0000001&quot;</td><td>&quot;actor&quot;</td><td>&quot;\\N&quot;</td><td>&quot;[&quot;Huck Haines&quot;]&quot;</td><td>&quot;Fred Astaire&quot;</td><td>&quot;1899&quot;</td><td>&quot;1987&quot;</td><td>&quot;actor,miscellaneous,producer&quot;</td><td>&quot;tt0072308,tt0050419,tt0053137,…</td></tr><tr><td>&quot;tt0027125&quot;</td><td>1</td><td>&quot;nm0000001&quot;</td><td>&quot;actor&quot;</td><td>&quot;\\N&quot;</td><td>&quot;[&quot;Jerry Travers&quot;]&quot;</td><td>&quot;Fred Astaire&quot;</td><td>&quot;1899&quot;</td><td>&quot;1987&quot;</td><td>&quot;actor,miscellaneous,producer&quot;</td><td>&quot;tt0072308,tt0050419,tt0053137,…</td></tr><tr><td>&hellip;</td><td>&hellip;</td><td>&hellip;</td><td>&hellip;</td><td>&hellip;</td><td>&hellip;</td><td>&hellip;</td><td>&hellip;</td><td>&hellip;</td><td>&hellip;</td><td>&hellip;</td></tr><tr><td>&quot;tt33337159&quot;</td><td>4</td><td>&quot;nm9993693&quot;</td><td>&quot;actress&quot;</td><td>&quot;\\N&quot;</td><td>&quot;\\N&quot;</td><td>&quot;Apsara Rani&quot;</td><td>&quot;1996&quot;</td><td>&quot;\\N&quot;</td><td>&quot;actress&quot;</td><td>&quot;tt12856788,tt8302382,tt1384750…</td></tr><tr><td>&quot;tt10140990&quot;</td><td>9</td><td>&quot;nm9993694&quot;</td><td>&quot;actor&quot;</td><td>&quot;\\N&quot;</td><td>&quot;[&quot;Susheel Panda&quot;]&quot;</td><td>&quot;Chinmay Mishra&quot;</td><td>&quot;\\N&quot;</td><td>&quot;\\N&quot;</td><td>&quot;actor,director,producer&quot;</td><td>&quot;tt18361688,tt18687502,tt873775…</td></tr><tr><td>&quot;tt18361688&quot;</td><td>9</td><td>&quot;nm9993694&quot;</td><td>&quot;director&quot;</td><td>&quot;\\N&quot;</td><td>&quot;\\N&quot;</td><td>&quot;Chinmay Mishra&quot;</td><td>&quot;\\N&quot;</td><td>&quot;\\N&quot;</td><td>&quot;actor,director,producer&quot;</td><td>&quot;tt18361688,tt18687502,tt873775…</td></tr><tr><td>&quot;tt18361688&quot;</td><td>10</td><td>&quot;nm9993694&quot;</td><td>&quot;writer&quot;</td><td>&quot;story and screenplay&quot;</td><td>&quot;\\N&quot;</td><td>&quot;Chinmay Mishra&quot;</td><td>&quot;\\N&quot;</td><td>&quot;\\N&quot;</td><td>&quot;actor,director,producer&quot;</td><td>&quot;tt18361688,tt18687502,tt873775…</td></tr><tr><td>&quot;tt21334604&quot;</td><td>15</td><td>&quot;nm9993694&quot;</td><td>&quot;producer&quot;</td><td>&quot;producer&quot;</td><td>&quot;\\N&quot;</td><td>&quot;Chinmay Mishra&quot;</td><td>&quot;\\N&quot;</td><td>&quot;\\N&quot;</td><td>&quot;actor,director,producer&quot;</td><td>&quot;tt18361688,tt18687502,tt873775…</td></tr></tbody></table></div>"
      ],
      "text/plain": [
       "shape: (4_170_483, 11)\n",
       "┌────────────┬──────────┬───────────┬──────────┬───┬───────────┬───────────┬───────────┬───────────┐\n",
       "│ tconst     ┆ ordering ┆ nconst    ┆ category ┆ … ┆ birthYear ┆ deathYear ┆ primaryPr ┆ knownForT │\n",
       "│ ---        ┆ ---      ┆ ---       ┆ ---      ┆   ┆ ---       ┆ ---       ┆ ofession  ┆ itles     │\n",
       "│ str        ┆ i64      ┆ str       ┆ str      ┆   ┆ str       ┆ str       ┆ ---       ┆ ---       │\n",
       "│            ┆          ┆           ┆          ┆   ┆           ┆           ┆ str       ┆ str       │\n",
       "╞════════════╪══════════╪═══════════╪══════════╪═══╪═══════════╪═══════════╪═══════════╪═══════════╡\n",
       "│ tt0023926  ┆ 6        ┆ nm0000001 ┆ actor    ┆ … ┆ 1899      ┆ 1987      ┆ actor,mis ┆ tt0072308 │\n",
       "│            ┆          ┆           ┆          ┆   ┆           ┆           ┆ cellaneou ┆ ,tt005041 │\n",
       "│            ┆          ┆           ┆          ┆   ┆           ┆           ┆ s,produce ┆ 9,tt00531 │\n",
       "│            ┆          ┆           ┆          ┆   ┆           ┆           ┆ r         ┆ 37,…      │\n",
       "│ tt0024025  ┆ 5        ┆ nm0000001 ┆ actor    ┆ … ┆ 1899      ┆ 1987      ┆ actor,mis ┆ tt0072308 │\n",
       "│            ┆          ┆           ┆          ┆   ┆           ┆           ┆ cellaneou ┆ ,tt005041 │\n",
       "│            ┆          ┆           ┆          ┆   ┆           ┆           ┆ s,produce ┆ 9,tt00531 │\n",
       "│            ┆          ┆           ┆          ┆   ┆           ┆           ┆ r         ┆ 37,…      │\n",
       "│ tt0025164  ┆ 1        ┆ nm0000001 ┆ actor    ┆ … ┆ 1899      ┆ 1987      ┆ actor,mis ┆ tt0072308 │\n",
       "│            ┆          ┆           ┆          ┆   ┆           ┆           ┆ cellaneou ┆ ,tt005041 │\n",
       "│            ┆          ┆           ┆          ┆   ┆           ┆           ┆ s,produce ┆ 9,tt00531 │\n",
       "│            ┆          ┆           ┆          ┆   ┆           ┆           ┆ r         ┆ 37,…      │\n",
       "│ tt0026942  ┆ 2        ┆ nm0000001 ┆ actor    ┆ … ┆ 1899      ┆ 1987      ┆ actor,mis ┆ tt0072308 │\n",
       "│            ┆          ┆           ┆          ┆   ┆           ┆           ┆ cellaneou ┆ ,tt005041 │\n",
       "│            ┆          ┆           ┆          ┆   ┆           ┆           ┆ s,produce ┆ 9,tt00531 │\n",
       "│            ┆          ┆           ┆          ┆   ┆           ┆           ┆ r         ┆ 37,…      │\n",
       "│ tt0027125  ┆ 1        ┆ nm0000001 ┆ actor    ┆ … ┆ 1899      ┆ 1987      ┆ actor,mis ┆ tt0072308 │\n",
       "│            ┆          ┆           ┆          ┆   ┆           ┆           ┆ cellaneou ┆ ,tt005041 │\n",
       "│            ┆          ┆           ┆          ┆   ┆           ┆           ┆ s,produce ┆ 9,tt00531 │\n",
       "│            ┆          ┆           ┆          ┆   ┆           ┆           ┆ r         ┆ 37,…      │\n",
       "│ …          ┆ …        ┆ …         ┆ …        ┆ … ┆ …         ┆ …         ┆ …         ┆ …         │\n",
       "│ tt33337159 ┆ 4        ┆ nm9993693 ┆ actress  ┆ … ┆ 1996      ┆ \\N        ┆ actress   ┆ tt1285678 │\n",
       "│            ┆          ┆           ┆          ┆   ┆           ┆           ┆           ┆ 8,tt83023 │\n",
       "│            ┆          ┆           ┆          ┆   ┆           ┆           ┆           ┆ 82,tt1384 │\n",
       "│            ┆          ┆           ┆          ┆   ┆           ┆           ┆           ┆ 750…      │\n",
       "│ tt10140990 ┆ 9        ┆ nm9993694 ┆ actor    ┆ … ┆ \\N        ┆ \\N        ┆ actor,dir ┆ tt1836168 │\n",
       "│            ┆          ┆           ┆          ┆   ┆           ┆           ┆ ector,pro ┆ 8,tt18687 │\n",
       "│            ┆          ┆           ┆          ┆   ┆           ┆           ┆ ducer     ┆ 502,tt873 │\n",
       "│            ┆          ┆           ┆          ┆   ┆           ┆           ┆           ┆ 775…      │\n",
       "│ tt18361688 ┆ 9        ┆ nm9993694 ┆ director ┆ … ┆ \\N        ┆ \\N        ┆ actor,dir ┆ tt1836168 │\n",
       "│            ┆          ┆           ┆          ┆   ┆           ┆           ┆ ector,pro ┆ 8,tt18687 │\n",
       "│            ┆          ┆           ┆          ┆   ┆           ┆           ┆ ducer     ┆ 502,tt873 │\n",
       "│            ┆          ┆           ┆          ┆   ┆           ┆           ┆           ┆ 775…      │\n",
       "│ tt18361688 ┆ 10       ┆ nm9993694 ┆ writer   ┆ … ┆ \\N        ┆ \\N        ┆ actor,dir ┆ tt1836168 │\n",
       "│            ┆          ┆           ┆          ┆   ┆           ┆           ┆ ector,pro ┆ 8,tt18687 │\n",
       "│            ┆          ┆           ┆          ┆   ┆           ┆           ┆ ducer     ┆ 502,tt873 │\n",
       "│            ┆          ┆           ┆          ┆   ┆           ┆           ┆           ┆ 775…      │\n",
       "│ tt21334604 ┆ 15       ┆ nm9993694 ┆ producer ┆ … ┆ \\N        ┆ \\N        ┆ actor,dir ┆ tt1836168 │\n",
       "│            ┆          ┆           ┆          ┆   ┆           ┆           ┆ ector,pro ┆ 8,tt18687 │\n",
       "│            ┆          ┆           ┆          ┆   ┆           ┆           ┆ ducer     ┆ 502,tt873 │\n",
       "│            ┆          ┆           ┆          ┆   ┆           ┆           ┆           ┆ 775…      │\n",
       "└────────────┴──────────┴───────────┴──────────┴───┴───────────┴───────────┴───────────┴───────────┘"
      ]
     },
     "execution_count": 9,
     "metadata": {},
     "output_type": "execute_result"
    }
   ],
   "source": [
    "valid_tconst = df_denorm.select(\"tconst\").to_series().implode()\n",
    "\n",
    "df_principals = pl.read_csv(\n",
    "    os.path.join(data_dir, \"title.principals.tsv.gz\"),\n",
    "    separator=\"\\t\",\n",
    "    ignore_errors=True,\n",
    "    quote_char=None,\n",
    ")\n",
    "\n",
    "# df_principals = df_principals.join(df_denorm, on=\"tconst\").filter(\n",
    "#     pl.col(\"nconst\").is_not_null()\n",
    "# )\n",
    "df_principals = df_principals.filter(\n",
    "    pl.col(\"tconst\").is_in(valid_tconst),\n",
    ")\n",
    "\n",
    "df_names = pl.read_csv(\n",
    "    os.path.join(data_dir, \"name.basics.tsv.gz\"),\n",
    "    separator=\"\\t\",\n",
    "    ignore_errors=True,\n",
    "    quote_char=None,\n",
    ")\n",
    "\n",
    "df_principals = df_principals.join(df_names, on=\"nconst\")\n",
    "\n",
    "df_principals"
   ]
  },
  {
   "cell_type": "code",
   "execution_count": 10,
   "metadata": {},
   "outputs": [
    {
     "data": {
      "text/html": [
       "<div><style>\n",
       ".dataframe > thead > tr,\n",
       ".dataframe > tbody > tr {\n",
       "  text-align: right;\n",
       "  white-space: pre-wrap;\n",
       "}\n",
       "</style>\n",
       "<small>shape: (242_552, 7)</small><table border=\"1\" class=\"dataframe\"><thead><tr><th>tconst</th><th>director_names</th><th>writer_names</th><th>producer_names</th><th>actor_names</th><th>principal_names</th><th>principal_roles</th></tr><tr><td>str</td><td>list[str]</td><td>list[str]</td><td>list[str]</td><td>list[str]</td><td>list[str]</td><td>list[str]</td></tr></thead><tbody><tr><td>&quot;tt0000009&quot;</td><td>[&quot;Alexander Black&quot;]</td><td>[&quot;Alexander Black&quot;]</td><td>[&quot;Alexander Black&quot;]</td><td>[&quot;Blanche Bayliss&quot;, &quot;William Courtenay&quot;, &quot;Chauncey Depew&quot;]</td><td>[&quot;Alexander Black&quot;]</td><td>[&quot;cinematographer&quot;]</td></tr><tr><td>&quot;tt0000147&quot;</td><td>[&quot;Enoch J. Rector&quot;]</td><td>[]</td><td>[&quot;William A. Brady&quot;]</td><td>[]</td><td>[&quot;James J. Corbett&quot;, &quot;Bob Fitzsimmons&quot;, … &quot;Enoch J. Rector&quot;]</td><td>[&quot;self&quot;, &quot;self&quot;, … &quot;cinematographer&quot;]</td></tr><tr><td>&quot;tt0000574&quot;</td><td>[&quot;Charles Tait&quot;]</td><td>[&quot;Charles Tait&quot;]</td><td>[&quot;W.A. Gibson&quot;, &quot;Millard Johnson&quot;, … &quot;Nevin Tait&quot;]</td><td>[&quot;Elizabeth Tait&quot;, &quot;John Tait&quot;, … &quot;John Forde&quot;]</td><td>[&quot;Eric Chapus&quot;, &quot;Millard Johnson&quot;, … &quot;Reg Perry&quot;]</td><td>[&quot;composer&quot;, &quot;cinematographer&quot;, … &quot;cinematographer&quot;]</td></tr><tr><td>&quot;tt0000591&quot;</td><td>[&quot;Michel Carré&quot;]</td><td>[&quot;Michel Carré&quot;]</td><td>[]</td><td>[&quot;Georges Wague&quot;, &quot;Henri Gouget&quot;, … &quot;Gilberte Sergy&quot;]</td><td>[]</td><td>[]</td></tr><tr><td>&quot;tt0000630&quot;</td><td>[&quot;Mario Caserini&quot;]</td><td>[&quot;William Shakespeare&quot;]</td><td>[&quot;Giuseppe de Liguoro&quot;]</td><td>[&quot;Fernanda Negri Pouget&quot;]</td><td>[]</td><td>[]</td></tr><tr><td>&hellip;</td><td>&hellip;</td><td>&hellip;</td><td>&hellip;</td><td>&hellip;</td><td>&hellip;</td><td>&hellip;</td></tr><tr><td>&quot;tt9915790&quot;</td><td>[&quot;Sudipa Chatterjee&quot;]</td><td>[]</td><td>[&quot;Akash Chatterjee&quot;]</td><td>[&quot;Kaushik Sen&quot;, &quot;Sreelekha Mitra&quot;, … &quot;Bhaswar Chatterjee&quot;]</td><td>[&quot;Santanu Mukherjee&quot;]</td><td>[&quot;editor&quot;]</td></tr><tr><td>&quot;tt9916160&quot;</td><td>[&quot;Joost van der Wiel&quot;]</td><td>[]</td><td>[&quot;Wout Conijn&quot;]</td><td>[]</td><td>[&quot;Nils Leidal&quot;, &quot;Tobias Borkert&quot;, … &quot;Herman P. Koerts&quot;]</td><td>[&quot;self&quot;, &quot;composer&quot;, … &quot;editor&quot;]</td></tr><tr><td>&quot;tt9916190&quot;</td><td>[&quot;Fraser Precious&quot;]</td><td>[&quot;Fraser Precious&quot;]</td><td>[&quot;Fraser Precious&quot;, &quot;Megan Young&quot;]</td><td>[&quot;Patrick Gallagher&quot;, &quot;Akie Kotabe&quot;, … &quot;Yuriri Naka&quot;]</td><td>[&quot;Simone Vallecorsa&quot;, &quot;Matt Perren&quot;, … &quot;Kelly Toode&quot;]</td><td>[&quot;composer&quot;, &quot;cinematographer&quot;, … &quot;production_designer&quot;]</td></tr><tr><td>&quot;tt9916270&quot;</td><td>[&quot;Giacomo Cimini&quot;]</td><td>[&quot;Giacomo Cimini&quot;, &quot;Lorenzo Collalti&quot;, &quot;Alessandro Regaldo&quot;]</td><td>[&quot;Isabella Cocuzza&quot;, &quot;Arturo Paglia&quot;]</td><td>[&quot;Sergio Castellitto&quot;, &quot;Lorenzo Richelmy&quot;, … &quot;Bianca Friscelli&quot;]</td><td>[&quot;Dimitri Scarlato&quot;, &quot;Maurizio Calvesi&quot;, … &quot;Ivana Gargiulo&quot;]</td><td>[&quot;composer&quot;, &quot;cinematographer&quot;, … &quot;production_designer&quot;]</td></tr><tr><td>&quot;tt9916362&quot;</td><td>[&quot;Pablo Agüero&quot;]</td><td>[&quot;Pablo Agüero&quot;, &quot;Katell Guillou&quot;]</td><td>[&quot;Iker Ganuza&quot;, &quot;Fred Prémel&quot;, &quot;Koldo Zuazua&quot;]</td><td>[&quot;Amaia Aberasturi&quot;, &quot;Alex Brendemühl&quot;, … &quot;Elena Uriz&quot;]</td><td>[&quot;Maite Arroitajauregi&quot;, &quot;Aránzazu Calleja&quot;, … &quot;Mikel Serrano&quot;]</td><td>[&quot;composer&quot;, &quot;composer&quot;, … &quot;production_designer&quot;]</td></tr></tbody></table></div>"
      ],
      "text/plain": [
       "shape: (242_552, 7)\n",
       "┌───────────┬──────────────┬──────────────┬──────────────┬─────────────┬─────────────┬─────────────┐\n",
       "│ tconst    ┆ director_nam ┆ writer_names ┆ producer_nam ┆ actor_names ┆ principal_n ┆ principal_r │\n",
       "│ ---       ┆ es           ┆ ---          ┆ es           ┆ ---         ┆ ames        ┆ oles        │\n",
       "│ str       ┆ ---          ┆ list[str]    ┆ ---          ┆ list[str]   ┆ ---         ┆ ---         │\n",
       "│           ┆ list[str]    ┆              ┆ list[str]    ┆             ┆ list[str]   ┆ list[str]   │\n",
       "╞═══════════╪══════════════╪══════════════╪══════════════╪═════════════╪═════════════╪═════════════╡\n",
       "│ tt0000009 ┆ [\"Alexander  ┆ [\"Alexander  ┆ [\"Alexander  ┆ [\"Blanche   ┆ [\"Alexander ┆ [\"cinematog │\n",
       "│           ┆ Black\"]      ┆ Black\"]      ┆ Black\"]      ┆ Bayliss\",   ┆ Black\"]     ┆ rapher\"]    │\n",
       "│           ┆              ┆              ┆              ┆ \"William C… ┆             ┆             │\n",
       "│ tt0000147 ┆ [\"Enoch J.   ┆ []           ┆ [\"William A. ┆ []          ┆ [\"James J.  ┆ [\"self\",    │\n",
       "│           ┆ Rector\"]     ┆              ┆ Brady\"]      ┆             ┆ Corbett\",   ┆ \"self\", …   │\n",
       "│           ┆              ┆              ┆              ┆             ┆ \"Bob Fitz…  ┆ \"cinematogr │\n",
       "│           ┆              ┆              ┆              ┆             ┆             ┆ …           │\n",
       "│ tt0000574 ┆ [\"Charles    ┆ [\"Charles    ┆ [\"W.A.       ┆ [\"Elizabeth ┆ [\"Eric      ┆ [\"composer\" │\n",
       "│           ┆ Tait\"]       ┆ Tait\"]       ┆ Gibson\",     ┆ Tait\",      ┆ Chapus\",    ┆ , \"cinemato │\n",
       "│           ┆              ┆              ┆ \"Millard     ┆ \"John       ┆ \"Millard    ┆ grapher\"…   │\n",
       "│           ┆              ┆              ┆ Johns…       ┆ Tait\"…      ┆ Johns…      ┆             │\n",
       "│ tt0000591 ┆ [\"Michel     ┆ [\"Michel     ┆ []           ┆ [\"Georges   ┆ []          ┆ []          │\n",
       "│           ┆ Carré\"]      ┆ Carré\"]      ┆              ┆ Wague\",     ┆             ┆             │\n",
       "│           ┆              ┆              ┆              ┆ \"Henri      ┆             ┆             │\n",
       "│           ┆              ┆              ┆              ┆ Gouge…      ┆             ┆             │\n",
       "│ tt0000630 ┆ [\"Mario      ┆ [\"William    ┆ [\"Giuseppe   ┆ [\"Fernanda  ┆ []          ┆ []          │\n",
       "│           ┆ Caserini\"]   ┆ Shakespeare\" ┆ de Liguoro\"] ┆ Negri       ┆             ┆             │\n",
       "│           ┆              ┆ ]            ┆              ┆ Pouget\"]    ┆             ┆             │\n",
       "│ …         ┆ …            ┆ …            ┆ …            ┆ …           ┆ …           ┆ …           │\n",
       "│ tt9915790 ┆ [\"Sudipa     ┆ []           ┆ [\"Akash      ┆ [\"Kaushik   ┆ [\"Santanu   ┆ [\"editor\"]  │\n",
       "│           ┆ Chatterjee\"] ┆              ┆ Chatterjee\"] ┆ Sen\",       ┆ Mukherjee\"] ┆             │\n",
       "│           ┆              ┆              ┆              ┆ \"Sreelekha  ┆             ┆             │\n",
       "│           ┆              ┆              ┆              ┆ Mit…        ┆             ┆             │\n",
       "│ tt9916160 ┆ [\"Joost van  ┆ []           ┆ [\"Wout       ┆ []          ┆ [\"Nils      ┆ [\"self\",    │\n",
       "│           ┆ der Wiel\"]   ┆              ┆ Conijn\"]     ┆             ┆ Leidal\",    ┆ \"composer\", │\n",
       "│           ┆              ┆              ┆              ┆             ┆ \"Tobias     ┆ … \"editor…  │\n",
       "│           ┆              ┆              ┆              ┆             ┆ Borker…     ┆             │\n",
       "│ tt9916190 ┆ [\"Fraser     ┆ [\"Fraser     ┆ [\"Fraser     ┆ [\"Patrick   ┆ [\"Simone    ┆ [\"composer\" │\n",
       "│           ┆ Precious\"]   ┆ Precious\"]   ┆ Precious\",   ┆ Gallagher\", ┆ Vallecorsa\" ┆ , \"cinemato │\n",
       "│           ┆              ┆              ┆ \"Megan You…  ┆ \"Akie Ko…   ┆ , \"Matt Pe… ┆ grapher\"…   │\n",
       "│ tt9916270 ┆ [\"Giacomo    ┆ [\"Giacomo    ┆ [\"Isabella   ┆ [\"Sergio    ┆ [\"Dimitri   ┆ [\"composer\" │\n",
       "│           ┆ Cimini\"]     ┆ Cimini\",     ┆ Cocuzza\",    ┆ Castellitto ┆ Scarlato\",  ┆ , \"cinemato │\n",
       "│           ┆              ┆ \"Lorenzo Co… ┆ \"Arturo P…   ┆ \", \"Lorenz… ┆ \"Maurizio…  ┆ grapher\"…   │\n",
       "│ tt9916362 ┆ [\"Pablo      ┆ [\"Pablo      ┆ [\"Iker       ┆ [\"Amaia Abe ┆ [\"Maite Arr ┆ [\"composer\" │\n",
       "│           ┆ Agüero\"]     ┆ Agüero\",     ┆ Ganuza\",     ┆ rasturi\",   ┆ oitajauregi ┆ ,           │\n",
       "│           ┆              ┆ \"Katell      ┆ \"Fred        ┆ \"Alex Bre…  ┆ \", \"Arán…   ┆ \"composer\", │\n",
       "│           ┆              ┆ Guill…       ┆ Prémel\",…    ┆             ┆             ┆ … \"pr…      │\n",
       "└───────────┴──────────────┴──────────────┴──────────────┴─────────────┴─────────────┴─────────────┘"
      ]
     },
     "execution_count": 10,
     "metadata": {},
     "output_type": "execute_result"
    }
   ],
   "source": [
    "df_principals_agg = (\n",
    "    df_principals.sort([\"tconst\", \"ordering\"])\n",
    "    .group_by(\"tconst\")\n",
    "    .agg(\n",
    "        director_names=pl.col(\"primaryName\").filter(pl.col(\"category\") == \"director\"),\n",
    "        writer_names=pl.col(\"primaryName\").filter(pl.col(\"category\") == \"writer\"),\n",
    "        producer_names=pl.col(\"primaryName\").filter(pl.col(\"category\") == \"producer\"),\n",
    "        actor_names=pl.col(\"primaryName\").filter(\n",
    "            pl.col(\"category\").is_in([\"actor\", \"actress\"])\n",
    "        ),\n",
    "        principal_names=pl.col(\"primaryName\").filter(\n",
    "            ~pl.col(\"category\").is_in(\n",
    "                [\"director\", \"writer\", \"producer\", \"actor\", \"actress\"]\n",
    "            )\n",
    "        ),\n",
    "        principal_roles=pl.col(\"category\").filter(\n",
    "            ~pl.col(\"category\").is_in(\n",
    "                [\"director\", \"writer\", \"producer\", \"actor\", \"actress\"]\n",
    "            )\n",
    "        ),\n",
    "    )\n",
    ")\n",
    "\n",
    "df_principals_agg"
   ]
  },
  {
   "cell_type": "markdown",
   "metadata": {},
   "source": [
    "## Reaggregate Everything and Build JSON Representation\n"
   ]
  },
  {
   "cell_type": "code",
   "execution_count": 11,
   "metadata": {},
   "outputs": [
    {
     "data": {
      "text/html": [
       "<div><style>\n",
       ".dataframe > thead > tr,\n",
       ".dataframe > tbody > tr {\n",
       "  text-align: right;\n",
       "  white-space: pre-wrap;\n",
       "}\n",
       "</style>\n",
       "<small>shape: (242_552, 17)</small><table border=\"1\" class=\"dataframe\"><thead><tr><th>tconst</th><th>titleType</th><th>primaryTitle</th><th>originalTitle</th><th>isAdult</th><th>startYear</th><th>endYear</th><th>runtimeMinutes</th><th>genres</th><th>averageRating</th><th>numVotes</th><th>director_names</th><th>writer_names</th><th>producer_names</th><th>actor_names</th><th>principal_names</th><th>principal_roles</th></tr><tr><td>str</td><td>str</td><td>str</td><td>str</td><td>i64</td><td>i64</td><td>str</td><td>str</td><td>str</td><td>f64</td><td>i64</td><td>list[str]</td><td>list[str]</td><td>list[str]</td><td>list[str]</td><td>list[str]</td><td>list[str]</td></tr></thead><tbody><tr><td>&quot;tt9916362&quot;</td><td>&quot;movie&quot;</td><td>&quot;Coven&quot;</td><td>&quot;Akelarre&quot;</td><td>0</td><td>2020</td><td>&quot;\\N&quot;</td><td>&quot;92&quot;</td><td>&quot;Drama,History&quot;</td><td>6.4</td><td>6039</td><td>[&quot;Pablo Agüero&quot;]</td><td>[&quot;Pablo Agüero&quot;, &quot;Katell Guillou&quot;]</td><td>[&quot;Iker Ganuza&quot;, &quot;Fred Prémel&quot;, &quot;Koldo Zuazua&quot;]</td><td>[&quot;Amaia Aberasturi&quot;, &quot;Alex Brendemühl&quot;, … &quot;Elena Uriz&quot;]</td><td>[&quot;Maite Arroitajauregi&quot;, &quot;Aránzazu Calleja&quot;, … &quot;Mikel Serrano&quot;]</td><td>[&quot;composer&quot;, &quot;composer&quot;, … &quot;production_designer&quot;]</td></tr><tr><td>&quot;tt9916270&quot;</td><td>&quot;movie&quot;</td><td>&quot;Il talento del calabrone&quot;</td><td>&quot;Il talento del calabrone&quot;</td><td>0</td><td>2020</td><td>&quot;\\N&quot;</td><td>&quot;84&quot;</td><td>&quot;Thriller&quot;</td><td>5.8</td><td>1507</td><td>[&quot;Giacomo Cimini&quot;]</td><td>[&quot;Giacomo Cimini&quot;, &quot;Lorenzo Collalti&quot;, &quot;Alessandro Regaldo&quot;]</td><td>[&quot;Isabella Cocuzza&quot;, &quot;Arturo Paglia&quot;]</td><td>[&quot;Sergio Castellitto&quot;, &quot;Lorenzo Richelmy&quot;, … &quot;Bianca Friscelli&quot;]</td><td>[&quot;Dimitri Scarlato&quot;, &quot;Maurizio Calvesi&quot;, … &quot;Ivana Gargiulo&quot;]</td><td>[&quot;composer&quot;, &quot;cinematographer&quot;, … &quot;production_designer&quot;]</td></tr><tr><td>&quot;tt9916190&quot;</td><td>&quot;movie&quot;</td><td>&quot;Safeguard&quot;</td><td>&quot;Safeguard&quot;</td><td>0</td><td>2020</td><td>&quot;\\N&quot;</td><td>&quot;95&quot;</td><td>&quot;Action,Adventure,Thriller&quot;</td><td>3.6</td><td>263</td><td>[&quot;Fraser Precious&quot;]</td><td>[&quot;Fraser Precious&quot;]</td><td>[&quot;Fraser Precious&quot;, &quot;Megan Young&quot;]</td><td>[&quot;Patrick Gallagher&quot;, &quot;Akie Kotabe&quot;, … &quot;Yuriri Naka&quot;]</td><td>[&quot;Simone Vallecorsa&quot;, &quot;Matt Perren&quot;, … &quot;Kelly Toode&quot;]</td><td>[&quot;composer&quot;, &quot;cinematographer&quot;, … &quot;production_designer&quot;]</td></tr><tr><td>&quot;tt9916160&quot;</td><td>&quot;movie&quot;</td><td>&quot;Drømmeland&quot;</td><td>&quot;Drømmeland&quot;</td><td>0</td><td>2019</td><td>&quot;\\N&quot;</td><td>&quot;72&quot;</td><td>&quot;Documentary&quot;</td><td>6.2</td><td>52</td><td>[&quot;Joost van der Wiel&quot;]</td><td>[]</td><td>[&quot;Wout Conijn&quot;]</td><td>[]</td><td>[&quot;Nils Leidal&quot;, &quot;Tobias Borkert&quot;, … &quot;Herman P. Koerts&quot;]</td><td>[&quot;self&quot;, &quot;composer&quot;, … &quot;editor&quot;]</td></tr><tr><td>&quot;tt9915790&quot;</td><td>&quot;movie&quot;</td><td>&quot;Bobbyr Bondhura&quot;</td><td>&quot;Bobbyr Bondhura&quot;</td><td>0</td><td>2019</td><td>&quot;\\N&quot;</td><td>&quot;106&quot;</td><td>&quot;Family&quot;</td><td>7.0</td><td>45</td><td>[&quot;Sudipa Chatterjee&quot;]</td><td>[]</td><td>[&quot;Akash Chatterjee&quot;]</td><td>[&quot;Kaushik Sen&quot;, &quot;Sreelekha Mitra&quot;, … &quot;Bhaswar Chatterjee&quot;]</td><td>[&quot;Santanu Mukherjee&quot;]</td><td>[&quot;editor&quot;]</td></tr><tr><td>&hellip;</td><td>&hellip;</td><td>&hellip;</td><td>&hellip;</td><td>&hellip;</td><td>&hellip;</td><td>&hellip;</td><td>&hellip;</td><td>&hellip;</td><td>&hellip;</td><td>&hellip;</td><td>&hellip;</td><td>&hellip;</td><td>&hellip;</td><td>&hellip;</td><td>&hellip;</td><td>&hellip;</td></tr><tr><td>&quot;tt0000630&quot;</td><td>&quot;movie&quot;</td><td>&quot;Hamlet&quot;</td><td>&quot;Amleto&quot;</td><td>0</td><td>1908</td><td>&quot;\\N&quot;</td><td>&quot;\\N&quot;</td><td>&quot;Drama&quot;</td><td>3.2</td><td>33</td><td>[&quot;Mario Caserini&quot;]</td><td>[&quot;William Shakespeare&quot;]</td><td>[&quot;Giuseppe de Liguoro&quot;]</td><td>[&quot;Fernanda Negri Pouget&quot;]</td><td>[]</td><td>[]</td></tr><tr><td>&quot;tt0000591&quot;</td><td>&quot;movie&quot;</td><td>&quot;The Prodigal Son&quot;</td><td>&quot;L&#x27;enfant prodigue&quot;</td><td>0</td><td>1907</td><td>&quot;\\N&quot;</td><td>&quot;90&quot;</td><td>&quot;Drama&quot;</td><td>5.6</td><td>31</td><td>[&quot;Michel Carré&quot;]</td><td>[&quot;Michel Carré&quot;]</td><td>[]</td><td>[&quot;Georges Wague&quot;, &quot;Henri Gouget&quot;, … &quot;Gilberte Sergy&quot;]</td><td>[]</td><td>[]</td></tr><tr><td>&quot;tt0000574&quot;</td><td>&quot;movie&quot;</td><td>&quot;The Story of the Kelly Gang&quot;</td><td>&quot;The Story of the Kelly Gang&quot;</td><td>0</td><td>1906</td><td>&quot;\\N&quot;</td><td>&quot;70&quot;</td><td>&quot;Action,Adventure,Biography&quot;</td><td>6.0</td><td>985</td><td>[&quot;Charles Tait&quot;]</td><td>[&quot;Charles Tait&quot;]</td><td>[&quot;W.A. Gibson&quot;, &quot;Millard Johnson&quot;, … &quot;Nevin Tait&quot;]</td><td>[&quot;Elizabeth Tait&quot;, &quot;John Tait&quot;, … &quot;John Forde&quot;]</td><td>[&quot;Eric Chapus&quot;, &quot;Millard Johnson&quot;, … &quot;Reg Perry&quot;]</td><td>[&quot;composer&quot;, &quot;cinematographer&quot;, … &quot;cinematographer&quot;]</td></tr><tr><td>&quot;tt0000147&quot;</td><td>&quot;movie&quot;</td><td>&quot;The Corbett-Fitzsimmons Fight&quot;</td><td>&quot;The Corbett-Fitzsimmons Fight&quot;</td><td>0</td><td>1897</td><td>&quot;\\N&quot;</td><td>&quot;100&quot;</td><td>&quot;Documentary,News,Sport&quot;</td><td>5.3</td><td>558</td><td>[&quot;Enoch J. Rector&quot;]</td><td>[]</td><td>[&quot;William A. Brady&quot;]</td><td>[]</td><td>[&quot;James J. Corbett&quot;, &quot;Bob Fitzsimmons&quot;, … &quot;Enoch J. Rector&quot;]</td><td>[&quot;self&quot;, &quot;self&quot;, … &quot;cinematographer&quot;]</td></tr><tr><td>&quot;tt0000009&quot;</td><td>&quot;movie&quot;</td><td>&quot;Miss Jerry&quot;</td><td>&quot;Miss Jerry&quot;</td><td>0</td><td>1894</td><td>&quot;\\N&quot;</td><td>&quot;45&quot;</td><td>&quot;Romance&quot;</td><td>5.4</td><td>224</td><td>[&quot;Alexander Black&quot;]</td><td>[&quot;Alexander Black&quot;]</td><td>[&quot;Alexander Black&quot;]</td><td>[&quot;Blanche Bayliss&quot;, &quot;William Courtenay&quot;, &quot;Chauncey Depew&quot;]</td><td>[&quot;Alexander Black&quot;]</td><td>[&quot;cinematographer&quot;]</td></tr></tbody></table></div>"
      ],
      "text/plain": [
       "shape: (242_552, 17)\n",
       "┌───────────┬───────────┬───────────┬───────────┬───┬───────────┬───────────┬───────────┬──────────┐\n",
       "│ tconst    ┆ titleType ┆ primaryTi ┆ originalT ┆ … ┆ producer_ ┆ actor_nam ┆ principal ┆ principa │\n",
       "│ ---       ┆ ---       ┆ tle       ┆ itle      ┆   ┆ names     ┆ es        ┆ _names    ┆ l_roles  │\n",
       "│ str       ┆ str       ┆ ---       ┆ ---       ┆   ┆ ---       ┆ ---       ┆ ---       ┆ ---      │\n",
       "│           ┆           ┆ str       ┆ str       ┆   ┆ list[str] ┆ list[str] ┆ list[str] ┆ list[str │\n",
       "│           ┆           ┆           ┆           ┆   ┆           ┆           ┆           ┆ ]        │\n",
       "╞═══════════╪═══════════╪═══════════╪═══════════╪═══╪═══════════╪═══════════╪═══════════╪══════════╡\n",
       "│ tt9916362 ┆ movie     ┆ Coven     ┆ Akelarre  ┆ … ┆ [\"Iker    ┆ [\"Amaia   ┆ [\"Maite   ┆ [\"compos │\n",
       "│           ┆           ┆           ┆           ┆   ┆ Ganuza\",  ┆ Aberastur ┆ Arroitaja ┆ er\", \"co │\n",
       "│           ┆           ┆           ┆           ┆   ┆ \"Fred     ┆ i\", \"Alex ┆ uregi\",   ┆ mposer\", │\n",
       "│           ┆           ┆           ┆           ┆   ┆ Prémel\",… ┆ Bre…      ┆ \"Arán…    ┆ … \"pr…   │\n",
       "│ tt9916270 ┆ movie     ┆ Il        ┆ Il        ┆ … ┆ [\"Isabell ┆ [\"Sergio  ┆ [\"Dimitri ┆ [\"compos │\n",
       "│           ┆           ┆ talento   ┆ talento   ┆   ┆ a         ┆ Castellit ┆ Scarlato\" ┆ er\", \"ci │\n",
       "│           ┆           ┆ del       ┆ del       ┆   ┆ Cocuzza\", ┆ to\",      ┆ , \"Mauriz ┆ nematogr │\n",
       "│           ┆           ┆ calabrone ┆ calabrone ┆   ┆ \"Arturo   ┆ \"Lorenz…  ┆ io…       ┆ apher\"…  │\n",
       "│           ┆           ┆           ┆           ┆   ┆ P…        ┆           ┆           ┆          │\n",
       "│ tt9916190 ┆ movie     ┆ Safeguard ┆ Safeguard ┆ … ┆ [\"Fraser  ┆ [\"Patrick ┆ [\"Simone  ┆ [\"compos │\n",
       "│           ┆           ┆           ┆           ┆   ┆ Precious\" ┆ Gallagher ┆ Vallecors ┆ er\", \"ci │\n",
       "│           ┆           ┆           ┆           ┆   ┆ , \"Megan  ┆ \", \"Akie  ┆ a\", \"Matt ┆ nematogr │\n",
       "│           ┆           ┆           ┆           ┆   ┆ You…      ┆ Ko…       ┆ Pe…       ┆ apher\"…  │\n",
       "│ tt9916160 ┆ movie     ┆ Drømmelan ┆ Drømmelan ┆ … ┆ [\"Wout    ┆ []        ┆ [\"Nils    ┆ [\"self\", │\n",
       "│           ┆           ┆ d         ┆ d         ┆   ┆ Conijn\"]  ┆           ┆ Leidal\",  ┆ \"compose │\n",
       "│           ┆           ┆           ┆           ┆   ┆           ┆           ┆ \"Tobias   ┆ r\", …    │\n",
       "│           ┆           ┆           ┆           ┆   ┆           ┆           ┆ Borker…   ┆ \"editor… │\n",
       "│ tt9915790 ┆ movie     ┆ Bobbyr    ┆ Bobbyr    ┆ … ┆ [\"Akash   ┆ [\"Kaushik ┆ [\"Santanu ┆ [\"editor │\n",
       "│           ┆           ┆ Bondhura  ┆ Bondhura  ┆   ┆ Chatterje ┆ Sen\", \"Sr ┆ Mukherjee ┆ \"]       │\n",
       "│           ┆           ┆           ┆           ┆   ┆ e\"]       ┆ eelekha   ┆ \"]        ┆          │\n",
       "│           ┆           ┆           ┆           ┆   ┆           ┆ Mit…      ┆           ┆          │\n",
       "│ …         ┆ …         ┆ …         ┆ …         ┆ … ┆ …         ┆ …         ┆ …         ┆ …        │\n",
       "│ tt0000630 ┆ movie     ┆ Hamlet    ┆ Amleto    ┆ … ┆ [\"Giusepp ┆ [\"Fernand ┆ []        ┆ []       │\n",
       "│           ┆           ┆           ┆           ┆   ┆ e de      ┆ a Negri   ┆           ┆          │\n",
       "│           ┆           ┆           ┆           ┆   ┆ Liguoro\"] ┆ Pouget\"]  ┆           ┆          │\n",
       "│ tt0000591 ┆ movie     ┆ The       ┆ L'enfant  ┆ … ┆ []        ┆ [\"Georges ┆ []        ┆ []       │\n",
       "│           ┆           ┆ Prodigal  ┆ prodigue  ┆   ┆           ┆ Wague\",   ┆           ┆          │\n",
       "│           ┆           ┆ Son       ┆           ┆   ┆           ┆ \"Henri    ┆           ┆          │\n",
       "│           ┆           ┆           ┆           ┆   ┆           ┆ Gouge…    ┆           ┆          │\n",
       "│ tt0000574 ┆ movie     ┆ The Story ┆ The Story ┆ … ┆ [\"W.A.    ┆ [\"Elizabe ┆ [\"Eric    ┆ [\"compos │\n",
       "│           ┆           ┆ of the    ┆ of the    ┆   ┆ Gibson\",  ┆ th Tait\", ┆ Chapus\",  ┆ er\", \"ci │\n",
       "│           ┆           ┆ Kelly     ┆ Kelly     ┆   ┆ \"Millard  ┆ \"John     ┆ \"Millard  ┆ nematogr │\n",
       "│           ┆           ┆ Gang      ┆ Gang      ┆   ┆ Johns…    ┆ Tait\"…    ┆ Johns…    ┆ apher\"…  │\n",
       "│ tt0000147 ┆ movie     ┆ The Corbe ┆ The Corbe ┆ … ┆ [\"William ┆ []        ┆ [\"James   ┆ [\"self\", │\n",
       "│           ┆           ┆ tt-Fitzsi ┆ tt-Fitzsi ┆   ┆ A.        ┆           ┆ J.        ┆ \"self\",  │\n",
       "│           ┆           ┆ mmons     ┆ mmons     ┆   ┆ Brady\"]   ┆           ┆ Corbett\", ┆ … \"cinem │\n",
       "│           ┆           ┆ Fight     ┆ Fight     ┆   ┆           ┆           ┆ \"Bob      ┆ atogr…   │\n",
       "│           ┆           ┆           ┆           ┆   ┆           ┆           ┆ Fitz…     ┆          │\n",
       "│ tt0000009 ┆ movie     ┆ Miss      ┆ Miss      ┆ … ┆ [\"Alexand ┆ [\"Blanche ┆ [\"Alexand ┆ [\"cinema │\n",
       "│           ┆           ┆ Jerry     ┆ Jerry     ┆   ┆ er        ┆ Bayliss\", ┆ er        ┆ tographe │\n",
       "│           ┆           ┆           ┆           ┆   ┆ Black\"]   ┆ \"William  ┆ Black\"]   ┆ r\"]      │\n",
       "│           ┆           ┆           ┆           ┆   ┆           ┆ C…        ┆           ┆          │\n",
       "└───────────┴───────────┴───────────┴───────────┴───┴───────────┴───────────┴───────────┴──────────┘"
      ]
     },
     "execution_count": 11,
     "metadata": {},
     "output_type": "execute_result"
    }
   ],
   "source": [
    "df_final = df_denorm.join(df_principals_agg, on=\"tconst\")\n",
    "\n",
    "df_final"
   ]
  },
  {
   "cell_type": "code",
   "execution_count": 12,
   "metadata": {},
   "outputs": [],
   "source": [
    "def movie_json(row):\n",
    "    # row = row.to_dicts()[0]\n",
    "    # print(row)\n",
    "    genres = row[\"genres\"].split(\",\") if row[\"genres\"] != \"\\\\N\" else None\n",
    "    principals = [\n",
    "        {name: role}\n",
    "        for name, role in zip(row[\"principal_names\"], row[\"principal_roles\"])\n",
    "    ]\n",
    "\n",
    "    json_dict = {\n",
    "        \"title\": row[\"primaryTitle\"],\n",
    "        \"genres\": genres,\n",
    "        \"is_adult\": True if row[\"isAdult\"] == 1 else False,\n",
    "        \"release_year\": row[\"startYear\"],\n",
    "        \"runtime_minutes\": int(row[\"runtimeMinutes\"])\n",
    "        if row[\"runtimeMinutes\"] != \"\\\\N\"\n",
    "        else None,\n",
    "        \"directors\": row[\"director_names\"],\n",
    "        \"writers\": row[\"writer_names\"],\n",
    "        \"producers\": row[\"producer_names\"],\n",
    "        \"actors\": row[\"actor_names\"],\n",
    "        \"principals\": principals,\n",
    "    }\n",
    "    return orjson.dumps(json_dict, option=orjson.OPT_INDENT_2).decode(\"utf-8\")"
   ]
  },
  {
   "cell_type": "code",
   "execution_count": 13,
   "metadata": {},
   "outputs": [
    {
     "name": "stdout",
     "output_type": "stream",
     "text": [
      "{\n",
      "  \"title\": \"Coven\",\n",
      "  \"genres\": [\n",
      "    \"Drama\",\n",
      "    \"History\"\n",
      "  ],\n",
      "  \"is_adult\": false,\n",
      "  \"release_year\": 2020,\n",
      "  \"runtime_minutes\": 92,\n",
      "  \"directors\": [\n",
      "    \"Pablo Agüero\"\n",
      "  ],\n",
      "  \"writers\": [\n",
      "    \"Pablo Agüero\",\n",
      "    \"Katell Guillou\"\n",
      "  ],\n",
      "  \"producers\": [\n",
      "    \"Iker Ganuza\",\n",
      "    \"Fred Prémel\",\n",
      "    \"Koldo Zuazua\"\n",
      "  ],\n",
      "  \"actors\": [\n",
      "    \"Amaia Aberasturi\",\n",
      "    \"Alex Brendemühl\",\n",
      "    \"Daniel Fanego\",\n",
      "    \"Garazi Urkola\",\n",
      "    \"Yune Nogueiras\",\n",
      "    \"Jone Laspiur\",\n",
      "    \"Irati Saez de Urabain\",\n",
      "    \"Lorea Ibarra\",\n",
      "    \"Asier Oruesagasti\",\n",
      "    \"Elena Uriz\"\n",
      "  ],\n",
      "  \"principals\": [\n",
      "    {\n",
      "      \"Maite Arroitajauregi\": \"composer\"\n",
      "    },\n",
      "    {\n",
      "      \"Aránzazu Calleja\": \"composer\"\n",
      "    },\n",
      "    {\n",
      "      \"Javier Agirre\": \"cinematographer\"\n",
      "    },\n",
      "    {\n",
      "      \"Teresa Font\": \"editor\"\n",
      "    },\n",
      "    {\n",
      "      \"Txabe Atxa\": \"casting_director\"\n",
      "    },\n",
      "    {\n",
      "      \"Nathalie Camidebach\": \"casting_director\"\n",
      "    },\n",
      "    {\n",
      "      \"Florencia Inés González\": \"casting_director\"\n",
      "    },\n",
      "    {\n",
      "      \"Mikel Serrano\": \"production_designer\"\n",
      "    }\n",
      "  ]\n",
      "}\n"
     ]
    }
   ],
   "source": [
    "print(movie_json(df_final[0].to_dicts()[0]))"
   ]
  },
  {
   "cell_type": "markdown",
   "metadata": {},
   "source": [
    "https://stackoverflow.com/a/77558612\n"
   ]
  },
  {
   "cell_type": "code",
   "execution_count": 14,
   "metadata": {},
   "outputs": [
    {
     "data": {
      "text/plain": [
       "(242552, 18)"
      ]
     },
     "execution_count": 14,
     "metadata": {},
     "output_type": "execute_result"
    }
   ],
   "source": [
    "df_final = df_final.with_columns(\n",
    "    json=pl.struct(pl.all()).map_elements(movie_json, return_dtype=str)\n",
    ")\n",
    "\n",
    "df_final.shape"
   ]
  },
  {
   "cell_type": "code",
   "execution_count": 15,
   "metadata": {},
   "outputs": [
    {
     "name": "stdout",
     "output_type": "stream",
     "text": [
      "Rows: 1\n",
      "Columns: 18\n",
      "$ tconst                <str> 'tt0076759'\n",
      "$ titleType             <str> 'movie'\n",
      "$ primaryTitle          <str> 'Star Wars: Episode IV - A New Hope'\n",
      "$ originalTitle         <str> 'Star Wars'\n",
      "$ isAdult               <i64> 0\n",
      "$ startYear             <i64> 1977\n",
      "$ endYear               <str> '\\\\N'\n",
      "$ runtimeMinutes        <str> '121'\n",
      "$ genres                <str> 'Action,Adventure,Fantasy'\n",
      "$ averageRating         <f64> 8.6\n",
      "$ numVotes              <i64> 1507132\n",
      "$ director_names  <list[str]> ['George Lucas']\n",
      "$ writer_names    <list[str]> ['George Lucas']\n",
      "$ producer_names  <list[str]> ['Gary Kurtz', 'Rick McCallum']\n",
      "$ actor_names     <list[str]> ['Mark Hamill', 'Harrison Ford', 'Carrie Fisher', 'Alec Guinness', 'Peter Cushing', 'Anthony Daniels', 'Kenny Baker', 'Peter Mayhew', 'David Prowse', 'Phil Brown']\n",
      "$ principal_names <list[str]> ['John Williams', 'Gilbert Taylor', 'Richard Chew', 'T.M. Christopher', 'Paul Hirsch', 'Marcia Lucas', 'Dianne Crittenden', 'Irene Lamb', 'Vic Ramos', 'John Barry']\n",
      "$ principal_roles <list[str]> ['composer', 'cinematographer', 'editor', 'editor', 'editor', 'editor', 'casting_director', 'casting_director', 'casting_director', 'production_designer']\n",
      "$ json                  <str> '{\\n  \"title\": \"Star Wars: Episode IV - A New Hope\",\\n  \"genres\": [\\n    \"Action\",\\n    \"Adventure\",\\n    \"Fantasy\"\\n  ],\\n  \"is_adult\": false,\\n  \"release_year\": 1977,\\n  \"runtime_minutes\": 121,\\n  \"directors\": [\\n    \"George Lucas\"\\n  ],\\n  \"writers\": [\\n    \"George Lucas\"\\n  ],\\n  \"producers\": [\\n    \"Gary Kurtz\",\\n    \"Rick McCallum\"\\n  ],\\n  \"actors\": [\\n    \"Mark Hamill\",\\n    \"Harrison Ford\",\\n    \"Carrie Fisher\",\\n    \"Alec Guinness\",\\n    \"Peter Cushing\",\\n    \"Anthony Daniels\",\\n    \"Kenny Baker\",\\n    \"Peter Mayhew\",\\n    \"David Prowse\",\\n    \"Phil Brown\"\\n  ],\\n  \"principals\": [\\n    {\\n      \"John Williams\": \"composer\"\\n    },\\n    {\\n      \"Gilbert Taylor\": \"cinematographer\"\\n    },\\n    {\\n      \"Richard Chew\": \"editor\"\\n    },\\n    {\\n      \"T.M. Christopher\": \"editor\"\\n    },\\n    {\\n      \"Paul Hirsch\": \"editor\"\\n    },\\n    {\\n      \"Marcia Lucas\": \"editor\"\\n    },\\n    {\\n      \"Dianne Crittenden\": \"casting_director\"\\n    },\\n    {\\n      \"Irene Lamb\": \"casting_director\"\\n    },\\n    {\\n      \"Vic Ramos\": \"casting_director\"\\n    },\\n    {\\n      \"John Barry\": \"production_designer\"\\n    }\\n  ]\\n}'\n",
      "\n"
     ]
    }
   ],
   "source": [
    "# Star Wars: A New Hope\n",
    "df_final.filter(pl.col(\"tconst\") == \"tt0076759\").glimpse()"
   ]
  },
  {
   "cell_type": "code",
   "execution_count": 16,
   "metadata": {},
   "outputs": [
    {
     "name": "stdout",
     "output_type": "stream",
     "text": [
      "Rows: 1\n",
      "Columns: 18\n",
      "$ tconst                <str> 'tt20969586'\n",
      "$ titleType             <str> 'movie'\n",
      "$ primaryTitle          <str> 'Thunderbolts*'\n",
      "$ originalTitle         <str> 'Thunderbolts*'\n",
      "$ isAdult               <i64> 0\n",
      "$ startYear             <i64> 2025\n",
      "$ endYear               <str> '\\\\N'\n",
      "$ runtimeMinutes        <str> '126'\n",
      "$ genres                <str> 'Action,Adventure,Crime'\n",
      "$ averageRating         <f64> 7.7\n",
      "$ numVotes              <i64> 64927\n",
      "$ director_names  <list[str]> ['Jake Schreier']\n",
      "$ writer_names    <list[str]> ['Eric Pearson', 'Joanna Calo', 'Kurt Busiek', 'Mark Bagley']\n",
      "$ producer_names  <list[str]> ['Kevin Feige']\n",
      "$ actor_names     <list[str]> ['Florence Pugh', 'Sebastian Stan', 'Julia Louis-Dreyfus', 'Lewis Pullman', 'David Harbour', 'Wyatt Russell', 'Hannah John-Kamen', 'Olga Kurylenko', 'Geraldine Viswanathan', 'Wendell Pierce']\n",
      "$ principal_names <list[str]> ['Son Lux', 'Andrew Droz Palermo', 'Angela M. Catanzaro', 'Harry Yoon', 'Sarah Finn', 'Grace Yun']\n",
      "$ principal_roles <list[str]> ['composer', 'cinematographer', 'editor', 'editor', 'casting_director', 'production_designer']\n",
      "$ json                  <str> '{\\n  \"title\": \"Thunderbolts*\",\\n  \"genres\": [\\n    \"Action\",\\n    \"Adventure\",\\n    \"Crime\"\\n  ],\\n  \"is_adult\": false,\\n  \"release_year\": 2025,\\n  \"runtime_minutes\": 126,\\n  \"directors\": [\\n    \"Jake Schreier\"\\n  ],\\n  \"writers\": [\\n    \"Eric Pearson\",\\n    \"Joanna Calo\",\\n    \"Kurt Busiek\",\\n    \"Mark Bagley\"\\n  ],\\n  \"producers\": [\\n    \"Kevin Feige\"\\n  ],\\n  \"actors\": [\\n    \"Florence Pugh\",\\n    \"Sebastian Stan\",\\n    \"Julia Louis-Dreyfus\",\\n    \"Lewis Pullman\",\\n    \"David Harbour\",\\n    \"Wyatt Russell\",\\n    \"Hannah John-Kamen\",\\n    \"Olga Kurylenko\",\\n    \"Geraldine Viswanathan\",\\n    \"Wendell Pierce\"\\n  ],\\n  \"principals\": [\\n    {\\n      \"Son Lux\": \"composer\"\\n    },\\n    {\\n      \"Andrew Droz Palermo\": \"cinematographer\"\\n    },\\n    {\\n      \"Angela M. Catanzaro\": \"editor\"\\n    },\\n    {\\n      \"Harry Yoon\": \"editor\"\\n    },\\n    {\\n      \"Sarah Finn\": \"casting_director\"\\n    },\\n    {\\n      \"Grace Yun\": \"production_designer\"\\n    }\\n  ]\\n}'\n",
      "\n"
     ]
    }
   ],
   "source": [
    "# THunderbolts* (released May 2025 to check for recent data)\n",
    "df_final.filter(pl.col(\"tconst\") == \"tt20969586\").glimpse()"
   ]
  },
  {
   "cell_type": "code",
   "execution_count": 17,
   "metadata": {},
   "outputs": [],
   "source": [
    "df_final.select(\n",
    "    [\"tconst\", \"startYear\", \"numVotes\", \"averageRating\", \"json\"]\n",
    ").write_parquet(os.path.join(data_dir, \"test_movie_json_input.parquet\"))"
   ]
  }
 ],
 "metadata": {
  "kernelspec": {
   "display_name": ".venv",
   "language": "python",
   "name": "python3"
  },
  "language_info": {
   "codemirror_mode": {
    "name": "ipython",
    "version": 3
   },
   "file_extension": ".py",
   "mimetype": "text/x-python",
   "name": "python",
   "nbconvert_exporter": "python",
   "pygments_lexer": "ipython3",
   "version": "3.13.1"
  }
 },
 "nbformat": 4,
 "nbformat_minor": 2
}
