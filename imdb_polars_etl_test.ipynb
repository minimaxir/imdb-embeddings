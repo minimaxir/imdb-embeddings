{
 "cells": [
  {
   "cell_type": "markdown",
   "metadata": {},
   "source": [
    "https://developer.imdb.com/non-commercial-datasets/\n"
   ]
  },
  {
   "cell_type": "code",
   "execution_count": 1,
   "metadata": {},
   "outputs": [],
   "source": [
    "import polars as pl\n",
    "import os"
   ]
  },
  {
   "cell_type": "code",
   "execution_count": 2,
   "metadata": {},
   "outputs": [
    {
     "data": {
      "text/html": [
       "<div><style>\n",
       ".dataframe > thead > tr,\n",
       ".dataframe > tbody > tr {\n",
       "  text-align: right;\n",
       "  white-space: pre-wrap;\n",
       "}\n",
       "</style>\n",
       "<small>shape: (11_073_287, 9)</small><table border=\"1\" class=\"dataframe\"><thead><tr><th>tconst</th><th>titleType</th><th>primaryTitle</th><th>originalTitle</th><th>isAdult</th><th>startYear</th><th>endYear</th><th>runtimeMinutes</th><th>genres</th></tr><tr><td>str</td><td>str</td><td>str</td><td>str</td><td>i64</td><td>i64</td><td>str</td><td>str</td><td>str</td></tr></thead><tbody><tr><td>&quot;tt0000001&quot;</td><td>&quot;short&quot;</td><td>&quot;Carmencita&quot;</td><td>&quot;Carmencita&quot;</td><td>0</td><td>1894</td><td>&quot;\\N&quot;</td><td>&quot;1&quot;</td><td>&quot;Documentary,Short&quot;</td></tr><tr><td>&quot;tt0000002&quot;</td><td>&quot;short&quot;</td><td>&quot;Le clown et ses chiens&quot;</td><td>&quot;Le clown et ses chiens&quot;</td><td>0</td><td>1892</td><td>&quot;\\N&quot;</td><td>&quot;5&quot;</td><td>&quot;Animation,Short&quot;</td></tr><tr><td>&quot;tt0000003&quot;</td><td>&quot;short&quot;</td><td>&quot;Pauvre Pierrot&quot;</td><td>&quot;Pauvre Pierrot&quot;</td><td>0</td><td>1892</td><td>&quot;\\N&quot;</td><td>&quot;5&quot;</td><td>&quot;Animation,Comedy,Romance&quot;</td></tr><tr><td>&quot;tt0000004&quot;</td><td>&quot;short&quot;</td><td>&quot;Un bon bock&quot;</td><td>&quot;Un bon bock&quot;</td><td>0</td><td>1892</td><td>&quot;\\N&quot;</td><td>&quot;12&quot;</td><td>&quot;Animation,Short&quot;</td></tr><tr><td>&quot;tt0000005&quot;</td><td>&quot;short&quot;</td><td>&quot;Blacksmith Scene&quot;</td><td>&quot;Blacksmith Scene&quot;</td><td>0</td><td>1893</td><td>&quot;\\N&quot;</td><td>&quot;1&quot;</td><td>&quot;Comedy,Short&quot;</td></tr><tr><td>&hellip;</td><td>&hellip;</td><td>&hellip;</td><td>&hellip;</td><td>&hellip;</td><td>&hellip;</td><td>&hellip;</td><td>&hellip;</td><td>&hellip;</td></tr><tr><td>&quot;tt9916848&quot;</td><td>&quot;tvEpisode&quot;</td><td>&quot;Episode #3.17&quot;</td><td>&quot;Episode #3.17&quot;</td><td>0</td><td>2009</td><td>&quot;\\N&quot;</td><td>&quot;\\N&quot;</td><td>&quot;Action,Drama,Family&quot;</td></tr><tr><td>&quot;tt9916850&quot;</td><td>&quot;tvEpisode&quot;</td><td>&quot;Episode #3.19&quot;</td><td>&quot;Episode #3.19&quot;</td><td>0</td><td>2010</td><td>&quot;\\N&quot;</td><td>&quot;\\N&quot;</td><td>&quot;Action,Drama,Family&quot;</td></tr><tr><td>&quot;tt9916852&quot;</td><td>&quot;tvEpisode&quot;</td><td>&quot;Episode #3.20&quot;</td><td>&quot;Episode #3.20&quot;</td><td>0</td><td>2010</td><td>&quot;\\N&quot;</td><td>&quot;\\N&quot;</td><td>&quot;Action,Drama,Family&quot;</td></tr><tr><td>&quot;tt9916856&quot;</td><td>&quot;short&quot;</td><td>&quot;The Wind&quot;</td><td>&quot;The Wind&quot;</td><td>0</td><td>2015</td><td>&quot;\\N&quot;</td><td>&quot;27&quot;</td><td>&quot;Short&quot;</td></tr><tr><td>&quot;tt9916880&quot;</td><td>&quot;tvEpisode&quot;</td><td>&quot;Horrid Henry Knows It All&quot;</td><td>&quot;Horrid Henry Knows It All&quot;</td><td>0</td><td>2014</td><td>&quot;\\N&quot;</td><td>&quot;10&quot;</td><td>&quot;Adventure,Animation,Comedy&quot;</td></tr></tbody></table></div>"
      ],
      "text/plain": [
       "shape: (11_073_287, 9)\n",
       "┌───────────┬───────────┬────────────┬───────────┬───┬───────────┬─────────┬───────────┬───────────┐\n",
       "│ tconst    ┆ titleType ┆ primaryTit ┆ originalT ┆ … ┆ startYear ┆ endYear ┆ runtimeMi ┆ genres    │\n",
       "│ ---       ┆ ---       ┆ le         ┆ itle      ┆   ┆ ---       ┆ ---     ┆ nutes     ┆ ---       │\n",
       "│ str       ┆ str       ┆ ---        ┆ ---       ┆   ┆ i64       ┆ str     ┆ ---       ┆ str       │\n",
       "│           ┆           ┆ str        ┆ str       ┆   ┆           ┆         ┆ str       ┆           │\n",
       "╞═══════════╪═══════════╪════════════╪═══════════╪═══╪═══════════╪═════════╪═══════════╪═══════════╡\n",
       "│ tt0000001 ┆ short     ┆ Carmencita ┆ Carmencit ┆ … ┆ 1894      ┆ \\N      ┆ 1         ┆ Documenta │\n",
       "│           ┆           ┆            ┆ a         ┆   ┆           ┆         ┆           ┆ ry,Short  │\n",
       "│ tt0000002 ┆ short     ┆ Le clown   ┆ Le clown  ┆ … ┆ 1892      ┆ \\N      ┆ 5         ┆ Animation │\n",
       "│           ┆           ┆ et ses     ┆ et ses    ┆   ┆           ┆         ┆           ┆ ,Short    │\n",
       "│           ┆           ┆ chiens     ┆ chiens    ┆   ┆           ┆         ┆           ┆           │\n",
       "│ tt0000003 ┆ short     ┆ Pauvre     ┆ Pauvre    ┆ … ┆ 1892      ┆ \\N      ┆ 5         ┆ Animation │\n",
       "│           ┆           ┆ Pierrot    ┆ Pierrot   ┆   ┆           ┆         ┆           ┆ ,Comedy,R │\n",
       "│           ┆           ┆            ┆           ┆   ┆           ┆         ┆           ┆ omance    │\n",
       "│ tt0000004 ┆ short     ┆ Un bon     ┆ Un bon    ┆ … ┆ 1892      ┆ \\N      ┆ 12        ┆ Animation │\n",
       "│           ┆           ┆ bock       ┆ bock      ┆   ┆           ┆         ┆           ┆ ,Short    │\n",
       "│ tt0000005 ┆ short     ┆ Blacksmith ┆ Blacksmit ┆ … ┆ 1893      ┆ \\N      ┆ 1         ┆ Comedy,Sh │\n",
       "│           ┆           ┆ Scene      ┆ h Scene   ┆   ┆           ┆         ┆           ┆ ort       │\n",
       "│ …         ┆ …         ┆ …          ┆ …         ┆ … ┆ …         ┆ …       ┆ …         ┆ …         │\n",
       "│ tt9916848 ┆ tvEpisode ┆ Episode    ┆ Episode   ┆ … ┆ 2009      ┆ \\N      ┆ \\N        ┆ Action,Dr │\n",
       "│           ┆           ┆ #3.17      ┆ #3.17     ┆   ┆           ┆         ┆           ┆ ama,Famil │\n",
       "│           ┆           ┆            ┆           ┆   ┆           ┆         ┆           ┆ y         │\n",
       "│ tt9916850 ┆ tvEpisode ┆ Episode    ┆ Episode   ┆ … ┆ 2010      ┆ \\N      ┆ \\N        ┆ Action,Dr │\n",
       "│           ┆           ┆ #3.19      ┆ #3.19     ┆   ┆           ┆         ┆           ┆ ama,Famil │\n",
       "│           ┆           ┆            ┆           ┆   ┆           ┆         ┆           ┆ y         │\n",
       "│ tt9916852 ┆ tvEpisode ┆ Episode    ┆ Episode   ┆ … ┆ 2010      ┆ \\N      ┆ \\N        ┆ Action,Dr │\n",
       "│           ┆           ┆ #3.20      ┆ #3.20     ┆   ┆           ┆         ┆           ┆ ama,Famil │\n",
       "│           ┆           ┆            ┆           ┆   ┆           ┆         ┆           ┆ y         │\n",
       "│ tt9916856 ┆ short     ┆ The Wind   ┆ The Wind  ┆ … ┆ 2015      ┆ \\N      ┆ 27        ┆ Short     │\n",
       "│ tt9916880 ┆ tvEpisode ┆ Horrid     ┆ Horrid    ┆ … ┆ 2014      ┆ \\N      ┆ 10        ┆ Adventure │\n",
       "│           ┆           ┆ Henry      ┆ Henry     ┆   ┆           ┆         ┆           ┆ ,Animatio │\n",
       "│           ┆           ┆ Knows It   ┆ Knows It  ┆   ┆           ┆         ┆           ┆ n,Comedy  │\n",
       "│           ┆           ┆ All        ┆ All       ┆   ┆           ┆         ┆           ┆           │\n",
       "└───────────┴───────────┴────────────┴───────────┴───┴───────────┴─────────┴───────────┴───────────┘"
      ]
     },
     "execution_count": 2,
     "metadata": {},
     "output_type": "execute_result"
    }
   ],
   "source": [
    "data_dir = \"/Users/maxwoolf/Downloads\"\n",
    "\n",
    "df_titles = pl.read_csv(\n",
    "    os.path.join(data_dir, \"title.basics.tsv.gz\"), separator=\"\\t\", ignore_errors=True\n",
    ")\n",
    "\n",
    "df_titles"
   ]
  },
  {
   "cell_type": "code",
   "execution_count": 3,
   "metadata": {},
   "outputs": [
    {
     "data": {
      "text/plain": [
       "['videoGame',\n",
       " 'tvSeries',\n",
       " 'tvShort',\n",
       " 'tvSpecial',\n",
       " 'video',\n",
       " 'tvEpisode',\n",
       " 'tvPilot',\n",
       " 'tvMovie',\n",
       " 'tvMiniSeries',\n",
       " 'movie',\n",
       " 'short']"
      ]
     },
     "execution_count": 3,
     "metadata": {},
     "output_type": "execute_result"
    }
   ],
   "source": [
    "df_titles[\"titleType\"].unique().to_list()"
   ]
  },
  {
   "cell_type": "code",
   "execution_count": 4,
   "metadata": {},
   "outputs": [
    {
     "data": {
      "text/html": [
       "<div><style>\n",
       ".dataframe > thead > tr,\n",
       ".dataframe > tbody > tr {\n",
       "  text-align: right;\n",
       "  white-space: pre-wrap;\n",
       "}\n",
       "</style>\n",
       "<small>shape: (691_896, 9)</small><table border=\"1\" class=\"dataframe\"><thead><tr><th>tconst</th><th>titleType</th><th>primaryTitle</th><th>originalTitle</th><th>isAdult</th><th>startYear</th><th>endYear</th><th>runtimeMinutes</th><th>genres</th></tr><tr><td>str</td><td>str</td><td>str</td><td>str</td><td>i64</td><td>i64</td><td>str</td><td>str</td><td>str</td></tr></thead><tbody><tr><td>&quot;tt0000009&quot;</td><td>&quot;movie&quot;</td><td>&quot;Miss Jerry&quot;</td><td>&quot;Miss Jerry&quot;</td><td>0</td><td>1894</td><td>&quot;\\N&quot;</td><td>&quot;45&quot;</td><td>&quot;Romance&quot;</td></tr><tr><td>&quot;tt0000147&quot;</td><td>&quot;movie&quot;</td><td>&quot;The Corbett-Fitzsimmons Fight&quot;</td><td>&quot;The Corbett-Fitzsimmons Fight&quot;</td><td>0</td><td>1897</td><td>&quot;\\N&quot;</td><td>&quot;100&quot;</td><td>&quot;Documentary,News,Sport&quot;</td></tr><tr><td>&quot;tt0000502&quot;</td><td>&quot;movie&quot;</td><td>&quot;Bohemios&quot;</td><td>&quot;Bohemios&quot;</td><td>0</td><td>1905</td><td>&quot;\\N&quot;</td><td>&quot;100&quot;</td><td>&quot;\\N&quot;</td></tr><tr><td>&quot;tt0000574&quot;</td><td>&quot;movie&quot;</td><td>&quot;The Story of the Kelly Gang&quot;</td><td>&quot;The Story of the Kelly Gang&quot;</td><td>0</td><td>1906</td><td>&quot;\\N&quot;</td><td>&quot;70&quot;</td><td>&quot;Action,Adventure,Biography&quot;</td></tr><tr><td>&quot;tt0000591&quot;</td><td>&quot;movie&quot;</td><td>&quot;The Prodigal Son&quot;</td><td>&quot;L&#x27;enfant prodigue&quot;</td><td>0</td><td>1907</td><td>&quot;\\N&quot;</td><td>&quot;90&quot;</td><td>&quot;Drama&quot;</td></tr><tr><td>&hellip;</td><td>&hellip;</td><td>&hellip;</td><td>&hellip;</td><td>&hellip;</td><td>&hellip;</td><td>&hellip;</td><td>&hellip;</td><td>&hellip;</td></tr><tr><td>&quot;tt9916622&quot;</td><td>&quot;movie&quot;</td><td>&quot;Rodolpho Teóphilo - O Legado d…</td><td>&quot;Rodolpho Teóphilo - O Legado d…</td><td>0</td><td>2015</td><td>&quot;\\N&quot;</td><td>&quot;57&quot;</td><td>&quot;Documentary&quot;</td></tr><tr><td>&quot;tt9916680&quot;</td><td>&quot;movie&quot;</td><td>&quot;De la ilusión al desconcierto:…</td><td>&quot;De la ilusión al desconcierto:…</td><td>0</td><td>2007</td><td>&quot;\\N&quot;</td><td>&quot;100&quot;</td><td>&quot;Documentary&quot;</td></tr><tr><td>&quot;tt9916706&quot;</td><td>&quot;movie&quot;</td><td>&quot;Dankyavar Danka&quot;</td><td>&quot;Dankyavar Danka&quot;</td><td>0</td><td>2013</td><td>&quot;\\N&quot;</td><td>&quot;\\N&quot;</td><td>&quot;Comedy&quot;</td></tr><tr><td>&quot;tt9916730&quot;</td><td>&quot;movie&quot;</td><td>&quot;6 Gunn&quot;</td><td>&quot;6 Gunn&quot;</td><td>0</td><td>2017</td><td>&quot;\\N&quot;</td><td>&quot;116&quot;</td><td>&quot;Drama&quot;</td></tr><tr><td>&quot;tt9916754&quot;</td><td>&quot;movie&quot;</td><td>&quot;Chico Albuquerque - Revelações&quot;</td><td>&quot;Chico Albuquerque - Revelações&quot;</td><td>0</td><td>2013</td><td>&quot;\\N&quot;</td><td>&quot;49&quot;</td><td>&quot;Documentary&quot;</td></tr></tbody></table></div>"
      ],
      "text/plain": [
       "shape: (691_896, 9)\n",
       "┌───────────┬───────────┬────────────┬───────────┬───┬───────────┬─────────┬───────────┬───────────┐\n",
       "│ tconst    ┆ titleType ┆ primaryTit ┆ originalT ┆ … ┆ startYear ┆ endYear ┆ runtimeMi ┆ genres    │\n",
       "│ ---       ┆ ---       ┆ le         ┆ itle      ┆   ┆ ---       ┆ ---     ┆ nutes     ┆ ---       │\n",
       "│ str       ┆ str       ┆ ---        ┆ ---       ┆   ┆ i64       ┆ str     ┆ ---       ┆ str       │\n",
       "│           ┆           ┆ str        ┆ str       ┆   ┆           ┆         ┆ str       ┆           │\n",
       "╞═══════════╪═══════════╪════════════╪═══════════╪═══╪═══════════╪═════════╪═══════════╪═══════════╡\n",
       "│ tt0000009 ┆ movie     ┆ Miss Jerry ┆ Miss      ┆ … ┆ 1894      ┆ \\N      ┆ 45        ┆ Romance   │\n",
       "│           ┆           ┆            ┆ Jerry     ┆   ┆           ┆         ┆           ┆           │\n",
       "│ tt0000147 ┆ movie     ┆ The Corbet ┆ The Corbe ┆ … ┆ 1897      ┆ \\N      ┆ 100       ┆ Documenta │\n",
       "│           ┆           ┆ t-Fitzsimm ┆ tt-Fitzsi ┆   ┆           ┆         ┆           ┆ ry,News,S │\n",
       "│           ┆           ┆ ons Fight  ┆ mmons     ┆   ┆           ┆         ┆           ┆ port      │\n",
       "│           ┆           ┆            ┆ Fight     ┆   ┆           ┆         ┆           ┆           │\n",
       "│ tt0000502 ┆ movie     ┆ Bohemios   ┆ Bohemios  ┆ … ┆ 1905      ┆ \\N      ┆ 100       ┆ \\N        │\n",
       "│ tt0000574 ┆ movie     ┆ The Story  ┆ The Story ┆ … ┆ 1906      ┆ \\N      ┆ 70        ┆ Action,Ad │\n",
       "│           ┆           ┆ of the     ┆ of the    ┆   ┆           ┆         ┆           ┆ venture,B │\n",
       "│           ┆           ┆ Kelly Gang ┆ Kelly     ┆   ┆           ┆         ┆           ┆ iography  │\n",
       "│           ┆           ┆            ┆ Gang      ┆   ┆           ┆         ┆           ┆           │\n",
       "│ tt0000591 ┆ movie     ┆ The        ┆ L'enfant  ┆ … ┆ 1907      ┆ \\N      ┆ 90        ┆ Drama     │\n",
       "│           ┆           ┆ Prodigal   ┆ prodigue  ┆   ┆           ┆         ┆           ┆           │\n",
       "│           ┆           ┆ Son        ┆           ┆   ┆           ┆         ┆           ┆           │\n",
       "│ …         ┆ …         ┆ …          ┆ …         ┆ … ┆ …         ┆ …       ┆ …         ┆ …         │\n",
       "│ tt9916622 ┆ movie     ┆ Rodolpho   ┆ Rodolpho  ┆ … ┆ 2015      ┆ \\N      ┆ 57        ┆ Documenta │\n",
       "│           ┆           ┆ Teóphilo - ┆ Teóphilo  ┆   ┆           ┆         ┆           ┆ ry        │\n",
       "│           ┆           ┆ O Legado   ┆ - O       ┆   ┆           ┆         ┆           ┆           │\n",
       "│           ┆           ┆ d…         ┆ Legado d… ┆   ┆           ┆         ┆           ┆           │\n",
       "│ tt9916680 ┆ movie     ┆ De la      ┆ De la     ┆ … ┆ 2007      ┆ \\N      ┆ 100       ┆ Documenta │\n",
       "│           ┆           ┆ ilusión al ┆ ilusión   ┆   ┆           ┆         ┆           ┆ ry        │\n",
       "│           ┆           ┆ desconcier ┆ al descon ┆   ┆           ┆         ┆           ┆           │\n",
       "│           ┆           ┆ to:…       ┆ cierto:…  ┆   ┆           ┆         ┆           ┆           │\n",
       "│ tt9916706 ┆ movie     ┆ Dankyavar  ┆ Dankyavar ┆ … ┆ 2013      ┆ \\N      ┆ \\N        ┆ Comedy    │\n",
       "│           ┆           ┆ Danka      ┆ Danka     ┆   ┆           ┆         ┆           ┆           │\n",
       "│ tt9916730 ┆ movie     ┆ 6 Gunn     ┆ 6 Gunn    ┆ … ┆ 2017      ┆ \\N      ┆ 116       ┆ Drama     │\n",
       "│ tt9916754 ┆ movie     ┆ Chico Albu ┆ Chico Alb ┆ … ┆ 2013      ┆ \\N      ┆ 49        ┆ Documenta │\n",
       "│           ┆           ┆ querque -  ┆ uquerque  ┆   ┆           ┆         ┆           ┆ ry        │\n",
       "│           ┆           ┆ Revelações ┆ - Revelaç ┆   ┆           ┆         ┆           ┆           │\n",
       "│           ┆           ┆            ┆ ões       ┆   ┆           ┆         ┆           ┆           │\n",
       "└───────────┴───────────┴────────────┴───────────┴───┴───────────┴─────────┴───────────┴───────────┘"
      ]
     },
     "execution_count": 4,
     "metadata": {},
     "output_type": "execute_result"
    }
   ],
   "source": [
    "df_titles = df_titles.filter(pl.col(\"titleType\") == \"movie\")\n",
    "df_titles"
   ]
  },
  {
   "cell_type": "code",
   "execution_count": 5,
   "metadata": {},
   "outputs": [
    {
     "data": {
      "text/html": [
       "<div><style>\n",
       ".dataframe > thead > tr,\n",
       ".dataframe > tbody > tr {\n",
       "  text-align: right;\n",
       "  white-space: pre-wrap;\n",
       "}\n",
       "</style>\n",
       "<small>shape: (1_475_767, 3)</small><table border=\"1\" class=\"dataframe\"><thead><tr><th>tconst</th><th>averageRating</th><th>numVotes</th></tr><tr><td>str</td><td>f64</td><td>i64</td></tr></thead><tbody><tr><td>&quot;tt0000001&quot;</td><td>5.7</td><td>2085</td></tr><tr><td>&quot;tt0000002&quot;</td><td>5.6</td><td>283</td></tr><tr><td>&quot;tt0000003&quot;</td><td>6.5</td><td>2089</td></tr><tr><td>&quot;tt0000004&quot;</td><td>5.4</td><td>184</td></tr><tr><td>&quot;tt0000005&quot;</td><td>6.2</td><td>2823</td></tr><tr><td>&hellip;</td><td>&hellip;</td><td>&hellip;</td></tr><tr><td>&quot;tt9916730&quot;</td><td>7.0</td><td>12</td></tr><tr><td>&quot;tt9916766&quot;</td><td>7.1</td><td>24</td></tr><tr><td>&quot;tt9916778&quot;</td><td>7.2</td><td>37</td></tr><tr><td>&quot;tt9916840&quot;</td><td>7.2</td><td>10</td></tr><tr><td>&quot;tt9916880&quot;</td><td>8.6</td><td>8</td></tr></tbody></table></div>"
      ],
      "text/plain": [
       "shape: (1_475_767, 3)\n",
       "┌───────────┬───────────────┬──────────┐\n",
       "│ tconst    ┆ averageRating ┆ numVotes │\n",
       "│ ---       ┆ ---           ┆ ---      │\n",
       "│ str       ┆ f64           ┆ i64      │\n",
       "╞═══════════╪═══════════════╪══════════╡\n",
       "│ tt0000001 ┆ 5.7           ┆ 2085     │\n",
       "│ tt0000002 ┆ 5.6           ┆ 283      │\n",
       "│ tt0000003 ┆ 6.5           ┆ 2089     │\n",
       "│ tt0000004 ┆ 5.4           ┆ 184      │\n",
       "│ tt0000005 ┆ 6.2           ┆ 2823     │\n",
       "│ …         ┆ …             ┆ …        │\n",
       "│ tt9916730 ┆ 7.0           ┆ 12       │\n",
       "│ tt9916766 ┆ 7.1           ┆ 24       │\n",
       "│ tt9916778 ┆ 7.2           ┆ 37       │\n",
       "│ tt9916840 ┆ 7.2           ┆ 10       │\n",
       "│ tt9916880 ┆ 8.6           ┆ 8        │\n",
       "└───────────┴───────────────┴──────────┘"
      ]
     },
     "execution_count": 5,
     "metadata": {},
     "output_type": "execute_result"
    }
   ],
   "source": [
    "df_ratings = pl.read_csv(\n",
    "    os.path.join(data_dir, \"title.ratings.tsv.gz\"), separator=\"\\t\", ignore_errors=True\n",
    ")\n",
    "\n",
    "df_ratings"
   ]
  },
  {
   "cell_type": "markdown",
   "metadata": {},
   "source": [
    "Make the base table as small as possible before unnesting/joining.\n"
   ]
  },
  {
   "cell_type": "code",
   "execution_count": 8,
   "metadata": {},
   "outputs": [
    {
     "data": {
      "text/html": [
       "<div><style>\n",
       ".dataframe > thead > tr,\n",
       ".dataframe > tbody > tr {\n",
       "  text-align: right;\n",
       "  white-space: pre-wrap;\n",
       "}\n",
       "</style>\n",
       "<small>shape: (315_665, 11)</small><table border=\"1\" class=\"dataframe\"><thead><tr><th>tconst</th><th>titleType</th><th>primaryTitle</th><th>originalTitle</th><th>isAdult</th><th>startYear</th><th>endYear</th><th>runtimeMinutes</th><th>genres</th><th>averageRating</th><th>numVotes</th></tr><tr><td>str</td><td>str</td><td>str</td><td>str</td><td>i64</td><td>i64</td><td>str</td><td>str</td><td>str</td><td>f64</td><td>i64</td></tr></thead><tbody><tr><td>&quot;tt9916730&quot;</td><td>&quot;movie&quot;</td><td>&quot;6 Gunn&quot;</td><td>&quot;6 Gunn&quot;</td><td>0</td><td>2017</td><td>&quot;\\N&quot;</td><td>&quot;116&quot;</td><td>&quot;Drama&quot;</td><td>7.0</td><td>12</td></tr><tr><td>&quot;tt9916706&quot;</td><td>&quot;movie&quot;</td><td>&quot;Dankyavar Danka&quot;</td><td>&quot;Dankyavar Danka&quot;</td><td>0</td><td>2013</td><td>&quot;\\N&quot;</td><td>&quot;\\N&quot;</td><td>&quot;Comedy&quot;</td><td>7.8</td><td>6</td></tr><tr><td>&quot;tt9916538&quot;</td><td>&quot;movie&quot;</td><td>&quot;Kuambil Lagi Hatiku&quot;</td><td>&quot;Kuambil Lagi Hatiku&quot;</td><td>0</td><td>2019</td><td>&quot;\\N&quot;</td><td>&quot;123&quot;</td><td>&quot;Drama&quot;</td><td>8.3</td><td>9</td></tr><tr><td>&quot;tt9916428&quot;</td><td>&quot;movie&quot;</td><td>&quot;The Secret of China&quot;</td><td>&quot;Hong xing zhao yao Zhong guo&quot;</td><td>0</td><td>2019</td><td>&quot;\\N&quot;</td><td>&quot;\\N&quot;</td><td>&quot;Adventure,History,War&quot;</td><td>3.6</td><td>19</td></tr><tr><td>&quot;tt9916362&quot;</td><td>&quot;movie&quot;</td><td>&quot;Coven&quot;</td><td>&quot;Akelarre&quot;</td><td>0</td><td>2020</td><td>&quot;\\N&quot;</td><td>&quot;92&quot;</td><td>&quot;Drama,History&quot;</td><td>6.4</td><td>5893</td></tr><tr><td>&hellip;</td><td>&hellip;</td><td>&hellip;</td><td>&hellip;</td><td>&hellip;</td><td>&hellip;</td><td>&hellip;</td><td>&hellip;</td><td>&hellip;</td><td>&hellip;</td><td>&hellip;</td></tr><tr><td>&quot;tt0000591&quot;</td><td>&quot;movie&quot;</td><td>&quot;The Prodigal Son&quot;</td><td>&quot;L&#x27;enfant prodigue&quot;</td><td>0</td><td>1907</td><td>&quot;\\N&quot;</td><td>&quot;90&quot;</td><td>&quot;Drama&quot;</td><td>5.7</td><td>28</td></tr><tr><td>&quot;tt0000574&quot;</td><td>&quot;movie&quot;</td><td>&quot;The Story of the Kelly Gang&quot;</td><td>&quot;The Story of the Kelly Gang&quot;</td><td>0</td><td>1906</td><td>&quot;\\N&quot;</td><td>&quot;70&quot;</td><td>&quot;Action,Adventure,Biography&quot;</td><td>6.0</td><td>928</td></tr><tr><td>&quot;tt0000502&quot;</td><td>&quot;movie&quot;</td><td>&quot;Bohemios&quot;</td><td>&quot;Bohemios&quot;</td><td>0</td><td>1905</td><td>&quot;\\N&quot;</td><td>&quot;100&quot;</td><td>&quot;\\N&quot;</td><td>4.4</td><td>18</td></tr><tr><td>&quot;tt0000147&quot;</td><td>&quot;movie&quot;</td><td>&quot;The Corbett-Fitzsimmons Fight&quot;</td><td>&quot;The Corbett-Fitzsimmons Fight&quot;</td><td>0</td><td>1897</td><td>&quot;\\N&quot;</td><td>&quot;100&quot;</td><td>&quot;Documentary,News,Sport&quot;</td><td>5.2</td><td>529</td></tr><tr><td>&quot;tt0000009&quot;</td><td>&quot;movie&quot;</td><td>&quot;Miss Jerry&quot;</td><td>&quot;Miss Jerry&quot;</td><td>0</td><td>1894</td><td>&quot;\\N&quot;</td><td>&quot;45&quot;</td><td>&quot;Romance&quot;</td><td>5.4</td><td>213</td></tr></tbody></table></div>"
      ],
      "text/plain": [
       "shape: (315_665, 11)\n",
       "┌───────────┬───────────┬───────────┬───────────┬───┬───────────┬───────────┬───────────┬──────────┐\n",
       "│ tconst    ┆ titleType ┆ primaryTi ┆ originalT ┆ … ┆ runtimeMi ┆ genres    ┆ averageRa ┆ numVotes │\n",
       "│ ---       ┆ ---       ┆ tle       ┆ itle      ┆   ┆ nutes     ┆ ---       ┆ ting      ┆ ---      │\n",
       "│ str       ┆ str       ┆ ---       ┆ ---       ┆   ┆ ---       ┆ str       ┆ ---       ┆ i64      │\n",
       "│           ┆           ┆ str       ┆ str       ┆   ┆ str       ┆           ┆ f64       ┆          │\n",
       "╞═══════════╪═══════════╪═══════════╪═══════════╪═══╪═══════════╪═══════════╪═══════════╪══════════╡\n",
       "│ tt9916730 ┆ movie     ┆ 6 Gunn    ┆ 6 Gunn    ┆ … ┆ 116       ┆ Drama     ┆ 7.0       ┆ 12       │\n",
       "│ tt9916706 ┆ movie     ┆ Dankyavar ┆ Dankyavar ┆ … ┆ \\N        ┆ Comedy    ┆ 7.8       ┆ 6        │\n",
       "│           ┆           ┆ Danka     ┆ Danka     ┆   ┆           ┆           ┆           ┆          │\n",
       "│ tt9916538 ┆ movie     ┆ Kuambil   ┆ Kuambil   ┆ … ┆ 123       ┆ Drama     ┆ 8.3       ┆ 9        │\n",
       "│           ┆           ┆ Lagi      ┆ Lagi      ┆   ┆           ┆           ┆           ┆          │\n",
       "│           ┆           ┆ Hatiku    ┆ Hatiku    ┆   ┆           ┆           ┆           ┆          │\n",
       "│ tt9916428 ┆ movie     ┆ The       ┆ Hong xing ┆ … ┆ \\N        ┆ Adventure ┆ 3.6       ┆ 19       │\n",
       "│           ┆           ┆ Secret of ┆ zhao yao  ┆   ┆           ┆ ,History, ┆           ┆          │\n",
       "│           ┆           ┆ China     ┆ Zhong guo ┆   ┆           ┆ War       ┆           ┆          │\n",
       "│ tt9916362 ┆ movie     ┆ Coven     ┆ Akelarre  ┆ … ┆ 92        ┆ Drama,His ┆ 6.4       ┆ 5893     │\n",
       "│           ┆           ┆           ┆           ┆   ┆           ┆ tory      ┆           ┆          │\n",
       "│ …         ┆ …         ┆ …         ┆ …         ┆ … ┆ …         ┆ …         ┆ …         ┆ …        │\n",
       "│ tt0000591 ┆ movie     ┆ The       ┆ L'enfant  ┆ … ┆ 90        ┆ Drama     ┆ 5.7       ┆ 28       │\n",
       "│           ┆           ┆ Prodigal  ┆ prodigue  ┆   ┆           ┆           ┆           ┆          │\n",
       "│           ┆           ┆ Son       ┆           ┆   ┆           ┆           ┆           ┆          │\n",
       "│ tt0000574 ┆ movie     ┆ The Story ┆ The Story ┆ … ┆ 70        ┆ Action,Ad ┆ 6.0       ┆ 928      │\n",
       "│           ┆           ┆ of the    ┆ of the    ┆   ┆           ┆ venture,B ┆           ┆          │\n",
       "│           ┆           ┆ Kelly     ┆ Kelly     ┆   ┆           ┆ iography  ┆           ┆          │\n",
       "│           ┆           ┆ Gang      ┆ Gang      ┆   ┆           ┆           ┆           ┆          │\n",
       "│ tt0000502 ┆ movie     ┆ Bohemios  ┆ Bohemios  ┆ … ┆ 100       ┆ \\N        ┆ 4.4       ┆ 18       │\n",
       "│ tt0000147 ┆ movie     ┆ The Corbe ┆ The Corbe ┆ … ┆ 100       ┆ Documenta ┆ 5.2       ┆ 529      │\n",
       "│           ┆           ┆ tt-Fitzsi ┆ tt-Fitzsi ┆   ┆           ┆ ry,News,S ┆           ┆          │\n",
       "│           ┆           ┆ mmons     ┆ mmons     ┆   ┆           ┆ port      ┆           ┆          │\n",
       "│           ┆           ┆ Fight     ┆ Fight     ┆   ┆           ┆           ┆           ┆          │\n",
       "│ tt0000009 ┆ movie     ┆ Miss      ┆ Miss      ┆ … ┆ 45        ┆ Romance   ┆ 5.4       ┆ 213      │\n",
       "│           ┆           ┆ Jerry     ┆ Jerry     ┆   ┆           ┆           ┆           ┆          │\n",
       "└───────────┴───────────┴───────────┴───────────┴───┴───────────┴───────────┴───────────┴──────────┘"
      ]
     },
     "execution_count": 8,
     "metadata": {},
     "output_type": "execute_result"
    }
   ],
   "source": [
    "df_denorm = (\n",
    "    df_titles.join(df_ratings, on=\"tconst\")\n",
    "    .filter(pl.col(\"averageRating\").is_not_null())\n",
    "    .sort(\"tconst\", descending=True)\n",
    ")\n",
    "df_denorm"
   ]
  },
  {
   "cell_type": "code",
   "execution_count": 9,
   "metadata": {},
   "outputs": [
    {
     "data": {
      "text/html": [
       "<div><style>\n",
       ".dataframe > thead > tr,\n",
       ".dataframe > tbody > tr {\n",
       "  text-align: right;\n",
       "  white-space: pre-wrap;\n",
       "}\n",
       "</style>\n",
       "<small>shape: (4_940_696, 11)</small><table border=\"1\" class=\"dataframe\"><thead><tr><th>tconst</th><th>ordering</th><th>nconst</th><th>category</th><th>job</th><th>characters</th><th>primaryName</th><th>birthYear</th><th>deathYear</th><th>primaryProfession</th><th>knownForTitles</th></tr><tr><td>str</td><td>i64</td><td>str</td><td>str</td><td>str</td><td>str</td><td>str</td><td>str</td><td>str</td><td>str</td><td>str</td></tr></thead><tbody><tr><td>&quot;tt0023926&quot;</td><td>6</td><td>&quot;nm0000001&quot;</td><td>&quot;actor&quot;</td><td>&quot;\\N&quot;</td><td>&quot;[&quot;Fred Astaire&quot;]&quot;</td><td>&quot;Fred Astaire&quot;</td><td>&quot;1899&quot;</td><td>&quot;1987&quot;</td><td>&quot;actor,miscellaneous,producer&quot;</td><td>&quot;tt0072308,tt0050419,tt0053137,…</td></tr><tr><td>&quot;tt0024025&quot;</td><td>5</td><td>&quot;nm0000001&quot;</td><td>&quot;actor&quot;</td><td>&quot;\\N&quot;</td><td>&quot;[&quot;Fred Ayres&quot;]&quot;</td><td>&quot;Fred Astaire&quot;</td><td>&quot;1899&quot;</td><td>&quot;1987&quot;</td><td>&quot;actor,miscellaneous,producer&quot;</td><td>&quot;tt0072308,tt0050419,tt0053137,…</td></tr><tr><td>&quot;tt0025164&quot;</td><td>1</td><td>&quot;nm0000001&quot;</td><td>&quot;actor&quot;</td><td>&quot;\\N&quot;</td><td>&quot;[&quot;Guy Holden&quot;]&quot;</td><td>&quot;Fred Astaire&quot;</td><td>&quot;1899&quot;</td><td>&quot;1987&quot;</td><td>&quot;actor,miscellaneous,producer&quot;</td><td>&quot;tt0072308,tt0050419,tt0053137,…</td></tr><tr><td>&quot;tt0026942&quot;</td><td>2</td><td>&quot;nm0000001&quot;</td><td>&quot;actor&quot;</td><td>&quot;\\N&quot;</td><td>&quot;[&quot;Huck Haines&quot;]&quot;</td><td>&quot;Fred Astaire&quot;</td><td>&quot;1899&quot;</td><td>&quot;1987&quot;</td><td>&quot;actor,miscellaneous,producer&quot;</td><td>&quot;tt0072308,tt0050419,tt0053137,…</td></tr><tr><td>&quot;tt0027125&quot;</td><td>1</td><td>&quot;nm0000001&quot;</td><td>&quot;actor&quot;</td><td>&quot;\\N&quot;</td><td>&quot;[&quot;Jerry Travers&quot;]&quot;</td><td>&quot;Fred Astaire&quot;</td><td>&quot;1899&quot;</td><td>&quot;1987&quot;</td><td>&quot;actor,miscellaneous,producer&quot;</td><td>&quot;tt0072308,tt0050419,tt0053137,…</td></tr><tr><td>&hellip;</td><td>&hellip;</td><td>&hellip;</td><td>&hellip;</td><td>&hellip;</td><td>&hellip;</td><td>&hellip;</td><td>&hellip;</td><td>&hellip;</td><td>&hellip;</td><td>&hellip;</td></tr><tr><td>&quot;tt10140990&quot;</td><td>9</td><td>&quot;nm9993694&quot;</td><td>&quot;actor&quot;</td><td>&quot;\\N&quot;</td><td>&quot;[&quot;Susheel Panda&quot;]&quot;</td><td>&quot;Chinmay Mishra&quot;</td><td>&quot;\\N&quot;</td><td>&quot;\\N&quot;</td><td>&quot;actor,director,producer&quot;</td><td>&quot;tt18361688,tt18687502,tt873775…</td></tr><tr><td>&quot;tt18361688&quot;</td><td>9</td><td>&quot;nm9993694&quot;</td><td>&quot;director&quot;</td><td>&quot;\\N&quot;</td><td>&quot;\\N&quot;</td><td>&quot;Chinmay Mishra&quot;</td><td>&quot;\\N&quot;</td><td>&quot;\\N&quot;</td><td>&quot;actor,director,producer&quot;</td><td>&quot;tt18361688,tt18687502,tt873775…</td></tr><tr><td>&quot;tt18361688&quot;</td><td>10</td><td>&quot;nm9993694&quot;</td><td>&quot;writer&quot;</td><td>&quot;story and screenplay&quot;</td><td>&quot;\\N&quot;</td><td>&quot;Chinmay Mishra&quot;</td><td>&quot;\\N&quot;</td><td>&quot;\\N&quot;</td><td>&quot;actor,director,producer&quot;</td><td>&quot;tt18361688,tt18687502,tt873775…</td></tr><tr><td>&quot;tt18687502&quot;</td><td>6</td><td>&quot;nm9993694&quot;</td><td>&quot;director&quot;</td><td>&quot;\\N&quot;</td><td>&quot;\\N&quot;</td><td>&quot;Chinmay Mishra&quot;</td><td>&quot;\\N&quot;</td><td>&quot;\\N&quot;</td><td>&quot;actor,director,producer&quot;</td><td>&quot;tt18361688,tt18687502,tt873775…</td></tr><tr><td>&quot;tt18687502&quot;</td><td>8</td><td>&quot;nm9993694&quot;</td><td>&quot;writer&quot;</td><td>&quot;screenplay&quot;</td><td>&quot;\\N&quot;</td><td>&quot;Chinmay Mishra&quot;</td><td>&quot;\\N&quot;</td><td>&quot;\\N&quot;</td><td>&quot;actor,director,producer&quot;</td><td>&quot;tt18361688,tt18687502,tt873775…</td></tr></tbody></table></div>"
      ],
      "text/plain": [
       "shape: (4_940_696, 11)\n",
       "┌────────────┬──────────┬───────────┬──────────┬───┬───────────┬───────────┬───────────┬───────────┐\n",
       "│ tconst     ┆ ordering ┆ nconst    ┆ category ┆ … ┆ birthYear ┆ deathYear ┆ primaryPr ┆ knownForT │\n",
       "│ ---        ┆ ---      ┆ ---       ┆ ---      ┆   ┆ ---       ┆ ---       ┆ ofession  ┆ itles     │\n",
       "│ str        ┆ i64      ┆ str       ┆ str      ┆   ┆ str       ┆ str       ┆ ---       ┆ ---       │\n",
       "│            ┆          ┆           ┆          ┆   ┆           ┆           ┆ str       ┆ str       │\n",
       "╞════════════╪══════════╪═══════════╪══════════╪═══╪═══════════╪═══════════╪═══════════╪═══════════╡\n",
       "│ tt0023926  ┆ 6        ┆ nm0000001 ┆ actor    ┆ … ┆ 1899      ┆ 1987      ┆ actor,mis ┆ tt0072308 │\n",
       "│            ┆          ┆           ┆          ┆   ┆           ┆           ┆ cellaneou ┆ ,tt005041 │\n",
       "│            ┆          ┆           ┆          ┆   ┆           ┆           ┆ s,produce ┆ 9,tt00531 │\n",
       "│            ┆          ┆           ┆          ┆   ┆           ┆           ┆ r         ┆ 37,…      │\n",
       "│ tt0024025  ┆ 5        ┆ nm0000001 ┆ actor    ┆ … ┆ 1899      ┆ 1987      ┆ actor,mis ┆ tt0072308 │\n",
       "│            ┆          ┆           ┆          ┆   ┆           ┆           ┆ cellaneou ┆ ,tt005041 │\n",
       "│            ┆          ┆           ┆          ┆   ┆           ┆           ┆ s,produce ┆ 9,tt00531 │\n",
       "│            ┆          ┆           ┆          ┆   ┆           ┆           ┆ r         ┆ 37,…      │\n",
       "│ tt0025164  ┆ 1        ┆ nm0000001 ┆ actor    ┆ … ┆ 1899      ┆ 1987      ┆ actor,mis ┆ tt0072308 │\n",
       "│            ┆          ┆           ┆          ┆   ┆           ┆           ┆ cellaneou ┆ ,tt005041 │\n",
       "│            ┆          ┆           ┆          ┆   ┆           ┆           ┆ s,produce ┆ 9,tt00531 │\n",
       "│            ┆          ┆           ┆          ┆   ┆           ┆           ┆ r         ┆ 37,…      │\n",
       "│ tt0026942  ┆ 2        ┆ nm0000001 ┆ actor    ┆ … ┆ 1899      ┆ 1987      ┆ actor,mis ┆ tt0072308 │\n",
       "│            ┆          ┆           ┆          ┆   ┆           ┆           ┆ cellaneou ┆ ,tt005041 │\n",
       "│            ┆          ┆           ┆          ┆   ┆           ┆           ┆ s,produce ┆ 9,tt00531 │\n",
       "│            ┆          ┆           ┆          ┆   ┆           ┆           ┆ r         ┆ 37,…      │\n",
       "│ tt0027125  ┆ 1        ┆ nm0000001 ┆ actor    ┆ … ┆ 1899      ┆ 1987      ┆ actor,mis ┆ tt0072308 │\n",
       "│            ┆          ┆           ┆          ┆   ┆           ┆           ┆ cellaneou ┆ ,tt005041 │\n",
       "│            ┆          ┆           ┆          ┆   ┆           ┆           ┆ s,produce ┆ 9,tt00531 │\n",
       "│            ┆          ┆           ┆          ┆   ┆           ┆           ┆ r         ┆ 37,…      │\n",
       "│ …          ┆ …        ┆ …         ┆ …        ┆ … ┆ …         ┆ …         ┆ …         ┆ …         │\n",
       "│ tt10140990 ┆ 9        ┆ nm9993694 ┆ actor    ┆ … ┆ \\N        ┆ \\N        ┆ actor,dir ┆ tt1836168 │\n",
       "│            ┆          ┆           ┆          ┆   ┆           ┆           ┆ ector,pro ┆ 8,tt18687 │\n",
       "│            ┆          ┆           ┆          ┆   ┆           ┆           ┆ ducer     ┆ 502,tt873 │\n",
       "│            ┆          ┆           ┆          ┆   ┆           ┆           ┆           ┆ 775…      │\n",
       "│ tt18361688 ┆ 9        ┆ nm9993694 ┆ director ┆ … ┆ \\N        ┆ \\N        ┆ actor,dir ┆ tt1836168 │\n",
       "│            ┆          ┆           ┆          ┆   ┆           ┆           ┆ ector,pro ┆ 8,tt18687 │\n",
       "│            ┆          ┆           ┆          ┆   ┆           ┆           ┆ ducer     ┆ 502,tt873 │\n",
       "│            ┆          ┆           ┆          ┆   ┆           ┆           ┆           ┆ 775…      │\n",
       "│ tt18361688 ┆ 10       ┆ nm9993694 ┆ writer   ┆ … ┆ \\N        ┆ \\N        ┆ actor,dir ┆ tt1836168 │\n",
       "│            ┆          ┆           ┆          ┆   ┆           ┆           ┆ ector,pro ┆ 8,tt18687 │\n",
       "│            ┆          ┆           ┆          ┆   ┆           ┆           ┆ ducer     ┆ 502,tt873 │\n",
       "│            ┆          ┆           ┆          ┆   ┆           ┆           ┆           ┆ 775…      │\n",
       "│ tt18687502 ┆ 6        ┆ nm9993694 ┆ director ┆ … ┆ \\N        ┆ \\N        ┆ actor,dir ┆ tt1836168 │\n",
       "│            ┆          ┆           ┆          ┆   ┆           ┆           ┆ ector,pro ┆ 8,tt18687 │\n",
       "│            ┆          ┆           ┆          ┆   ┆           ┆           ┆ ducer     ┆ 502,tt873 │\n",
       "│            ┆          ┆           ┆          ┆   ┆           ┆           ┆           ┆ 775…      │\n",
       "│ tt18687502 ┆ 8        ┆ nm9993694 ┆ writer   ┆ … ┆ \\N        ┆ \\N        ┆ actor,dir ┆ tt1836168 │\n",
       "│            ┆          ┆           ┆          ┆   ┆           ┆           ┆ ector,pro ┆ 8,tt18687 │\n",
       "│            ┆          ┆           ┆          ┆   ┆           ┆           ┆ ducer     ┆ 502,tt873 │\n",
       "│            ┆          ┆           ┆          ┆   ┆           ┆           ┆           ┆ 775…      │\n",
       "└────────────┴──────────┴───────────┴──────────┴───┴───────────┴───────────┴───────────┴───────────┘"
      ]
     },
     "execution_count": 9,
     "metadata": {},
     "output_type": "execute_result"
    }
   ],
   "source": [
    "valid_tconst = df_denorm[\"tconst\"]\n",
    "\n",
    "df_principals = pl.read_csv(\n",
    "    os.path.join(data_dir, \"title.principals.tsv.gz\"),\n",
    "    separator=\"\\t\",\n",
    "    ignore_errors=True,\n",
    ")\n",
    "\n",
    "# df_principals = df_principals.join(df_denorm, on=\"tconst\").filter(pl.col(\"nconst\").is_not_null())\n",
    "df_principals = df_principals.filter(pl.col(\"tconst\").is_in(valid_tconst))\n",
    "\n",
    "df_names = pl.read_csv(\n",
    "    os.path.join(data_dir, \"name.basics.tsv.gz\"),\n",
    "    separator=\"\\t\",\n",
    "    ignore_errors=True,\n",
    ")\n",
    "\n",
    "df_principals = df_principals.join(df_names, on=\"nconst\")\n",
    "\n",
    "df_principals"
   ]
  },
  {
   "cell_type": "code",
   "execution_count": 10,
   "metadata": {},
   "outputs": [
    {
     "data": {
      "text/html": [
       "<div><style>\n",
       ".dataframe > thead > tr,\n",
       ".dataframe > tbody > tr {\n",
       "  text-align: right;\n",
       "  white-space: pre-wrap;\n",
       "}\n",
       "</style>\n",
       "<small>shape: (311_727, 3)</small><table border=\"1\" class=\"dataframe\"><thead><tr><th>tconst</th><th>primaryName</th><th>category</th></tr><tr><td>str</td><td>list[str]</td><td>list[str]</td></tr></thead><tbody><tr><td>&quot;tt6278982&quot;</td><td>[&quot;Alan Daicz&quot;, &quot;Malena Villa&quot;, … &quot;Gabriel Nicoli&quot;]</td><td>[&quot;actor&quot;, &quot;actress&quot;, … &quot;editor&quot;]</td></tr><tr><td>&quot;tt27803347&quot;</td><td>[&quot;Stephen Lang&quot;, &quot;Elsie Fisher&quot;, … &quot;Martin Vackár&quot;]</td><td>[&quot;actor&quot;, &quot;actress&quot;, … &quot;production_designer&quot;]</td></tr><tr><td>&quot;tt16278434&quot;</td><td>[&quot;Louis Mandylor&quot;, &quot;Kevin Gage&quot;, … &quot;Majo Castillo&quot;]</td><td>[&quot;actor&quot;, &quot;actor&quot;, … &quot;production_designer&quot;]</td></tr><tr><td>&quot;tt0190075&quot;</td><td>[&quot;Kenji Sawada&quot;, &quot;Kanako Higuchi&quot;, … &quot;Akimasa Kawashima&quot;]</td><td>[&quot;actor&quot;, &quot;actress&quot;, … &quot;editor&quot;]</td></tr><tr><td>&quot;tt19499656&quot;</td><td>[&quot;Sophie Edwards&quot;, &quot;Randy Havens&quot;, … &quot;Matt Brohammer&quot;]</td><td>[&quot;actress&quot;, &quot;actor&quot;, … &quot;production_designer&quot;]</td></tr><tr><td>&hellip;</td><td>&hellip;</td><td>&hellip;</td></tr><tr><td>&quot;tt29137349&quot;</td><td>[&quot;Devadarshini Chetan&quot;, &quot;Mullai Kothandam&quot;, … &quot;A.L. Ramesh&quot;]</td><td>[&quot;actress&quot;, &quot;actor&quot;, … &quot;editor&quot;]</td></tr><tr><td>&quot;tt0373685&quot;</td><td>[&quot;Mala Sinha&quot;, &quot;Sanjeev Kumar&quot;, … &quot;Shankarsingh Raghuwanshi&quot;]</td><td>[&quot;actress&quot;, &quot;actor&quot;, … &quot;composer&quot;]</td></tr><tr><td>&quot;tt0774039&quot;</td><td>[&quot;Douglas W. Phillips&quot;, &quot;Geoffery Botkin&quot;, … &quot;Elizabeth Botkin&quot;]</td><td>[&quot;self&quot;, &quot;director&quot;, … &quot;composer&quot;]</td></tr><tr><td>&quot;tt0059649&quot;</td><td>[&quot;Maximilian Schell&quot;, &quot;Samantha Eggar&quot;, … &quot;Michael Stringer&quot;]</td><td>[&quot;actor&quot;, &quot;actress&quot;, … &quot;production_designer&quot;]</td></tr><tr><td>&quot;tt0356778&quot;</td><td>[&quot;Napolean&quot;, &quot;Sangeetha&quot;, … &quot;D. Pushpan&quot;]</td><td>[&quot;actor&quot;, &quot;actress&quot;, … &quot;cinematographer&quot;]</td></tr></tbody></table></div>"
      ],
      "text/plain": [
       "shape: (311_727, 3)\n",
       "┌────────────┬─────────────────────────────────┬─────────────────────────────────┐\n",
       "│ tconst     ┆ primaryName                     ┆ category                        │\n",
       "│ ---        ┆ ---                             ┆ ---                             │\n",
       "│ str        ┆ list[str]                       ┆ list[str]                       │\n",
       "╞════════════╪═════════════════════════════════╪═════════════════════════════════╡\n",
       "│ tt6278982  ┆ [\"Alan Daicz\", \"Malena Villa\",… ┆ [\"actor\", \"actress\", … \"editor… │\n",
       "│ tt27803347 ┆ [\"Stephen Lang\", \"Elsie Fisher… ┆ [\"actor\", \"actress\", … \"produc… │\n",
       "│ tt16278434 ┆ [\"Louis Mandylor\", \"Kevin Gage… ┆ [\"actor\", \"actor\", … \"producti… │\n",
       "│ tt0190075  ┆ [\"Kenji Sawada\", \"Kanako Higuc… ┆ [\"actor\", \"actress\", … \"editor… │\n",
       "│ tt19499656 ┆ [\"Sophie Edwards\", \"Randy Have… ┆ [\"actress\", \"actor\", … \"produc… │\n",
       "│ …          ┆ …                               ┆ …                               │\n",
       "│ tt29137349 ┆ [\"Devadarshini Chetan\", \"Mulla… ┆ [\"actress\", \"actor\", … \"editor… │\n",
       "│ tt0373685  ┆ [\"Mala Sinha\", \"Sanjeev Kumar\"… ┆ [\"actress\", \"actor\", … \"compos… │\n",
       "│ tt0774039  ┆ [\"Douglas W. Phillips\", \"Geoff… ┆ [\"self\", \"director\", … \"compos… │\n",
       "│ tt0059649  ┆ [\"Maximilian Schell\", \"Samanth… ┆ [\"actor\", \"actress\", … \"produc… │\n",
       "│ tt0356778  ┆ [\"Napolean\", \"Sangeetha\", … \"D… ┆ [\"actor\", \"actress\", … \"cinema… │\n",
       "└────────────┴─────────────────────────────────┴─────────────────────────────────┘"
      ]
     },
     "execution_count": 10,
     "metadata": {},
     "output_type": "execute_result"
    }
   ],
   "source": [
    "df_principals_agg = df_principals.group_by(\"tconst\").agg(\n",
    "    pl.col(\"primaryName\").sort_by(pl.col(\"ordering\")),\n",
    "    pl.col(\"category\").sort_by(pl.col(\"ordering\")),\n",
    ")\n",
    "\n",
    "df_principals_agg"
   ]
  },
  {
   "cell_type": "markdown",
   "metadata": {},
   "source": [
    "## Crew\n"
   ]
  },
  {
   "cell_type": "code",
   "execution_count": 11,
   "metadata": {},
   "outputs": [
    {
     "data": {
      "text/html": [
       "<div><style>\n",
       ".dataframe > thead > tr,\n",
       ".dataframe > tbody > tr {\n",
       "  text-align: right;\n",
       "  white-space: pre-wrap;\n",
       "}\n",
       "</style>\n",
       "<small>shape: (315_091, 3)</small><table border=\"1\" class=\"dataframe\"><thead><tr><th>tconst</th><th>directors</th><th>writers</th></tr><tr><td>str</td><td>str</td><td>str</td></tr></thead><tbody><tr><td>&quot;tt0000009&quot;</td><td>&quot;nm0085156&quot;</td><td>&quot;nm0085156&quot;</td></tr><tr><td>&quot;tt0000147&quot;</td><td>&quot;nm0714557&quot;</td><td>&quot;\\N&quot;</td></tr><tr><td>&quot;tt0000502&quot;</td><td>&quot;nm0063413&quot;</td><td>&quot;nm0063413,nm0657268,nm0675388&quot;</td></tr><tr><td>&quot;tt0000574&quot;</td><td>&quot;nm0846879&quot;</td><td>&quot;nm0846879&quot;</td></tr><tr><td>&quot;tt0000591&quot;</td><td>&quot;nm0141150&quot;</td><td>&quot;nm0141150&quot;</td></tr><tr><td>&hellip;</td><td>&hellip;</td><td>&hellip;</td></tr><tr><td>&quot;tt9916362&quot;</td><td>&quot;nm1893148&quot;</td><td>&quot;nm1893148,nm3471432&quot;</td></tr><tr><td>&quot;tt9916428&quot;</td><td>&quot;nm0910951&quot;</td><td>&quot;\\N&quot;</td></tr><tr><td>&quot;tt9916538&quot;</td><td>&quot;nm4457074&quot;</td><td>&quot;nm4843252,nm4900525,nm2679404&quot;</td></tr><tr><td>&quot;tt9916706&quot;</td><td>&quot;nm7764440&quot;</td><td>&quot;nm7933903&quot;</td></tr><tr><td>&quot;tt9916730&quot;</td><td>&quot;nm10538612&quot;</td><td>&quot;nm10538612&quot;</td></tr></tbody></table></div>"
      ],
      "text/plain": [
       "shape: (315_091, 3)\n",
       "┌───────────┬────────────┬───────────────────────────────┐\n",
       "│ tconst    ┆ directors  ┆ writers                       │\n",
       "│ ---       ┆ ---        ┆ ---                           │\n",
       "│ str       ┆ str        ┆ str                           │\n",
       "╞═══════════╪════════════╪═══════════════════════════════╡\n",
       "│ tt0000009 ┆ nm0085156  ┆ nm0085156                     │\n",
       "│ tt0000147 ┆ nm0714557  ┆ \\N                            │\n",
       "│ tt0000502 ┆ nm0063413  ┆ nm0063413,nm0657268,nm0675388 │\n",
       "│ tt0000574 ┆ nm0846879  ┆ nm0846879                     │\n",
       "│ tt0000591 ┆ nm0141150  ┆ nm0141150                     │\n",
       "│ …         ┆ …          ┆ …                             │\n",
       "│ tt9916362 ┆ nm1893148  ┆ nm1893148,nm3471432           │\n",
       "│ tt9916428 ┆ nm0910951  ┆ \\N                            │\n",
       "│ tt9916538 ┆ nm4457074  ┆ nm4843252,nm4900525,nm2679404 │\n",
       "│ tt9916706 ┆ nm7764440  ┆ nm7933903                     │\n",
       "│ tt9916730 ┆ nm10538612 ┆ nm10538612                    │\n",
       "└───────────┴────────────┴───────────────────────────────┘"
      ]
     },
     "execution_count": 11,
     "metadata": {},
     "output_type": "execute_result"
    }
   ],
   "source": [
    "valid_tconst = df_denorm[\"tconst\"]\n",
    "\n",
    "df_crew = pl.read_csv(\n",
    "    os.path.join(data_dir, \"title.crew.tsv.gz\"),\n",
    "    separator=\"\\t\",\n",
    "    ignore_errors=True,\n",
    ")\n",
    "\n",
    "# df_principals = df_principals.join(df_denorm, on=\"tconst\").filter(pl.col(\"nconst\").is_not_null())\n",
    "df_crew = df_crew.filter(pl.col(\"tconst\").is_in(valid_tconst))\n",
    "\n",
    "# df_names = pl.read_csv(\n",
    "#     os.path.join(data_dir, \"name.basics.tsv.gz\"),\n",
    "#     separator=\"\\t\",\n",
    "#     ignore_errors=True,\n",
    "# )\n",
    "\n",
    "# df_principals = df_principals.join(df_names, on=\"nconst\")\n",
    "\n",
    "df_crew"
   ]
  },
  {
   "cell_type": "markdown",
   "metadata": {},
   "source": [
    "https://stackoverflow.com/questions/73699500/python-polars-split-string-column-into-many-columns-by-delimiter\n"
   ]
  },
  {
   "cell_type": "code",
   "execution_count": 12,
   "metadata": {},
   "outputs": [
    {
     "data": {
      "text/html": [
       "<div><style>\n",
       ".dataframe > thead > tr,\n",
       ".dataframe > tbody > tr {\n",
       "  text-align: right;\n",
       "  white-space: pre-wrap;\n",
       "}\n",
       "</style>\n",
       "<small>shape: (355_837, 2)</small><table border=\"1\" class=\"dataframe\"><thead><tr><th>tconst</th><th>directors</th></tr><tr><td>str</td><td>str</td></tr></thead><tbody><tr><td>&quot;tt0000009&quot;</td><td>&quot;nm0085156&quot;</td></tr><tr><td>&quot;tt0000147&quot;</td><td>&quot;nm0714557&quot;</td></tr><tr><td>&quot;tt0000502&quot;</td><td>&quot;nm0063413&quot;</td></tr><tr><td>&quot;tt0000574&quot;</td><td>&quot;nm0846879&quot;</td></tr><tr><td>&quot;tt0000591&quot;</td><td>&quot;nm0141150&quot;</td></tr><tr><td>&hellip;</td><td>&hellip;</td></tr><tr><td>&quot;tt9916362&quot;</td><td>&quot;nm1893148&quot;</td></tr><tr><td>&quot;tt9916428&quot;</td><td>&quot;nm0910951&quot;</td></tr><tr><td>&quot;tt9916538&quot;</td><td>&quot;nm4457074&quot;</td></tr><tr><td>&quot;tt9916706&quot;</td><td>&quot;nm7764440&quot;</td></tr><tr><td>&quot;tt9916730&quot;</td><td>&quot;nm10538612&quot;</td></tr></tbody></table></div>"
      ],
      "text/plain": [
       "shape: (355_837, 2)\n",
       "┌───────────┬────────────┐\n",
       "│ tconst    ┆ directors  │\n",
       "│ ---       ┆ ---        │\n",
       "│ str       ┆ str        │\n",
       "╞═══════════╪════════════╡\n",
       "│ tt0000009 ┆ nm0085156  │\n",
       "│ tt0000147 ┆ nm0714557  │\n",
       "│ tt0000502 ┆ nm0063413  │\n",
       "│ tt0000574 ┆ nm0846879  │\n",
       "│ tt0000591 ┆ nm0141150  │\n",
       "│ …         ┆ …          │\n",
       "│ tt9916362 ┆ nm1893148  │\n",
       "│ tt9916428 ┆ nm0910951  │\n",
       "│ tt9916538 ┆ nm4457074  │\n",
       "│ tt9916706 ┆ nm7764440  │\n",
       "│ tt9916730 ┆ nm10538612 │\n",
       "└───────────┴────────────┘"
      ]
     },
     "execution_count": 12,
     "metadata": {},
     "output_type": "execute_result"
    }
   ],
   "source": [
    "df_directors = (\n",
    "    df_crew.select([\"tconst\", \"directors\"])\n",
    "    .filter(pl.col(\"directors\") != \"\\\\N\")\n",
    "    .with_columns(pl.col(\"directors\").str.split(\",\"))\n",
    "    .explode(\"directors\")\n",
    ")\n",
    "df_directors"
   ]
  },
  {
   "cell_type": "code",
   "execution_count": 13,
   "metadata": {},
   "outputs": [
    {
     "data": {
      "text/html": [
       "<div><style>\n",
       ".dataframe > thead > tr,\n",
       ".dataframe > tbody > tr {\n",
       "  text-align: right;\n",
       "  white-space: pre-wrap;\n",
       "}\n",
       "</style>\n",
       "<small>shape: (530_250, 2)</small><table border=\"1\" class=\"dataframe\"><thead><tr><th>tconst</th><th>writers</th></tr><tr><td>str</td><td>str</td></tr></thead><tbody><tr><td>&quot;tt0000009&quot;</td><td>&quot;nm0085156&quot;</td></tr><tr><td>&quot;tt0000502&quot;</td><td>&quot;nm0063413&quot;</td></tr><tr><td>&quot;tt0000502&quot;</td><td>&quot;nm0657268&quot;</td></tr><tr><td>&quot;tt0000502&quot;</td><td>&quot;nm0675388&quot;</td></tr><tr><td>&quot;tt0000574&quot;</td><td>&quot;nm0846879&quot;</td></tr><tr><td>&hellip;</td><td>&hellip;</td></tr><tr><td>&quot;tt9916538&quot;</td><td>&quot;nm4843252&quot;</td></tr><tr><td>&quot;tt9916538&quot;</td><td>&quot;nm4900525&quot;</td></tr><tr><td>&quot;tt9916538&quot;</td><td>&quot;nm2679404&quot;</td></tr><tr><td>&quot;tt9916706&quot;</td><td>&quot;nm7933903&quot;</td></tr><tr><td>&quot;tt9916730&quot;</td><td>&quot;nm10538612&quot;</td></tr></tbody></table></div>"
      ],
      "text/plain": [
       "shape: (530_250, 2)\n",
       "┌───────────┬────────────┐\n",
       "│ tconst    ┆ writers    │\n",
       "│ ---       ┆ ---        │\n",
       "│ str       ┆ str        │\n",
       "╞═══════════╪════════════╡\n",
       "│ tt0000009 ┆ nm0085156  │\n",
       "│ tt0000502 ┆ nm0063413  │\n",
       "│ tt0000502 ┆ nm0657268  │\n",
       "│ tt0000502 ┆ nm0675388  │\n",
       "│ tt0000574 ┆ nm0846879  │\n",
       "│ …         ┆ …          │\n",
       "│ tt9916538 ┆ nm4843252  │\n",
       "│ tt9916538 ┆ nm4900525  │\n",
       "│ tt9916538 ┆ nm2679404  │\n",
       "│ tt9916706 ┆ nm7933903  │\n",
       "│ tt9916730 ┆ nm10538612 │\n",
       "└───────────┴────────────┘"
      ]
     },
     "execution_count": 13,
     "metadata": {},
     "output_type": "execute_result"
    }
   ],
   "source": [
    "df_writers = (\n",
    "    df_crew.select([\"tconst\", \"writers\"])\n",
    "    .filter(pl.col(\"writers\") != \"\\\\N\")\n",
    "    .with_columns(pl.col(\"writers\").str.split(\",\"))\n",
    "    .explode(\"writers\")\n",
    ")\n",
    "df_writers"
   ]
  },
  {
   "cell_type": "code",
   "execution_count": null,
   "metadata": {},
   "outputs": [],
   "source": []
  }
 ],
 "metadata": {
  "kernelspec": {
   "display_name": ".venv",
   "language": "python",
   "name": "python3"
  },
  "language_info": {
   "codemirror_mode": {
    "name": "ipython",
    "version": 3
   },
   "file_extension": ".py",
   "mimetype": "text/x-python",
   "name": "python",
   "nbconvert_exporter": "python",
   "pygments_lexer": "ipython3",
   "version": "3.12.6"
  }
 },
 "nbformat": 4,
 "nbformat_minor": 2
}
