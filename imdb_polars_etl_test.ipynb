{
 "cells": [
  {
   "cell_type": "markdown",
   "metadata": {},
   "source": [
    "https://developer.imdb.com/non-commercial-datasets/\n"
   ]
  },
  {
   "cell_type": "code",
   "execution_count": 1,
   "metadata": {},
   "outputs": [],
   "source": [
    "import polars as pl\n",
    "import os"
   ]
  },
  {
   "cell_type": "code",
   "execution_count": 2,
   "metadata": {},
   "outputs": [
    {
     "data": {
      "text/html": [
       "<div><style>\n",
       ".dataframe > thead > tr,\n",
       ".dataframe > tbody > tr {\n",
       "  text-align: right;\n",
       "  white-space: pre-wrap;\n",
       "}\n",
       "</style>\n",
       "<small>shape: (11_073_287, 9)</small><table border=\"1\" class=\"dataframe\"><thead><tr><th>tconst</th><th>titleType</th><th>primaryTitle</th><th>originalTitle</th><th>isAdult</th><th>startYear</th><th>endYear</th><th>runtimeMinutes</th><th>genres</th></tr><tr><td>str</td><td>str</td><td>str</td><td>str</td><td>i64</td><td>i64</td><td>str</td><td>str</td><td>str</td></tr></thead><tbody><tr><td>&quot;tt0000001&quot;</td><td>&quot;short&quot;</td><td>&quot;Carmencita&quot;</td><td>&quot;Carmencita&quot;</td><td>0</td><td>1894</td><td>&quot;\\N&quot;</td><td>&quot;1&quot;</td><td>&quot;Documentary,Short&quot;</td></tr><tr><td>&quot;tt0000002&quot;</td><td>&quot;short&quot;</td><td>&quot;Le clown et ses chiens&quot;</td><td>&quot;Le clown et ses chiens&quot;</td><td>0</td><td>1892</td><td>&quot;\\N&quot;</td><td>&quot;5&quot;</td><td>&quot;Animation,Short&quot;</td></tr><tr><td>&quot;tt0000003&quot;</td><td>&quot;short&quot;</td><td>&quot;Pauvre Pierrot&quot;</td><td>&quot;Pauvre Pierrot&quot;</td><td>0</td><td>1892</td><td>&quot;\\N&quot;</td><td>&quot;5&quot;</td><td>&quot;Animation,Comedy,Romance&quot;</td></tr><tr><td>&quot;tt0000004&quot;</td><td>&quot;short&quot;</td><td>&quot;Un bon bock&quot;</td><td>&quot;Un bon bock&quot;</td><td>0</td><td>1892</td><td>&quot;\\N&quot;</td><td>&quot;12&quot;</td><td>&quot;Animation,Short&quot;</td></tr><tr><td>&quot;tt0000005&quot;</td><td>&quot;short&quot;</td><td>&quot;Blacksmith Scene&quot;</td><td>&quot;Blacksmith Scene&quot;</td><td>0</td><td>1893</td><td>&quot;\\N&quot;</td><td>&quot;1&quot;</td><td>&quot;Comedy,Short&quot;</td></tr><tr><td>&hellip;</td><td>&hellip;</td><td>&hellip;</td><td>&hellip;</td><td>&hellip;</td><td>&hellip;</td><td>&hellip;</td><td>&hellip;</td><td>&hellip;</td></tr><tr><td>&quot;tt9916848&quot;</td><td>&quot;tvEpisode&quot;</td><td>&quot;Episode #3.17&quot;</td><td>&quot;Episode #3.17&quot;</td><td>0</td><td>2009</td><td>&quot;\\N&quot;</td><td>&quot;\\N&quot;</td><td>&quot;Action,Drama,Family&quot;</td></tr><tr><td>&quot;tt9916850&quot;</td><td>&quot;tvEpisode&quot;</td><td>&quot;Episode #3.19&quot;</td><td>&quot;Episode #3.19&quot;</td><td>0</td><td>2010</td><td>&quot;\\N&quot;</td><td>&quot;\\N&quot;</td><td>&quot;Action,Drama,Family&quot;</td></tr><tr><td>&quot;tt9916852&quot;</td><td>&quot;tvEpisode&quot;</td><td>&quot;Episode #3.20&quot;</td><td>&quot;Episode #3.20&quot;</td><td>0</td><td>2010</td><td>&quot;\\N&quot;</td><td>&quot;\\N&quot;</td><td>&quot;Action,Drama,Family&quot;</td></tr><tr><td>&quot;tt9916856&quot;</td><td>&quot;short&quot;</td><td>&quot;The Wind&quot;</td><td>&quot;The Wind&quot;</td><td>0</td><td>2015</td><td>&quot;\\N&quot;</td><td>&quot;27&quot;</td><td>&quot;Short&quot;</td></tr><tr><td>&quot;tt9916880&quot;</td><td>&quot;tvEpisode&quot;</td><td>&quot;Horrid Henry Knows It All&quot;</td><td>&quot;Horrid Henry Knows It All&quot;</td><td>0</td><td>2014</td><td>&quot;\\N&quot;</td><td>&quot;10&quot;</td><td>&quot;Adventure,Animation,Comedy&quot;</td></tr></tbody></table></div>"
      ],
      "text/plain": [
       "shape: (11_073_287, 9)\n",
       "┌───────────┬───────────┬────────────┬───────────┬───┬───────────┬─────────┬───────────┬───────────┐\n",
       "│ tconst    ┆ titleType ┆ primaryTit ┆ originalT ┆ … ┆ startYear ┆ endYear ┆ runtimeMi ┆ genres    │\n",
       "│ ---       ┆ ---       ┆ le         ┆ itle      ┆   ┆ ---       ┆ ---     ┆ nutes     ┆ ---       │\n",
       "│ str       ┆ str       ┆ ---        ┆ ---       ┆   ┆ i64       ┆ str     ┆ ---       ┆ str       │\n",
       "│           ┆           ┆ str        ┆ str       ┆   ┆           ┆         ┆ str       ┆           │\n",
       "╞═══════════╪═══════════╪════════════╪═══════════╪═══╪═══════════╪═════════╪═══════════╪═══════════╡\n",
       "│ tt0000001 ┆ short     ┆ Carmencita ┆ Carmencit ┆ … ┆ 1894      ┆ \\N      ┆ 1         ┆ Documenta │\n",
       "│           ┆           ┆            ┆ a         ┆   ┆           ┆         ┆           ┆ ry,Short  │\n",
       "│ tt0000002 ┆ short     ┆ Le clown   ┆ Le clown  ┆ … ┆ 1892      ┆ \\N      ┆ 5         ┆ Animation │\n",
       "│           ┆           ┆ et ses     ┆ et ses    ┆   ┆           ┆         ┆           ┆ ,Short    │\n",
       "│           ┆           ┆ chiens     ┆ chiens    ┆   ┆           ┆         ┆           ┆           │\n",
       "│ tt0000003 ┆ short     ┆ Pauvre     ┆ Pauvre    ┆ … ┆ 1892      ┆ \\N      ┆ 5         ┆ Animation │\n",
       "│           ┆           ┆ Pierrot    ┆ Pierrot   ┆   ┆           ┆         ┆           ┆ ,Comedy,R │\n",
       "│           ┆           ┆            ┆           ┆   ┆           ┆         ┆           ┆ omance    │\n",
       "│ tt0000004 ┆ short     ┆ Un bon     ┆ Un bon    ┆ … ┆ 1892      ┆ \\N      ┆ 12        ┆ Animation │\n",
       "│           ┆           ┆ bock       ┆ bock      ┆   ┆           ┆         ┆           ┆ ,Short    │\n",
       "│ tt0000005 ┆ short     ┆ Blacksmith ┆ Blacksmit ┆ … ┆ 1893      ┆ \\N      ┆ 1         ┆ Comedy,Sh │\n",
       "│           ┆           ┆ Scene      ┆ h Scene   ┆   ┆           ┆         ┆           ┆ ort       │\n",
       "│ …         ┆ …         ┆ …          ┆ …         ┆ … ┆ …         ┆ …       ┆ …         ┆ …         │\n",
       "│ tt9916848 ┆ tvEpisode ┆ Episode    ┆ Episode   ┆ … ┆ 2009      ┆ \\N      ┆ \\N        ┆ Action,Dr │\n",
       "│           ┆           ┆ #3.17      ┆ #3.17     ┆   ┆           ┆         ┆           ┆ ama,Famil │\n",
       "│           ┆           ┆            ┆           ┆   ┆           ┆         ┆           ┆ y         │\n",
       "│ tt9916850 ┆ tvEpisode ┆ Episode    ┆ Episode   ┆ … ┆ 2010      ┆ \\N      ┆ \\N        ┆ Action,Dr │\n",
       "│           ┆           ┆ #3.19      ┆ #3.19     ┆   ┆           ┆         ┆           ┆ ama,Famil │\n",
       "│           ┆           ┆            ┆           ┆   ┆           ┆         ┆           ┆ y         │\n",
       "│ tt9916852 ┆ tvEpisode ┆ Episode    ┆ Episode   ┆ … ┆ 2010      ┆ \\N      ┆ \\N        ┆ Action,Dr │\n",
       "│           ┆           ┆ #3.20      ┆ #3.20     ┆   ┆           ┆         ┆           ┆ ama,Famil │\n",
       "│           ┆           ┆            ┆           ┆   ┆           ┆         ┆           ┆ y         │\n",
       "│ tt9916856 ┆ short     ┆ The Wind   ┆ The Wind  ┆ … ┆ 2015      ┆ \\N      ┆ 27        ┆ Short     │\n",
       "│ tt9916880 ┆ tvEpisode ┆ Horrid     ┆ Horrid    ┆ … ┆ 2014      ┆ \\N      ┆ 10        ┆ Adventure │\n",
       "│           ┆           ┆ Henry      ┆ Henry     ┆   ┆           ┆         ┆           ┆ ,Animatio │\n",
       "│           ┆           ┆ Knows It   ┆ Knows It  ┆   ┆           ┆         ┆           ┆ n,Comedy  │\n",
       "│           ┆           ┆ All        ┆ All       ┆   ┆           ┆         ┆           ┆           │\n",
       "└───────────┴───────────┴────────────┴───────────┴───┴───────────┴─────────┴───────────┴───────────┘"
      ]
     },
     "execution_count": 2,
     "metadata": {},
     "output_type": "execute_result"
    }
   ],
   "source": [
    "data_dir = \"/Users/maxwoolf/Downloads\"\n",
    "\n",
    "df_titles = pl.read_csv(\n",
    "    os.path.join(data_dir, \"title.basics.tsv.gz\"), separator=\"\\t\", ignore_errors=True\n",
    ")\n",
    "\n",
    "df_titles"
   ]
  },
  {
   "cell_type": "code",
   "execution_count": 3,
   "metadata": {},
   "outputs": [
    {
     "data": {
      "text/plain": [
       "['videoGame',\n",
       " 'tvSeries',\n",
       " 'tvShort',\n",
       " 'tvSpecial',\n",
       " 'video',\n",
       " 'tvEpisode',\n",
       " 'tvPilot',\n",
       " 'tvMovie',\n",
       " 'tvMiniSeries',\n",
       " 'movie',\n",
       " 'short']"
      ]
     },
     "execution_count": 3,
     "metadata": {},
     "output_type": "execute_result"
    }
   ],
   "source": [
    "df_titles[\"titleType\"].unique().to_list()"
   ]
  },
  {
   "cell_type": "code",
   "execution_count": 4,
   "metadata": {},
   "outputs": [
    {
     "data": {
      "text/html": [
       "<div><style>\n",
       ".dataframe > thead > tr,\n",
       ".dataframe > tbody > tr {\n",
       "  text-align: right;\n",
       "  white-space: pre-wrap;\n",
       "}\n",
       "</style>\n",
       "<small>shape: (691_896, 9)</small><table border=\"1\" class=\"dataframe\"><thead><tr><th>tconst</th><th>titleType</th><th>primaryTitle</th><th>originalTitle</th><th>isAdult</th><th>startYear</th><th>endYear</th><th>runtimeMinutes</th><th>genres</th></tr><tr><td>str</td><td>str</td><td>str</td><td>str</td><td>i64</td><td>i64</td><td>str</td><td>str</td><td>str</td></tr></thead><tbody><tr><td>&quot;tt0000009&quot;</td><td>&quot;movie&quot;</td><td>&quot;Miss Jerry&quot;</td><td>&quot;Miss Jerry&quot;</td><td>0</td><td>1894</td><td>&quot;\\N&quot;</td><td>&quot;45&quot;</td><td>&quot;Romance&quot;</td></tr><tr><td>&quot;tt0000147&quot;</td><td>&quot;movie&quot;</td><td>&quot;The Corbett-Fitzsimmons Fight&quot;</td><td>&quot;The Corbett-Fitzsimmons Fight&quot;</td><td>0</td><td>1897</td><td>&quot;\\N&quot;</td><td>&quot;100&quot;</td><td>&quot;Documentary,News,Sport&quot;</td></tr><tr><td>&quot;tt0000502&quot;</td><td>&quot;movie&quot;</td><td>&quot;Bohemios&quot;</td><td>&quot;Bohemios&quot;</td><td>0</td><td>1905</td><td>&quot;\\N&quot;</td><td>&quot;100&quot;</td><td>&quot;\\N&quot;</td></tr><tr><td>&quot;tt0000574&quot;</td><td>&quot;movie&quot;</td><td>&quot;The Story of the Kelly Gang&quot;</td><td>&quot;The Story of the Kelly Gang&quot;</td><td>0</td><td>1906</td><td>&quot;\\N&quot;</td><td>&quot;70&quot;</td><td>&quot;Action,Adventure,Biography&quot;</td></tr><tr><td>&quot;tt0000591&quot;</td><td>&quot;movie&quot;</td><td>&quot;The Prodigal Son&quot;</td><td>&quot;L&#x27;enfant prodigue&quot;</td><td>0</td><td>1907</td><td>&quot;\\N&quot;</td><td>&quot;90&quot;</td><td>&quot;Drama&quot;</td></tr><tr><td>&hellip;</td><td>&hellip;</td><td>&hellip;</td><td>&hellip;</td><td>&hellip;</td><td>&hellip;</td><td>&hellip;</td><td>&hellip;</td><td>&hellip;</td></tr><tr><td>&quot;tt9916622&quot;</td><td>&quot;movie&quot;</td><td>&quot;Rodolpho Teóphilo - O Legado d…</td><td>&quot;Rodolpho Teóphilo - O Legado d…</td><td>0</td><td>2015</td><td>&quot;\\N&quot;</td><td>&quot;57&quot;</td><td>&quot;Documentary&quot;</td></tr><tr><td>&quot;tt9916680&quot;</td><td>&quot;movie&quot;</td><td>&quot;De la ilusión al desconcierto:…</td><td>&quot;De la ilusión al desconcierto:…</td><td>0</td><td>2007</td><td>&quot;\\N&quot;</td><td>&quot;100&quot;</td><td>&quot;Documentary&quot;</td></tr><tr><td>&quot;tt9916706&quot;</td><td>&quot;movie&quot;</td><td>&quot;Dankyavar Danka&quot;</td><td>&quot;Dankyavar Danka&quot;</td><td>0</td><td>2013</td><td>&quot;\\N&quot;</td><td>&quot;\\N&quot;</td><td>&quot;Comedy&quot;</td></tr><tr><td>&quot;tt9916730&quot;</td><td>&quot;movie&quot;</td><td>&quot;6 Gunn&quot;</td><td>&quot;6 Gunn&quot;</td><td>0</td><td>2017</td><td>&quot;\\N&quot;</td><td>&quot;116&quot;</td><td>&quot;Drama&quot;</td></tr><tr><td>&quot;tt9916754&quot;</td><td>&quot;movie&quot;</td><td>&quot;Chico Albuquerque - Revelações&quot;</td><td>&quot;Chico Albuquerque - Revelações&quot;</td><td>0</td><td>2013</td><td>&quot;\\N&quot;</td><td>&quot;49&quot;</td><td>&quot;Documentary&quot;</td></tr></tbody></table></div>"
      ],
      "text/plain": [
       "shape: (691_896, 9)\n",
       "┌───────────┬───────────┬────────────┬───────────┬───┬───────────┬─────────┬───────────┬───────────┐\n",
       "│ tconst    ┆ titleType ┆ primaryTit ┆ originalT ┆ … ┆ startYear ┆ endYear ┆ runtimeMi ┆ genres    │\n",
       "│ ---       ┆ ---       ┆ le         ┆ itle      ┆   ┆ ---       ┆ ---     ┆ nutes     ┆ ---       │\n",
       "│ str       ┆ str       ┆ ---        ┆ ---       ┆   ┆ i64       ┆ str     ┆ ---       ┆ str       │\n",
       "│           ┆           ┆ str        ┆ str       ┆   ┆           ┆         ┆ str       ┆           │\n",
       "╞═══════════╪═══════════╪════════════╪═══════════╪═══╪═══════════╪═════════╪═══════════╪═══════════╡\n",
       "│ tt0000009 ┆ movie     ┆ Miss Jerry ┆ Miss      ┆ … ┆ 1894      ┆ \\N      ┆ 45        ┆ Romance   │\n",
       "│           ┆           ┆            ┆ Jerry     ┆   ┆           ┆         ┆           ┆           │\n",
       "│ tt0000147 ┆ movie     ┆ The Corbet ┆ The Corbe ┆ … ┆ 1897      ┆ \\N      ┆ 100       ┆ Documenta │\n",
       "│           ┆           ┆ t-Fitzsimm ┆ tt-Fitzsi ┆   ┆           ┆         ┆           ┆ ry,News,S │\n",
       "│           ┆           ┆ ons Fight  ┆ mmons     ┆   ┆           ┆         ┆           ┆ port      │\n",
       "│           ┆           ┆            ┆ Fight     ┆   ┆           ┆         ┆           ┆           │\n",
       "│ tt0000502 ┆ movie     ┆ Bohemios   ┆ Bohemios  ┆ … ┆ 1905      ┆ \\N      ┆ 100       ┆ \\N        │\n",
       "│ tt0000574 ┆ movie     ┆ The Story  ┆ The Story ┆ … ┆ 1906      ┆ \\N      ┆ 70        ┆ Action,Ad │\n",
       "│           ┆           ┆ of the     ┆ of the    ┆   ┆           ┆         ┆           ┆ venture,B │\n",
       "│           ┆           ┆ Kelly Gang ┆ Kelly     ┆   ┆           ┆         ┆           ┆ iography  │\n",
       "│           ┆           ┆            ┆ Gang      ┆   ┆           ┆         ┆           ┆           │\n",
       "│ tt0000591 ┆ movie     ┆ The        ┆ L'enfant  ┆ … ┆ 1907      ┆ \\N      ┆ 90        ┆ Drama     │\n",
       "│           ┆           ┆ Prodigal   ┆ prodigue  ┆   ┆           ┆         ┆           ┆           │\n",
       "│           ┆           ┆ Son        ┆           ┆   ┆           ┆         ┆           ┆           │\n",
       "│ …         ┆ …         ┆ …          ┆ …         ┆ … ┆ …         ┆ …       ┆ …         ┆ …         │\n",
       "│ tt9916622 ┆ movie     ┆ Rodolpho   ┆ Rodolpho  ┆ … ┆ 2015      ┆ \\N      ┆ 57        ┆ Documenta │\n",
       "│           ┆           ┆ Teóphilo - ┆ Teóphilo  ┆   ┆           ┆         ┆           ┆ ry        │\n",
       "│           ┆           ┆ O Legado   ┆ - O       ┆   ┆           ┆         ┆           ┆           │\n",
       "│           ┆           ┆ d…         ┆ Legado d… ┆   ┆           ┆         ┆           ┆           │\n",
       "│ tt9916680 ┆ movie     ┆ De la      ┆ De la     ┆ … ┆ 2007      ┆ \\N      ┆ 100       ┆ Documenta │\n",
       "│           ┆           ┆ ilusión al ┆ ilusión   ┆   ┆           ┆         ┆           ┆ ry        │\n",
       "│           ┆           ┆ desconcier ┆ al descon ┆   ┆           ┆         ┆           ┆           │\n",
       "│           ┆           ┆ to:…       ┆ cierto:…  ┆   ┆           ┆         ┆           ┆           │\n",
       "│ tt9916706 ┆ movie     ┆ Dankyavar  ┆ Dankyavar ┆ … ┆ 2013      ┆ \\N      ┆ \\N        ┆ Comedy    │\n",
       "│           ┆           ┆ Danka      ┆ Danka     ┆   ┆           ┆         ┆           ┆           │\n",
       "│ tt9916730 ┆ movie     ┆ 6 Gunn     ┆ 6 Gunn    ┆ … ┆ 2017      ┆ \\N      ┆ 116       ┆ Drama     │\n",
       "│ tt9916754 ┆ movie     ┆ Chico Albu ┆ Chico Alb ┆ … ┆ 2013      ┆ \\N      ┆ 49        ┆ Documenta │\n",
       "│           ┆           ┆ querque -  ┆ uquerque  ┆   ┆           ┆         ┆           ┆ ry        │\n",
       "│           ┆           ┆ Revelações ┆ - Revelaç ┆   ┆           ┆         ┆           ┆           │\n",
       "│           ┆           ┆            ┆ ões       ┆   ┆           ┆         ┆           ┆           │\n",
       "└───────────┴───────────┴────────────┴───────────┴───┴───────────┴─────────┴───────────┴───────────┘"
      ]
     },
     "execution_count": 4,
     "metadata": {},
     "output_type": "execute_result"
    }
   ],
   "source": [
    "df_titles = df_titles.filter(pl.col(\"titleType\") == \"movie\")\n",
    "df_titles"
   ]
  },
  {
   "cell_type": "code",
   "execution_count": 5,
   "metadata": {},
   "outputs": [
    {
     "data": {
      "text/html": [
       "<div><style>\n",
       ".dataframe > thead > tr,\n",
       ".dataframe > tbody > tr {\n",
       "  text-align: right;\n",
       "  white-space: pre-wrap;\n",
       "}\n",
       "</style>\n",
       "<small>shape: (1_475_767, 3)</small><table border=\"1\" class=\"dataframe\"><thead><tr><th>tconst</th><th>averageRating</th><th>numVotes</th></tr><tr><td>str</td><td>f64</td><td>i64</td></tr></thead><tbody><tr><td>&quot;tt0000001&quot;</td><td>5.7</td><td>2085</td></tr><tr><td>&quot;tt0000002&quot;</td><td>5.6</td><td>283</td></tr><tr><td>&quot;tt0000003&quot;</td><td>6.5</td><td>2089</td></tr><tr><td>&quot;tt0000004&quot;</td><td>5.4</td><td>184</td></tr><tr><td>&quot;tt0000005&quot;</td><td>6.2</td><td>2823</td></tr><tr><td>&hellip;</td><td>&hellip;</td><td>&hellip;</td></tr><tr><td>&quot;tt9916730&quot;</td><td>7.0</td><td>12</td></tr><tr><td>&quot;tt9916766&quot;</td><td>7.1</td><td>24</td></tr><tr><td>&quot;tt9916778&quot;</td><td>7.2</td><td>37</td></tr><tr><td>&quot;tt9916840&quot;</td><td>7.2</td><td>10</td></tr><tr><td>&quot;tt9916880&quot;</td><td>8.6</td><td>8</td></tr></tbody></table></div>"
      ],
      "text/plain": [
       "shape: (1_475_767, 3)\n",
       "┌───────────┬───────────────┬──────────┐\n",
       "│ tconst    ┆ averageRating ┆ numVotes │\n",
       "│ ---       ┆ ---           ┆ ---      │\n",
       "│ str       ┆ f64           ┆ i64      │\n",
       "╞═══════════╪═══════════════╪══════════╡\n",
       "│ tt0000001 ┆ 5.7           ┆ 2085     │\n",
       "│ tt0000002 ┆ 5.6           ┆ 283      │\n",
       "│ tt0000003 ┆ 6.5           ┆ 2089     │\n",
       "│ tt0000004 ┆ 5.4           ┆ 184      │\n",
       "│ tt0000005 ┆ 6.2           ┆ 2823     │\n",
       "│ …         ┆ …             ┆ …        │\n",
       "│ tt9916730 ┆ 7.0           ┆ 12       │\n",
       "│ tt9916766 ┆ 7.1           ┆ 24       │\n",
       "│ tt9916778 ┆ 7.2           ┆ 37       │\n",
       "│ tt9916840 ┆ 7.2           ┆ 10       │\n",
       "│ tt9916880 ┆ 8.6           ┆ 8        │\n",
       "└───────────┴───────────────┴──────────┘"
      ]
     },
     "execution_count": 5,
     "metadata": {},
     "output_type": "execute_result"
    }
   ],
   "source": [
    "df_ratings = pl.read_csv(\n",
    "    os.path.join(data_dir, \"title.ratings.tsv.gz\"), separator=\"\\t\", ignore_errors=True\n",
    ")\n",
    "\n",
    "df_ratings"
   ]
  },
  {
   "cell_type": "markdown",
   "metadata": {},
   "source": [
    "Make the base table as small as possible before unnesting/joining.\n"
   ]
  },
  {
   "cell_type": "code",
   "execution_count": 32,
   "metadata": {},
   "outputs": [
    {
     "data": {
      "text/html": [
       "<div><style>\n",
       ".dataframe > thead > tr,\n",
       ".dataframe > tbody > tr {\n",
       "  text-align: right;\n",
       "  white-space: pre-wrap;\n",
       "}\n",
       "</style>\n",
       "<small>shape: (315_665, 11)</small><table border=\"1\" class=\"dataframe\"><thead><tr><th>tconst</th><th>titleType</th><th>primaryTitle</th><th>originalTitle</th><th>isAdult</th><th>startYear</th><th>endYear</th><th>runtimeMinutes</th><th>genres</th><th>averageRating</th><th>numVotes</th></tr><tr><td>str</td><td>str</td><td>str</td><td>str</td><td>i64</td><td>i64</td><td>str</td><td>str</td><td>str</td><td>f64</td><td>i64</td></tr></thead><tbody><tr><td>&quot;tt9916730&quot;</td><td>&quot;movie&quot;</td><td>&quot;6 Gunn&quot;</td><td>&quot;6 Gunn&quot;</td><td>0</td><td>2017</td><td>&quot;\\N&quot;</td><td>&quot;116&quot;</td><td>&quot;Drama&quot;</td><td>7.0</td><td>12</td></tr><tr><td>&quot;tt9916706&quot;</td><td>&quot;movie&quot;</td><td>&quot;Dankyavar Danka&quot;</td><td>&quot;Dankyavar Danka&quot;</td><td>0</td><td>2013</td><td>&quot;\\N&quot;</td><td>&quot;\\N&quot;</td><td>&quot;Comedy&quot;</td><td>7.8</td><td>6</td></tr><tr><td>&quot;tt9916538&quot;</td><td>&quot;movie&quot;</td><td>&quot;Kuambil Lagi Hatiku&quot;</td><td>&quot;Kuambil Lagi Hatiku&quot;</td><td>0</td><td>2019</td><td>&quot;\\N&quot;</td><td>&quot;123&quot;</td><td>&quot;Drama&quot;</td><td>8.3</td><td>9</td></tr><tr><td>&quot;tt9916428&quot;</td><td>&quot;movie&quot;</td><td>&quot;The Secret of China&quot;</td><td>&quot;Hong xing zhao yao Zhong guo&quot;</td><td>0</td><td>2019</td><td>&quot;\\N&quot;</td><td>&quot;\\N&quot;</td><td>&quot;Adventure,History,War&quot;</td><td>3.6</td><td>19</td></tr><tr><td>&quot;tt9916362&quot;</td><td>&quot;movie&quot;</td><td>&quot;Coven&quot;</td><td>&quot;Akelarre&quot;</td><td>0</td><td>2020</td><td>&quot;\\N&quot;</td><td>&quot;92&quot;</td><td>&quot;Drama,History&quot;</td><td>6.4</td><td>5893</td></tr><tr><td>&hellip;</td><td>&hellip;</td><td>&hellip;</td><td>&hellip;</td><td>&hellip;</td><td>&hellip;</td><td>&hellip;</td><td>&hellip;</td><td>&hellip;</td><td>&hellip;</td><td>&hellip;</td></tr><tr><td>&quot;tt0000591&quot;</td><td>&quot;movie&quot;</td><td>&quot;The Prodigal Son&quot;</td><td>&quot;L&#x27;enfant prodigue&quot;</td><td>0</td><td>1907</td><td>&quot;\\N&quot;</td><td>&quot;90&quot;</td><td>&quot;Drama&quot;</td><td>5.7</td><td>28</td></tr><tr><td>&quot;tt0000574&quot;</td><td>&quot;movie&quot;</td><td>&quot;The Story of the Kelly Gang&quot;</td><td>&quot;The Story of the Kelly Gang&quot;</td><td>0</td><td>1906</td><td>&quot;\\N&quot;</td><td>&quot;70&quot;</td><td>&quot;Action,Adventure,Biography&quot;</td><td>6.0</td><td>928</td></tr><tr><td>&quot;tt0000502&quot;</td><td>&quot;movie&quot;</td><td>&quot;Bohemios&quot;</td><td>&quot;Bohemios&quot;</td><td>0</td><td>1905</td><td>&quot;\\N&quot;</td><td>&quot;100&quot;</td><td>&quot;\\N&quot;</td><td>4.4</td><td>18</td></tr><tr><td>&quot;tt0000147&quot;</td><td>&quot;movie&quot;</td><td>&quot;The Corbett-Fitzsimmons Fight&quot;</td><td>&quot;The Corbett-Fitzsimmons Fight&quot;</td><td>0</td><td>1897</td><td>&quot;\\N&quot;</td><td>&quot;100&quot;</td><td>&quot;Documentary,News,Sport&quot;</td><td>5.2</td><td>529</td></tr><tr><td>&quot;tt0000009&quot;</td><td>&quot;movie&quot;</td><td>&quot;Miss Jerry&quot;</td><td>&quot;Miss Jerry&quot;</td><td>0</td><td>1894</td><td>&quot;\\N&quot;</td><td>&quot;45&quot;</td><td>&quot;Romance&quot;</td><td>5.4</td><td>213</td></tr></tbody></table></div>"
      ],
      "text/plain": [
       "shape: (315_665, 11)\n",
       "┌───────────┬───────────┬───────────┬───────────┬───┬───────────┬───────────┬───────────┬──────────┐\n",
       "│ tconst    ┆ titleType ┆ primaryTi ┆ originalT ┆ … ┆ runtimeMi ┆ genres    ┆ averageRa ┆ numVotes │\n",
       "│ ---       ┆ ---       ┆ tle       ┆ itle      ┆   ┆ nutes     ┆ ---       ┆ ting      ┆ ---      │\n",
       "│ str       ┆ str       ┆ ---       ┆ ---       ┆   ┆ ---       ┆ str       ┆ ---       ┆ i64      │\n",
       "│           ┆           ┆ str       ┆ str       ┆   ┆ str       ┆           ┆ f64       ┆          │\n",
       "╞═══════════╪═══════════╪═══════════╪═══════════╪═══╪═══════════╪═══════════╪═══════════╪══════════╡\n",
       "│ tt9916730 ┆ movie     ┆ 6 Gunn    ┆ 6 Gunn    ┆ … ┆ 116       ┆ Drama     ┆ 7.0       ┆ 12       │\n",
       "│ tt9916706 ┆ movie     ┆ Dankyavar ┆ Dankyavar ┆ … ┆ \\N        ┆ Comedy    ┆ 7.8       ┆ 6        │\n",
       "│           ┆           ┆ Danka     ┆ Danka     ┆   ┆           ┆           ┆           ┆          │\n",
       "│ tt9916538 ┆ movie     ┆ Kuambil   ┆ Kuambil   ┆ … ┆ 123       ┆ Drama     ┆ 8.3       ┆ 9        │\n",
       "│           ┆           ┆ Lagi      ┆ Lagi      ┆   ┆           ┆           ┆           ┆          │\n",
       "│           ┆           ┆ Hatiku    ┆ Hatiku    ┆   ┆           ┆           ┆           ┆          │\n",
       "│ tt9916428 ┆ movie     ┆ The       ┆ Hong xing ┆ … ┆ \\N        ┆ Adventure ┆ 3.6       ┆ 19       │\n",
       "│           ┆           ┆ Secret of ┆ zhao yao  ┆   ┆           ┆ ,History, ┆           ┆          │\n",
       "│           ┆           ┆ China     ┆ Zhong guo ┆   ┆           ┆ War       ┆           ┆          │\n",
       "│ tt9916362 ┆ movie     ┆ Coven     ┆ Akelarre  ┆ … ┆ 92        ┆ Drama,His ┆ 6.4       ┆ 5893     │\n",
       "│           ┆           ┆           ┆           ┆   ┆           ┆ tory      ┆           ┆          │\n",
       "│ …         ┆ …         ┆ …         ┆ …         ┆ … ┆ …         ┆ …         ┆ …         ┆ …        │\n",
       "│ tt0000591 ┆ movie     ┆ The       ┆ L'enfant  ┆ … ┆ 90        ┆ Drama     ┆ 5.7       ┆ 28       │\n",
       "│           ┆           ┆ Prodigal  ┆ prodigue  ┆   ┆           ┆           ┆           ┆          │\n",
       "│           ┆           ┆ Son       ┆           ┆   ┆           ┆           ┆           ┆          │\n",
       "│ tt0000574 ┆ movie     ┆ The Story ┆ The Story ┆ … ┆ 70        ┆ Action,Ad ┆ 6.0       ┆ 928      │\n",
       "│           ┆           ┆ of the    ┆ of the    ┆   ┆           ┆ venture,B ┆           ┆          │\n",
       "│           ┆           ┆ Kelly     ┆ Kelly     ┆   ┆           ┆ iography  ┆           ┆          │\n",
       "│           ┆           ┆ Gang      ┆ Gang      ┆   ┆           ┆           ┆           ┆          │\n",
       "│ tt0000502 ┆ movie     ┆ Bohemios  ┆ Bohemios  ┆ … ┆ 100       ┆ \\N        ┆ 4.4       ┆ 18       │\n",
       "│ tt0000147 ┆ movie     ┆ The Corbe ┆ The Corbe ┆ … ┆ 100       ┆ Documenta ┆ 5.2       ┆ 529      │\n",
       "│           ┆           ┆ tt-Fitzsi ┆ tt-Fitzsi ┆   ┆           ┆ ry,News,S ┆           ┆          │\n",
       "│           ┆           ┆ mmons     ┆ mmons     ┆   ┆           ┆ port      ┆           ┆          │\n",
       "│           ┆           ┆ Fight     ┆ Fight     ┆   ┆           ┆           ┆           ┆          │\n",
       "│ tt0000009 ┆ movie     ┆ Miss      ┆ Miss      ┆ … ┆ 45        ┆ Romance   ┆ 5.4       ┆ 213      │\n",
       "│           ┆           ┆ Jerry     ┆ Jerry     ┆   ┆           ┆           ┆           ┆          │\n",
       "└───────────┴───────────┴───────────┴───────────┴───┴───────────┴───────────┴───────────┴──────────┘"
      ]
     },
     "execution_count": 32,
     "metadata": {},
     "output_type": "execute_result"
    }
   ],
   "source": [
    "df_denorm = (\n",
    "    df_titles.join(df_ratings, on=\"tconst\")\n",
    "    .filter(pl.col(\"averageRating\").is_not_null())\n",
    "    # .with_columns(pl.col(\"genres\").str.split(\",\"))\n",
    "    .sort(\"tconst\", descending=True)\n",
    ")\n",
    "df_denorm"
   ]
  },
  {
   "cell_type": "code",
   "execution_count": 86,
   "metadata": {},
   "outputs": [
    {
     "data": {
      "text/html": [
       "<div><style>\n",
       ".dataframe > thead > tr,\n",
       ".dataframe > tbody > tr {\n",
       "  text-align: right;\n",
       "  white-space: pre-wrap;\n",
       "}\n",
       "</style>\n",
       "<small>shape: (4_112_123, 11)</small><table border=\"1\" class=\"dataframe\"><thead><tr><th>tconst</th><th>ordering</th><th>nconst</th><th>category</th><th>job</th><th>characters</th><th>primaryName</th><th>birthYear</th><th>deathYear</th><th>primaryProfession</th><th>knownForTitles</th></tr><tr><td>str</td><td>i64</td><td>str</td><td>str</td><td>str</td><td>str</td><td>str</td><td>str</td><td>str</td><td>str</td><td>str</td></tr></thead><tbody><tr><td>&quot;tt0023926&quot;</td><td>6</td><td>&quot;nm0000001&quot;</td><td>&quot;actor&quot;</td><td>&quot;\\N&quot;</td><td>&quot;[&quot;Fred Astaire&quot;]&quot;</td><td>&quot;Fred Astaire&quot;</td><td>&quot;1899&quot;</td><td>&quot;1987&quot;</td><td>&quot;actor,miscellaneous,producer&quot;</td><td>&quot;tt0072308,tt0050419,tt0053137,…</td></tr><tr><td>&quot;tt0024025&quot;</td><td>5</td><td>&quot;nm0000001&quot;</td><td>&quot;actor&quot;</td><td>&quot;\\N&quot;</td><td>&quot;[&quot;Fred Ayres&quot;]&quot;</td><td>&quot;Fred Astaire&quot;</td><td>&quot;1899&quot;</td><td>&quot;1987&quot;</td><td>&quot;actor,miscellaneous,producer&quot;</td><td>&quot;tt0072308,tt0050419,tt0053137,…</td></tr><tr><td>&quot;tt0025164&quot;</td><td>1</td><td>&quot;nm0000001&quot;</td><td>&quot;actor&quot;</td><td>&quot;\\N&quot;</td><td>&quot;[&quot;Guy Holden&quot;]&quot;</td><td>&quot;Fred Astaire&quot;</td><td>&quot;1899&quot;</td><td>&quot;1987&quot;</td><td>&quot;actor,miscellaneous,producer&quot;</td><td>&quot;tt0072308,tt0050419,tt0053137,…</td></tr><tr><td>&quot;tt0026942&quot;</td><td>2</td><td>&quot;nm0000001&quot;</td><td>&quot;actor&quot;</td><td>&quot;\\N&quot;</td><td>&quot;[&quot;Huck Haines&quot;]&quot;</td><td>&quot;Fred Astaire&quot;</td><td>&quot;1899&quot;</td><td>&quot;1987&quot;</td><td>&quot;actor,miscellaneous,producer&quot;</td><td>&quot;tt0072308,tt0050419,tt0053137,…</td></tr><tr><td>&quot;tt0027125&quot;</td><td>1</td><td>&quot;nm0000001&quot;</td><td>&quot;actor&quot;</td><td>&quot;\\N&quot;</td><td>&quot;[&quot;Jerry Travers&quot;]&quot;</td><td>&quot;Fred Astaire&quot;</td><td>&quot;1899&quot;</td><td>&quot;1987&quot;</td><td>&quot;actor,miscellaneous,producer&quot;</td><td>&quot;tt0072308,tt0050419,tt0053137,…</td></tr><tr><td>&hellip;</td><td>&hellip;</td><td>&hellip;</td><td>&hellip;</td><td>&hellip;</td><td>&hellip;</td><td>&hellip;</td><td>&hellip;</td><td>&hellip;</td><td>&hellip;</td><td>&hellip;</td></tr><tr><td>&quot;tt25385692&quot;</td><td>2</td><td>&quot;nm9993693&quot;</td><td>&quot;actress&quot;</td><td>&quot;\\N&quot;</td><td>&quot;[&quot;Vidhi&quot;]&quot;</td><td>&quot;Apsara Rani&quot;</td><td>&quot;1996&quot;</td><td>&quot;\\N&quot;</td><td>&quot;actress&quot;</td><td>&quot;tt12856788,tt8302382,tt1384750…</td></tr><tr><td>&quot;tt28377858&quot;</td><td>9</td><td>&quot;nm9993693&quot;</td><td>&quot;actress&quot;</td><td>&quot;\\N&quot;</td><td>&quot;[&quot;Sara&quot;]&quot;</td><td>&quot;Apsara Rani&quot;</td><td>&quot;1996&quot;</td><td>&quot;\\N&quot;</td><td>&quot;actress&quot;</td><td>&quot;tt12856788,tt8302382,tt1384750…</td></tr><tr><td>&quot;tt33337159&quot;</td><td>4</td><td>&quot;nm9993693&quot;</td><td>&quot;actress&quot;</td><td>&quot;\\N&quot;</td><td>&quot;\\N&quot;</td><td>&quot;Apsara Rani&quot;</td><td>&quot;1996&quot;</td><td>&quot;\\N&quot;</td><td>&quot;actress&quot;</td><td>&quot;tt12856788,tt8302382,tt1384750…</td></tr><tr><td>&quot;tt9815360&quot;</td><td>2</td><td>&quot;nm9993693&quot;</td><td>&quot;actress&quot;</td><td>&quot;\\N&quot;</td><td>&quot;[&quot;Anupama&quot;]&quot;</td><td>&quot;Apsara Rani&quot;</td><td>&quot;1996&quot;</td><td>&quot;\\N&quot;</td><td>&quot;actress&quot;</td><td>&quot;tt12856788,tt8302382,tt1384750…</td></tr><tr><td>&quot;tt10140990&quot;</td><td>9</td><td>&quot;nm9993694&quot;</td><td>&quot;actor&quot;</td><td>&quot;\\N&quot;</td><td>&quot;[&quot;Susheel Panda&quot;]&quot;</td><td>&quot;Chinmay Mishra&quot;</td><td>&quot;\\N&quot;</td><td>&quot;\\N&quot;</td><td>&quot;actor,director,producer&quot;</td><td>&quot;tt18361688,tt18687502,tt873775…</td></tr></tbody></table></div>"
      ],
      "text/plain": [
       "shape: (4_112_123, 11)\n",
       "┌────────────┬──────────┬───────────┬──────────┬───┬───────────┬───────────┬───────────┬───────────┐\n",
       "│ tconst     ┆ ordering ┆ nconst    ┆ category ┆ … ┆ birthYear ┆ deathYear ┆ primaryPr ┆ knownForT │\n",
       "│ ---        ┆ ---      ┆ ---       ┆ ---      ┆   ┆ ---       ┆ ---       ┆ ofession  ┆ itles     │\n",
       "│ str        ┆ i64      ┆ str       ┆ str      ┆   ┆ str       ┆ str       ┆ ---       ┆ ---       │\n",
       "│            ┆          ┆           ┆          ┆   ┆           ┆           ┆ str       ┆ str       │\n",
       "╞════════════╪══════════╪═══════════╪══════════╪═══╪═══════════╪═══════════╪═══════════╪═══════════╡\n",
       "│ tt0023926  ┆ 6        ┆ nm0000001 ┆ actor    ┆ … ┆ 1899      ┆ 1987      ┆ actor,mis ┆ tt0072308 │\n",
       "│            ┆          ┆           ┆          ┆   ┆           ┆           ┆ cellaneou ┆ ,tt005041 │\n",
       "│            ┆          ┆           ┆          ┆   ┆           ┆           ┆ s,produce ┆ 9,tt00531 │\n",
       "│            ┆          ┆           ┆          ┆   ┆           ┆           ┆ r         ┆ 37,…      │\n",
       "│ tt0024025  ┆ 5        ┆ nm0000001 ┆ actor    ┆ … ┆ 1899      ┆ 1987      ┆ actor,mis ┆ tt0072308 │\n",
       "│            ┆          ┆           ┆          ┆   ┆           ┆           ┆ cellaneou ┆ ,tt005041 │\n",
       "│            ┆          ┆           ┆          ┆   ┆           ┆           ┆ s,produce ┆ 9,tt00531 │\n",
       "│            ┆          ┆           ┆          ┆   ┆           ┆           ┆ r         ┆ 37,…      │\n",
       "│ tt0025164  ┆ 1        ┆ nm0000001 ┆ actor    ┆ … ┆ 1899      ┆ 1987      ┆ actor,mis ┆ tt0072308 │\n",
       "│            ┆          ┆           ┆          ┆   ┆           ┆           ┆ cellaneou ┆ ,tt005041 │\n",
       "│            ┆          ┆           ┆          ┆   ┆           ┆           ┆ s,produce ┆ 9,tt00531 │\n",
       "│            ┆          ┆           ┆          ┆   ┆           ┆           ┆ r         ┆ 37,…      │\n",
       "│ tt0026942  ┆ 2        ┆ nm0000001 ┆ actor    ┆ … ┆ 1899      ┆ 1987      ┆ actor,mis ┆ tt0072308 │\n",
       "│            ┆          ┆           ┆          ┆   ┆           ┆           ┆ cellaneou ┆ ,tt005041 │\n",
       "│            ┆          ┆           ┆          ┆   ┆           ┆           ┆ s,produce ┆ 9,tt00531 │\n",
       "│            ┆          ┆           ┆          ┆   ┆           ┆           ┆ r         ┆ 37,…      │\n",
       "│ tt0027125  ┆ 1        ┆ nm0000001 ┆ actor    ┆ … ┆ 1899      ┆ 1987      ┆ actor,mis ┆ tt0072308 │\n",
       "│            ┆          ┆           ┆          ┆   ┆           ┆           ┆ cellaneou ┆ ,tt005041 │\n",
       "│            ┆          ┆           ┆          ┆   ┆           ┆           ┆ s,produce ┆ 9,tt00531 │\n",
       "│            ┆          ┆           ┆          ┆   ┆           ┆           ┆ r         ┆ 37,…      │\n",
       "│ …          ┆ …        ┆ …         ┆ …        ┆ … ┆ …         ┆ …         ┆ …         ┆ …         │\n",
       "│ tt25385692 ┆ 2        ┆ nm9993693 ┆ actress  ┆ … ┆ 1996      ┆ \\N        ┆ actress   ┆ tt1285678 │\n",
       "│            ┆          ┆           ┆          ┆   ┆           ┆           ┆           ┆ 8,tt83023 │\n",
       "│            ┆          ┆           ┆          ┆   ┆           ┆           ┆           ┆ 82,tt1384 │\n",
       "│            ┆          ┆           ┆          ┆   ┆           ┆           ┆           ┆ 750…      │\n",
       "│ tt28377858 ┆ 9        ┆ nm9993693 ┆ actress  ┆ … ┆ 1996      ┆ \\N        ┆ actress   ┆ tt1285678 │\n",
       "│            ┆          ┆           ┆          ┆   ┆           ┆           ┆           ┆ 8,tt83023 │\n",
       "│            ┆          ┆           ┆          ┆   ┆           ┆           ┆           ┆ 82,tt1384 │\n",
       "│            ┆          ┆           ┆          ┆   ┆           ┆           ┆           ┆ 750…      │\n",
       "│ tt33337159 ┆ 4        ┆ nm9993693 ┆ actress  ┆ … ┆ 1996      ┆ \\N        ┆ actress   ┆ tt1285678 │\n",
       "│            ┆          ┆           ┆          ┆   ┆           ┆           ┆           ┆ 8,tt83023 │\n",
       "│            ┆          ┆           ┆          ┆   ┆           ┆           ┆           ┆ 82,tt1384 │\n",
       "│            ┆          ┆           ┆          ┆   ┆           ┆           ┆           ┆ 750…      │\n",
       "│ tt9815360  ┆ 2        ┆ nm9993693 ┆ actress  ┆ … ┆ 1996      ┆ \\N        ┆ actress   ┆ tt1285678 │\n",
       "│            ┆          ┆           ┆          ┆   ┆           ┆           ┆           ┆ 8,tt83023 │\n",
       "│            ┆          ┆           ┆          ┆   ┆           ┆           ┆           ┆ 82,tt1384 │\n",
       "│            ┆          ┆           ┆          ┆   ┆           ┆           ┆           ┆ 750…      │\n",
       "│ tt10140990 ┆ 9        ┆ nm9993694 ┆ actor    ┆ … ┆ \\N        ┆ \\N        ┆ actor,dir ┆ tt1836168 │\n",
       "│            ┆          ┆           ┆          ┆   ┆           ┆           ┆ ector,pro ┆ 8,tt18687 │\n",
       "│            ┆          ┆           ┆          ┆   ┆           ┆           ┆ ducer     ┆ 502,tt873 │\n",
       "│            ┆          ┆           ┆          ┆   ┆           ┆           ┆           ┆ 775…      │\n",
       "└────────────┴──────────┴───────────┴──────────┴───┴───────────┴───────────┴───────────┴───────────┘"
      ]
     },
     "execution_count": 86,
     "metadata": {},
     "output_type": "execute_result"
    }
   ],
   "source": [
    "valid_tconst = df_denorm[\"tconst\"]\n",
    "\n",
    "df_principals = pl.read_csv(\n",
    "    os.path.join(data_dir, \"title.principals.tsv.gz\"),\n",
    "    separator=\"\\t\",\n",
    "    ignore_errors=True,\n",
    ")\n",
    "\n",
    "# df_principals = df_principals.join(df_denorm, on=\"tconst\").filter(pl.col(\"nconst\").is_not_null())\n",
    "df_principals = (\n",
    "    df_principals.filter(\n",
    "        pl.col(\"tconst\").is_in(valid_tconst),\n",
    "        ~pl.col(\"category\").is_in([\"writer\", \"director\"]),\n",
    "    )  # handling writer and director later\n",
    ")\n",
    "\n",
    "df_names = pl.read_csv(\n",
    "    os.path.join(data_dir, \"name.basics.tsv.gz\"),\n",
    "    separator=\"\\t\",\n",
    "    ignore_errors=True,\n",
    ")\n",
    "\n",
    "df_principals = df_principals.join(df_names, on=\"nconst\")\n",
    "\n",
    "df_principals"
   ]
  },
  {
   "cell_type": "code",
   "execution_count": 87,
   "metadata": {},
   "outputs": [
    {
     "data": {
      "text/html": [
       "<div><style>\n",
       ".dataframe > thead > tr,\n",
       ".dataframe > tbody > tr {\n",
       "  text-align: right;\n",
       "  white-space: pre-wrap;\n",
       "}\n",
       "</style>\n",
       "<small>shape: (310_121, 3)</small><table border=\"1\" class=\"dataframe\"><thead><tr><th>tconst</th><th>actor_name</th><th>actor_role</th></tr><tr><td>str</td><td>list[str]</td><td>list[str]</td></tr></thead><tbody><tr><td>&quot;tt1171669&quot;</td><td>[&quot;Marcin Tyrol&quot;, &quot;Miroslawa Zak&quot;, … &quot;Anna Wunderlich&quot;]</td><td>[&quot;actor&quot;, &quot;actress&quot;, … &quot;production_designer&quot;]</td></tr><tr><td>&quot;tt5666252&quot;</td><td>[&quot;Avni Dilligil&quot;, &quot;Tülin Elgin&quot;, … &quot;Cezmi Ar&quot;]</td><td>[&quot;actor&quot;, &quot;actress&quot;, … &quot;cinematographer&quot;]</td></tr><tr><td>&quot;tt0315841&quot;</td><td>[&quot;Ato Mukhamedzhanov&quot;, &quot;Umed Sadykov&quot;, … &quot;Vladimir Salimov&quot;]</td><td>[&quot;actor&quot;, &quot;actor&quot;, … &quot;production_designer&quot;]</td></tr><tr><td>&quot;tt8245904&quot;</td><td>[&quot;Grits Carter&quot;, &quot;Anne Nichols Brown&quot;, … &quot;Matthew Carroll&quot;]</td><td>[&quot;actor&quot;, &quot;actress&quot;, … &quot;casting_director&quot;]</td></tr><tr><td>&quot;tt0329161&quot;</td><td>[&quot;Shawn Hoffman&quot;, &quot;Kelly Chambers&quot;, … &quot;Jesse Benson&quot;]</td><td>[&quot;actor&quot;, &quot;actress&quot;, … &quot;production_designer&quot;]</td></tr><tr><td>&hellip;</td><td>&hellip;</td><td>&hellip;</td></tr><tr><td>&quot;tt1711018&quot;</td><td>[&quot;Eric Jay Beck&quot;, &quot;April Matson&quot;, … &quot;Peggy Paola&quot;]</td><td>[&quot;actor&quot;, &quot;actress&quot;, … &quot;production_designer&quot;]</td></tr><tr><td>&quot;tt7513360&quot;</td><td>[&quot;Lynne Newton&quot;, &quot;Lynne Newton&quot;, … &quot;Lynne Newton&quot;]</td><td>[&quot;actress&quot;, &quot;actress&quot;, … &quot;production_designer&quot;]</td></tr><tr><td>&quot;tt31021353&quot;</td><td>[&quot;Michael Grynszpan&quot;, &quot;Daniel Markovich&quot;, &quot;Roi Ben Ami&quot;]</td><td>[&quot;producer&quot;, &quot;composer&quot;, &quot;editor&quot;]</td></tr><tr><td>&quot;tt0084068&quot;</td><td>[&quot;Jafar Dehghan&quot;, &quot;Abbas Nozari&quot;, &quot;Farajollah Salahshoor&quot;]</td><td>[&quot;actor&quot;, &quot;actor&quot;, &quot;actor&quot;]</td></tr><tr><td>&quot;tt0374130&quot;</td><td>[&quot;Mario Petrov&quot;, &quot;Stefan Klisurov&quot;, … &quot;Ilko Dundakov&quot;]</td><td>[&quot;actor&quot;, &quot;actor&quot;, … &quot;production_designer&quot;]</td></tr></tbody></table></div>"
      ],
      "text/plain": [
       "shape: (310_121, 3)\n",
       "┌────────────┬─────────────────────────────────┬─────────────────────────────────┐\n",
       "│ tconst     ┆ actor_name                      ┆ actor_role                      │\n",
       "│ ---        ┆ ---                             ┆ ---                             │\n",
       "│ str        ┆ list[str]                       ┆ list[str]                       │\n",
       "╞════════════╪═════════════════════════════════╪═════════════════════════════════╡\n",
       "│ tt1171669  ┆ [\"Marcin Tyrol\", \"Miroslawa Za… ┆ [\"actor\", \"actress\", … \"produc… │\n",
       "│ tt5666252  ┆ [\"Avni Dilligil\", \"Tülin Elgin… ┆ [\"actor\", \"actress\", … \"cinema… │\n",
       "│ tt0315841  ┆ [\"Ato Mukhamedzhanov\", \"Umed S… ┆ [\"actor\", \"actor\", … \"producti… │\n",
       "│ tt8245904  ┆ [\"Grits Carter\", \"Anne Nichols… ┆ [\"actor\", \"actress\", … \"castin… │\n",
       "│ tt0329161  ┆ [\"Shawn Hoffman\", \"Kelly Chamb… ┆ [\"actor\", \"actress\", … \"produc… │\n",
       "│ …          ┆ …                               ┆ …                               │\n",
       "│ tt1711018  ┆ [\"Eric Jay Beck\", \"April Matso… ┆ [\"actor\", \"actress\", … \"produc… │\n",
       "│ tt7513360  ┆ [\"Lynne Newton\", \"Lynne Newton… ┆ [\"actress\", \"actress\", … \"prod… │\n",
       "│ tt31021353 ┆ [\"Michael Grynszpan\", \"Daniel … ┆ [\"producer\", \"composer\", \"edit… │\n",
       "│ tt0084068  ┆ [\"Jafar Dehghan\", \"Abbas Nozar… ┆ [\"actor\", \"actor\", \"actor\"]     │\n",
       "│ tt0374130  ┆ [\"Mario Petrov\", \"Stefan Klisu… ┆ [\"actor\", \"actor\", … \"producti… │\n",
       "└────────────┴─────────────────────────────────┴─────────────────────────────────┘"
      ]
     },
     "execution_count": 87,
     "metadata": {},
     "output_type": "execute_result"
    }
   ],
   "source": [
    "df_principals_agg = df_principals.group_by(\"tconst\").agg(\n",
    "    actor_name=pl.col(\"primaryName\").sort_by(pl.col(\"ordering\")),\n",
    "    actor_role=pl.col(\"category\").sort_by(pl.col(\"ordering\")),\n",
    ")\n",
    "\n",
    "df_principals_agg"
   ]
  },
  {
   "cell_type": "markdown",
   "metadata": {},
   "source": [
    "## Crew\n",
    "\n",
    "Crew data is nested: need to unnest to be able to map principals to them, then reaggregate.\n"
   ]
  },
  {
   "cell_type": "code",
   "execution_count": 88,
   "metadata": {},
   "outputs": [
    {
     "data": {
      "text/html": [
       "<div><style>\n",
       ".dataframe > thead > tr,\n",
       ".dataframe > tbody > tr {\n",
       "  text-align: right;\n",
       "  white-space: pre-wrap;\n",
       "}\n",
       "</style>\n",
       "<small>shape: (13_794_742, 6)</small><table border=\"1\" class=\"dataframe\"><thead><tr><th>nconst</th><th>primaryName</th><th>birthYear</th><th>deathYear</th><th>primaryProfession</th><th>knownForTitles</th></tr><tr><td>str</td><td>str</td><td>str</td><td>str</td><td>str</td><td>str</td></tr></thead><tbody><tr><td>&quot;nm0000001&quot;</td><td>&quot;Fred Astaire&quot;</td><td>&quot;1899&quot;</td><td>&quot;1987&quot;</td><td>&quot;actor,miscellaneous,producer&quot;</td><td>&quot;tt0072308,tt0050419,tt0053137,…</td></tr><tr><td>&quot;nm0000002&quot;</td><td>&quot;Lauren Bacall&quot;</td><td>&quot;1924&quot;</td><td>&quot;2014&quot;</td><td>&quot;actress,soundtrack,archive_foo…</td><td>&quot;tt0037382,tt0075213,tt0117057,…</td></tr><tr><td>&quot;nm0000003&quot;</td><td>&quot;Brigitte Bardot&quot;</td><td>&quot;1934&quot;</td><td>&quot;\\N&quot;</td><td>&quot;actress,music_department,produ…</td><td>&quot;tt0057345,tt0049189,tt0056404,…</td></tr><tr><td>&quot;nm0000004&quot;</td><td>&quot;John Belushi&quot;</td><td>&quot;1949&quot;</td><td>&quot;1982&quot;</td><td>&quot;actor,writer,music_department&quot;</td><td>&quot;tt0072562,tt0077975,tt0080455,…</td></tr><tr><td>&quot;nm0000005&quot;</td><td>&quot;Ingmar Bergman&quot;</td><td>&quot;1918&quot;</td><td>&quot;2007&quot;</td><td>&quot;writer,director,actor&quot;</td><td>&quot;tt0050986,tt0083922,tt0050976,…</td></tr><tr><td>&hellip;</td><td>&hellip;</td><td>&hellip;</td><td>&hellip;</td><td>&hellip;</td><td>&hellip;</td></tr><tr><td>&quot;nm9993714&quot;</td><td>&quot;Romeo del Rosario&quot;</td><td>&quot;\\N&quot;</td><td>&quot;\\N&quot;</td><td>&quot;animation_department,art_depar…</td><td>&quot;tt11657662,tt14069590,tt245554…</td></tr><tr><td>&quot;nm9993716&quot;</td><td>&quot;Essias Loberg&quot;</td><td>&quot;\\N&quot;</td><td>&quot;\\N&quot;</td><td>&quot;\\N&quot;</td><td>&quot;\\N&quot;</td></tr><tr><td>&quot;nm9993717&quot;</td><td>&quot;Harikrishnan Rajan&quot;</td><td>&quot;\\N&quot;</td><td>&quot;\\N&quot;</td><td>&quot;cinematographer&quot;</td><td>&quot;tt8736744&quot;</td></tr><tr><td>&quot;nm9993718&quot;</td><td>&quot;Aayush Nair&quot;</td><td>&quot;\\N&quot;</td><td>&quot;\\N&quot;</td><td>&quot;cinematographer&quot;</td><td>&quot;tt8736744&quot;</td></tr><tr><td>&quot;nm9993719&quot;</td><td>&quot;Andre Hill&quot;</td><td>&quot;\\N&quot;</td><td>&quot;\\N&quot;</td><td>&quot;writer&quot;</td><td>&quot;\\N&quot;</td></tr></tbody></table></div>"
      ],
      "text/plain": [
       "shape: (13_794_742, 6)\n",
       "┌───────────┬────────────────────┬───────────┬───────────┬────────────────────┬────────────────────┐\n",
       "│ nconst    ┆ primaryName        ┆ birthYear ┆ deathYear ┆ primaryProfession  ┆ knownForTitles     │\n",
       "│ ---       ┆ ---                ┆ ---       ┆ ---       ┆ ---                ┆ ---                │\n",
       "│ str       ┆ str                ┆ str       ┆ str       ┆ str                ┆ str                │\n",
       "╞═══════════╪════════════════════╪═══════════╪═══════════╪════════════════════╪════════════════════╡\n",
       "│ nm0000001 ┆ Fred Astaire       ┆ 1899      ┆ 1987      ┆ actor,miscellaneou ┆ tt0072308,tt005041 │\n",
       "│           ┆                    ┆           ┆           ┆ s,producer         ┆ 9,tt0053137,…      │\n",
       "│ nm0000002 ┆ Lauren Bacall      ┆ 1924      ┆ 2014      ┆ actress,soundtrack ┆ tt0037382,tt007521 │\n",
       "│           ┆                    ┆           ┆           ┆ ,archive_foo…      ┆ 3,tt0117057,…      │\n",
       "│ nm0000003 ┆ Brigitte Bardot    ┆ 1934      ┆ \\N        ┆ actress,music_depa ┆ tt0057345,tt004918 │\n",
       "│           ┆                    ┆           ┆           ┆ rtment,produ…      ┆ 9,tt0056404,…      │\n",
       "│ nm0000004 ┆ John Belushi       ┆ 1949      ┆ 1982      ┆ actor,writer,music ┆ tt0072562,tt007797 │\n",
       "│           ┆                    ┆           ┆           ┆ _department        ┆ 5,tt0080455,…      │\n",
       "│ nm0000005 ┆ Ingmar Bergman     ┆ 1918      ┆ 2007      ┆ writer,director,ac ┆ tt0050986,tt008392 │\n",
       "│           ┆                    ┆           ┆           ┆ tor                ┆ 2,tt0050976,…      │\n",
       "│ …         ┆ …                  ┆ …         ┆ …         ┆ …                  ┆ …                  │\n",
       "│ nm9993714 ┆ Romeo del Rosario  ┆ \\N        ┆ \\N        ┆ animation_departme ┆ tt11657662,tt14069 │\n",
       "│           ┆                    ┆           ┆           ┆ nt,art_depar…      ┆ 590,tt245554…      │\n",
       "│ nm9993716 ┆ Essias Loberg      ┆ \\N        ┆ \\N        ┆ \\N                 ┆ \\N                 │\n",
       "│ nm9993717 ┆ Harikrishnan Rajan ┆ \\N        ┆ \\N        ┆ cinematographer    ┆ tt8736744          │\n",
       "│ nm9993718 ┆ Aayush Nair        ┆ \\N        ┆ \\N        ┆ cinematographer    ┆ tt8736744          │\n",
       "│ nm9993719 ┆ Andre Hill         ┆ \\N        ┆ \\N        ┆ writer             ┆ \\N                 │\n",
       "└───────────┴────────────────────┴───────────┴───────────┴────────────────────┴────────────────────┘"
      ]
     },
     "execution_count": 88,
     "metadata": {},
     "output_type": "execute_result"
    }
   ],
   "source": [
    "df_names"
   ]
  },
  {
   "cell_type": "code",
   "execution_count": 89,
   "metadata": {},
   "outputs": [
    {
     "data": {
      "text/html": [
       "<div><style>\n",
       ".dataframe > thead > tr,\n",
       ".dataframe > tbody > tr {\n",
       "  text-align: right;\n",
       "  white-space: pre-wrap;\n",
       "}\n",
       "</style>\n",
       "<small>shape: (315_091, 3)</small><table border=\"1\" class=\"dataframe\"><thead><tr><th>tconst</th><th>directors</th><th>writers</th></tr><tr><td>str</td><td>str</td><td>str</td></tr></thead><tbody><tr><td>&quot;tt0000009&quot;</td><td>&quot;nm0085156&quot;</td><td>&quot;nm0085156&quot;</td></tr><tr><td>&quot;tt0000147&quot;</td><td>&quot;nm0714557&quot;</td><td>&quot;\\N&quot;</td></tr><tr><td>&quot;tt0000502&quot;</td><td>&quot;nm0063413&quot;</td><td>&quot;nm0063413,nm0657268,nm0675388&quot;</td></tr><tr><td>&quot;tt0000574&quot;</td><td>&quot;nm0846879&quot;</td><td>&quot;nm0846879&quot;</td></tr><tr><td>&quot;tt0000591&quot;</td><td>&quot;nm0141150&quot;</td><td>&quot;nm0141150&quot;</td></tr><tr><td>&hellip;</td><td>&hellip;</td><td>&hellip;</td></tr><tr><td>&quot;tt9916362&quot;</td><td>&quot;nm1893148&quot;</td><td>&quot;nm1893148,nm3471432&quot;</td></tr><tr><td>&quot;tt9916428&quot;</td><td>&quot;nm0910951&quot;</td><td>&quot;\\N&quot;</td></tr><tr><td>&quot;tt9916538&quot;</td><td>&quot;nm4457074&quot;</td><td>&quot;nm4843252,nm4900525,nm2679404&quot;</td></tr><tr><td>&quot;tt9916706&quot;</td><td>&quot;nm7764440&quot;</td><td>&quot;nm7933903&quot;</td></tr><tr><td>&quot;tt9916730&quot;</td><td>&quot;nm10538612&quot;</td><td>&quot;nm10538612&quot;</td></tr></tbody></table></div>"
      ],
      "text/plain": [
       "shape: (315_091, 3)\n",
       "┌───────────┬────────────┬───────────────────────────────┐\n",
       "│ tconst    ┆ directors  ┆ writers                       │\n",
       "│ ---       ┆ ---        ┆ ---                           │\n",
       "│ str       ┆ str        ┆ str                           │\n",
       "╞═══════════╪════════════╪═══════════════════════════════╡\n",
       "│ tt0000009 ┆ nm0085156  ┆ nm0085156                     │\n",
       "│ tt0000147 ┆ nm0714557  ┆ \\N                            │\n",
       "│ tt0000502 ┆ nm0063413  ┆ nm0063413,nm0657268,nm0675388 │\n",
       "│ tt0000574 ┆ nm0846879  ┆ nm0846879                     │\n",
       "│ tt0000591 ┆ nm0141150  ┆ nm0141150                     │\n",
       "│ …         ┆ …          ┆ …                             │\n",
       "│ tt9916362 ┆ nm1893148  ┆ nm1893148,nm3471432           │\n",
       "│ tt9916428 ┆ nm0910951  ┆ \\N                            │\n",
       "│ tt9916538 ┆ nm4457074  ┆ nm4843252,nm4900525,nm2679404 │\n",
       "│ tt9916706 ┆ nm7764440  ┆ nm7933903                     │\n",
       "│ tt9916730 ┆ nm10538612 ┆ nm10538612                    │\n",
       "└───────────┴────────────┴───────────────────────────────┘"
      ]
     },
     "execution_count": 89,
     "metadata": {},
     "output_type": "execute_result"
    }
   ],
   "source": [
    "valid_tconst = df_denorm[\"tconst\"]\n",
    "\n",
    "df_crew = pl.read_csv(\n",
    "    os.path.join(data_dir, \"title.crew.tsv.gz\"),\n",
    "    separator=\"\\t\",\n",
    "    ignore_errors=True,\n",
    ")\n",
    "\n",
    "# df_principals = df_principals.join(df_denorm, on=\"tconst\").filter(pl.col(\"nconst\").is_not_null())\n",
    "df_crew = df_crew.filter(pl.col(\"tconst\").is_in(valid_tconst))\n",
    "\n",
    "# df_names = pl.read_csv(\n",
    "#     os.path.join(data_dir, \"name.basics.tsv.gz\"),\n",
    "#     separator=\"\\t\",\n",
    "#     ignore_errors=True,\n",
    "# )\n",
    "\n",
    "# df_principals = df_principals.join(df_names, on=\"nconst\")\n",
    "\n",
    "df_crew"
   ]
  },
  {
   "cell_type": "markdown",
   "metadata": {},
   "source": [
    "https://stackoverflow.com/questions/73699500/python-polars-split-string-column-into-many-columns-by-delimiter\n"
   ]
  },
  {
   "cell_type": "code",
   "execution_count": 90,
   "metadata": {},
   "outputs": [
    {
     "data": {
      "text/html": [
       "<div><style>\n",
       ".dataframe > thead > tr,\n",
       ".dataframe > tbody > tr {\n",
       "  text-align: right;\n",
       "  white-space: pre-wrap;\n",
       "}\n",
       "</style>\n",
       "<small>shape: (311_888, 2)</small><table border=\"1\" class=\"dataframe\"><thead><tr><th>tconst</th><th>directors</th></tr><tr><td>str</td><td>list[str]</td></tr></thead><tbody><tr><td>&quot;tt8555446&quot;</td><td>[&quot;Sefa Özçelik&quot;]</td></tr><tr><td>&quot;tt0107179&quot;</td><td>[&quot;David Wellington&quot;]</td></tr><tr><td>&quot;tt1092405&quot;</td><td>[&quot;Josef Kokeisl&quot;]</td></tr><tr><td>&quot;tt14638208&quot;</td><td>[&quot;Erik Poppe&quot;]</td></tr><tr><td>&quot;tt5885620&quot;</td><td>[&quot;Kim Jung Wook&quot;]</td></tr><tr><td>&hellip;</td><td>&hellip;</td></tr><tr><td>&quot;tt21330032&quot;</td><td>[&quot;Shane D. Stanger&quot;]</td></tr><tr><td>&quot;tt3169676&quot;</td><td>[&quot;Abhishek Bindal&quot;]</td></tr><tr><td>&quot;tt0342933&quot;</td><td>[&quot;Rudall Hayward&quot;]</td></tr><tr><td>&quot;tt0030635&quot;</td><td>[&quot;Jeff Musso&quot;]</td></tr><tr><td>&quot;tt2376660&quot;</td><td>[&quot;Creep Creepersin&quot;]</td></tr></tbody></table></div>"
      ],
      "text/plain": [
       "shape: (311_888, 2)\n",
       "┌────────────┬──────────────────────┐\n",
       "│ tconst     ┆ directors            │\n",
       "│ ---        ┆ ---                  │\n",
       "│ str        ┆ list[str]            │\n",
       "╞════════════╪══════════════════════╡\n",
       "│ tt8555446  ┆ [\"Sefa Özçelik\"]     │\n",
       "│ tt0107179  ┆ [\"David Wellington\"] │\n",
       "│ tt1092405  ┆ [\"Josef Kokeisl\"]    │\n",
       "│ tt14638208 ┆ [\"Erik Poppe\"]       │\n",
       "│ tt5885620  ┆ [\"Kim Jung Wook\"]    │\n",
       "│ …          ┆ …                    │\n",
       "│ tt21330032 ┆ [\"Shane D. Stanger\"] │\n",
       "│ tt3169676  ┆ [\"Abhishek Bindal\"]  │\n",
       "│ tt0342933  ┆ [\"Rudall Hayward\"]   │\n",
       "│ tt0030635  ┆ [\"Jeff Musso\"]       │\n",
       "│ tt2376660  ┆ [\"Creep Creepersin\"] │\n",
       "└────────────┴──────────────────────┘"
      ]
     },
     "execution_count": 90,
     "metadata": {},
     "output_type": "execute_result"
    }
   ],
   "source": [
    "df_directors = (\n",
    "    df_crew.select([\"tconst\", \"directors\"])\n",
    "    .filter(pl.col(\"directors\") != \"\\\\N\")\n",
    "    .with_columns(pl.col(\"directors\").str.split(\",\"))\n",
    "    .explode(\"directors\")\n",
    "    .join(df_names, left_on=\"directors\", right_on=\"nconst\")\n",
    "    .group_by(\"tconst\")\n",
    "    .agg(directors=pl.col(\"primaryName\"))\n",
    ")\n",
    "df_directors"
   ]
  },
  {
   "cell_type": "code",
   "execution_count": 91,
   "metadata": {},
   "outputs": [
    {
     "data": {
      "text/html": [
       "<div><style>\n",
       ".dataframe > thead > tr,\n",
       ".dataframe > tbody > tr {\n",
       "  text-align: right;\n",
       "  white-space: pre-wrap;\n",
       "}\n",
       "</style>\n",
       "<small>shape: (276_443, 2)</small><table border=\"1\" class=\"dataframe\"><thead><tr><th>tconst</th><th>writers</th></tr><tr><td>str</td><td>list[str]</td></tr></thead><tbody><tr><td>&quot;tt1695136&quot;</td><td>[&quot;Gustavo Loza&quot;]</td></tr><tr><td>&quot;tt13523326&quot;</td><td>[&quot;Stallone Vaiaoga-Ioasa&quot;]</td></tr><tr><td>&quot;tt0006206&quot;</td><td>[&quot;Louis Feuillade&quot;]</td></tr><tr><td>&quot;tt0088300&quot;</td><td>[&quot;Jean-Claude Benhamou&quot;, &quot;Jean Rollin&quot;]</td></tr><tr><td>&quot;tt0091138&quot;</td><td>[&quot;Blaine Novak&quot;]</td></tr><tr><td>&hellip;</td><td>&hellip;</td></tr><tr><td>&quot;tt0025148&quot;</td><td>[&quot;Axel Eggebrecht&quot;, &quot;Ludwig Fulda&quot;]</td></tr><tr><td>&quot;tt0125857&quot;</td><td>[&quot;Craig Grant&quot;]</td></tr><tr><td>&quot;tt0168080&quot;</td><td>[&quot;Jorge Guerricaechevarría&quot;, &quot;Álex de la Iglesia&quot;]</td></tr><tr><td>&quot;tt0100303&quot;</td><td>[&quot;Christian Clavier&quot;, &quot;Jean-Marie Poiré&quot;]</td></tr><tr><td>&quot;tt0970472&quot;</td><td>[&quot;Fumihiko Sori&quot;, &quot;Haruka Handa&quot;]</td></tr></tbody></table></div>"
      ],
      "text/plain": [
       "shape: (276_443, 2)\n",
       "┌────────────┬─────────────────────────────────┐\n",
       "│ tconst     ┆ writers                         │\n",
       "│ ---        ┆ ---                             │\n",
       "│ str        ┆ list[str]                       │\n",
       "╞════════════╪═════════════════════════════════╡\n",
       "│ tt1695136  ┆ [\"Gustavo Loza\"]                │\n",
       "│ tt13523326 ┆ [\"Stallone Vaiaoga-Ioasa\"]      │\n",
       "│ tt0006206  ┆ [\"Louis Feuillade\"]             │\n",
       "│ tt0088300  ┆ [\"Jean-Claude Benhamou\", \"Jean… │\n",
       "│ tt0091138  ┆ [\"Blaine Novak\"]                │\n",
       "│ …          ┆ …                               │\n",
       "│ tt0025148  ┆ [\"Axel Eggebrecht\", \"Ludwig Fu… │\n",
       "│ tt0125857  ┆ [\"Craig Grant\"]                 │\n",
       "│ tt0168080  ┆ [\"Jorge Guerricaechevarría\", \"… │\n",
       "│ tt0100303  ┆ [\"Christian Clavier\", \"Jean-Ma… │\n",
       "│ tt0970472  ┆ [\"Fumihiko Sori\", \"Haruka Hand… │\n",
       "└────────────┴─────────────────────────────────┘"
      ]
     },
     "execution_count": 91,
     "metadata": {},
     "output_type": "execute_result"
    }
   ],
   "source": [
    "df_writers = (\n",
    "    df_crew.select([\"tconst\", \"writers\"])\n",
    "    .filter(pl.col(\"writers\") != \"\\\\N\")\n",
    "    .with_columns(pl.col(\"writers\").str.split(\",\"))\n",
    "    .explode(\"writers\")\n",
    "    .join(df_names, left_on=\"writers\", right_on=\"nconst\")\n",
    "    .group_by(\"tconst\")\n",
    "    .agg(writers=pl.col(\"primaryName\"))\n",
    ")\n",
    "df_writers"
   ]
  },
  {
   "cell_type": "markdown",
   "metadata": {},
   "source": [
    "## Reaggregate Everything and Build JSON Representation\n"
   ]
  },
  {
   "cell_type": "code",
   "execution_count": 92,
   "metadata": {},
   "outputs": [
    {
     "data": {
      "text/html": [
       "<div><style>\n",
       ".dataframe > thead > tr,\n",
       ".dataframe > tbody > tr {\n",
       "  text-align: right;\n",
       "  white-space: pre-wrap;\n",
       "}\n",
       "</style>\n",
       "<small>shape: (272_715, 15)</small><table border=\"1\" class=\"dataframe\"><thead><tr><th>tconst</th><th>titleType</th><th>primaryTitle</th><th>originalTitle</th><th>isAdult</th><th>startYear</th><th>endYear</th><th>runtimeMinutes</th><th>genres</th><th>averageRating</th><th>numVotes</th><th>actor_name</th><th>actor_role</th><th>directors</th><th>writers</th></tr><tr><td>str</td><td>str</td><td>str</td><td>str</td><td>i64</td><td>i64</td><td>str</td><td>str</td><td>str</td><td>f64</td><td>i64</td><td>list[str]</td><td>list[str]</td><td>list[str]</td><td>list[str]</td></tr></thead><tbody><tr><td>&quot;tt8555446&quot;</td><td>&quot;movie&quot;</td><td>&quot;Cam Yarmasi&quot;</td><td>&quot;Cam Yarmasi&quot;</td><td>0</td><td>2017</td><td>&quot;\\N&quot;</td><td>&quot;\\N&quot;</td><td>&quot;Comedy&quot;</td><td>3.0</td><td>62</td><td>[&quot;Tevfik Inceoglu&quot;, &quot;Ferdi Kurtuldu&quot;, … &quot;Kaan Oter&quot;]</td><td>[&quot;actor&quot;, &quot;actor&quot;, … &quot;composer&quot;]</td><td>[&quot;Sefa Özçelik&quot;]</td><td>[&quot;Murat Kusçu&quot;, &quot;Tugrul Ceylan&quot;]</td></tr><tr><td>&quot;tt0107179&quot;</td><td>&quot;movie&quot;</td><td>&quot;A Man in Uniform&quot;</td><td>&quot;I Love a Man in Uniform&quot;</td><td>0</td><td>1993</td><td>&quot;\\N&quot;</td><td>&quot;99&quot;</td><td>&quot;Drama,Thriller&quot;</td><td>6.7</td><td>669</td><td>[&quot;Tom McCamus&quot;, &quot;Brigitte Bako&quot;, … &quot;John Dondertman&quot;]</td><td>[&quot;actor&quot;, &quot;actress&quot;, … &quot;production_designer&quot;]</td><td>[&quot;David Wellington&quot;]</td><td>[&quot;Walter Donohue&quot;, &quot;David Wellington&quot;]</td></tr><tr><td>&quot;tt1092405&quot;</td><td>&quot;movie&quot;</td><td>&quot;Popelka&quot;</td><td>&quot;Popelka&quot;</td><td>0</td><td>1929</td><td>&quot;\\N&quot;</td><td>&quot;\\N&quot;</td><td>&quot;Family&quot;</td><td>6.4</td><td>9</td><td>[&quot;Zdena Listová&quot;, &quot;Milka Balek-Brodská&quot;, … &quot;Karel Mansfeld&quot;]</td><td>[&quot;actress&quot;, &quot;actress&quot;, … &quot;cinematographer&quot;]</td><td>[&quot;Josef Kokeisl&quot;]</td><td>[&quot;Karel Driml&quot;]</td></tr><tr><td>&quot;tt14638208&quot;</td><td>&quot;movie&quot;</td><td>&quot;Quisling - The Final Days&quot;</td><td>&quot;Quislings siste dager&quot;</td><td>0</td><td>2024</td><td>&quot;\\N&quot;</td><td>&quot;146&quot;</td><td>&quot;Biography,Drama,War&quot;</td><td>7.7</td><td>122</td><td>[&quot;Gard B. Eidsvold&quot;, &quot;Anders Danielsen Lie&quot;, … &quot;Pia Wallin&quot;]</td><td>[&quot;actor&quot;, &quot;actor&quot;, … &quot;production_designer&quot;]</td><td>[&quot;Erik Poppe&quot;]</td><td>[&quot;Siv Rajendram Eliassen&quot;, &quot;Anna Bache-Wiig&quot;, &quot;Ravn Lanesskog&quot;]</td></tr><tr><td>&quot;tt6119856&quot;</td><td>&quot;movie&quot;</td><td>&quot;Irreplaceable You&quot;</td><td>&quot;Irreplaceable You&quot;</td><td>0</td><td>2018</td><td>&quot;\\N&quot;</td><td>&quot;96&quot;</td><td>&quot;Comedy,Drama,Romance&quot;</td><td>6.4</td><td>10537</td><td>[&quot;Gugu Mbatha-Raw&quot;, &quot;Michiel Huisman&quot;, … &quot;Dara Wishingrad&quot;]</td><td>[&quot;actress&quot;, &quot;actor&quot;, … &quot;production_designer&quot;]</td><td>[&quot;Stephanie Laing&quot;]</td><td>[&quot;Bess Wohl&quot;]</td></tr><tr><td>&hellip;</td><td>&hellip;</td><td>&hellip;</td><td>&hellip;</td><td>&hellip;</td><td>&hellip;</td><td>&hellip;</td><td>&hellip;</td><td>&hellip;</td><td>&hellip;</td><td>&hellip;</td><td>&hellip;</td><td>&hellip;</td><td>&hellip;</td><td>&hellip;</td></tr><tr><td>&quot;tt3251764&quot;</td><td>&quot;movie&quot;</td><td>&quot;Siyah Eldivenli Adam&quot;</td><td>&quot;Siyah Eldivenli Adam&quot;</td><td>0</td><td>1973</td><td>&quot;\\N&quot;</td><td>&quot;64&quot;</td><td>&quot;Action,Crime,Romance&quot;</td><td>4.9</td><td>20</td><td>[&quot;Kartal Tibet&quot;, &quot;Deniz Erkanat&quot;, … &quot;Veli Akbasli&quot;]</td><td>[&quot;actor&quot;, &quot;actress&quot;, … &quot;editor&quot;]</td><td>[&quot;Mehmet Aslan&quot;]</td><td>[&quot;Mehmet Aslan&quot;]</td></tr><tr><td>&quot;tt21330032&quot;</td><td>&quot;movie&quot;</td><td>&quot;Good Bad Things&quot;</td><td>&quot;Good Bad Things&quot;</td><td>0</td><td>2024</td><td>&quot;\\N&quot;</td><td>&quot;96&quot;</td><td>&quot;Drama&quot;</td><td>8.8</td><td>49</td><td>[&quot;Jessica Parker Kennedy&quot;, &quot;Ryan Whitney&quot;, … &quot;Sam Sanders IV&quot;]</td><td>[&quot;actress&quot;, &quot;actress&quot;, … &quot;production_designer&quot;]</td><td>[&quot;Shane D. Stanger&quot;]</td><td>[&quot;Danny Kurtzman&quot;, &quot;Shane D. Stanger&quot;]</td></tr><tr><td>&quot;tt3169676&quot;</td><td>&quot;movie&quot;</td><td>&quot;Meinu Ek Ladki Chaahiye&quot;</td><td>&quot;Meinu Ek Ladki Chaahiye&quot;</td><td>0</td><td>2014</td><td>&quot;\\N&quot;</td><td>&quot;\\N&quot;</td><td>&quot;Comedy,Crime,Drama&quot;</td><td>3.3</td><td>17</td><td>[&quot;Rashee Bindal&quot;, &quot;Puru Chibber&quot;, … &quot;Swaminath Pandey&quot;]</td><td>[&quot;actress&quot;, &quot;actor&quot;, … &quot;editor&quot;]</td><td>[&quot;Abhishek Bindal&quot;]</td><td>[&quot;Shekhar Kochgaven&quot;, &quot;Abhishek Bindal&quot;]</td></tr><tr><td>&quot;tt0030635&quot;</td><td>&quot;movie&quot;</td><td>&quot;The Puritan&quot;</td><td>&quot;Le puritain&quot;</td><td>0</td><td>1938</td><td>&quot;\\N&quot;</td><td>&quot;85&quot;</td><td>&quot;Crime,Drama,Mystery&quot;</td><td>6.3</td><td>93</td><td>[&quot;Pierre Fresnay&quot;, &quot;Jean-Louis Barrault&quot;, … &quot;Émilienne Nelissen&quot;]</td><td>[&quot;actor&quot;, &quot;actor&quot;, … &quot;editor&quot;]</td><td>[&quot;Jeff Musso&quot;]</td><td>[&quot;Jeff Musso&quot;, &quot;Liam O&#x27;Flaherty&quot;, … &quot;Louis Postif&quot;]</td></tr><tr><td>&quot;tt2376660&quot;</td><td>&quot;movie&quot;</td><td>&quot;Fork You&quot;</td><td>&quot;Fork You&quot;</td><td>0</td><td>2013</td><td>&quot;\\N&quot;</td><td>&quot;\\N&quot;</td><td>&quot;Comedy,Horror&quot;</td><td>3.2</td><td>29</td><td>[&quot;Mindy Robinson&quot;, &quot;Dawna Lee Heising&quot;, … &quot;Andrew Crandall&quot;]</td><td>[&quot;actress&quot;, &quot;actress&quot;, … &quot;editor&quot;]</td><td>[&quot;Creep Creepersin&quot;]</td><td>[&quot;Creep Creepersin&quot;]</td></tr></tbody></table></div>"
      ],
      "text/plain": [
       "shape: (272_715, 15)\n",
       "┌───────────┬───────────┬───────────┬───────────┬───┬───────────┬───────────┬───────────┬──────────┐\n",
       "│ tconst    ┆ titleType ┆ primaryTi ┆ originalT ┆ … ┆ actor_nam ┆ actor_rol ┆ directors ┆ writers  │\n",
       "│ ---       ┆ ---       ┆ tle       ┆ itle      ┆   ┆ e         ┆ e         ┆ ---       ┆ ---      │\n",
       "│ str       ┆ str       ┆ ---       ┆ ---       ┆   ┆ ---       ┆ ---       ┆ list[str] ┆ list[str │\n",
       "│           ┆           ┆ str       ┆ str       ┆   ┆ list[str] ┆ list[str] ┆           ┆ ]        │\n",
       "╞═══════════╪═══════════╪═══════════╪═══════════╪═══╪═══════════╪═══════════╪═══════════╪══════════╡\n",
       "│ tt8555446 ┆ movie     ┆ Cam       ┆ Cam       ┆ … ┆ [\"Tevfik  ┆ [\"actor\", ┆ [\"Sefa    ┆ [\"Murat  │\n",
       "│           ┆           ┆ Yarmasi   ┆ Yarmasi   ┆   ┆ Inceoglu\" ┆ \"actor\",  ┆ Özçelik\"] ┆ Kusçu\",  │\n",
       "│           ┆           ┆           ┆           ┆   ┆ , \"Ferdi  ┆ … \"compos ┆           ┆ \"Tugrul  │\n",
       "│           ┆           ┆           ┆           ┆   ┆ Kur…      ┆ er…       ┆           ┆ Ceylan…  │\n",
       "│ tt0107179 ┆ movie     ┆ A Man in  ┆ I Love a  ┆ … ┆ [\"Tom     ┆ [\"actor\", ┆ [\"David   ┆ [\"Walter │\n",
       "│           ┆           ┆ Uniform   ┆ Man in    ┆   ┆ McCamus\", ┆ \"actress\" ┆ Wellingto ┆ Donohue\" │\n",
       "│           ┆           ┆           ┆ Uniform   ┆   ┆ \"Brigitte ┆ , …       ┆ n\"]       ┆ , \"David │\n",
       "│           ┆           ┆           ┆           ┆   ┆ Bako…     ┆ \"produc…  ┆           ┆ Well…    │\n",
       "│ tt1092405 ┆ movie     ┆ Popelka   ┆ Popelka   ┆ … ┆ [\"Zdena   ┆ [\"actress ┆ [\"Josef   ┆ [\"Karel  │\n",
       "│           ┆           ┆           ┆           ┆   ┆ Listová\", ┆ \", \"actre ┆ Kokeisl\"] ┆ Driml\"]  │\n",
       "│           ┆           ┆           ┆           ┆   ┆ \"Milka    ┆ ss\", …    ┆           ┆          │\n",
       "│           ┆           ┆           ┆           ┆   ┆ Balek…    ┆ \"cine…    ┆           ┆          │\n",
       "│ tt1463820 ┆ movie     ┆ Quisling  ┆ Quislings ┆ … ┆ [\"Gard B. ┆ [\"actor\", ┆ [\"Erik    ┆ [\"Siv    │\n",
       "│ 8         ┆           ┆ - The     ┆ siste     ┆   ┆ Eidsvold\" ┆ \"actor\",  ┆ Poppe\"]   ┆ Rajendra │\n",
       "│           ┆           ┆ Final     ┆ dager     ┆   ┆ , \"Anders ┆ … \"produc ┆           ┆ m Eliass │\n",
       "│           ┆           ┆ Days      ┆           ┆   ┆ D…        ┆ ti…       ┆           ┆ en\",     │\n",
       "│           ┆           ┆           ┆           ┆   ┆           ┆           ┆           ┆ \"An…     │\n",
       "│ tt6119856 ┆ movie     ┆ Irreplace ┆ Irreplace ┆ … ┆ [\"Gugu    ┆ [\"actress ┆ [\"Stephan ┆ [\"Bess   │\n",
       "│           ┆           ┆ able You  ┆ able You  ┆   ┆ Mbatha-Ra ┆ \",        ┆ ie        ┆ Wohl\"]   │\n",
       "│           ┆           ┆           ┆           ┆   ┆ w\",       ┆ \"actor\",  ┆ Laing\"]   ┆          │\n",
       "│           ┆           ┆           ┆           ┆   ┆ \"Michiel  ┆ …         ┆           ┆          │\n",
       "│           ┆           ┆           ┆           ┆   ┆ H…        ┆ \"produc…  ┆           ┆          │\n",
       "│ …         ┆ …         ┆ …         ┆ …         ┆ … ┆ …         ┆ …         ┆ …         ┆ …        │\n",
       "│ tt3251764 ┆ movie     ┆ Siyah     ┆ Siyah     ┆ … ┆ [\"Kartal  ┆ [\"actor\", ┆ [\"Mehmet  ┆ [\"Mehmet │\n",
       "│           ┆           ┆ Eldivenli ┆ Eldivenli ┆   ┆ Tibet\",   ┆ \"actress\" ┆ Aslan\"]   ┆ Aslan\"]  │\n",
       "│           ┆           ┆ Adam      ┆ Adam      ┆   ┆ \"Deniz    ┆ , …       ┆           ┆          │\n",
       "│           ┆           ┆           ┆           ┆   ┆ Erkana…   ┆ \"editor…  ┆           ┆          │\n",
       "│ tt2133003 ┆ movie     ┆ Good Bad  ┆ Good Bad  ┆ … ┆ [\"Jessica ┆ [\"actress ┆ [\"Shane   ┆ [\"Danny  │\n",
       "│ 2         ┆           ┆ Things    ┆ Things    ┆   ┆ Parker    ┆ \", \"actre ┆ D.        ┆ Kurtzman │\n",
       "│           ┆           ┆           ┆           ┆   ┆ Kennedy\", ┆ ss\", …    ┆ Stanger\"] ┆ \",       │\n",
       "│           ┆           ┆           ┆           ┆   ┆ \"Ry…      ┆ \"prod…    ┆           ┆ \"Shane   │\n",
       "│           ┆           ┆           ┆           ┆   ┆           ┆           ┆           ┆ D. S…    │\n",
       "│ tt3169676 ┆ movie     ┆ Meinu Ek  ┆ Meinu Ek  ┆ … ┆ [\"Rashee  ┆ [\"actress ┆ [\"Abhishe ┆ [\"Shekha │\n",
       "│           ┆           ┆ Ladki     ┆ Ladki     ┆   ┆ Bindal\",  ┆ \",        ┆ k         ┆ r Kochga │\n",
       "│           ┆           ┆ Chaahiye  ┆ Chaahiye  ┆   ┆ \"Puru     ┆ \"actor\",  ┆ Bindal\"]  ┆ ven\",    │\n",
       "│           ┆           ┆           ┆           ┆   ┆ Chibbe…   ┆ …         ┆           ┆ \"Abhishe │\n",
       "│           ┆           ┆           ┆           ┆   ┆           ┆ \"editor…  ┆           ┆ …        │\n",
       "│ tt0030635 ┆ movie     ┆ The       ┆ Le        ┆ … ┆ [\"Pierre  ┆ [\"actor\", ┆ [\"Jeff    ┆ [\"Jeff   │\n",
       "│           ┆           ┆ Puritan   ┆ puritain  ┆   ┆ Fresnay\", ┆ \"actor\",  ┆ Musso\"]   ┆ Musso\",  │\n",
       "│           ┆           ┆           ┆           ┆   ┆ \"Jean-Lou ┆ …         ┆           ┆ \"Liam    │\n",
       "│           ┆           ┆           ┆           ┆   ┆ is…       ┆ \"editor\"] ┆           ┆ O'Flaher │\n",
       "│           ┆           ┆           ┆           ┆   ┆           ┆           ┆           ┆ t…       │\n",
       "│ tt2376660 ┆ movie     ┆ Fork You  ┆ Fork You  ┆ … ┆ [\"Mindy   ┆ [\"actress ┆ [\"Creep   ┆ [\"Creep  │\n",
       "│           ┆           ┆           ┆           ┆   ┆ Robinson\" ┆ \", \"actre ┆ Creepersi ┆ Creepers │\n",
       "│           ┆           ┆           ┆           ┆   ┆ , \"Dawna  ┆ ss\", …    ┆ n\"]       ┆ in\"]     │\n",
       "│           ┆           ┆           ┆           ┆   ┆ Lee …     ┆ \"edit…    ┆           ┆          │\n",
       "└───────────┴───────────┴───────────┴───────────┴───┴───────────┴───────────┴───────────┴──────────┘"
      ]
     },
     "execution_count": 92,
     "metadata": {},
     "output_type": "execute_result"
    }
   ],
   "source": [
    "df_final = (\n",
    "    df_denorm.join(df_principals_agg, on=\"tconst\")\n",
    "    .join(df_directors, on=\"tconst\")\n",
    "    .join(df_writers, on=\"tconst\")\n",
    ")\n",
    "\n",
    "df_final"
   ]
  },
  {
   "cell_type": "code",
   "execution_count": 93,
   "metadata": {},
   "outputs": [],
   "source": [
    "def movie_json(row):\n",
    "    # row = row.to_dicts()[0]\n",
    "    # print(row)\n",
    "    genres = row[\"genres\"].split(\",\") if row[\"genres\"] != \"\\\\N\" else None\n",
    "    actors = [{name: role} for name, role in zip(row[\"actor_name\"], row[\"actor_role\"])]\n",
    "\n",
    "    json_dict = {\n",
    "        \"title\": row[\"primaryTitle\"],\n",
    "        \"genres\": genres,\n",
    "        \"is_adult\": True if row[\"isAdult\"] == 1 else False,\n",
    "        \"release_year\": row[\"startYear\"],\n",
    "        \"runtime_minutes\": int(row[\"runtimeMinutes\"])\n",
    "        if row[\"runtimeMinutes\"] != \"\\\\N\"\n",
    "        else None,\n",
    "        \"directors\": row[\"directors\"],\n",
    "        \"writers\": row[\"writers\"],\n",
    "        \"actors\": actors,\n",
    "    }\n",
    "    return str(json_dict)"
   ]
  },
  {
   "cell_type": "code",
   "execution_count": 94,
   "metadata": {},
   "outputs": [
    {
     "data": {
      "text/plain": [
       "\"{'title': 'Cam Yarmasi', 'genres': ['Comedy'], 'is_adult': False, 'release_year': 2017, 'runtime_minutes': None, 'directors': ['Sefa Özçelik'], 'writers': ['Murat Kusçu', 'Tugrul Ceylan'], 'actors': [{'Tevfik Inceoglu': 'actor'}, {'Ferdi Kurtuldu': 'actor'}, {'Murat Kusçu': 'actor'}, {'Yakup Yavru': 'actor'}, {'Dilber Ay': 'actress'}, {'Koray Ergün': 'actor'}, {'Bülent Mert': 'actor'}, {'Belkis Akçil': 'actress'}, {'Omer Faruk Nas': 'actor'}, {'Aysegül Kuscu': 'actress'}, {'Sefa Özçelik': 'producer'}, {'Kaan Oter': 'composer'}]}\""
      ]
     },
     "execution_count": 94,
     "metadata": {},
     "output_type": "execute_result"
    }
   ],
   "source": [
    "movie_json(df_final[0].to_dicts()[0])"
   ]
  },
  {
   "cell_type": "markdown",
   "metadata": {},
   "source": [
    "https://stackoverflow.com/a/77558612\n"
   ]
  },
  {
   "cell_type": "code",
   "execution_count": 95,
   "metadata": {},
   "outputs": [],
   "source": [
    "df_final = df_final.with_columns(\n",
    "    json=pl.struct(pl.all()).map_elements(movie_json, return_dtype=str)\n",
    ")"
   ]
  },
  {
   "cell_type": "code",
   "execution_count": 98,
   "metadata": {},
   "outputs": [
    {
     "name": "stdout",
     "output_type": "stream",
     "text": [
      "Rows: 1\n",
      "Columns: 16\n",
      "$ tconst               <str> 'tt0076759'\n",
      "$ titleType            <str> 'movie'\n",
      "$ primaryTitle         <str> 'Star Wars: Episode IV - A New Hope'\n",
      "$ originalTitle        <str> 'Star Wars'\n",
      "$ isAdult              <i64> 0\n",
      "$ startYear            <i64> 1977\n",
      "$ endYear              <str> '\\\\N'\n",
      "$ runtimeMinutes       <str> '121'\n",
      "$ genres               <str> 'Action,Adventure,Fantasy'\n",
      "$ averageRating        <f64> 8.6\n",
      "$ numVotes             <i64> 1469746\n",
      "$ actor_name     <list[str]> ['Mark Hamill', 'Harrison Ford', 'Carrie Fisher', 'Alec Guinness', 'Peter Cushing', 'Anthony Daniels', 'Kenny Baker', 'Peter Mayhew', 'David Prowse', 'Phil Brown', 'Gary Kurtz', 'Rick McCallum', 'John Williams', 'Gilbert Taylor', 'Richard Chew', 'T.M. Christopher', 'Paul Hirsch', 'Marcia Lucas', 'Dianne Crittenden', 'Irene Lamb', 'Vic Ramos', 'John Barry']\n",
      "$ actor_role     <list[str]> ['actor', 'actor', 'actress', 'actor', 'actor', 'actor', 'actor', 'actor', 'actor', 'actor', 'producer', 'producer', 'composer', 'cinematographer', 'editor', 'editor', 'editor', 'editor', 'casting_director', 'casting_director', 'casting_director', 'production_designer']\n",
      "$ directors      <list[str]> ['George Lucas']\n",
      "$ writers        <list[str]> ['George Lucas']\n",
      "$ json                 <str> \"{'title': 'Star Wars: Episode IV - A New Hope', 'genres': ['Action', 'Adventure', 'Fantasy'], 'is_adult': False, 'release_year': 1977, 'runtime_minutes': 121, 'directors': ['George Lucas'], 'writers': ['George Lucas'], 'actors': [{'Mark Hamill': 'actor'}, {'Harrison Ford': 'actor'}, {'Carrie Fisher': 'actress'}, {'Alec Guinness': 'actor'}, {'Peter Cushing': 'actor'}, {'Anthony Daniels': 'actor'}, {'Kenny Baker': 'actor'}, {'Peter Mayhew': 'actor'}, {'David Prowse': 'actor'}, {'Phil Brown': 'actor'}, {'Gary Kurtz': 'producer'}, {'Rick McCallum': 'producer'}, {'John Williams': 'composer'}, {'Gilbert Taylor': 'cinematographer'}, {'Richard Chew': 'editor'}, {'T.M. Christopher': 'editor'}, {'Paul Hirsch': 'editor'}, {'Marcia Lucas': 'editor'}, {'Dianne Crittenden': 'casting_director'}, {'Irene Lamb': 'casting_director'}, {'Vic Ramos': 'casting_director'}, {'John Barry': 'production_designer'}]}\"\n",
      "\n"
     ]
    }
   ],
   "source": [
    "df_final.filter(pl.col(\"tconst\") == \"tt0076759\").glimpse()"
   ]
  },
  {
   "cell_type": "code",
   "execution_count": null,
   "metadata": {},
   "outputs": [],
   "source": []
  }
 ],
 "metadata": {
  "kernelspec": {
   "display_name": ".venv",
   "language": "python",
   "name": "python3"
  },
  "language_info": {
   "codemirror_mode": {
    "name": "ipython",
    "version": 3
   },
   "file_extension": ".py",
   "mimetype": "text/x-python",
   "name": "python",
   "nbconvert_exporter": "python",
   "pygments_lexer": "ipython3",
   "version": "3.12.6"
  }
 },
 "nbformat": 4,
 "nbformat_minor": 2
}
