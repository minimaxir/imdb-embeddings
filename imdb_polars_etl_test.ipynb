{
 "cells": [
  {
   "cell_type": "markdown",
   "metadata": {},
   "source": [
    "https://developer.imdb.com/non-commercial-datasets/\n"
   ]
  },
  {
   "cell_type": "code",
   "execution_count": 1,
   "metadata": {},
   "outputs": [],
   "source": [
    "import polars as pl\n",
    "import os\n",
    "import json"
   ]
  },
  {
   "cell_type": "code",
   "execution_count": 2,
   "metadata": {},
   "outputs": [
    {
     "data": {
      "text/html": [
       "<div><style>\n",
       ".dataframe > thead > tr,\n",
       ".dataframe > tbody > tr {\n",
       "  text-align: right;\n",
       "  white-space: pre-wrap;\n",
       "}\n",
       "</style>\n",
       "<small>shape: (11_230_548, 9)</small><table border=\"1\" class=\"dataframe\"><thead><tr><th>tconst</th><th>titleType</th><th>primaryTitle</th><th>originalTitle</th><th>isAdult</th><th>startYear</th><th>endYear</th><th>runtimeMinutes</th><th>genres</th></tr><tr><td>str</td><td>str</td><td>str</td><td>str</td><td>i64</td><td>i64</td><td>str</td><td>str</td><td>str</td></tr></thead><tbody><tr><td>&quot;tt0000001&quot;</td><td>&quot;short&quot;</td><td>&quot;Carmencita&quot;</td><td>&quot;Carmencita&quot;</td><td>0</td><td>1894</td><td>&quot;\\N&quot;</td><td>&quot;1&quot;</td><td>&quot;Documentary,Short&quot;</td></tr><tr><td>&quot;tt0000002&quot;</td><td>&quot;short&quot;</td><td>&quot;Le clown et ses chiens&quot;</td><td>&quot;Le clown et ses chiens&quot;</td><td>0</td><td>1892</td><td>&quot;\\N&quot;</td><td>&quot;5&quot;</td><td>&quot;Animation,Short&quot;</td></tr><tr><td>&quot;tt0000003&quot;</td><td>&quot;short&quot;</td><td>&quot;Poor Pierrot&quot;</td><td>&quot;Pauvre Pierrot&quot;</td><td>0</td><td>1892</td><td>&quot;\\N&quot;</td><td>&quot;5&quot;</td><td>&quot;Animation,Comedy,Romance&quot;</td></tr><tr><td>&quot;tt0000004&quot;</td><td>&quot;short&quot;</td><td>&quot;Un bon bock&quot;</td><td>&quot;Un bon bock&quot;</td><td>0</td><td>1892</td><td>&quot;\\N&quot;</td><td>&quot;12&quot;</td><td>&quot;Animation,Short&quot;</td></tr><tr><td>&quot;tt0000005&quot;</td><td>&quot;short&quot;</td><td>&quot;Blacksmith Scene&quot;</td><td>&quot;Blacksmith Scene&quot;</td><td>0</td><td>1893</td><td>&quot;\\N&quot;</td><td>&quot;1&quot;</td><td>&quot;Comedy,Short&quot;</td></tr><tr><td>&hellip;</td><td>&hellip;</td><td>&hellip;</td><td>&hellip;</td><td>&hellip;</td><td>&hellip;</td><td>&hellip;</td><td>&hellip;</td><td>&hellip;</td></tr><tr><td>&quot;tt9916848&quot;</td><td>&quot;tvEpisode&quot;</td><td>&quot;Episode #3.17&quot;</td><td>&quot;Episode #3.17&quot;</td><td>0</td><td>2009</td><td>&quot;\\N&quot;</td><td>&quot;\\N&quot;</td><td>&quot;Action,Drama,Family&quot;</td></tr><tr><td>&quot;tt9916850&quot;</td><td>&quot;tvEpisode&quot;</td><td>&quot;Episode #3.19&quot;</td><td>&quot;Episode #3.19&quot;</td><td>0</td><td>2010</td><td>&quot;\\N&quot;</td><td>&quot;\\N&quot;</td><td>&quot;Action,Drama,Family&quot;</td></tr><tr><td>&quot;tt9916852&quot;</td><td>&quot;tvEpisode&quot;</td><td>&quot;Episode #3.20&quot;</td><td>&quot;Episode #3.20&quot;</td><td>0</td><td>2010</td><td>&quot;\\N&quot;</td><td>&quot;\\N&quot;</td><td>&quot;Action,Drama,Family&quot;</td></tr><tr><td>&quot;tt9916856&quot;</td><td>&quot;short&quot;</td><td>&quot;The Wind&quot;</td><td>&quot;The Wind&quot;</td><td>0</td><td>2015</td><td>&quot;\\N&quot;</td><td>&quot;27&quot;</td><td>&quot;Short&quot;</td></tr><tr><td>&quot;tt9916880&quot;</td><td>&quot;tvEpisode&quot;</td><td>&quot;Horrid Henry Knows It All&quot;</td><td>&quot;Horrid Henry Knows It All&quot;</td><td>0</td><td>2014</td><td>&quot;\\N&quot;</td><td>&quot;10&quot;</td><td>&quot;Adventure,Animation,Comedy&quot;</td></tr></tbody></table></div>"
      ],
      "text/plain": [
       "shape: (11_230_548, 9)\n",
       "┌───────────┬───────────┬────────────┬───────────┬───┬───────────┬─────────┬───────────┬───────────┐\n",
       "│ tconst    ┆ titleType ┆ primaryTit ┆ originalT ┆ … ┆ startYear ┆ endYear ┆ runtimeMi ┆ genres    │\n",
       "│ ---       ┆ ---       ┆ le         ┆ itle      ┆   ┆ ---       ┆ ---     ┆ nutes     ┆ ---       │\n",
       "│ str       ┆ str       ┆ ---        ┆ ---       ┆   ┆ i64       ┆ str     ┆ ---       ┆ str       │\n",
       "│           ┆           ┆ str        ┆ str       ┆   ┆           ┆         ┆ str       ┆           │\n",
       "╞═══════════╪═══════════╪════════════╪═══════════╪═══╪═══════════╪═════════╪═══════════╪═══════════╡\n",
       "│ tt0000001 ┆ short     ┆ Carmencita ┆ Carmencit ┆ … ┆ 1894      ┆ \\N      ┆ 1         ┆ Documenta │\n",
       "│           ┆           ┆            ┆ a         ┆   ┆           ┆         ┆           ┆ ry,Short  │\n",
       "│ tt0000002 ┆ short     ┆ Le clown   ┆ Le clown  ┆ … ┆ 1892      ┆ \\N      ┆ 5         ┆ Animation │\n",
       "│           ┆           ┆ et ses     ┆ et ses    ┆   ┆           ┆         ┆           ┆ ,Short    │\n",
       "│           ┆           ┆ chiens     ┆ chiens    ┆   ┆           ┆         ┆           ┆           │\n",
       "│ tt0000003 ┆ short     ┆ Poor       ┆ Pauvre    ┆ … ┆ 1892      ┆ \\N      ┆ 5         ┆ Animation │\n",
       "│           ┆           ┆ Pierrot    ┆ Pierrot   ┆   ┆           ┆         ┆           ┆ ,Comedy,R │\n",
       "│           ┆           ┆            ┆           ┆   ┆           ┆         ┆           ┆ omance    │\n",
       "│ tt0000004 ┆ short     ┆ Un bon     ┆ Un bon    ┆ … ┆ 1892      ┆ \\N      ┆ 12        ┆ Animation │\n",
       "│           ┆           ┆ bock       ┆ bock      ┆   ┆           ┆         ┆           ┆ ,Short    │\n",
       "│ tt0000005 ┆ short     ┆ Blacksmith ┆ Blacksmit ┆ … ┆ 1893      ┆ \\N      ┆ 1         ┆ Comedy,Sh │\n",
       "│           ┆           ┆ Scene      ┆ h Scene   ┆   ┆           ┆         ┆           ┆ ort       │\n",
       "│ …         ┆ …         ┆ …          ┆ …         ┆ … ┆ …         ┆ …       ┆ …         ┆ …         │\n",
       "│ tt9916848 ┆ tvEpisode ┆ Episode    ┆ Episode   ┆ … ┆ 2009      ┆ \\N      ┆ \\N        ┆ Action,Dr │\n",
       "│           ┆           ┆ #3.17      ┆ #3.17     ┆   ┆           ┆         ┆           ┆ ama,Famil │\n",
       "│           ┆           ┆            ┆           ┆   ┆           ┆         ┆           ┆ y         │\n",
       "│ tt9916850 ┆ tvEpisode ┆ Episode    ┆ Episode   ┆ … ┆ 2010      ┆ \\N      ┆ \\N        ┆ Action,Dr │\n",
       "│           ┆           ┆ #3.19      ┆ #3.19     ┆   ┆           ┆         ┆           ┆ ama,Famil │\n",
       "│           ┆           ┆            ┆           ┆   ┆           ┆         ┆           ┆ y         │\n",
       "│ tt9916852 ┆ tvEpisode ┆ Episode    ┆ Episode   ┆ … ┆ 2010      ┆ \\N      ┆ \\N        ┆ Action,Dr │\n",
       "│           ┆           ┆ #3.20      ┆ #3.20     ┆   ┆           ┆         ┆           ┆ ama,Famil │\n",
       "│           ┆           ┆            ┆           ┆   ┆           ┆         ┆           ┆ y         │\n",
       "│ tt9916856 ┆ short     ┆ The Wind   ┆ The Wind  ┆ … ┆ 2015      ┆ \\N      ┆ 27        ┆ Short     │\n",
       "│ tt9916880 ┆ tvEpisode ┆ Horrid     ┆ Horrid    ┆ … ┆ 2014      ┆ \\N      ┆ 10        ┆ Adventure │\n",
       "│           ┆           ┆ Henry      ┆ Henry     ┆   ┆           ┆         ┆           ┆ ,Animatio │\n",
       "│           ┆           ┆ Knows It   ┆ Knows It  ┆   ┆           ┆         ┆           ┆ n,Comedy  │\n",
       "│           ┆           ┆ All        ┆ All       ┆   ┆           ┆         ┆           ┆           │\n",
       "└───────────┴───────────┴────────────┴───────────┴───┴───────────┴─────────┴───────────┴───────────┘"
      ]
     },
     "execution_count": 2,
     "metadata": {},
     "output_type": "execute_result"
    }
   ],
   "source": [
    "data_dir = \"/Users/maxwoolf/Downloads\"\n",
    "\n",
    "df_titles = pl.read_csv(\n",
    "    os.path.join(data_dir, \"title.basics.tsv.gz\"),\n",
    "    separator=\"\\t\",\n",
    "    ignore_errors=True,\n",
    "    quote_char=None,\n",
    ")\n",
    "\n",
    "df_titles"
   ]
  },
  {
   "cell_type": "code",
   "execution_count": 3,
   "metadata": {},
   "outputs": [
    {
     "data": {
      "text/plain": [
       "['short',\n",
       " 'tvPilot',\n",
       " 'tvMovie',\n",
       " 'tvSeries',\n",
       " 'tvShort',\n",
       " 'videoGame',\n",
       " 'tvEpisode',\n",
       " 'tvSpecial',\n",
       " 'tvMiniSeries',\n",
       " 'video',\n",
       " 'movie']"
      ]
     },
     "execution_count": 3,
     "metadata": {},
     "output_type": "execute_result"
    }
   ],
   "source": [
    "df_titles[\"titleType\"].unique().to_list()"
   ]
  },
  {
   "cell_type": "code",
   "execution_count": 4,
   "metadata": {},
   "outputs": [
    {
     "data": {
      "text/html": [
       "<div><style>\n",
       ".dataframe > thead > tr,\n",
       ".dataframe > tbody > tr {\n",
       "  text-align: right;\n",
       "  white-space: pre-wrap;\n",
       "}\n",
       "</style>\n",
       "<small>shape: (845_865, 9)</small><table border=\"1\" class=\"dataframe\"><thead><tr><th>tconst</th><th>titleType</th><th>primaryTitle</th><th>originalTitle</th><th>isAdult</th><th>startYear</th><th>endYear</th><th>runtimeMinutes</th><th>genres</th></tr><tr><td>str</td><td>str</td><td>str</td><td>str</td><td>i64</td><td>i64</td><td>str</td><td>str</td><td>str</td></tr></thead><tbody><tr><td>&quot;tt0000009&quot;</td><td>&quot;movie&quot;</td><td>&quot;Miss Jerry&quot;</td><td>&quot;Miss Jerry&quot;</td><td>0</td><td>1894</td><td>&quot;\\N&quot;</td><td>&quot;45&quot;</td><td>&quot;Romance&quot;</td></tr><tr><td>&quot;tt0000147&quot;</td><td>&quot;movie&quot;</td><td>&quot;The Corbett-Fitzsimmons Fight&quot;</td><td>&quot;The Corbett-Fitzsimmons Fight&quot;</td><td>0</td><td>1897</td><td>&quot;\\N&quot;</td><td>&quot;100&quot;</td><td>&quot;Documentary,News,Sport&quot;</td></tr><tr><td>&quot;tt0000502&quot;</td><td>&quot;movie&quot;</td><td>&quot;Bohemios&quot;</td><td>&quot;Bohemios&quot;</td><td>0</td><td>1905</td><td>&quot;\\N&quot;</td><td>&quot;100&quot;</td><td>&quot;\\N&quot;</td></tr><tr><td>&quot;tt0000574&quot;</td><td>&quot;movie&quot;</td><td>&quot;The Story of the Kelly Gang&quot;</td><td>&quot;The Story of the Kelly Gang&quot;</td><td>0</td><td>1906</td><td>&quot;\\N&quot;</td><td>&quot;70&quot;</td><td>&quot;Action,Adventure,Biography&quot;</td></tr><tr><td>&quot;tt0000591&quot;</td><td>&quot;movie&quot;</td><td>&quot;The Prodigal Son&quot;</td><td>&quot;L&#x27;enfant prodigue&quot;</td><td>0</td><td>1907</td><td>&quot;\\N&quot;</td><td>&quot;90&quot;</td><td>&quot;Drama&quot;</td></tr><tr><td>&hellip;</td><td>&hellip;</td><td>&hellip;</td><td>&hellip;</td><td>&hellip;</td><td>&hellip;</td><td>&hellip;</td><td>&hellip;</td><td>&hellip;</td></tr><tr><td>&quot;tt9916680&quot;</td><td>&quot;movie&quot;</td><td>&quot;De la ilusión al desconcierto:…</td><td>&quot;De la ilusión al desconcierto:…</td><td>0</td><td>2007</td><td>&quot;\\N&quot;</td><td>&quot;100&quot;</td><td>&quot;Documentary&quot;</td></tr><tr><td>&quot;tt9916692&quot;</td><td>&quot;tvMovie&quot;</td><td>&quot;Teatroteka: Czlowiek bez twarz…</td><td>&quot;Teatroteka: Czlowiek bez twarz…</td><td>0</td><td>2015</td><td>&quot;\\N&quot;</td><td>&quot;66&quot;</td><td>&quot;Drama&quot;</td></tr><tr><td>&quot;tt9916706&quot;</td><td>&quot;movie&quot;</td><td>&quot;Dankyavar Danka&quot;</td><td>&quot;Dankyavar Danka&quot;</td><td>0</td><td>2013</td><td>&quot;\\N&quot;</td><td>&quot;\\N&quot;</td><td>&quot;Comedy&quot;</td></tr><tr><td>&quot;tt9916730&quot;</td><td>&quot;movie&quot;</td><td>&quot;6 Gunn&quot;</td><td>&quot;6 Gunn&quot;</td><td>0</td><td>2017</td><td>&quot;\\N&quot;</td><td>&quot;116&quot;</td><td>&quot;Drama&quot;</td></tr><tr><td>&quot;tt9916754&quot;</td><td>&quot;movie&quot;</td><td>&quot;Chico Albuquerque - Revelações&quot;</td><td>&quot;Chico Albuquerque - Revelações&quot;</td><td>0</td><td>2013</td><td>&quot;\\N&quot;</td><td>&quot;49&quot;</td><td>&quot;Documentary&quot;</td></tr></tbody></table></div>"
      ],
      "text/plain": [
       "shape: (845_865, 9)\n",
       "┌───────────┬───────────┬────────────┬───────────┬───┬───────────┬─────────┬───────────┬───────────┐\n",
       "│ tconst    ┆ titleType ┆ primaryTit ┆ originalT ┆ … ┆ startYear ┆ endYear ┆ runtimeMi ┆ genres    │\n",
       "│ ---       ┆ ---       ┆ le         ┆ itle      ┆   ┆ ---       ┆ ---     ┆ nutes     ┆ ---       │\n",
       "│ str       ┆ str       ┆ ---        ┆ ---       ┆   ┆ i64       ┆ str     ┆ ---       ┆ str       │\n",
       "│           ┆           ┆ str        ┆ str       ┆   ┆           ┆         ┆ str       ┆           │\n",
       "╞═══════════╪═══════════╪════════════╪═══════════╪═══╪═══════════╪═════════╪═══════════╪═══════════╡\n",
       "│ tt0000009 ┆ movie     ┆ Miss Jerry ┆ Miss      ┆ … ┆ 1894      ┆ \\N      ┆ 45        ┆ Romance   │\n",
       "│           ┆           ┆            ┆ Jerry     ┆   ┆           ┆         ┆           ┆           │\n",
       "│ tt0000147 ┆ movie     ┆ The Corbet ┆ The Corbe ┆ … ┆ 1897      ┆ \\N      ┆ 100       ┆ Documenta │\n",
       "│           ┆           ┆ t-Fitzsimm ┆ tt-Fitzsi ┆   ┆           ┆         ┆           ┆ ry,News,S │\n",
       "│           ┆           ┆ ons Fight  ┆ mmons     ┆   ┆           ┆         ┆           ┆ port      │\n",
       "│           ┆           ┆            ┆ Fight     ┆   ┆           ┆         ┆           ┆           │\n",
       "│ tt0000502 ┆ movie     ┆ Bohemios   ┆ Bohemios  ┆ … ┆ 1905      ┆ \\N      ┆ 100       ┆ \\N        │\n",
       "│ tt0000574 ┆ movie     ┆ The Story  ┆ The Story ┆ … ┆ 1906      ┆ \\N      ┆ 70        ┆ Action,Ad │\n",
       "│           ┆           ┆ of the     ┆ of the    ┆   ┆           ┆         ┆           ┆ venture,B │\n",
       "│           ┆           ┆ Kelly Gang ┆ Kelly     ┆   ┆           ┆         ┆           ┆ iography  │\n",
       "│           ┆           ┆            ┆ Gang      ┆   ┆           ┆         ┆           ┆           │\n",
       "│ tt0000591 ┆ movie     ┆ The        ┆ L'enfant  ┆ … ┆ 1907      ┆ \\N      ┆ 90        ┆ Drama     │\n",
       "│           ┆           ┆ Prodigal   ┆ prodigue  ┆   ┆           ┆         ┆           ┆           │\n",
       "│           ┆           ┆ Son        ┆           ┆   ┆           ┆         ┆           ┆           │\n",
       "│ …         ┆ …         ┆ …          ┆ …         ┆ … ┆ …         ┆ …       ┆ …         ┆ …         │\n",
       "│ tt9916680 ┆ movie     ┆ De la      ┆ De la     ┆ … ┆ 2007      ┆ \\N      ┆ 100       ┆ Documenta │\n",
       "│           ┆           ┆ ilusión al ┆ ilusión   ┆   ┆           ┆         ┆           ┆ ry        │\n",
       "│           ┆           ┆ desconcier ┆ al descon ┆   ┆           ┆         ┆           ┆           │\n",
       "│           ┆           ┆ to:…       ┆ cierto:…  ┆   ┆           ┆         ┆           ┆           │\n",
       "│ tt9916692 ┆ tvMovie   ┆ Teatroteka ┆ Teatrotek ┆ … ┆ 2015      ┆ \\N      ┆ 66        ┆ Drama     │\n",
       "│           ┆           ┆ : Czlowiek ┆ a:        ┆   ┆           ┆         ┆           ┆           │\n",
       "│           ┆           ┆ bez twarz… ┆ Czlowiek  ┆   ┆           ┆         ┆           ┆           │\n",
       "│           ┆           ┆            ┆ bez       ┆   ┆           ┆         ┆           ┆           │\n",
       "│           ┆           ┆            ┆ twarz…    ┆   ┆           ┆         ┆           ┆           │\n",
       "│ tt9916706 ┆ movie     ┆ Dankyavar  ┆ Dankyavar ┆ … ┆ 2013      ┆ \\N      ┆ \\N        ┆ Comedy    │\n",
       "│           ┆           ┆ Danka      ┆ Danka     ┆   ┆           ┆         ┆           ┆           │\n",
       "│ tt9916730 ┆ movie     ┆ 6 Gunn     ┆ 6 Gunn    ┆ … ┆ 2017      ┆ \\N      ┆ 116       ┆ Drama     │\n",
       "│ tt9916754 ┆ movie     ┆ Chico Albu ┆ Chico Alb ┆ … ┆ 2013      ┆ \\N      ┆ 49        ┆ Documenta │\n",
       "│           ┆           ┆ querque -  ┆ uquerque  ┆   ┆           ┆         ┆           ┆ ry        │\n",
       "│           ┆           ┆ Revelações ┆ - Revelaç ┆   ┆           ┆         ┆           ┆           │\n",
       "│           ┆           ┆            ┆ ões       ┆   ┆           ┆         ┆           ┆           │\n",
       "└───────────┴───────────┴────────────┴───────────┴───┴───────────┴─────────┴───────────┴───────────┘"
      ]
     },
     "execution_count": 4,
     "metadata": {},
     "output_type": "execute_result"
    }
   ],
   "source": [
    "df_titles = df_titles.filter(pl.col(\"titleType\").is_in([\"movie\", \"tvMovie\"]))\n",
    "df_titles"
   ]
  },
  {
   "cell_type": "code",
   "execution_count": 5,
   "metadata": {},
   "outputs": [
    {
     "data": {
      "text/html": [
       "<div><style>\n",
       ".dataframe > thead > tr,\n",
       ".dataframe > tbody > tr {\n",
       "  text-align: right;\n",
       "  white-space: pre-wrap;\n",
       "}\n",
       "</style>\n",
       "<small>shape: (1_498_284, 3)</small><table border=\"1\" class=\"dataframe\"><thead><tr><th>tconst</th><th>averageRating</th><th>numVotes</th></tr><tr><td>str</td><td>f64</td><td>i64</td></tr></thead><tbody><tr><td>&quot;tt0000001&quot;</td><td>5.7</td><td>2100</td></tr><tr><td>&quot;tt0000002&quot;</td><td>5.6</td><td>282</td></tr><tr><td>&quot;tt0000003&quot;</td><td>6.5</td><td>2119</td></tr><tr><td>&quot;tt0000004&quot;</td><td>5.4</td><td>182</td></tr><tr><td>&quot;tt0000005&quot;</td><td>6.2</td><td>2850</td></tr><tr><td>&hellip;</td><td>&hellip;</td><td>&hellip;</td></tr><tr><td>&quot;tt9916730&quot;</td><td>7.0</td><td>12</td></tr><tr><td>&quot;tt9916766&quot;</td><td>7.1</td><td>24</td></tr><tr><td>&quot;tt9916778&quot;</td><td>7.2</td><td>37</td></tr><tr><td>&quot;tt9916840&quot;</td><td>6.9</td><td>11</td></tr><tr><td>&quot;tt9916880&quot;</td><td>7.9</td><td>9</td></tr></tbody></table></div>"
      ],
      "text/plain": [
       "shape: (1_498_284, 3)\n",
       "┌───────────┬───────────────┬──────────┐\n",
       "│ tconst    ┆ averageRating ┆ numVotes │\n",
       "│ ---       ┆ ---           ┆ ---      │\n",
       "│ str       ┆ f64           ┆ i64      │\n",
       "╞═══════════╪═══════════════╪══════════╡\n",
       "│ tt0000001 ┆ 5.7           ┆ 2100     │\n",
       "│ tt0000002 ┆ 5.6           ┆ 282      │\n",
       "│ tt0000003 ┆ 6.5           ┆ 2119     │\n",
       "│ tt0000004 ┆ 5.4           ┆ 182      │\n",
       "│ tt0000005 ┆ 6.2           ┆ 2850     │\n",
       "│ …         ┆ …             ┆ …        │\n",
       "│ tt9916730 ┆ 7.0           ┆ 12       │\n",
       "│ tt9916766 ┆ 7.1           ┆ 24       │\n",
       "│ tt9916778 ┆ 7.2           ┆ 37       │\n",
       "│ tt9916840 ┆ 6.9           ┆ 11       │\n",
       "│ tt9916880 ┆ 7.9           ┆ 9        │\n",
       "└───────────┴───────────────┴──────────┘"
      ]
     },
     "execution_count": 5,
     "metadata": {},
     "output_type": "execute_result"
    }
   ],
   "source": [
    "df_ratings = pl.read_csv(\n",
    "    os.path.join(data_dir, \"title.ratings.tsv.gz\"), separator=\"\\t\", ignore_errors=True\n",
    ")\n",
    "\n",
    "df_ratings"
   ]
  },
  {
   "cell_type": "markdown",
   "metadata": {},
   "source": [
    "Make the base table as small as possible before unnesting/joining.\n"
   ]
  },
  {
   "cell_type": "code",
   "execution_count": 6,
   "metadata": {},
   "outputs": [
    {
     "data": {
      "text/html": [
       "<div><style>\n",
       ".dataframe > thead > tr,\n",
       ".dataframe > tbody > tr {\n",
       "  text-align: right;\n",
       "  white-space: pre-wrap;\n",
       "}\n",
       "</style>\n",
       "<small>shape: (374_023, 11)</small><table border=\"1\" class=\"dataframe\"><thead><tr><th>tconst</th><th>titleType</th><th>primaryTitle</th><th>originalTitle</th><th>isAdult</th><th>startYear</th><th>endYear</th><th>runtimeMinutes</th><th>genres</th><th>averageRating</th><th>numVotes</th></tr><tr><td>str</td><td>str</td><td>str</td><td>str</td><td>i64</td><td>i64</td><td>str</td><td>str</td><td>str</td><td>f64</td><td>i64</td></tr></thead><tbody><tr><td>&quot;tt9916730&quot;</td><td>&quot;movie&quot;</td><td>&quot;6 Gunn&quot;</td><td>&quot;6 Gunn&quot;</td><td>0</td><td>2017</td><td>&quot;\\N&quot;</td><td>&quot;116&quot;</td><td>&quot;Drama&quot;</td><td>7.0</td><td>12</td></tr><tr><td>&quot;tt9916706&quot;</td><td>&quot;movie&quot;</td><td>&quot;Dankyavar Danka&quot;</td><td>&quot;Dankyavar Danka&quot;</td><td>0</td><td>2013</td><td>&quot;\\N&quot;</td><td>&quot;\\N&quot;</td><td>&quot;Comedy&quot;</td><td>8.4</td><td>8</td></tr><tr><td>&quot;tt9916538&quot;</td><td>&quot;movie&quot;</td><td>&quot;Kuambil Lagi Hatiku&quot;</td><td>&quot;Kuambil Lagi Hatiku&quot;</td><td>0</td><td>2019</td><td>&quot;\\N&quot;</td><td>&quot;123&quot;</td><td>&quot;Drama&quot;</td><td>8.3</td><td>9</td></tr><tr><td>&quot;tt9916460&quot;</td><td>&quot;tvMovie&quot;</td><td>&quot;Pink Taxi&quot;</td><td>&quot;Pink Taxi&quot;</td><td>0</td><td>2019</td><td>&quot;\\N&quot;</td><td>&quot;\\N&quot;</td><td>&quot;Comedy&quot;</td><td>8.9</td><td>19</td></tr><tr><td>&quot;tt9916428&quot;</td><td>&quot;movie&quot;</td><td>&quot;The Secret of China&quot;</td><td>&quot;Hong xing zhao yao Zhong guo&quot;</td><td>0</td><td>2019</td><td>&quot;\\N&quot;</td><td>&quot;\\N&quot;</td><td>&quot;Adventure,History,War&quot;</td><td>3.6</td><td>19</td></tr><tr><td>&hellip;</td><td>&hellip;</td><td>&hellip;</td><td>&hellip;</td><td>&hellip;</td><td>&hellip;</td><td>&hellip;</td><td>&hellip;</td><td>&hellip;</td><td>&hellip;</td><td>&hellip;</td></tr><tr><td>&quot;tt0000591&quot;</td><td>&quot;movie&quot;</td><td>&quot;The Prodigal Son&quot;</td><td>&quot;L&#x27;enfant prodigue&quot;</td><td>0</td><td>1907</td><td>&quot;\\N&quot;</td><td>&quot;90&quot;</td><td>&quot;Drama&quot;</td><td>5.7</td><td>28</td></tr><tr><td>&quot;tt0000574&quot;</td><td>&quot;movie&quot;</td><td>&quot;The Story of the Kelly Gang&quot;</td><td>&quot;The Story of the Kelly Gang&quot;</td><td>0</td><td>1906</td><td>&quot;\\N&quot;</td><td>&quot;70&quot;</td><td>&quot;Action,Adventure,Biography&quot;</td><td>6.0</td><td>938</td></tr><tr><td>&quot;tt0000502&quot;</td><td>&quot;movie&quot;</td><td>&quot;Bohemios&quot;</td><td>&quot;Bohemios&quot;</td><td>0</td><td>1905</td><td>&quot;\\N&quot;</td><td>&quot;100&quot;</td><td>&quot;\\N&quot;</td><td>4.4</td><td>18</td></tr><tr><td>&quot;tt0000147&quot;</td><td>&quot;movie&quot;</td><td>&quot;The Corbett-Fitzsimmons Fight&quot;</td><td>&quot;The Corbett-Fitzsimmons Fight&quot;</td><td>0</td><td>1897</td><td>&quot;\\N&quot;</td><td>&quot;100&quot;</td><td>&quot;Documentary,News,Sport&quot;</td><td>5.2</td><td>539</td></tr><tr><td>&quot;tt0000009&quot;</td><td>&quot;movie&quot;</td><td>&quot;Miss Jerry&quot;</td><td>&quot;Miss Jerry&quot;</td><td>0</td><td>1894</td><td>&quot;\\N&quot;</td><td>&quot;45&quot;</td><td>&quot;Romance&quot;</td><td>5.4</td><td>215</td></tr></tbody></table></div>"
      ],
      "text/plain": [
       "shape: (374_023, 11)\n",
       "┌───────────┬───────────┬───────────┬───────────┬───┬───────────┬───────────┬───────────┬──────────┐\n",
       "│ tconst    ┆ titleType ┆ primaryTi ┆ originalT ┆ … ┆ runtimeMi ┆ genres    ┆ averageRa ┆ numVotes │\n",
       "│ ---       ┆ ---       ┆ tle       ┆ itle      ┆   ┆ nutes     ┆ ---       ┆ ting      ┆ ---      │\n",
       "│ str       ┆ str       ┆ ---       ┆ ---       ┆   ┆ ---       ┆ str       ┆ ---       ┆ i64      │\n",
       "│           ┆           ┆ str       ┆ str       ┆   ┆ str       ┆           ┆ f64       ┆          │\n",
       "╞═══════════╪═══════════╪═══════════╪═══════════╪═══╪═══════════╪═══════════╪═══════════╪══════════╡\n",
       "│ tt9916730 ┆ movie     ┆ 6 Gunn    ┆ 6 Gunn    ┆ … ┆ 116       ┆ Drama     ┆ 7.0       ┆ 12       │\n",
       "│ tt9916706 ┆ movie     ┆ Dankyavar ┆ Dankyavar ┆ … ┆ \\N        ┆ Comedy    ┆ 8.4       ┆ 8        │\n",
       "│           ┆           ┆ Danka     ┆ Danka     ┆   ┆           ┆           ┆           ┆          │\n",
       "│ tt9916538 ┆ movie     ┆ Kuambil   ┆ Kuambil   ┆ … ┆ 123       ┆ Drama     ┆ 8.3       ┆ 9        │\n",
       "│           ┆           ┆ Lagi      ┆ Lagi      ┆   ┆           ┆           ┆           ┆          │\n",
       "│           ┆           ┆ Hatiku    ┆ Hatiku    ┆   ┆           ┆           ┆           ┆          │\n",
       "│ tt9916460 ┆ tvMovie   ┆ Pink Taxi ┆ Pink Taxi ┆ … ┆ \\N        ┆ Comedy    ┆ 8.9       ┆ 19       │\n",
       "│ tt9916428 ┆ movie     ┆ The       ┆ Hong xing ┆ … ┆ \\N        ┆ Adventure ┆ 3.6       ┆ 19       │\n",
       "│           ┆           ┆ Secret of ┆ zhao yao  ┆   ┆           ┆ ,History, ┆           ┆          │\n",
       "│           ┆           ┆ China     ┆ Zhong guo ┆   ┆           ┆ War       ┆           ┆          │\n",
       "│ …         ┆ …         ┆ …         ┆ …         ┆ … ┆ …         ┆ …         ┆ …         ┆ …        │\n",
       "│ tt0000591 ┆ movie     ┆ The       ┆ L'enfant  ┆ … ┆ 90        ┆ Drama     ┆ 5.7       ┆ 28       │\n",
       "│           ┆           ┆ Prodigal  ┆ prodigue  ┆   ┆           ┆           ┆           ┆          │\n",
       "│           ┆           ┆ Son       ┆           ┆   ┆           ┆           ┆           ┆          │\n",
       "│ tt0000574 ┆ movie     ┆ The Story ┆ The Story ┆ … ┆ 70        ┆ Action,Ad ┆ 6.0       ┆ 938      │\n",
       "│           ┆           ┆ of the    ┆ of the    ┆   ┆           ┆ venture,B ┆           ┆          │\n",
       "│           ┆           ┆ Kelly     ┆ Kelly     ┆   ┆           ┆ iography  ┆           ┆          │\n",
       "│           ┆           ┆ Gang      ┆ Gang      ┆   ┆           ┆           ┆           ┆          │\n",
       "│ tt0000502 ┆ movie     ┆ Bohemios  ┆ Bohemios  ┆ … ┆ 100       ┆ \\N        ┆ 4.4       ┆ 18       │\n",
       "│ tt0000147 ┆ movie     ┆ The Corbe ┆ The Corbe ┆ … ┆ 100       ┆ Documenta ┆ 5.2       ┆ 539      │\n",
       "│           ┆           ┆ tt-Fitzsi ┆ tt-Fitzsi ┆   ┆           ┆ ry,News,S ┆           ┆          │\n",
       "│           ┆           ┆ mmons     ┆ mmons     ┆   ┆           ┆ port      ┆           ┆          │\n",
       "│           ┆           ┆ Fight     ┆ Fight     ┆   ┆           ┆           ┆           ┆          │\n",
       "│ tt0000009 ┆ movie     ┆ Miss      ┆ Miss      ┆ … ┆ 45        ┆ Romance   ┆ 5.4       ┆ 215      │\n",
       "│           ┆           ┆ Jerry     ┆ Jerry     ┆   ┆           ┆           ┆           ┆          │\n",
       "└───────────┴───────────┴───────────┴───────────┴───┴───────────┴───────────┴───────────┴──────────┘"
      ]
     },
     "execution_count": 6,
     "metadata": {},
     "output_type": "execute_result"
    }
   ],
   "source": [
    "df_denorm = (\n",
    "    df_titles.join(df_ratings, on=\"tconst\")\n",
    "    .filter(pl.col(\"averageRating\").is_not_null())\n",
    "    # .with_columns(pl.col(\"genres\").str.split(\",\"))\n",
    "    .sort(\"tconst\", descending=True)\n",
    ")\n",
    "df_denorm"
   ]
  },
  {
   "cell_type": "code",
   "execution_count": 7,
   "metadata": {},
   "outputs": [
    {
     "data": {
      "text/html": [
       "<div><style>\n",
       ".dataframe > thead > tr,\n",
       ".dataframe > tbody > tr {\n",
       "  text-align: right;\n",
       "  white-space: pre-wrap;\n",
       "}\n",
       "</style>\n",
       "<small>shape: (5_850_121, 11)</small><table border=\"1\" class=\"dataframe\"><thead><tr><th>tconst</th><th>ordering</th><th>nconst</th><th>category</th><th>job</th><th>characters</th><th>primaryName</th><th>birthYear</th><th>deathYear</th><th>primaryProfession</th><th>knownForTitles</th></tr><tr><td>str</td><td>i64</td><td>str</td><td>str</td><td>str</td><td>str</td><td>str</td><td>str</td><td>str</td><td>str</td><td>str</td></tr></thead><tbody><tr><td>&quot;tt0023926&quot;</td><td>6</td><td>&quot;nm0000001&quot;</td><td>&quot;actor&quot;</td><td>&quot;\\N&quot;</td><td>&quot;[&quot;Fred Astaire&quot;]&quot;</td><td>&quot;Fred Astaire&quot;</td><td>&quot;1899&quot;</td><td>&quot;1987&quot;</td><td>&quot;actor,miscellaneous,producer&quot;</td><td>&quot;tt0072308,tt0050419,tt0053137,…</td></tr><tr><td>&quot;tt0024025&quot;</td><td>5</td><td>&quot;nm0000001&quot;</td><td>&quot;actor&quot;</td><td>&quot;\\N&quot;</td><td>&quot;[&quot;Fred Ayres&quot;]&quot;</td><td>&quot;Fred Astaire&quot;</td><td>&quot;1899&quot;</td><td>&quot;1987&quot;</td><td>&quot;actor,miscellaneous,producer&quot;</td><td>&quot;tt0072308,tt0050419,tt0053137,…</td></tr><tr><td>&quot;tt0025164&quot;</td><td>1</td><td>&quot;nm0000001&quot;</td><td>&quot;actor&quot;</td><td>&quot;\\N&quot;</td><td>&quot;[&quot;Guy Holden&quot;]&quot;</td><td>&quot;Fred Astaire&quot;</td><td>&quot;1899&quot;</td><td>&quot;1987&quot;</td><td>&quot;actor,miscellaneous,producer&quot;</td><td>&quot;tt0072308,tt0050419,tt0053137,…</td></tr><tr><td>&quot;tt0026942&quot;</td><td>2</td><td>&quot;nm0000001&quot;</td><td>&quot;actor&quot;</td><td>&quot;\\N&quot;</td><td>&quot;[&quot;Huck Haines&quot;]&quot;</td><td>&quot;Fred Astaire&quot;</td><td>&quot;1899&quot;</td><td>&quot;1987&quot;</td><td>&quot;actor,miscellaneous,producer&quot;</td><td>&quot;tt0072308,tt0050419,tt0053137,…</td></tr><tr><td>&quot;tt0027125&quot;</td><td>1</td><td>&quot;nm0000001&quot;</td><td>&quot;actor&quot;</td><td>&quot;\\N&quot;</td><td>&quot;[&quot;Jerry Travers&quot;]&quot;</td><td>&quot;Fred Astaire&quot;</td><td>&quot;1899&quot;</td><td>&quot;1987&quot;</td><td>&quot;actor,miscellaneous,producer&quot;</td><td>&quot;tt0072308,tt0050419,tt0053137,…</td></tr><tr><td>&hellip;</td><td>&hellip;</td><td>&hellip;</td><td>&hellip;</td><td>&hellip;</td><td>&hellip;</td><td>&hellip;</td><td>&hellip;</td><td>&hellip;</td><td>&hellip;</td><td>&hellip;</td></tr><tr><td>&quot;tt18361688&quot;</td><td>9</td><td>&quot;nm9993694&quot;</td><td>&quot;director&quot;</td><td>&quot;\\N&quot;</td><td>&quot;\\N&quot;</td><td>&quot;Chinmay Mishra&quot;</td><td>&quot;\\N&quot;</td><td>&quot;\\N&quot;</td><td>&quot;actor,director,producer&quot;</td><td>&quot;tt18361688,tt18687502,tt873775…</td></tr><tr><td>&quot;tt18361688&quot;</td><td>10</td><td>&quot;nm9993694&quot;</td><td>&quot;writer&quot;</td><td>&quot;story and screenplay&quot;</td><td>&quot;\\N&quot;</td><td>&quot;Chinmay Mishra&quot;</td><td>&quot;\\N&quot;</td><td>&quot;\\N&quot;</td><td>&quot;actor,director,producer&quot;</td><td>&quot;tt18361688,tt18687502,tt873775…</td></tr><tr><td>&quot;tt18687502&quot;</td><td>6</td><td>&quot;nm9993694&quot;</td><td>&quot;director&quot;</td><td>&quot;\\N&quot;</td><td>&quot;\\N&quot;</td><td>&quot;Chinmay Mishra&quot;</td><td>&quot;\\N&quot;</td><td>&quot;\\N&quot;</td><td>&quot;actor,director,producer&quot;</td><td>&quot;tt18361688,tt18687502,tt873775…</td></tr><tr><td>&quot;tt18687502&quot;</td><td>8</td><td>&quot;nm9993694&quot;</td><td>&quot;writer&quot;</td><td>&quot;screenplay&quot;</td><td>&quot;\\N&quot;</td><td>&quot;Chinmay Mishra&quot;</td><td>&quot;\\N&quot;</td><td>&quot;\\N&quot;</td><td>&quot;actor,director,producer&quot;</td><td>&quot;tt18361688,tt18687502,tt873775…</td></tr><tr><td>&quot;tt21334604&quot;</td><td>15</td><td>&quot;nm9993694&quot;</td><td>&quot;producer&quot;</td><td>&quot;producer&quot;</td><td>&quot;\\N&quot;</td><td>&quot;Chinmay Mishra&quot;</td><td>&quot;\\N&quot;</td><td>&quot;\\N&quot;</td><td>&quot;actor,director,producer&quot;</td><td>&quot;tt18361688,tt18687502,tt873775…</td></tr></tbody></table></div>"
      ],
      "text/plain": [
       "shape: (5_850_121, 11)\n",
       "┌────────────┬──────────┬───────────┬──────────┬───┬───────────┬───────────┬───────────┬───────────┐\n",
       "│ tconst     ┆ ordering ┆ nconst    ┆ category ┆ … ┆ birthYear ┆ deathYear ┆ primaryPr ┆ knownForT │\n",
       "│ ---        ┆ ---      ┆ ---       ┆ ---      ┆   ┆ ---       ┆ ---       ┆ ofession  ┆ itles     │\n",
       "│ str        ┆ i64      ┆ str       ┆ str      ┆   ┆ str       ┆ str       ┆ ---       ┆ ---       │\n",
       "│            ┆          ┆           ┆          ┆   ┆           ┆           ┆ str       ┆ str       │\n",
       "╞════════════╪══════════╪═══════════╪══════════╪═══╪═══════════╪═══════════╪═══════════╪═══════════╡\n",
       "│ tt0023926  ┆ 6        ┆ nm0000001 ┆ actor    ┆ … ┆ 1899      ┆ 1987      ┆ actor,mis ┆ tt0072308 │\n",
       "│            ┆          ┆           ┆          ┆   ┆           ┆           ┆ cellaneou ┆ ,tt005041 │\n",
       "│            ┆          ┆           ┆          ┆   ┆           ┆           ┆ s,produce ┆ 9,tt00531 │\n",
       "│            ┆          ┆           ┆          ┆   ┆           ┆           ┆ r         ┆ 37,…      │\n",
       "│ tt0024025  ┆ 5        ┆ nm0000001 ┆ actor    ┆ … ┆ 1899      ┆ 1987      ┆ actor,mis ┆ tt0072308 │\n",
       "│            ┆          ┆           ┆          ┆   ┆           ┆           ┆ cellaneou ┆ ,tt005041 │\n",
       "│            ┆          ┆           ┆          ┆   ┆           ┆           ┆ s,produce ┆ 9,tt00531 │\n",
       "│            ┆          ┆           ┆          ┆   ┆           ┆           ┆ r         ┆ 37,…      │\n",
       "│ tt0025164  ┆ 1        ┆ nm0000001 ┆ actor    ┆ … ┆ 1899      ┆ 1987      ┆ actor,mis ┆ tt0072308 │\n",
       "│            ┆          ┆           ┆          ┆   ┆           ┆           ┆ cellaneou ┆ ,tt005041 │\n",
       "│            ┆          ┆           ┆          ┆   ┆           ┆           ┆ s,produce ┆ 9,tt00531 │\n",
       "│            ┆          ┆           ┆          ┆   ┆           ┆           ┆ r         ┆ 37,…      │\n",
       "│ tt0026942  ┆ 2        ┆ nm0000001 ┆ actor    ┆ … ┆ 1899      ┆ 1987      ┆ actor,mis ┆ tt0072308 │\n",
       "│            ┆          ┆           ┆          ┆   ┆           ┆           ┆ cellaneou ┆ ,tt005041 │\n",
       "│            ┆          ┆           ┆          ┆   ┆           ┆           ┆ s,produce ┆ 9,tt00531 │\n",
       "│            ┆          ┆           ┆          ┆   ┆           ┆           ┆ r         ┆ 37,…      │\n",
       "│ tt0027125  ┆ 1        ┆ nm0000001 ┆ actor    ┆ … ┆ 1899      ┆ 1987      ┆ actor,mis ┆ tt0072308 │\n",
       "│            ┆          ┆           ┆          ┆   ┆           ┆           ┆ cellaneou ┆ ,tt005041 │\n",
       "│            ┆          ┆           ┆          ┆   ┆           ┆           ┆ s,produce ┆ 9,tt00531 │\n",
       "│            ┆          ┆           ┆          ┆   ┆           ┆           ┆ r         ┆ 37,…      │\n",
       "│ …          ┆ …        ┆ …         ┆ …        ┆ … ┆ …         ┆ …         ┆ …         ┆ …         │\n",
       "│ tt18361688 ┆ 9        ┆ nm9993694 ┆ director ┆ … ┆ \\N        ┆ \\N        ┆ actor,dir ┆ tt1836168 │\n",
       "│            ┆          ┆           ┆          ┆   ┆           ┆           ┆ ector,pro ┆ 8,tt18687 │\n",
       "│            ┆          ┆           ┆          ┆   ┆           ┆           ┆ ducer     ┆ 502,tt873 │\n",
       "│            ┆          ┆           ┆          ┆   ┆           ┆           ┆           ┆ 775…      │\n",
       "│ tt18361688 ┆ 10       ┆ nm9993694 ┆ writer   ┆ … ┆ \\N        ┆ \\N        ┆ actor,dir ┆ tt1836168 │\n",
       "│            ┆          ┆           ┆          ┆   ┆           ┆           ┆ ector,pro ┆ 8,tt18687 │\n",
       "│            ┆          ┆           ┆          ┆   ┆           ┆           ┆ ducer     ┆ 502,tt873 │\n",
       "│            ┆          ┆           ┆          ┆   ┆           ┆           ┆           ┆ 775…      │\n",
       "│ tt18687502 ┆ 6        ┆ nm9993694 ┆ director ┆ … ┆ \\N        ┆ \\N        ┆ actor,dir ┆ tt1836168 │\n",
       "│            ┆          ┆           ┆          ┆   ┆           ┆           ┆ ector,pro ┆ 8,tt18687 │\n",
       "│            ┆          ┆           ┆          ┆   ┆           ┆           ┆ ducer     ┆ 502,tt873 │\n",
       "│            ┆          ┆           ┆          ┆   ┆           ┆           ┆           ┆ 775…      │\n",
       "│ tt18687502 ┆ 8        ┆ nm9993694 ┆ writer   ┆ … ┆ \\N        ┆ \\N        ┆ actor,dir ┆ tt1836168 │\n",
       "│            ┆          ┆           ┆          ┆   ┆           ┆           ┆ ector,pro ┆ 8,tt18687 │\n",
       "│            ┆          ┆           ┆          ┆   ┆           ┆           ┆ ducer     ┆ 502,tt873 │\n",
       "│            ┆          ┆           ┆          ┆   ┆           ┆           ┆           ┆ 775…      │\n",
       "│ tt21334604 ┆ 15       ┆ nm9993694 ┆ producer ┆ … ┆ \\N        ┆ \\N        ┆ actor,dir ┆ tt1836168 │\n",
       "│            ┆          ┆           ┆          ┆   ┆           ┆           ┆ ector,pro ┆ 8,tt18687 │\n",
       "│            ┆          ┆           ┆          ┆   ┆           ┆           ┆ ducer     ┆ 502,tt873 │\n",
       "│            ┆          ┆           ┆          ┆   ┆           ┆           ┆           ┆ 775…      │\n",
       "└────────────┴──────────┴───────────┴──────────┴───┴───────────┴───────────┴───────────┴───────────┘"
      ]
     },
     "execution_count": 7,
     "metadata": {},
     "output_type": "execute_result"
    }
   ],
   "source": [
    "valid_tconst = df_denorm[\"tconst\"]\n",
    "\n",
    "df_principals = pl.read_csv(\n",
    "    os.path.join(data_dir, \"title.principals.tsv.gz\"),\n",
    "    separator=\"\\t\",\n",
    "    ignore_errors=True,\n",
    "    quote_char=None,\n",
    ")\n",
    "\n",
    "# df_principals = df_principals.join(df_denorm, on=\"tconst\").filter(pl.col(\"nconst\").is_not_null())\n",
    "df_principals = (\n",
    "    df_principals.filter(\n",
    "        pl.col(\"tconst\").is_in(valid_tconst),\n",
    "        # ~pl.col(\"category\").is_in([\"writer\", \"director\"]),\n",
    "    )  # handling writer and director later\n",
    ")\n",
    "\n",
    "df_names = pl.read_csv(\n",
    "    os.path.join(data_dir, \"name.basics.tsv.gz\"),\n",
    "    separator=\"\\t\",\n",
    "    ignore_errors=True,\n",
    "    quote_char=None,\n",
    ")\n",
    "\n",
    "df_principals = df_principals.join(df_names, on=\"nconst\")\n",
    "\n",
    "df_principals"
   ]
  },
  {
   "cell_type": "code",
   "execution_count": 8,
   "metadata": {},
   "outputs": [
    {
     "data": {
      "text/html": [
       "<div><style>\n",
       ".dataframe > thead > tr,\n",
       ".dataframe > tbody > tr {\n",
       "  text-align: right;\n",
       "  white-space: pre-wrap;\n",
       "}\n",
       "</style>\n",
       "<small>shape: (373_138, 7)</small><table border=\"1\" class=\"dataframe\"><thead><tr><th>tconst</th><th>director_names</th><th>writer_names</th><th>producer_names</th><th>actor_names</th><th>principal_names</th><th>principal_roles</th></tr><tr><td>str</td><td>list[str]</td><td>list[str]</td><td>list[str]</td><td>list[str]</td><td>list[str]</td><td>list[str]</td></tr></thead><tbody><tr><td>&quot;tt0072083&quot;</td><td>[&quot;John Badham&quot;, &quot;Arnold Laven&quot;]</td><td>[&quot;Howard Dimsdale&quot;, &quot;Daphne Du Maurier&quot;, … &quot;W. Somerset Maugham&quot;]</td><td>[&quot;Rita Dillon&quot;, &quot;Herbert Hirschman&quot;]</td><td>[&quot;Bill Bixby&quot;, &quot;Julie Sommars&quot;, … &quot;Lloyd Bochner&quot;]</td><td>[&quot;Rex Harrison&quot;]</td><td>[&quot;self&quot;]</td></tr><tr><td>&quot;tt0112759&quot;</td><td>[&quot;John L&#x27;Ecuyer&quot;]</td><td>[&quot;Jim Carroll&quot;, &quot;John L&#x27;Ecuyer&quot;]</td><td>[&quot;Sandra Cunningham&quot;, &quot;Wayne A. Powell&quot;]</td><td>[&quot;Maurice Dean Wint&quot;, &quot;Callum Keith Rennie&quot;, … &quot;John Dondertman&quot;]</td><td>[&quot;Mark Korven&quot;, &quot;Harald Bachmann&quot;, &quot;Craig Webster&quot;]</td><td>[&quot;composer&quot;, &quot;cinematographer&quot;, &quot;editor&quot;]</td></tr><tr><td>&quot;tt0079598&quot;</td><td>[&quot;Joseph Pevney&quot;]</td><td>[&quot;Gary Sherman&quot;, &quot;Sandor Stern&quot;]</td><td>[&quot;Paul Freeman&quot;]</td><td>[&quot;Steven Keats&quot;, &quot;Jaime Lyn Bauer&quot;, … &quot;Michael McGreevey&quot;]</td><td>[&quot;William Loose&quot;, &quot;Jack K. Tillar&quot;, … &quot;Corky Ehlers&quot;]</td><td>[&quot;composer&quot;, &quot;composer&quot;, … &quot;editor&quot;]</td></tr><tr><td>&quot;tt29033594&quot;</td><td>[&quot;Haranath Chakraborty&quot;]</td><td>[&quot;Padmanabha Dasgupta&quot;]</td><td>[&quot;Nishpal Singh&quot;, &quot;Surinder Singh&quot;]</td><td>[&quot;Ranjit Mallick&quot;, &quot;Ritwick Chakraborty&quot;, … &quot;Soham Majumdar&quot;]</td><td>[&quot;Nabarun Bose&quot;, &quot;Supriyo Dutta&quot;, &quot;Sujay Datta Ray&quot;]</td><td>[&quot;composer&quot;, &quot;cinematographer&quot;, &quot;editor&quot;]</td></tr><tr><td>&quot;tt5032742&quot;</td><td>[&quot;Fabio Leli&quot;]</td><td>[]</td><td>[&quot;Fabio Leli&quot;]</td><td>[]</td><td>[&quot;U&#x27; Papum&quot;, &quot;Fabio Leli&quot;, … &quot;Fabio Leli&quot;]</td><td>[&quot;composer&quot;, &quot;cinematographer&quot;, … &quot;editor&quot;]</td></tr><tr><td>&hellip;</td><td>&hellip;</td><td>&hellip;</td><td>&hellip;</td><td>&hellip;</td><td>&hellip;</td><td>&hellip;</td></tr><tr><td>&quot;tt0052541&quot;</td><td>[&quot;László Ranódy&quot;]</td><td>[&quot;Jozsef Darvas&quot;]</td><td>[]</td><td>[&quot;Éva Pap&quot;, &quot;Géza Tordy&quot;, … &quot;Nusi Somogyi&quot;]</td><td>[&quot;Endre Szervánszky&quot;, &quot;István Pásztor&quot;, … &quot;József Romvári&quot;]</td><td>[&quot;composer&quot;, &quot;cinematographer&quot;, … &quot;production_designer&quot;]</td></tr><tr><td>&quot;tt0110857&quot;</td><td>[&quot;Alan Metter&quot;]</td><td>[&quot;Neal Israel&quot;, &quot;Pat Proft&quot;, … &quot;Michele S. Chodos&quot;]</td><td>[&quot;Paul Maslansky&quot;]</td><td>[&quot;G.W. Bailey&quot;, &quot;George Gaynes&quot;, … &quot;Richard Israel&quot;]</td><td>[&quot;Ian Jones&quot;, &quot;Dennis M. Hill&quot;, … &quot;Frederic C. Weiler&quot;]</td><td>[&quot;cinematographer&quot;, &quot;editor&quot;, … &quot;production_designer&quot;]</td></tr><tr><td>&quot;tt0078023&quot;</td><td>[&quot;Dinos Dimopoulos&quot;]</td><td>[&quot;Dinos Dimopoulos&quot;, &quot;Pantelis Prevelakis&quot;]</td><td>[]</td><td>[&quot;Nelly Angelidou&quot;, &quot;Nikitas Tsakiroglou&quot;, … &quot;Irini Kakavouli&quot;]</td><td>[&quot;Nikos Mamangakis&quot;, &quot;Aris Stavrou&quot;, &quot;Takis Hadzis&quot;]</td><td>[&quot;composer&quot;, &quot;cinematographer&quot;, &quot;editor&quot;]</td></tr><tr><td>&quot;tt1461302&quot;</td><td>[&quot;Gary King&quot;]</td><td>[&quot;Jenn Dees&quot;, &quot;Gary King&quot;]</td><td>[&quot;Gary King&quot;, &quot;Sujata King&quot;, &quot;Jason Varner&quot;]</td><td>[&quot;Jenn Dees&quot;, &quot;Kelli Ambrose&quot;, … &quot;Christine Angela Cox&quot;]</td><td>[&quot;Kenneth Lampl&quot;, &quot;Jonathan Sorge&quot;, … &quot;Rick Jingo&quot;]</td><td>[&quot;composer&quot;, &quot;composer&quot;, … &quot;casting_director&quot;]</td></tr><tr><td>&quot;tt6697216&quot;</td><td>[&quot;A. Akbarxojayev&quot;]</td><td>[&quot;Mikhail Melkumov&quot;, &quot;Turab Tula&quot;]</td><td>[]</td><td>[&quot;Gani Agzamov&quot;, &quot;Turgun Azizov&quot;, … &quot;Nabi Rakhimov&quot;]</td><td>[&quot;Ikram Akbarov&quot;, &quot;Mutal Burkhanov&quot;, … &quot;Mikhail Krasnyanskiy&quot;]</td><td>[&quot;composer&quot;, &quot;composer&quot;, … &quot;cinematographer&quot;]</td></tr></tbody></table></div>"
      ],
      "text/plain": [
       "shape: (373_138, 7)\n",
       "┌────────────┬──────────────┬──────────────┬─────────────┬─────────────┬─────────────┬─────────────┐\n",
       "│ tconst     ┆ director_nam ┆ writer_names ┆ producer_na ┆ actor_names ┆ principal_n ┆ principal_r │\n",
       "│ ---        ┆ es           ┆ ---          ┆ mes         ┆ ---         ┆ ames        ┆ oles        │\n",
       "│ str        ┆ ---          ┆ list[str]    ┆ ---         ┆ list[str]   ┆ ---         ┆ ---         │\n",
       "│            ┆ list[str]    ┆              ┆ list[str]   ┆             ┆ list[str]   ┆ list[str]   │\n",
       "╞════════════╪══════════════╪══════════════╪═════════════╪═════════════╪═════════════╪═════════════╡\n",
       "│ tt0072083  ┆ [\"John       ┆ [\"Howard     ┆ [\"Rita      ┆ [\"Bill      ┆ [\"Rex       ┆ [\"self\"]    │\n",
       "│            ┆ Badham\",     ┆ Dimsdale\",   ┆ Dillon\",    ┆ Bixby\",     ┆ Harrison\"]  ┆             │\n",
       "│            ┆ \"Arnold      ┆ \"Daphne Du…  ┆ \"Herbert    ┆ \"Julie      ┆             ┆             │\n",
       "│            ┆ Laven\"…      ┆              ┆ Hirsc…      ┆ Sommars\"…   ┆             ┆             │\n",
       "│ tt0112759  ┆ [\"John       ┆ [\"Jim        ┆ [\"Sandra    ┆ [\"Maurice   ┆ [\"Mark      ┆ [\"composer\" │\n",
       "│            ┆ L'Ecuyer\"]   ┆ Carroll\",    ┆ Cunningham\" ┆ Dean Wint\", ┆ Korven\",    ┆ , \"cinemato │\n",
       "│            ┆              ┆ \"John        ┆ , \"Wayne A… ┆ \"Callum …   ┆ \"Harald     ┆ grapher\"…   │\n",
       "│            ┆              ┆ L'Ecuyer…    ┆             ┆             ┆ Bachma…     ┆             │\n",
       "│ tt0079598  ┆ [\"Joseph     ┆ [\"Gary       ┆ [\"Paul      ┆ [\"Steven    ┆ [\"William   ┆ [\"composer\" │\n",
       "│            ┆ Pevney\"]     ┆ Sherman\",    ┆ Freeman\"]   ┆ Keats\",     ┆ Loose\",     ┆ ,           │\n",
       "│            ┆              ┆ \"Sandor      ┆             ┆ \"Jaime Lyn  ┆ \"Jack K.    ┆ \"composer\", │\n",
       "│            ┆              ┆ Stern…       ┆             ┆ Ba…         ┆ Til…        ┆ … \"ed…      │\n",
       "│ tt29033594 ┆ [\"Haranath   ┆ [\"Padmanabha ┆ [\"Nishpal   ┆ [\"Ranjit    ┆ [\"Nabarun   ┆ [\"composer\" │\n",
       "│            ┆ Chakraborty\" ┆ Dasgupta\"]   ┆ Singh\",     ┆ Mallick\",   ┆ Bose\",      ┆ , \"cinemato │\n",
       "│            ┆ ]            ┆              ┆ \"Surinder   ┆ \"Ritwick    ┆ \"Supriyo    ┆ grapher\"…   │\n",
       "│            ┆              ┆              ┆ Si…         ┆ Ch…         ┆ Dutt…       ┆             │\n",
       "│ tt5032742  ┆ [\"Fabio      ┆ []           ┆ [\"Fabio     ┆ []          ┆ [\"U'        ┆ [\"composer\" │\n",
       "│            ┆ Leli\"]       ┆              ┆ Leli\"]      ┆             ┆ Papum\",     ┆ , \"cinemato │\n",
       "│            ┆              ┆              ┆             ┆             ┆ \"Fabio      ┆ grapher\"…   │\n",
       "│            ┆              ┆              ┆             ┆             ┆ Leli\", … \"… ┆             │\n",
       "│ …          ┆ …            ┆ …            ┆ …           ┆ …           ┆ …           ┆ …           │\n",
       "│ tt0052541  ┆ [\"László     ┆ [\"Jozsef     ┆ []          ┆ [\"Éva Pap\", ┆ [\"Endre Sze ┆ [\"composer\" │\n",
       "│            ┆ Ranódy\"]     ┆ Darvas\"]     ┆             ┆ \"Géza       ┆ rvánszky\",  ┆ , \"cinemato │\n",
       "│            ┆              ┆              ┆             ┆ Tordy\", …   ┆ \"István …   ┆ grapher\"…   │\n",
       "│            ┆              ┆              ┆             ┆ \"N…         ┆             ┆             │\n",
       "│ tt0110857  ┆ [\"Alan       ┆ [\"Neal       ┆ [\"Paul      ┆ [\"G.W.      ┆ [\"Ian       ┆ [\"cinematog │\n",
       "│            ┆ Metter\"]     ┆ Israel\",     ┆ Maslansky\"] ┆ Bailey\",    ┆ Jones\",     ┆ rapher\",    │\n",
       "│            ┆              ┆ \"Pat Proft\", ┆             ┆ \"George     ┆ \"Dennis M.  ┆ \"editor\", … │\n",
       "│            ┆              ┆ ……           ┆             ┆ Gaynes…     ┆ Hill\"…      ┆             │\n",
       "│ tt0078023  ┆ [\"Dinos      ┆ [\"Dinos      ┆ []          ┆ [\"Nelly     ┆ [\"Nikos Mam ┆ [\"composer\" │\n",
       "│            ┆ Dimopoulos\"] ┆ Dimopoulos\", ┆             ┆ Angelidou\", ┆ angakis\",   ┆ , \"cinemato │\n",
       "│            ┆              ┆ \"Pantelis…   ┆             ┆ \"Nikitas T… ┆ \"Aris Sta…  ┆ grapher\"…   │\n",
       "│ tt1461302  ┆ [\"Gary       ┆ [\"Jenn       ┆ [\"Gary      ┆ [\"Jenn      ┆ [\"Kenneth   ┆ [\"composer\" │\n",
       "│            ┆ King\"]       ┆ Dees\", \"Gary ┆ King\",      ┆ Dees\",      ┆ Lampl\",     ┆ ,           │\n",
       "│            ┆              ┆ King\"]       ┆ \"Sujata     ┆ \"Kelli      ┆ \"Jonathan   ┆ \"composer\", │\n",
       "│            ┆              ┆              ┆ King\", \"…   ┆ Ambrose\",…  ┆ So…         ┆ … \"ca…      │\n",
       "│ tt6697216  ┆ [\"A. Akbarxo ┆ [\"Mikhail    ┆ []          ┆ [\"Gani      ┆ [\"Ikram     ┆ [\"composer\" │\n",
       "│            ┆ jayev\"]      ┆ Melkumov\",   ┆             ┆ Agzamov\",   ┆ Akbarov\",   ┆ ,           │\n",
       "│            ┆              ┆ \"Turab Tu…   ┆             ┆ \"Turgun     ┆ \"Mutal      ┆ \"composer\", │\n",
       "│            ┆              ┆              ┆             ┆ Azizo…      ┆ Burkh…      ┆ … \"ci…      │\n",
       "└────────────┴──────────────┴──────────────┴─────────────┴─────────────┴─────────────┴─────────────┘"
      ]
     },
     "execution_count": 8,
     "metadata": {},
     "output_type": "execute_result"
    }
   ],
   "source": [
    "df_principals_agg = (\n",
    "    df_principals.sort([\"tconst\", \"ordering\"])\n",
    "    .group_by(\"tconst\")\n",
    "    .agg(\n",
    "        director_names=pl.col(\"primaryName\").filter(pl.col(\"category\") == \"director\"),\n",
    "        writer_names=pl.col(\"primaryName\").filter(pl.col(\"category\") == \"writer\"),\n",
    "        producer_names=pl.col(\"primaryName\").filter(pl.col(\"category\") == \"producer\"),\n",
    "        actor_names=pl.col(\"primaryName\").filter(\n",
    "            pl.col(\"category\").is_in([\"actor\", \"actress\"])\n",
    "        ),\n",
    "        principal_names=pl.col(\"primaryName\").filter(\n",
    "            ~pl.col(\"category\").is_in(\n",
    "                [\"director\", \"writer\", \"producer\", \"actor\", \"actress\"]\n",
    "            )\n",
    "        ),\n",
    "        principal_roles=pl.col(\"category\").filter(\n",
    "            ~pl.col(\"category\").is_in(\n",
    "                [\"director\", \"writer\", \"producer\", \"actor\", \"actress\"]\n",
    "            )\n",
    "        ),\n",
    "        # actor_names=agg_principals().filter(pl.col(\"category\").is_in([\"actor\", \"actress\"]))\n",
    "        # actor_role=pl.col(\"category\").sort_by(pl.col(\"ordering\")),\n",
    "    )\n",
    ")\n",
    "\n",
    "df_principals_agg"
   ]
  },
  {
   "cell_type": "markdown",
   "metadata": {},
   "source": [
    "## Reaggregate Everything and Build JSON Representation\n"
   ]
  },
  {
   "cell_type": "code",
   "execution_count": 9,
   "metadata": {},
   "outputs": [
    {
     "data": {
      "text/html": [
       "<div><style>\n",
       ".dataframe > thead > tr,\n",
       ".dataframe > tbody > tr {\n",
       "  text-align: right;\n",
       "  white-space: pre-wrap;\n",
       "}\n",
       "</style>\n",
       "<small>shape: (373_138, 17)</small><table border=\"1\" class=\"dataframe\"><thead><tr><th>tconst</th><th>titleType</th><th>primaryTitle</th><th>originalTitle</th><th>isAdult</th><th>startYear</th><th>endYear</th><th>runtimeMinutes</th><th>genres</th><th>averageRating</th><th>numVotes</th><th>director_names</th><th>writer_names</th><th>producer_names</th><th>actor_names</th><th>principal_names</th><th>principal_roles</th></tr><tr><td>str</td><td>str</td><td>str</td><td>str</td><td>i64</td><td>i64</td><td>str</td><td>str</td><td>str</td><td>f64</td><td>i64</td><td>list[str]</td><td>list[str]</td><td>list[str]</td><td>list[str]</td><td>list[str]</td><td>list[str]</td></tr></thead><tbody><tr><td>&quot;tt9916730&quot;</td><td>&quot;movie&quot;</td><td>&quot;6 Gunn&quot;</td><td>&quot;6 Gunn&quot;</td><td>0</td><td>2017</td><td>&quot;\\N&quot;</td><td>&quot;116&quot;</td><td>&quot;Drama&quot;</td><td>7.0</td><td>12</td><td>[&quot;Kiran Gawade&quot;]</td><td>[&quot;Kiran Gawade&quot;]</td><td>[&quot;Ujjwala Gawde&quot;, &quot;Abhishek Jathar&quot;]</td><td>[&quot;Devadhar Archit&quot;, &quot;Sunil Barve&quot;, … &quot;Atul Todankar&quot;]</td><td>[&quot;Suresh Deshmane&quot;, &quot;Rohita More&quot;]</td><td>[&quot;cinematographer&quot;, &quot;editor&quot;]</td></tr><tr><td>&quot;tt9916706&quot;</td><td>&quot;movie&quot;</td><td>&quot;Dankyavar Danka&quot;</td><td>&quot;Dankyavar Danka&quot;</td><td>0</td><td>2013</td><td>&quot;\\N&quot;</td><td>&quot;\\N&quot;</td><td>&quot;Comedy&quot;</td><td>8.4</td><td>8</td><td>[&quot;Kanchan Nayak&quot;]</td><td>[&quot;Sudhir Nikam&quot;]</td><td>[&quot;Meghraj Rajebhosale&quot;]</td><td>[&quot;Makarand Anaspure&quot;, &quot;Anvay Bendre&quot;, … &quot;Pravin Tarde&quot;]</td><td>[&quot;Arjun Jadhav&quot;, &quot;Sandhya Nerale&quot;]</td><td>[&quot;cinematographer&quot;, &quot;cinematographer&quot;]</td></tr><tr><td>&quot;tt9916538&quot;</td><td>&quot;movie&quot;</td><td>&quot;Kuambil Lagi Hatiku&quot;</td><td>&quot;Kuambil Lagi Hatiku&quot;</td><td>0</td><td>2019</td><td>&quot;\\N&quot;</td><td>&quot;123&quot;</td><td>&quot;Drama&quot;</td><td>8.3</td><td>9</td><td>[&quot;Azhar Kinoi Lubis&quot;]</td><td>[&quot;Arief Ash Siddiq&quot;, &quot;Rino Sarjono&quot;, &quot;Salman Aristo&quot;]</td><td>[&quot;Salman Aristo&quot;, &quot;M. Abduh Aziz&quot;]</td><td>[&quot;Lala Karmela&quot;, &quot;Cut Mini Theo&quot;, … &quot;Marwoto&quot;]</td><td>[&quot;Dave Lumenta&quot;, &quot;Amalia T.S.&quot;, &quot;W. Ichwan Diardono&quot;]</td><td>[&quot;composer&quot;, &quot;cinematographer&quot;, &quot;editor&quot;]</td></tr><tr><td>&quot;tt9916460&quot;</td><td>&quot;tvMovie&quot;</td><td>&quot;Pink Taxi&quot;</td><td>&quot;Pink Taxi&quot;</td><td>0</td><td>2019</td><td>&quot;\\N&quot;</td><td>&quot;\\N&quot;</td><td>&quot;Comedy&quot;</td><td>8.9</td><td>19</td><td>[&quot;Gabriel Athanasiou&quot;]</td><td>[&quot;Gabriel Athanasiou&quot;, &quot;Apostolos Tsamis&quot;]</td><td>[]</td><td>[&quot;Argiris Tafralidis&quot;, &quot;Christina Tafralidou&quot;, … &quot;Giorgos Vezirgiannidis&quot;]</td><td>[&quot;Theo Vavdinoudis&quot;, &quot;Gabriel Athanasiou&quot;]</td><td>[&quot;cinematographer&quot;, &quot;editor&quot;]</td></tr><tr><td>&quot;tt9916428&quot;</td><td>&quot;movie&quot;</td><td>&quot;The Secret of China&quot;</td><td>&quot;Hong xing zhao yao Zhong guo&quot;</td><td>0</td><td>2019</td><td>&quot;\\N&quot;</td><td>&quot;\\N&quot;</td><td>&quot;Adventure,History,War&quot;</td><td>3.6</td><td>19</td><td>[&quot;Jixing Wang&quot;]</td><td>[]</td><td>[&quot;Han Mei&quot;]</td><td>[&quot;Kenan Heppe&quot;, &quot;Wang Peng Kai&quot;, … &quot;Shenyang Xiao&quot;]</td><td>[]</td><td>[]</td></tr><tr><td>&hellip;</td><td>&hellip;</td><td>&hellip;</td><td>&hellip;</td><td>&hellip;</td><td>&hellip;</td><td>&hellip;</td><td>&hellip;</td><td>&hellip;</td><td>&hellip;</td><td>&hellip;</td><td>&hellip;</td><td>&hellip;</td><td>&hellip;</td><td>&hellip;</td><td>&hellip;</td><td>&hellip;</td></tr><tr><td>&quot;tt0000591&quot;</td><td>&quot;movie&quot;</td><td>&quot;The Prodigal Son&quot;</td><td>&quot;L&#x27;enfant prodigue&quot;</td><td>0</td><td>1907</td><td>&quot;\\N&quot;</td><td>&quot;90&quot;</td><td>&quot;Drama&quot;</td><td>5.7</td><td>28</td><td>[&quot;Michel Carré&quot;]</td><td>[&quot;Michel Carré&quot;]</td><td>[]</td><td>[&quot;Georges Wague&quot;, &quot;Henri Gouget&quot;, … &quot;Gilberte Sergy&quot;]</td><td>[]</td><td>[]</td></tr><tr><td>&quot;tt0000574&quot;</td><td>&quot;movie&quot;</td><td>&quot;The Story of the Kelly Gang&quot;</td><td>&quot;The Story of the Kelly Gang&quot;</td><td>0</td><td>1906</td><td>&quot;\\N&quot;</td><td>&quot;70&quot;</td><td>&quot;Action,Adventure,Biography&quot;</td><td>6.0</td><td>938</td><td>[&quot;Charles Tait&quot;]</td><td>[&quot;Charles Tait&quot;]</td><td>[&quot;W.A. Gibson&quot;, &quot;Millard Johnson&quot;, … &quot;Nevin Tait&quot;]</td><td>[&quot;Elizabeth Tait&quot;, &quot;John Tait&quot;, … &quot;John Forde&quot;]</td><td>[&quot;Eric Chapus&quot;, &quot;Millard Johnson&quot;, … &quot;Reg Perry&quot;]</td><td>[&quot;composer&quot;, &quot;cinematographer&quot;, … &quot;cinematographer&quot;]</td></tr><tr><td>&quot;tt0000502&quot;</td><td>&quot;movie&quot;</td><td>&quot;Bohemios&quot;</td><td>&quot;Bohemios&quot;</td><td>0</td><td>1905</td><td>&quot;\\N&quot;</td><td>&quot;100&quot;</td><td>&quot;\\N&quot;</td><td>4.4</td><td>18</td><td>[&quot;Ricardo de Baños&quot;]</td><td>[&quot;Ricardo de Baños&quot;, &quot;Miguel de Palacios&quot;, &quot;Guillermo Perrín&quot;]</td><td>[]</td><td>[&quot;Antonio del Pozo&quot;, &quot;El Mochuelo&quot;]</td><td>[&quot;Ricardo de Baños&quot;]</td><td>[&quot;cinematographer&quot;]</td></tr><tr><td>&quot;tt0000147&quot;</td><td>&quot;movie&quot;</td><td>&quot;The Corbett-Fitzsimmons Fight&quot;</td><td>&quot;The Corbett-Fitzsimmons Fight&quot;</td><td>0</td><td>1897</td><td>&quot;\\N&quot;</td><td>&quot;100&quot;</td><td>&quot;Documentary,News,Sport&quot;</td><td>5.2</td><td>539</td><td>[&quot;Enoch J. Rector&quot;]</td><td>[]</td><td>[&quot;William A. Brady&quot;]</td><td>[]</td><td>[&quot;James J. Corbett&quot;, &quot;Bob Fitzsimmons&quot;, … &quot;Enoch J. Rector&quot;]</td><td>[&quot;self&quot;, &quot;self&quot;, … &quot;cinematographer&quot;]</td></tr><tr><td>&quot;tt0000009&quot;</td><td>&quot;movie&quot;</td><td>&quot;Miss Jerry&quot;</td><td>&quot;Miss Jerry&quot;</td><td>0</td><td>1894</td><td>&quot;\\N&quot;</td><td>&quot;45&quot;</td><td>&quot;Romance&quot;</td><td>5.4</td><td>215</td><td>[&quot;Alexander Black&quot;]</td><td>[&quot;Alexander Black&quot;]</td><td>[&quot;Alexander Black&quot;]</td><td>[&quot;Blanche Bayliss&quot;, &quot;William Courtenay&quot;, &quot;Chauncey Depew&quot;]</td><td>[&quot;Alexander Black&quot;]</td><td>[&quot;cinematographer&quot;]</td></tr></tbody></table></div>"
      ],
      "text/plain": [
       "shape: (373_138, 17)\n",
       "┌───────────┬───────────┬───────────┬───────────┬───┬───────────┬───────────┬───────────┬──────────┐\n",
       "│ tconst    ┆ titleType ┆ primaryTi ┆ originalT ┆ … ┆ producer_ ┆ actor_nam ┆ principal ┆ principa │\n",
       "│ ---       ┆ ---       ┆ tle       ┆ itle      ┆   ┆ names     ┆ es        ┆ _names    ┆ l_roles  │\n",
       "│ str       ┆ str       ┆ ---       ┆ ---       ┆   ┆ ---       ┆ ---       ┆ ---       ┆ ---      │\n",
       "│           ┆           ┆ str       ┆ str       ┆   ┆ list[str] ┆ list[str] ┆ list[str] ┆ list[str │\n",
       "│           ┆           ┆           ┆           ┆   ┆           ┆           ┆           ┆ ]        │\n",
       "╞═══════════╪═══════════╪═══════════╪═══════════╪═══╪═══════════╪═══════════╪═══════════╪══════════╡\n",
       "│ tt9916730 ┆ movie     ┆ 6 Gunn    ┆ 6 Gunn    ┆ … ┆ [\"Ujjwala ┆ [\"Devadha ┆ [\"Suresh  ┆ [\"cinema │\n",
       "│           ┆           ┆           ┆           ┆   ┆ Gawde\",   ┆ r         ┆ Deshmane\" ┆ tographe │\n",
       "│           ┆           ┆           ┆           ┆   ┆ \"Abhishek ┆ Archit\",  ┆ , \"Rohita ┆ r\", \"edi │\n",
       "│           ┆           ┆           ┆           ┆   ┆ Ja…       ┆ \"Sunil    ┆ Mo…       ┆ tor\"]    │\n",
       "│           ┆           ┆           ┆           ┆   ┆           ┆ Bar…      ┆           ┆          │\n",
       "│ tt9916706 ┆ movie     ┆ Dankyavar ┆ Dankyavar ┆ … ┆ [\"Meghraj ┆ [\"Makaran ┆ [\"Arjun   ┆ [\"cinema │\n",
       "│           ┆           ┆ Danka     ┆ Danka     ┆   ┆ Rajebhosa ┆ d Anaspur ┆ Jadhav\",  ┆ tographe │\n",
       "│           ┆           ┆           ┆           ┆   ┆ le\"]      ┆ e\",       ┆ \"Sandhya  ┆ r\", \"cin │\n",
       "│           ┆           ┆           ┆           ┆   ┆           ┆ \"Anvay B… ┆ Nera…     ┆ ematog…  │\n",
       "│ tt9916538 ┆ movie     ┆ Kuambil   ┆ Kuambil   ┆ … ┆ [\"Salman  ┆ [\"Lala    ┆ [\"Dave    ┆ [\"compos │\n",
       "│           ┆           ┆ Lagi      ┆ Lagi      ┆   ┆ Aristo\",  ┆ Karmela\", ┆ Lumenta\", ┆ er\", \"ci │\n",
       "│           ┆           ┆ Hatiku    ┆ Hatiku    ┆   ┆ \"M. Abduh ┆ \"Cut Mini ┆ \"Amalia   ┆ nematogr │\n",
       "│           ┆           ┆           ┆           ┆   ┆ Az…       ┆ The…      ┆ T.S.\"…    ┆ apher\"…  │\n",
       "│ tt9916460 ┆ tvMovie   ┆ Pink Taxi ┆ Pink Taxi ┆ … ┆ []        ┆ [\"Argiris ┆ [\"Theo    ┆ [\"cinema │\n",
       "│           ┆           ┆           ┆           ┆   ┆           ┆ Tafralidi ┆ Vavdinoud ┆ tographe │\n",
       "│           ┆           ┆           ┆           ┆   ┆           ┆ s\",       ┆ is\",      ┆ r\", \"edi │\n",
       "│           ┆           ┆           ┆           ┆   ┆           ┆ \"Christ…  ┆ \"Gabriel  ┆ tor\"]    │\n",
       "│           ┆           ┆           ┆           ┆   ┆           ┆           ┆ …         ┆          │\n",
       "│ tt9916428 ┆ movie     ┆ The       ┆ Hong xing ┆ … ┆ [\"Han     ┆ [\"Kenan   ┆ []        ┆ []       │\n",
       "│           ┆           ┆ Secret of ┆ zhao yao  ┆   ┆ Mei\"]     ┆ Heppe\",   ┆           ┆          │\n",
       "│           ┆           ┆ China     ┆ Zhong guo ┆   ┆           ┆ \"Wang     ┆           ┆          │\n",
       "│           ┆           ┆           ┆           ┆   ┆           ┆ Peng Kai… ┆           ┆          │\n",
       "│ …         ┆ …         ┆ …         ┆ …         ┆ … ┆ …         ┆ …         ┆ …         ┆ …        │\n",
       "│ tt0000591 ┆ movie     ┆ The       ┆ L'enfant  ┆ … ┆ []        ┆ [\"Georges ┆ []        ┆ []       │\n",
       "│           ┆           ┆ Prodigal  ┆ prodigue  ┆   ┆           ┆ Wague\",   ┆           ┆          │\n",
       "│           ┆           ┆ Son       ┆           ┆   ┆           ┆ \"Henri    ┆           ┆          │\n",
       "│           ┆           ┆           ┆           ┆   ┆           ┆ Gouge…    ┆           ┆          │\n",
       "│ tt0000574 ┆ movie     ┆ The Story ┆ The Story ┆ … ┆ [\"W.A.    ┆ [\"Elizabe ┆ [\"Eric    ┆ [\"compos │\n",
       "│           ┆           ┆ of the    ┆ of the    ┆   ┆ Gibson\",  ┆ th Tait\", ┆ Chapus\",  ┆ er\", \"ci │\n",
       "│           ┆           ┆ Kelly     ┆ Kelly     ┆   ┆ \"Millard  ┆ \"John     ┆ \"Millard  ┆ nematogr │\n",
       "│           ┆           ┆ Gang      ┆ Gang      ┆   ┆ Johns…    ┆ Tait\"…    ┆ Johns…    ┆ apher\"…  │\n",
       "│ tt0000502 ┆ movie     ┆ Bohemios  ┆ Bohemios  ┆ … ┆ []        ┆ [\"Antonio ┆ [\"Ricardo ┆ [\"cinema │\n",
       "│           ┆           ┆           ┆           ┆   ┆           ┆ del       ┆ de        ┆ tographe │\n",
       "│           ┆           ┆           ┆           ┆   ┆           ┆ Pozo\",    ┆ Baños\"]   ┆ r\"]      │\n",
       "│           ┆           ┆           ┆           ┆   ┆           ┆ \"El       ┆           ┆          │\n",
       "│           ┆           ┆           ┆           ┆   ┆           ┆ Mochu…    ┆           ┆          │\n",
       "│ tt0000147 ┆ movie     ┆ The Corbe ┆ The Corbe ┆ … ┆ [\"William ┆ []        ┆ [\"James   ┆ [\"self\", │\n",
       "│           ┆           ┆ tt-Fitzsi ┆ tt-Fitzsi ┆   ┆ A.        ┆           ┆ J.        ┆ \"self\",  │\n",
       "│           ┆           ┆ mmons     ┆ mmons     ┆   ┆ Brady\"]   ┆           ┆ Corbett\", ┆ … \"cinem │\n",
       "│           ┆           ┆ Fight     ┆ Fight     ┆   ┆           ┆           ┆ \"Bob      ┆ atogr…   │\n",
       "│           ┆           ┆           ┆           ┆   ┆           ┆           ┆ Fitz…     ┆          │\n",
       "│ tt0000009 ┆ movie     ┆ Miss      ┆ Miss      ┆ … ┆ [\"Alexand ┆ [\"Blanche ┆ [\"Alexand ┆ [\"cinema │\n",
       "│           ┆           ┆ Jerry     ┆ Jerry     ┆   ┆ er        ┆ Bayliss\", ┆ er        ┆ tographe │\n",
       "│           ┆           ┆           ┆           ┆   ┆ Black\"]   ┆ \"William  ┆ Black\"]   ┆ r\"]      │\n",
       "│           ┆           ┆           ┆           ┆   ┆           ┆ C…        ┆           ┆          │\n",
       "└───────────┴───────────┴───────────┴───────────┴───┴───────────┴───────────┴───────────┴──────────┘"
      ]
     },
     "execution_count": 9,
     "metadata": {},
     "output_type": "execute_result"
    }
   ],
   "source": [
    "df_final = df_denorm.join(df_principals_agg, on=\"tconst\")\n",
    "\n",
    "df_final"
   ]
  },
  {
   "cell_type": "code",
   "execution_count": 10,
   "metadata": {},
   "outputs": [],
   "source": [
    "def movie_json(row):\n",
    "    # row = row.to_dicts()[0]\n",
    "    # print(row)\n",
    "    genres = row[\"genres\"].split(\",\") if row[\"genres\"] != \"\\\\N\" else None\n",
    "    principals = [\n",
    "        {name: role}\n",
    "        for name, role in zip(row[\"principal_names\"], row[\"principal_roles\"])\n",
    "    ]\n",
    "\n",
    "    json_dict = {\n",
    "        \"title\": row[\"primaryTitle\"],\n",
    "        \"genres\": genres,\n",
    "        \"is_adult\": True if row[\"isAdult\"] == 1 else False,\n",
    "        \"release_year\": row[\"startYear\"],\n",
    "        \"runtime_minutes\": int(row[\"runtimeMinutes\"])\n",
    "        if row[\"runtimeMinutes\"] != \"\\\\N\"\n",
    "        else None,\n",
    "        \"directors\": row[\"director_names\"],\n",
    "        \"writers\": row[\"writer_names\"],\n",
    "        \"producers\": row[\"producer_names\"],\n",
    "        \"actors\": row[\"actor_names\"],\n",
    "        \"principals\": principals,\n",
    "    }\n",
    "    return json.dumps(json_dict, separators=(\",\", \":\"))"
   ]
  },
  {
   "cell_type": "code",
   "execution_count": 11,
   "metadata": {},
   "outputs": [
    {
     "data": {
      "text/plain": [
       "'{\"title\":\"6 Gunn\",\"genres\":[\"Drama\"],\"is_adult\":false,\"release_year\":2017,\"runtime_minutes\":116,\"directors\":[\"Kiran Gawade\"],\"writers\":[\"Kiran Gawade\"],\"producers\":[\"Ujjwala Gawde\",\"Abhishek Jathar\"],\"actors\":[\"Devadhar Archit\",\"Sunil Barve\",\"Ganesh Vasant Patil\",\"Bhushan Pradhan\",\"Pranav Raorane\",\"Aarti Solanki\",\"Amruta Subhash\",\"Atul Todankar\"],\"principals\":[{\"Suresh Deshmane\":\"cinematographer\"},{\"Rohita More\":\"editor\"}]}'"
      ]
     },
     "execution_count": 11,
     "metadata": {},
     "output_type": "execute_result"
    }
   ],
   "source": [
    "movie_json(df_final[0].to_dicts()[0])"
   ]
  },
  {
   "cell_type": "markdown",
   "metadata": {},
   "source": [
    "https://stackoverflow.com/a/77558612\n"
   ]
  },
  {
   "cell_type": "code",
   "execution_count": 12,
   "metadata": {},
   "outputs": [],
   "source": [
    "df_final = df_final.with_columns(\n",
    "    json=pl.struct(pl.all()).map_elements(movie_json, return_dtype=str)\n",
    ")"
   ]
  },
  {
   "cell_type": "code",
   "execution_count": 13,
   "metadata": {},
   "outputs": [
    {
     "name": "stdout",
     "output_type": "stream",
     "text": [
      "Rows: 1\n",
      "Columns: 18\n",
      "$ tconst                <str> 'tt0076759'\n",
      "$ titleType             <str> 'movie'\n",
      "$ primaryTitle          <str> 'Star Wars: Episode IV - A New Hope'\n",
      "$ originalTitle         <str> 'Star Wars'\n",
      "$ isAdult               <i64> 0\n",
      "$ startYear             <i64> 1977\n",
      "$ endYear               <str> '\\\\N'\n",
      "$ runtimeMinutes        <str> '121'\n",
      "$ genres                <str> 'Action,Adventure,Fantasy'\n",
      "$ averageRating         <f64> 8.6\n",
      "$ numVotes              <i64> 1477835\n",
      "$ director_names  <list[str]> ['George Lucas']\n",
      "$ writer_names    <list[str]> ['George Lucas']\n",
      "$ producer_names  <list[str]> ['Gary Kurtz', 'Rick McCallum']\n",
      "$ actor_names     <list[str]> ['Mark Hamill', 'Harrison Ford', 'Carrie Fisher', 'Alec Guinness', 'Peter Cushing', 'Anthony Daniels', 'Kenny Baker', 'Peter Mayhew', 'David Prowse', 'Phil Brown']\n",
      "$ principal_names <list[str]> ['John Williams', 'Gilbert Taylor', 'Richard Chew', 'T.M. Christopher', 'Paul Hirsch', 'Marcia Lucas', 'Dianne Crittenden', 'Irene Lamb', 'Vic Ramos', 'John Barry']\n",
      "$ principal_roles <list[str]> ['composer', 'cinematographer', 'editor', 'editor', 'editor', 'editor', 'casting_director', 'casting_director', 'casting_director', 'production_designer']\n",
      "$ json                  <str> '{\"title\":\"Star Wars: Episode IV - A New Hope\",\"genres\":[\"Action\",\"Adventure\",\"Fantasy\"],\"is_adult\":false,\"release_year\":1977,\"runtime_minutes\":121,\"directors\":[\"George Lucas\"],\"writers\":[\"George Lucas\"],\"producers\":[\"Gary Kurtz\",\"Rick McCallum\"],\"actors\":[\"Mark Hamill\",\"Harrison Ford\",\"Carrie Fisher\",\"Alec Guinness\",\"Peter Cushing\",\"Anthony Daniels\",\"Kenny Baker\",\"Peter Mayhew\",\"David Prowse\",\"Phil Brown\"],\"principals\":[{\"John Williams\":\"composer\"},{\"Gilbert Taylor\":\"cinematographer\"},{\"Richard Chew\":\"editor\"},{\"T.M. Christopher\":\"editor\"},{\"Paul Hirsch\":\"editor\"},{\"Marcia Lucas\":\"editor\"},{\"Dianne Crittenden\":\"casting_director\"},{\"Irene Lamb\":\"casting_director\"},{\"Vic Ramos\":\"casting_director\"},{\"John Barry\":\"production_designer\"}]}'\n",
      "\n"
     ]
    }
   ],
   "source": [
    "df_final.filter(pl.col(\"tconst\") == \"tt0076759\").glimpse()"
   ]
  },
  {
   "cell_type": "code",
   "execution_count": 14,
   "metadata": {},
   "outputs": [],
   "source": [
    "df_final.select([\"tconst\", \"startYear\", \"averageRating\", \"json\"]).write_parquet(\n",
    "    os.path.join(data_dir, \"test_movie_json_input.parquet\")\n",
    ")"
   ]
  },
  {
   "cell_type": "code",
   "execution_count": null,
   "metadata": {},
   "outputs": [],
   "source": []
  }
 ],
 "metadata": {
  "kernelspec": {
   "display_name": ".venv",
   "language": "python",
   "name": "python3"
  },
  "language_info": {
   "codemirror_mode": {
    "name": "ipython",
    "version": 3
   },
   "file_extension": ".py",
   "mimetype": "text/x-python",
   "name": "python",
   "nbconvert_exporter": "python",
   "pygments_lexer": "ipython3",
   "version": "3.13.0"
  }
 },
 "nbformat": 4,
 "nbformat_minor": 2
}
