{
 "cells": [
  {
   "cell_type": "markdown",
   "metadata": {},
   "source": [
    "https://developer.imdb.com/non-commercial-datasets/\n"
   ]
  },
  {
   "cell_type": "code",
   "execution_count": 1,
   "metadata": {},
   "outputs": [],
   "source": [
    "import polars as pl\n",
    "import os"
   ]
  },
  {
   "cell_type": "code",
   "execution_count": 2,
   "metadata": {},
   "outputs": [
    {
     "data": {
      "text/html": [
       "<div><style>\n",
       ".dataframe > thead > tr,\n",
       ".dataframe > tbody > tr {\n",
       "  text-align: right;\n",
       "  white-space: pre-wrap;\n",
       "}\n",
       "</style>\n",
       "<small>shape: (11_073_287, 9)</small><table border=\"1\" class=\"dataframe\"><thead><tr><th>tconst</th><th>titleType</th><th>primaryTitle</th><th>originalTitle</th><th>isAdult</th><th>startYear</th><th>endYear</th><th>runtimeMinutes</th><th>genres</th></tr><tr><td>str</td><td>str</td><td>str</td><td>str</td><td>i64</td><td>i64</td><td>str</td><td>str</td><td>str</td></tr></thead><tbody><tr><td>&quot;tt0000001&quot;</td><td>&quot;short&quot;</td><td>&quot;Carmencita&quot;</td><td>&quot;Carmencita&quot;</td><td>0</td><td>1894</td><td>&quot;\\N&quot;</td><td>&quot;1&quot;</td><td>&quot;Documentary,Short&quot;</td></tr><tr><td>&quot;tt0000002&quot;</td><td>&quot;short&quot;</td><td>&quot;Le clown et ses chiens&quot;</td><td>&quot;Le clown et ses chiens&quot;</td><td>0</td><td>1892</td><td>&quot;\\N&quot;</td><td>&quot;5&quot;</td><td>&quot;Animation,Short&quot;</td></tr><tr><td>&quot;tt0000003&quot;</td><td>&quot;short&quot;</td><td>&quot;Pauvre Pierrot&quot;</td><td>&quot;Pauvre Pierrot&quot;</td><td>0</td><td>1892</td><td>&quot;\\N&quot;</td><td>&quot;5&quot;</td><td>&quot;Animation,Comedy,Romance&quot;</td></tr><tr><td>&quot;tt0000004&quot;</td><td>&quot;short&quot;</td><td>&quot;Un bon bock&quot;</td><td>&quot;Un bon bock&quot;</td><td>0</td><td>1892</td><td>&quot;\\N&quot;</td><td>&quot;12&quot;</td><td>&quot;Animation,Short&quot;</td></tr><tr><td>&quot;tt0000005&quot;</td><td>&quot;short&quot;</td><td>&quot;Blacksmith Scene&quot;</td><td>&quot;Blacksmith Scene&quot;</td><td>0</td><td>1893</td><td>&quot;\\N&quot;</td><td>&quot;1&quot;</td><td>&quot;Comedy,Short&quot;</td></tr><tr><td>&hellip;</td><td>&hellip;</td><td>&hellip;</td><td>&hellip;</td><td>&hellip;</td><td>&hellip;</td><td>&hellip;</td><td>&hellip;</td><td>&hellip;</td></tr><tr><td>&quot;tt9916848&quot;</td><td>&quot;tvEpisode&quot;</td><td>&quot;Episode #3.17&quot;</td><td>&quot;Episode #3.17&quot;</td><td>0</td><td>2009</td><td>&quot;\\N&quot;</td><td>&quot;\\N&quot;</td><td>&quot;Action,Drama,Family&quot;</td></tr><tr><td>&quot;tt9916850&quot;</td><td>&quot;tvEpisode&quot;</td><td>&quot;Episode #3.19&quot;</td><td>&quot;Episode #3.19&quot;</td><td>0</td><td>2010</td><td>&quot;\\N&quot;</td><td>&quot;\\N&quot;</td><td>&quot;Action,Drama,Family&quot;</td></tr><tr><td>&quot;tt9916852&quot;</td><td>&quot;tvEpisode&quot;</td><td>&quot;Episode #3.20&quot;</td><td>&quot;Episode #3.20&quot;</td><td>0</td><td>2010</td><td>&quot;\\N&quot;</td><td>&quot;\\N&quot;</td><td>&quot;Action,Drama,Family&quot;</td></tr><tr><td>&quot;tt9916856&quot;</td><td>&quot;short&quot;</td><td>&quot;The Wind&quot;</td><td>&quot;The Wind&quot;</td><td>0</td><td>2015</td><td>&quot;\\N&quot;</td><td>&quot;27&quot;</td><td>&quot;Short&quot;</td></tr><tr><td>&quot;tt9916880&quot;</td><td>&quot;tvEpisode&quot;</td><td>&quot;Horrid Henry Knows It All&quot;</td><td>&quot;Horrid Henry Knows It All&quot;</td><td>0</td><td>2014</td><td>&quot;\\N&quot;</td><td>&quot;10&quot;</td><td>&quot;Adventure,Animation,Comedy&quot;</td></tr></tbody></table></div>"
      ],
      "text/plain": [
       "shape: (11_073_287, 9)\n",
       "┌───────────┬───────────┬────────────┬───────────┬───┬───────────┬─────────┬───────────┬───────────┐\n",
       "│ tconst    ┆ titleType ┆ primaryTit ┆ originalT ┆ … ┆ startYear ┆ endYear ┆ runtimeMi ┆ genres    │\n",
       "│ ---       ┆ ---       ┆ le         ┆ itle      ┆   ┆ ---       ┆ ---     ┆ nutes     ┆ ---       │\n",
       "│ str       ┆ str       ┆ ---        ┆ ---       ┆   ┆ i64       ┆ str     ┆ ---       ┆ str       │\n",
       "│           ┆           ┆ str        ┆ str       ┆   ┆           ┆         ┆ str       ┆           │\n",
       "╞═══════════╪═══════════╪════════════╪═══════════╪═══╪═══════════╪═════════╪═══════════╪═══════════╡\n",
       "│ tt0000001 ┆ short     ┆ Carmencita ┆ Carmencit ┆ … ┆ 1894      ┆ \\N      ┆ 1         ┆ Documenta │\n",
       "│           ┆           ┆            ┆ a         ┆   ┆           ┆         ┆           ┆ ry,Short  │\n",
       "│ tt0000002 ┆ short     ┆ Le clown   ┆ Le clown  ┆ … ┆ 1892      ┆ \\N      ┆ 5         ┆ Animation │\n",
       "│           ┆           ┆ et ses     ┆ et ses    ┆   ┆           ┆         ┆           ┆ ,Short    │\n",
       "│           ┆           ┆ chiens     ┆ chiens    ┆   ┆           ┆         ┆           ┆           │\n",
       "│ tt0000003 ┆ short     ┆ Pauvre     ┆ Pauvre    ┆ … ┆ 1892      ┆ \\N      ┆ 5         ┆ Animation │\n",
       "│           ┆           ┆ Pierrot    ┆ Pierrot   ┆   ┆           ┆         ┆           ┆ ,Comedy,R │\n",
       "│           ┆           ┆            ┆           ┆   ┆           ┆         ┆           ┆ omance    │\n",
       "│ tt0000004 ┆ short     ┆ Un bon     ┆ Un bon    ┆ … ┆ 1892      ┆ \\N      ┆ 12        ┆ Animation │\n",
       "│           ┆           ┆ bock       ┆ bock      ┆   ┆           ┆         ┆           ┆ ,Short    │\n",
       "│ tt0000005 ┆ short     ┆ Blacksmith ┆ Blacksmit ┆ … ┆ 1893      ┆ \\N      ┆ 1         ┆ Comedy,Sh │\n",
       "│           ┆           ┆ Scene      ┆ h Scene   ┆   ┆           ┆         ┆           ┆ ort       │\n",
       "│ …         ┆ …         ┆ …          ┆ …         ┆ … ┆ …         ┆ …       ┆ …         ┆ …         │\n",
       "│ tt9916848 ┆ tvEpisode ┆ Episode    ┆ Episode   ┆ … ┆ 2009      ┆ \\N      ┆ \\N        ┆ Action,Dr │\n",
       "│           ┆           ┆ #3.17      ┆ #3.17     ┆   ┆           ┆         ┆           ┆ ama,Famil │\n",
       "│           ┆           ┆            ┆           ┆   ┆           ┆         ┆           ┆ y         │\n",
       "│ tt9916850 ┆ tvEpisode ┆ Episode    ┆ Episode   ┆ … ┆ 2010      ┆ \\N      ┆ \\N        ┆ Action,Dr │\n",
       "│           ┆           ┆ #3.19      ┆ #3.19     ┆   ┆           ┆         ┆           ┆ ama,Famil │\n",
       "│           ┆           ┆            ┆           ┆   ┆           ┆         ┆           ┆ y         │\n",
       "│ tt9916852 ┆ tvEpisode ┆ Episode    ┆ Episode   ┆ … ┆ 2010      ┆ \\N      ┆ \\N        ┆ Action,Dr │\n",
       "│           ┆           ┆ #3.20      ┆ #3.20     ┆   ┆           ┆         ┆           ┆ ama,Famil │\n",
       "│           ┆           ┆            ┆           ┆   ┆           ┆         ┆           ┆ y         │\n",
       "│ tt9916856 ┆ short     ┆ The Wind   ┆ The Wind  ┆ … ┆ 2015      ┆ \\N      ┆ 27        ┆ Short     │\n",
       "│ tt9916880 ┆ tvEpisode ┆ Horrid     ┆ Horrid    ┆ … ┆ 2014      ┆ \\N      ┆ 10        ┆ Adventure │\n",
       "│           ┆           ┆ Henry      ┆ Henry     ┆   ┆           ┆         ┆           ┆ ,Animatio │\n",
       "│           ┆           ┆ Knows It   ┆ Knows It  ┆   ┆           ┆         ┆           ┆ n,Comedy  │\n",
       "│           ┆           ┆ All        ┆ All       ┆   ┆           ┆         ┆           ┆           │\n",
       "└───────────┴───────────┴────────────┴───────────┴───┴───────────┴─────────┴───────────┴───────────┘"
      ]
     },
     "execution_count": 2,
     "metadata": {},
     "output_type": "execute_result"
    }
   ],
   "source": [
    "data_dir = \"/Users/maxwoolf/Downloads\"\n",
    "\n",
    "df_titles = pl.read_csv(\n",
    "    os.path.join(data_dir, \"title.basics.tsv.gz\"), separator=\"\\t\", ignore_errors=True\n",
    ")\n",
    "\n",
    "df_titles"
   ]
  },
  {
   "cell_type": "code",
   "execution_count": 3,
   "metadata": {},
   "outputs": [
    {
     "data": {
      "text/plain": [
       "['videoGame',\n",
       " 'tvSeries',\n",
       " 'tvShort',\n",
       " 'tvSpecial',\n",
       " 'video',\n",
       " 'tvEpisode',\n",
       " 'tvPilot',\n",
       " 'tvMovie',\n",
       " 'tvMiniSeries',\n",
       " 'movie',\n",
       " 'short']"
      ]
     },
     "execution_count": 3,
     "metadata": {},
     "output_type": "execute_result"
    }
   ],
   "source": [
    "df_titles[\"titleType\"].unique().to_list()"
   ]
  },
  {
   "cell_type": "code",
   "execution_count": 4,
   "metadata": {},
   "outputs": [
    {
     "data": {
      "text/html": [
       "<div><style>\n",
       ".dataframe > thead > tr,\n",
       ".dataframe > tbody > tr {\n",
       "  text-align: right;\n",
       "  white-space: pre-wrap;\n",
       "}\n",
       "</style>\n",
       "<small>shape: (691_896, 9)</small><table border=\"1\" class=\"dataframe\"><thead><tr><th>tconst</th><th>titleType</th><th>primaryTitle</th><th>originalTitle</th><th>isAdult</th><th>startYear</th><th>endYear</th><th>runtimeMinutes</th><th>genres</th></tr><tr><td>str</td><td>str</td><td>str</td><td>str</td><td>i64</td><td>i64</td><td>str</td><td>str</td><td>str</td></tr></thead><tbody><tr><td>&quot;tt0000009&quot;</td><td>&quot;movie&quot;</td><td>&quot;Miss Jerry&quot;</td><td>&quot;Miss Jerry&quot;</td><td>0</td><td>1894</td><td>&quot;\\N&quot;</td><td>&quot;45&quot;</td><td>&quot;Romance&quot;</td></tr><tr><td>&quot;tt0000147&quot;</td><td>&quot;movie&quot;</td><td>&quot;The Corbett-Fitzsimmons Fight&quot;</td><td>&quot;The Corbett-Fitzsimmons Fight&quot;</td><td>0</td><td>1897</td><td>&quot;\\N&quot;</td><td>&quot;100&quot;</td><td>&quot;Documentary,News,Sport&quot;</td></tr><tr><td>&quot;tt0000502&quot;</td><td>&quot;movie&quot;</td><td>&quot;Bohemios&quot;</td><td>&quot;Bohemios&quot;</td><td>0</td><td>1905</td><td>&quot;\\N&quot;</td><td>&quot;100&quot;</td><td>&quot;\\N&quot;</td></tr><tr><td>&quot;tt0000574&quot;</td><td>&quot;movie&quot;</td><td>&quot;The Story of the Kelly Gang&quot;</td><td>&quot;The Story of the Kelly Gang&quot;</td><td>0</td><td>1906</td><td>&quot;\\N&quot;</td><td>&quot;70&quot;</td><td>&quot;Action,Adventure,Biography&quot;</td></tr><tr><td>&quot;tt0000591&quot;</td><td>&quot;movie&quot;</td><td>&quot;The Prodigal Son&quot;</td><td>&quot;L&#x27;enfant prodigue&quot;</td><td>0</td><td>1907</td><td>&quot;\\N&quot;</td><td>&quot;90&quot;</td><td>&quot;Drama&quot;</td></tr><tr><td>&hellip;</td><td>&hellip;</td><td>&hellip;</td><td>&hellip;</td><td>&hellip;</td><td>&hellip;</td><td>&hellip;</td><td>&hellip;</td><td>&hellip;</td></tr><tr><td>&quot;tt9916622&quot;</td><td>&quot;movie&quot;</td><td>&quot;Rodolpho Teóphilo - O Legado d…</td><td>&quot;Rodolpho Teóphilo - O Legado d…</td><td>0</td><td>2015</td><td>&quot;\\N&quot;</td><td>&quot;57&quot;</td><td>&quot;Documentary&quot;</td></tr><tr><td>&quot;tt9916680&quot;</td><td>&quot;movie&quot;</td><td>&quot;De la ilusión al desconcierto:…</td><td>&quot;De la ilusión al desconcierto:…</td><td>0</td><td>2007</td><td>&quot;\\N&quot;</td><td>&quot;100&quot;</td><td>&quot;Documentary&quot;</td></tr><tr><td>&quot;tt9916706&quot;</td><td>&quot;movie&quot;</td><td>&quot;Dankyavar Danka&quot;</td><td>&quot;Dankyavar Danka&quot;</td><td>0</td><td>2013</td><td>&quot;\\N&quot;</td><td>&quot;\\N&quot;</td><td>&quot;Comedy&quot;</td></tr><tr><td>&quot;tt9916730&quot;</td><td>&quot;movie&quot;</td><td>&quot;6 Gunn&quot;</td><td>&quot;6 Gunn&quot;</td><td>0</td><td>2017</td><td>&quot;\\N&quot;</td><td>&quot;116&quot;</td><td>&quot;Drama&quot;</td></tr><tr><td>&quot;tt9916754&quot;</td><td>&quot;movie&quot;</td><td>&quot;Chico Albuquerque - Revelações&quot;</td><td>&quot;Chico Albuquerque - Revelações&quot;</td><td>0</td><td>2013</td><td>&quot;\\N&quot;</td><td>&quot;49&quot;</td><td>&quot;Documentary&quot;</td></tr></tbody></table></div>"
      ],
      "text/plain": [
       "shape: (691_896, 9)\n",
       "┌───────────┬───────────┬────────────┬───────────┬───┬───────────┬─────────┬───────────┬───────────┐\n",
       "│ tconst    ┆ titleType ┆ primaryTit ┆ originalT ┆ … ┆ startYear ┆ endYear ┆ runtimeMi ┆ genres    │\n",
       "│ ---       ┆ ---       ┆ le         ┆ itle      ┆   ┆ ---       ┆ ---     ┆ nutes     ┆ ---       │\n",
       "│ str       ┆ str       ┆ ---        ┆ ---       ┆   ┆ i64       ┆ str     ┆ ---       ┆ str       │\n",
       "│           ┆           ┆ str        ┆ str       ┆   ┆           ┆         ┆ str       ┆           │\n",
       "╞═══════════╪═══════════╪════════════╪═══════════╪═══╪═══════════╪═════════╪═══════════╪═══════════╡\n",
       "│ tt0000009 ┆ movie     ┆ Miss Jerry ┆ Miss      ┆ … ┆ 1894      ┆ \\N      ┆ 45        ┆ Romance   │\n",
       "│           ┆           ┆            ┆ Jerry     ┆   ┆           ┆         ┆           ┆           │\n",
       "│ tt0000147 ┆ movie     ┆ The Corbet ┆ The Corbe ┆ … ┆ 1897      ┆ \\N      ┆ 100       ┆ Documenta │\n",
       "│           ┆           ┆ t-Fitzsimm ┆ tt-Fitzsi ┆   ┆           ┆         ┆           ┆ ry,News,S │\n",
       "│           ┆           ┆ ons Fight  ┆ mmons     ┆   ┆           ┆         ┆           ┆ port      │\n",
       "│           ┆           ┆            ┆ Fight     ┆   ┆           ┆         ┆           ┆           │\n",
       "│ tt0000502 ┆ movie     ┆ Bohemios   ┆ Bohemios  ┆ … ┆ 1905      ┆ \\N      ┆ 100       ┆ \\N        │\n",
       "│ tt0000574 ┆ movie     ┆ The Story  ┆ The Story ┆ … ┆ 1906      ┆ \\N      ┆ 70        ┆ Action,Ad │\n",
       "│           ┆           ┆ of the     ┆ of the    ┆   ┆           ┆         ┆           ┆ venture,B │\n",
       "│           ┆           ┆ Kelly Gang ┆ Kelly     ┆   ┆           ┆         ┆           ┆ iography  │\n",
       "│           ┆           ┆            ┆ Gang      ┆   ┆           ┆         ┆           ┆           │\n",
       "│ tt0000591 ┆ movie     ┆ The        ┆ L'enfant  ┆ … ┆ 1907      ┆ \\N      ┆ 90        ┆ Drama     │\n",
       "│           ┆           ┆ Prodigal   ┆ prodigue  ┆   ┆           ┆         ┆           ┆           │\n",
       "│           ┆           ┆ Son        ┆           ┆   ┆           ┆         ┆           ┆           │\n",
       "│ …         ┆ …         ┆ …          ┆ …         ┆ … ┆ …         ┆ …       ┆ …         ┆ …         │\n",
       "│ tt9916622 ┆ movie     ┆ Rodolpho   ┆ Rodolpho  ┆ … ┆ 2015      ┆ \\N      ┆ 57        ┆ Documenta │\n",
       "│           ┆           ┆ Teóphilo - ┆ Teóphilo  ┆   ┆           ┆         ┆           ┆ ry        │\n",
       "│           ┆           ┆ O Legado   ┆ - O       ┆   ┆           ┆         ┆           ┆           │\n",
       "│           ┆           ┆ d…         ┆ Legado d… ┆   ┆           ┆         ┆           ┆           │\n",
       "│ tt9916680 ┆ movie     ┆ De la      ┆ De la     ┆ … ┆ 2007      ┆ \\N      ┆ 100       ┆ Documenta │\n",
       "│           ┆           ┆ ilusión al ┆ ilusión   ┆   ┆           ┆         ┆           ┆ ry        │\n",
       "│           ┆           ┆ desconcier ┆ al descon ┆   ┆           ┆         ┆           ┆           │\n",
       "│           ┆           ┆ to:…       ┆ cierto:…  ┆   ┆           ┆         ┆           ┆           │\n",
       "│ tt9916706 ┆ movie     ┆ Dankyavar  ┆ Dankyavar ┆ … ┆ 2013      ┆ \\N      ┆ \\N        ┆ Comedy    │\n",
       "│           ┆           ┆ Danka      ┆ Danka     ┆   ┆           ┆         ┆           ┆           │\n",
       "│ tt9916730 ┆ movie     ┆ 6 Gunn     ┆ 6 Gunn    ┆ … ┆ 2017      ┆ \\N      ┆ 116       ┆ Drama     │\n",
       "│ tt9916754 ┆ movie     ┆ Chico Albu ┆ Chico Alb ┆ … ┆ 2013      ┆ \\N      ┆ 49        ┆ Documenta │\n",
       "│           ┆           ┆ querque -  ┆ uquerque  ┆   ┆           ┆         ┆           ┆ ry        │\n",
       "│           ┆           ┆ Revelações ┆ - Revelaç ┆   ┆           ┆         ┆           ┆           │\n",
       "│           ┆           ┆            ┆ ões       ┆   ┆           ┆         ┆           ┆           │\n",
       "└───────────┴───────────┴────────────┴───────────┴───┴───────────┴─────────┴───────────┴───────────┘"
      ]
     },
     "execution_count": 4,
     "metadata": {},
     "output_type": "execute_result"
    }
   ],
   "source": [
    "df_titles = df_titles.filter(pl.col(\"titleType\") == \"movie\")\n",
    "df_titles"
   ]
  },
  {
   "cell_type": "code",
   "execution_count": 5,
   "metadata": {},
   "outputs": [
    {
     "data": {
      "text/html": [
       "<div><style>\n",
       ".dataframe > thead > tr,\n",
       ".dataframe > tbody > tr {\n",
       "  text-align: right;\n",
       "  white-space: pre-wrap;\n",
       "}\n",
       "</style>\n",
       "<small>shape: (1_475_767, 3)</small><table border=\"1\" class=\"dataframe\"><thead><tr><th>tconst</th><th>averageRating</th><th>numVotes</th></tr><tr><td>str</td><td>f64</td><td>i64</td></tr></thead><tbody><tr><td>&quot;tt0000001&quot;</td><td>5.7</td><td>2085</td></tr><tr><td>&quot;tt0000002&quot;</td><td>5.6</td><td>283</td></tr><tr><td>&quot;tt0000003&quot;</td><td>6.5</td><td>2089</td></tr><tr><td>&quot;tt0000004&quot;</td><td>5.4</td><td>184</td></tr><tr><td>&quot;tt0000005&quot;</td><td>6.2</td><td>2823</td></tr><tr><td>&hellip;</td><td>&hellip;</td><td>&hellip;</td></tr><tr><td>&quot;tt9916730&quot;</td><td>7.0</td><td>12</td></tr><tr><td>&quot;tt9916766&quot;</td><td>7.1</td><td>24</td></tr><tr><td>&quot;tt9916778&quot;</td><td>7.2</td><td>37</td></tr><tr><td>&quot;tt9916840&quot;</td><td>7.2</td><td>10</td></tr><tr><td>&quot;tt9916880&quot;</td><td>8.6</td><td>8</td></tr></tbody></table></div>"
      ],
      "text/plain": [
       "shape: (1_475_767, 3)\n",
       "┌───────────┬───────────────┬──────────┐\n",
       "│ tconst    ┆ averageRating ┆ numVotes │\n",
       "│ ---       ┆ ---           ┆ ---      │\n",
       "│ str       ┆ f64           ┆ i64      │\n",
       "╞═══════════╪═══════════════╪══════════╡\n",
       "│ tt0000001 ┆ 5.7           ┆ 2085     │\n",
       "│ tt0000002 ┆ 5.6           ┆ 283      │\n",
       "│ tt0000003 ┆ 6.5           ┆ 2089     │\n",
       "│ tt0000004 ┆ 5.4           ┆ 184      │\n",
       "│ tt0000005 ┆ 6.2           ┆ 2823     │\n",
       "│ …         ┆ …             ┆ …        │\n",
       "│ tt9916730 ┆ 7.0           ┆ 12       │\n",
       "│ tt9916766 ┆ 7.1           ┆ 24       │\n",
       "│ tt9916778 ┆ 7.2           ┆ 37       │\n",
       "│ tt9916840 ┆ 7.2           ┆ 10       │\n",
       "│ tt9916880 ┆ 8.6           ┆ 8        │\n",
       "└───────────┴───────────────┴──────────┘"
      ]
     },
     "execution_count": 5,
     "metadata": {},
     "output_type": "execute_result"
    }
   ],
   "source": [
    "df_ratings = pl.read_csv(\n",
    "    os.path.join(data_dir, \"title.ratings.tsv.gz\"), separator=\"\\t\", ignore_errors=True\n",
    ")\n",
    "\n",
    "df_ratings"
   ]
  },
  {
   "cell_type": "markdown",
   "metadata": {},
   "source": [
    "Make the base table as small as possible before unnesting/joining.\n"
   ]
  },
  {
   "cell_type": "code",
   "execution_count": 32,
   "metadata": {},
   "outputs": [
    {
     "data": {
      "text/html": [
       "<div><style>\n",
       ".dataframe > thead > tr,\n",
       ".dataframe > tbody > tr {\n",
       "  text-align: right;\n",
       "  white-space: pre-wrap;\n",
       "}\n",
       "</style>\n",
       "<small>shape: (315_665, 11)</small><table border=\"1\" class=\"dataframe\"><thead><tr><th>tconst</th><th>titleType</th><th>primaryTitle</th><th>originalTitle</th><th>isAdult</th><th>startYear</th><th>endYear</th><th>runtimeMinutes</th><th>genres</th><th>averageRating</th><th>numVotes</th></tr><tr><td>str</td><td>str</td><td>str</td><td>str</td><td>i64</td><td>i64</td><td>str</td><td>str</td><td>str</td><td>f64</td><td>i64</td></tr></thead><tbody><tr><td>&quot;tt9916730&quot;</td><td>&quot;movie&quot;</td><td>&quot;6 Gunn&quot;</td><td>&quot;6 Gunn&quot;</td><td>0</td><td>2017</td><td>&quot;\\N&quot;</td><td>&quot;116&quot;</td><td>&quot;Drama&quot;</td><td>7.0</td><td>12</td></tr><tr><td>&quot;tt9916706&quot;</td><td>&quot;movie&quot;</td><td>&quot;Dankyavar Danka&quot;</td><td>&quot;Dankyavar Danka&quot;</td><td>0</td><td>2013</td><td>&quot;\\N&quot;</td><td>&quot;\\N&quot;</td><td>&quot;Comedy&quot;</td><td>7.8</td><td>6</td></tr><tr><td>&quot;tt9916538&quot;</td><td>&quot;movie&quot;</td><td>&quot;Kuambil Lagi Hatiku&quot;</td><td>&quot;Kuambil Lagi Hatiku&quot;</td><td>0</td><td>2019</td><td>&quot;\\N&quot;</td><td>&quot;123&quot;</td><td>&quot;Drama&quot;</td><td>8.3</td><td>9</td></tr><tr><td>&quot;tt9916428&quot;</td><td>&quot;movie&quot;</td><td>&quot;The Secret of China&quot;</td><td>&quot;Hong xing zhao yao Zhong guo&quot;</td><td>0</td><td>2019</td><td>&quot;\\N&quot;</td><td>&quot;\\N&quot;</td><td>&quot;Adventure,History,War&quot;</td><td>3.6</td><td>19</td></tr><tr><td>&quot;tt9916362&quot;</td><td>&quot;movie&quot;</td><td>&quot;Coven&quot;</td><td>&quot;Akelarre&quot;</td><td>0</td><td>2020</td><td>&quot;\\N&quot;</td><td>&quot;92&quot;</td><td>&quot;Drama,History&quot;</td><td>6.4</td><td>5893</td></tr><tr><td>&hellip;</td><td>&hellip;</td><td>&hellip;</td><td>&hellip;</td><td>&hellip;</td><td>&hellip;</td><td>&hellip;</td><td>&hellip;</td><td>&hellip;</td><td>&hellip;</td><td>&hellip;</td></tr><tr><td>&quot;tt0000591&quot;</td><td>&quot;movie&quot;</td><td>&quot;The Prodigal Son&quot;</td><td>&quot;L&#x27;enfant prodigue&quot;</td><td>0</td><td>1907</td><td>&quot;\\N&quot;</td><td>&quot;90&quot;</td><td>&quot;Drama&quot;</td><td>5.7</td><td>28</td></tr><tr><td>&quot;tt0000574&quot;</td><td>&quot;movie&quot;</td><td>&quot;The Story of the Kelly Gang&quot;</td><td>&quot;The Story of the Kelly Gang&quot;</td><td>0</td><td>1906</td><td>&quot;\\N&quot;</td><td>&quot;70&quot;</td><td>&quot;Action,Adventure,Biography&quot;</td><td>6.0</td><td>928</td></tr><tr><td>&quot;tt0000502&quot;</td><td>&quot;movie&quot;</td><td>&quot;Bohemios&quot;</td><td>&quot;Bohemios&quot;</td><td>0</td><td>1905</td><td>&quot;\\N&quot;</td><td>&quot;100&quot;</td><td>&quot;\\N&quot;</td><td>4.4</td><td>18</td></tr><tr><td>&quot;tt0000147&quot;</td><td>&quot;movie&quot;</td><td>&quot;The Corbett-Fitzsimmons Fight&quot;</td><td>&quot;The Corbett-Fitzsimmons Fight&quot;</td><td>0</td><td>1897</td><td>&quot;\\N&quot;</td><td>&quot;100&quot;</td><td>&quot;Documentary,News,Sport&quot;</td><td>5.2</td><td>529</td></tr><tr><td>&quot;tt0000009&quot;</td><td>&quot;movie&quot;</td><td>&quot;Miss Jerry&quot;</td><td>&quot;Miss Jerry&quot;</td><td>0</td><td>1894</td><td>&quot;\\N&quot;</td><td>&quot;45&quot;</td><td>&quot;Romance&quot;</td><td>5.4</td><td>213</td></tr></tbody></table></div>"
      ],
      "text/plain": [
       "shape: (315_665, 11)\n",
       "┌───────────┬───────────┬───────────┬───────────┬───┬───────────┬───────────┬───────────┬──────────┐\n",
       "│ tconst    ┆ titleType ┆ primaryTi ┆ originalT ┆ … ┆ runtimeMi ┆ genres    ┆ averageRa ┆ numVotes │\n",
       "│ ---       ┆ ---       ┆ tle       ┆ itle      ┆   ┆ nutes     ┆ ---       ┆ ting      ┆ ---      │\n",
       "│ str       ┆ str       ┆ ---       ┆ ---       ┆   ┆ ---       ┆ str       ┆ ---       ┆ i64      │\n",
       "│           ┆           ┆ str       ┆ str       ┆   ┆ str       ┆           ┆ f64       ┆          │\n",
       "╞═══════════╪═══════════╪═══════════╪═══════════╪═══╪═══════════╪═══════════╪═══════════╪══════════╡\n",
       "│ tt9916730 ┆ movie     ┆ 6 Gunn    ┆ 6 Gunn    ┆ … ┆ 116       ┆ Drama     ┆ 7.0       ┆ 12       │\n",
       "│ tt9916706 ┆ movie     ┆ Dankyavar ┆ Dankyavar ┆ … ┆ \\N        ┆ Comedy    ┆ 7.8       ┆ 6        │\n",
       "│           ┆           ┆ Danka     ┆ Danka     ┆   ┆           ┆           ┆           ┆          │\n",
       "│ tt9916538 ┆ movie     ┆ Kuambil   ┆ Kuambil   ┆ … ┆ 123       ┆ Drama     ┆ 8.3       ┆ 9        │\n",
       "│           ┆           ┆ Lagi      ┆ Lagi      ┆   ┆           ┆           ┆           ┆          │\n",
       "│           ┆           ┆ Hatiku    ┆ Hatiku    ┆   ┆           ┆           ┆           ┆          │\n",
       "│ tt9916428 ┆ movie     ┆ The       ┆ Hong xing ┆ … ┆ \\N        ┆ Adventure ┆ 3.6       ┆ 19       │\n",
       "│           ┆           ┆ Secret of ┆ zhao yao  ┆   ┆           ┆ ,History, ┆           ┆          │\n",
       "│           ┆           ┆ China     ┆ Zhong guo ┆   ┆           ┆ War       ┆           ┆          │\n",
       "│ tt9916362 ┆ movie     ┆ Coven     ┆ Akelarre  ┆ … ┆ 92        ┆ Drama,His ┆ 6.4       ┆ 5893     │\n",
       "│           ┆           ┆           ┆           ┆   ┆           ┆ tory      ┆           ┆          │\n",
       "│ …         ┆ …         ┆ …         ┆ …         ┆ … ┆ …         ┆ …         ┆ …         ┆ …        │\n",
       "│ tt0000591 ┆ movie     ┆ The       ┆ L'enfant  ┆ … ┆ 90        ┆ Drama     ┆ 5.7       ┆ 28       │\n",
       "│           ┆           ┆ Prodigal  ┆ prodigue  ┆   ┆           ┆           ┆           ┆          │\n",
       "│           ┆           ┆ Son       ┆           ┆   ┆           ┆           ┆           ┆          │\n",
       "│ tt0000574 ┆ movie     ┆ The Story ┆ The Story ┆ … ┆ 70        ┆ Action,Ad ┆ 6.0       ┆ 928      │\n",
       "│           ┆           ┆ of the    ┆ of the    ┆   ┆           ┆ venture,B ┆           ┆          │\n",
       "│           ┆           ┆ Kelly     ┆ Kelly     ┆   ┆           ┆ iography  ┆           ┆          │\n",
       "│           ┆           ┆ Gang      ┆ Gang      ┆   ┆           ┆           ┆           ┆          │\n",
       "│ tt0000502 ┆ movie     ┆ Bohemios  ┆ Bohemios  ┆ … ┆ 100       ┆ \\N        ┆ 4.4       ┆ 18       │\n",
       "│ tt0000147 ┆ movie     ┆ The Corbe ┆ The Corbe ┆ … ┆ 100       ┆ Documenta ┆ 5.2       ┆ 529      │\n",
       "│           ┆           ┆ tt-Fitzsi ┆ tt-Fitzsi ┆   ┆           ┆ ry,News,S ┆           ┆          │\n",
       "│           ┆           ┆ mmons     ┆ mmons     ┆   ┆           ┆ port      ┆           ┆          │\n",
       "│           ┆           ┆ Fight     ┆ Fight     ┆   ┆           ┆           ┆           ┆          │\n",
       "│ tt0000009 ┆ movie     ┆ Miss      ┆ Miss      ┆ … ┆ 45        ┆ Romance   ┆ 5.4       ┆ 213      │\n",
       "│           ┆           ┆ Jerry     ┆ Jerry     ┆   ┆           ┆           ┆           ┆          │\n",
       "└───────────┴───────────┴───────────┴───────────┴───┴───────────┴───────────┴───────────┴──────────┘"
      ]
     },
     "execution_count": 32,
     "metadata": {},
     "output_type": "execute_result"
    }
   ],
   "source": [
    "df_denorm = (\n",
    "    df_titles.join(df_ratings, on=\"tconst\")\n",
    "    .filter(pl.col(\"averageRating\").is_not_null())\n",
    "    # .with_columns(pl.col(\"genres\").str.split(\",\"))\n",
    "    .sort(\"tconst\", descending=True)\n",
    ")\n",
    "df_denorm"
   ]
  },
  {
   "cell_type": "code",
   "execution_count": 19,
   "metadata": {},
   "outputs": [
    {
     "ename": "KeyboardInterrupt",
     "evalue": "",
     "output_type": "error",
     "traceback": [
      "\u001b[0;31m---------------------------------------------------------------------------\u001b[0m",
      "\u001b[0;31mKeyboardInterrupt\u001b[0m                         Traceback (most recent call last)",
      "Cell \u001b[0;32mIn[19], line 3\u001b[0m\n\u001b[1;32m      1\u001b[0m valid_tconst \u001b[38;5;241m=\u001b[39m df_denorm[\u001b[38;5;124m\"\u001b[39m\u001b[38;5;124mtconst\u001b[39m\u001b[38;5;124m\"\u001b[39m]\n\u001b[0;32m----> 3\u001b[0m df_principals \u001b[38;5;241m=\u001b[39m \u001b[43mpl\u001b[49m\u001b[38;5;241;43m.\u001b[39;49m\u001b[43mread_csv\u001b[49m\u001b[43m(\u001b[49m\n\u001b[1;32m      4\u001b[0m \u001b[43m    \u001b[49m\u001b[43mos\u001b[49m\u001b[38;5;241;43m.\u001b[39;49m\u001b[43mpath\u001b[49m\u001b[38;5;241;43m.\u001b[39;49m\u001b[43mjoin\u001b[49m\u001b[43m(\u001b[49m\u001b[43mdata_dir\u001b[49m\u001b[43m,\u001b[49m\u001b[43m \u001b[49m\u001b[38;5;124;43m\"\u001b[39;49m\u001b[38;5;124;43mtitle.principals.tsv.gz\u001b[39;49m\u001b[38;5;124;43m\"\u001b[39;49m\u001b[43m)\u001b[49m\u001b[43m,\u001b[49m\n\u001b[1;32m      5\u001b[0m \u001b[43m    \u001b[49m\u001b[43mseparator\u001b[49m\u001b[38;5;241;43m=\u001b[39;49m\u001b[38;5;124;43m\"\u001b[39;49m\u001b[38;5;130;43;01m\\t\u001b[39;49;00m\u001b[38;5;124;43m\"\u001b[39;49m\u001b[43m,\u001b[49m\n\u001b[1;32m      6\u001b[0m \u001b[43m    \u001b[49m\u001b[43mignore_errors\u001b[49m\u001b[38;5;241;43m=\u001b[39;49m\u001b[38;5;28;43;01mTrue\u001b[39;49;00m\u001b[43m,\u001b[49m\n\u001b[1;32m      7\u001b[0m \u001b[43m)\u001b[49m\n\u001b[1;32m      9\u001b[0m \u001b[38;5;66;03m# df_principals = df_principals.join(df_denorm, on=\"tconst\").filter(pl.col(\"nconst\").is_not_null())\u001b[39;00m\n\u001b[1;32m     10\u001b[0m df_principals \u001b[38;5;241m=\u001b[39m df_principals\u001b[38;5;241m.\u001b[39mfilter(pl\u001b[38;5;241m.\u001b[39mcol(\u001b[38;5;124m\"\u001b[39m\u001b[38;5;124mtconst\u001b[39m\u001b[38;5;124m\"\u001b[39m)\u001b[38;5;241m.\u001b[39mis_in(valid_tconst))\n",
      "File \u001b[0;32m~/Library/Mobile Documents/com~apple~CloudDocs/PythonProjects/imdb-embeddings/.venv/lib/python3.12/site-packages/polars/_utils/deprecation.py:92\u001b[0m, in \u001b[0;36mdeprecate_renamed_parameter.<locals>.decorate.<locals>.wrapper\u001b[0;34m(*args, **kwargs)\u001b[0m\n\u001b[1;32m     87\u001b[0m \u001b[38;5;129m@wraps\u001b[39m(function)\n\u001b[1;32m     88\u001b[0m \u001b[38;5;28;01mdef\u001b[39;00m \u001b[38;5;21mwrapper\u001b[39m(\u001b[38;5;241m*\u001b[39margs: P\u001b[38;5;241m.\u001b[39margs, \u001b[38;5;241m*\u001b[39m\u001b[38;5;241m*\u001b[39mkwargs: P\u001b[38;5;241m.\u001b[39mkwargs) \u001b[38;5;241m-\u001b[39m\u001b[38;5;241m>\u001b[39m T:\n\u001b[1;32m     89\u001b[0m     _rename_keyword_argument(\n\u001b[1;32m     90\u001b[0m         old_name, new_name, kwargs, function\u001b[38;5;241m.\u001b[39m\u001b[38;5;18m__qualname__\u001b[39m, version\n\u001b[1;32m     91\u001b[0m     )\n\u001b[0;32m---> 92\u001b[0m     \u001b[38;5;28;01mreturn\u001b[39;00m \u001b[43mfunction\u001b[49m\u001b[43m(\u001b[49m\u001b[38;5;241;43m*\u001b[39;49m\u001b[43margs\u001b[49m\u001b[43m,\u001b[49m\u001b[43m \u001b[49m\u001b[38;5;241;43m*\u001b[39;49m\u001b[38;5;241;43m*\u001b[39;49m\u001b[43mkwargs\u001b[49m\u001b[43m)\u001b[49m\n",
      "File \u001b[0;32m~/Library/Mobile Documents/com~apple~CloudDocs/PythonProjects/imdb-embeddings/.venv/lib/python3.12/site-packages/polars/_utils/deprecation.py:92\u001b[0m, in \u001b[0;36mdeprecate_renamed_parameter.<locals>.decorate.<locals>.wrapper\u001b[0;34m(*args, **kwargs)\u001b[0m\n\u001b[1;32m     87\u001b[0m \u001b[38;5;129m@wraps\u001b[39m(function)\n\u001b[1;32m     88\u001b[0m \u001b[38;5;28;01mdef\u001b[39;00m \u001b[38;5;21mwrapper\u001b[39m(\u001b[38;5;241m*\u001b[39margs: P\u001b[38;5;241m.\u001b[39margs, \u001b[38;5;241m*\u001b[39m\u001b[38;5;241m*\u001b[39mkwargs: P\u001b[38;5;241m.\u001b[39mkwargs) \u001b[38;5;241m-\u001b[39m\u001b[38;5;241m>\u001b[39m T:\n\u001b[1;32m     89\u001b[0m     _rename_keyword_argument(\n\u001b[1;32m     90\u001b[0m         old_name, new_name, kwargs, function\u001b[38;5;241m.\u001b[39m\u001b[38;5;18m__qualname__\u001b[39m, version\n\u001b[1;32m     91\u001b[0m     )\n\u001b[0;32m---> 92\u001b[0m     \u001b[38;5;28;01mreturn\u001b[39;00m \u001b[43mfunction\u001b[49m\u001b[43m(\u001b[49m\u001b[38;5;241;43m*\u001b[39;49m\u001b[43margs\u001b[49m\u001b[43m,\u001b[49m\u001b[43m \u001b[49m\u001b[38;5;241;43m*\u001b[39;49m\u001b[38;5;241;43m*\u001b[39;49m\u001b[43mkwargs\u001b[49m\u001b[43m)\u001b[49m\n",
      "File \u001b[0;32m~/Library/Mobile Documents/com~apple~CloudDocs/PythonProjects/imdb-embeddings/.venv/lib/python3.12/site-packages/polars/_utils/deprecation.py:92\u001b[0m, in \u001b[0;36mdeprecate_renamed_parameter.<locals>.decorate.<locals>.wrapper\u001b[0;34m(*args, **kwargs)\u001b[0m\n\u001b[1;32m     87\u001b[0m \u001b[38;5;129m@wraps\u001b[39m(function)\n\u001b[1;32m     88\u001b[0m \u001b[38;5;28;01mdef\u001b[39;00m \u001b[38;5;21mwrapper\u001b[39m(\u001b[38;5;241m*\u001b[39margs: P\u001b[38;5;241m.\u001b[39margs, \u001b[38;5;241m*\u001b[39m\u001b[38;5;241m*\u001b[39mkwargs: P\u001b[38;5;241m.\u001b[39mkwargs) \u001b[38;5;241m-\u001b[39m\u001b[38;5;241m>\u001b[39m T:\n\u001b[1;32m     89\u001b[0m     _rename_keyword_argument(\n\u001b[1;32m     90\u001b[0m         old_name, new_name, kwargs, function\u001b[38;5;241m.\u001b[39m\u001b[38;5;18m__qualname__\u001b[39m, version\n\u001b[1;32m     91\u001b[0m     )\n\u001b[0;32m---> 92\u001b[0m     \u001b[38;5;28;01mreturn\u001b[39;00m \u001b[43mfunction\u001b[49m\u001b[43m(\u001b[49m\u001b[38;5;241;43m*\u001b[39;49m\u001b[43margs\u001b[49m\u001b[43m,\u001b[49m\u001b[43m \u001b[49m\u001b[38;5;241;43m*\u001b[39;49m\u001b[38;5;241;43m*\u001b[39;49m\u001b[43mkwargs\u001b[49m\u001b[43m)\u001b[49m\n",
      "File \u001b[0;32m~/Library/Mobile Documents/com~apple~CloudDocs/PythonProjects/imdb-embeddings/.venv/lib/python3.12/site-packages/polars/io/csv/functions.py:503\u001b[0m, in \u001b[0;36mread_csv\u001b[0;34m(source, has_header, columns, new_columns, separator, comment_prefix, quote_char, skip_rows, schema, schema_overrides, null_values, missing_utf8_is_empty_string, ignore_errors, try_parse_dates, n_threads, infer_schema, infer_schema_length, batch_size, n_rows, encoding, low_memory, rechunk, use_pyarrow, storage_options, skip_rows_after_header, row_index_name, row_index_offset, sample_size, eol_char, raise_if_empty, truncate_ragged_lines, decimal_comma, glob)\u001b[0m\n\u001b[1;32m    495\u001b[0m \u001b[38;5;28;01melse\u001b[39;00m:\n\u001b[1;32m    496\u001b[0m     \u001b[38;5;28;01mwith\u001b[39;00m prepare_file_arg(\n\u001b[1;32m    497\u001b[0m         source,\n\u001b[1;32m    498\u001b[0m         encoding\u001b[38;5;241m=\u001b[39mencoding,\n\u001b[0;32m   (...)\u001b[0m\n\u001b[1;32m    501\u001b[0m         storage_options\u001b[38;5;241m=\u001b[39mstorage_options,\n\u001b[1;32m    502\u001b[0m     ) \u001b[38;5;28;01mas\u001b[39;00m data:\n\u001b[0;32m--> 503\u001b[0m         df \u001b[38;5;241m=\u001b[39m \u001b[43m_read_csv_impl\u001b[49m\u001b[43m(\u001b[49m\n\u001b[1;32m    504\u001b[0m \u001b[43m            \u001b[49m\u001b[43mdata\u001b[49m\u001b[43m,\u001b[49m\n\u001b[1;32m    505\u001b[0m \u001b[43m            \u001b[49m\u001b[43mhas_header\u001b[49m\u001b[38;5;241;43m=\u001b[39;49m\u001b[43mhas_header\u001b[49m\u001b[43m,\u001b[49m\n\u001b[1;32m    506\u001b[0m \u001b[43m            \u001b[49m\u001b[43mcolumns\u001b[49m\u001b[38;5;241;43m=\u001b[39;49m\u001b[43mcolumns\u001b[49m\u001b[43m \u001b[49m\u001b[38;5;28;43;01mif\u001b[39;49;00m\u001b[43m \u001b[49m\u001b[43mcolumns\u001b[49m\u001b[43m \u001b[49m\u001b[38;5;28;43;01melse\u001b[39;49;00m\u001b[43m \u001b[49m\u001b[43mprojection\u001b[49m\u001b[43m,\u001b[49m\n\u001b[1;32m    507\u001b[0m \u001b[43m            \u001b[49m\u001b[43mseparator\u001b[49m\u001b[38;5;241;43m=\u001b[39;49m\u001b[43mseparator\u001b[49m\u001b[43m,\u001b[49m\n\u001b[1;32m    508\u001b[0m \u001b[43m            \u001b[49m\u001b[43mcomment_prefix\u001b[49m\u001b[38;5;241;43m=\u001b[39;49m\u001b[43mcomment_prefix\u001b[49m\u001b[43m,\u001b[49m\n\u001b[1;32m    509\u001b[0m \u001b[43m            \u001b[49m\u001b[43mquote_char\u001b[49m\u001b[38;5;241;43m=\u001b[39;49m\u001b[43mquote_char\u001b[49m\u001b[43m,\u001b[49m\n\u001b[1;32m    510\u001b[0m \u001b[43m            \u001b[49m\u001b[43mskip_rows\u001b[49m\u001b[38;5;241;43m=\u001b[39;49m\u001b[43mskip_rows\u001b[49m\u001b[43m,\u001b[49m\n\u001b[1;32m    511\u001b[0m \u001b[43m            \u001b[49m\u001b[43mschema_overrides\u001b[49m\u001b[38;5;241;43m=\u001b[39;49m\u001b[43mschema_overrides\u001b[49m\u001b[43m,\u001b[49m\n\u001b[1;32m    512\u001b[0m \u001b[43m            \u001b[49m\u001b[43mschema\u001b[49m\u001b[38;5;241;43m=\u001b[39;49m\u001b[43mschema\u001b[49m\u001b[43m,\u001b[49m\n\u001b[1;32m    513\u001b[0m \u001b[43m            \u001b[49m\u001b[43mnull_values\u001b[49m\u001b[38;5;241;43m=\u001b[39;49m\u001b[43mnull_values\u001b[49m\u001b[43m,\u001b[49m\n\u001b[1;32m    514\u001b[0m \u001b[43m            \u001b[49m\u001b[43mmissing_utf8_is_empty_string\u001b[49m\u001b[38;5;241;43m=\u001b[39;49m\u001b[43mmissing_utf8_is_empty_string\u001b[49m\u001b[43m,\u001b[49m\n\u001b[1;32m    515\u001b[0m \u001b[43m            \u001b[49m\u001b[43mignore_errors\u001b[49m\u001b[38;5;241;43m=\u001b[39;49m\u001b[43mignore_errors\u001b[49m\u001b[43m,\u001b[49m\n\u001b[1;32m    516\u001b[0m \u001b[43m            \u001b[49m\u001b[43mtry_parse_dates\u001b[49m\u001b[38;5;241;43m=\u001b[39;49m\u001b[43mtry_parse_dates\u001b[49m\u001b[43m,\u001b[49m\n\u001b[1;32m    517\u001b[0m \u001b[43m            \u001b[49m\u001b[43mn_threads\u001b[49m\u001b[38;5;241;43m=\u001b[39;49m\u001b[43mn_threads\u001b[49m\u001b[43m,\u001b[49m\n\u001b[1;32m    518\u001b[0m \u001b[43m            \u001b[49m\u001b[43minfer_schema_length\u001b[49m\u001b[38;5;241;43m=\u001b[39;49m\u001b[43minfer_schema_length\u001b[49m\u001b[43m,\u001b[49m\n\u001b[1;32m    519\u001b[0m \u001b[43m            \u001b[49m\u001b[43mbatch_size\u001b[49m\u001b[38;5;241;43m=\u001b[39;49m\u001b[43mbatch_size\u001b[49m\u001b[43m,\u001b[49m\n\u001b[1;32m    520\u001b[0m \u001b[43m            \u001b[49m\u001b[43mn_rows\u001b[49m\u001b[38;5;241;43m=\u001b[39;49m\u001b[43mn_rows\u001b[49m\u001b[43m,\u001b[49m\n\u001b[1;32m    521\u001b[0m \u001b[43m            \u001b[49m\u001b[43mencoding\u001b[49m\u001b[38;5;241;43m=\u001b[39;49m\u001b[43mencoding\u001b[49m\u001b[43m \u001b[49m\u001b[38;5;28;43;01mif\u001b[39;49;00m\u001b[43m \u001b[49m\u001b[43mencoding\u001b[49m\u001b[43m \u001b[49m\u001b[38;5;241;43m==\u001b[39;49m\u001b[43m \u001b[49m\u001b[38;5;124;43m\"\u001b[39;49m\u001b[38;5;124;43mutf8-lossy\u001b[39;49m\u001b[38;5;124;43m\"\u001b[39;49m\u001b[43m \u001b[49m\u001b[38;5;28;43;01melse\u001b[39;49;00m\u001b[43m \u001b[49m\u001b[38;5;124;43m\"\u001b[39;49m\u001b[38;5;124;43mutf8\u001b[39;49m\u001b[38;5;124;43m\"\u001b[39;49m\u001b[43m,\u001b[49m\n\u001b[1;32m    522\u001b[0m \u001b[43m            \u001b[49m\u001b[43mlow_memory\u001b[49m\u001b[38;5;241;43m=\u001b[39;49m\u001b[43mlow_memory\u001b[49m\u001b[43m,\u001b[49m\n\u001b[1;32m    523\u001b[0m \u001b[43m            \u001b[49m\u001b[43mrechunk\u001b[49m\u001b[38;5;241;43m=\u001b[39;49m\u001b[43mrechunk\u001b[49m\u001b[43m,\u001b[49m\n\u001b[1;32m    524\u001b[0m \u001b[43m            \u001b[49m\u001b[43mskip_rows_after_header\u001b[49m\u001b[38;5;241;43m=\u001b[39;49m\u001b[43mskip_rows_after_header\u001b[49m\u001b[43m,\u001b[49m\n\u001b[1;32m    525\u001b[0m \u001b[43m            \u001b[49m\u001b[43mrow_index_name\u001b[49m\u001b[38;5;241;43m=\u001b[39;49m\u001b[43mrow_index_name\u001b[49m\u001b[43m,\u001b[49m\n\u001b[1;32m    526\u001b[0m \u001b[43m            \u001b[49m\u001b[43mrow_index_offset\u001b[49m\u001b[38;5;241;43m=\u001b[39;49m\u001b[43mrow_index_offset\u001b[49m\u001b[43m,\u001b[49m\n\u001b[1;32m    527\u001b[0m \u001b[43m            \u001b[49m\u001b[43msample_size\u001b[49m\u001b[38;5;241;43m=\u001b[39;49m\u001b[43msample_size\u001b[49m\u001b[43m,\u001b[49m\n\u001b[1;32m    528\u001b[0m \u001b[43m            \u001b[49m\u001b[43meol_char\u001b[49m\u001b[38;5;241;43m=\u001b[39;49m\u001b[43meol_char\u001b[49m\u001b[43m,\u001b[49m\n\u001b[1;32m    529\u001b[0m \u001b[43m            \u001b[49m\u001b[43mraise_if_empty\u001b[49m\u001b[38;5;241;43m=\u001b[39;49m\u001b[43mraise_if_empty\u001b[49m\u001b[43m,\u001b[49m\n\u001b[1;32m    530\u001b[0m \u001b[43m            \u001b[49m\u001b[43mtruncate_ragged_lines\u001b[49m\u001b[38;5;241;43m=\u001b[39;49m\u001b[43mtruncate_ragged_lines\u001b[49m\u001b[43m,\u001b[49m\n\u001b[1;32m    531\u001b[0m \u001b[43m            \u001b[49m\u001b[43mdecimal_comma\u001b[49m\u001b[38;5;241;43m=\u001b[39;49m\u001b[43mdecimal_comma\u001b[49m\u001b[43m,\u001b[49m\n\u001b[1;32m    532\u001b[0m \u001b[43m            \u001b[49m\u001b[43mglob\u001b[49m\u001b[38;5;241;43m=\u001b[39;49m\u001b[43mglob\u001b[49m\u001b[43m,\u001b[49m\n\u001b[1;32m    533\u001b[0m \u001b[43m        \u001b[49m\u001b[43m)\u001b[49m\n\u001b[1;32m    535\u001b[0m \u001b[38;5;28;01mif\u001b[39;00m new_columns:\n\u001b[1;32m    536\u001b[0m     \u001b[38;5;28;01mreturn\u001b[39;00m _update_columns(df, new_columns)\n",
      "File \u001b[0;32m~/Library/Mobile Documents/com~apple~CloudDocs/PythonProjects/imdb-embeddings/.venv/lib/python3.12/site-packages/polars/io/csv/functions.py:649\u001b[0m, in \u001b[0;36m_read_csv_impl\u001b[0;34m(source, has_header, columns, separator, comment_prefix, quote_char, skip_rows, schema, schema_overrides, null_values, missing_utf8_is_empty_string, ignore_errors, try_parse_dates, n_threads, infer_schema_length, batch_size, n_rows, encoding, low_memory, rechunk, skip_rows_after_header, row_index_name, row_index_offset, sample_size, eol_char, raise_if_empty, truncate_ragged_lines, decimal_comma, glob)\u001b[0m\n\u001b[1;32m    645\u001b[0m         \u001b[38;5;28;01mraise\u001b[39;00m \u001b[38;5;167;01mValueError\u001b[39;00m(msg)\n\u001b[1;32m    647\u001b[0m projection, columns \u001b[38;5;241m=\u001b[39m parse_columns_arg(columns)\n\u001b[0;32m--> 649\u001b[0m pydf \u001b[38;5;241m=\u001b[39m \u001b[43mPyDataFrame\u001b[49m\u001b[38;5;241;43m.\u001b[39;49m\u001b[43mread_csv\u001b[49m\u001b[43m(\u001b[49m\n\u001b[1;32m    650\u001b[0m \u001b[43m    \u001b[49m\u001b[43msource\u001b[49m\u001b[43m,\u001b[49m\n\u001b[1;32m    651\u001b[0m \u001b[43m    \u001b[49m\u001b[43minfer_schema_length\u001b[49m\u001b[43m,\u001b[49m\n\u001b[1;32m    652\u001b[0m \u001b[43m    \u001b[49m\u001b[43mbatch_size\u001b[49m\u001b[43m,\u001b[49m\n\u001b[1;32m    653\u001b[0m \u001b[43m    \u001b[49m\u001b[43mhas_header\u001b[49m\u001b[43m,\u001b[49m\n\u001b[1;32m    654\u001b[0m \u001b[43m    \u001b[49m\u001b[43mignore_errors\u001b[49m\u001b[43m,\u001b[49m\n\u001b[1;32m    655\u001b[0m \u001b[43m    \u001b[49m\u001b[43mn_rows\u001b[49m\u001b[43m,\u001b[49m\n\u001b[1;32m    656\u001b[0m \u001b[43m    \u001b[49m\u001b[43mskip_rows\u001b[49m\u001b[43m,\u001b[49m\n\u001b[1;32m    657\u001b[0m \u001b[43m    \u001b[49m\u001b[43mprojection\u001b[49m\u001b[43m,\u001b[49m\n\u001b[1;32m    658\u001b[0m \u001b[43m    \u001b[49m\u001b[43mseparator\u001b[49m\u001b[43m,\u001b[49m\n\u001b[1;32m    659\u001b[0m \u001b[43m    \u001b[49m\u001b[43mrechunk\u001b[49m\u001b[43m,\u001b[49m\n\u001b[1;32m    660\u001b[0m \u001b[43m    \u001b[49m\u001b[43mcolumns\u001b[49m\u001b[43m,\u001b[49m\n\u001b[1;32m    661\u001b[0m \u001b[43m    \u001b[49m\u001b[43mencoding\u001b[49m\u001b[43m,\u001b[49m\n\u001b[1;32m    662\u001b[0m \u001b[43m    \u001b[49m\u001b[43mn_threads\u001b[49m\u001b[43m,\u001b[49m\n\u001b[1;32m    663\u001b[0m \u001b[43m    \u001b[49m\u001b[43mpath\u001b[49m\u001b[43m,\u001b[49m\n\u001b[1;32m    664\u001b[0m \u001b[43m    \u001b[49m\u001b[43mdtype_list\u001b[49m\u001b[43m,\u001b[49m\n\u001b[1;32m    665\u001b[0m \u001b[43m    \u001b[49m\u001b[43mdtype_slice\u001b[49m\u001b[43m,\u001b[49m\n\u001b[1;32m    666\u001b[0m \u001b[43m    \u001b[49m\u001b[43mlow_memory\u001b[49m\u001b[43m,\u001b[49m\n\u001b[1;32m    667\u001b[0m \u001b[43m    \u001b[49m\u001b[43mcomment_prefix\u001b[49m\u001b[43m,\u001b[49m\n\u001b[1;32m    668\u001b[0m \u001b[43m    \u001b[49m\u001b[43mquote_char\u001b[49m\u001b[43m,\u001b[49m\n\u001b[1;32m    669\u001b[0m \u001b[43m    \u001b[49m\u001b[43mprocessed_null_values\u001b[49m\u001b[43m,\u001b[49m\n\u001b[1;32m    670\u001b[0m \u001b[43m    \u001b[49m\u001b[43mmissing_utf8_is_empty_string\u001b[49m\u001b[43m,\u001b[49m\n\u001b[1;32m    671\u001b[0m \u001b[43m    \u001b[49m\u001b[43mtry_parse_dates\u001b[49m\u001b[43m,\u001b[49m\n\u001b[1;32m    672\u001b[0m \u001b[43m    \u001b[49m\u001b[43mskip_rows_after_header\u001b[49m\u001b[43m,\u001b[49m\n\u001b[1;32m    673\u001b[0m \u001b[43m    \u001b[49m\u001b[43mparse_row_index_args\u001b[49m\u001b[43m(\u001b[49m\u001b[43mrow_index_name\u001b[49m\u001b[43m,\u001b[49m\u001b[43m \u001b[49m\u001b[43mrow_index_offset\u001b[49m\u001b[43m)\u001b[49m\u001b[43m,\u001b[49m\n\u001b[1;32m    674\u001b[0m \u001b[43m    \u001b[49m\u001b[43msample_size\u001b[49m\u001b[38;5;241;43m=\u001b[39;49m\u001b[43msample_size\u001b[49m\u001b[43m,\u001b[49m\n\u001b[1;32m    675\u001b[0m \u001b[43m    \u001b[49m\u001b[43meol_char\u001b[49m\u001b[38;5;241;43m=\u001b[39;49m\u001b[43meol_char\u001b[49m\u001b[43m,\u001b[49m\n\u001b[1;32m    676\u001b[0m \u001b[43m    \u001b[49m\u001b[43mraise_if_empty\u001b[49m\u001b[38;5;241;43m=\u001b[39;49m\u001b[43mraise_if_empty\u001b[49m\u001b[43m,\u001b[49m\n\u001b[1;32m    677\u001b[0m \u001b[43m    \u001b[49m\u001b[43mtruncate_ragged_lines\u001b[49m\u001b[38;5;241;43m=\u001b[39;49m\u001b[43mtruncate_ragged_lines\u001b[49m\u001b[43m,\u001b[49m\n\u001b[1;32m    678\u001b[0m \u001b[43m    \u001b[49m\u001b[43mdecimal_comma\u001b[49m\u001b[38;5;241;43m=\u001b[39;49m\u001b[43mdecimal_comma\u001b[49m\u001b[43m,\u001b[49m\n\u001b[1;32m    679\u001b[0m \u001b[43m    \u001b[49m\u001b[43mschema\u001b[49m\u001b[38;5;241;43m=\u001b[39;49m\u001b[43mschema\u001b[49m\u001b[43m,\u001b[49m\n\u001b[1;32m    680\u001b[0m \u001b[43m\u001b[49m\u001b[43m)\u001b[49m\n\u001b[1;32m    681\u001b[0m \u001b[38;5;28;01mreturn\u001b[39;00m wrap_df(pydf)\n",
      "\u001b[0;31mKeyboardInterrupt\u001b[0m: "
     ]
    }
   ],
   "source": [
    "valid_tconst = df_denorm[\"tconst\"]\n",
    "\n",
    "df_principals = pl.read_csv(\n",
    "    os.path.join(data_dir, \"title.principals.tsv.gz\"),\n",
    "    separator=\"\\t\",\n",
    "    ignore_errors=True,\n",
    ")\n",
    "\n",
    "# df_principals = df_principals.join(df_denorm, on=\"tconst\").filter(pl.col(\"nconst\").is_not_null())\n",
    "df_principals = df_principals.filter(pl.col(\"tconst\").is_in(valid_tconst))\n",
    "\n",
    "df_names = pl.read_csv(\n",
    "    os.path.join(data_dir, \"name.basics.tsv.gz\"),\n",
    "    separator=\"\\t\",\n",
    "    ignore_errors=True,\n",
    ")\n",
    "\n",
    "df_principals = df_principals.join(df_names, on=\"nconst\")\n",
    "\n",
    "df_principals"
   ]
  },
  {
   "cell_type": "code",
   "execution_count": 26,
   "metadata": {},
   "outputs": [
    {
     "data": {
      "text/html": [
       "<div><style>\n",
       ".dataframe > thead > tr,\n",
       ".dataframe > tbody > tr {\n",
       "  text-align: right;\n",
       "  white-space: pre-wrap;\n",
       "}\n",
       "</style>\n",
       "<small>shape: (311_727, 3)</small><table border=\"1\" class=\"dataframe\"><thead><tr><th>tconst</th><th>actor_name</th><th>actor_role</th></tr><tr><td>str</td><td>list[str]</td><td>list[str]</td></tr></thead><tbody><tr><td>&quot;tt6580302&quot;</td><td>[&quot;Hosein Yari&quot;, &quot;Mitra Hajjar&quot;, … &quot;Kavian Lazar&quot;]</td><td>[&quot;actor&quot;, &quot;actress&quot;, … &quot;casting_director&quot;]</td></tr><tr><td>&quot;tt11754464&quot;</td><td>[&quot;Andovi Da Lopez&quot;, &quot;Jovial Da Lopez&quot;, … &quot;Juandini Liesmita&quot;]</td><td>[&quot;actor&quot;, &quot;actor&quot;, … &quot;casting_director&quot;]</td></tr><tr><td>&quot;tt2972982&quot;</td><td>[&quot;Fabianna Borghese&quot;, &quot;Reed Brice&quot;, … &quot;Chris Dobbins&quot;]</td><td>[&quot;actor&quot;, &quot;actor&quot;, … &quot;editor&quot;]</td></tr><tr><td>&quot;tt1013675&quot;</td><td>[&quot;Normunds Berzs&quot;, &quot;Ivars Kalnins&quot;, … &quot;Rebekka Fuchs&quot;]</td><td>[&quot;actor&quot;, &quot;actor&quot;, … &quot;editor&quot;]</td></tr><tr><td>&quot;tt14562588&quot;</td><td>[&quot;Dalmy Fernandes&quot;]</td><td>[&quot;director&quot;]</td></tr><tr><td>&hellip;</td><td>&hellip;</td><td>&hellip;</td></tr><tr><td>&quot;tt0223910&quot;</td><td>[&quot;Neal McDonough&quot;, &quot;Tom Hale&quot;, … &quot;Meredith B. Robinson&quot;]</td><td>[&quot;actor&quot;, &quot;actor&quot;, … &quot;casting_director&quot;]</td></tr><tr><td>&quot;tt1715758&quot;</td><td>[&quot;Chen Qiang&quot;, &quot;Yonghua Xiao&quot;, … &quot;Ni Liao&quot;]</td><td>[&quot;actor&quot;, &quot;actor&quot;, … &quot;cinematographer&quot;]</td></tr><tr><td>&quot;tt28433011&quot;</td><td>[&quot;Mincheng Li&quot;, &quot;Yen-Jou Lin&quot;, … &quot;Tao Hai&quot;]</td><td>[&quot;actor&quot;, &quot;actress&quot;, … &quot;director&quot;]</td></tr><tr><td>&quot;tt26748987&quot;</td><td>[&quot;Ivan Carrum&quot;, &quot;Pedro Castillo&quot;, … &quot;Orel Urbina&quot;]</td><td>[&quot;actor&quot;, &quot;actor&quot;, … &quot;editor&quot;]</td></tr><tr><td>&quot;tt0240641&quot;</td><td>[&quot;James Ronald Whitney&quot;, &quot;Melvin Just&quot;, … &quot;James Ronald Whitney&quot;]</td><td>[&quot;self&quot;, &quot;self&quot;, … &quot;editor&quot;]</td></tr></tbody></table></div>"
      ],
      "text/plain": [
       "shape: (311_727, 3)\n",
       "┌────────────┬─────────────────────────────────┬─────────────────────────────────┐\n",
       "│ tconst     ┆ actor_name                      ┆ actor_role                      │\n",
       "│ ---        ┆ ---                             ┆ ---                             │\n",
       "│ str        ┆ list[str]                       ┆ list[str]                       │\n",
       "╞════════════╪═════════════════════════════════╪═════════════════════════════════╡\n",
       "│ tt6580302  ┆ [\"Hosein Yari\", \"Mitra Hajjar\"… ┆ [\"actor\", \"actress\", … \"castin… │\n",
       "│ tt11754464 ┆ [\"Andovi Da Lopez\", \"Jovial Da… ┆ [\"actor\", \"actor\", … \"casting_… │\n",
       "│ tt2972982  ┆ [\"Fabianna Borghese\", \"Reed Br… ┆ [\"actor\", \"actor\", … \"editor\"]  │\n",
       "│ tt1013675  ┆ [\"Normunds Berzs\", \"Ivars Kaln… ┆ [\"actor\", \"actor\", … \"editor\"]  │\n",
       "│ tt14562588 ┆ [\"Dalmy Fernandes\"]             ┆ [\"director\"]                    │\n",
       "│ …          ┆ …                               ┆ …                               │\n",
       "│ tt0223910  ┆ [\"Neal McDonough\", \"Tom Hale\",… ┆ [\"actor\", \"actor\", … \"casting_… │\n",
       "│ tt1715758  ┆ [\"Chen Qiang\", \"Yonghua Xiao\",… ┆ [\"actor\", \"actor\", … \"cinemato… │\n",
       "│ tt28433011 ┆ [\"Mincheng Li\", \"Yen-Jou Lin\",… ┆ [\"actor\", \"actress\", … \"direct… │\n",
       "│ tt26748987 ┆ [\"Ivan Carrum\", \"Pedro Castill… ┆ [\"actor\", \"actor\", … \"editor\"]  │\n",
       "│ tt0240641  ┆ [\"James Ronald Whitney\", \"Melv… ┆ [\"self\", \"self\", … \"editor\"]    │\n",
       "└────────────┴─────────────────────────────────┴─────────────────────────────────┘"
      ]
     },
     "execution_count": 26,
     "metadata": {},
     "output_type": "execute_result"
    }
   ],
   "source": [
    "df_principals_agg = df_principals.group_by(\"tconst\").agg(\n",
    "    actor_name=pl.col(\"primaryName\").sort_by(pl.col(\"ordering\")),\n",
    "    actor_role=pl.col(\"category\").sort_by(pl.col(\"ordering\")),\n",
    ")\n",
    "\n",
    "df_principals_agg"
   ]
  },
  {
   "cell_type": "markdown",
   "metadata": {},
   "source": [
    "## Crew\n",
    "\n",
    "Crew data is nested: need to unnest to be able to map principals to them, then reaggregate.\n"
   ]
  },
  {
   "cell_type": "code",
   "execution_count": 20,
   "metadata": {},
   "outputs": [
    {
     "data": {
      "text/html": [
       "<div><style>\n",
       ".dataframe > thead > tr,\n",
       ".dataframe > tbody > tr {\n",
       "  text-align: right;\n",
       "  white-space: pre-wrap;\n",
       "}\n",
       "</style>\n",
       "<small>shape: (13_794_742, 6)</small><table border=\"1\" class=\"dataframe\"><thead><tr><th>nconst</th><th>primaryName</th><th>birthYear</th><th>deathYear</th><th>primaryProfession</th><th>knownForTitles</th></tr><tr><td>str</td><td>str</td><td>str</td><td>str</td><td>str</td><td>str</td></tr></thead><tbody><tr><td>&quot;nm0000001&quot;</td><td>&quot;Fred Astaire&quot;</td><td>&quot;1899&quot;</td><td>&quot;1987&quot;</td><td>&quot;actor,miscellaneous,producer&quot;</td><td>&quot;tt0072308,tt0050419,tt0053137,…</td></tr><tr><td>&quot;nm0000002&quot;</td><td>&quot;Lauren Bacall&quot;</td><td>&quot;1924&quot;</td><td>&quot;2014&quot;</td><td>&quot;actress,soundtrack,archive_foo…</td><td>&quot;tt0037382,tt0075213,tt0117057,…</td></tr><tr><td>&quot;nm0000003&quot;</td><td>&quot;Brigitte Bardot&quot;</td><td>&quot;1934&quot;</td><td>&quot;\\N&quot;</td><td>&quot;actress,music_department,produ…</td><td>&quot;tt0057345,tt0049189,tt0056404,…</td></tr><tr><td>&quot;nm0000004&quot;</td><td>&quot;John Belushi&quot;</td><td>&quot;1949&quot;</td><td>&quot;1982&quot;</td><td>&quot;actor,writer,music_department&quot;</td><td>&quot;tt0072562,tt0077975,tt0080455,…</td></tr><tr><td>&quot;nm0000005&quot;</td><td>&quot;Ingmar Bergman&quot;</td><td>&quot;1918&quot;</td><td>&quot;2007&quot;</td><td>&quot;writer,director,actor&quot;</td><td>&quot;tt0050986,tt0083922,tt0050976,…</td></tr><tr><td>&hellip;</td><td>&hellip;</td><td>&hellip;</td><td>&hellip;</td><td>&hellip;</td><td>&hellip;</td></tr><tr><td>&quot;nm9993714&quot;</td><td>&quot;Romeo del Rosario&quot;</td><td>&quot;\\N&quot;</td><td>&quot;\\N&quot;</td><td>&quot;animation_department,art_depar…</td><td>&quot;tt11657662,tt14069590,tt245554…</td></tr><tr><td>&quot;nm9993716&quot;</td><td>&quot;Essias Loberg&quot;</td><td>&quot;\\N&quot;</td><td>&quot;\\N&quot;</td><td>&quot;\\N&quot;</td><td>&quot;\\N&quot;</td></tr><tr><td>&quot;nm9993717&quot;</td><td>&quot;Harikrishnan Rajan&quot;</td><td>&quot;\\N&quot;</td><td>&quot;\\N&quot;</td><td>&quot;cinematographer&quot;</td><td>&quot;tt8736744&quot;</td></tr><tr><td>&quot;nm9993718&quot;</td><td>&quot;Aayush Nair&quot;</td><td>&quot;\\N&quot;</td><td>&quot;\\N&quot;</td><td>&quot;cinematographer&quot;</td><td>&quot;tt8736744&quot;</td></tr><tr><td>&quot;nm9993719&quot;</td><td>&quot;Andre Hill&quot;</td><td>&quot;\\N&quot;</td><td>&quot;\\N&quot;</td><td>&quot;writer&quot;</td><td>&quot;\\N&quot;</td></tr></tbody></table></div>"
      ],
      "text/plain": [
       "shape: (13_794_742, 6)\n",
       "┌───────────┬────────────────────┬───────────┬───────────┬────────────────────┬────────────────────┐\n",
       "│ nconst    ┆ primaryName        ┆ birthYear ┆ deathYear ┆ primaryProfession  ┆ knownForTitles     │\n",
       "│ ---       ┆ ---                ┆ ---       ┆ ---       ┆ ---                ┆ ---                │\n",
       "│ str       ┆ str                ┆ str       ┆ str       ┆ str                ┆ str                │\n",
       "╞═══════════╪════════════════════╪═══════════╪═══════════╪════════════════════╪════════════════════╡\n",
       "│ nm0000001 ┆ Fred Astaire       ┆ 1899      ┆ 1987      ┆ actor,miscellaneou ┆ tt0072308,tt005041 │\n",
       "│           ┆                    ┆           ┆           ┆ s,producer         ┆ 9,tt0053137,…      │\n",
       "│ nm0000002 ┆ Lauren Bacall      ┆ 1924      ┆ 2014      ┆ actress,soundtrack ┆ tt0037382,tt007521 │\n",
       "│           ┆                    ┆           ┆           ┆ ,archive_foo…      ┆ 3,tt0117057,…      │\n",
       "│ nm0000003 ┆ Brigitte Bardot    ┆ 1934      ┆ \\N        ┆ actress,music_depa ┆ tt0057345,tt004918 │\n",
       "│           ┆                    ┆           ┆           ┆ rtment,produ…      ┆ 9,tt0056404,…      │\n",
       "│ nm0000004 ┆ John Belushi       ┆ 1949      ┆ 1982      ┆ actor,writer,music ┆ tt0072562,tt007797 │\n",
       "│           ┆                    ┆           ┆           ┆ _department        ┆ 5,tt0080455,…      │\n",
       "│ nm0000005 ┆ Ingmar Bergman     ┆ 1918      ┆ 2007      ┆ writer,director,ac ┆ tt0050986,tt008392 │\n",
       "│           ┆                    ┆           ┆           ┆ tor                ┆ 2,tt0050976,…      │\n",
       "│ …         ┆ …                  ┆ …         ┆ …         ┆ …                  ┆ …                  │\n",
       "│ nm9993714 ┆ Romeo del Rosario  ┆ \\N        ┆ \\N        ┆ animation_departme ┆ tt11657662,tt14069 │\n",
       "│           ┆                    ┆           ┆           ┆ nt,art_depar…      ┆ 590,tt245554…      │\n",
       "│ nm9993716 ┆ Essias Loberg      ┆ \\N        ┆ \\N        ┆ \\N                 ┆ \\N                 │\n",
       "│ nm9993717 ┆ Harikrishnan Rajan ┆ \\N        ┆ \\N        ┆ cinematographer    ┆ tt8736744          │\n",
       "│ nm9993718 ┆ Aayush Nair        ┆ \\N        ┆ \\N        ┆ cinematographer    ┆ tt8736744          │\n",
       "│ nm9993719 ┆ Andre Hill         ┆ \\N        ┆ \\N        ┆ writer             ┆ \\N                 │\n",
       "└───────────┴────────────────────┴───────────┴───────────┴────────────────────┴────────────────────┘"
      ]
     },
     "execution_count": 20,
     "metadata": {},
     "output_type": "execute_result"
    }
   ],
   "source": [
    "df_names"
   ]
  },
  {
   "cell_type": "code",
   "execution_count": 11,
   "metadata": {},
   "outputs": [
    {
     "data": {
      "text/html": [
       "<div><style>\n",
       ".dataframe > thead > tr,\n",
       ".dataframe > tbody > tr {\n",
       "  text-align: right;\n",
       "  white-space: pre-wrap;\n",
       "}\n",
       "</style>\n",
       "<small>shape: (315_091, 3)</small><table border=\"1\" class=\"dataframe\"><thead><tr><th>tconst</th><th>directors</th><th>writers</th></tr><tr><td>str</td><td>str</td><td>str</td></tr></thead><tbody><tr><td>&quot;tt0000009&quot;</td><td>&quot;nm0085156&quot;</td><td>&quot;nm0085156&quot;</td></tr><tr><td>&quot;tt0000147&quot;</td><td>&quot;nm0714557&quot;</td><td>&quot;\\N&quot;</td></tr><tr><td>&quot;tt0000502&quot;</td><td>&quot;nm0063413&quot;</td><td>&quot;nm0063413,nm0657268,nm0675388&quot;</td></tr><tr><td>&quot;tt0000574&quot;</td><td>&quot;nm0846879&quot;</td><td>&quot;nm0846879&quot;</td></tr><tr><td>&quot;tt0000591&quot;</td><td>&quot;nm0141150&quot;</td><td>&quot;nm0141150&quot;</td></tr><tr><td>&hellip;</td><td>&hellip;</td><td>&hellip;</td></tr><tr><td>&quot;tt9916362&quot;</td><td>&quot;nm1893148&quot;</td><td>&quot;nm1893148,nm3471432&quot;</td></tr><tr><td>&quot;tt9916428&quot;</td><td>&quot;nm0910951&quot;</td><td>&quot;\\N&quot;</td></tr><tr><td>&quot;tt9916538&quot;</td><td>&quot;nm4457074&quot;</td><td>&quot;nm4843252,nm4900525,nm2679404&quot;</td></tr><tr><td>&quot;tt9916706&quot;</td><td>&quot;nm7764440&quot;</td><td>&quot;nm7933903&quot;</td></tr><tr><td>&quot;tt9916730&quot;</td><td>&quot;nm10538612&quot;</td><td>&quot;nm10538612&quot;</td></tr></tbody></table></div>"
      ],
      "text/plain": [
       "shape: (315_091, 3)\n",
       "┌───────────┬────────────┬───────────────────────────────┐\n",
       "│ tconst    ┆ directors  ┆ writers                       │\n",
       "│ ---       ┆ ---        ┆ ---                           │\n",
       "│ str       ┆ str        ┆ str                           │\n",
       "╞═══════════╪════════════╪═══════════════════════════════╡\n",
       "│ tt0000009 ┆ nm0085156  ┆ nm0085156                     │\n",
       "│ tt0000147 ┆ nm0714557  ┆ \\N                            │\n",
       "│ tt0000502 ┆ nm0063413  ┆ nm0063413,nm0657268,nm0675388 │\n",
       "│ tt0000574 ┆ nm0846879  ┆ nm0846879                     │\n",
       "│ tt0000591 ┆ nm0141150  ┆ nm0141150                     │\n",
       "│ …         ┆ …          ┆ …                             │\n",
       "│ tt9916362 ┆ nm1893148  ┆ nm1893148,nm3471432           │\n",
       "│ tt9916428 ┆ nm0910951  ┆ \\N                            │\n",
       "│ tt9916538 ┆ nm4457074  ┆ nm4843252,nm4900525,nm2679404 │\n",
       "│ tt9916706 ┆ nm7764440  ┆ nm7933903                     │\n",
       "│ tt9916730 ┆ nm10538612 ┆ nm10538612                    │\n",
       "└───────────┴────────────┴───────────────────────────────┘"
      ]
     },
     "execution_count": 11,
     "metadata": {},
     "output_type": "execute_result"
    }
   ],
   "source": [
    "valid_tconst = df_denorm[\"tconst\"]\n",
    "\n",
    "df_crew = pl.read_csv(\n",
    "    os.path.join(data_dir, \"title.crew.tsv.gz\"),\n",
    "    separator=\"\\t\",\n",
    "    ignore_errors=True,\n",
    ")\n",
    "\n",
    "# df_principals = df_principals.join(df_denorm, on=\"tconst\").filter(pl.col(\"nconst\").is_not_null())\n",
    "df_crew = df_crew.filter(pl.col(\"tconst\").is_in(valid_tconst))\n",
    "\n",
    "# df_names = pl.read_csv(\n",
    "#     os.path.join(data_dir, \"name.basics.tsv.gz\"),\n",
    "#     separator=\"\\t\",\n",
    "#     ignore_errors=True,\n",
    "# )\n",
    "\n",
    "# df_principals = df_principals.join(df_names, on=\"nconst\")\n",
    "\n",
    "df_crew"
   ]
  },
  {
   "cell_type": "markdown",
   "metadata": {},
   "source": [
    "https://stackoverflow.com/questions/73699500/python-polars-split-string-column-into-many-columns-by-delimiter\n"
   ]
  },
  {
   "cell_type": "code",
   "execution_count": 24,
   "metadata": {},
   "outputs": [
    {
     "data": {
      "text/html": [
       "<div><style>\n",
       ".dataframe > thead > tr,\n",
       ".dataframe > tbody > tr {\n",
       "  text-align: right;\n",
       "  white-space: pre-wrap;\n",
       "}\n",
       "</style>\n",
       "<small>shape: (311_888, 2)</small><table border=\"1\" class=\"dataframe\"><thead><tr><th>tconst</th><th>directors</th></tr><tr><td>str</td><td>list[str]</td></tr></thead><tbody><tr><td>&quot;tt0062119&quot;</td><td>[&quot;Emilio Gómez Muriel&quot;]</td></tr><tr><td>&quot;tt13942896&quot;</td><td>[&quot;Adam Sigal&quot;]</td></tr><tr><td>&quot;tt0466111&quot;</td><td>[&quot;Emmanuel H. Borlaza&quot;]</td></tr><tr><td>&quot;tt20159254&quot;</td><td>[&quot;Anupam Patnaik&quot;]</td></tr><tr><td>&quot;tt3261564&quot;</td><td>[&quot;Tim Toidze&quot;]</td></tr><tr><td>&hellip;</td><td>&hellip;</td></tr><tr><td>&quot;tt0279494&quot;</td><td>[&quot;Laurent Chouchan&quot;]</td></tr><tr><td>&quot;tt0128327&quot;</td><td>[&quot;Amasi Damiani&quot;]</td></tr><tr><td>&quot;tt10062530&quot;</td><td>[&quot;Francesco Grecchi&quot;]</td></tr><tr><td>&quot;tt0277621&quot;</td><td>[&quot;Martin Hollý&quot;]</td></tr><tr><td>&quot;tt0058557&quot;</td><td>[&quot;Bryan Forbes&quot;]</td></tr></tbody></table></div>"
      ],
      "text/plain": [
       "shape: (311_888, 2)\n",
       "┌────────────┬─────────────────────────┐\n",
       "│ tconst     ┆ directors               │\n",
       "│ ---        ┆ ---                     │\n",
       "│ str        ┆ list[str]               │\n",
       "╞════════════╪═════════════════════════╡\n",
       "│ tt0062119  ┆ [\"Emilio Gómez Muriel\"] │\n",
       "│ tt13942896 ┆ [\"Adam Sigal\"]          │\n",
       "│ tt0466111  ┆ [\"Emmanuel H. Borlaza\"] │\n",
       "│ tt20159254 ┆ [\"Anupam Patnaik\"]      │\n",
       "│ tt3261564  ┆ [\"Tim Toidze\"]          │\n",
       "│ …          ┆ …                       │\n",
       "│ tt0279494  ┆ [\"Laurent Chouchan\"]    │\n",
       "│ tt0128327  ┆ [\"Amasi Damiani\"]       │\n",
       "│ tt10062530 ┆ [\"Francesco Grecchi\"]   │\n",
       "│ tt0277621  ┆ [\"Martin Hollý\"]        │\n",
       "│ tt0058557  ┆ [\"Bryan Forbes\"]        │\n",
       "└────────────┴─────────────────────────┘"
      ]
     },
     "execution_count": 24,
     "metadata": {},
     "output_type": "execute_result"
    }
   ],
   "source": [
    "df_directors = (\n",
    "    df_crew.select([\"tconst\", \"directors\"])\n",
    "    .filter(pl.col(\"directors\") != \"\\\\N\")\n",
    "    .with_columns(pl.col(\"directors\").str.split(\",\"))\n",
    "    .explode(\"directors\")\n",
    "    .join(df_names, left_on=\"directors\", right_on=\"nconst\")\n",
    "    .group_by(\"tconst\")\n",
    "    .agg(directors=pl.col(\"primaryName\"))\n",
    ")\n",
    "df_directors"
   ]
  },
  {
   "cell_type": "code",
   "execution_count": 25,
   "metadata": {},
   "outputs": [
    {
     "data": {
      "text/html": [
       "<div><style>\n",
       ".dataframe > thead > tr,\n",
       ".dataframe > tbody > tr {\n",
       "  text-align: right;\n",
       "  white-space: pre-wrap;\n",
       "}\n",
       "</style>\n",
       "<small>shape: (276_443, 2)</small><table border=\"1\" class=\"dataframe\"><thead><tr><th>tconst</th><th>writers</th></tr><tr><td>str</td><td>list[str]</td></tr></thead><tbody><tr><td>&quot;tt0050124&quot;</td><td>[&quot;France Roche&quot;, &quot;Waldemar Kamempfert&quot;]</td></tr><tr><td>&quot;tt4417102&quot;</td><td>[&quot;K. Gireesh Kumar&quot;]</td></tr><tr><td>&quot;tt0064848&quot;</td><td>[&quot;Derek Ford&quot;, &quot;Donald Ford&quot;]</td></tr><tr><td>&quot;tt0343063&quot;</td><td>[&quot;Husain Fawzi&quot;, &quot;Galil El-Bandari&quot;]</td></tr><tr><td>&quot;tt0335247&quot;</td><td>[&quot;Bibeth Orteza&quot;, &quot;Eric Quizon&quot;]</td></tr><tr><td>&hellip;</td><td>&hellip;</td></tr><tr><td>&quot;tt6211920&quot;</td><td>[&quot;P.J. Starks&quot;, &quot;Nathan Thomas Milliner&quot;, … &quot;Jason Turner&quot;]</td></tr><tr><td>&quot;tt0332285&quot;</td><td>[&quot;Joan Ackermann&quot;]</td></tr><tr><td>&quot;tt0105845&quot;</td><td>[&quot;Li Fu&quot;]</td></tr><tr><td>&quot;tt0223832&quot;</td><td>[&quot;Rolf de Heer&quot;, &quot;Luis Sepúlveda&quot;, &quot;Claude Cohen&quot;]</td></tr><tr><td>&quot;tt0178846&quot;</td><td>[&quot;Luis César Amadori&quot;]</td></tr></tbody></table></div>"
      ],
      "text/plain": [
       "shape: (276_443, 2)\n",
       "┌───────────┬─────────────────────────────────┐\n",
       "│ tconst    ┆ writers                         │\n",
       "│ ---       ┆ ---                             │\n",
       "│ str       ┆ list[str]                       │\n",
       "╞═══════════╪═════════════════════════════════╡\n",
       "│ tt0050124 ┆ [\"France Roche\", \"Waldemar Kam… │\n",
       "│ tt4417102 ┆ [\"K. Gireesh Kumar\"]            │\n",
       "│ tt0064848 ┆ [\"Derek Ford\", \"Donald Ford\"]   │\n",
       "│ tt0343063 ┆ [\"Husain Fawzi\", \"Galil El-Ban… │\n",
       "│ tt0335247 ┆ [\"Bibeth Orteza\", \"Eric Quizon… │\n",
       "│ …         ┆ …                               │\n",
       "│ tt6211920 ┆ [\"P.J. Starks\", \"Nathan Thomas… │\n",
       "│ tt0332285 ┆ [\"Joan Ackermann\"]              │\n",
       "│ tt0105845 ┆ [\"Li Fu\"]                       │\n",
       "│ tt0223832 ┆ [\"Rolf de Heer\", \"Luis Sepúlve… │\n",
       "│ tt0178846 ┆ [\"Luis César Amadori\"]          │\n",
       "└───────────┴─────────────────────────────────┘"
      ]
     },
     "execution_count": 25,
     "metadata": {},
     "output_type": "execute_result"
    }
   ],
   "source": [
    "df_writers = (\n",
    "    df_crew.select([\"tconst\", \"writers\"])\n",
    "    .filter(pl.col(\"writers\") != \"\\\\N\")\n",
    "    .with_columns(pl.col(\"writers\").str.split(\",\"))\n",
    "    .explode(\"writers\")\n",
    "    .join(df_names, left_on=\"writers\", right_on=\"nconst\")\n",
    "    .group_by(\"tconst\")\n",
    "    .agg(writers=pl.col(\"primaryName\"))\n",
    ")\n",
    "df_writers"
   ]
  },
  {
   "cell_type": "markdown",
   "metadata": {},
   "source": [
    "## Reaggregate Everything and Build JSON Representation\n"
   ]
  },
  {
   "cell_type": "code",
   "execution_count": 67,
   "metadata": {},
   "outputs": [
    {
     "data": {
      "text/html": [
       "<div><style>\n",
       ".dataframe > thead > tr,\n",
       ".dataframe > tbody > tr {\n",
       "  text-align: right;\n",
       "  white-space: pre-wrap;\n",
       "}\n",
       "</style>\n",
       "<small>shape: (272_959, 15)</small><table border=\"1\" class=\"dataframe\"><thead><tr><th>tconst</th><th>titleType</th><th>primaryTitle</th><th>originalTitle</th><th>isAdult</th><th>startYear</th><th>endYear</th><th>runtimeMinutes</th><th>genres</th><th>averageRating</th><th>numVotes</th><th>actor_name</th><th>actor_role</th><th>directors</th><th>writers</th></tr><tr><td>str</td><td>str</td><td>str</td><td>str</td><td>i64</td><td>i64</td><td>str</td><td>str</td><td>str</td><td>f64</td><td>i64</td><td>list[str]</td><td>list[str]</td><td>list[str]</td><td>list[str]</td></tr></thead><tbody><tr><td>&quot;tt0062119&quot;</td><td>&quot;movie&quot;</td><td>&quot;La perra&quot;</td><td>&quot;La perra&quot;</td><td>0</td><td>1967</td><td>&quot;\\N&quot;</td><td>&quot;90&quot;</td><td>&quot;Drama,Romance&quot;</td><td>5.7</td><td>15</td><td>[&quot;Libertad Leblanc&quot;, &quot;Julio Alemán&quot;, … &quot;Alfredo Ruanova&quot;]</td><td>[&quot;actress&quot;, &quot;actor&quot;, … &quot;production_designer&quot;]</td><td>[&quot;Emilio Gómez Muriel&quot;]</td><td>[&quot;Alfredo Ruanova&quot;]</td></tr><tr><td>&quot;tt13942896&quot;</td><td>&quot;movie&quot;</td><td>&quot;Chariot&quot;</td><td>&quot;Chariot&quot;</td><td>0</td><td>2022</td><td>&quot;\\N&quot;</td><td>&quot;94&quot;</td><td>&quot;Comedy,Drama,Sci-Fi&quot;</td><td>3.6</td><td>727</td><td>[&quot;Thomas Mann&quot;, &quot;Rosa Salazar&quot;, … &quot;Scott Daniel&quot;]</td><td>[&quot;actor&quot;, &quot;actress&quot;, … &quot;production_designer&quot;]</td><td>[&quot;Adam Sigal&quot;]</td><td>[&quot;Adam Sigal&quot;]</td></tr><tr><td>&quot;tt0466111&quot;</td><td>&quot;movie&quot;</td><td>&quot;Rosa mistica&quot;</td><td>&quot;Rosa mistica&quot;</td><td>0</td><td>1987</td><td>&quot;\\N&quot;</td><td>&quot;116&quot;</td><td>&quot;Comedy,Drama,Fantasy&quot;</td><td>7.1</td><td>25</td><td>[&quot;Snooky Serna&quot;, &quot;Snooky Serna&quot;, … &quot;Freddie Valencia&quot;]</td><td>[&quot;actress&quot;, &quot;actress&quot;, … &quot;production_designer&quot;]</td><td>[&quot;Emmanuel H. Borlaza&quot;]</td><td>[&quot;Orlando Nadres&quot;, &quot;Pablo S. Gomez&quot;]</td></tr><tr><td>&quot;tt20159254&quot;</td><td>&quot;movie&quot;</td><td>&quot;Trikanya&quot;</td><td>&quot;Trikanya&quot;</td><td>0</td><td>2022</td><td>&quot;\\N&quot;</td><td>&quot;\\N&quot;</td><td>&quot;Drama,Romance&quot;</td><td>6.2</td><td>6</td><td>[&quot;Dipanwit Dashmohapatra&quot;, &quot;Nishant Majithia&quot;, … &quot;Rashmi Ranjan Dash&quot;]</td><td>[&quot;actor&quot;, &quot;actor&quot;, … &quot;editor&quot;]</td><td>[&quot;Anupam Patnaik&quot;]</td><td>[&quot;Manash Padhiary&quot;]</td></tr><tr><td>&quot;tt3261564&quot;</td><td>&quot;movie&quot;</td><td>&quot;Khrushchev Does America&quot;</td><td>&quot;Khrushchev Does America&quot;</td><td>0</td><td>2013</td><td>&quot;\\N&quot;</td><td>&quot;59&quot;</td><td>&quot;Documentary,History&quot;</td><td>7.5</td><td>148</td><td>[&quot;Geoffrey Bateman&quot;, &quot;Tim Toidze&quot;, … &quot;Tim Toidze&quot;]</td><td>[&quot;actor&quot;, &quot;actor&quot;, … &quot;editor&quot;]</td><td>[&quot;Tim Toidze&quot;]</td><td>[&quot;Tim Toidze&quot;]</td></tr><tr><td>&hellip;</td><td>&hellip;</td><td>&hellip;</td><td>&hellip;</td><td>&hellip;</td><td>&hellip;</td><td>&hellip;</td><td>&hellip;</td><td>&hellip;</td><td>&hellip;</td><td>&hellip;</td><td>&hellip;</td><td>&hellip;</td><td>&hellip;</td><td>&hellip;</td></tr><tr><td>&quot;tt0112760&quot;</td><td>&quot;movie&quot;</td><td>&quot;Cutthroat Island&quot;</td><td>&quot;Cutthroat Island&quot;</td><td>0</td><td>1995</td><td>&quot;\\N&quot;</td><td>&quot;124&quot;</td><td>&quot;Action,Adventure,Comedy&quot;</td><td>5.7</td><td>31050</td><td>[&quot;Geena Davis&quot;, &quot;Matthew Modine&quot;, … &quot;Norman Garwood&quot;]</td><td>[&quot;actress&quot;, &quot;actor&quot;, … &quot;production_designer&quot;]</td><td>[&quot;Renny Harlin&quot;]</td><td>[&quot;Michael Frost Beckner&quot;, &quot;Bruce A. Evans&quot;, … &quot;Marc Norman&quot;]</td></tr><tr><td>&quot;tt0279494&quot;</td><td>&quot;movie&quot;</td><td>&quot;Love Vertigo&quot;</td><td>&quot;Vertiges de l&#x27;amour&quot;</td><td>0</td><td>2001</td><td>&quot;\\N&quot;</td><td>&quot;84&quot;</td><td>&quot;Comedy&quot;</td><td>6.1</td><td>144</td><td>[&quot;Philippe Torreton&quot;, &quot;Sophie-Charlotte Husson&quot;, … &quot;Aline Bonetto&quot;]</td><td>[&quot;actor&quot;, &quot;actress&quot;, … &quot;production_designer&quot;]</td><td>[&quot;Laurent Chouchan&quot;]</td><td>[&quot;Laurent Chouchan&quot;]</td></tr><tr><td>&quot;tt0128327&quot;</td><td>&quot;movie&quot;</td><td>&quot;Manhattan Gigolo&quot;</td><td>&quot;Manhattan gigolò&quot;</td><td>0</td><td>1986</td><td>&quot;\\N&quot;</td><td>&quot;103&quot;</td><td>&quot;Drama&quot;</td><td>5.2</td><td>47</td><td>[&quot;Gianni Dei&quot;, &quot;Andrea Thompson&quot;, … &quot;Francesco Malvestito&quot;]</td><td>[&quot;actor&quot;, &quot;actress&quot;, … &quot;editor&quot;]</td><td>[&quot;Amasi Damiani&quot;]</td><td>[&quot;Aris Iliopulos&quot;, &quot;Paul Walker&quot;, &quot;Steve Porter&quot;]</td></tr><tr><td>&quot;tt0277621&quot;</td><td>&quot;movie&quot;</td><td>&quot;The Way Through Hell&quot;</td><td>&quot;Cesta peklem&quot;</td><td>0</td><td>1995</td><td>&quot;\\N&quot;</td><td>&quot;85&quot;</td><td>&quot;Action&quot;</td><td>3.7</td><td>64</td><td>[&quot;Petr Jákl&quot;, &quot;Radoslav Brzobohatý&quot;, … &quot;Jirí Sternwald&quot;]</td><td>[&quot;actor&quot;, &quot;actor&quot;, … &quot;production_designer&quot;]</td><td>[&quot;Martin Hollý&quot;]</td><td>[&quot;Petr Jákl&quot;, &quot;Václav Nývlt&quot;]</td></tr><tr><td>&quot;tt0058557&quot;</td><td>&quot;movie&quot;</td><td>&quot;Seance on a Wet Afternoon&quot;</td><td>&quot;Seance on a Wet Afternoon&quot;</td><td>0</td><td>1964</td><td>&quot;\\N&quot;</td><td>&quot;115&quot;</td><td>&quot;Crime,Drama&quot;</td><td>7.6</td><td>7590</td><td>[&quot;Kim Stanley&quot;, &quot;Richard Attenborough&quot;, … &quot;Derek York&quot;]</td><td>[&quot;actress&quot;, &quot;actor&quot;, … &quot;editor&quot;]</td><td>[&quot;Bryan Forbes&quot;]</td><td>[&quot;Bryan Forbes&quot;, &quot;Mark McShane&quot;]</td></tr></tbody></table></div>"
      ],
      "text/plain": [
       "shape: (272_959, 15)\n",
       "┌───────────┬───────────┬───────────┬───────────┬───┬───────────┬───────────┬───────────┬──────────┐\n",
       "│ tconst    ┆ titleType ┆ primaryTi ┆ originalT ┆ … ┆ actor_nam ┆ actor_rol ┆ directors ┆ writers  │\n",
       "│ ---       ┆ ---       ┆ tle       ┆ itle      ┆   ┆ e         ┆ e         ┆ ---       ┆ ---      │\n",
       "│ str       ┆ str       ┆ ---       ┆ ---       ┆   ┆ ---       ┆ ---       ┆ list[str] ┆ list[str │\n",
       "│           ┆           ┆ str       ┆ str       ┆   ┆ list[str] ┆ list[str] ┆           ┆ ]        │\n",
       "╞═══════════╪═══════════╪═══════════╪═══════════╪═══╪═══════════╪═══════════╪═══════════╪══════════╡\n",
       "│ tt0062119 ┆ movie     ┆ La perra  ┆ La perra  ┆ … ┆ [\"Liberta ┆ [\"actress ┆ [\"Emilio  ┆ [\"Alfred │\n",
       "│           ┆           ┆           ┆           ┆   ┆ d         ┆ \",        ┆ Gómez     ┆ o Ruanov │\n",
       "│           ┆           ┆           ┆           ┆   ┆ Leblanc\", ┆ \"actor\",  ┆ Muriel\"]  ┆ a\"]      │\n",
       "│           ┆           ┆           ┆           ┆   ┆ \"Julio    ┆ …         ┆           ┆          │\n",
       "│           ┆           ┆           ┆           ┆   ┆ Al…       ┆ \"produc…  ┆           ┆          │\n",
       "│ tt1394289 ┆ movie     ┆ Chariot   ┆ Chariot   ┆ … ┆ [\"Thomas  ┆ [\"actor\", ┆ [\"Adam    ┆ [\"Adam   │\n",
       "│ 6         ┆           ┆           ┆           ┆   ┆ Mann\",    ┆ \"actress\" ┆ Sigal\"]   ┆ Sigal\"]  │\n",
       "│           ┆           ┆           ┆           ┆   ┆ \"Rosa     ┆ , …       ┆           ┆          │\n",
       "│           ┆           ┆           ┆           ┆   ┆ Salazar\"… ┆ \"produc…  ┆           ┆          │\n",
       "│ tt0466111 ┆ movie     ┆ Rosa      ┆ Rosa      ┆ … ┆ [\"Snooky  ┆ [\"actress ┆ [\"Emmanue ┆ [\"Orland │\n",
       "│           ┆           ┆ mistica   ┆ mistica   ┆   ┆ Serna\",   ┆ \", \"actre ┆ l H.      ┆ o        │\n",
       "│           ┆           ┆           ┆           ┆   ┆ \"Snooky   ┆ ss\", …    ┆ Borlaza\"] ┆ Nadres\", │\n",
       "│           ┆           ┆           ┆           ┆   ┆ Serna…    ┆ \"prod…    ┆           ┆ \"Pablo   │\n",
       "│           ┆           ┆           ┆           ┆   ┆           ┆           ┆           ┆ S. G…    │\n",
       "│ tt2015925 ┆ movie     ┆ Trikanya  ┆ Trikanya  ┆ … ┆ [\"Dipanwi ┆ [\"actor\", ┆ [\"Anupam  ┆ [\"Manash │\n",
       "│ 4         ┆           ┆           ┆           ┆   ┆ t Dashmoh ┆ \"actor\",  ┆ Patnaik\"] ┆ Padhiary │\n",
       "│           ┆           ┆           ┆           ┆   ┆ apatra\",  ┆ …         ┆           ┆ \"]       │\n",
       "│           ┆           ┆           ┆           ┆   ┆ \"Ni…      ┆ \"editor\"] ┆           ┆          │\n",
       "│ tt3261564 ┆ movie     ┆ Khrushche ┆ Khrushche ┆ … ┆ [\"Geoffre ┆ [\"actor\", ┆ [\"Tim     ┆ [\"Tim    │\n",
       "│           ┆           ┆ v Does    ┆ v Does    ┆   ┆ y         ┆ \"actor\",  ┆ Toidze\"]  ┆ Toidze\"] │\n",
       "│           ┆           ┆ America   ┆ America   ┆   ┆ Bateman\", ┆ …         ┆           ┆          │\n",
       "│           ┆           ┆           ┆           ┆   ┆ \"Tim      ┆ \"editor\"] ┆           ┆          │\n",
       "│           ┆           ┆           ┆           ┆   ┆ Toid…     ┆           ┆           ┆          │\n",
       "│ …         ┆ …         ┆ …         ┆ …         ┆ … ┆ …         ┆ …         ┆ …         ┆ …        │\n",
       "│ tt0112760 ┆ movie     ┆ Cutthroat ┆ Cutthroat ┆ … ┆ [\"Geena   ┆ [\"actress ┆ [\"Renny   ┆ [\"Michae │\n",
       "│           ┆           ┆ Island    ┆ Island    ┆   ┆ Davis\",   ┆ \",        ┆ Harlin\"]  ┆ l Frost  │\n",
       "│           ┆           ┆           ┆           ┆   ┆ \"Matthew  ┆ \"actor\",  ┆           ┆ Beckner\" │\n",
       "│           ┆           ┆           ┆           ┆   ┆ Modin…    ┆ …         ┆           ┆ , \"Bru…  │\n",
       "│           ┆           ┆           ┆           ┆   ┆           ┆ \"produc…  ┆           ┆          │\n",
       "│ tt0279494 ┆ movie     ┆ Love      ┆ Vertiges  ┆ … ┆ [\"Philipp ┆ [\"actor\", ┆ [\"Laurent ┆ [\"Lauren │\n",
       "│           ┆           ┆ Vertigo   ┆ de        ┆   ┆ e Torreto ┆ \"actress\" ┆ Chouchan\" ┆ t Chouch │\n",
       "│           ┆           ┆           ┆ l'amour   ┆   ┆ n\",       ┆ , …       ┆ ]         ┆ an\"]     │\n",
       "│           ┆           ┆           ┆           ┆   ┆ \"Sophie-… ┆ \"produc…  ┆           ┆          │\n",
       "│ tt0128327 ┆ movie     ┆ Manhattan ┆ Manhattan ┆ … ┆ [\"Gianni  ┆ [\"actor\", ┆ [\"Amasi   ┆ [\"Aris   │\n",
       "│           ┆           ┆ Gigolo    ┆ gigolò    ┆   ┆ Dei\",     ┆ \"actress\" ┆ Damiani\"] ┆ Iliopulo │\n",
       "│           ┆           ┆           ┆           ┆   ┆ \"Andrea   ┆ , …       ┆           ┆ s\",      │\n",
       "│           ┆           ┆           ┆           ┆   ┆ Thompso…  ┆ \"editor…  ┆           ┆ \"Paul    │\n",
       "│           ┆           ┆           ┆           ┆   ┆           ┆           ┆           ┆ Walke…   │\n",
       "│ tt0277621 ┆ movie     ┆ The Way   ┆ Cesta     ┆ … ┆ [\"Petr    ┆ [\"actor\", ┆ [\"Martin  ┆ [\"Petr   │\n",
       "│           ┆           ┆ Through   ┆ peklem    ┆   ┆ Jákl\",    ┆ \"actor\",  ┆ Hollý\"]   ┆ Jákl\",   │\n",
       "│           ┆           ┆ Hell      ┆           ┆   ┆ \"Radoslav ┆ … \"produc ┆           ┆ \"Václav  │\n",
       "│           ┆           ┆           ┆           ┆   ┆ Brzobo…   ┆ ti…       ┆           ┆ Nývlt\"]  │\n",
       "│ tt0058557 ┆ movie     ┆ Seance on ┆ Seance on ┆ … ┆ [\"Kim     ┆ [\"actress ┆ [\"Bryan   ┆ [\"Bryan  │\n",
       "│           ┆           ┆ a Wet     ┆ a Wet     ┆   ┆ Stanley\", ┆ \",        ┆ Forbes\"]  ┆ Forbes\", │\n",
       "│           ┆           ┆ Afternoon ┆ Afternoon ┆   ┆ \"Richard  ┆ \"actor\",  ┆           ┆ \"Mark    │\n",
       "│           ┆           ┆           ┆           ┆   ┆ Atten…    ┆ …         ┆           ┆ McShane… │\n",
       "│           ┆           ┆           ┆           ┆   ┆           ┆ \"editor…  ┆           ┆          │\n",
       "└───────────┴───────────┴───────────┴───────────┴───┴───────────┴───────────┴───────────┴──────────┘"
      ]
     },
     "execution_count": 67,
     "metadata": {},
     "output_type": "execute_result"
    }
   ],
   "source": [
    "df_final = (\n",
    "    df_denorm.join(df_principals_agg, on=\"tconst\")\n",
    "    .join(df_directors, on=\"tconst\")\n",
    "    .join(df_writers, on=\"tconst\")\n",
    ")\n",
    "\n",
    "df_final"
   ]
  },
  {
   "cell_type": "code",
   "execution_count": 68,
   "metadata": {},
   "outputs": [],
   "source": [
    "def movie_json(row):\n",
    "    # row = row.to_dicts()[0]\n",
    "    # print(row)\n",
    "    genres = row[\"genres\"].split(\",\") if row[\"genres\"] != \"\\\\N\" else None\n",
    "    actors = [{name: role} for name, role in zip(row[\"actor_name\"], row[\"actor_role\"])]\n",
    "\n",
    "    json_dict = {\n",
    "        \"title\": row[\"primaryTitle\"],\n",
    "        \"genres\": genres,\n",
    "        \"is_adult\": True if row[\"isAdult\"] == 1 else False,\n",
    "        \"release_year\": row[\"startYear\"],\n",
    "        \"runtime_minutes\": int(row[\"runtimeMinutes\"])\n",
    "        if row[\"runtimeMinutes\"] != \"\\\\N\"\n",
    "        else None,\n",
    "        \"directors\": row[\"directors\"],\n",
    "        \"writers\": row[\"writers\"],\n",
    "        \"actors\": actors,\n",
    "    }\n",
    "    return str(json_dict)"
   ]
  },
  {
   "cell_type": "code",
   "execution_count": 70,
   "metadata": {},
   "outputs": [
    {
     "data": {
      "text/plain": [
       "\"{'title': 'La perra', 'genres': ['Drama', 'Romance'], 'is_adult': False, 'release_year': 1967, 'runtime_minutes': 90, 'directors': ['Emilio Gómez Muriel'], 'writers': ['Alfredo Ruanova'], 'actors': [{'Libertad Leblanc': 'actress'}, {'Julio Alemán': 'actor'}, {'Carlos López Moctezuma': 'actor'}, {'Charles Aznavour': 'actor'}, {'Rosángela Balbó': 'actress'}, {'Elena Casares': 'actress'}, {'Hugo Dargo': 'actor'}, {'Héctor Méndez': 'actor'}, {'Mimí Pons': 'actress'}, {'Mario Savino': 'actor'}, {'Emilio Gómez Muriel': 'director'}, {'Alfredo Ruanova': 'writer'}, {'Luis Giudici': 'producer'}, {'Emilio Gómez Muriel': 'producer'}, {'Alfredo Ruanova': 'producer'}, {'Humberto Peruzzi': 'cinematographer'}, {'Gerardo Rinaldi': 'editor'}, {'Antonio Ripoll': 'editor'}, {'Alfredo Ruanova': 'production_designer'}]}\""
      ]
     },
     "execution_count": 70,
     "metadata": {},
     "output_type": "execute_result"
    }
   ],
   "source": [
    "movie_json(df_final[0].to_dicts()[0])"
   ]
  },
  {
   "cell_type": "markdown",
   "metadata": {},
   "source": [
    "https://stackoverflow.com/a/77558612\n"
   ]
  },
  {
   "cell_type": "code",
   "execution_count": 74,
   "metadata": {},
   "outputs": [],
   "source": [
    "df_final = df_final.with_columns(\n",
    "    json=pl.struct(pl.all()).map_elements(movie_json, return_dtype=str)\n",
    ")"
   ]
  },
  {
   "cell_type": "code",
   "execution_count": 82,
   "metadata": {},
   "outputs": [
    {
     "name": "stdout",
     "output_type": "stream",
     "text": [
      "Rows: 1\n",
      "Columns: 16\n",
      "$ tconst               <str> 'tt0170564'\n",
      "$ titleType            <str> 'movie'\n",
      "$ primaryTitle         <str> 'Seventy Deadly Pills'\n",
      "$ originalTitle        <str> 'Seventy Deadly Pills'\n",
      "$ isAdult              <i64> 0\n",
      "$ startYear            <i64> 1964\n",
      "$ endYear              <str> '\\\\N'\n",
      "$ runtimeMinutes       <str> '55'\n",
      "$ genres               <str> 'Drama,Family'\n",
      "$ averageRating        <f64> 6.6\n",
      "$ numVotes             <i64> 59\n",
      "$ actor_name     <list[str]> ['Gareth Robinson', 'Len Jones', 'John Ross', 'Robert Ferguson', 'Sally Thomsett', 'Linda Hansen', 'Ronnie Johnson', 'Barbara Ashcroft', 'Basil Beale', 'Timothy Bateson', 'Pat Jackson', 'Frank Wells', 'Derick Williams', 'Leon Young', 'Stephen Dade', 'Helen Wiggins']\n",
      "$ actor_role     <list[str]> ['actor', 'actor', 'actor', 'actor', 'actress', 'actress', 'actor', 'actress', 'actor', 'actor', 'director', 'writer', 'producer', 'composer', 'cinematographer', 'editor']\n",
      "$ directors      <list[str]> ['Pat Jackson']\n",
      "$ writers        <list[str]> ['Pat Jackson', 'Frank Wells']\n",
      "$ json                 <str> \"{'title': 'Seventy Deadly Pills', 'genres': ['Drama', 'Family'], 'is_adult': False, 'release_year': 1964, 'runtime_minutes': 55, 'directors': ['Pat Jackson'], 'writers': ['Pat Jackson', 'Frank Wells'], 'actors': [{'Gareth Robinson': 'actor'}, {'Len Jones': 'actor'}, {'John Ross': 'actor'}, {'Robert Ferguson': 'actor'}, {'Sally Thomsett': 'actress'}, {'Linda Hansen': 'actress'}, {'Ronnie Johnson': 'actor'}, {'Barbara Ashcroft': 'actress'}, {'Basil Beale': 'actor'}, {'Timothy Bateson': 'actor'}, {'Pat Jackson': 'director'}, {'Frank Wells': 'writer'}, {'Derick Williams': 'producer'}, {'Leon Young': 'composer'}, {'Stephen Dade': 'cinematographer'}, {'Helen Wiggins': 'editor'}]}\"\n",
      "\n"
     ]
    }
   ],
   "source": [
    "df_final[10000].glimpse()"
   ]
  },
  {
   "cell_type": "code",
   "execution_count": null,
   "metadata": {},
   "outputs": [],
   "source": []
  }
 ],
 "metadata": {
  "kernelspec": {
   "display_name": ".venv",
   "language": "python",
   "name": "python3"
  },
  "language_info": {
   "codemirror_mode": {
    "name": "ipython",
    "version": 3
   },
   "file_extension": ".py",
   "mimetype": "text/x-python",
   "name": "python",
   "nbconvert_exporter": "python",
   "pygments_lexer": "ipython3",
   "version": "3.12.6"
  }
 },
 "nbformat": 4,
 "nbformat_minor": 2
}
