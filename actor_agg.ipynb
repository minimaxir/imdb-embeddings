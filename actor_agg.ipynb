{
 "cells": [
  {
   "cell_type": "code",
   "execution_count": 1,
   "metadata": {},
   "outputs": [],
   "source": [
    "import polars as pl\n",
    "import os\n",
    "import json"
   ]
  },
  {
   "cell_type": "markdown",
   "metadata": {},
   "source": [
    "Reuse the processed dataset since the actors contained will already have been filtered.\n"
   ]
  },
  {
   "cell_type": "code",
   "execution_count": 2,
   "metadata": {},
   "outputs": [
    {
     "data": {
      "text/html": [
       "<div><style>\n",
       ".dataframe > thead > tr,\n",
       ".dataframe > tbody > tr {\n",
       "  text-align: right;\n",
       "  white-space: pre-wrap;\n",
       "}\n",
       "</style>\n",
       "<small>shape: (376_785, 4)</small><table border=\"1\" class=\"dataframe\"><thead><tr><th>tconst</th><th>startYear</th><th>averageRating</th><th>json</th></tr><tr><td>str</td><td>i64</td><td>f64</td><td>str</td></tr></thead><tbody><tr><td>&quot;tt9916730&quot;</td><td>2017</td><td>7.0</td><td>&quot;{&quot;title&quot;:&quot;6 Gunn&quot;,&quot;genres&quot;:[&quot;D…</td></tr><tr><td>&quot;tt9916706&quot;</td><td>2013</td><td>7.7</td><td>&quot;{&quot;title&quot;:&quot;Dankyavar Danka&quot;,&quot;ge…</td></tr><tr><td>&quot;tt9916538&quot;</td><td>2019</td><td>8.3</td><td>&quot;{&quot;title&quot;:&quot;Kuambil Lagi Hatiku&quot;…</td></tr><tr><td>&quot;tt9916460&quot;</td><td>2019</td><td>8.9</td><td>&quot;{&quot;title&quot;:&quot;Pink Taxi&quot;,&quot;genres&quot;:…</td></tr><tr><td>&quot;tt9916428&quot;</td><td>2019</td><td>3.6</td><td>&quot;{&quot;title&quot;:&quot;The Secret of China&quot;…</td></tr><tr><td>&hellip;</td><td>&hellip;</td><td>&hellip;</td><td>&hellip;</td></tr><tr><td>&quot;tt0000591&quot;</td><td>1907</td><td>5.6</td><td>&quot;{&quot;title&quot;:&quot;The Prodigal Son&quot;,&quot;g…</td></tr><tr><td>&quot;tt0000574&quot;</td><td>1906</td><td>6.0</td><td>&quot;{&quot;title&quot;:&quot;The Story of the Kel…</td></tr><tr><td>&quot;tt0000502&quot;</td><td>1905</td><td>4.4</td><td>&quot;{&quot;title&quot;:&quot;Bohemios&quot;,&quot;genres&quot;:n…</td></tr><tr><td>&quot;tt0000147&quot;</td><td>1897</td><td>5.2</td><td>&quot;{&quot;title&quot;:&quot;The Corbett-Fitzsimm…</td></tr><tr><td>&quot;tt0000009&quot;</td><td>1894</td><td>5.4</td><td>&quot;{&quot;title&quot;:&quot;Miss Jerry&quot;,&quot;genres&quot;…</td></tr></tbody></table></div>"
      ],
      "text/plain": [
       "shape: (376_785, 4)\n",
       "┌───────────┬───────────┬───────────────┬─────────────────────────────────┐\n",
       "│ tconst    ┆ startYear ┆ averageRating ┆ json                            │\n",
       "│ ---       ┆ ---       ┆ ---           ┆ ---                             │\n",
       "│ str       ┆ i64       ┆ f64           ┆ str                             │\n",
       "╞═══════════╪═══════════╪═══════════════╪═════════════════════════════════╡\n",
       "│ tt9916730 ┆ 2017      ┆ 7.0           ┆ {\"title\":\"6 Gunn\",\"genres\":[\"D… │\n",
       "│ tt9916706 ┆ 2013      ┆ 7.7           ┆ {\"title\":\"Dankyavar Danka\",\"ge… │\n",
       "│ tt9916538 ┆ 2019      ┆ 8.3           ┆ {\"title\":\"Kuambil Lagi Hatiku\"… │\n",
       "│ tt9916460 ┆ 2019      ┆ 8.9           ┆ {\"title\":\"Pink Taxi\",\"genres\":… │\n",
       "│ tt9916428 ┆ 2019      ┆ 3.6           ┆ {\"title\":\"The Secret of China\"… │\n",
       "│ …         ┆ …         ┆ …             ┆ …                               │\n",
       "│ tt0000591 ┆ 1907      ┆ 5.6           ┆ {\"title\":\"The Prodigal Son\",\"g… │\n",
       "│ tt0000574 ┆ 1906      ┆ 6.0           ┆ {\"title\":\"The Story of the Kel… │\n",
       "│ tt0000502 ┆ 1905      ┆ 4.4           ┆ {\"title\":\"Bohemios\",\"genres\":n… │\n",
       "│ tt0000147 ┆ 1897      ┆ 5.2           ┆ {\"title\":\"The Corbett-Fitzsimm… │\n",
       "│ tt0000009 ┆ 1894      ┆ 5.4           ┆ {\"title\":\"Miss Jerry\",\"genres\"… │\n",
       "└───────────┴───────────┴───────────────┴─────────────────────────────────┘"
      ]
     },
     "execution_count": 2,
     "metadata": {},
     "output_type": "execute_result"
    }
   ],
   "source": [
    "data_dir = \"/Users/maxwoolf/Downloads\"\n",
    "\n",
    "df = pl.read_parquet(\n",
    "    os.path.join(data_dir, \"test_movie_json_input.parquet\"),\n",
    ")\n",
    "\n",
    "df"
   ]
  },
  {
   "cell_type": "markdown",
   "metadata": {},
   "source": [
    "...but will need to process the JSON again. https://stackoverflow.com/a/73129057\n",
    "\n",
    "The JSON is extracted as a `str` so must be converted to a `List[str]`. Which can be hacked with `json_decode()`\n"
   ]
  },
  {
   "cell_type": "code",
   "execution_count": 35,
   "metadata": {},
   "outputs": [
    {
     "data": {
      "text/html": [
       "<div><style>\n",
       ".dataframe > thead > tr,\n",
       ".dataframe > tbody > tr {\n",
       "  text-align: right;\n",
       "  white-space: pre-wrap;\n",
       "}\n",
       "</style>\n",
       "<small>shape: (5, 1)</small><table border=\"1\" class=\"dataframe\"><thead><tr><th>actors</th></tr><tr><td>list[str]</td></tr></thead><tbody><tr><td>[&quot;Devadhar Archit&quot;, &quot;Sunil Barve&quot;, … &quot;Atul Todankar&quot;]</td></tr><tr><td>[&quot;Makarand Anaspure&quot;, &quot;Anvay Bendre&quot;, … &quot;Pravin Tarde&quot;]</td></tr><tr><td>[&quot;Lala Karmela&quot;, &quot;Cut Mini Theo&quot;, … &quot;Marwoto&quot;]</td></tr><tr><td>[&quot;Argiris Tafralidis&quot;, &quot;Christina Tafralidou&quot;, … &quot;Giorgos Vezirgiannidis&quot;]</td></tr><tr><td>[&quot;Kenan Heppe&quot;, &quot;Wang Peng Kai&quot;, … &quot;Shenyang Xiao&quot;]</td></tr></tbody></table></div>"
      ],
      "text/plain": [
       "shape: (5, 1)\n",
       "┌─────────────────────────────────┐\n",
       "│ actors                          │\n",
       "│ ---                             │\n",
       "│ list[str]                       │\n",
       "╞═════════════════════════════════╡\n",
       "│ [\"Devadhar Archit\", \"Sunil Bar… │\n",
       "│ [\"Makarand Anaspure\", \"Anvay B… │\n",
       "│ [\"Lala Karmela\", \"Cut Mini The… │\n",
       "│ [\"Argiris Tafralidis\", \"Christ… │\n",
       "│ [\"Kenan Heppe\", \"Wang Peng Kai… │\n",
       "└─────────────────────────────────┘"
      ]
     },
     "execution_count": 35,
     "metadata": {},
     "output_type": "execute_result"
    }
   ],
   "source": [
    "df_actors_test = (\n",
    "    df.head(5)\n",
    "    .with_columns(\n",
    "        actors=pl.col(\"json\").str.json_path_match(r\"$.actors\").str.json_decode()\n",
    "    )\n",
    "    .select(pl.col(\"actors\"))\n",
    ")\n",
    "\n",
    "df_actors_test"
   ]
  },
  {
   "cell_type": "markdown",
   "metadata": {},
   "source": [
    "Run on the full set, and simultaneously aggregate metrics.\n"
   ]
  },
  {
   "cell_type": "code",
   "execution_count": 40,
   "metadata": {},
   "outputs": [
    {
     "data": {
      "text/html": [
       "<div><style>\n",
       ".dataframe > thead > tr,\n",
       ".dataframe > tbody > tr {\n",
       "  text-align: right;\n",
       "  white-space: pre-wrap;\n",
       "}\n",
       "</style>\n",
       "<small>shape: (857_204, 3)</small><table border=\"1\" class=\"dataframe\"><thead><tr><th>actors</th><th>movie_count</th><th>avg_movie_rating</th></tr><tr><td>str</td><td>u32</td><td>f64</td></tr></thead><tbody><tr><td>&quot;Brahmanandam&quot;</td><td>810</td><td>5.946296</td></tr><tr><td>&quot;Jagathy Sreekumar&quot;</td><td>532</td><td>5.597556</td></tr><tr><td>&quot;Shakti Kapoor&quot;</td><td>486</td><td>5.215844</td></tr><tr><td>&quot;Eric Roberts&quot;</td><td>449</td><td>4.816927</td></tr><tr><td>&quot;Mammootty&quot;</td><td>417</td><td>6.4</td></tr><tr><td>&hellip;</td><td>&hellip;</td><td>&hellip;</td></tr><tr><td>&quot;Mark Dancewicz&quot;</td><td>1</td><td>5.1</td></tr><tr><td>&quot;Ramon Magsaysay&quot;</td><td>1</td><td>6.3</td></tr><tr><td>&quot;Delly Malik Muharyoso&quot;</td><td>1</td><td>6.6</td></tr><tr><td>&quot;Gordon White&quot;</td><td>1</td><td>8.1</td></tr><tr><td>&quot;Kit Carson&quot;</td><td>1</td><td>8.0</td></tr></tbody></table></div>"
      ],
      "text/plain": [
       "shape: (857_204, 3)\n",
       "┌───────────────────────┬─────────────┬──────────────────┐\n",
       "│ actors                ┆ movie_count ┆ avg_movie_rating │\n",
       "│ ---                   ┆ ---         ┆ ---              │\n",
       "│ str                   ┆ u32         ┆ f64              │\n",
       "╞═══════════════════════╪═════════════╪══════════════════╡\n",
       "│ Brahmanandam          ┆ 810         ┆ 5.946296         │\n",
       "│ Jagathy Sreekumar     ┆ 532         ┆ 5.597556         │\n",
       "│ Shakti Kapoor         ┆ 486         ┆ 5.215844         │\n",
       "│ Eric Roberts          ┆ 449         ┆ 4.816927         │\n",
       "│ Mammootty             ┆ 417         ┆ 6.4              │\n",
       "│ …                     ┆ …           ┆ …                │\n",
       "│ Mark Dancewicz        ┆ 1           ┆ 5.1              │\n",
       "│ Ramon Magsaysay       ┆ 1           ┆ 6.3              │\n",
       "│ Delly Malik Muharyoso ┆ 1           ┆ 6.6              │\n",
       "│ Gordon White          ┆ 1           ┆ 8.1              │\n",
       "│ Kit Carson            ┆ 1           ┆ 8.0              │\n",
       "└───────────────────────┴─────────────┴──────────────────┘"
      ]
     },
     "execution_count": 40,
     "metadata": {},
     "output_type": "execute_result"
    }
   ],
   "source": [
    "df_actors = (\n",
    "    df.with_columns(\n",
    "        actors=pl.col(\"json\").str.json_path_match(r\"$.actors\").str.json_decode()\n",
    "    )\n",
    "    .explode(\"actors\")\n",
    "    .filter(pl.col(\"actors\").is_not_null())\n",
    "    .group_by(\"actors\")\n",
    "    .agg(\n",
    "        movie_count=pl.col(\"actors\").len(),\n",
    "        avg_movie_rating=pl.col(\"averageRating\").mean(),\n",
    "    )\n",
    "    .sort(\"movie_count\", descending=True)\n",
    ")\n",
    "\n",
    "df_actors"
   ]
  },
  {
   "cell_type": "code",
   "execution_count": 49,
   "metadata": {},
   "outputs": [
    {
     "data": {
      "text/plain": [
       "[{'actors': 'Brahmanandam',\n",
       "  'movie_count': 810,\n",
       "  'avg_movie_rating': 5.946296296296295},\n",
       " {'actors': 'Jagathy Sreekumar',\n",
       "  'movie_count': 532,\n",
       "  'avg_movie_rating': 5.597556390977438},\n",
       " {'actors': 'Shakti Kapoor',\n",
       "  'movie_count': 486,\n",
       "  'avg_movie_rating': 5.215843621399179},\n",
       " {'actors': 'Eric Roberts',\n",
       "  'movie_count': 449,\n",
       "  'avg_movie_rating': 4.816926503340759},\n",
       " {'actors': 'Mammootty',\n",
       "  'movie_count': 417,\n",
       "  'avg_movie_rating': 6.3999999999999995},\n",
       " {'actors': 'Mohammad Ali',\n",
       "  'movie_count': 379,\n",
       "  'avg_movie_rating': 5.6255936675461715},\n",
       " {'actors': 'Mohanlal',\n",
       "  'movie_count': 378,\n",
       "  'avg_movie_rating': 6.337830687830692},\n",
       " {'actors': 'Nassar',\n",
       "  'movie_count': 378,\n",
       "  'avg_movie_rating': 6.119312169312167},\n",
       " {'actors': 'Aruna Irani',\n",
       "  'movie_count': 377,\n",
       "  'avg_movie_rating': 5.737665782493368},\n",
       " {'actors': 'Mithun Chakraborty',\n",
       "  'movie_count': 376,\n",
       "  'avg_movie_rating': 5.754255319148937}]"
      ]
     },
     "execution_count": 49,
     "metadata": {},
     "output_type": "execute_result"
    }
   ],
   "source": [
    "df_actors.head(10).rows(named=True)"
   ]
  },
  {
   "cell_type": "code",
   "execution_count": 45,
   "metadata": {},
   "outputs": [
    {
     "data": {
      "text/html": [
       "<div><style>\n",
       ".dataframe > thead > tr,\n",
       ".dataframe > tbody > tr {\n",
       "  text-align: right;\n",
       "  white-space: pre-wrap;\n",
       "}\n",
       "</style>\n",
       "<small>shape: (1, 3)</small><table border=\"1\" class=\"dataframe\"><thead><tr><th>actors</th><th>movie_count</th><th>avg_movie_rating</th></tr><tr><td>str</td><td>u32</td><td>f64</td></tr></thead><tbody><tr><td>&quot;Keanu Reeves&quot;</td><td>69</td><td>6.275362</td></tr></tbody></table></div>"
      ],
      "text/plain": [
       "shape: (1, 3)\n",
       "┌──────────────┬─────────────┬──────────────────┐\n",
       "│ actors       ┆ movie_count ┆ avg_movie_rating │\n",
       "│ ---          ┆ ---         ┆ ---              │\n",
       "│ str          ┆ u32         ┆ f64              │\n",
       "╞══════════════╪═════════════╪══════════════════╡\n",
       "│ Keanu Reeves ┆ 69          ┆ 6.275362         │\n",
       "└──────────────┴─────────────┴──────────────────┘"
      ]
     },
     "execution_count": 45,
     "metadata": {},
     "output_type": "execute_result"
    }
   ],
   "source": [
    "df_actors.filter(pl.col(\"actors\") == \"Keanu Reeves\")"
   ]
  },
  {
   "cell_type": "markdown",
   "metadata": {},
   "source": [
    "Per Reeves' IMDb, he has acted (at time of writing) in [78 movies](https://www.imdb.com/name/nm0000206/?ref_=nv_sr_srsg_0_tt_7_nm_1_in_0_q_keanu%2520reeves) w/ a rating, so this is close but may not be comprehensive.\n"
   ]
  }
 ],
 "metadata": {
  "kernelspec": {
   "display_name": ".venv",
   "language": "python",
   "name": "python3"
  },
  "language_info": {
   "codemirror_mode": {
    "name": "ipython",
    "version": 3
   },
   "file_extension": ".py",
   "mimetype": "text/x-python",
   "name": "python",
   "nbconvert_exporter": "python",
   "pygments_lexer": "ipython3",
   "version": "3.13.1"
  }
 },
 "nbformat": 4,
 "nbformat_minor": 2
}
