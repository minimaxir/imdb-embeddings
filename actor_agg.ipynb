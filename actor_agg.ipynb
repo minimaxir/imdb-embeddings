{
 "cells": [
  {
   "cell_type": "code",
   "execution_count": 1,
   "metadata": {},
   "outputs": [],
   "source": [
    "import polars as pl\n",
    "import os\n",
    "import json"
   ]
  },
  {
   "cell_type": "markdown",
   "metadata": {},
   "source": [
    "Reuse the processed dataset since the actors contained will already have been filtered.\n"
   ]
  },
  {
   "cell_type": "code",
   "execution_count": 2,
   "metadata": {},
   "outputs": [
    {
     "data": {
      "text/html": [
       "<div><style>\n",
       ".dataframe > thead > tr,\n",
       ".dataframe > tbody > tr {\n",
       "  text-align: right;\n",
       "  white-space: pre-wrap;\n",
       "}\n",
       "</style>\n",
       "<small>shape: (242_552, 5)</small><table border=\"1\" class=\"dataframe\"><thead><tr><th>tconst</th><th>startYear</th><th>numVotes</th><th>averageRating</th><th>json</th></tr><tr><td>str</td><td>i64</td><td>i64</td><td>f64</td><td>str</td></tr></thead><tbody><tr><td>&quot;tt9916362&quot;</td><td>2020</td><td>6039</td><td>6.4</td><td>&quot;{\n",
       "&nbsp;&nbsp;&quot;title&quot;: &quot;Coven&quot;,\n",
       "&nbsp;&nbsp;&quot;genre…</td></tr><tr><td>&quot;tt9916270&quot;</td><td>2020</td><td>1507</td><td>5.8</td><td>&quot;{\n",
       "&nbsp;&nbsp;&quot;title&quot;: &quot;Il talento del c…</td></tr><tr><td>&quot;tt9916190&quot;</td><td>2020</td><td>263</td><td>3.6</td><td>&quot;{\n",
       "&nbsp;&nbsp;&quot;title&quot;: &quot;Safeguard&quot;,\n",
       "&nbsp;&nbsp;&quot;g…</td></tr><tr><td>&quot;tt9916160&quot;</td><td>2019</td><td>52</td><td>6.2</td><td>&quot;{\n",
       "&nbsp;&nbsp;&quot;title&quot;: &quot;Drømmeland&quot;,\n",
       "&nbsp;&nbsp;&quot;…</td></tr><tr><td>&quot;tt9915790&quot;</td><td>2019</td><td>45</td><td>7.0</td><td>&quot;{\n",
       "&nbsp;&nbsp;&quot;title&quot;: &quot;Bobbyr Bondhura&quot;…</td></tr><tr><td>&hellip;</td><td>&hellip;</td><td>&hellip;</td><td>&hellip;</td><td>&hellip;</td></tr><tr><td>&quot;tt0000630&quot;</td><td>1908</td><td>33</td><td>3.2</td><td>&quot;{\n",
       "&nbsp;&nbsp;&quot;title&quot;: &quot;Hamlet&quot;,\n",
       "&nbsp;&nbsp;&quot;genr…</td></tr><tr><td>&quot;tt0000591&quot;</td><td>1907</td><td>31</td><td>5.6</td><td>&quot;{\n",
       "&nbsp;&nbsp;&quot;title&quot;: &quot;The Prodigal Son…</td></tr><tr><td>&quot;tt0000574&quot;</td><td>1906</td><td>985</td><td>6.0</td><td>&quot;{\n",
       "&nbsp;&nbsp;&quot;title&quot;: &quot;The Story of the…</td></tr><tr><td>&quot;tt0000147&quot;</td><td>1897</td><td>558</td><td>5.3</td><td>&quot;{\n",
       "&nbsp;&nbsp;&quot;title&quot;: &quot;The Corbett-Fitz…</td></tr><tr><td>&quot;tt0000009&quot;</td><td>1894</td><td>224</td><td>5.4</td><td>&quot;{\n",
       "&nbsp;&nbsp;&quot;title&quot;: &quot;Miss Jerry&quot;,\n",
       "&nbsp;&nbsp;&quot;…</td></tr></tbody></table></div>"
      ],
      "text/plain": [
       "shape: (242_552, 5)\n",
       "┌───────────┬───────────┬──────────┬───────────────┬───────────────────────────────┐\n",
       "│ tconst    ┆ startYear ┆ numVotes ┆ averageRating ┆ json                          │\n",
       "│ ---       ┆ ---       ┆ ---      ┆ ---           ┆ ---                           │\n",
       "│ str       ┆ i64       ┆ i64      ┆ f64           ┆ str                           │\n",
       "╞═══════════╪═══════════╪══════════╪═══════════════╪═══════════════════════════════╡\n",
       "│ tt9916362 ┆ 2020      ┆ 6039     ┆ 6.4           ┆ {                             │\n",
       "│           ┆           ┆          ┆               ┆   \"title\": \"Coven\",           │\n",
       "│           ┆           ┆          ┆               ┆   \"genre…                     │\n",
       "│ tt9916270 ┆ 2020      ┆ 1507     ┆ 5.8           ┆ {                             │\n",
       "│           ┆           ┆          ┆               ┆   \"title\": \"Il talento del c… │\n",
       "│ tt9916190 ┆ 2020      ┆ 263      ┆ 3.6           ┆ {                             │\n",
       "│           ┆           ┆          ┆               ┆   \"title\": \"Safeguard\",       │\n",
       "│           ┆           ┆          ┆               ┆   \"g…                         │\n",
       "│ tt9916160 ┆ 2019      ┆ 52       ┆ 6.2           ┆ {                             │\n",
       "│           ┆           ┆          ┆               ┆   \"title\": \"Drømmeland\",      │\n",
       "│           ┆           ┆          ┆               ┆   \"…                          │\n",
       "│ tt9915790 ┆ 2019      ┆ 45       ┆ 7.0           ┆ {                             │\n",
       "│           ┆           ┆          ┆               ┆   \"title\": \"Bobbyr Bondhura\"… │\n",
       "│ …         ┆ …         ┆ …        ┆ …             ┆ …                             │\n",
       "│ tt0000630 ┆ 1908      ┆ 33       ┆ 3.2           ┆ {                             │\n",
       "│           ┆           ┆          ┆               ┆   \"title\": \"Hamlet\",          │\n",
       "│           ┆           ┆          ┆               ┆   \"genr…                      │\n",
       "│ tt0000591 ┆ 1907      ┆ 31       ┆ 5.6           ┆ {                             │\n",
       "│           ┆           ┆          ┆               ┆   \"title\": \"The Prodigal Son… │\n",
       "│ tt0000574 ┆ 1906      ┆ 985      ┆ 6.0           ┆ {                             │\n",
       "│           ┆           ┆          ┆               ┆   \"title\": \"The Story of the… │\n",
       "│ tt0000147 ┆ 1897      ┆ 558      ┆ 5.3           ┆ {                             │\n",
       "│           ┆           ┆          ┆               ┆   \"title\": \"The Corbett-Fitz… │\n",
       "│ tt0000009 ┆ 1894      ┆ 224      ┆ 5.4           ┆ {                             │\n",
       "│           ┆           ┆          ┆               ┆   \"title\": \"Miss Jerry\",      │\n",
       "│           ┆           ┆          ┆               ┆   \"…                          │\n",
       "└───────────┴───────────┴──────────┴───────────────┴───────────────────────────────┘"
      ]
     },
     "execution_count": 2,
     "metadata": {},
     "output_type": "execute_result"
    }
   ],
   "source": [
    "data_dir = \"/Users/maxwoolf/Downloads\"\n",
    "\n",
    "df = pl.read_parquet(\n",
    "    os.path.join(data_dir, \"test_movie_json_input.parquet\"),\n",
    ")\n",
    "\n",
    "df"
   ]
  },
  {
   "cell_type": "markdown",
   "metadata": {},
   "source": [
    "...but will need to process the JSON again. https://stackoverflow.com/a/73129057\n",
    "\n",
    "The JSON is extracted as a `str` so must be converted to a `List[str]`. Which can be hacked with `json_decode()`\n"
   ]
  },
  {
   "cell_type": "code",
   "execution_count": 3,
   "metadata": {},
   "outputs": [
    {
     "data": {
      "text/html": [
       "<div><style>\n",
       ".dataframe > thead > tr,\n",
       ".dataframe > tbody > tr {\n",
       "  text-align: right;\n",
       "  white-space: pre-wrap;\n",
       "}\n",
       "</style>\n",
       "<small>shape: (5, 1)</small><table border=\"1\" class=\"dataframe\"><thead><tr><th>actors</th></tr><tr><td>list[str]</td></tr></thead><tbody><tr><td>[&quot;Amaia Aberasturi&quot;, &quot;Alex Brendemühl&quot;, … &quot;Elena Uriz&quot;]</td></tr><tr><td>[&quot;Sergio Castellitto&quot;, &quot;Lorenzo Richelmy&quot;, … &quot;Bianca Friscelli&quot;]</td></tr><tr><td>[&quot;Patrick Gallagher&quot;, &quot;Akie Kotabe&quot;, … &quot;Yuriri Naka&quot;]</td></tr><tr><td>[]</td></tr><tr><td>[&quot;Kaushik Sen&quot;, &quot;Sreelekha Mitra&quot;, … &quot;Bhaswar Chatterjee&quot;]</td></tr></tbody></table></div>"
      ],
      "text/plain": [
       "shape: (5, 1)\n",
       "┌─────────────────────────────────┐\n",
       "│ actors                          │\n",
       "│ ---                             │\n",
       "│ list[str]                       │\n",
       "╞═════════════════════════════════╡\n",
       "│ [\"Amaia Aberasturi\", \"Alex Bre… │\n",
       "│ [\"Sergio Castellitto\", \"Lorenz… │\n",
       "│ [\"Patrick Gallagher\", \"Akie Ko… │\n",
       "│ []                              │\n",
       "│ [\"Kaushik Sen\", \"Sreelekha Mit… │\n",
       "└─────────────────────────────────┘"
      ]
     },
     "execution_count": 3,
     "metadata": {},
     "output_type": "execute_result"
    }
   ],
   "source": [
    "df_actors_test = (\n",
    "    df.head(5)\n",
    "    .with_columns(\n",
    "        actors=pl.col(\"json\").str.json_path_match(r\"$.actors\").str.json_decode()\n",
    "    )\n",
    "    .select(pl.col(\"actors\"))\n",
    ")\n",
    "\n",
    "df_actors_test"
   ]
  },
  {
   "cell_type": "markdown",
   "metadata": {},
   "source": [
    "Run on the full set, and simultaneously aggregate metrics.\n"
   ]
  },
  {
   "cell_type": "code",
   "execution_count": 4,
   "metadata": {},
   "outputs": [
    {
     "data": {
      "text/html": [
       "<div><style>\n",
       ".dataframe > thead > tr,\n",
       ".dataframe > tbody > tr {\n",
       "  text-align: right;\n",
       "  white-space: pre-wrap;\n",
       "}\n",
       "</style>\n",
       "<small>shape: (624_556, 3)</small><table border=\"1\" class=\"dataframe\"><thead><tr><th>actors</th><th>movie_count</th><th>avg_movie_rating</th></tr><tr><td>str</td><td>u32</td><td>f64</td></tr></thead><tbody><tr><td>&quot;Brahmanandam&quot;</td><td>572</td><td>5.992657</td></tr><tr><td>&quot;Eric Roberts&quot;</td><td>410</td><td>4.65122</td></tr><tr><td>&quot;Jagathy Sreekumar&quot;</td><td>367</td><td>5.819074</td></tr><tr><td>&quot;Shakti Kapoor&quot;</td><td>338</td><td>5.171302</td></tr><tr><td>&quot;Anupam Kher&quot;</td><td>331</td><td>5.532024</td></tr><tr><td>&hellip;</td><td>&hellip;</td><td>&hellip;</td></tr><tr><td>&quot;Thodoros Papadopoulos&quot;</td><td>1</td><td>6.1</td></tr><tr><td>&quot;Anna Sniadówka&quot;</td><td>1</td><td>5.6</td></tr><tr><td>&quot;Tate Ryder&quot;</td><td>1</td><td>5.2</td></tr><tr><td>&quot;Bartosz Hajncz&quot;</td><td>1</td><td>6.4</td></tr><tr><td>&quot;Halima Benhamed&quot;</td><td>1</td><td>6.6</td></tr></tbody></table></div>"
      ],
      "text/plain": [
       "shape: (624_556, 3)\n",
       "┌───────────────────────┬─────────────┬──────────────────┐\n",
       "│ actors                ┆ movie_count ┆ avg_movie_rating │\n",
       "│ ---                   ┆ ---         ┆ ---              │\n",
       "│ str                   ┆ u32         ┆ f64              │\n",
       "╞═══════════════════════╪═════════════╪══════════════════╡\n",
       "│ Brahmanandam          ┆ 572         ┆ 5.992657         │\n",
       "│ Eric Roberts          ┆ 410         ┆ 4.65122          │\n",
       "│ Jagathy Sreekumar     ┆ 367         ┆ 5.819074         │\n",
       "│ Shakti Kapoor         ┆ 338         ┆ 5.171302         │\n",
       "│ Anupam Kher           ┆ 331         ┆ 5.532024         │\n",
       "│ …                     ┆ …           ┆ …                │\n",
       "│ Thodoros Papadopoulos ┆ 1           ┆ 6.1              │\n",
       "│ Anna Sniadówka        ┆ 1           ┆ 5.6              │\n",
       "│ Tate Ryder            ┆ 1           ┆ 5.2              │\n",
       "│ Bartosz Hajncz        ┆ 1           ┆ 6.4              │\n",
       "│ Halima Benhamed       ┆ 1           ┆ 6.6              │\n",
       "└───────────────────────┴─────────────┴──────────────────┘"
      ]
     },
     "execution_count": 4,
     "metadata": {},
     "output_type": "execute_result"
    }
   ],
   "source": [
    "df_actors = (\n",
    "    df.with_columns(\n",
    "        actors=pl.col(\"json\").str.json_path_match(r\"$.actors\").str.json_decode()\n",
    "    )\n",
    "    .explode(\"actors\")\n",
    "    .filter(pl.col(\"actors\").is_not_null())\n",
    "    .group_by(\"actors\")\n",
    "    .agg(\n",
    "        movie_count=pl.col(\"actors\").len(),\n",
    "        avg_movie_rating=pl.col(\"averageRating\").mean(),\n",
    "    )\n",
    "    .sort(\"movie_count\", descending=True)\n",
    ")\n",
    "\n",
    "df_actors"
   ]
  },
  {
   "cell_type": "code",
   "execution_count": 5,
   "metadata": {},
   "outputs": [
    {
     "data": {
      "text/html": [
       "<div><style>\n",
       ".dataframe > thead > tr,\n",
       ".dataframe > tbody > tr {\n",
       "  text-align: right;\n",
       "  white-space: pre-wrap;\n",
       "}\n",
       "</style>\n",
       "<small>shape: (1, 3)</small><table border=\"1\" class=\"dataframe\"><thead><tr><th>actors</th><th>movie_count</th><th>avg_movie_rating</th></tr><tr><td>str</td><td>u32</td><td>f64</td></tr></thead><tbody><tr><td>&quot;Keanu Reeves&quot;</td><td>69</td><td>6.266667</td></tr></tbody></table></div>"
      ],
      "text/plain": [
       "shape: (1, 3)\n",
       "┌──────────────┬─────────────┬──────────────────┐\n",
       "│ actors       ┆ movie_count ┆ avg_movie_rating │\n",
       "│ ---          ┆ ---         ┆ ---              │\n",
       "│ str          ┆ u32         ┆ f64              │\n",
       "╞══════════════╪═════════════╪══════════════════╡\n",
       "│ Keanu Reeves ┆ 69          ┆ 6.266667         │\n",
       "└──────────────┴─────────────┴──────────────────┘"
      ]
     },
     "execution_count": 5,
     "metadata": {},
     "output_type": "execute_result"
    }
   ],
   "source": [
    "df_actors.filter(pl.col(\"actors\") == \"Keanu Reeves\")"
   ]
  },
  {
   "cell_type": "markdown",
   "metadata": {},
   "source": [
    "Per Reeves' IMDb, after filtering for Movies only, he has acted (at time of writing) in [85 movies](https://www.imdb.com/name/nm0000206/?ref_=nv_sr_srsg_0_tt_7_nm_1_in_0_q_keanu%2520reeves) w/ a rating, so this is close but may not be comprehensive / some movies may be filtered out due to lack of votes.\n"
   ]
  },
  {
   "cell_type": "markdown",
   "metadata": {},
   "source": [
    "## Write to File for Data Viz\n"
   ]
  },
  {
   "cell_type": "code",
   "execution_count": 6,
   "metadata": {},
   "outputs": [],
   "source": [
    "df_actors.write_parquet(os.path.join(data_dir, \"actor_agg.parquet\"))"
   ]
  }
 ],
 "metadata": {
  "kernelspec": {
   "display_name": "imdb-embeddings",
   "language": "python",
   "name": "python3"
  },
  "language_info": {
   "codemirror_mode": {
    "name": "ipython",
    "version": 3
   },
   "file_extension": ".py",
   "mimetype": "text/x-python",
   "name": "python",
   "nbconvert_exporter": "python",
   "pygments_lexer": "ipython3",
   "version": "3.13.1"
  }
 },
 "nbformat": 4,
 "nbformat_minor": 2
}
